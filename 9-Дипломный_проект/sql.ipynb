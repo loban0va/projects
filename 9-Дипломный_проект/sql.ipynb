{
 "cells": [
  {
   "cell_type": "markdown",
   "metadata": {},
   "source": [
    "# Приложение для тех, кто любит читать."
   ]
  },
  {
   "cell_type": "markdown",
   "metadata": {},
   "source": [
    "**Коронавирус застал мир врасплох, изменив привычный порядок вещей. В свободное время жители городов больше не выходят на улицу, не посещают кафе и торговые центры. Зато стало больше времени для книг. Это заметили стартаперы — и бросились создавать приложения для тех, кто любит читать.**\n",
    "\n",
    "### Цели исследования - сформулировать ценностное предложение для нового продукта."
   ]
  },
  {
   "cell_type": "markdown",
   "metadata": {},
   "source": [
    "## Подготовка данных и краткий обзор"
   ]
  },
  {
   "cell_type": "code",
   "execution_count": 1,
   "metadata": {},
   "outputs": [],
   "source": [
    "#pip install sqlalchemy\n",
    "#pip install pycopyg2-binary"
   ]
  },
  {
   "cell_type": "code",
   "execution_count": 2,
   "metadata": {
    "scrolled": true
   },
   "outputs": [
    {
     "data": {
      "text/html": [
       "<div>\n",
       "<style scoped>\n",
       "    .dataframe tbody tr th:only-of-type {\n",
       "        vertical-align: middle;\n",
       "    }\n",
       "\n",
       "    .dataframe tbody tr th {\n",
       "        vertical-align: top;\n",
       "    }\n",
       "\n",
       "    .dataframe thead th {\n",
       "        text-align: right;\n",
       "    }\n",
       "</style>\n",
       "<table border=\"1\" class=\"dataframe\">\n",
       "  <thead>\n",
       "    <tr style=\"text-align: right;\">\n",
       "      <th></th>\n",
       "      <th>book_id</th>\n",
       "      <th>author_id</th>\n",
       "      <th>title</th>\n",
       "      <th>num_pages</th>\n",
       "      <th>publication_date</th>\n",
       "      <th>publisher_id</th>\n",
       "    </tr>\n",
       "  </thead>\n",
       "  <tbody>\n",
       "    <tr>\n",
       "      <th>0</th>\n",
       "      <td>1</td>\n",
       "      <td>546</td>\n",
       "      <td>'Salem's Lot</td>\n",
       "      <td>594</td>\n",
       "      <td>2005-11-01</td>\n",
       "      <td>93</td>\n",
       "    </tr>\n",
       "    <tr>\n",
       "      <th>1</th>\n",
       "      <td>2</td>\n",
       "      <td>465</td>\n",
       "      <td>1 000 Places to See Before You Die</td>\n",
       "      <td>992</td>\n",
       "      <td>2003-05-22</td>\n",
       "      <td>336</td>\n",
       "    </tr>\n",
       "    <tr>\n",
       "      <th>2</th>\n",
       "      <td>3</td>\n",
       "      <td>407</td>\n",
       "      <td>13 Little Blue Envelopes (Little Blue Envelope...</td>\n",
       "      <td>322</td>\n",
       "      <td>2010-12-21</td>\n",
       "      <td>135</td>\n",
       "    </tr>\n",
       "    <tr>\n",
       "      <th>3</th>\n",
       "      <td>4</td>\n",
       "      <td>82</td>\n",
       "      <td>1491: New Revelations of the Americas Before C...</td>\n",
       "      <td>541</td>\n",
       "      <td>2006-10-10</td>\n",
       "      <td>309</td>\n",
       "    </tr>\n",
       "    <tr>\n",
       "      <th>4</th>\n",
       "      <td>5</td>\n",
       "      <td>125</td>\n",
       "      <td>1776</td>\n",
       "      <td>386</td>\n",
       "      <td>2006-07-04</td>\n",
       "      <td>268</td>\n",
       "    </tr>\n",
       "  </tbody>\n",
       "</table>\n",
       "</div>"
      ],
      "text/plain": [
       "   book_id  author_id                                              title  \\\n",
       "0        1        546                                       'Salem's Lot   \n",
       "1        2        465                 1 000 Places to See Before You Die   \n",
       "2        3        407  13 Little Blue Envelopes (Little Blue Envelope...   \n",
       "3        4         82  1491: New Revelations of the Americas Before C...   \n",
       "4        5        125                                               1776   \n",
       "\n",
       "   num_pages publication_date  publisher_id  \n",
       "0        594       2005-11-01            93  \n",
       "1        992       2003-05-22           336  \n",
       "2        322       2010-12-21           135  \n",
       "3        541       2006-10-10           309  \n",
       "4        386       2006-07-04           268  "
      ]
     },
     "execution_count": 2,
     "metadata": {},
     "output_type": "execute_result"
    }
   ],
   "source": [
    "# импортируем библиотеки\n",
    "import pandas as pd\n",
    "from sqlalchemy import text, create_engine\n",
    "\n",
    "# устанавливаем параметры\n",
    "db_config = {'user': 'praktikum_student', # имя пользователя\n",
    "    'pwd': 'my_pass', # пароль\n",
    "    'host': 'rc1b-wcoijxj3yxfsf3fs.mdb.yandexcloud.net',\n",
    "    'port': 6432, # порт подключения\n",
    "    'db': 'data-analyst-final-project-db'} # название базы данных\n",
    "connection_string = 'postgresql://{user}:{pwd}@{host}:{port}/{db}'.format(**db_config)\n",
    "\n",
    "# сохраняем коннектор\n",
    "engine = create_engine(connection_string, connect_args={'sslmode':'require'})\n",
    "\n",
    "# чтобы выполнить SQL-запрос, используем Pandas\n",
    "query = '''SELECT * FROM books LIMIT 5'''\n",
    "\n",
    "con=engine.connect()\n",
    "\n",
    "pd.io.sql.read_sql(sql=text(query), con = con)"
   ]
  },
  {
   "cell_type": "code",
   "execution_count": 3,
   "metadata": {},
   "outputs": [
    {
     "data": {
      "text/html": [
       "<div>\n",
       "<style scoped>\n",
       "    .dataframe tbody tr th:only-of-type {\n",
       "        vertical-align: middle;\n",
       "    }\n",
       "\n",
       "    .dataframe tbody tr th {\n",
       "        vertical-align: top;\n",
       "    }\n",
       "\n",
       "    .dataframe thead th {\n",
       "        text-align: right;\n",
       "    }\n",
       "</style>\n",
       "<table border=\"1\" class=\"dataframe\">\n",
       "  <thead>\n",
       "    <tr style=\"text-align: right;\">\n",
       "      <th></th>\n",
       "      <th>schemaname</th>\n",
       "      <th>tablename</th>\n",
       "      <th>tableowner</th>\n",
       "      <th>tablespace</th>\n",
       "      <th>hasindexes</th>\n",
       "      <th>hasrules</th>\n",
       "      <th>hastriggers</th>\n",
       "      <th>rowsecurity</th>\n",
       "    </tr>\n",
       "  </thead>\n",
       "  <tbody>\n",
       "    <tr>\n",
       "      <th>0</th>\n",
       "      <td>public</td>\n",
       "      <td>orders</td>\n",
       "      <td>praktikum_admin</td>\n",
       "      <td>None</td>\n",
       "      <td>True</td>\n",
       "      <td>False</td>\n",
       "      <td>False</td>\n",
       "      <td>False</td>\n",
       "    </tr>\n",
       "    <tr>\n",
       "      <th>1</th>\n",
       "      <td>public</td>\n",
       "      <td>visits</td>\n",
       "      <td>praktikum_admin</td>\n",
       "      <td>None</td>\n",
       "      <td>True</td>\n",
       "      <td>False</td>\n",
       "      <td>False</td>\n",
       "      <td>False</td>\n",
       "    </tr>\n",
       "    <tr>\n",
       "      <th>2</th>\n",
       "      <td>public</td>\n",
       "      <td>advertisment_costs</td>\n",
       "      <td>praktikum_admin</td>\n",
       "      <td>None</td>\n",
       "      <td>True</td>\n",
       "      <td>False</td>\n",
       "      <td>False</td>\n",
       "      <td>False</td>\n",
       "    </tr>\n",
       "    <tr>\n",
       "      <th>3</th>\n",
       "      <td>public</td>\n",
       "      <td>authors</td>\n",
       "      <td>praktikum_admin</td>\n",
       "      <td>None</td>\n",
       "      <td>True</td>\n",
       "      <td>False</td>\n",
       "      <td>True</td>\n",
       "      <td>False</td>\n",
       "    </tr>\n",
       "    <tr>\n",
       "      <th>4</th>\n",
       "      <td>public</td>\n",
       "      <td>second</td>\n",
       "      <td>praktikum_student</td>\n",
       "      <td>None</td>\n",
       "      <td>False</td>\n",
       "      <td>False</td>\n",
       "      <td>False</td>\n",
       "      <td>False</td>\n",
       "    </tr>\n",
       "    <tr>\n",
       "      <th>5</th>\n",
       "      <td>public</td>\n",
       "      <td>second_b</td>\n",
       "      <td>praktikum_student</td>\n",
       "      <td>None</td>\n",
       "      <td>False</td>\n",
       "      <td>False</td>\n",
       "      <td>False</td>\n",
       "      <td>False</td>\n",
       "    </tr>\n",
       "    <tr>\n",
       "      <th>6</th>\n",
       "      <td>public</td>\n",
       "      <td>publishers</td>\n",
       "      <td>praktikum_admin</td>\n",
       "      <td>None</td>\n",
       "      <td>True</td>\n",
       "      <td>False</td>\n",
       "      <td>True</td>\n",
       "      <td>False</td>\n",
       "    </tr>\n",
       "    <tr>\n",
       "      <th>7</th>\n",
       "      <td>public</td>\n",
       "      <td>author</td>\n",
       "      <td>praktikum_student</td>\n",
       "      <td>None</td>\n",
       "      <td>True</td>\n",
       "      <td>False</td>\n",
       "      <td>False</td>\n",
       "      <td>False</td>\n",
       "    </tr>\n",
       "    <tr>\n",
       "      <th>8</th>\n",
       "      <td>public</td>\n",
       "      <td>reviews</td>\n",
       "      <td>praktikum_admin</td>\n",
       "      <td>None</td>\n",
       "      <td>True</td>\n",
       "      <td>False</td>\n",
       "      <td>True</td>\n",
       "      <td>False</td>\n",
       "    </tr>\n",
       "    <tr>\n",
       "      <th>9</th>\n",
       "      <td>public</td>\n",
       "      <td>ratings</td>\n",
       "      <td>praktikum_admin</td>\n",
       "      <td>None</td>\n",
       "      <td>True</td>\n",
       "      <td>False</td>\n",
       "      <td>True</td>\n",
       "      <td>False</td>\n",
       "    </tr>\n",
       "    <tr>\n",
       "      <th>10</th>\n",
       "      <td>public</td>\n",
       "      <td>books</td>\n",
       "      <td>praktikum_admin</td>\n",
       "      <td>None</td>\n",
       "      <td>True</td>\n",
       "      <td>False</td>\n",
       "      <td>True</td>\n",
       "      <td>False</td>\n",
       "    </tr>\n",
       "  </tbody>\n",
       "</table>\n",
       "</div>"
      ],
      "text/plain": [
       "   schemaname           tablename         tableowner tablespace  hasindexes  \\\n",
       "0      public              orders    praktikum_admin       None        True   \n",
       "1      public              visits    praktikum_admin       None        True   \n",
       "2      public  advertisment_costs    praktikum_admin       None        True   \n",
       "3      public             authors    praktikum_admin       None        True   \n",
       "4      public              second  praktikum_student       None       False   \n",
       "5      public            second_b  praktikum_student       None       False   \n",
       "6      public          publishers    praktikum_admin       None        True   \n",
       "7      public              author  praktikum_student       None        True   \n",
       "8      public             reviews    praktikum_admin       None        True   \n",
       "9      public             ratings    praktikum_admin       None        True   \n",
       "10     public               books    praktikum_admin       None        True   \n",
       "\n",
       "    hasrules  hastriggers  rowsecurity  \n",
       "0      False        False        False  \n",
       "1      False        False        False  \n",
       "2      False        False        False  \n",
       "3      False         True        False  \n",
       "4      False        False        False  \n",
       "5      False        False        False  \n",
       "6      False         True        False  \n",
       "7      False        False        False  \n",
       "8      False         True        False  \n",
       "9      False         True        False  \n",
       "10     False         True        False  "
      ]
     },
     "metadata": {},
     "output_type": "display_data"
    },
    {
     "data": {
      "text/html": [
       "<div>\n",
       "<style scoped>\n",
       "    .dataframe tbody tr th:only-of-type {\n",
       "        vertical-align: middle;\n",
       "    }\n",
       "\n",
       "    .dataframe tbody tr th {\n",
       "        vertical-align: top;\n",
       "    }\n",
       "\n",
       "    .dataframe thead th {\n",
       "        text-align: right;\n",
       "    }\n",
       "</style>\n",
       "<table border=\"1\" class=\"dataframe\">\n",
       "  <thead>\n",
       "    <tr style=\"text-align: right;\">\n",
       "      <th></th>\n",
       "      <th>table_name</th>\n",
       "      <th>column_name</th>\n",
       "      <th>data_type</th>\n",
       "      <th>is_nullable</th>\n",
       "    </tr>\n",
       "  </thead>\n",
       "  <tbody>\n",
       "    <tr>\n",
       "      <th>0</th>\n",
       "      <td>authors</td>\n",
       "      <td>author_id</td>\n",
       "      <td>integer</td>\n",
       "      <td>NO</td>\n",
       "    </tr>\n",
       "    <tr>\n",
       "      <th>1</th>\n",
       "      <td>authors</td>\n",
       "      <td>author</td>\n",
       "      <td>text</td>\n",
       "      <td>YES</td>\n",
       "    </tr>\n",
       "    <tr>\n",
       "      <th>2</th>\n",
       "      <td>publishers</td>\n",
       "      <td>publisher_id</td>\n",
       "      <td>integer</td>\n",
       "      <td>NO</td>\n",
       "    </tr>\n",
       "    <tr>\n",
       "      <th>3</th>\n",
       "      <td>publishers</td>\n",
       "      <td>publisher</td>\n",
       "      <td>text</td>\n",
       "      <td>YES</td>\n",
       "    </tr>\n",
       "    <tr>\n",
       "      <th>4</th>\n",
       "      <td>reviews</td>\n",
       "      <td>review_id</td>\n",
       "      <td>integer</td>\n",
       "      <td>NO</td>\n",
       "    </tr>\n",
       "    <tr>\n",
       "      <th>5</th>\n",
       "      <td>reviews</td>\n",
       "      <td>book_id</td>\n",
       "      <td>integer</td>\n",
       "      <td>YES</td>\n",
       "    </tr>\n",
       "    <tr>\n",
       "      <th>6</th>\n",
       "      <td>reviews</td>\n",
       "      <td>username</td>\n",
       "      <td>text</td>\n",
       "      <td>YES</td>\n",
       "    </tr>\n",
       "    <tr>\n",
       "      <th>7</th>\n",
       "      <td>reviews</td>\n",
       "      <td>text</td>\n",
       "      <td>text</td>\n",
       "      <td>YES</td>\n",
       "    </tr>\n",
       "    <tr>\n",
       "      <th>8</th>\n",
       "      <td>ratings</td>\n",
       "      <td>rating_id</td>\n",
       "      <td>integer</td>\n",
       "      <td>NO</td>\n",
       "    </tr>\n",
       "    <tr>\n",
       "      <th>9</th>\n",
       "      <td>ratings</td>\n",
       "      <td>book_id</td>\n",
       "      <td>integer</td>\n",
       "      <td>YES</td>\n",
       "    </tr>\n",
       "    <tr>\n",
       "      <th>10</th>\n",
       "      <td>ratings</td>\n",
       "      <td>username</td>\n",
       "      <td>text</td>\n",
       "      <td>YES</td>\n",
       "    </tr>\n",
       "    <tr>\n",
       "      <th>11</th>\n",
       "      <td>ratings</td>\n",
       "      <td>rating</td>\n",
       "      <td>integer</td>\n",
       "      <td>YES</td>\n",
       "    </tr>\n",
       "    <tr>\n",
       "      <th>12</th>\n",
       "      <td>books</td>\n",
       "      <td>book_id</td>\n",
       "      <td>integer</td>\n",
       "      <td>NO</td>\n",
       "    </tr>\n",
       "    <tr>\n",
       "      <th>13</th>\n",
       "      <td>books</td>\n",
       "      <td>author_id</td>\n",
       "      <td>integer</td>\n",
       "      <td>YES</td>\n",
       "    </tr>\n",
       "    <tr>\n",
       "      <th>14</th>\n",
       "      <td>books</td>\n",
       "      <td>title</td>\n",
       "      <td>text</td>\n",
       "      <td>YES</td>\n",
       "    </tr>\n",
       "    <tr>\n",
       "      <th>15</th>\n",
       "      <td>books</td>\n",
       "      <td>num_pages</td>\n",
       "      <td>integer</td>\n",
       "      <td>YES</td>\n",
       "    </tr>\n",
       "    <tr>\n",
       "      <th>16</th>\n",
       "      <td>books</td>\n",
       "      <td>publication_date</td>\n",
       "      <td>date</td>\n",
       "      <td>YES</td>\n",
       "    </tr>\n",
       "    <tr>\n",
       "      <th>17</th>\n",
       "      <td>books</td>\n",
       "      <td>publisher_id</td>\n",
       "      <td>integer</td>\n",
       "      <td>YES</td>\n",
       "    </tr>\n",
       "  </tbody>\n",
       "</table>\n",
       "</div>"
      ],
      "text/plain": [
       "    table_name       column_name data_type is_nullable\n",
       "0      authors         author_id   integer          NO\n",
       "1      authors            author      text         YES\n",
       "2   publishers      publisher_id   integer          NO\n",
       "3   publishers         publisher      text         YES\n",
       "4      reviews         review_id   integer          NO\n",
       "5      reviews           book_id   integer         YES\n",
       "6      reviews          username      text         YES\n",
       "7      reviews              text      text         YES\n",
       "8      ratings         rating_id   integer          NO\n",
       "9      ratings           book_id   integer         YES\n",
       "10     ratings          username      text         YES\n",
       "11     ratings            rating   integer         YES\n",
       "12       books           book_id   integer          NO\n",
       "13       books         author_id   integer         YES\n",
       "14       books             title      text         YES\n",
       "15       books         num_pages   integer         YES\n",
       "16       books  publication_date      date         YES\n",
       "17       books      publisher_id   integer         YES"
      ]
     },
     "metadata": {},
     "output_type": "display_data"
    }
   ],
   "source": [
    "# какие ещё таблицы доступны в базе\n",
    "display(pd.io.sql.read_sql('''\n",
    "\n",
    "SELECT *\n",
    "FROM pg_catalog.pg_tables\n",
    "WHERE schemaname != 'pg_catalog' AND\n",
    "      schemaname != 'information_schema';\n",
    "\n",
    "''', con = engine))\n",
    "\n",
    "\n",
    "# смотрим на типы столбцов в интересующих таблицах\n",
    "display(pd.io.sql.read_sql('''\n",
    "SELECT \n",
    "    table_name, \n",
    "    column_name, \n",
    "    data_type, \n",
    "    is_nullable\n",
    "FROM INFORMATION_SCHEMA.COLUMNS \n",
    "WHERE table_name IN ('books', 'authors', 'publishers', 'ratings', 'reviews');\n",
    "''', con = engine))"
   ]
  },
  {
   "cell_type": "markdown",
   "metadata": {},
   "source": [
    "## Задачи"
   ]
  },
  {
   "cell_type": "markdown",
   "metadata": {},
   "source": [
    "### Посчитайте, сколько книг вышло после 1 января 2000 года;"
   ]
  },
  {
   "cell_type": "code",
   "execution_count": 4,
   "metadata": {
    "scrolled": true
   },
   "outputs": [
    {
     "data": {
      "text/html": [
       "<div>\n",
       "<style scoped>\n",
       "    .dataframe tbody tr th:only-of-type {\n",
       "        vertical-align: middle;\n",
       "    }\n",
       "\n",
       "    .dataframe tbody tr th {\n",
       "        vertical-align: top;\n",
       "    }\n",
       "\n",
       "    .dataframe thead th {\n",
       "        text-align: right;\n",
       "    }\n",
       "</style>\n",
       "<table border=\"1\" class=\"dataframe\">\n",
       "  <thead>\n",
       "    <tr style=\"text-align: right;\">\n",
       "      <th></th>\n",
       "      <th>count</th>\n",
       "    </tr>\n",
       "  </thead>\n",
       "  <tbody>\n",
       "    <tr>\n",
       "      <th>0</th>\n",
       "      <td>821</td>\n",
       "    </tr>\n",
       "  </tbody>\n",
       "</table>\n",
       "</div>"
      ],
      "text/plain": [
       "   count\n",
       "0    821"
      ]
     },
     "execution_count": 4,
     "metadata": {},
     "output_type": "execute_result"
    }
   ],
   "source": [
    "query = '''SELECT COUNT(book_id)\n",
    "        FROM books\n",
    "        WHERE publication_date >= '2000-01-01' '''\n",
    "\n",
    "pd.io.sql.read_sql(sql=text(query), con = con)"
   ]
  },
  {
   "cell_type": "markdown",
   "metadata": {},
   "source": [
    "**С января 2000 года мы загрузили 821 книгу**"
   ]
  },
  {
   "cell_type": "markdown",
   "metadata": {},
   "source": [
    "### Для каждой книги посчитайте количество обзоров и среднюю оценку"
   ]
  },
  {
   "cell_type": "code",
   "execution_count": 5,
   "metadata": {},
   "outputs": [
    {
     "data": {
      "text/html": [
       "<div>\n",
       "<style scoped>\n",
       "    .dataframe tbody tr th:only-of-type {\n",
       "        vertical-align: middle;\n",
       "    }\n",
       "\n",
       "    .dataframe tbody tr th {\n",
       "        vertical-align: top;\n",
       "    }\n",
       "\n",
       "    .dataframe thead th {\n",
       "        text-align: right;\n",
       "    }\n",
       "</style>\n",
       "<table border=\"1\" class=\"dataframe\">\n",
       "  <thead>\n",
       "    <tr style=\"text-align: right;\">\n",
       "      <th></th>\n",
       "      <th>book_id</th>\n",
       "      <th>title</th>\n",
       "      <th>rating_mean</th>\n",
       "      <th>reviews_cnt</th>\n",
       "    </tr>\n",
       "  </thead>\n",
       "  <tbody>\n",
       "    <tr>\n",
       "      <th>0</th>\n",
       "      <td>1</td>\n",
       "      <td>'Salem's Lot</td>\n",
       "      <td>3.666667</td>\n",
       "      <td>2</td>\n",
       "    </tr>\n",
       "    <tr>\n",
       "      <th>1</th>\n",
       "      <td>2</td>\n",
       "      <td>1 000 Places to See Before You Die</td>\n",
       "      <td>2.500000</td>\n",
       "      <td>1</td>\n",
       "    </tr>\n",
       "    <tr>\n",
       "      <th>2</th>\n",
       "      <td>3</td>\n",
       "      <td>13 Little Blue Envelopes (Little Blue Envelope...</td>\n",
       "      <td>4.666667</td>\n",
       "      <td>3</td>\n",
       "    </tr>\n",
       "    <tr>\n",
       "      <th>3</th>\n",
       "      <td>4</td>\n",
       "      <td>1491: New Revelations of the Americas Before C...</td>\n",
       "      <td>4.500000</td>\n",
       "      <td>2</td>\n",
       "    </tr>\n",
       "    <tr>\n",
       "      <th>4</th>\n",
       "      <td>5</td>\n",
       "      <td>1776</td>\n",
       "      <td>4.000000</td>\n",
       "      <td>4</td>\n",
       "    </tr>\n",
       "    <tr>\n",
       "      <th>...</th>\n",
       "      <td>...</td>\n",
       "      <td>...</td>\n",
       "      <td>...</td>\n",
       "      <td>...</td>\n",
       "    </tr>\n",
       "    <tr>\n",
       "      <th>995</th>\n",
       "      <td>996</td>\n",
       "      <td>Wyrd Sisters (Discworld  #6; Witches #2)</td>\n",
       "      <td>3.666667</td>\n",
       "      <td>3</td>\n",
       "    </tr>\n",
       "    <tr>\n",
       "      <th>996</th>\n",
       "      <td>997</td>\n",
       "      <td>Xenocide (Ender's Saga  #3)</td>\n",
       "      <td>3.400000</td>\n",
       "      <td>3</td>\n",
       "    </tr>\n",
       "    <tr>\n",
       "      <th>997</th>\n",
       "      <td>998</td>\n",
       "      <td>Year of Wonders</td>\n",
       "      <td>3.200000</td>\n",
       "      <td>4</td>\n",
       "    </tr>\n",
       "    <tr>\n",
       "      <th>998</th>\n",
       "      <td>999</td>\n",
       "      <td>You Suck (A Love Story  #2)</td>\n",
       "      <td>4.500000</td>\n",
       "      <td>2</td>\n",
       "    </tr>\n",
       "    <tr>\n",
       "      <th>999</th>\n",
       "      <td>1000</td>\n",
       "      <td>Zen and the Art of Motorcycle Maintenance: An ...</td>\n",
       "      <td>3.833333</td>\n",
       "      <td>4</td>\n",
       "    </tr>\n",
       "  </tbody>\n",
       "</table>\n",
       "<p>1000 rows × 4 columns</p>\n",
       "</div>"
      ],
      "text/plain": [
       "     book_id                                              title  rating_mean  \\\n",
       "0          1                                       'Salem's Lot     3.666667   \n",
       "1          2                 1 000 Places to See Before You Die     2.500000   \n",
       "2          3  13 Little Blue Envelopes (Little Blue Envelope...     4.666667   \n",
       "3          4  1491: New Revelations of the Americas Before C...     4.500000   \n",
       "4          5                                               1776     4.000000   \n",
       "..       ...                                                ...          ...   \n",
       "995      996           Wyrd Sisters (Discworld  #6; Witches #2)     3.666667   \n",
       "996      997                        Xenocide (Ender's Saga  #3)     3.400000   \n",
       "997      998                                    Year of Wonders     3.200000   \n",
       "998      999                        You Suck (A Love Story  #2)     4.500000   \n",
       "999     1000  Zen and the Art of Motorcycle Maintenance: An ...     3.833333   \n",
       "\n",
       "     reviews_cnt  \n",
       "0              2  \n",
       "1              1  \n",
       "2              3  \n",
       "3              2  \n",
       "4              4  \n",
       "..           ...  \n",
       "995            3  \n",
       "996            3  \n",
       "997            4  \n",
       "998            2  \n",
       "999            4  \n",
       "\n",
       "[1000 rows x 4 columns]"
      ]
     },
     "execution_count": 5,
     "metadata": {},
     "output_type": "execute_result"
    }
   ],
   "source": [
    "query = '''SELECT ra.book_id, books.title,\n",
    "                  AVG(ra.rating) AS rating_mean,\n",
    "                  COUNT(DISTINCT re.review_id) AS reviews_cnt\n",
    "        FROM ratings AS ra\n",
    "        FULL OUTER JOIN reviews AS re ON ra.book_id=re.book_id\n",
    "        JOIN books ON ra.book_id=books.book_id\n",
    "        GROUP BY ra.book_id, books.title '''\n",
    "\n",
    "pd.io.sql.read_sql(sql=text(query), con = con)"
   ]
  },
  {
   "cell_type": "markdown",
   "metadata": {},
   "source": [
    "**На одну книгу можно получить до 7 обзоров.**\n",
    "\n",
    "**Самый низкий рейтинг = 1,5. Максимальный рейтинг = 5.**"
   ]
  },
  {
   "cell_type": "markdown",
   "metadata": {},
   "source": [
    "### Определите издательство, которое выпустило наибольшее число книг толще 50 страниц "
   ]
  },
  {
   "cell_type": "code",
   "execution_count": 6,
   "metadata": {},
   "outputs": [
    {
     "data": {
      "text/html": [
       "<div>\n",
       "<style scoped>\n",
       "    .dataframe tbody tr th:only-of-type {\n",
       "        vertical-align: middle;\n",
       "    }\n",
       "\n",
       "    .dataframe tbody tr th {\n",
       "        vertical-align: top;\n",
       "    }\n",
       "\n",
       "    .dataframe thead th {\n",
       "        text-align: right;\n",
       "    }\n",
       "</style>\n",
       "<table border=\"1\" class=\"dataframe\">\n",
       "  <thead>\n",
       "    <tr style=\"text-align: right;\">\n",
       "      <th></th>\n",
       "      <th>publisher_id</th>\n",
       "      <th>publisher</th>\n",
       "      <th>count</th>\n",
       "    </tr>\n",
       "  </thead>\n",
       "  <tbody>\n",
       "    <tr>\n",
       "      <th>0</th>\n",
       "      <td>212</td>\n",
       "      <td>Penguin Books</td>\n",
       "      <td>42</td>\n",
       "    </tr>\n",
       "  </tbody>\n",
       "</table>\n",
       "</div>"
      ],
      "text/plain": [
       "   publisher_id      publisher  count\n",
       "0           212  Penguin Books     42"
      ]
     },
     "execution_count": 6,
     "metadata": {},
     "output_type": "execute_result"
    }
   ],
   "source": [
    "query = '''SELECT pu.publisher_id, pu.publisher, COUNT(book_id)\n",
    "        FROM publishers AS pu\n",
    "        JOIN books ON pu.publisher_id=books.publisher_id\n",
    "        WHERE books.num_pages > 50\n",
    "        GROUP BY pu.publisher_id\n",
    "        ORDER BY COUNT(book_id) DESC\n",
    "        LIMIT 1'''\n",
    "\n",
    "pd.io.sql.read_sql(sql=text(query), con = con)"
   ]
  },
  {
   "cell_type": "markdown",
   "metadata": {},
   "source": [
    "**Лидирует издательство Penguin Books с количеством книг = 42**"
   ]
  },
  {
   "cell_type": "markdown",
   "metadata": {},
   "source": [
    "### Определите автора с самой высокой средней оценкой книг — учитывайте только книги с 50 и более оценками "
   ]
  },
  {
   "cell_type": "code",
   "execution_count": 7,
   "metadata": {},
   "outputs": [
    {
     "data": {
      "text/html": [
       "<div>\n",
       "<style scoped>\n",
       "    .dataframe tbody tr th:only-of-type {\n",
       "        vertical-align: middle;\n",
       "    }\n",
       "\n",
       "    .dataframe tbody tr th {\n",
       "        vertical-align: top;\n",
       "    }\n",
       "\n",
       "    .dataframe thead th {\n",
       "        text-align: right;\n",
       "    }\n",
       "</style>\n",
       "<table border=\"1\" class=\"dataframe\">\n",
       "  <thead>\n",
       "    <tr style=\"text-align: right;\">\n",
       "      <th></th>\n",
       "      <th>author_id</th>\n",
       "      <th>author</th>\n",
       "      <th>rating_mean</th>\n",
       "      <th>cnt_rating</th>\n",
       "    </tr>\n",
       "  </thead>\n",
       "  <tbody>\n",
       "    <tr>\n",
       "      <th>0</th>\n",
       "      <td>236</td>\n",
       "      <td>J.K. Rowling/Mary GrandPré</td>\n",
       "      <td>4.288</td>\n",
       "      <td>312</td>\n",
       "    </tr>\n",
       "  </tbody>\n",
       "</table>\n",
       "</div>"
      ],
      "text/plain": [
       "   author_id                      author  rating_mean  cnt_rating\n",
       "0        236  J.K. Rowling/Mary GrandPré        4.288         312"
      ]
     },
     "execution_count": 7,
     "metadata": {},
     "output_type": "execute_result"
    }
   ],
   "source": [
    "query = '''SELECT au.author_id, au.author, round(AVG(r.rating), 3) AS rating_mean, COUNT(r.rating) AS cnt_rating\n",
    "        FROM authors AS au\n",
    "        JOIN books ON au.author_id=books.author_id\n",
    "        JOIN ratings AS r ON books.book_id=r.book_id\n",
    "        GROUP BY au.author_id, au.author\n",
    "        HAVING COUNT(r.rating) > 49\n",
    "        ORDER BY cnt_rating DESC\n",
    "        LIMIT 1'''\n",
    "\n",
    "pd.io.sql.read_sql(sql=text(query), con = con)"
   ]
  },
  {
   "cell_type": "markdown",
   "metadata": {},
   "source": [
    "**У автора J.K. Rowling/Mary GrandPré самая высокая средняя оценка книг среди коллег - 4,288.**"
   ]
  },
  {
   "cell_type": "markdown",
   "metadata": {},
   "source": [
    "### Посчитайте среднее количество обзоров от пользователей, которые поставили больше 48 оценок"
   ]
  },
  {
   "cell_type": "code",
   "execution_count": 8,
   "metadata": {
    "scrolled": false
   },
   "outputs": [
    {
     "data": {
      "text/html": [
       "<div>\n",
       "<style scoped>\n",
       "    .dataframe tbody tr th:only-of-type {\n",
       "        vertical-align: middle;\n",
       "    }\n",
       "\n",
       "    .dataframe tbody tr th {\n",
       "        vertical-align: top;\n",
       "    }\n",
       "\n",
       "    .dataframe thead th {\n",
       "        text-align: right;\n",
       "    }\n",
       "</style>\n",
       "<table border=\"1\" class=\"dataframe\">\n",
       "  <thead>\n",
       "    <tr style=\"text-align: right;\">\n",
       "      <th></th>\n",
       "      <th>review_mean_cnt</th>\n",
       "    </tr>\n",
       "  </thead>\n",
       "  <tbody>\n",
       "    <tr>\n",
       "      <th>0</th>\n",
       "      <td>24.0</td>\n",
       "    </tr>\n",
       "  </tbody>\n",
       "</table>\n",
       "</div>"
      ],
      "text/plain": [
       "   review_mean_cnt\n",
       "0             24.0"
      ]
     },
     "execution_count": 8,
     "metadata": {},
     "output_type": "execute_result"
    }
   ],
   "source": [
    "query = '''SELECT AVG(review_cnt) AS review_mean_cnt\n",
    "            FROM (SELECT COUNT(review_id) AS review_cnt\n",
    "                  FROM reviews\n",
    "                  WHERE username IN (SELECT username\n",
    "                                    FROM ratings\n",
    "                                    GROUP BY username\n",
    "                                    HAVING COUNT(rating) > 48)\n",
    "                  GROUP BY username) AS re '''\n",
    "\n",
    "pd.io.sql.read_sql(sql=text(query), con = con)"
   ]
  },
  {
   "cell_type": "markdown",
   "metadata": {},
   "source": [
    "**`24` - среднее количество обзоров от пользователей, которые поставили больше 48 оценок.**"
   ]
  },
  {
   "cell_type": "markdown",
   "metadata": {},
   "source": [
    "## Выводы\n",
    "\n",
    "* С января 2000 года мы загрузили `821 книгу`.\n",
    "\n",
    "    \n",
    "* На одну книгу можно получить `до 7 обзоров`.\n",
    "\n",
    "\n",
    "* Самый низкий рейтинг = 1,5. Максимальный рейтинг = 5.\n",
    "\n",
    "    \n",
    "* Издательство, которое выпустило наибольшее число книг - `Penguin Books`.\n",
    "\n",
    "    \n",
    "* У автора `J.K. Rowling/Mary GrandPré` самая высокая средняя оценка книг среди коллег - `4,288`.\n",
    "\n",
    "    \n",
    "* `24` - среднее количество обзоров от пользователей, которые поставили больше 48 оценок."
   ]
  }
 ],
 "metadata": {
  "ExecuteTimeLog": [
   {
    "duration": 1427,
    "start_time": "2023-05-15T11:23:43.110Z"
   },
   {
    "duration": 1074,
    "start_time": "2023-05-15T11:23:55.399Z"
   },
   {
    "duration": 34,
    "start_time": "2023-05-15T11:23:59.674Z"
   },
   {
    "duration": 913,
    "start_time": "2023-05-15T11:24:40.128Z"
   },
   {
    "duration": 17,
    "start_time": "2023-05-15T11:24:41.043Z"
   },
   {
    "duration": 0,
    "start_time": "2023-05-15T11:34:44.620Z"
   },
   {
    "duration": 0,
    "start_time": "2023-05-15T11:34:44.624Z"
   },
   {
    "duration": 0,
    "start_time": "2023-05-15T11:34:44.625Z"
   },
   {
    "duration": 1315,
    "start_time": "2023-05-15T11:35:36.828Z"
   },
   {
    "duration": 1218,
    "start_time": "2023-05-15T11:35:38.145Z"
   },
   {
    "duration": 0,
    "start_time": "2023-05-15T11:35:39.365Z"
   },
   {
    "duration": 1271,
    "start_time": "2023-05-15T11:36:07.525Z"
   },
   {
    "duration": 931,
    "start_time": "2023-05-15T11:36:19.845Z"
   },
   {
    "duration": 1015,
    "start_time": "2023-05-15T11:36:32.132Z"
   },
   {
    "duration": 28,
    "start_time": "2023-05-15T11:36:40.639Z"
   },
   {
    "duration": 1452,
    "start_time": "2023-05-15T11:37:11.483Z"
   },
   {
    "duration": 17,
    "start_time": "2023-05-15T11:37:13.724Z"
   },
   {
    "duration": 5,
    "start_time": "2023-05-15T11:51:45.034Z"
   },
   {
    "duration": 4,
    "start_time": "2023-05-15T11:51:54.812Z"
   },
   {
    "duration": 76,
    "start_time": "2023-05-15T11:52:02.385Z"
   },
   {
    "duration": 83,
    "start_time": "2023-05-15T11:52:16.180Z"
   },
   {
    "duration": 69,
    "start_time": "2023-05-15T11:52:40.628Z"
   },
   {
    "duration": 72,
    "start_time": "2023-05-15T11:52:49.426Z"
   },
   {
    "duration": 78,
    "start_time": "2023-05-15T11:52:55.273Z"
   },
   {
    "duration": 84,
    "start_time": "2023-05-15T11:53:10.391Z"
   },
   {
    "duration": 77,
    "start_time": "2023-05-15T11:53:16.384Z"
   },
   {
    "duration": 75,
    "start_time": "2023-05-15T11:53:23.984Z"
   },
   {
    "duration": 100,
    "start_time": "2023-05-15T11:53:29.647Z"
   },
   {
    "duration": 30,
    "start_time": "2023-05-15T11:55:09.092Z"
   },
   {
    "duration": 7,
    "start_time": "2023-05-15T11:55:31.837Z"
   },
   {
    "duration": 24,
    "start_time": "2023-05-15T11:55:38.936Z"
   },
   {
    "duration": 8,
    "start_time": "2023-05-15T11:56:36.452Z"
   },
   {
    "duration": 19,
    "start_time": "2023-05-15T11:56:59.426Z"
   },
   {
    "duration": 5,
    "start_time": "2023-05-15T11:57:46.745Z"
   },
   {
    "duration": 986,
    "start_time": "2023-05-15T11:57:46.753Z"
   },
   {
    "duration": 58,
    "start_time": "2023-05-15T11:57:47.742Z"
   },
   {
    "duration": 28,
    "start_time": "2023-05-15T11:57:47.802Z"
   },
   {
    "duration": 6,
    "start_time": "2023-05-15T11:59:58.324Z"
   },
   {
    "duration": 1023,
    "start_time": "2023-05-15T11:59:58.334Z"
   },
   {
    "duration": 88,
    "start_time": "2023-05-15T11:59:59.358Z"
   },
   {
    "duration": 24,
    "start_time": "2023-05-15T11:59:59.448Z"
   },
   {
    "duration": 9,
    "start_time": "2023-05-15T12:00:40.141Z"
   },
   {
    "duration": 6,
    "start_time": "2023-05-15T12:00:49.266Z"
   },
   {
    "duration": 6,
    "start_time": "2023-05-15T12:01:08.288Z"
   },
   {
    "duration": 22,
    "start_time": "2023-05-15T12:01:27.345Z"
   },
   {
    "duration": 16,
    "start_time": "2023-05-15T12:02:20.282Z"
   },
   {
    "duration": 21,
    "start_time": "2023-05-15T12:03:31.428Z"
   },
   {
    "duration": 22,
    "start_time": "2023-05-15T12:03:43.727Z"
   },
   {
    "duration": 7,
    "start_time": "2023-05-15T12:04:05.358Z"
   },
   {
    "duration": 19,
    "start_time": "2023-05-15T12:04:21.035Z"
   },
   {
    "duration": 30,
    "start_time": "2023-05-15T12:06:03.723Z"
   },
   {
    "duration": 66,
    "start_time": "2023-05-15T12:08:40.751Z"
   },
   {
    "duration": 23,
    "start_time": "2023-05-15T12:12:34.850Z"
   },
   {
    "duration": 14,
    "start_time": "2023-05-15T12:13:24.358Z"
   },
   {
    "duration": 9,
    "start_time": "2023-05-15T12:13:56.297Z"
   },
   {
    "duration": 95,
    "start_time": "2023-05-15T12:14:17.201Z"
   },
   {
    "duration": 19,
    "start_time": "2023-05-15T12:14:24.859Z"
   },
   {
    "duration": 4,
    "start_time": "2023-05-15T12:15:16.388Z"
   },
   {
    "duration": 10,
    "start_time": "2023-05-15T12:15:20.372Z"
   },
   {
    "duration": 15,
    "start_time": "2023-05-15T12:15:55.970Z"
   },
   {
    "duration": 6,
    "start_time": "2023-05-15T12:16:19.050Z"
   },
   {
    "duration": 13,
    "start_time": "2023-05-15T12:16:21.865Z"
   },
   {
    "duration": 1805,
    "start_time": "2023-05-15T12:16:32.546Z"
   },
   {
    "duration": 14,
    "start_time": "2023-05-15T12:16:51.231Z"
   },
   {
    "duration": 1031,
    "start_time": "2023-05-15T12:16:51.251Z"
   },
   {
    "duration": 79,
    "start_time": "2023-05-15T12:16:52.285Z"
   },
   {
    "duration": 20,
    "start_time": "2023-05-15T12:16:52.366Z"
   },
   {
    "duration": 9,
    "start_time": "2023-05-15T12:16:52.388Z"
   },
   {
    "duration": 1569,
    "start_time": "2023-05-15T12:16:52.398Z"
   },
   {
    "duration": 21,
    "start_time": "2023-05-15T12:17:16.623Z"
   },
   {
    "duration": 12,
    "start_time": "2023-05-15T12:17:45.650Z"
   },
   {
    "duration": 10,
    "start_time": "2023-05-15T12:17:48.451Z"
   },
   {
    "duration": 10,
    "start_time": "2023-05-15T12:17:49.065Z"
   },
   {
    "duration": 110,
    "start_time": "2023-05-15T12:18:30.454Z"
   },
   {
    "duration": 1719,
    "start_time": "2023-05-15T12:21:40.094Z"
   },
   {
    "duration": 3,
    "start_time": "2023-05-15T12:21:55.198Z"
   },
   {
    "duration": 1405,
    "start_time": "2023-05-15T12:21:55.203Z"
   },
   {
    "duration": 90,
    "start_time": "2023-05-15T12:21:56.611Z"
   },
   {
    "duration": 50,
    "start_time": "2023-05-15T12:21:56.703Z"
   },
   {
    "duration": 25,
    "start_time": "2023-05-15T12:21:56.756Z"
   },
   {
    "duration": 49,
    "start_time": "2023-05-15T12:21:56.783Z"
   },
   {
    "duration": 38,
    "start_time": "2023-05-15T12:22:18.825Z"
   },
   {
    "duration": 17,
    "start_time": "2023-05-15T12:22:30.492Z"
   },
   {
    "duration": 22,
    "start_time": "2023-05-15T12:24:53.455Z"
   },
   {
    "duration": 10,
    "start_time": "2023-05-15T12:25:21.949Z"
   },
   {
    "duration": 30,
    "start_time": "2023-05-15T12:25:37.023Z"
   },
   {
    "duration": 14,
    "start_time": "2023-05-15T12:25:45.758Z"
   },
   {
    "duration": 121,
    "start_time": "2023-05-15T12:27:09.743Z"
   },
   {
    "duration": 90,
    "start_time": "2023-05-15T12:27:28.494Z"
   },
   {
    "duration": 18,
    "start_time": "2023-05-15T12:28:39.890Z"
   },
   {
    "duration": 17,
    "start_time": "2023-05-15T12:29:13.394Z"
   },
   {
    "duration": 3,
    "start_time": "2023-05-15T12:30:47.754Z"
   },
   {
    "duration": 13,
    "start_time": "2023-05-15T12:32:14.567Z"
   },
   {
    "duration": 21,
    "start_time": "2023-05-15T12:32:22.927Z"
   },
   {
    "duration": 4,
    "start_time": "2023-05-15T12:32:39.386Z"
   },
   {
    "duration": 35,
    "start_time": "2023-05-15T12:34:35.356Z"
   },
   {
    "duration": 23,
    "start_time": "2023-05-15T12:34:42.574Z"
   },
   {
    "duration": 23,
    "start_time": "2023-05-15T12:35:50.113Z"
   },
   {
    "duration": 15,
    "start_time": "2023-05-15T12:36:01.231Z"
   },
   {
    "duration": 50,
    "start_time": "2023-05-15T12:38:09.195Z"
   },
   {
    "duration": 21,
    "start_time": "2023-05-15T12:38:17.344Z"
   },
   {
    "duration": 17,
    "start_time": "2023-05-15T12:38:24.681Z"
   },
   {
    "duration": 11,
    "start_time": "2023-05-15T12:40:09.959Z"
   },
   {
    "duration": 23,
    "start_time": "2023-05-15T12:41:18.294Z"
   },
   {
    "duration": 20,
    "start_time": "2023-05-15T12:42:34.475Z"
   },
   {
    "duration": 13,
    "start_time": "2023-05-15T12:45:43.623Z"
   },
   {
    "duration": 11,
    "start_time": "2023-05-15T12:46:44.037Z"
   },
   {
    "duration": 12,
    "start_time": "2023-05-15T12:47:12.274Z"
   },
   {
    "duration": 130,
    "start_time": "2023-05-15T12:47:22.673Z"
   },
   {
    "duration": 147,
    "start_time": "2023-05-15T12:47:57.735Z"
   },
   {
    "duration": 52,
    "start_time": "2023-05-15T12:48:12.770Z"
   },
   {
    "duration": 65,
    "start_time": "2023-05-15T12:49:09.122Z"
   },
   {
    "duration": 10,
    "start_time": "2023-05-15T12:49:18.989Z"
   },
   {
    "duration": 9,
    "start_time": "2023-05-15T12:49:33.368Z"
   },
   {
    "duration": 11,
    "start_time": "2023-05-15T12:49:43.023Z"
   },
   {
    "duration": 15,
    "start_time": "2023-05-15T12:52:06.675Z"
   },
   {
    "duration": 5,
    "start_time": "2023-05-15T12:53:51.841Z"
   },
   {
    "duration": 6,
    "start_time": "2023-05-15T12:54:19.085Z"
   },
   {
    "duration": 5,
    "start_time": "2023-05-15T12:54:27.216Z"
   },
   {
    "duration": 16,
    "start_time": "2023-05-15T12:59:42.949Z"
   },
   {
    "duration": 5,
    "start_time": "2023-05-15T13:04:37.196Z"
   },
   {
    "duration": 15,
    "start_time": "2023-05-15T13:05:09.939Z"
   },
   {
    "duration": 12,
    "start_time": "2023-05-15T13:12:30.957Z"
   },
   {
    "duration": 1159,
    "start_time": "2023-05-15T13:12:42.389Z"
   },
   {
    "duration": 11,
    "start_time": "2023-05-15T13:12:50.912Z"
   },
   {
    "duration": 1149,
    "start_time": "2023-05-15T13:12:50.924Z"
   },
   {
    "duration": 68,
    "start_time": "2023-05-15T13:12:52.075Z"
   },
   {
    "duration": 17,
    "start_time": "2023-05-15T13:12:52.145Z"
   },
   {
    "duration": 13,
    "start_time": "2023-05-15T13:12:52.164Z"
   },
   {
    "duration": 868,
    "start_time": "2023-05-15T13:12:52.178Z"
   },
   {
    "duration": 0,
    "start_time": "2023-05-15T13:12:53.048Z"
   },
   {
    "duration": 0,
    "start_time": "2023-05-15T13:12:53.049Z"
   },
   {
    "duration": 0,
    "start_time": "2023-05-15T13:12:53.050Z"
   },
   {
    "duration": 1248,
    "start_time": "2023-05-15T13:15:32.013Z"
   },
   {
    "duration": 11,
    "start_time": "2023-05-15T13:15:39.338Z"
   },
   {
    "duration": 1254,
    "start_time": "2023-05-15T13:15:39.351Z"
   },
   {
    "duration": 66,
    "start_time": "2023-05-15T13:15:40.607Z"
   },
   {
    "duration": 19,
    "start_time": "2023-05-15T13:15:40.675Z"
   },
   {
    "duration": 19,
    "start_time": "2023-05-15T13:15:40.696Z"
   },
   {
    "duration": 19,
    "start_time": "2023-05-15T13:15:40.724Z"
   },
   {
    "duration": 28,
    "start_time": "2023-05-15T13:15:40.744Z"
   },
   {
    "duration": 10,
    "start_time": "2023-05-15T13:15:40.773Z"
   },
   {
    "duration": 8,
    "start_time": "2023-05-15T13:15:40.785Z"
   },
   {
    "duration": 15,
    "start_time": "2023-05-15T13:16:18.091Z"
   },
   {
    "duration": 14,
    "start_time": "2023-05-15T13:16:28.984Z"
   },
   {
    "duration": 14,
    "start_time": "2023-05-15T13:16:32.015Z"
   },
   {
    "duration": 19,
    "start_time": "2023-05-15T13:16:33.035Z"
   },
   {
    "duration": 11,
    "start_time": "2023-05-15T13:16:42.291Z"
   },
   {
    "duration": 5,
    "start_time": "2023-05-15T13:16:45.697Z"
   },
   {
    "duration": 8,
    "start_time": "2023-05-15T13:16:58.090Z"
   },
   {
    "duration": 3,
    "start_time": "2023-05-15T13:17:16.078Z"
   },
   {
    "duration": 20,
    "start_time": "2023-05-15T13:17:54.274Z"
   },
   {
    "duration": 20,
    "start_time": "2023-05-15T13:17:59.193Z"
   },
   {
    "duration": 12,
    "start_time": "2023-05-15T13:18:04.795Z"
   },
   {
    "duration": 6,
    "start_time": "2023-05-15T13:18:08.438Z"
   },
   {
    "duration": 4,
    "start_time": "2023-05-15T13:25:58.577Z"
   },
   {
    "duration": 9,
    "start_time": "2023-05-15T13:26:16.591Z"
   },
   {
    "duration": 105,
    "start_time": "2023-05-15T13:29:22.790Z"
   },
   {
    "duration": 11,
    "start_time": "2023-05-15T13:34:44.212Z"
   },
   {
    "duration": 0,
    "start_time": "2023-05-15T13:34:44.225Z"
   },
   {
    "duration": 0,
    "start_time": "2023-05-15T13:34:44.226Z"
   },
   {
    "duration": 0,
    "start_time": "2023-05-15T13:34:44.227Z"
   },
   {
    "duration": 0,
    "start_time": "2023-05-15T13:34:44.228Z"
   },
   {
    "duration": 0,
    "start_time": "2023-05-15T13:34:44.229Z"
   },
   {
    "duration": 0,
    "start_time": "2023-05-15T13:34:44.230Z"
   },
   {
    "duration": 0,
    "start_time": "2023-05-15T13:34:44.231Z"
   },
   {
    "duration": 0,
    "start_time": "2023-05-15T13:34:44.232Z"
   },
   {
    "duration": 0,
    "start_time": "2023-05-15T13:34:44.234Z"
   },
   {
    "duration": 988,
    "start_time": "2023-05-15T13:35:36.796Z"
   },
   {
    "duration": 3058,
    "start_time": "2023-05-15T13:36:55.957Z"
   },
   {
    "duration": 2247,
    "start_time": "2023-05-15T13:37:05.559Z"
   },
   {
    "duration": 16,
    "start_time": "2023-05-15T13:37:07.808Z"
   },
   {
    "duration": 968,
    "start_time": "2023-05-15T13:37:07.826Z"
   },
   {
    "duration": 1515,
    "start_time": "2023-05-15T13:37:08.796Z"
   },
   {
    "duration": 21,
    "start_time": "2023-05-15T13:37:10.313Z"
   },
   {
    "duration": 34,
    "start_time": "2023-05-15T13:37:10.335Z"
   },
   {
    "duration": 30,
    "start_time": "2023-05-15T13:37:10.370Z"
   },
   {
    "duration": 30,
    "start_time": "2023-05-15T13:37:10.402Z"
   },
   {
    "duration": 16,
    "start_time": "2023-05-15T13:37:10.434Z"
   },
   {
    "duration": 20,
    "start_time": "2023-05-15T13:37:10.453Z"
   },
   {
    "duration": 21,
    "start_time": "2023-05-15T13:37:10.475Z"
   },
   {
    "duration": 1397,
    "start_time": "2023-05-15T13:37:49.133Z"
   },
   {
    "duration": 1160,
    "start_time": "2023-05-15T13:38:50.454Z"
   },
   {
    "duration": 1173,
    "start_time": "2023-05-15T13:39:35.536Z"
   },
   {
    "duration": 2258,
    "start_time": "2023-05-15T13:39:49.295Z"
   },
   {
    "duration": 13,
    "start_time": "2023-05-15T13:39:51.556Z"
   },
   {
    "duration": 1212,
    "start_time": "2023-05-15T13:39:51.571Z"
   },
   {
    "duration": 1380,
    "start_time": "2023-05-15T13:39:52.785Z"
   },
   {
    "duration": 20,
    "start_time": "2023-05-15T13:39:54.168Z"
   },
   {
    "duration": 13,
    "start_time": "2023-05-15T13:39:54.189Z"
   },
   {
    "duration": 13,
    "start_time": "2023-05-15T13:39:54.225Z"
   },
   {
    "duration": 31,
    "start_time": "2023-05-15T13:39:54.239Z"
   },
   {
    "duration": 30,
    "start_time": "2023-05-15T13:39:54.271Z"
   },
   {
    "duration": 15,
    "start_time": "2023-05-15T13:39:54.303Z"
   },
   {
    "duration": 22,
    "start_time": "2023-05-15T13:39:54.320Z"
   },
   {
    "duration": 5,
    "start_time": "2023-05-15T13:41:36.432Z"
   },
   {
    "duration": 1174,
    "start_time": "2023-05-15T13:43:52.251Z"
   },
   {
    "duration": 126,
    "start_time": "2023-05-15T13:44:02.685Z"
   },
   {
    "duration": 1269,
    "start_time": "2023-05-15T13:44:17.430Z"
   },
   {
    "duration": 1221,
    "start_time": "2023-05-15T13:44:39.124Z"
   },
   {
    "duration": 1226,
    "start_time": "2023-05-15T13:45:10.589Z"
   },
   {
    "duration": 3,
    "start_time": "2023-05-15T13:48:14.008Z"
   },
   {
    "duration": 11,
    "start_time": "2023-05-15T13:48:45.118Z"
   },
   {
    "duration": 5,
    "start_time": "2023-05-15T18:11:03.081Z"
   },
   {
    "duration": 1582,
    "start_time": "2023-05-15T18:11:03.088Z"
   },
   {
    "duration": 0,
    "start_time": "2023-05-15T18:11:04.672Z"
   },
   {
    "duration": 0,
    "start_time": "2023-05-15T18:11:04.673Z"
   },
   {
    "duration": 0,
    "start_time": "2023-05-15T18:11:04.675Z"
   },
   {
    "duration": 0,
    "start_time": "2023-05-15T18:11:04.675Z"
   },
   {
    "duration": 0,
    "start_time": "2023-05-15T18:11:04.676Z"
   },
   {
    "duration": 0,
    "start_time": "2023-05-15T18:11:04.677Z"
   },
   {
    "duration": 0,
    "start_time": "2023-05-15T18:11:04.679Z"
   },
   {
    "duration": 0,
    "start_time": "2023-05-15T18:11:04.679Z"
   },
   {
    "duration": 3007,
    "start_time": "2023-05-15T18:11:23.761Z"
   },
   {
    "duration": 19,
    "start_time": "2023-05-15T18:11:26.770Z"
   },
   {
    "duration": 1047,
    "start_time": "2023-05-15T18:11:26.791Z"
   },
   {
    "duration": 1602,
    "start_time": "2023-05-15T18:11:27.842Z"
   },
   {
    "duration": 27,
    "start_time": "2023-05-15T18:11:29.446Z"
   },
   {
    "duration": 20,
    "start_time": "2023-05-15T18:11:29.476Z"
   },
   {
    "duration": 53,
    "start_time": "2023-05-15T18:11:29.498Z"
   },
   {
    "duration": 12,
    "start_time": "2023-05-15T18:11:29.563Z"
   },
   {
    "duration": 10,
    "start_time": "2023-05-15T18:11:29.577Z"
   },
   {
    "duration": 13,
    "start_time": "2023-05-15T18:11:29.590Z"
   },
   {
    "duration": 2502,
    "start_time": "2023-05-15T19:28:11.682Z"
   },
   {
    "duration": 13,
    "start_time": "2023-05-15T19:28:14.187Z"
   },
   {
    "duration": 1022,
    "start_time": "2023-05-15T19:28:14.202Z"
   },
   {
    "duration": 1875,
    "start_time": "2023-05-15T19:28:15.226Z"
   },
   {
    "duration": 85,
    "start_time": "2023-05-15T19:28:17.103Z"
   },
   {
    "duration": 79,
    "start_time": "2023-05-15T19:28:17.190Z"
   },
   {
    "duration": 27,
    "start_time": "2023-05-15T19:28:17.271Z"
   },
   {
    "duration": 65,
    "start_time": "2023-05-15T19:28:17.300Z"
   },
   {
    "duration": 9,
    "start_time": "2023-05-15T19:28:17.367Z"
   },
   {
    "duration": 77,
    "start_time": "2023-05-15T19:28:17.379Z"
   },
   {
    "duration": 30,
    "start_time": "2023-05-15T19:28:17.464Z"
   },
   {
    "duration": 0,
    "start_time": "2023-05-15T19:28:17.496Z"
   },
   {
    "duration": 688,
    "start_time": "2023-05-15T19:29:31.834Z"
   },
   {
    "duration": 3031,
    "start_time": "2023-05-16T05:21:43.808Z"
   },
   {
    "duration": 1400,
    "start_time": "2023-05-16T05:21:46.841Z"
   },
   {
    "duration": 987,
    "start_time": "2023-05-16T05:21:48.243Z"
   },
   {
    "duration": 1463,
    "start_time": "2023-05-16T05:21:49.232Z"
   },
   {
    "duration": 18,
    "start_time": "2023-05-16T05:21:50.699Z"
   },
   {
    "duration": 17,
    "start_time": "2023-05-16T05:21:50.719Z"
   },
   {
    "duration": 32,
    "start_time": "2023-05-16T05:21:50.737Z"
   },
   {
    "duration": 11,
    "start_time": "2023-05-16T05:21:50.770Z"
   },
   {
    "duration": 5,
    "start_time": "2023-05-16T05:21:50.782Z"
   },
   {
    "duration": 9,
    "start_time": "2023-05-16T05:21:50.788Z"
   },
   {
    "duration": 553,
    "start_time": "2023-05-16T05:21:50.799Z"
   },
   {
    "duration": 14,
    "start_time": "2023-05-16T05:21:51.355Z"
   },
   {
    "duration": 14,
    "start_time": "2023-05-16T05:22:31.046Z"
   },
   {
    "duration": 5,
    "start_time": "2023-05-16T05:23:35.108Z"
   },
   {
    "duration": 8,
    "start_time": "2023-05-16T05:23:52.577Z"
   },
   {
    "duration": 7,
    "start_time": "2023-05-16T05:25:04.111Z"
   },
   {
    "duration": 7,
    "start_time": "2023-05-16T05:25:17.128Z"
   },
   {
    "duration": 120,
    "start_time": "2023-05-16T05:25:54.726Z"
   },
   {
    "duration": 6,
    "start_time": "2023-05-16T05:26:04.007Z"
   },
   {
    "duration": 11,
    "start_time": "2023-05-16T05:26:07.868Z"
   },
   {
    "duration": 49,
    "start_time": "2023-05-16T05:30:20.095Z"
   },
   {
    "duration": 13,
    "start_time": "2023-05-16T05:30:37.659Z"
   },
   {
    "duration": 6,
    "start_time": "2023-05-16T05:30:57.265Z"
   },
   {
    "duration": 10,
    "start_time": "2023-05-16T05:31:29.780Z"
   },
   {
    "duration": 17,
    "start_time": "2023-05-16T05:31:51.877Z"
   },
   {
    "duration": 7,
    "start_time": "2023-05-16T05:32:32.268Z"
   },
   {
    "duration": 49,
    "start_time": "2023-05-16T05:32:53.974Z"
   },
   {
    "duration": 47,
    "start_time": "2023-05-16T05:32:59.465Z"
   },
   {
    "duration": 48,
    "start_time": "2023-05-16T05:33:10.263Z"
   },
   {
    "duration": 9,
    "start_time": "2023-05-16T05:33:24.065Z"
   },
   {
    "duration": 7,
    "start_time": "2023-05-16T05:34:45.271Z"
   },
   {
    "duration": 6,
    "start_time": "2023-05-16T05:34:52.186Z"
   },
   {
    "duration": 49,
    "start_time": "2023-05-16T05:35:18.593Z"
   },
   {
    "duration": 47,
    "start_time": "2023-05-16T05:35:25.396Z"
   },
   {
    "duration": 52,
    "start_time": "2023-05-16T05:35:38.375Z"
   },
   {
    "duration": 53,
    "start_time": "2023-05-16T05:35:50.175Z"
   },
   {
    "duration": 209,
    "start_time": "2023-05-16T05:36:30.490Z"
   },
   {
    "duration": 56,
    "start_time": "2023-05-16T05:36:38.079Z"
   },
   {
    "duration": 137,
    "start_time": "2023-05-16T05:36:55.677Z"
   },
   {
    "duration": 15,
    "start_time": "2023-05-16T05:37:11.278Z"
   },
   {
    "duration": 46,
    "start_time": "2023-05-16T05:38:06.179Z"
   },
   {
    "duration": 22,
    "start_time": "2023-05-16T05:39:24.983Z"
   },
   {
    "duration": 534,
    "start_time": "2023-05-16T06:43:25.766Z"
   },
   {
    "duration": 578,
    "start_time": "2023-05-16T06:45:30.709Z"
   },
   {
    "duration": 523,
    "start_time": "2023-05-16T06:45:47.262Z"
   },
   {
    "duration": 529,
    "start_time": "2023-05-16T06:46:08.521Z"
   },
   {
    "duration": 19,
    "start_time": "2023-05-16T06:51:38.717Z"
   },
   {
    "duration": 20,
    "start_time": "2023-05-16T06:52:46.682Z"
   },
   {
    "duration": 17,
    "start_time": "2023-05-16T06:52:51.406Z"
   },
   {
    "duration": 29,
    "start_time": "2023-05-16T06:52:58.512Z"
   },
   {
    "duration": 20,
    "start_time": "2023-05-16T06:53:16.689Z"
   },
   {
    "duration": 1988,
    "start_time": "2023-05-16T06:57:34.712Z"
   },
   {
    "duration": 12,
    "start_time": "2023-05-16T06:57:36.703Z"
   },
   {
    "duration": 982,
    "start_time": "2023-05-16T06:57:36.717Z"
   },
   {
    "duration": 1372,
    "start_time": "2023-05-16T06:57:37.701Z"
   },
   {
    "duration": 20,
    "start_time": "2023-05-16T06:57:39.074Z"
   },
   {
    "duration": 13,
    "start_time": "2023-05-16T06:57:39.096Z"
   },
   {
    "duration": 47,
    "start_time": "2023-05-16T06:57:39.111Z"
   },
   {
    "duration": 11,
    "start_time": "2023-05-16T06:57:39.160Z"
   },
   {
    "duration": 6,
    "start_time": "2023-05-16T06:57:39.172Z"
   },
   {
    "duration": 8,
    "start_time": "2023-05-16T06:57:39.180Z"
   },
   {
    "duration": 638,
    "start_time": "2023-05-16T06:57:39.190Z"
   },
   {
    "duration": 6,
    "start_time": "2023-05-16T06:57:39.830Z"
   },
   {
    "duration": 27,
    "start_time": "2023-05-16T06:57:39.838Z"
   },
   {
    "duration": 6,
    "start_time": "2023-05-16T06:58:57.097Z"
   },
   {
    "duration": 14,
    "start_time": "2023-05-16T06:59:50.060Z"
   },
   {
    "duration": 403,
    "start_time": "2023-05-16T06:59:56.705Z"
   },
   {
    "duration": 106,
    "start_time": "2023-05-16T07:01:10.096Z"
   },
   {
    "duration": 95,
    "start_time": "2023-05-16T07:01:58.594Z"
   },
   {
    "duration": 104,
    "start_time": "2023-05-16T07:03:08.422Z"
   },
   {
    "duration": 17,
    "start_time": "2023-05-16T07:03:17.483Z"
   },
   {
    "duration": 5,
    "start_time": "2023-05-16T07:03:42.099Z"
   },
   {
    "duration": 7,
    "start_time": "2023-05-16T07:03:55.637Z"
   },
   {
    "duration": 76,
    "start_time": "2023-05-16T07:08:42.545Z"
   },
   {
    "duration": 89,
    "start_time": "2023-05-16T07:10:08.594Z"
   },
   {
    "duration": 11,
    "start_time": "2023-05-16T07:13:00.406Z"
   },
   {
    "duration": 55,
    "start_time": "2023-05-16T07:13:17.787Z"
   },
   {
    "duration": 85,
    "start_time": "2023-05-16T07:13:26.263Z"
   },
   {
    "duration": 96,
    "start_time": "2023-05-16T07:13:35.904Z"
   },
   {
    "duration": 131,
    "start_time": "2023-05-16T07:13:40.740Z"
   },
   {
    "duration": 120,
    "start_time": "2023-05-16T07:15:30.165Z"
   },
   {
    "duration": 29,
    "start_time": "2023-05-16T07:16:37.930Z"
   },
   {
    "duration": 21,
    "start_time": "2023-05-16T07:16:58.389Z"
   },
   {
    "duration": 3203,
    "start_time": "2023-05-16T08:26:22.012Z"
   },
   {
    "duration": 1451,
    "start_time": "2023-05-16T08:26:25.217Z"
   },
   {
    "duration": 846,
    "start_time": "2023-05-16T08:26:26.670Z"
   },
   {
    "duration": 1349,
    "start_time": "2023-05-16T08:26:27.518Z"
   },
   {
    "duration": 19,
    "start_time": "2023-05-16T08:26:28.869Z"
   },
   {
    "duration": 12,
    "start_time": "2023-05-16T08:26:28.890Z"
   },
   {
    "duration": 19,
    "start_time": "2023-05-16T08:26:28.903Z"
   },
   {
    "duration": 9,
    "start_time": "2023-05-16T08:26:28.924Z"
   },
   {
    "duration": 5,
    "start_time": "2023-05-16T08:26:28.934Z"
   },
   {
    "duration": 11,
    "start_time": "2023-05-16T08:26:28.941Z"
   },
   {
    "duration": 583,
    "start_time": "2023-05-16T08:26:28.953Z"
   },
   {
    "duration": 7,
    "start_time": "2023-05-16T08:26:29.538Z"
   },
   {
    "duration": 21,
    "start_time": "2023-05-16T08:26:29.547Z"
   },
   {
    "duration": 463,
    "start_time": "2023-05-16T08:26:29.584Z"
   },
   {
    "duration": 55,
    "start_time": "2023-05-16T08:26:30.049Z"
   },
   {
    "duration": 143,
    "start_time": "2023-05-16T08:26:30.105Z"
   },
   {
    "duration": 2258,
    "start_time": "2023-05-16T08:47:26.222Z"
   },
   {
    "duration": 1261,
    "start_time": "2023-05-16T08:47:28.482Z"
   },
   {
    "duration": 1164,
    "start_time": "2023-05-16T08:47:29.746Z"
   },
   {
    "duration": 1404,
    "start_time": "2023-05-16T08:47:30.912Z"
   },
   {
    "duration": 24,
    "start_time": "2023-05-16T08:47:32.318Z"
   },
   {
    "duration": 14,
    "start_time": "2023-05-16T08:47:32.343Z"
   },
   {
    "duration": 30,
    "start_time": "2023-05-16T08:47:32.359Z"
   },
   {
    "duration": 16,
    "start_time": "2023-05-16T08:47:32.391Z"
   },
   {
    "duration": 5,
    "start_time": "2023-05-16T08:47:32.408Z"
   },
   {
    "duration": 19,
    "start_time": "2023-05-16T08:47:32.415Z"
   },
   {
    "duration": 575,
    "start_time": "2023-05-16T08:47:32.436Z"
   },
   {
    "duration": 7,
    "start_time": "2023-05-16T08:47:33.013Z"
   },
   {
    "duration": 79,
    "start_time": "2023-05-16T08:47:33.022Z"
   },
   {
    "duration": 898,
    "start_time": "2023-05-16T08:47:33.104Z"
   },
   {
    "duration": 24,
    "start_time": "2023-05-16T08:47:34.003Z"
   },
   {
    "duration": 267,
    "start_time": "2023-05-16T08:47:34.028Z"
   },
   {
    "duration": 22,
    "start_time": "2023-05-16T08:59:22.187Z"
   },
   {
    "duration": 16,
    "start_time": "2023-05-16T09:00:05.349Z"
   },
   {
    "duration": 22,
    "start_time": "2023-05-16T09:02:24.626Z"
   },
   {
    "duration": 92,
    "start_time": "2023-05-16T09:04:00.690Z"
   },
   {
    "duration": 11,
    "start_time": "2023-05-16T09:04:12.984Z"
   },
   {
    "duration": 819,
    "start_time": "2023-05-16T09:07:44.684Z"
   },
   {
    "duration": 18,
    "start_time": "2023-05-16T09:08:00.325Z"
   },
   {
    "duration": 17,
    "start_time": "2023-05-16T09:08:07.388Z"
   },
   {
    "duration": 1081,
    "start_time": "2023-05-16T09:08:11.557Z"
   },
   {
    "duration": 99,
    "start_time": "2023-05-16T09:08:47.110Z"
   },
   {
    "duration": 24,
    "start_time": "2023-05-16T09:08:49.909Z"
   },
   {
    "duration": 8,
    "start_time": "2023-05-16T09:10:08.126Z"
   },
   {
    "duration": 12,
    "start_time": "2023-05-16T09:10:19.248Z"
   },
   {
    "duration": 119,
    "start_time": "2023-05-16T09:10:43.655Z"
   },
   {
    "duration": 7,
    "start_time": "2023-05-16T09:10:49.358Z"
   },
   {
    "duration": 11,
    "start_time": "2023-05-16T09:10:58.294Z"
   },
   {
    "duration": 16,
    "start_time": "2023-05-16T09:12:19.819Z"
   },
   {
    "duration": 17,
    "start_time": "2023-05-16T09:12:53.270Z"
   },
   {
    "duration": 24,
    "start_time": "2023-05-16T09:13:05.975Z"
   },
   {
    "duration": 15,
    "start_time": "2023-05-16T09:13:33.476Z"
   },
   {
    "duration": 17,
    "start_time": "2023-05-16T09:13:51.556Z"
   },
   {
    "duration": 14,
    "start_time": "2023-05-16T09:14:27.544Z"
   },
   {
    "duration": 12,
    "start_time": "2023-05-16T09:15:08.455Z"
   },
   {
    "duration": 24,
    "start_time": "2023-05-16T09:15:25.786Z"
   },
   {
    "duration": 21,
    "start_time": "2023-05-16T09:15:56.153Z"
   },
   {
    "duration": 18,
    "start_time": "2023-05-16T09:16:33.415Z"
   },
   {
    "duration": 23,
    "start_time": "2023-05-16T09:18:30.208Z"
   },
   {
    "duration": 15,
    "start_time": "2023-05-16T09:18:42.071Z"
   },
   {
    "duration": 11,
    "start_time": "2023-05-16T09:19:12.154Z"
   },
   {
    "duration": 19,
    "start_time": "2023-05-16T09:19:30.484Z"
   },
   {
    "duration": 14,
    "start_time": "2023-05-16T09:19:44.206Z"
   },
   {
    "duration": 11,
    "start_time": "2023-05-16T09:20:05.486Z"
   },
   {
    "duration": 13,
    "start_time": "2023-05-16T09:21:43.196Z"
   },
   {
    "duration": 13,
    "start_time": "2023-05-16T09:22:21.127Z"
   },
   {
    "duration": 14,
    "start_time": "2023-05-16T09:22:33.344Z"
   },
   {
    "duration": 11,
    "start_time": "2023-05-16T09:22:54.505Z"
   },
   {
    "duration": 110,
    "start_time": "2023-05-16T09:24:05.342Z"
   },
   {
    "duration": 12,
    "start_time": "2023-05-16T09:24:21.653Z"
   },
   {
    "duration": 12,
    "start_time": "2023-05-16T09:24:58.154Z"
   },
   {
    "duration": 11,
    "start_time": "2023-05-16T09:25:19.686Z"
   },
   {
    "duration": 2420,
    "start_time": "2023-05-16T09:26:45.107Z"
   },
   {
    "duration": 3478,
    "start_time": "2023-05-16T09:26:58.767Z"
   },
   {
    "duration": 22,
    "start_time": "2023-05-16T09:27:18.564Z"
   },
   {
    "duration": 14,
    "start_time": "2023-05-16T09:27:26.962Z"
   },
   {
    "duration": 10,
    "start_time": "2023-05-16T09:27:35.552Z"
   },
   {
    "duration": 25,
    "start_time": "2023-05-16T09:31:27.315Z"
   },
   {
    "duration": 22,
    "start_time": "2023-05-16T09:31:53.318Z"
   },
   {
    "duration": 57,
    "start_time": "2023-05-16T09:32:18.656Z"
   },
   {
    "duration": 63,
    "start_time": "2023-05-16T09:32:45.804Z"
   },
   {
    "duration": 56,
    "start_time": "2023-05-16T09:33:33.698Z"
   },
   {
    "duration": 148,
    "start_time": "2023-05-16T09:35:06.227Z"
   },
   {
    "duration": 63,
    "start_time": "2023-05-16T09:35:26.513Z"
   },
   {
    "duration": 6,
    "start_time": "2023-05-16T09:37:06.997Z"
   },
   {
    "duration": 55,
    "start_time": "2023-05-16T09:37:32.406Z"
   },
   {
    "duration": 14,
    "start_time": "2023-05-16T09:37:45.429Z"
   },
   {
    "duration": 56,
    "start_time": "2023-05-16T09:37:58.811Z"
   },
   {
    "duration": 25,
    "start_time": "2023-05-16T09:38:25.556Z"
   },
   {
    "duration": 132,
    "start_time": "2023-05-16T09:38:38.556Z"
   },
   {
    "duration": 14,
    "start_time": "2023-05-16T09:38:50.722Z"
   },
   {
    "duration": 12,
    "start_time": "2023-05-16T09:38:58.895Z"
   },
   {
    "duration": 70,
    "start_time": "2023-05-16T09:39:14.721Z"
   },
   {
    "duration": 14,
    "start_time": "2023-05-16T09:39:32.565Z"
   },
   {
    "duration": 80,
    "start_time": "2023-05-16T09:39:39.307Z"
   },
   {
    "duration": 13,
    "start_time": "2023-05-16T09:40:07.610Z"
   },
   {
    "duration": 80,
    "start_time": "2023-05-16T09:40:14.316Z"
   },
   {
    "duration": 12,
    "start_time": "2023-05-16T09:40:20.556Z"
   },
   {
    "duration": 1941,
    "start_time": "2023-05-16T09:40:30.463Z"
   },
   {
    "duration": 146,
    "start_time": "2023-05-16T09:40:50.356Z"
   },
   {
    "duration": 53,
    "start_time": "2023-05-16T09:41:19.760Z"
   },
   {
    "duration": 19,
    "start_time": "2023-05-16T09:42:24.847Z"
   },
   {
    "duration": 45,
    "start_time": "2023-05-16T09:42:30.890Z"
   },
   {
    "duration": 13,
    "start_time": "2023-05-16T09:42:45.013Z"
   },
   {
    "duration": 14,
    "start_time": "2023-05-16T09:42:50.560Z"
   },
   {
    "duration": 9,
    "start_time": "2023-05-16T09:43:01.556Z"
   },
   {
    "duration": 13,
    "start_time": "2023-05-16T09:43:18.200Z"
   },
   {
    "duration": 72,
    "start_time": "2023-05-16T09:43:25.012Z"
   },
   {
    "duration": 31,
    "start_time": "2023-05-16T09:43:38.136Z"
   },
   {
    "duration": 14,
    "start_time": "2023-05-16T09:43:52.189Z"
   },
   {
    "duration": 15,
    "start_time": "2023-05-16T09:43:59.007Z"
   },
   {
    "duration": 12,
    "start_time": "2023-05-16T09:44:12.818Z"
   },
   {
    "duration": 56,
    "start_time": "2023-05-16T09:44:25.121Z"
   },
   {
    "duration": 101,
    "start_time": "2023-05-16T09:44:33.499Z"
   },
   {
    "duration": 15,
    "start_time": "2023-05-16T09:44:46.344Z"
   },
   {
    "duration": 1605,
    "start_time": "2023-05-16T09:44:52.015Z"
   },
   {
    "duration": 14,
    "start_time": "2023-05-16T09:45:06.275Z"
   },
   {
    "duration": 49,
    "start_time": "2023-05-16T09:45:14.706Z"
   },
   {
    "duration": 35,
    "start_time": "2023-05-16T09:45:21.640Z"
   },
   {
    "duration": 2,
    "start_time": "2023-05-16T09:45:45.323Z"
   },
   {
    "duration": 57,
    "start_time": "2023-05-16T09:45:46.509Z"
   },
   {
    "duration": 57,
    "start_time": "2023-05-16T09:46:16.761Z"
   },
   {
    "duration": 35,
    "start_time": "2023-05-16T09:46:25.944Z"
   },
   {
    "duration": 18,
    "start_time": "2023-05-16T09:46:56.498Z"
   },
   {
    "duration": 68,
    "start_time": "2023-05-16T09:47:09.541Z"
   },
   {
    "duration": 51,
    "start_time": "2023-05-16T09:47:25.402Z"
   },
   {
    "duration": 49,
    "start_time": "2023-05-16T09:47:45.848Z"
   },
   {
    "duration": 53,
    "start_time": "2023-05-16T09:48:08.564Z"
   },
   {
    "duration": 59,
    "start_time": "2023-05-16T09:51:47.719Z"
   },
   {
    "duration": 2435,
    "start_time": "2023-05-16T09:52:24.594Z"
   },
   {
    "duration": 37,
    "start_time": "2023-05-16T09:53:05.402Z"
   },
   {
    "duration": 56,
    "start_time": "2023-05-16T09:53:26.848Z"
   },
   {
    "duration": 143,
    "start_time": "2023-05-16T09:57:15.790Z"
   },
   {
    "duration": 69,
    "start_time": "2023-05-16T09:57:25.995Z"
   },
   {
    "duration": 1037,
    "start_time": "2023-05-16T09:58:24.803Z"
   },
   {
    "duration": 62,
    "start_time": "2023-05-16T09:58:30.700Z"
   },
   {
    "duration": 4,
    "start_time": "2023-05-16T09:58:53.764Z"
   },
   {
    "duration": 4,
    "start_time": "2023-05-16T09:59:17.056Z"
   },
   {
    "duration": 4,
    "start_time": "2023-05-16T09:59:45.553Z"
   },
   {
    "duration": 48,
    "start_time": "2023-05-16T09:59:57.415Z"
   },
   {
    "duration": 28,
    "start_time": "2023-05-16T10:03:28.689Z"
   },
   {
    "duration": 62,
    "start_time": "2023-05-16T10:04:05.393Z"
   },
   {
    "duration": 61,
    "start_time": "2023-05-16T10:05:41.835Z"
   },
   {
    "duration": 5,
    "start_time": "2023-05-16T10:08:46.577Z"
   },
   {
    "duration": 27,
    "start_time": "2023-05-16T10:09:01.709Z"
   },
   {
    "duration": 117,
    "start_time": "2023-05-16T10:11:18.798Z"
   },
   {
    "duration": 16,
    "start_time": "2023-05-16T10:11:30.655Z"
   },
   {
    "duration": 1583,
    "start_time": "2023-05-16T10:11:45.796Z"
   },
   {
    "duration": 21,
    "start_time": "2023-05-16T10:12:00.563Z"
   },
   {
    "duration": 61,
    "start_time": "2023-05-16T10:13:28.796Z"
   },
   {
    "duration": 18,
    "start_time": "2023-05-16T10:17:03.962Z"
   },
   {
    "duration": 14,
    "start_time": "2023-05-16T10:17:40.263Z"
   },
   {
    "duration": 16,
    "start_time": "2023-05-16T10:19:11.096Z"
   },
   {
    "duration": 15,
    "start_time": "2023-05-16T10:21:33.873Z"
   },
   {
    "duration": 15,
    "start_time": "2023-05-16T10:22:33.410Z"
   },
   {
    "duration": 16,
    "start_time": "2023-05-16T10:22:40.559Z"
   },
   {
    "duration": 15,
    "start_time": "2023-05-16T10:22:40.805Z"
   },
   {
    "duration": 12,
    "start_time": "2023-05-16T10:35:09.760Z"
   },
   {
    "duration": 12,
    "start_time": "2023-05-16T10:38:46.668Z"
   },
   {
    "duration": 13,
    "start_time": "2023-05-16T10:39:11.913Z"
   },
   {
    "duration": 1557,
    "start_time": "2023-05-16T10:39:36.368Z"
   },
   {
    "duration": 10,
    "start_time": "2023-05-16T10:39:55.068Z"
   },
   {
    "duration": 13,
    "start_time": "2023-05-16T10:40:55.789Z"
   },
   {
    "duration": 13,
    "start_time": "2023-05-16T10:41:03.017Z"
   },
   {
    "duration": 128,
    "start_time": "2023-05-16T10:44:34.464Z"
   },
   {
    "duration": 18,
    "start_time": "2023-05-16T10:44:52.193Z"
   },
   {
    "duration": 20,
    "start_time": "2023-05-16T10:46:13.421Z"
   },
   {
    "duration": 21,
    "start_time": "2023-05-16T10:57:41.698Z"
   },
   {
    "duration": 23,
    "start_time": "2023-05-16T10:58:24.659Z"
   },
   {
    "duration": 24,
    "start_time": "2023-05-16T10:58:33.958Z"
   },
   {
    "duration": 24,
    "start_time": "2023-05-16T10:59:11.028Z"
   },
   {
    "duration": 13,
    "start_time": "2023-05-16T10:59:30.960Z"
   },
   {
    "duration": 14,
    "start_time": "2023-05-16T11:01:37.862Z"
   },
   {
    "duration": 394,
    "start_time": "2023-05-16T11:02:03.062Z"
   },
   {
    "duration": 15,
    "start_time": "2023-05-16T11:02:48.662Z"
   },
   {
    "duration": 18,
    "start_time": "2023-05-16T11:13:22.191Z"
   },
   {
    "duration": 16,
    "start_time": "2023-05-16T11:13:46.125Z"
   },
   {
    "duration": 17,
    "start_time": "2023-05-16T11:19:53.076Z"
   },
   {
    "duration": 15,
    "start_time": "2023-05-16T11:20:19.081Z"
   },
   {
    "duration": 12,
    "start_time": "2023-05-16T11:20:46.616Z"
   },
   {
    "duration": 87,
    "start_time": "2023-05-16T11:20:51.872Z"
   },
   {
    "duration": 11,
    "start_time": "2023-05-16T11:20:58.125Z"
   },
   {
    "duration": 12,
    "start_time": "2023-05-16T11:22:31.620Z"
   },
   {
    "duration": 182,
    "start_time": "2023-05-16T11:25:47.865Z"
   },
   {
    "duration": 10,
    "start_time": "2023-05-16T11:25:57.337Z"
   },
   {
    "duration": 16,
    "start_time": "2023-05-16T11:27:42.260Z"
   },
   {
    "duration": 21,
    "start_time": "2023-05-16T11:28:50.371Z"
   },
   {
    "duration": 21,
    "start_time": "2023-05-16T11:28:55.660Z"
   },
   {
    "duration": 20,
    "start_time": "2023-05-16T11:29:28.940Z"
   },
   {
    "duration": 4,
    "start_time": "2023-05-16T11:30:01.867Z"
   },
   {
    "duration": 25,
    "start_time": "2023-05-16T11:30:11.132Z"
   },
   {
    "duration": 23,
    "start_time": "2023-05-16T11:30:23.529Z"
   },
   {
    "duration": 23,
    "start_time": "2023-05-16T11:30:49.274Z"
   },
   {
    "duration": 32,
    "start_time": "2023-05-16T11:31:36.667Z"
   },
   {
    "duration": 19,
    "start_time": "2023-05-16T11:32:39.225Z"
   },
   {
    "duration": 15,
    "start_time": "2023-05-16T11:33:10.670Z"
   },
   {
    "duration": 23,
    "start_time": "2023-05-16T11:33:17.925Z"
   },
   {
    "duration": 28,
    "start_time": "2023-05-16T11:34:29.823Z"
   },
   {
    "duration": 21,
    "start_time": "2023-05-16T11:34:42.702Z"
   },
   {
    "duration": 21,
    "start_time": "2023-05-16T11:34:51.285Z"
   },
   {
    "duration": 23,
    "start_time": "2023-05-16T11:36:22.822Z"
   },
   {
    "duration": 26,
    "start_time": "2023-05-16T11:36:33.974Z"
   },
   {
    "duration": 21,
    "start_time": "2023-05-16T11:37:34.663Z"
   },
   {
    "duration": 20,
    "start_time": "2023-05-16T11:37:55.134Z"
   },
   {
    "duration": 17,
    "start_time": "2023-05-16T11:39:50.776Z"
   },
   {
    "duration": 17,
    "start_time": "2023-05-16T11:40:14.463Z"
   },
   {
    "duration": 23,
    "start_time": "2023-05-16T11:40:51.930Z"
   },
   {
    "duration": 18,
    "start_time": "2023-05-16T11:41:50.198Z"
   },
   {
    "duration": 18,
    "start_time": "2023-05-16T11:42:51.372Z"
   },
   {
    "duration": 17,
    "start_time": "2023-05-16T11:43:10.672Z"
   },
   {
    "duration": 16,
    "start_time": "2023-05-16T11:43:32.829Z"
   },
   {
    "duration": 6,
    "start_time": "2023-05-16T11:46:39.157Z"
   },
   {
    "duration": 3938,
    "start_time": "2023-05-16T11:48:13.985Z"
   },
   {
    "duration": 18,
    "start_time": "2023-05-16T11:48:20.572Z"
   },
   {
    "duration": 34,
    "start_time": "2023-05-16T11:48:35.673Z"
   },
   {
    "duration": 24,
    "start_time": "2023-05-16T11:48:46.120Z"
   },
   {
    "duration": 2574,
    "start_time": "2023-05-16T11:49:03.264Z"
   },
   {
    "duration": 15,
    "start_time": "2023-05-16T11:49:05.841Z"
   },
   {
    "duration": 963,
    "start_time": "2023-05-16T11:49:05.857Z"
   },
   {
    "duration": 1966,
    "start_time": "2023-05-16T11:49:06.822Z"
   },
   {
    "duration": 19,
    "start_time": "2023-05-16T11:49:08.790Z"
   },
   {
    "duration": 16,
    "start_time": "2023-05-16T11:49:08.810Z"
   },
   {
    "duration": 82,
    "start_time": "2023-05-16T11:49:08.827Z"
   },
   {
    "duration": 9,
    "start_time": "2023-05-16T11:49:08.911Z"
   },
   {
    "duration": 5,
    "start_time": "2023-05-16T11:49:08.922Z"
   },
   {
    "duration": 10,
    "start_time": "2023-05-16T11:49:08.984Z"
   },
   {
    "duration": 685,
    "start_time": "2023-05-16T11:49:08.995Z"
   },
   {
    "duration": 9,
    "start_time": "2023-05-16T11:49:09.681Z"
   },
   {
    "duration": 42,
    "start_time": "2023-05-16T11:49:09.691Z"
   },
   {
    "duration": 170,
    "start_time": "2023-05-16T11:49:09.734Z"
   },
   {
    "duration": 21,
    "start_time": "2023-05-16T11:49:09.906Z"
   },
   {
    "duration": 112,
    "start_time": "2023-05-16T11:49:09.928Z"
   },
   {
    "duration": 44,
    "start_time": "2023-05-16T11:49:10.042Z"
   },
   {
    "duration": 38,
    "start_time": "2023-05-16T11:49:10.087Z"
   },
   {
    "duration": 42,
    "start_time": "2023-05-16T11:49:10.126Z"
   },
   {
    "duration": 4,
    "start_time": "2023-05-16T11:49:10.170Z"
   },
   {
    "duration": 41,
    "start_time": "2023-05-16T11:49:10.176Z"
   },
   {
    "duration": 12,
    "start_time": "2023-05-16T11:52:12.373Z"
   },
   {
    "duration": 17,
    "start_time": "2023-05-16T11:54:08.653Z"
   },
   {
    "duration": 7,
    "start_time": "2023-05-16T11:54:14.280Z"
   },
   {
    "duration": 2231,
    "start_time": "2023-05-16T11:54:28.096Z"
   },
   {
    "duration": 1175,
    "start_time": "2023-05-16T11:54:30.329Z"
   },
   {
    "duration": 1044,
    "start_time": "2023-05-16T11:54:31.505Z"
   },
   {
    "duration": 1312,
    "start_time": "2023-05-16T11:54:32.551Z"
   },
   {
    "duration": 19,
    "start_time": "2023-05-16T11:54:33.865Z"
   },
   {
    "duration": 12,
    "start_time": "2023-05-16T11:54:33.886Z"
   },
   {
    "duration": 18,
    "start_time": "2023-05-16T11:54:33.899Z"
   },
   {
    "duration": 10,
    "start_time": "2023-05-16T11:54:33.919Z"
   },
   {
    "duration": 4,
    "start_time": "2023-05-16T11:54:33.931Z"
   },
   {
    "duration": 8,
    "start_time": "2023-05-16T11:54:33.937Z"
   },
   {
    "duration": 605,
    "start_time": "2023-05-16T11:54:33.947Z"
   },
   {
    "duration": 6,
    "start_time": "2023-05-16T11:54:34.554Z"
   },
   {
    "duration": 30,
    "start_time": "2023-05-16T11:54:34.562Z"
   },
   {
    "duration": 419,
    "start_time": "2023-05-16T11:54:34.593Z"
   },
   {
    "duration": 20,
    "start_time": "2023-05-16T11:54:35.013Z"
   },
   {
    "duration": 187,
    "start_time": "2023-05-16T11:54:35.034Z"
   },
   {
    "duration": 15,
    "start_time": "2023-05-16T11:54:35.223Z"
   },
   {
    "duration": 187,
    "start_time": "2023-05-16T11:54:35.240Z"
   },
   {
    "duration": 0,
    "start_time": "2023-05-16T11:54:35.428Z"
   },
   {
    "duration": 1,
    "start_time": "2023-05-16T11:54:35.429Z"
   },
   {
    "duration": 0,
    "start_time": "2023-05-16T11:54:35.430Z"
   },
   {
    "duration": 18,
    "start_time": "2023-05-16T11:55:05.018Z"
   },
   {
    "duration": 34,
    "start_time": "2023-05-16T11:56:01.464Z"
   },
   {
    "duration": 1432,
    "start_time": "2023-05-16T11:56:07.359Z"
   },
   {
    "duration": 30,
    "start_time": "2023-05-16T11:56:50.859Z"
   },
   {
    "duration": 19,
    "start_time": "2023-05-16T11:57:04.499Z"
   },
   {
    "duration": 26,
    "start_time": "2023-05-16T11:59:26.360Z"
   },
   {
    "duration": 30,
    "start_time": "2023-05-16T12:00:01.405Z"
   },
   {
    "duration": 37,
    "start_time": "2023-05-16T12:00:16.300Z"
   },
   {
    "duration": 24,
    "start_time": "2023-05-16T12:00:55.495Z"
   },
   {
    "duration": 1434,
    "start_time": "2023-05-16T12:01:18.918Z"
   },
   {
    "duration": 1936,
    "start_time": "2023-05-16T12:04:31.742Z"
   },
   {
    "duration": 1374,
    "start_time": "2023-05-16T12:04:48.566Z"
   },
   {
    "duration": 19,
    "start_time": "2023-05-16T12:05:17.043Z"
   },
   {
    "duration": 22,
    "start_time": "2023-05-16T12:06:28.380Z"
   },
   {
    "duration": 20,
    "start_time": "2023-05-16T12:06:42.276Z"
   },
   {
    "duration": 20,
    "start_time": "2023-05-16T12:06:50.663Z"
   },
   {
    "duration": 22,
    "start_time": "2023-05-16T12:07:21.643Z"
   },
   {
    "duration": 1865,
    "start_time": "2023-05-16T12:16:11.453Z"
   },
   {
    "duration": 1181,
    "start_time": "2023-05-16T12:16:23.411Z"
   },
   {
    "duration": 5,
    "start_time": "2023-05-16T12:16:27.220Z"
   },
   {
    "duration": 2559,
    "start_time": "2023-05-16T12:16:30.150Z"
   },
   {
    "duration": 1291,
    "start_time": "2023-05-16T12:16:45.287Z"
   },
   {
    "duration": 2942,
    "start_time": "2023-05-16T12:17:01.309Z"
   },
   {
    "duration": 20,
    "start_time": "2023-05-16T12:17:25.876Z"
   },
   {
    "duration": 27,
    "start_time": "2023-05-16T12:18:24.252Z"
   },
   {
    "duration": 23,
    "start_time": "2023-05-16T12:18:33.212Z"
   },
   {
    "duration": 2038,
    "start_time": "2023-05-16T12:20:22.356Z"
   },
   {
    "duration": 21,
    "start_time": "2023-05-16T12:20:35.969Z"
   },
   {
    "duration": 21,
    "start_time": "2023-05-16T12:20:47.529Z"
   },
   {
    "duration": 21,
    "start_time": "2023-05-16T12:21:02.748Z"
   },
   {
    "duration": 22,
    "start_time": "2023-05-16T12:21:09.405Z"
   },
   {
    "duration": 21,
    "start_time": "2023-05-16T12:21:14.085Z"
   },
   {
    "duration": 20,
    "start_time": "2023-05-16T12:21:49.093Z"
   },
   {
    "duration": 23,
    "start_time": "2023-05-16T12:22:07.205Z"
   },
   {
    "duration": 21,
    "start_time": "2023-05-16T12:22:17.564Z"
   },
   {
    "duration": 22,
    "start_time": "2023-05-16T12:23:05.601Z"
   },
   {
    "duration": 22,
    "start_time": "2023-05-16T12:23:26.718Z"
   },
   {
    "duration": 29,
    "start_time": "2023-05-16T12:23:56.658Z"
   },
   {
    "duration": 18,
    "start_time": "2023-05-16T12:24:18.506Z"
   },
   {
    "duration": 21,
    "start_time": "2023-05-16T12:24:34.822Z"
   },
   {
    "duration": 25,
    "start_time": "2023-05-16T12:24:53.576Z"
   },
   {
    "duration": 19,
    "start_time": "2023-05-16T12:25:02.654Z"
   },
   {
    "duration": 28,
    "start_time": "2023-05-16T12:25:28.362Z"
   },
   {
    "duration": 20,
    "start_time": "2023-05-16T12:25:35.557Z"
   },
   {
    "duration": 2674,
    "start_time": "2023-05-16T12:26:04.557Z"
   },
   {
    "duration": 22,
    "start_time": "2023-05-16T12:26:18.356Z"
   },
   {
    "duration": 19,
    "start_time": "2023-05-16T12:26:31.554Z"
   },
   {
    "duration": 61,
    "start_time": "2023-05-16T12:26:47.058Z"
   },
   {
    "duration": 14,
    "start_time": "2023-05-16T12:27:07.994Z"
   },
   {
    "duration": 49,
    "start_time": "2023-05-16T12:27:21.010Z"
   },
   {
    "duration": 19,
    "start_time": "2023-05-16T12:52:47.262Z"
   },
   {
    "duration": 16,
    "start_time": "2023-05-16T12:53:50.676Z"
   },
   {
    "duration": 52,
    "start_time": "2023-05-16T12:55:34.129Z"
   },
   {
    "duration": 12,
    "start_time": "2023-05-16T12:56:35.204Z"
   },
   {
    "duration": 20,
    "start_time": "2023-05-16T12:57:03.903Z"
   },
   {
    "duration": 14,
    "start_time": "2023-05-16T12:58:09.061Z"
   },
   {
    "duration": 12,
    "start_time": "2023-05-16T13:06:31.463Z"
   },
   {
    "duration": 16,
    "start_time": "2023-05-16T13:06:47.960Z"
   },
   {
    "duration": 17,
    "start_time": "2023-05-16T13:07:37.983Z"
   },
   {
    "duration": 2209,
    "start_time": "2023-05-16T13:28:34.686Z"
   },
   {
    "duration": 13,
    "start_time": "2023-05-16T13:28:36.897Z"
   },
   {
    "duration": 1115,
    "start_time": "2023-05-16T13:28:36.912Z"
   },
   {
    "duration": 1333,
    "start_time": "2023-05-16T13:28:38.029Z"
   },
   {
    "duration": 33,
    "start_time": "2023-05-16T13:28:39.364Z"
   },
   {
    "duration": 13,
    "start_time": "2023-05-16T13:28:39.399Z"
   },
   {
    "duration": 19,
    "start_time": "2023-05-16T13:28:39.414Z"
   },
   {
    "duration": 14,
    "start_time": "2023-05-16T13:28:39.435Z"
   },
   {
    "duration": 5,
    "start_time": "2023-05-16T13:28:39.450Z"
   },
   {
    "duration": 9,
    "start_time": "2023-05-16T13:28:39.486Z"
   },
   {
    "duration": 644,
    "start_time": "2023-05-16T13:28:39.496Z"
   },
   {
    "duration": 8,
    "start_time": "2023-05-16T13:28:40.142Z"
   },
   {
    "duration": 34,
    "start_time": "2023-05-16T13:28:40.152Z"
   },
   {
    "duration": 107,
    "start_time": "2023-05-16T13:28:40.188Z"
   },
   {
    "duration": 20,
    "start_time": "2023-05-16T13:28:40.297Z"
   },
   {
    "duration": 120,
    "start_time": "2023-05-16T13:28:40.319Z"
   },
   {
    "duration": 16,
    "start_time": "2023-05-16T13:28:40.441Z"
   },
   {
    "duration": 43,
    "start_time": "2023-05-16T13:28:40.459Z"
   },
   {
    "duration": 3,
    "start_time": "2023-05-16T13:28:40.503Z"
   },
   {
    "duration": 48,
    "start_time": "2023-05-16T13:28:40.507Z"
   },
   {
    "duration": 30,
    "start_time": "2023-05-16T13:28:40.557Z"
   },
   {
    "duration": 19,
    "start_time": "2023-05-16T13:28:40.589Z"
   },
   {
    "duration": 19,
    "start_time": "2023-05-16T13:29:14.810Z"
   },
   {
    "duration": 14,
    "start_time": "2023-05-16T13:31:35.958Z"
   },
   {
    "duration": 97,
    "start_time": "2023-05-16T13:31:50.594Z"
   },
   {
    "duration": 14,
    "start_time": "2023-05-16T13:32:32.466Z"
   },
   {
    "duration": 30,
    "start_time": "2023-05-16T13:33:06.260Z"
   },
   {
    "duration": 81,
    "start_time": "2023-05-16T13:33:19.259Z"
   },
   {
    "duration": 8,
    "start_time": "2023-05-16T13:33:36.607Z"
   },
   {
    "duration": 75,
    "start_time": "2023-05-16T13:33:51.699Z"
   },
   {
    "duration": 59,
    "start_time": "2023-05-16T13:33:53.311Z"
   },
   {
    "duration": 6,
    "start_time": "2023-05-16T13:33:57.594Z"
   },
   {
    "duration": 104,
    "start_time": "2023-05-16T13:35:44.953Z"
   },
   {
    "duration": 24,
    "start_time": "2023-05-16T13:36:10.979Z"
   },
   {
    "duration": 59,
    "start_time": "2023-05-16T13:37:36.194Z"
   },
   {
    "duration": 7,
    "start_time": "2023-05-16T13:37:45.422Z"
   },
   {
    "duration": 64,
    "start_time": "2023-05-16T13:38:55.441Z"
   },
   {
    "duration": 24,
    "start_time": "2023-05-16T13:41:03.351Z"
   },
   {
    "duration": 19,
    "start_time": "2023-05-16T13:41:16.998Z"
   },
   {
    "duration": 53,
    "start_time": "2023-05-16T13:41:30.558Z"
   },
   {
    "duration": 6,
    "start_time": "2023-05-16T13:45:36.694Z"
   },
   {
    "duration": 63,
    "start_time": "2023-05-16T13:46:00.296Z"
   },
   {
    "duration": 8,
    "start_time": "2023-05-16T13:46:05.523Z"
   },
   {
    "duration": 61,
    "start_time": "2023-05-16T13:47:05.110Z"
   },
   {
    "duration": 65,
    "start_time": "2023-05-16T13:47:45.102Z"
   },
   {
    "duration": 10,
    "start_time": "2023-05-16T13:54:53.056Z"
   },
   {
    "duration": 13,
    "start_time": "2023-05-16T13:55:10.056Z"
   },
   {
    "duration": 4809,
    "start_time": "2023-05-16T13:55:59.357Z"
   },
   {
    "duration": 5002,
    "start_time": "2023-05-16T13:56:18.417Z"
   },
   {
    "duration": 4799,
    "start_time": "2023-05-16T13:56:32.432Z"
   },
   {
    "duration": 27,
    "start_time": "2023-05-16T13:57:12.233Z"
   },
   {
    "duration": 4970,
    "start_time": "2023-05-16T13:57:28.325Z"
   },
   {
    "duration": 5042,
    "start_time": "2023-05-16T13:57:51.145Z"
   },
   {
    "duration": 5193,
    "start_time": "2023-05-16T13:59:38.109Z"
   },
   {
    "duration": 3260,
    "start_time": "2023-05-16T14:19:23.461Z"
   },
   {
    "duration": 10,
    "start_time": "2023-05-16T14:19:50.760Z"
   },
   {
    "duration": 2854,
    "start_time": "2023-05-16T14:19:58.247Z"
   },
   {
    "duration": 11,
    "start_time": "2023-05-16T14:20:31.025Z"
   },
   {
    "duration": 1906,
    "start_time": "2023-05-16T14:20:36.558Z"
   },
   {
    "duration": 2018,
    "start_time": "2023-05-16T14:21:30.459Z"
   },
   {
    "duration": 1326,
    "start_time": "2023-05-16T14:22:46.013Z"
   },
   {
    "duration": 1065,
    "start_time": "2023-05-16T14:23:17.270Z"
   },
   {
    "duration": 1047,
    "start_time": "2023-05-16T14:23:43.111Z"
   },
   {
    "duration": 15,
    "start_time": "2023-05-16T14:25:24.316Z"
   },
   {
    "duration": 1334,
    "start_time": "2023-05-16T14:25:30.174Z"
   },
   {
    "duration": 2237,
    "start_time": "2023-05-16T14:25:45.955Z"
   },
   {
    "duration": 2361,
    "start_time": "2023-05-16T14:25:57.166Z"
   },
   {
    "duration": 18,
    "start_time": "2023-05-16T14:25:59.530Z"
   },
   {
    "duration": 1101,
    "start_time": "2023-05-16T14:25:59.550Z"
   },
   {
    "duration": 1453,
    "start_time": "2023-05-16T14:26:00.653Z"
   },
   {
    "duration": 21,
    "start_time": "2023-05-16T14:26:02.108Z"
   },
   {
    "duration": 47,
    "start_time": "2023-05-16T14:26:02.131Z"
   },
   {
    "duration": 32,
    "start_time": "2023-05-16T14:26:02.180Z"
   },
   {
    "duration": 11,
    "start_time": "2023-05-16T14:26:02.214Z"
   },
   {
    "duration": 25,
    "start_time": "2023-05-16T14:26:02.227Z"
   },
   {
    "duration": 22,
    "start_time": "2023-05-16T14:26:02.255Z"
   },
   {
    "duration": 5271,
    "start_time": "2023-05-16T14:26:02.278Z"
   },
   {
    "duration": 1740,
    "start_time": "2023-05-16T14:26:07.551Z"
   },
   {
    "duration": 0,
    "start_time": "2023-05-16T14:26:09.293Z"
   },
   {
    "duration": 0,
    "start_time": "2023-05-16T14:26:09.295Z"
   },
   {
    "duration": 0,
    "start_time": "2023-05-16T14:26:09.296Z"
   },
   {
    "duration": 0,
    "start_time": "2023-05-16T14:26:09.297Z"
   },
   {
    "duration": 0,
    "start_time": "2023-05-16T14:26:09.298Z"
   },
   {
    "duration": 0,
    "start_time": "2023-05-16T14:26:09.299Z"
   },
   {
    "duration": 0,
    "start_time": "2023-05-16T14:26:09.300Z"
   },
   {
    "duration": 0,
    "start_time": "2023-05-16T14:26:09.302Z"
   },
   {
    "duration": 0,
    "start_time": "2023-05-16T14:26:09.303Z"
   },
   {
    "duration": 0,
    "start_time": "2023-05-16T14:26:09.304Z"
   },
   {
    "duration": 0,
    "start_time": "2023-05-16T14:26:09.305Z"
   },
   {
    "duration": 0,
    "start_time": "2023-05-16T14:26:09.306Z"
   },
   {
    "duration": 2296,
    "start_time": "2023-05-16T14:27:15.260Z"
   },
   {
    "duration": 16,
    "start_time": "2023-05-16T14:28:28.052Z"
   },
   {
    "duration": 14,
    "start_time": "2023-05-16T14:28:34.115Z"
   },
   {
    "duration": 2121,
    "start_time": "2023-05-16T14:28:40.967Z"
   },
   {
    "duration": 2248,
    "start_time": "2023-05-16T14:28:55.550Z"
   },
   {
    "duration": 15,
    "start_time": "2023-05-16T14:28:57.801Z"
   },
   {
    "duration": 1044,
    "start_time": "2023-05-16T14:28:57.818Z"
   },
   {
    "duration": 1961,
    "start_time": "2023-05-16T14:28:58.864Z"
   },
   {
    "duration": 71,
    "start_time": "2023-05-16T14:29:00.827Z"
   },
   {
    "duration": 96,
    "start_time": "2023-05-16T14:29:00.900Z"
   },
   {
    "duration": 38,
    "start_time": "2023-05-16T14:29:00.998Z"
   },
   {
    "duration": 13,
    "start_time": "2023-05-16T14:29:01.086Z"
   },
   {
    "duration": 50,
    "start_time": "2023-05-16T14:29:01.101Z"
   },
   {
    "duration": 12,
    "start_time": "2023-05-16T14:29:01.185Z"
   },
   {
    "duration": 6496,
    "start_time": "2023-05-16T14:29:01.199Z"
   },
   {
    "duration": 2209,
    "start_time": "2023-05-16T14:29:07.697Z"
   },
   {
    "duration": 849,
    "start_time": "2023-05-16T14:29:09.908Z"
   },
   {
    "duration": 7,
    "start_time": "2023-05-16T14:29:10.760Z"
   },
   {
    "duration": 30,
    "start_time": "2023-05-16T14:29:10.768Z"
   },
   {
    "duration": 106,
    "start_time": "2023-05-16T14:29:10.800Z"
   },
   {
    "duration": 22,
    "start_time": "2023-05-16T14:29:10.909Z"
   },
   {
    "duration": 117,
    "start_time": "2023-05-16T14:29:10.933Z"
   },
   {
    "duration": 43,
    "start_time": "2023-05-16T14:29:11.052Z"
   },
   {
    "duration": 49,
    "start_time": "2023-05-16T14:29:11.096Z"
   },
   {
    "duration": 2,
    "start_time": "2023-05-16T14:29:11.147Z"
   },
   {
    "duration": 89,
    "start_time": "2023-05-16T14:29:11.151Z"
   },
   {
    "duration": 13,
    "start_time": "2023-05-16T14:29:11.242Z"
   },
   {
    "duration": 93,
    "start_time": "2023-05-16T14:29:11.257Z"
   },
   {
    "duration": 5,
    "start_time": "2023-05-16T14:29:11.923Z"
   },
   {
    "duration": 3877,
    "start_time": "2023-05-16T15:16:53.356Z"
   },
   {
    "duration": 18,
    "start_time": "2023-05-16T15:16:57.236Z"
   },
   {
    "duration": 1629,
    "start_time": "2023-05-16T15:16:57.256Z"
   },
   {
    "duration": 1378,
    "start_time": "2023-05-16T15:16:58.886Z"
   },
   {
    "duration": 26,
    "start_time": "2023-05-16T15:17:00.266Z"
   },
   {
    "duration": 47,
    "start_time": "2023-05-16T15:17:00.293Z"
   },
   {
    "duration": 76,
    "start_time": "2023-05-16T15:17:00.342Z"
   },
   {
    "duration": 46,
    "start_time": "2023-05-16T15:17:00.420Z"
   },
   {
    "duration": 27,
    "start_time": "2023-05-16T15:17:00.469Z"
   },
   {
    "duration": 86,
    "start_time": "2023-05-16T15:17:00.498Z"
   },
   {
    "duration": 5301,
    "start_time": "2023-05-16T15:17:00.586Z"
   },
   {
    "duration": 2089,
    "start_time": "2023-05-16T15:17:05.889Z"
   },
   {
    "duration": 945,
    "start_time": "2023-05-16T15:17:07.979Z"
   },
   {
    "duration": 7,
    "start_time": "2023-05-16T15:17:08.926Z"
   },
   {
    "duration": 19,
    "start_time": "2023-05-16T15:17:08.934Z"
   },
   {
    "duration": 106,
    "start_time": "2023-05-16T15:17:08.955Z"
   },
   {
    "duration": 34,
    "start_time": "2023-05-16T15:17:09.063Z"
   },
   {
    "duration": 113,
    "start_time": "2023-05-16T15:17:09.099Z"
   },
   {
    "duration": 22,
    "start_time": "2023-05-16T15:17:09.214Z"
   },
   {
    "duration": 53,
    "start_time": "2023-05-16T15:17:09.237Z"
   },
   {
    "duration": 2,
    "start_time": "2023-05-16T15:17:09.292Z"
   },
   {
    "duration": 83,
    "start_time": "2023-05-16T15:17:09.296Z"
   },
   {
    "duration": 15,
    "start_time": "2023-05-16T15:17:09.381Z"
   },
   {
    "duration": 68,
    "start_time": "2023-05-16T15:17:09.398Z"
   },
   {
    "duration": 18,
    "start_time": "2023-05-16T15:20:43.019Z"
   },
   {
    "duration": 1696,
    "start_time": "2023-05-16T15:20:55.105Z"
   },
   {
    "duration": 1558,
    "start_time": "2023-05-16T15:21:19.545Z"
   },
   {
    "duration": 1525,
    "start_time": "2023-05-16T15:22:11.977Z"
   },
   {
    "duration": 1529,
    "start_time": "2023-05-16T15:22:30.054Z"
   },
   {
    "duration": 1677,
    "start_time": "2023-05-16T15:22:41.056Z"
   },
   {
    "duration": 1485,
    "start_time": "2023-05-16T15:23:12.692Z"
   },
   {
    "duration": 1558,
    "start_time": "2023-05-16T15:23:28.492Z"
   },
   {
    "duration": 1590,
    "start_time": "2023-05-16T15:26:27.521Z"
   },
   {
    "duration": 119766,
    "start_time": "2023-05-16T15:32:05.552Z"
   },
   {
    "duration": 134619,
    "start_time": "2023-05-16T15:34:32.355Z"
   },
   {
    "duration": 116905,
    "start_time": "2023-05-16T15:43:20.320Z"
   },
   {
    "duration": 378454,
    "start_time": "2023-05-16T15:45:17.228Z"
   },
   {
    "duration": 19,
    "start_time": "2023-05-16T15:51:35.683Z"
   },
   {
    "duration": 5088,
    "start_time": "2023-05-16T15:54:51.052Z"
   },
   {
    "duration": 19,
    "start_time": "2023-05-16T15:54:56.143Z"
   },
   {
    "duration": 1188,
    "start_time": "2023-05-16T15:54:56.164Z"
   },
   {
    "duration": 1452,
    "start_time": "2023-05-16T15:54:57.354Z"
   },
   {
    "duration": 19,
    "start_time": "2023-05-16T15:54:58.808Z"
   },
   {
    "duration": 22,
    "start_time": "2023-05-16T15:54:58.828Z"
   },
   {
    "duration": 47,
    "start_time": "2023-05-16T15:54:58.853Z"
   },
   {
    "duration": 10,
    "start_time": "2023-05-16T15:54:58.902Z"
   },
   {
    "duration": 49,
    "start_time": "2023-05-16T15:54:58.914Z"
   },
   {
    "duration": 35,
    "start_time": "2023-05-16T15:54:58.965Z"
   },
   {
    "duration": 2455,
    "start_time": "2023-05-16T15:58:52.915Z"
   },
   {
    "duration": 1393,
    "start_time": "2023-05-16T15:58:55.372Z"
   },
   {
    "duration": 966,
    "start_time": "2023-05-16T15:58:56.766Z"
   },
   {
    "duration": 1389,
    "start_time": "2023-05-16T15:58:57.734Z"
   },
   {
    "duration": 30,
    "start_time": "2023-05-16T15:58:59.126Z"
   },
   {
    "duration": 17,
    "start_time": "2023-05-16T15:58:59.157Z"
   },
   {
    "duration": 38,
    "start_time": "2023-05-16T15:58:59.176Z"
   },
   {
    "duration": 12,
    "start_time": "2023-05-16T15:58:59.216Z"
   },
   {
    "duration": 5,
    "start_time": "2023-05-16T15:58:59.230Z"
   },
   {
    "duration": 26,
    "start_time": "2023-05-16T15:58:59.237Z"
   },
   {
    "duration": 125047,
    "start_time": "2023-05-16T15:58:59.264Z"
   },
   {
    "duration": 381432,
    "start_time": "2023-05-16T16:01:04.313Z"
   },
   {
    "duration": 977,
    "start_time": "2023-05-16T16:07:25.747Z"
   },
   {
    "duration": 7,
    "start_time": "2023-05-16T16:07:26.727Z"
   },
   {
    "duration": 42,
    "start_time": "2023-05-16T16:07:26.736Z"
   },
   {
    "duration": 1740,
    "start_time": "2023-05-16T16:07:26.780Z"
   },
   {
    "duration": 82,
    "start_time": "2023-05-16T16:07:28.522Z"
   },
   {
    "duration": 141,
    "start_time": "2023-05-16T16:07:28.605Z"
   },
   {
    "duration": 203,
    "start_time": "2023-05-16T16:07:28.748Z"
   },
   {
    "duration": 0,
    "start_time": "2023-05-16T16:07:28.953Z"
   },
   {
    "duration": 0,
    "start_time": "2023-05-16T16:07:28.954Z"
   },
   {
    "duration": 0,
    "start_time": "2023-05-16T16:07:28.956Z"
   },
   {
    "duration": 0,
    "start_time": "2023-05-16T16:07:28.957Z"
   },
   {
    "duration": 0,
    "start_time": "2023-05-16T16:07:28.959Z"
   },
   {
    "duration": 0,
    "start_time": "2023-05-16T16:07:28.960Z"
   },
   {
    "duration": 0,
    "start_time": "2023-05-16T16:07:28.961Z"
   },
   {
    "duration": 14,
    "start_time": "2023-05-16T16:12:58.565Z"
   },
   {
    "duration": 23,
    "start_time": "2023-05-16T16:13:13.975Z"
   },
   {
    "duration": 4002,
    "start_time": "2023-05-16T16:13:26.719Z"
   },
   {
    "duration": 8254,
    "start_time": "2023-05-16T16:13:57.151Z"
   },
   {
    "duration": 9452,
    "start_time": "2023-05-16T16:14:21.731Z"
   },
   {
    "duration": 13,
    "start_time": "2023-05-16T16:23:24.177Z"
   },
   {
    "duration": 2119,
    "start_time": "2023-05-16T16:25:03.725Z"
   },
   {
    "duration": 18,
    "start_time": "2023-05-16T16:25:05.846Z"
   },
   {
    "duration": 861,
    "start_time": "2023-05-16T16:25:05.866Z"
   },
   {
    "duration": 1966,
    "start_time": "2023-05-16T16:25:06.728Z"
   },
   {
    "duration": 28,
    "start_time": "2023-05-16T16:25:08.697Z"
   },
   {
    "duration": 70,
    "start_time": "2023-05-16T16:25:08.726Z"
   },
   {
    "duration": 17,
    "start_time": "2023-05-16T16:25:08.798Z"
   },
   {
    "duration": 9,
    "start_time": "2023-05-16T16:25:08.817Z"
   },
   {
    "duration": 4,
    "start_time": "2023-05-16T16:25:08.827Z"
   },
   {
    "duration": 61,
    "start_time": "2023-05-16T16:25:08.832Z"
   },
   {
    "duration": 9086,
    "start_time": "2023-05-16T16:25:08.895Z"
   },
   {
    "duration": 740,
    "start_time": "2023-05-16T16:25:17.982Z"
   },
   {
    "duration": 6,
    "start_time": "2023-05-16T16:25:18.724Z"
   },
   {
    "duration": 20,
    "start_time": "2023-05-16T16:25:18.733Z"
   },
   {
    "duration": 184,
    "start_time": "2023-05-16T16:25:18.755Z"
   },
   {
    "duration": 23,
    "start_time": "2023-05-16T16:25:18.941Z"
   },
   {
    "duration": 80,
    "start_time": "2023-05-16T16:25:18.985Z"
   },
   {
    "duration": 27,
    "start_time": "2023-05-16T16:25:19.067Z"
   },
   {
    "duration": 23,
    "start_time": "2023-05-16T16:25:19.096Z"
   },
   {
    "duration": 22,
    "start_time": "2023-05-16T16:25:19.121Z"
   },
   {
    "duration": 1,
    "start_time": "2023-05-16T16:25:19.145Z"
   },
   {
    "duration": 75,
    "start_time": "2023-05-16T16:25:19.148Z"
   },
   {
    "duration": 11,
    "start_time": "2023-05-16T16:25:19.225Z"
   },
   {
    "duration": 69,
    "start_time": "2023-05-16T16:25:19.238Z"
   },
   {
    "duration": 1449,
    "start_time": "2023-05-16T16:25:19.309Z"
   },
   {
    "duration": 14,
    "start_time": "2023-05-16T16:28:28.844Z"
   },
   {
    "duration": 20,
    "start_time": "2023-05-16T16:28:40.358Z"
   },
   {
    "duration": 19,
    "start_time": "2023-05-16T16:30:12.020Z"
   },
   {
    "duration": 4,
    "start_time": "2023-05-16T16:39:41.147Z"
   },
   {
    "duration": 27,
    "start_time": "2023-05-16T16:40:04.559Z"
   },
   {
    "duration": 122,
    "start_time": "2023-05-16T17:08:07.233Z"
   },
   {
    "duration": 2370,
    "start_time": "2023-05-16T17:08:43.560Z"
   },
   {
    "duration": 16,
    "start_time": "2023-05-16T17:08:45.933Z"
   },
   {
    "duration": 1090,
    "start_time": "2023-05-16T17:08:45.951Z"
   },
   {
    "duration": 1955,
    "start_time": "2023-05-16T17:08:47.043Z"
   },
   {
    "duration": 23,
    "start_time": "2023-05-16T17:08:49.000Z"
   },
   {
    "duration": 75,
    "start_time": "2023-05-16T17:08:49.025Z"
   },
   {
    "duration": 85,
    "start_time": "2023-05-16T17:08:49.101Z"
   },
   {
    "duration": 15,
    "start_time": "2023-05-16T17:08:49.188Z"
   },
   {
    "duration": 6,
    "start_time": "2023-05-16T17:08:49.205Z"
   },
   {
    "duration": 14,
    "start_time": "2023-05-16T17:08:49.213Z"
   },
   {
    "duration": 12567,
    "start_time": "2023-05-16T17:08:49.229Z"
   },
   {
    "duration": 994,
    "start_time": "2023-05-16T17:09:01.798Z"
   },
   {
    "duration": 8,
    "start_time": "2023-05-16T17:09:02.794Z"
   },
   {
    "duration": 32,
    "start_time": "2023-05-16T17:09:02.805Z"
   },
   {
    "duration": 104,
    "start_time": "2023-05-16T17:09:02.839Z"
   },
   {
    "duration": 22,
    "start_time": "2023-05-16T17:09:02.945Z"
   },
   {
    "duration": 88,
    "start_time": "2023-05-16T17:09:02.985Z"
   },
   {
    "duration": 0,
    "start_time": "2023-05-16T17:09:03.075Z"
   },
   {
    "duration": 0,
    "start_time": "2023-05-16T17:09:03.077Z"
   },
   {
    "duration": 0,
    "start_time": "2023-05-16T17:09:03.078Z"
   },
   {
    "duration": 0,
    "start_time": "2023-05-16T17:09:03.079Z"
   },
   {
    "duration": 0,
    "start_time": "2023-05-16T17:09:03.081Z"
   },
   {
    "duration": 0,
    "start_time": "2023-05-16T17:09:03.082Z"
   },
   {
    "duration": 0,
    "start_time": "2023-05-16T17:09:03.084Z"
   },
   {
    "duration": 0,
    "start_time": "2023-05-16T17:09:03.085Z"
   },
   {
    "duration": 138,
    "start_time": "2023-05-16T17:09:41.554Z"
   },
   {
    "duration": 105,
    "start_time": "2023-05-16T17:10:12.207Z"
   },
   {
    "duration": 328,
    "start_time": "2023-05-16T17:10:28.620Z"
   },
   {
    "duration": 123,
    "start_time": "2023-05-16T17:12:13.220Z"
   },
   {
    "duration": 251,
    "start_time": "2023-05-16T17:12:28.491Z"
   },
   {
    "duration": 2820,
    "start_time": "2023-05-16T17:31:19.735Z"
   },
   {
    "duration": 1367,
    "start_time": "2023-05-16T17:31:22.557Z"
   },
   {
    "duration": 1040,
    "start_time": "2023-05-16T17:31:23.925Z"
   },
   {
    "duration": 1417,
    "start_time": "2023-05-16T17:31:24.967Z"
   },
   {
    "duration": 23,
    "start_time": "2023-05-16T17:31:26.386Z"
   },
   {
    "duration": 16,
    "start_time": "2023-05-16T17:31:26.411Z"
   },
   {
    "duration": 20,
    "start_time": "2023-05-16T17:31:26.429Z"
   },
   {
    "duration": 11,
    "start_time": "2023-05-16T17:31:26.485Z"
   },
   {
    "duration": 14,
    "start_time": "2023-05-16T17:31:26.497Z"
   },
   {
    "duration": 16,
    "start_time": "2023-05-16T17:31:26.513Z"
   },
   {
    "duration": 10856,
    "start_time": "2023-05-16T17:31:26.530Z"
   },
   {
    "duration": 946,
    "start_time": "2023-05-16T17:31:37.388Z"
   },
   {
    "duration": 9,
    "start_time": "2023-05-16T17:31:38.337Z"
   },
   {
    "duration": 36,
    "start_time": "2023-05-16T17:31:38.349Z"
   },
   {
    "duration": 557,
    "start_time": "2023-05-16T17:31:38.387Z"
   },
   {
    "duration": 62,
    "start_time": "2023-05-16T17:31:38.946Z"
   },
   {
    "duration": 168,
    "start_time": "2023-05-16T17:31:39.009Z"
   },
   {
    "duration": 28,
    "start_time": "2023-05-16T17:31:39.179Z"
   },
   {
    "duration": 24,
    "start_time": "2023-05-16T17:31:39.209Z"
   },
   {
    "duration": 60,
    "start_time": "2023-05-16T17:31:39.235Z"
   },
   {
    "duration": 2,
    "start_time": "2023-05-16T17:31:39.297Z"
   },
   {
    "duration": 74,
    "start_time": "2023-05-16T17:31:39.302Z"
   },
   {
    "duration": 18,
    "start_time": "2023-05-16T17:31:39.386Z"
   },
   {
    "duration": 88,
    "start_time": "2023-05-16T17:31:39.406Z"
   },
   {
    "duration": 1622,
    "start_time": "2023-05-16T17:31:39.496Z"
   },
   {
    "duration": 12091,
    "start_time": "2023-05-16T17:40:27.919Z"
   },
   {
    "duration": 114,
    "start_time": "2023-05-16T17:42:03.612Z"
   },
   {
    "duration": 115,
    "start_time": "2023-05-16T17:42:51.496Z"
   },
   {
    "duration": 69,
    "start_time": "2023-05-16T17:43:01.594Z"
   },
   {
    "duration": 116,
    "start_time": "2023-05-16T17:43:36.300Z"
   },
   {
    "duration": 76,
    "start_time": "2023-05-16T17:43:50.733Z"
   },
   {
    "duration": 108,
    "start_time": "2023-05-16T17:44:01.823Z"
   },
   {
    "duration": 170,
    "start_time": "2023-05-16T17:44:22.693Z"
   },
   {
    "duration": 82,
    "start_time": "2023-05-16T17:44:56.953Z"
   },
   {
    "duration": 104,
    "start_time": "2023-05-16T17:45:17.815Z"
   },
   {
    "duration": 72,
    "start_time": "2023-05-16T17:45:44.448Z"
   },
   {
    "duration": 78,
    "start_time": "2023-05-16T17:45:49.796Z"
   },
   {
    "duration": 27,
    "start_time": "2023-05-16T18:02:58.651Z"
   },
   {
    "duration": 11,
    "start_time": "2023-05-16T18:46:07.399Z"
   },
   {
    "duration": 4,
    "start_time": "2023-05-16T18:48:50.825Z"
   },
   {
    "duration": 7,
    "start_time": "2023-05-16T18:49:04.445Z"
   },
   {
    "duration": 175,
    "start_time": "2023-05-16T18:50:50.503Z"
   },
   {
    "duration": 22,
    "start_time": "2023-05-16T18:55:58.141Z"
   },
   {
    "duration": 4,
    "start_time": "2023-05-16T19:09:53.144Z"
   },
   {
    "duration": 758,
    "start_time": "2023-05-16T19:13:17.597Z"
   },
   {
    "duration": 91,
    "start_time": "2023-05-16T19:13:33.411Z"
   },
   {
    "duration": 3004,
    "start_time": "2023-05-17T05:59:26.322Z"
   },
   {
    "duration": 1502,
    "start_time": "2023-05-17T05:59:29.329Z"
   },
   {
    "duration": 1370,
    "start_time": "2023-05-17T05:59:30.833Z"
   },
   {
    "duration": 1446,
    "start_time": "2023-05-17T05:59:32.205Z"
   },
   {
    "duration": 22,
    "start_time": "2023-05-17T05:59:33.653Z"
   },
   {
    "duration": 17,
    "start_time": "2023-05-17T05:59:33.676Z"
   },
   {
    "duration": 20,
    "start_time": "2023-05-17T05:59:33.695Z"
   },
   {
    "duration": 11,
    "start_time": "2023-05-17T05:59:33.716Z"
   },
   {
    "duration": 4,
    "start_time": "2023-05-17T05:59:33.728Z"
   },
   {
    "duration": 42,
    "start_time": "2023-05-17T05:59:33.734Z"
   },
   {
    "duration": 9622,
    "start_time": "2023-05-17T05:59:33.778Z"
   },
   {
    "duration": 832,
    "start_time": "2023-05-17T05:59:43.402Z"
   },
   {
    "duration": 7,
    "start_time": "2023-05-17T05:59:44.235Z"
   },
   {
    "duration": 40,
    "start_time": "2023-05-17T05:59:44.244Z"
   },
   {
    "duration": 463,
    "start_time": "2023-05-17T05:59:44.286Z"
   },
   {
    "duration": 33,
    "start_time": "2023-05-17T05:59:44.751Z"
   },
   {
    "duration": 210,
    "start_time": "2023-05-17T05:59:44.785Z"
   },
   {
    "duration": 83,
    "start_time": "2023-05-17T05:59:44.998Z"
   },
   {
    "duration": 21,
    "start_time": "2023-05-17T05:59:45.083Z"
   },
   {
    "duration": 71,
    "start_time": "2023-05-17T05:59:45.105Z"
   },
   {
    "duration": 2,
    "start_time": "2023-05-17T05:59:45.178Z"
   },
   {
    "duration": 123,
    "start_time": "2023-05-17T05:59:45.182Z"
   },
   {
    "duration": 65,
    "start_time": "2023-05-17T05:59:45.310Z"
   },
   {
    "duration": 136,
    "start_time": "2023-05-17T05:59:45.377Z"
   },
   {
    "duration": 71,
    "start_time": "2023-05-17T05:59:45.515Z"
   },
   {
    "duration": 87,
    "start_time": "2023-05-17T05:59:45.589Z"
   },
   {
    "duration": 2233,
    "start_time": "2023-05-17T05:59:45.678Z"
   },
   {
    "duration": 205,
    "start_time": "2023-05-17T05:59:47.913Z"
   },
   {
    "duration": 27,
    "start_time": "2023-05-17T06:01:29.004Z"
   },
   {
    "duration": 30,
    "start_time": "2023-05-17T06:01:58.373Z"
   },
   {
    "duration": 19,
    "start_time": "2023-05-17T06:02:55.236Z"
   },
   {
    "duration": 20,
    "start_time": "2023-05-17T06:03:09.513Z"
   },
   {
    "duration": 2118,
    "start_time": "2023-05-17T06:03:31.171Z"
   },
   {
    "duration": 14,
    "start_time": "2023-05-17T06:03:33.291Z"
   },
   {
    "duration": 1127,
    "start_time": "2023-05-17T06:03:33.306Z"
   },
   {
    "duration": 1358,
    "start_time": "2023-05-17T06:03:34.435Z"
   },
   {
    "duration": 18,
    "start_time": "2023-05-17T06:03:35.795Z"
   },
   {
    "duration": 19,
    "start_time": "2023-05-17T06:03:35.815Z"
   },
   {
    "duration": 20,
    "start_time": "2023-05-17T06:03:35.836Z"
   },
   {
    "duration": 14,
    "start_time": "2023-05-17T06:03:35.875Z"
   },
   {
    "duration": 15,
    "start_time": "2023-05-17T06:03:35.891Z"
   },
   {
    "duration": 16,
    "start_time": "2023-05-17T06:03:35.909Z"
   },
   {
    "duration": 9412,
    "start_time": "2023-05-17T06:03:35.927Z"
   },
   {
    "duration": 751,
    "start_time": "2023-05-17T06:03:45.341Z"
   },
   {
    "duration": 7,
    "start_time": "2023-05-17T06:03:46.094Z"
   },
   {
    "duration": 18,
    "start_time": "2023-05-17T06:03:46.103Z"
   },
   {
    "duration": 191,
    "start_time": "2023-05-17T06:03:46.122Z"
   },
   {
    "duration": 10,
    "start_time": "2023-05-17T06:03:46.315Z"
   },
   {
    "duration": 116,
    "start_time": "2023-05-17T06:03:46.327Z"
   },
   {
    "duration": 46,
    "start_time": "2023-05-17T06:03:46.444Z"
   },
   {
    "duration": 15,
    "start_time": "2023-05-17T06:03:46.492Z"
   },
   {
    "duration": 20,
    "start_time": "2023-05-17T06:03:46.508Z"
   },
   {
    "duration": 3,
    "start_time": "2023-05-17T06:03:46.529Z"
   },
   {
    "duration": 77,
    "start_time": "2023-05-17T06:03:46.534Z"
   },
   {
    "duration": 11,
    "start_time": "2023-05-17T06:03:46.613Z"
   },
   {
    "duration": 76,
    "start_time": "2023-05-17T06:03:46.625Z"
   },
   {
    "duration": 17,
    "start_time": "2023-05-17T06:03:46.702Z"
   },
   {
    "duration": 22,
    "start_time": "2023-05-17T06:03:46.720Z"
   },
   {
    "duration": 2436,
    "start_time": "2023-05-17T06:03:46.743Z"
   },
   {
    "duration": 14,
    "start_time": "2023-05-17T06:03:49.182Z"
   },
   {
    "duration": 18,
    "start_time": "2023-05-17T06:04:32.127Z"
   },
   {
    "duration": 26,
    "start_time": "2023-05-17T06:06:17.465Z"
   },
   {
    "duration": 23,
    "start_time": "2023-05-17T06:06:26.469Z"
   },
   {
    "duration": 21,
    "start_time": "2023-05-17T06:06:42.145Z"
   },
   {
    "duration": 19,
    "start_time": "2023-05-17T06:07:30.327Z"
   },
   {
    "duration": 18,
    "start_time": "2023-05-17T06:07:36.509Z"
   },
   {
    "duration": 19,
    "start_time": "2023-05-17T06:07:52.238Z"
   },
   {
    "duration": 21,
    "start_time": "2023-05-17T06:07:57.913Z"
   },
   {
    "duration": 19,
    "start_time": "2023-05-17T06:21:13.809Z"
   },
   {
    "duration": 19,
    "start_time": "2023-05-17T06:21:46.725Z"
   },
   {
    "duration": 19,
    "start_time": "2023-05-17T06:21:59.809Z"
   },
   {
    "duration": 13,
    "start_time": "2023-05-17T06:22:15.828Z"
   },
   {
    "duration": 23,
    "start_time": "2023-05-17T06:23:11.664Z"
   },
   {
    "duration": 24,
    "start_time": "2023-05-17T06:23:24.003Z"
   },
   {
    "duration": 19,
    "start_time": "2023-05-17T06:24:08.829Z"
   },
   {
    "duration": 17,
    "start_time": "2023-05-17T06:24:38.834Z"
   },
   {
    "duration": 19,
    "start_time": "2023-05-17T06:24:54.800Z"
   },
   {
    "duration": 19,
    "start_time": "2023-05-17T06:25:09.400Z"
   },
   {
    "duration": 20,
    "start_time": "2023-05-17T06:25:17.236Z"
   },
   {
    "duration": 19,
    "start_time": "2023-05-17T06:26:04.633Z"
   },
   {
    "duration": 20,
    "start_time": "2023-05-17T06:26:21.767Z"
   },
   {
    "duration": 10,
    "start_time": "2023-05-17T06:37:54.021Z"
   },
   {
    "duration": 8,
    "start_time": "2023-05-17T06:40:39.952Z"
   },
   {
    "duration": 35,
    "start_time": "2023-05-17T06:43:49.440Z"
   },
   {
    "duration": 8,
    "start_time": "2023-05-17T06:44:25.824Z"
   },
   {
    "duration": 56,
    "start_time": "2023-05-17T06:45:13.908Z"
   },
   {
    "duration": 11,
    "start_time": "2023-05-17T06:45:34.373Z"
   },
   {
    "duration": 15,
    "start_time": "2023-05-17T06:48:00.241Z"
   },
   {
    "duration": 14,
    "start_time": "2023-05-17T06:48:07.747Z"
   },
   {
    "duration": 13,
    "start_time": "2023-05-17T06:51:38.467Z"
   },
   {
    "duration": 12,
    "start_time": "2023-05-17T06:51:54.163Z"
   },
   {
    "duration": 25,
    "start_time": "2023-05-17T06:56:33.787Z"
   },
   {
    "duration": 23,
    "start_time": "2023-05-17T07:04:15.056Z"
   },
   {
    "duration": 26,
    "start_time": "2023-05-17T07:04:32.350Z"
   },
   {
    "duration": 27,
    "start_time": "2023-05-17T07:04:40.943Z"
   },
   {
    "duration": 20,
    "start_time": "2023-05-17T07:05:40.347Z"
   },
   {
    "duration": 21,
    "start_time": "2023-05-17T07:08:00.944Z"
   },
   {
    "duration": 22,
    "start_time": "2023-05-17T07:22:03.463Z"
   },
   {
    "duration": 22,
    "start_time": "2023-05-17T07:22:55.950Z"
   },
   {
    "duration": 19,
    "start_time": "2023-05-17T07:23:06.824Z"
   },
   {
    "duration": 9,
    "start_time": "2023-05-17T07:30:55.927Z"
   },
   {
    "duration": 21,
    "start_time": "2023-05-17T07:33:38.158Z"
   },
   {
    "duration": 9,
    "start_time": "2023-05-17T07:43:27.020Z"
   },
   {
    "duration": 16,
    "start_time": "2023-05-17T08:14:04.821Z"
   },
   {
    "duration": 14,
    "start_time": "2023-05-17T08:14:11.876Z"
   },
   {
    "duration": 834,
    "start_time": "2023-05-17T08:28:20.427Z"
   },
   {
    "duration": 2343,
    "start_time": "2023-05-17T09:07:39.401Z"
   },
   {
    "duration": 10,
    "start_time": "2023-05-17T09:07:57.448Z"
   },
   {
    "duration": 1368,
    "start_time": "2023-05-17T09:08:30.544Z"
   },
   {
    "duration": 2395,
    "start_time": "2023-05-17T09:08:35.001Z"
   },
   {
    "duration": 28,
    "start_time": "2023-05-17T09:08:37.399Z"
   },
   {
    "duration": 1108,
    "start_time": "2023-05-17T09:08:37.429Z"
   },
   {
    "duration": 2001,
    "start_time": "2023-05-17T09:08:38.538Z"
   },
   {
    "duration": 20,
    "start_time": "2023-05-17T09:08:40.541Z"
   },
   {
    "duration": 28,
    "start_time": "2023-05-17T09:08:40.563Z"
   },
   {
    "duration": 30,
    "start_time": "2023-05-17T09:08:40.598Z"
   },
   {
    "duration": 9,
    "start_time": "2023-05-17T09:08:40.630Z"
   },
   {
    "duration": 5,
    "start_time": "2023-05-17T09:08:40.641Z"
   },
   {
    "duration": 10,
    "start_time": "2023-05-17T09:08:40.647Z"
   },
   {
    "duration": 11090,
    "start_time": "2023-05-17T09:08:40.658Z"
   },
   {
    "duration": 883,
    "start_time": "2023-05-17T09:08:51.750Z"
   },
   {
    "duration": 7,
    "start_time": "2023-05-17T09:08:52.635Z"
   },
   {
    "duration": 37,
    "start_time": "2023-05-17T09:08:52.645Z"
   },
   {
    "duration": 96,
    "start_time": "2023-05-17T09:08:52.686Z"
   },
   {
    "duration": 12,
    "start_time": "2023-05-17T09:08:52.785Z"
   },
   {
    "duration": 138,
    "start_time": "2023-05-17T09:08:52.800Z"
   },
   {
    "duration": 40,
    "start_time": "2023-05-17T09:08:52.939Z"
   },
   {
    "duration": 22,
    "start_time": "2023-05-17T09:08:52.980Z"
   },
   {
    "duration": 36,
    "start_time": "2023-05-17T09:08:53.004Z"
   },
   {
    "duration": 2,
    "start_time": "2023-05-17T09:08:53.042Z"
   },
   {
    "duration": 89,
    "start_time": "2023-05-17T09:08:53.047Z"
   },
   {
    "duration": 12,
    "start_time": "2023-05-17T09:08:53.137Z"
   },
   {
    "duration": 89,
    "start_time": "2023-05-17T09:08:53.151Z"
   },
   {
    "duration": 17,
    "start_time": "2023-05-17T09:08:53.241Z"
   },
   {
    "duration": 57,
    "start_time": "2023-05-17T09:08:53.259Z"
   },
   {
    "duration": 27,
    "start_time": "2023-05-17T09:08:53.317Z"
   },
   {
    "duration": 11,
    "start_time": "2023-05-17T09:08:53.346Z"
   },
   {
    "duration": 67,
    "start_time": "2023-05-17T09:08:53.360Z"
   },
   {
    "duration": 22,
    "start_time": "2023-05-17T09:08:53.429Z"
   },
   {
    "duration": 18,
    "start_time": "2023-05-17T09:08:53.453Z"
   },
   {
    "duration": 23,
    "start_time": "2023-05-17T09:08:53.473Z"
   },
   {
    "duration": 1845,
    "start_time": "2023-05-17T09:08:53.497Z"
   },
   {
    "duration": 13,
    "start_time": "2023-05-17T09:08:55.344Z"
   },
   {
    "duration": 780,
    "start_time": "2023-05-17T09:08:55.358Z"
   },
   {
    "duration": 10,
    "start_time": "2023-05-17T09:08:56.140Z"
   },
   {
    "duration": 17,
    "start_time": "2023-05-17T09:09:22.749Z"
   },
   {
    "duration": 15,
    "start_time": "2023-05-17T09:10:22.052Z"
   },
   {
    "duration": 16,
    "start_time": "2023-05-17T09:10:30.564Z"
   },
   {
    "duration": 21,
    "start_time": "2023-05-17T09:10:36.495Z"
   },
   {
    "duration": 13,
    "start_time": "2023-05-17T09:11:07.028Z"
   },
   {
    "duration": 9,
    "start_time": "2023-05-17T09:11:36.719Z"
   },
   {
    "duration": 57,
    "start_time": "2023-05-17T09:14:49.301Z"
   },
   {
    "duration": 12,
    "start_time": "2023-05-17T09:14:56.058Z"
   },
   {
    "duration": 26,
    "start_time": "2023-05-17T09:15:23.178Z"
   },
   {
    "duration": 122,
    "start_time": "2023-05-17T09:16:17.938Z"
   },
   {
    "duration": 56,
    "start_time": "2023-05-17T09:16:34.600Z"
   },
   {
    "duration": 119,
    "start_time": "2023-05-17T09:31:45.659Z"
   },
   {
    "duration": 89,
    "start_time": "2023-05-17T09:31:52.379Z"
   },
   {
    "duration": 112,
    "start_time": "2023-05-17T09:32:00.718Z"
   },
   {
    "duration": 42,
    "start_time": "2023-05-17T09:32:44.187Z"
   },
   {
    "duration": 137,
    "start_time": "2023-05-17T09:33:15.660Z"
   },
   {
    "duration": 92,
    "start_time": "2023-05-17T09:33:35.881Z"
   },
   {
    "duration": 101,
    "start_time": "2023-05-17T09:33:47.944Z"
   },
   {
    "duration": 1647,
    "start_time": "2023-05-17T09:33:52.614Z"
   },
   {
    "duration": 21,
    "start_time": "2023-05-17T09:37:15.220Z"
   },
   {
    "duration": 23,
    "start_time": "2023-05-17T09:37:30.823Z"
   },
   {
    "duration": 15,
    "start_time": "2023-05-17T09:42:04.496Z"
   },
   {
    "duration": 25,
    "start_time": "2023-05-17T09:42:13.013Z"
   },
   {
    "duration": 12,
    "start_time": "2023-05-17T09:43:03.724Z"
   },
   {
    "duration": 11,
    "start_time": "2023-05-17T09:43:20.445Z"
   },
   {
    "duration": 29,
    "start_time": "2023-05-17T09:43:44.260Z"
   },
   {
    "duration": 8,
    "start_time": "2023-05-17T09:43:49.826Z"
   },
   {
    "duration": 10,
    "start_time": "2023-05-17T09:43:56.196Z"
   },
   {
    "duration": 9,
    "start_time": "2023-05-17T09:46:39.941Z"
   },
   {
    "duration": 17,
    "start_time": "2023-05-17T09:47:16.996Z"
   },
   {
    "duration": 9,
    "start_time": "2023-05-17T09:47:26.608Z"
   },
   {
    "duration": 9,
    "start_time": "2023-05-17T09:47:49.847Z"
   },
   {
    "duration": 16,
    "start_time": "2023-05-17T09:54:55.474Z"
   },
   {
    "duration": 2442,
    "start_time": "2023-05-17T10:08:47.840Z"
   },
   {
    "duration": 1256,
    "start_time": "2023-05-17T10:08:50.288Z"
   },
   {
    "duration": 1012,
    "start_time": "2023-05-17T10:08:51.546Z"
   },
   {
    "duration": 1583,
    "start_time": "2023-05-17T10:08:52.560Z"
   },
   {
    "duration": 23,
    "start_time": "2023-05-17T10:08:54.145Z"
   },
   {
    "duration": 43,
    "start_time": "2023-05-17T10:08:54.170Z"
   },
   {
    "duration": 25,
    "start_time": "2023-05-17T10:08:54.215Z"
   },
   {
    "duration": 12,
    "start_time": "2023-05-17T10:08:54.242Z"
   },
   {
    "duration": 5,
    "start_time": "2023-05-17T10:08:54.256Z"
   },
   {
    "duration": 42,
    "start_time": "2023-05-17T10:08:54.263Z"
   },
   {
    "duration": 11210,
    "start_time": "2023-05-17T10:08:54.307Z"
   },
   {
    "duration": 918,
    "start_time": "2023-05-17T10:09:05.522Z"
   },
   {
    "duration": 7,
    "start_time": "2023-05-17T10:09:06.441Z"
   },
   {
    "duration": 39,
    "start_time": "2023-05-17T10:09:06.451Z"
   },
   {
    "duration": 551,
    "start_time": "2023-05-17T10:09:06.494Z"
   },
   {
    "duration": 15,
    "start_time": "2023-05-17T10:09:07.079Z"
   },
   {
    "duration": 180,
    "start_time": "2023-05-17T10:09:07.096Z"
   },
   {
    "duration": 38,
    "start_time": "2023-05-17T10:09:07.281Z"
   },
   {
    "duration": 15,
    "start_time": "2023-05-17T10:09:07.320Z"
   },
   {
    "duration": 25,
    "start_time": "2023-05-17T10:09:07.336Z"
   },
   {
    "duration": 2,
    "start_time": "2023-05-17T10:09:07.362Z"
   },
   {
    "duration": 56,
    "start_time": "2023-05-17T10:09:07.385Z"
   },
   {
    "duration": 13,
    "start_time": "2023-05-17T10:09:07.442Z"
   },
   {
    "duration": 89,
    "start_time": "2023-05-17T10:09:07.456Z"
   },
   {
    "duration": 17,
    "start_time": "2023-05-17T10:09:07.546Z"
   },
   {
    "duration": 39,
    "start_time": "2023-05-17T10:09:07.564Z"
   },
   {
    "duration": 28,
    "start_time": "2023-05-17T10:09:07.606Z"
   },
   {
    "duration": 10,
    "start_time": "2023-05-17T10:09:07.635Z"
   },
   {
    "duration": 46,
    "start_time": "2023-05-17T10:09:07.646Z"
   },
   {
    "duration": 32,
    "start_time": "2023-05-17T10:09:07.699Z"
   },
   {
    "duration": 16,
    "start_time": "2023-05-17T10:09:07.732Z"
   },
   {
    "duration": 15,
    "start_time": "2023-05-17T10:09:07.750Z"
   },
   {
    "duration": 1804,
    "start_time": "2023-05-17T10:09:07.767Z"
   },
   {
    "duration": 18,
    "start_time": "2023-05-17T10:09:09.573Z"
   },
   {
    "duration": 751,
    "start_time": "2023-05-17T10:09:09.593Z"
   },
   {
    "duration": 10,
    "start_time": "2023-05-17T10:09:10.346Z"
   },
   {
    "duration": 28,
    "start_time": "2023-05-17T10:09:10.357Z"
   },
   {
    "duration": 7,
    "start_time": "2023-05-17T10:09:10.389Z"
   },
   {
    "duration": 894,
    "start_time": "2023-05-17T10:16:50.749Z"
   },
   {
    "duration": 9,
    "start_time": "2023-05-17T10:17:23.306Z"
   },
   {
    "duration": 4,
    "start_time": "2023-05-17T10:17:34.713Z"
   },
   {
    "duration": 5,
    "start_time": "2023-05-17T10:17:56.041Z"
   },
   {
    "duration": 12,
    "start_time": "2023-05-17T10:21:00.658Z"
   },
   {
    "duration": 1658,
    "start_time": "2023-05-17T12:21:31.650Z"
   },
   {
    "duration": 3106,
    "start_time": "2023-05-17T12:21:40.780Z"
   },
   {
    "duration": 36,
    "start_time": "2023-05-17T12:21:43.888Z"
   },
   {
    "duration": 2318,
    "start_time": "2023-05-17T12:24:06.881Z"
   },
   {
    "duration": 14,
    "start_time": "2023-05-17T12:24:09.202Z"
   },
   {
    "duration": 4438,
    "start_time": "2023-05-17T12:24:09.218Z"
   },
   {
    "duration": 1510,
    "start_time": "2023-05-17T12:24:13.658Z"
   },
   {
    "duration": 23,
    "start_time": "2023-05-17T12:24:15.171Z"
   },
   {
    "duration": 17,
    "start_time": "2023-05-17T12:24:15.196Z"
   },
   {
    "duration": 22,
    "start_time": "2023-05-17T12:24:15.214Z"
   },
   {
    "duration": 11,
    "start_time": "2023-05-17T12:24:15.238Z"
   },
   {
    "duration": 8,
    "start_time": "2023-05-17T12:24:15.251Z"
   },
   {
    "duration": 35,
    "start_time": "2023-05-17T12:24:15.261Z"
   },
   {
    "duration": 11854,
    "start_time": "2023-05-17T12:24:15.298Z"
   },
   {
    "duration": 849,
    "start_time": "2023-05-17T12:24:27.154Z"
   },
   {
    "duration": 8,
    "start_time": "2023-05-17T12:24:28.005Z"
   },
   {
    "duration": 23,
    "start_time": "2023-05-17T12:24:28.017Z"
   },
   {
    "duration": 554,
    "start_time": "2023-05-17T12:24:28.042Z"
   },
   {
    "duration": 14,
    "start_time": "2023-05-17T12:24:28.598Z"
   },
   {
    "duration": 191,
    "start_time": "2023-05-17T12:24:28.615Z"
   },
   {
    "duration": 28,
    "start_time": "2023-05-17T12:24:28.807Z"
   },
   {
    "duration": 52,
    "start_time": "2023-05-17T12:24:28.837Z"
   },
   {
    "duration": 26,
    "start_time": "2023-05-17T12:24:28.891Z"
   },
   {
    "duration": 3,
    "start_time": "2023-05-17T12:24:28.918Z"
   },
   {
    "duration": 76,
    "start_time": "2023-05-17T12:24:28.922Z"
   },
   {
    "duration": 13,
    "start_time": "2023-05-17T12:24:29.000Z"
   },
   {
    "duration": 114,
    "start_time": "2023-05-17T12:24:29.015Z"
   },
   {
    "duration": 21,
    "start_time": "2023-05-17T12:24:29.131Z"
   },
   {
    "duration": 55,
    "start_time": "2023-05-17T12:24:29.154Z"
   },
   {
    "duration": 24,
    "start_time": "2023-05-17T12:24:29.211Z"
   },
   {
    "duration": 12,
    "start_time": "2023-05-17T12:24:29.237Z"
   },
   {
    "duration": 54,
    "start_time": "2023-05-17T12:24:29.251Z"
   },
   {
    "duration": 23,
    "start_time": "2023-05-17T12:24:29.307Z"
   },
   {
    "duration": 20,
    "start_time": "2023-05-17T12:24:29.332Z"
   },
   {
    "duration": 46,
    "start_time": "2023-05-17T12:24:29.354Z"
   },
   {
    "duration": 1841,
    "start_time": "2023-05-17T12:24:29.402Z"
   },
   {
    "duration": 12,
    "start_time": "2023-05-17T12:24:31.245Z"
   },
   {
    "duration": 855,
    "start_time": "2023-05-17T12:24:31.259Z"
   },
   {
    "duration": 13,
    "start_time": "2023-05-17T12:24:32.115Z"
   },
   {
    "duration": 138,
    "start_time": "2023-05-17T12:24:32.130Z"
   },
   {
    "duration": 7,
    "start_time": "2023-05-17T12:24:32.270Z"
   },
   {
    "duration": 40,
    "start_time": "2023-05-17T12:24:32.287Z"
   },
   {
    "duration": 12,
    "start_time": "2023-05-17T12:30:21.618Z"
   },
   {
    "duration": 13,
    "start_time": "2023-05-17T12:31:40.675Z"
   },
   {
    "duration": 31,
    "start_time": "2023-05-17T12:35:03.305Z"
   },
   {
    "duration": 575,
    "start_time": "2023-05-17T12:35:47.018Z"
   },
   {
    "duration": 933,
    "start_time": "2023-05-17T12:35:52.869Z"
   },
   {
    "duration": 19,
    "start_time": "2023-05-17T12:36:58.088Z"
   },
   {
    "duration": 7,
    "start_time": "2023-05-17T12:37:34.911Z"
   },
   {
    "duration": 7,
    "start_time": "2023-05-17T12:40:52.522Z"
   },
   {
    "duration": 6,
    "start_time": "2023-05-17T12:48:42.338Z"
   },
   {
    "duration": 74,
    "start_time": "2023-05-17T12:49:50.008Z"
   },
   {
    "duration": 12,
    "start_time": "2023-05-17T12:50:07.526Z"
   },
   {
    "duration": 17,
    "start_time": "2023-05-17T12:50:14.184Z"
   },
   {
    "duration": 2439,
    "start_time": "2023-05-17T12:50:23.509Z"
   },
   {
    "duration": 22,
    "start_time": "2023-05-17T12:50:25.951Z"
   },
   {
    "duration": 1323,
    "start_time": "2023-05-17T12:50:25.975Z"
   },
   {
    "duration": 2172,
    "start_time": "2023-05-17T12:50:27.300Z"
   },
   {
    "duration": 26,
    "start_time": "2023-05-17T12:50:29.474Z"
   },
   {
    "duration": 30,
    "start_time": "2023-05-17T12:50:29.502Z"
   },
   {
    "duration": 21,
    "start_time": "2023-05-17T12:50:29.534Z"
   },
   {
    "duration": 11,
    "start_time": "2023-05-17T12:50:29.557Z"
   },
   {
    "duration": 23,
    "start_time": "2023-05-17T12:50:29.570Z"
   },
   {
    "duration": 35,
    "start_time": "2023-05-17T12:50:29.594Z"
   },
   {
    "duration": 11263,
    "start_time": "2023-05-17T12:50:29.631Z"
   },
   {
    "duration": 985,
    "start_time": "2023-05-17T12:50:40.897Z"
   },
   {
    "duration": 10,
    "start_time": "2023-05-17T12:50:41.884Z"
   },
   {
    "duration": 22,
    "start_time": "2023-05-17T12:50:41.899Z"
   },
   {
    "duration": 246,
    "start_time": "2023-05-17T12:50:41.923Z"
   },
   {
    "duration": 22,
    "start_time": "2023-05-17T12:50:42.171Z"
   },
   {
    "duration": 128,
    "start_time": "2023-05-17T12:50:42.195Z"
   },
   {
    "duration": 30,
    "start_time": "2023-05-17T12:50:42.327Z"
   },
   {
    "duration": 44,
    "start_time": "2023-05-17T12:50:42.359Z"
   },
   {
    "duration": 25,
    "start_time": "2023-05-17T12:50:42.405Z"
   },
   {
    "duration": 2,
    "start_time": "2023-05-17T12:50:42.432Z"
   },
   {
    "duration": 86,
    "start_time": "2023-05-17T12:50:42.436Z"
   },
   {
    "duration": 22,
    "start_time": "2023-05-17T12:50:42.525Z"
   },
   {
    "duration": 117,
    "start_time": "2023-05-17T12:50:42.549Z"
   },
   {
    "duration": 36,
    "start_time": "2023-05-17T12:50:42.667Z"
   },
   {
    "duration": 36,
    "start_time": "2023-05-17T12:50:42.705Z"
   },
   {
    "duration": 26,
    "start_time": "2023-05-17T12:50:42.743Z"
   },
   {
    "duration": 15,
    "start_time": "2023-05-17T12:50:42.789Z"
   },
   {
    "duration": 37,
    "start_time": "2023-05-17T12:50:42.808Z"
   },
   {
    "duration": 56,
    "start_time": "2023-05-17T12:50:42.850Z"
   },
   {
    "duration": 29,
    "start_time": "2023-05-17T12:50:42.908Z"
   },
   {
    "duration": 55,
    "start_time": "2023-05-17T12:50:42.939Z"
   },
   {
    "duration": 1733,
    "start_time": "2023-05-17T12:50:42.996Z"
   },
   {
    "duration": 16,
    "start_time": "2023-05-17T12:50:44.731Z"
   },
   {
    "duration": 1100,
    "start_time": "2023-05-17T12:50:44.749Z"
   },
   {
    "duration": 10,
    "start_time": "2023-05-17T12:50:45.851Z"
   },
   {
    "duration": 27,
    "start_time": "2023-05-17T12:50:45.863Z"
   },
   {
    "duration": 6,
    "start_time": "2023-05-17T12:50:45.892Z"
   },
   {
    "duration": 21,
    "start_time": "2023-05-17T12:50:45.899Z"
   },
   {
    "duration": 1103,
    "start_time": "2023-05-17T12:50:45.922Z"
   },
   {
    "duration": 72,
    "start_time": "2023-05-17T12:50:47.029Z"
   },
   {
    "duration": 12,
    "start_time": "2023-05-17T12:50:47.104Z"
   },
   {
    "duration": 69,
    "start_time": "2023-05-17T12:50:47.119Z"
   },
   {
    "duration": 7,
    "start_time": "2023-05-17T12:56:27.138Z"
   },
   {
    "duration": 16,
    "start_time": "2023-05-17T13:00:11.847Z"
   },
   {
    "duration": 12,
    "start_time": "2023-05-17T13:00:42.023Z"
   },
   {
    "duration": 14,
    "start_time": "2023-05-17T13:03:51.328Z"
   },
   {
    "duration": 30,
    "start_time": "2023-05-17T13:03:56.512Z"
   },
   {
    "duration": 4,
    "start_time": "2023-05-17T13:04:12.072Z"
   },
   {
    "duration": 6,
    "start_time": "2023-05-17T13:04:27.030Z"
   },
   {
    "duration": 7,
    "start_time": "2023-05-17T13:04:33.132Z"
   },
   {
    "duration": 7,
    "start_time": "2023-05-17T13:04:37.249Z"
   },
   {
    "duration": 6,
    "start_time": "2023-05-17T13:04:40.420Z"
   },
   {
    "duration": 5,
    "start_time": "2023-05-17T13:04:46.743Z"
   },
   {
    "duration": 6,
    "start_time": "2023-05-17T13:05:45.705Z"
   },
   {
    "duration": 14,
    "start_time": "2023-05-17T13:06:00.302Z"
   },
   {
    "duration": 5,
    "start_time": "2023-05-17T13:10:16.614Z"
   },
   {
    "duration": 5,
    "start_time": "2023-05-17T13:15:42.477Z"
   },
   {
    "duration": 5,
    "start_time": "2023-05-17T13:16:01.325Z"
   },
   {
    "duration": 6,
    "start_time": "2023-05-17T13:22:38.235Z"
   },
   {
    "duration": 15,
    "start_time": "2023-05-17T13:25:18.978Z"
   },
   {
    "duration": 12,
    "start_time": "2023-05-17T13:31:47.647Z"
   },
   {
    "duration": 7962,
    "start_time": "2023-05-17T13:34:56.920Z"
   },
   {
    "duration": 17,
    "start_time": "2023-05-17T13:37:01.816Z"
   },
   {
    "duration": 696,
    "start_time": "2023-05-17T13:37:29.795Z"
   },
   {
    "duration": 7,
    "start_time": "2023-05-17T13:39:37.422Z"
   },
   {
    "duration": 20,
    "start_time": "2023-05-17T13:40:18.107Z"
   },
   {
    "duration": 12,
    "start_time": "2023-05-17T13:40:34.264Z"
   },
   {
    "duration": 15,
    "start_time": "2023-05-17T13:40:42.705Z"
   },
   {
    "duration": 7,
    "start_time": "2023-05-17T13:45:43.056Z"
   },
   {
    "duration": 25,
    "start_time": "2023-05-17T13:46:06.106Z"
   },
   {
    "duration": 7959,
    "start_time": "2023-05-17T13:54:30.543Z"
   },
   {
    "duration": 20,
    "start_time": "2023-05-17T13:55:36.745Z"
   },
   {
    "duration": 20,
    "start_time": "2023-05-17T13:56:08.350Z"
   },
   {
    "duration": 1366,
    "start_time": "2023-05-17T13:58:25.166Z"
   },
   {
    "duration": 572,
    "start_time": "2023-05-17T13:58:35.608Z"
   },
   {
    "duration": 540,
    "start_time": "2023-05-17T13:58:52.208Z"
   },
   {
    "duration": 13,
    "start_time": "2023-05-17T13:59:54.601Z"
   },
   {
    "duration": 3771,
    "start_time": "2023-05-17T18:11:00.616Z"
   },
   {
    "duration": 1400,
    "start_time": "2023-05-17T18:11:04.389Z"
   },
   {
    "duration": 1137,
    "start_time": "2023-05-17T18:11:05.791Z"
   },
   {
    "duration": 1378,
    "start_time": "2023-05-17T18:11:06.931Z"
   },
   {
    "duration": 20,
    "start_time": "2023-05-17T18:11:08.311Z"
   },
   {
    "duration": 14,
    "start_time": "2023-05-17T18:11:08.333Z"
   },
   {
    "duration": 20,
    "start_time": "2023-05-17T18:11:08.348Z"
   },
   {
    "duration": 9,
    "start_time": "2023-05-17T18:11:08.369Z"
   },
   {
    "duration": 4,
    "start_time": "2023-05-17T18:11:08.380Z"
   },
   {
    "duration": 39,
    "start_time": "2023-05-17T18:11:08.386Z"
   },
   {
    "duration": 10700,
    "start_time": "2023-05-17T18:11:08.427Z"
   },
   {
    "duration": 1425,
    "start_time": "2023-05-17T18:11:19.129Z"
   },
   {
    "duration": 7,
    "start_time": "2023-05-17T18:11:20.555Z"
   },
   {
    "duration": 77,
    "start_time": "2023-05-17T18:11:20.563Z"
   },
   {
    "duration": 489,
    "start_time": "2023-05-17T18:11:20.641Z"
   },
   {
    "duration": 14,
    "start_time": "2023-05-17T18:11:21.132Z"
   },
   {
    "duration": 158,
    "start_time": "2023-05-17T18:11:21.147Z"
   },
   {
    "duration": 18,
    "start_time": "2023-05-17T18:11:21.324Z"
   },
   {
    "duration": 34,
    "start_time": "2023-05-17T18:11:21.344Z"
   },
   {
    "duration": 23,
    "start_time": "2023-05-17T18:11:21.380Z"
   },
   {
    "duration": 2,
    "start_time": "2023-05-17T18:11:21.404Z"
   },
   {
    "duration": 63,
    "start_time": "2023-05-17T18:11:21.408Z"
   },
   {
    "duration": 11,
    "start_time": "2023-05-17T18:11:21.472Z"
   },
   {
    "duration": 77,
    "start_time": "2023-05-17T18:11:21.485Z"
   },
   {
    "duration": 16,
    "start_time": "2023-05-17T18:11:21.563Z"
   },
   {
    "duration": 55,
    "start_time": "2023-05-17T18:11:21.580Z"
   },
   {
    "duration": 46,
    "start_time": "2023-05-17T18:11:21.636Z"
   },
   {
    "duration": 38,
    "start_time": "2023-05-17T18:11:21.685Z"
   },
   {
    "duration": 52,
    "start_time": "2023-05-17T18:11:21.725Z"
   },
   {
    "duration": 19,
    "start_time": "2023-05-17T18:11:21.779Z"
   },
   {
    "duration": 26,
    "start_time": "2023-05-17T18:11:21.799Z"
   },
   {
    "duration": 16,
    "start_time": "2023-05-17T18:11:21.826Z"
   },
   {
    "duration": 1580,
    "start_time": "2023-05-17T18:11:21.844Z"
   },
   {
    "duration": 12,
    "start_time": "2023-05-17T18:11:23.426Z"
   },
   {
    "duration": 905,
    "start_time": "2023-05-17T18:11:23.439Z"
   },
   {
    "duration": 9,
    "start_time": "2023-05-17T18:11:24.346Z"
   },
   {
    "duration": 9,
    "start_time": "2023-05-17T18:11:24.356Z"
   },
   {
    "duration": 6,
    "start_time": "2023-05-17T18:11:24.366Z"
   },
   {
    "duration": 13,
    "start_time": "2023-05-17T18:11:24.373Z"
   },
   {
    "duration": 517,
    "start_time": "2023-05-17T18:11:24.387Z"
   },
   {
    "duration": 22,
    "start_time": "2023-05-17T18:11:24.906Z"
   },
   {
    "duration": 17,
    "start_time": "2023-05-17T18:11:24.930Z"
   },
   {
    "duration": 176,
    "start_time": "2023-05-17T18:11:24.949Z"
   },
   {
    "duration": 0,
    "start_time": "2023-05-17T18:11:25.127Z"
   },
   {
    "duration": 0,
    "start_time": "2023-05-17T18:11:25.128Z"
   },
   {
    "duration": 0,
    "start_time": "2023-05-17T18:11:25.129Z"
   },
   {
    "duration": 9,
    "start_time": "2023-05-17T18:12:37.734Z"
   },
   {
    "duration": 418,
    "start_time": "2023-05-17T18:13:48.447Z"
   },
   {
    "duration": 14,
    "start_time": "2023-05-17T18:13:48.867Z"
   },
   {
    "duration": 20,
    "start_time": "2023-05-17T18:13:48.883Z"
   },
   {
    "duration": 10,
    "start_time": "2023-05-17T19:07:43.984Z"
   },
   {
    "duration": 23,
    "start_time": "2023-05-17T19:07:50.251Z"
   },
   {
    "duration": 15,
    "start_time": "2023-05-17T19:09:06.437Z"
   },
   {
    "duration": 26,
    "start_time": "2023-05-17T19:09:14.339Z"
   },
   {
    "duration": 1250,
    "start_time": "2023-05-17T19:09:59.553Z"
   },
   {
    "duration": 32,
    "start_time": "2023-05-17T19:10:20.018Z"
   },
   {
    "duration": 5,
    "start_time": "2023-05-17T19:10:24.833Z"
   },
   {
    "duration": 24,
    "start_time": "2023-05-17T19:10:41.257Z"
   },
   {
    "duration": 15,
    "start_time": "2023-05-17T19:11:41.481Z"
   },
   {
    "duration": 13,
    "start_time": "2023-05-17T19:12:23.498Z"
   },
   {
    "duration": 11,
    "start_time": "2023-05-17T19:13:11.688Z"
   },
   {
    "duration": 16,
    "start_time": "2023-05-17T19:14:38.699Z"
   },
   {
    "duration": 19,
    "start_time": "2023-05-17T19:15:17.199Z"
   },
   {
    "duration": 18,
    "start_time": "2023-05-17T19:17:57.653Z"
   },
   {
    "duration": 27,
    "start_time": "2023-05-17T19:21:01.440Z"
   },
   {
    "duration": 21,
    "start_time": "2023-05-17T19:21:29.606Z"
   },
   {
    "duration": 21,
    "start_time": "2023-05-17T19:24:03.707Z"
   },
   {
    "duration": 21,
    "start_time": "2023-05-17T19:36:42.988Z"
   },
   {
    "duration": 5,
    "start_time": "2023-05-17T19:37:17.411Z"
   },
   {
    "duration": 8,
    "start_time": "2023-05-17T19:38:08.602Z"
   },
   {
    "duration": 90,
    "start_time": "2023-05-17T19:39:14.183Z"
   },
   {
    "duration": 17,
    "start_time": "2023-05-17T19:39:17.882Z"
   },
   {
    "duration": 19,
    "start_time": "2023-05-17T19:42:46.088Z"
   },
   {
    "duration": 21,
    "start_time": "2023-05-17T19:45:30.904Z"
   },
   {
    "duration": 23,
    "start_time": "2023-05-17T19:45:34.094Z"
   },
   {
    "duration": 19,
    "start_time": "2023-05-17T19:45:46.083Z"
   },
   {
    "duration": 20,
    "start_time": "2023-05-17T19:45:50.886Z"
   },
   {
    "duration": 21,
    "start_time": "2023-05-17T19:49:23.973Z"
   },
   {
    "duration": 21,
    "start_time": "2023-05-17T19:54:19.836Z"
   },
   {
    "duration": 13,
    "start_time": "2023-05-17T19:55:38.644Z"
   },
   {
    "duration": 18,
    "start_time": "2023-05-17T19:55:48.612Z"
   },
   {
    "duration": 22,
    "start_time": "2023-05-17T19:56:18.427Z"
   },
   {
    "duration": 21,
    "start_time": "2023-05-17T19:58:50.268Z"
   },
   {
    "duration": 23,
    "start_time": "2023-05-17T20:00:25.792Z"
   },
   {
    "duration": 24,
    "start_time": "2023-05-17T20:01:28.819Z"
   },
   {
    "duration": 38,
    "start_time": "2023-05-17T20:01:55.888Z"
   },
   {
    "duration": 35,
    "start_time": "2023-05-17T20:02:53.433Z"
   },
   {
    "duration": 103,
    "start_time": "2023-05-17T20:17:16.418Z"
   },
   {
    "duration": 4,
    "start_time": "2023-05-17T20:17:21.019Z"
   },
   {
    "duration": 10,
    "start_time": "2023-05-17T20:18:52.044Z"
   },
   {
    "duration": 7,
    "start_time": "2023-05-17T20:19:20.483Z"
   },
   {
    "duration": 7,
    "start_time": "2023-05-17T20:19:58.005Z"
   },
   {
    "duration": 12,
    "start_time": "2023-05-17T20:21:11.716Z"
   },
   {
    "duration": 14,
    "start_time": "2023-05-17T20:21:49.209Z"
   },
   {
    "duration": 2937,
    "start_time": "2023-05-18T05:54:56.489Z"
   },
   {
    "duration": 1489,
    "start_time": "2023-05-18T05:54:59.428Z"
   },
   {
    "duration": 1291,
    "start_time": "2023-05-18T05:55:00.918Z"
   },
   {
    "duration": 1629,
    "start_time": "2023-05-18T05:55:02.210Z"
   },
   {
    "duration": 26,
    "start_time": "2023-05-18T05:55:03.841Z"
   },
   {
    "duration": 25,
    "start_time": "2023-05-18T05:55:03.869Z"
   },
   {
    "duration": 26,
    "start_time": "2023-05-18T05:55:03.896Z"
   },
   {
    "duration": 13,
    "start_time": "2023-05-18T05:55:03.923Z"
   },
   {
    "duration": 7,
    "start_time": "2023-05-18T05:55:03.938Z"
   },
   {
    "duration": 36,
    "start_time": "2023-05-18T05:55:03.949Z"
   },
   {
    "duration": 10192,
    "start_time": "2023-05-18T05:55:03.991Z"
   },
   {
    "duration": 818,
    "start_time": "2023-05-18T05:55:14.185Z"
   },
   {
    "duration": 8,
    "start_time": "2023-05-18T05:55:15.005Z"
   },
   {
    "duration": 46,
    "start_time": "2023-05-18T05:55:15.016Z"
   },
   {
    "duration": 480,
    "start_time": "2023-05-18T05:55:15.064Z"
   },
   {
    "duration": 47,
    "start_time": "2023-05-18T05:55:15.546Z"
   },
   {
    "duration": 150,
    "start_time": "2023-05-18T05:55:15.597Z"
   },
   {
    "duration": 56,
    "start_time": "2023-05-18T05:55:15.749Z"
   },
   {
    "duration": 27,
    "start_time": "2023-05-18T05:55:15.807Z"
   },
   {
    "duration": 59,
    "start_time": "2023-05-18T05:55:15.836Z"
   },
   {
    "duration": 3,
    "start_time": "2023-05-18T05:55:15.897Z"
   },
   {
    "duration": 56,
    "start_time": "2023-05-18T05:55:15.902Z"
   },
   {
    "duration": 30,
    "start_time": "2023-05-18T05:55:15.961Z"
   },
   {
    "duration": 95,
    "start_time": "2023-05-18T05:55:15.993Z"
   },
   {
    "duration": 18,
    "start_time": "2023-05-18T05:55:16.093Z"
   },
   {
    "duration": 21,
    "start_time": "2023-05-18T05:55:16.112Z"
   },
   {
    "duration": 19,
    "start_time": "2023-05-18T05:55:16.135Z"
   },
   {
    "duration": 36,
    "start_time": "2023-05-18T05:55:16.155Z"
   },
   {
    "duration": 27,
    "start_time": "2023-05-18T05:55:16.193Z"
   },
   {
    "duration": 26,
    "start_time": "2023-05-18T05:55:16.221Z"
   },
   {
    "duration": 45,
    "start_time": "2023-05-18T05:55:16.248Z"
   },
   {
    "duration": 18,
    "start_time": "2023-05-18T05:55:16.295Z"
   },
   {
    "duration": 1671,
    "start_time": "2023-05-18T05:55:16.315Z"
   },
   {
    "duration": 10,
    "start_time": "2023-05-18T05:55:17.996Z"
   },
   {
    "duration": 931,
    "start_time": "2023-05-18T05:55:18.007Z"
   },
   {
    "duration": 9,
    "start_time": "2023-05-18T05:55:18.940Z"
   },
   {
    "duration": 29,
    "start_time": "2023-05-18T05:55:18.951Z"
   },
   {
    "duration": 10,
    "start_time": "2023-05-18T05:55:18.983Z"
   },
   {
    "duration": 17,
    "start_time": "2023-05-18T05:55:18.995Z"
   },
   {
    "duration": 551,
    "start_time": "2023-05-18T05:55:19.013Z"
   },
   {
    "duration": 24,
    "start_time": "2023-05-18T05:55:19.576Z"
   },
   {
    "duration": 7,
    "start_time": "2023-05-18T05:55:19.602Z"
   },
   {
    "duration": 19,
    "start_time": "2023-05-18T05:55:19.611Z"
   },
   {
    "duration": 456,
    "start_time": "2023-05-18T05:55:19.631Z"
   },
   {
    "duration": 16,
    "start_time": "2023-05-18T05:55:20.092Z"
   },
   {
    "duration": 11,
    "start_time": "2023-05-18T05:55:20.109Z"
   },
   {
    "duration": 26,
    "start_time": "2023-05-18T05:55:20.122Z"
   },
   {
    "duration": 67,
    "start_time": "2023-05-18T05:55:20.150Z"
   },
   {
    "duration": 11,
    "start_time": "2023-05-18T05:55:20.219Z"
   },
   {
    "duration": 3,
    "start_time": "2023-05-18T05:55:20.232Z"
   },
   {
    "duration": 11,
    "start_time": "2023-05-18T05:56:43.520Z"
   },
   {
    "duration": 3,
    "start_time": "2023-05-26T13:27:48.135Z"
   },
   {
    "duration": 13141,
    "start_time": "2023-05-26T13:27:48.140Z"
   },
   {
    "duration": 91,
    "start_time": "2023-05-26T13:28:01.283Z"
   },
   {
    "duration": 10,
    "start_time": "2023-05-26T13:28:01.376Z"
   },
   {
    "duration": 112,
    "start_time": "2023-05-26T13:28:01.389Z"
   },
   {
    "duration": 0,
    "start_time": "2023-05-26T13:28:01.503Z"
   },
   {
    "duration": 0,
    "start_time": "2023-05-26T13:28:01.504Z"
   },
   {
    "duration": 0,
    "start_time": "2023-05-26T13:28:01.508Z"
   },
   {
    "duration": 0,
    "start_time": "2023-05-26T13:28:01.509Z"
   },
   {
    "duration": 3,
    "start_time": "2023-05-26T13:28:29.289Z"
   },
   {
    "duration": 12552,
    "start_time": "2023-05-26T13:28:29.293Z"
   },
   {
    "duration": 110,
    "start_time": "2023-05-26T13:28:41.846Z"
   },
   {
    "duration": 7,
    "start_time": "2023-05-26T13:28:41.958Z"
   },
   {
    "duration": 29,
    "start_time": "2023-05-26T13:28:41.967Z"
   },
   {
    "duration": 19,
    "start_time": "2023-05-26T13:28:41.998Z"
   },
   {
    "duration": 13,
    "start_time": "2023-05-26T13:28:42.020Z"
   },
   {
    "duration": 18,
    "start_time": "2023-05-26T13:28:42.035Z"
   },
   {
    "duration": 4,
    "start_time": "2023-05-26T13:39:18.064Z"
   },
   {
    "duration": 52,
    "start_time": "2023-05-26T13:43:28.624Z"
   },
   {
    "duration": 2,
    "start_time": "2023-05-26T13:43:34.474Z"
   },
   {
    "duration": 11305,
    "start_time": "2023-05-26T13:43:34.478Z"
   },
   {
    "duration": 318,
    "start_time": "2023-05-26T13:43:45.785Z"
   },
   {
    "duration": 36,
    "start_time": "2023-05-26T13:43:46.105Z"
   },
   {
    "duration": 51,
    "start_time": "2023-05-26T13:43:46.147Z"
   },
   {
    "duration": 30,
    "start_time": "2023-05-26T13:43:46.200Z"
   },
   {
    "duration": 49,
    "start_time": "2023-05-26T13:43:46.237Z"
   },
   {
    "duration": 29,
    "start_time": "2023-05-26T13:43:46.287Z"
   },
   {
    "duration": 27,
    "start_time": "2023-05-26T13:45:29.585Z"
   },
   {
    "duration": 51,
    "start_time": "2023-05-26T13:45:54.167Z"
   },
   {
    "duration": 95,
    "start_time": "2023-05-26T13:46:16.095Z"
   },
   {
    "duration": 50,
    "start_time": "2023-05-26T13:46:38.353Z"
   },
   {
    "duration": 73,
    "start_time": "2023-05-26T13:46:41.408Z"
   },
   {
    "duration": 50,
    "start_time": "2023-05-26T13:46:47.863Z"
   },
   {
    "duration": 90,
    "start_time": "2023-05-26T13:49:38.285Z"
   },
   {
    "duration": 58,
    "start_time": "2023-05-26T13:50:28.361Z"
   },
   {
    "duration": 78,
    "start_time": "2023-05-26T13:50:35.817Z"
   },
   {
    "duration": 58,
    "start_time": "2023-05-26T13:52:13.246Z"
   },
   {
    "duration": 68,
    "start_time": "2023-05-26T13:52:47.615Z"
   },
   {
    "duration": 72,
    "start_time": "2023-05-26T13:53:01.086Z"
   },
   {
    "duration": 60,
    "start_time": "2023-05-26T13:53:34.170Z"
   },
   {
    "duration": 84,
    "start_time": "2023-05-26T13:53:44.474Z"
   },
   {
    "duration": 59,
    "start_time": "2023-05-26T13:53:52.146Z"
   },
   {
    "duration": 57,
    "start_time": "2023-05-26T13:54:03.956Z"
   },
   {
    "duration": 3,
    "start_time": "2023-05-26T13:54:26.060Z"
   },
   {
    "duration": 261,
    "start_time": "2023-05-26T13:54:26.071Z"
   },
   {
    "duration": 329,
    "start_time": "2023-05-26T13:54:26.339Z"
   },
   {
    "duration": 28,
    "start_time": "2023-05-26T13:54:26.670Z"
   },
   {
    "duration": 75,
    "start_time": "2023-05-26T13:54:26.701Z"
   },
   {
    "duration": 89,
    "start_time": "2023-05-26T13:55:52.744Z"
   },
   {
    "duration": 73,
    "start_time": "2023-05-26T13:56:22.334Z"
   },
   {
    "duration": 82,
    "start_time": "2023-05-26T13:56:30.911Z"
   },
   {
    "duration": 67,
    "start_time": "2023-05-26T13:56:39.854Z"
   },
   {
    "duration": 64,
    "start_time": "2023-05-26T13:56:47.454Z"
   },
   {
    "duration": 46,
    "start_time": "2023-05-26T18:13:19.260Z"
   },
   {
    "duration": 0,
    "start_time": "2023-05-26T18:13:19.309Z"
   },
   {
    "duration": 0,
    "start_time": "2023-05-26T18:13:19.311Z"
   },
   {
    "duration": 0,
    "start_time": "2023-05-26T18:13:19.313Z"
   },
   {
    "duration": 0,
    "start_time": "2023-05-26T18:13:19.315Z"
   },
   {
    "duration": 0,
    "start_time": "2023-05-26T18:13:19.317Z"
   },
   {
    "duration": 0,
    "start_time": "2023-05-26T18:13:19.318Z"
   },
   {
    "duration": 0,
    "start_time": "2023-05-26T18:13:19.319Z"
   },
   {
    "duration": 55,
    "start_time": "2023-05-26T18:13:52.613Z"
   },
   {
    "duration": 3458,
    "start_time": "2023-05-26T18:14:04.475Z"
   },
   {
    "duration": 3,
    "start_time": "2023-05-26T18:14:23.557Z"
   },
   {
    "duration": 5396,
    "start_time": "2023-05-26T18:14:23.564Z"
   },
   {
    "duration": 94,
    "start_time": "2023-05-26T18:14:28.962Z"
   },
   {
    "duration": 12,
    "start_time": "2023-05-26T18:14:29.059Z"
   },
   {
    "duration": 30,
    "start_time": "2023-05-26T18:14:29.073Z"
   },
   {
    "duration": 12,
    "start_time": "2023-05-26T18:14:29.104Z"
   },
   {
    "duration": 15,
    "start_time": "2023-05-26T18:14:29.117Z"
   },
   {
    "duration": 26,
    "start_time": "2023-05-26T18:14:29.133Z"
   },
   {
    "duration": 11,
    "start_time": "2023-05-26T18:15:31.048Z"
   },
   {
    "duration": 10,
    "start_time": "2023-05-26T18:16:06.928Z"
   },
   {
    "duration": 93,
    "start_time": "2023-05-26T18:22:04.405Z"
   },
   {
    "duration": 30,
    "start_time": "2023-05-26T18:22:48.989Z"
   },
   {
    "duration": 20,
    "start_time": "2023-05-26T18:26:48.793Z"
   },
   {
    "duration": 17,
    "start_time": "2023-05-26T18:27:23.001Z"
   },
   {
    "duration": 49,
    "start_time": "2023-05-26T18:28:29.451Z"
   },
   {
    "duration": 20,
    "start_time": "2023-05-26T18:33:23.289Z"
   },
   {
    "duration": 12,
    "start_time": "2023-05-26T18:33:55.233Z"
   },
   {
    "duration": 2,
    "start_time": "2023-05-26T18:36:05.004Z"
   },
   {
    "duration": 53,
    "start_time": "2023-05-26T18:36:05.009Z"
   },
   {
    "duration": 75,
    "start_time": "2023-05-26T18:36:05.064Z"
   },
   {
    "duration": 10,
    "start_time": "2023-05-26T18:36:05.140Z"
   },
   {
    "duration": 29,
    "start_time": "2023-05-26T18:36:05.152Z"
   },
   {
    "duration": 12,
    "start_time": "2023-05-26T18:36:05.183Z"
   },
   {
    "duration": 16,
    "start_time": "2023-05-26T18:36:05.196Z"
   },
   {
    "duration": 12,
    "start_time": "2023-05-26T18:36:05.214Z"
   },
   {
    "duration": 12,
    "start_time": "2023-05-26T18:36:52.744Z"
   },
   {
    "duration": 2,
    "start_time": "2023-05-26T18:38:55.838Z"
   },
   {
    "duration": 84,
    "start_time": "2023-05-26T18:38:55.842Z"
   },
   {
    "duration": 58,
    "start_time": "2023-05-26T18:38:55.928Z"
   },
   {
    "duration": 8,
    "start_time": "2023-05-26T18:38:55.987Z"
   },
   {
    "duration": 30,
    "start_time": "2023-05-26T18:38:55.997Z"
   },
   {
    "duration": 10,
    "start_time": "2023-05-26T18:38:56.028Z"
   },
   {
    "duration": 22,
    "start_time": "2023-05-26T18:38:56.040Z"
   },
   {
    "duration": 11,
    "start_time": "2023-05-26T18:38:56.063Z"
   },
   {
    "duration": 12,
    "start_time": "2023-05-26T18:39:20.292Z"
   },
   {
    "duration": 16,
    "start_time": "2023-05-26T18:41:40.479Z"
   },
   {
    "duration": 15,
    "start_time": "2023-05-26T18:42:38.512Z"
   },
   {
    "duration": 20,
    "start_time": "2023-05-26T18:43:00.337Z"
   },
   {
    "duration": 15,
    "start_time": "2023-05-26T18:43:03.402Z"
   },
   {
    "duration": 15,
    "start_time": "2023-05-26T18:43:15.792Z"
   },
   {
    "duration": 18,
    "start_time": "2023-05-26T18:49:44.189Z"
   },
   {
    "duration": 3,
    "start_time": "2023-05-27T06:49:39.594Z"
   },
   {
    "duration": 11920,
    "start_time": "2023-05-27T06:49:39.599Z"
   },
   {
    "duration": 58,
    "start_time": "2023-05-27T06:49:51.520Z"
   },
   {
    "duration": 9,
    "start_time": "2023-05-27T06:49:51.580Z"
   },
   {
    "duration": 42,
    "start_time": "2023-05-27T06:49:51.591Z"
   },
   {
    "duration": 13,
    "start_time": "2023-05-27T06:49:51.635Z"
   },
   {
    "duration": 15,
    "start_time": "2023-05-27T06:49:51.650Z"
   },
   {
    "duration": 11,
    "start_time": "2023-05-27T06:49:51.667Z"
   },
   {
    "duration": 3,
    "start_time": "2023-05-27T14:42:57.452Z"
   },
   {
    "duration": 5272,
    "start_time": "2023-05-27T14:42:57.456Z"
   },
   {
    "duration": 67,
    "start_time": "2023-05-27T14:43:02.730Z"
   },
   {
    "duration": 8,
    "start_time": "2023-05-27T14:43:02.799Z"
   },
   {
    "duration": 34,
    "start_time": "2023-05-27T14:43:02.808Z"
   },
   {
    "duration": 21,
    "start_time": "2023-05-27T14:43:02.844Z"
   },
   {
    "duration": 36,
    "start_time": "2023-05-27T14:43:02.867Z"
   },
   {
    "duration": 12,
    "start_time": "2023-05-27T14:43:02.905Z"
   },
   {
    "duration": 38,
    "start_time": "2023-05-27T14:52:58.005Z"
   },
   {
    "duration": 31,
    "start_time": "2023-05-27T14:53:59.720Z"
   },
   {
    "duration": 32,
    "start_time": "2023-05-27T14:54:23.357Z"
   },
   {
    "duration": 40,
    "start_time": "2023-05-27T14:54:30.093Z"
   },
   {
    "duration": 4,
    "start_time": "2023-05-27T14:56:36.959Z"
   },
   {
    "duration": 5111,
    "start_time": "2023-05-27T14:56:36.964Z"
   },
   {
    "duration": 57,
    "start_time": "2023-05-27T14:56:42.077Z"
   },
   {
    "duration": 7,
    "start_time": "2023-05-27T14:56:42.135Z"
   },
   {
    "duration": 32,
    "start_time": "2023-05-27T14:56:42.144Z"
   },
   {
    "duration": 9,
    "start_time": "2023-05-27T14:56:42.178Z"
   },
   {
    "duration": 22,
    "start_time": "2023-05-27T14:56:42.189Z"
   },
   {
    "duration": 10,
    "start_time": "2023-05-27T14:56:42.213Z"
   },
   {
    "duration": 3,
    "start_time": "2023-05-28T12:54:42.053Z"
   },
   {
    "duration": 8182,
    "start_time": "2023-05-28T12:54:42.058Z"
   },
   {
    "duration": 239,
    "start_time": "2023-05-28T12:54:50.242Z"
   },
   {
    "duration": 27,
    "start_time": "2023-05-28T12:54:50.483Z"
   },
   {
    "duration": 66,
    "start_time": "2023-05-28T12:54:50.511Z"
   },
   {
    "duration": 30,
    "start_time": "2023-05-28T12:54:50.578Z"
   },
   {
    "duration": 33,
    "start_time": "2023-05-28T12:54:50.609Z"
   },
   {
    "duration": 31,
    "start_time": "2023-05-28T12:54:50.643Z"
   }
  ],
  "kernelspec": {
   "display_name": "Python 3 (ipykernel)",
   "language": "python",
   "name": "python3"
  },
  "language_info": {
   "codemirror_mode": {
    "name": "ipython",
    "version": 3
   },
   "file_extension": ".py",
   "mimetype": "text/x-python",
   "name": "python",
   "nbconvert_exporter": "python",
   "pygments_lexer": "ipython3",
   "version": "3.10.4"
  },
  "toc": {
   "base_numbering": 1,
   "nav_menu": {},
   "number_sections": true,
   "sideBar": true,
   "skip_h1_title": true,
   "title_cell": "Table of Contents",
   "title_sidebar": "Contents",
   "toc_cell": false,
   "toc_position": {
    "height": "calc(100% - 180px)",
    "left": "10px",
    "top": "150px",
    "width": "259.515625px"
   },
   "toc_section_display": true,
   "toc_window_display": true
  }
 },
 "nbformat": 4,
 "nbformat_minor": 2
}
