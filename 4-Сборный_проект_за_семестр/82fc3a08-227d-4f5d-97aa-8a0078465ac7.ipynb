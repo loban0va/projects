{
 "cells": [
  {
   "cell_type": "markdown",
   "metadata": {},
   "source": [
    "# Сборный проект\n",
    "\n",
    "Мы работаем в интернет-магазине «Стримчик», который продаёт по всему миру компьютерные игры. Из открытых источников доступны исторические данные о продажах игр, оценки пользователей и экспертов, жанры и платформы (например, Xbox или PlayStation).\n",
    "\n",
    "Нам нужно выявить определяющие успешность игры закономерности. Это позволит сделать ставку на потенциально популярный продукт и спланировать рекламные кампании.\n",
    "\n",
    "\n",
    "Перед нами данные до 2016 года. Представим, что сейчас декабрь 2016 г., и вы планируете кампанию на 2017-й. Нужно отработать принцип работы с данными. Неважно, прогнозируются ли продажи на 2017 год по данным 2016-го или же 2027-й — по данным 2026 года."
   ]
  },
  {
   "cell_type": "markdown",
   "metadata": {},
   "source": [
    "## Откройте файл с данными и изучите общую информацию"
   ]
  },
  {
   "cell_type": "code",
   "execution_count": 3,
   "metadata": {},
   "outputs": [],
   "source": [
    "import pandas as pd\n",
    "import matplotlib.pyplot as mpl\n",
    "from scipy import stats as st\n",
    "import os\n",
    "from pathlib import Path"
   ]
  },
  {
   "cell_type": "code",
   "execution_count": 4,
   "metadata": {},
   "outputs": [],
   "source": [
    "ROOT_DIR = Path(os.path.abspath(\"__file__\")).parent.parent"
   ]
  },
  {
   "cell_type": "code",
   "execution_count": 5,
   "metadata": {},
   "outputs": [],
   "source": [
    "data = pd.read_csv(ROOT_DIR / 'datasets/games.csv')"
   ]
  },
  {
   "cell_type": "code",
   "execution_count": 6,
   "metadata": {
    "scrolled": true
   },
   "outputs": [
    {
     "name": "stdout",
     "output_type": "stream",
     "text": [
      "<class 'pandas.core.frame.DataFrame'>\n",
      "RangeIndex: 16715 entries, 0 to 16714\n",
      "Data columns (total 11 columns):\n",
      " #   Column           Non-Null Count  Dtype  \n",
      "---  ------           --------------  -----  \n",
      " 0   Name             16713 non-null  object \n",
      " 1   Platform         16715 non-null  object \n",
      " 2   Year_of_Release  16446 non-null  float64\n",
      " 3   Genre            16713 non-null  object \n",
      " 4   NA_sales         16715 non-null  float64\n",
      " 5   EU_sales         16715 non-null  float64\n",
      " 6   JP_sales         16715 non-null  float64\n",
      " 7   Other_sales      16715 non-null  float64\n",
      " 8   Critic_Score     8137 non-null   float64\n",
      " 9   User_Score       10014 non-null  object \n",
      " 10  Rating           9949 non-null   object \n",
      "dtypes: float64(6), object(5)\n",
      "memory usage: 1.4+ MB\n"
     ]
    }
   ],
   "source": [
    "data.info()"
   ]
  },
  {
   "cell_type": "code",
   "execution_count": 7,
   "metadata": {},
   "outputs": [
    {
     "data": {
      "text/html": [
       "<div>\n",
       "<style scoped>\n",
       "    .dataframe tbody tr th:only-of-type {\n",
       "        vertical-align: middle;\n",
       "    }\n",
       "\n",
       "    .dataframe tbody tr th {\n",
       "        vertical-align: top;\n",
       "    }\n",
       "\n",
       "    .dataframe thead th {\n",
       "        text-align: right;\n",
       "    }\n",
       "</style>\n",
       "<table border=\"1\" class=\"dataframe\">\n",
       "  <thead>\n",
       "    <tr style=\"text-align: right;\">\n",
       "      <th></th>\n",
       "      <th>Name</th>\n",
       "      <th>Platform</th>\n",
       "      <th>Year_of_Release</th>\n",
       "      <th>Genre</th>\n",
       "      <th>NA_sales</th>\n",
       "      <th>EU_sales</th>\n",
       "      <th>JP_sales</th>\n",
       "      <th>Other_sales</th>\n",
       "      <th>Critic_Score</th>\n",
       "      <th>User_Score</th>\n",
       "      <th>Rating</th>\n",
       "    </tr>\n",
       "  </thead>\n",
       "  <tbody>\n",
       "    <tr>\n",
       "      <th>0</th>\n",
       "      <td>Wii Sports</td>\n",
       "      <td>Wii</td>\n",
       "      <td>2006.0</td>\n",
       "      <td>Sports</td>\n",
       "      <td>41.36</td>\n",
       "      <td>28.96</td>\n",
       "      <td>3.77</td>\n",
       "      <td>8.45</td>\n",
       "      <td>76.0</td>\n",
       "      <td>8</td>\n",
       "      <td>E</td>\n",
       "    </tr>\n",
       "    <tr>\n",
       "      <th>1</th>\n",
       "      <td>Super Mario Bros.</td>\n",
       "      <td>NES</td>\n",
       "      <td>1985.0</td>\n",
       "      <td>Platform</td>\n",
       "      <td>29.08</td>\n",
       "      <td>3.58</td>\n",
       "      <td>6.81</td>\n",
       "      <td>0.77</td>\n",
       "      <td>NaN</td>\n",
       "      <td>NaN</td>\n",
       "      <td>NaN</td>\n",
       "    </tr>\n",
       "    <tr>\n",
       "      <th>2</th>\n",
       "      <td>Mario Kart Wii</td>\n",
       "      <td>Wii</td>\n",
       "      <td>2008.0</td>\n",
       "      <td>Racing</td>\n",
       "      <td>15.68</td>\n",
       "      <td>12.76</td>\n",
       "      <td>3.79</td>\n",
       "      <td>3.29</td>\n",
       "      <td>82.0</td>\n",
       "      <td>8.3</td>\n",
       "      <td>E</td>\n",
       "    </tr>\n",
       "    <tr>\n",
       "      <th>3</th>\n",
       "      <td>Wii Sports Resort</td>\n",
       "      <td>Wii</td>\n",
       "      <td>2009.0</td>\n",
       "      <td>Sports</td>\n",
       "      <td>15.61</td>\n",
       "      <td>10.93</td>\n",
       "      <td>3.28</td>\n",
       "      <td>2.95</td>\n",
       "      <td>80.0</td>\n",
       "      <td>8</td>\n",
       "      <td>E</td>\n",
       "    </tr>\n",
       "    <tr>\n",
       "      <th>4</th>\n",
       "      <td>Pokemon Red/Pokemon Blue</td>\n",
       "      <td>GB</td>\n",
       "      <td>1996.0</td>\n",
       "      <td>Role-Playing</td>\n",
       "      <td>11.27</td>\n",
       "      <td>8.89</td>\n",
       "      <td>10.22</td>\n",
       "      <td>1.00</td>\n",
       "      <td>NaN</td>\n",
       "      <td>NaN</td>\n",
       "      <td>NaN</td>\n",
       "    </tr>\n",
       "  </tbody>\n",
       "</table>\n",
       "</div>"
      ],
      "text/plain": [
       "                       Name Platform  Year_of_Release         Genre  NA_sales  \\\n",
       "0                Wii Sports      Wii           2006.0        Sports     41.36   \n",
       "1         Super Mario Bros.      NES           1985.0      Platform     29.08   \n",
       "2            Mario Kart Wii      Wii           2008.0        Racing     15.68   \n",
       "3         Wii Sports Resort      Wii           2009.0        Sports     15.61   \n",
       "4  Pokemon Red/Pokemon Blue       GB           1996.0  Role-Playing     11.27   \n",
       "\n",
       "   EU_sales  JP_sales  Other_sales  Critic_Score User_Score Rating  \n",
       "0     28.96      3.77         8.45          76.0          8      E  \n",
       "1      3.58      6.81         0.77           NaN        NaN    NaN  \n",
       "2     12.76      3.79         3.29          82.0        8.3      E  \n",
       "3     10.93      3.28         2.95          80.0          8      E  \n",
       "4      8.89     10.22         1.00           NaN        NaN    NaN  "
      ]
     },
     "execution_count": 7,
     "metadata": {},
     "output_type": "execute_result"
    }
   ],
   "source": [
    "data.head()"
   ]
  },
  {
   "cell_type": "markdown",
   "metadata": {},
   "source": [
    "## Подготовьте данные"
   ]
  },
  {
   "cell_type": "markdown",
   "metadata": {},
   "source": [
    "### Заменить названия столбцов (привести к нижнему регистру)"
   ]
  },
  {
   "cell_type": "code",
   "execution_count": 8,
   "metadata": {},
   "outputs": [
    {
     "data": {
      "text/plain": [
       "Index(['name', 'platform', 'year_of_release', 'genre', 'na_sales', 'eu_sales',\n",
       "       'jp_sales', 'other_sales', 'critic_score', 'user_score', 'rating'],\n",
       "      dtype='object')"
      ]
     },
     "execution_count": 8,
     "metadata": {},
     "output_type": "execute_result"
    }
   ],
   "source": [
    "data.columns = data.columns.str.lower()\n",
    "data.columns"
   ]
  },
  {
   "cell_type": "markdown",
   "metadata": {},
   "source": [
    "### Преобразование данных в нужные типы и обработка пропусков"
   ]
  },
  {
   "cell_type": "code",
   "execution_count": 9,
   "metadata": {
    "scrolled": true
   },
   "outputs": [
    {
     "data": {
      "text/plain": [
       "name                  2\n",
       "platform              0\n",
       "year_of_release     269\n",
       "genre                 2\n",
       "na_sales              0\n",
       "eu_sales              0\n",
       "jp_sales              0\n",
       "other_sales           0\n",
       "critic_score       8578\n",
       "user_score         6701\n",
       "rating             6766\n",
       "dtype: int64"
      ]
     },
     "execution_count": 9,
     "metadata": {},
     "output_type": "execute_result"
    }
   ],
   "source": [
    "data.isna().sum()"
   ]
  },
  {
   "cell_type": "markdown",
   "metadata": {},
   "source": [
    "Строки с неизвестным годом выпуска игры удалим, остальные приведем к типу int:"
   ]
  },
  {
   "cell_type": "code",
   "execution_count": 10,
   "metadata": {},
   "outputs": [],
   "source": [
    "data = data.dropna(subset=['year_of_release'])"
   ]
  },
  {
   "cell_type": "code",
   "execution_count": 11,
   "metadata": {},
   "outputs": [],
   "source": [
    "data['year_of_release'] = data['year_of_release'].astype('int')"
   ]
  },
  {
   "cell_type": "markdown",
   "metadata": {},
   "source": [
    "\"Оценки критиков\" приведем к типу int и заполним пропуски.\n",
    "\n",
    "Такое количество пропусков (8'578) может быть результатом технологической ошибки. Заполним пропуски нулями:"
   ]
  },
  {
   "cell_type": "code",
   "execution_count": 12,
   "metadata": {},
   "outputs": [],
   "source": [
    "data['critic_score'] = data['critic_score'].fillna(0)"
   ]
  },
  {
   "cell_type": "code",
   "execution_count": 13,
   "metadata": {},
   "outputs": [],
   "source": [
    "data['critic_score'] = data['critic_score'].astype('int')"
   ]
  },
  {
   "cell_type": "markdown",
   "metadata": {},
   "source": [
    "Из сети Интернет можно узнать, что рейтинг \"tbd\" (To Be Determined) означает, что его еще не определили.\n",
    "\n",
    "Для последующей корректной работы с данными столбца \"Оценка пользователей\" изменим тип с object на float и заполним пропуски и \"tbd\" нулями:"
   ]
  },
  {
   "cell_type": "code",
   "execution_count": 14,
   "metadata": {},
   "outputs": [],
   "source": [
    "data['user_score'] = data['user_score'].fillna(0)"
   ]
  },
  {
   "cell_type": "code",
   "execution_count": 15,
   "metadata": {},
   "outputs": [],
   "source": [
    "data['user_score'] = data['user_score'].replace('tbd', 0)"
   ]
  },
  {
   "cell_type": "code",
   "execution_count": 16,
   "metadata": {},
   "outputs": [],
   "source": [
    "data['user_score'] = data['user_score'].astype('float')"
   ]
  },
  {
   "cell_type": "markdown",
   "metadata": {},
   "source": [
    "Проверим столбец Жанр на пропуски:"
   ]
  },
  {
   "cell_type": "code",
   "execution_count": 17,
   "metadata": {},
   "outputs": [
    {
     "data": {
      "text/html": [
       "<div>\n",
       "<style scoped>\n",
       "    .dataframe tbody tr th:only-of-type {\n",
       "        vertical-align: middle;\n",
       "    }\n",
       "\n",
       "    .dataframe tbody tr th {\n",
       "        vertical-align: top;\n",
       "    }\n",
       "\n",
       "    .dataframe thead th {\n",
       "        text-align: right;\n",
       "    }\n",
       "</style>\n",
       "<table border=\"1\" class=\"dataframe\">\n",
       "  <thead>\n",
       "    <tr style=\"text-align: right;\">\n",
       "      <th></th>\n",
       "      <th>name</th>\n",
       "      <th>platform</th>\n",
       "      <th>year_of_release</th>\n",
       "      <th>genre</th>\n",
       "      <th>na_sales</th>\n",
       "      <th>eu_sales</th>\n",
       "      <th>jp_sales</th>\n",
       "      <th>other_sales</th>\n",
       "      <th>critic_score</th>\n",
       "      <th>user_score</th>\n",
       "      <th>rating</th>\n",
       "    </tr>\n",
       "  </thead>\n",
       "  <tbody>\n",
       "    <tr>\n",
       "      <th>659</th>\n",
       "      <td>NaN</td>\n",
       "      <td>GEN</td>\n",
       "      <td>1993</td>\n",
       "      <td>NaN</td>\n",
       "      <td>1.78</td>\n",
       "      <td>0.53</td>\n",
       "      <td>0.00</td>\n",
       "      <td>0.08</td>\n",
       "      <td>0</td>\n",
       "      <td>0.0</td>\n",
       "      <td>NaN</td>\n",
       "    </tr>\n",
       "    <tr>\n",
       "      <th>14244</th>\n",
       "      <td>NaN</td>\n",
       "      <td>GEN</td>\n",
       "      <td>1993</td>\n",
       "      <td>NaN</td>\n",
       "      <td>0.00</td>\n",
       "      <td>0.00</td>\n",
       "      <td>0.03</td>\n",
       "      <td>0.00</td>\n",
       "      <td>0</td>\n",
       "      <td>0.0</td>\n",
       "      <td>NaN</td>\n",
       "    </tr>\n",
       "  </tbody>\n",
       "</table>\n",
       "</div>"
      ],
      "text/plain": [
       "      name platform  year_of_release genre  na_sales  eu_sales  jp_sales  \\\n",
       "659    NaN      GEN             1993   NaN      1.78      0.53      0.00   \n",
       "14244  NaN      GEN             1993   NaN      0.00      0.00      0.03   \n",
       "\n",
       "       other_sales  critic_score  user_score rating  \n",
       "659           0.08             0         0.0    NaN  \n",
       "14244         0.00             0         0.0    NaN  "
      ]
     },
     "execution_count": 17,
     "metadata": {},
     "output_type": "execute_result"
    }
   ],
   "source": [
    "data[data['genre'].isna() == True]"
   ]
  },
  {
   "cell_type": "markdown",
   "metadata": {},
   "source": [
    "У обеих игр отсутствуют данные с названием, жанром и оценками. Удалим две строки:"
   ]
  },
  {
   "cell_type": "code",
   "execution_count": 18,
   "metadata": {},
   "outputs": [],
   "source": [
    "data = data.drop(index=[659, 14244])"
   ]
  },
  {
   "cell_type": "code",
   "execution_count": 19,
   "metadata": {},
   "outputs": [
    {
     "data": {
      "text/plain": [
       "array(['E', nan, 'M', 'T', 'E10+', 'K-A', 'AO', 'EC', 'RP'], dtype=object)"
      ]
     },
     "execution_count": 19,
     "metadata": {},
     "output_type": "execute_result"
    }
   ],
   "source": [
    "data['rating'].unique()"
   ]
  },
  {
   "cell_type": "markdown",
   "metadata": {},
   "source": [
    "Узнаём, что 'RP'(Rating Pending) - рейтинга еще нет, а 'K-A' до 1998 года был известен как 'от детей до взрослых', что сейчас равнозначно рейтигу 'E' (для всех). Источник: https://ru.wikibrief.org/wiki/Entertainment_Software_Rating_Board\n",
    "\n",
    "Строкам с отстуствующим значениям присвоим рейтинг 'RP', а 'K-A' переименуем в 'E' для последующего корректного анализа:"
   ]
  },
  {
   "cell_type": "code",
   "execution_count": 20,
   "metadata": {},
   "outputs": [],
   "source": [
    "data['rating'] = data['rating'].fillna('RP')"
   ]
  },
  {
   "cell_type": "code",
   "execution_count": 21,
   "metadata": {},
   "outputs": [],
   "source": [
    "data['rating'] = data['rating'].replace('K-A', 'E')"
   ]
  },
  {
   "cell_type": "markdown",
   "metadata": {},
   "source": [
    "### Посчитаем суммарные продажи во всех регионах (миллионы проданных копий) и запишем их в отдельный столбец:"
   ]
  },
  {
   "cell_type": "code",
   "execution_count": 22,
   "metadata": {
    "scrolled": true
   },
   "outputs": [
    {
     "data": {
      "text/html": [
       "<div>\n",
       "<style scoped>\n",
       "    .dataframe tbody tr th:only-of-type {\n",
       "        vertical-align: middle;\n",
       "    }\n",
       "\n",
       "    .dataframe tbody tr th {\n",
       "        vertical-align: top;\n",
       "    }\n",
       "\n",
       "    .dataframe thead th {\n",
       "        text-align: right;\n",
       "    }\n",
       "</style>\n",
       "<table border=\"1\" class=\"dataframe\">\n",
       "  <thead>\n",
       "    <tr style=\"text-align: right;\">\n",
       "      <th></th>\n",
       "      <th>name</th>\n",
       "      <th>platform</th>\n",
       "      <th>year_of_release</th>\n",
       "      <th>genre</th>\n",
       "      <th>na_sales</th>\n",
       "      <th>eu_sales</th>\n",
       "      <th>jp_sales</th>\n",
       "      <th>other_sales</th>\n",
       "      <th>critic_score</th>\n",
       "      <th>user_score</th>\n",
       "      <th>rating</th>\n",
       "      <th>all_sales</th>\n",
       "    </tr>\n",
       "  </thead>\n",
       "  <tbody>\n",
       "    <tr>\n",
       "      <th>0</th>\n",
       "      <td>Wii Sports</td>\n",
       "      <td>Wii</td>\n",
       "      <td>2006</td>\n",
       "      <td>Sports</td>\n",
       "      <td>41.36</td>\n",
       "      <td>28.96</td>\n",
       "      <td>3.77</td>\n",
       "      <td>8.45</td>\n",
       "      <td>76</td>\n",
       "      <td>8.0</td>\n",
       "      <td>E</td>\n",
       "      <td>82.54</td>\n",
       "    </tr>\n",
       "    <tr>\n",
       "      <th>1</th>\n",
       "      <td>Super Mario Bros.</td>\n",
       "      <td>NES</td>\n",
       "      <td>1985</td>\n",
       "      <td>Platform</td>\n",
       "      <td>29.08</td>\n",
       "      <td>3.58</td>\n",
       "      <td>6.81</td>\n",
       "      <td>0.77</td>\n",
       "      <td>0</td>\n",
       "      <td>0.0</td>\n",
       "      <td>RP</td>\n",
       "      <td>40.24</td>\n",
       "    </tr>\n",
       "    <tr>\n",
       "      <th>2</th>\n",
       "      <td>Mario Kart Wii</td>\n",
       "      <td>Wii</td>\n",
       "      <td>2008</td>\n",
       "      <td>Racing</td>\n",
       "      <td>15.68</td>\n",
       "      <td>12.76</td>\n",
       "      <td>3.79</td>\n",
       "      <td>3.29</td>\n",
       "      <td>82</td>\n",
       "      <td>8.3</td>\n",
       "      <td>E</td>\n",
       "      <td>35.52</td>\n",
       "    </tr>\n",
       "    <tr>\n",
       "      <th>3</th>\n",
       "      <td>Wii Sports Resort</td>\n",
       "      <td>Wii</td>\n",
       "      <td>2009</td>\n",
       "      <td>Sports</td>\n",
       "      <td>15.61</td>\n",
       "      <td>10.93</td>\n",
       "      <td>3.28</td>\n",
       "      <td>2.95</td>\n",
       "      <td>80</td>\n",
       "      <td>8.0</td>\n",
       "      <td>E</td>\n",
       "      <td>32.77</td>\n",
       "    </tr>\n",
       "    <tr>\n",
       "      <th>4</th>\n",
       "      <td>Pokemon Red/Pokemon Blue</td>\n",
       "      <td>GB</td>\n",
       "      <td>1996</td>\n",
       "      <td>Role-Playing</td>\n",
       "      <td>11.27</td>\n",
       "      <td>8.89</td>\n",
       "      <td>10.22</td>\n",
       "      <td>1.00</td>\n",
       "      <td>0</td>\n",
       "      <td>0.0</td>\n",
       "      <td>RP</td>\n",
       "      <td>31.38</td>\n",
       "    </tr>\n",
       "  </tbody>\n",
       "</table>\n",
       "</div>"
      ],
      "text/plain": [
       "                       name platform  year_of_release         genre  na_sales  \\\n",
       "0                Wii Sports      Wii             2006        Sports     41.36   \n",
       "1         Super Mario Bros.      NES             1985      Platform     29.08   \n",
       "2            Mario Kart Wii      Wii             2008        Racing     15.68   \n",
       "3         Wii Sports Resort      Wii             2009        Sports     15.61   \n",
       "4  Pokemon Red/Pokemon Blue       GB             1996  Role-Playing     11.27   \n",
       "\n",
       "   eu_sales  jp_sales  other_sales  critic_score  user_score rating  all_sales  \n",
       "0     28.96      3.77         8.45            76         8.0      E      82.54  \n",
       "1      3.58      6.81         0.77             0         0.0     RP      40.24  \n",
       "2     12.76      3.79         3.29            82         8.3      E      35.52  \n",
       "3     10.93      3.28         2.95            80         8.0      E      32.77  \n",
       "4      8.89     10.22         1.00             0         0.0     RP      31.38  "
      ]
     },
     "execution_count": 22,
     "metadata": {},
     "output_type": "execute_result"
    }
   ],
   "source": [
    "data['all_sales'] = data['na_sales'] + data['eu_sales'] + data['jp_sales'] + data['other_sales']\n",
    "data.head()"
   ]
  },
  {
   "cell_type": "markdown",
   "metadata": {},
   "source": [
    "## Исследовательский анализ данных"
   ]
  },
  {
   "cell_type": "markdown",
   "metadata": {},
   "source": [
    "### Сколько игр выпускалось в разные годы:"
   ]
  },
  {
   "cell_type": "code",
   "execution_count": 23,
   "metadata": {
    "scrolled": true
   },
   "outputs": [
    {
     "data": {
      "text/plain": [
       "2008    1427\n",
       "2009    1426\n",
       "2010    1255\n",
       "2007    1197\n",
       "2011    1136\n",
       "2006    1006\n",
       "2005     939\n",
       "2002     829\n",
       "2003     775\n",
       "2004     762\n",
       "2012     653\n",
       "2015     606\n",
       "2014     581\n",
       "2013     544\n",
       "2016     502\n",
       "2001     482\n",
       "1998     379\n",
       "2000     350\n",
       "1999     338\n",
       "1997     289\n",
       "1996     263\n",
       "1995     219\n",
       "1994     121\n",
       "1993      60\n",
       "1981      46\n",
       "1992      43\n",
       "1991      41\n",
       "1982      36\n",
       "1986      21\n",
       "1989      17\n",
       "1983      17\n",
       "1990      16\n",
       "1987      16\n",
       "1988      15\n",
       "1985      14\n",
       "1984      14\n",
       "1980       9\n",
       "Name: year_of_release, dtype: int64"
      ]
     },
     "execution_count": 23,
     "metadata": {},
     "output_type": "execute_result"
    }
   ],
   "source": [
    "data['year_of_release'].value_counts()"
   ]
  },
  {
   "cell_type": "code",
   "execution_count": 24,
   "metadata": {
    "scrolled": true
   },
   "outputs": [
    {
     "data": {
      "image/png": "[encoded data removed]",
      "text/plain": [
       "<Figure size 640x480 with 1 Axes>"
      ]
     },
     "metadata": {},
     "output_type": "display_data"
    }
   ],
   "source": [
    "data.groupby('year_of_release').agg({'name':'count'}).plot()\n",
    "mpl.title(\"Количество выпускаемых игр по 2016 год\")\n",
    "mpl.show()"
   ]
  },
  {
   "cell_type": "markdown",
   "metadata": {},
   "source": [
    "**Видим сильный прирост в количетсве выпускаемых игр в 2001 году. Будем считать, что с этого года данные более важны.**"
   ]
  },
  {
   "cell_type": "markdown",
   "metadata": {},
   "source": [
    "### Kак менялись продажи по платформам:"
   ]
  },
  {
   "cell_type": "code",
   "execution_count": 25,
   "metadata": {
    "scrolled": true
   },
   "outputs": [
    {
     "data": {
      "text/html": [
       "<div>\n",
       "<style scoped>\n",
       "    .dataframe tbody tr th:only-of-type {\n",
       "        vertical-align: middle;\n",
       "    }\n",
       "\n",
       "    .dataframe tbody tr th {\n",
       "        vertical-align: top;\n",
       "    }\n",
       "\n",
       "    .dataframe thead th {\n",
       "        text-align: right;\n",
       "    }\n",
       "</style>\n",
       "<table border=\"1\" class=\"dataframe\">\n",
       "  <thead>\n",
       "    <tr style=\"text-align: right;\">\n",
       "      <th></th>\n",
       "      <th>all_sales</th>\n",
       "    </tr>\n",
       "    <tr>\n",
       "      <th>platform</th>\n",
       "      <th></th>\n",
       "    </tr>\n",
       "  </thead>\n",
       "  <tbody>\n",
       "    <tr>\n",
       "      <th>PS2</th>\n",
       "      <td>1233.56</td>\n",
       "    </tr>\n",
       "    <tr>\n",
       "      <th>X360</th>\n",
       "      <td>961.24</td>\n",
       "    </tr>\n",
       "    <tr>\n",
       "      <th>PS3</th>\n",
       "      <td>931.34</td>\n",
       "    </tr>\n",
       "    <tr>\n",
       "      <th>Wii</th>\n",
       "      <td>891.18</td>\n",
       "    </tr>\n",
       "    <tr>\n",
       "      <th>DS</th>\n",
       "      <td>802.78</td>\n",
       "    </tr>\n",
       "    <tr>\n",
       "      <th>PS</th>\n",
       "      <td>727.58</td>\n",
       "    </tr>\n",
       "    <tr>\n",
       "      <th>PS4</th>\n",
       "      <td>314.14</td>\n",
       "    </tr>\n",
       "    <tr>\n",
       "      <th>GBA</th>\n",
       "      <td>312.88</td>\n",
       "    </tr>\n",
       "    <tr>\n",
       "      <th>PSP</th>\n",
       "      <td>289.53</td>\n",
       "    </tr>\n",
       "    <tr>\n",
       "      <th>3DS</th>\n",
       "      <td>257.81</td>\n",
       "    </tr>\n",
       "  </tbody>\n",
       "</table>\n",
       "</div>"
      ],
      "text/plain": [
       "          all_sales\n",
       "platform           \n",
       "PS2         1233.56\n",
       "X360         961.24\n",
       "PS3          931.34\n",
       "Wii          891.18\n",
       "DS           802.78\n",
       "PS           727.58\n",
       "PS4          314.14\n",
       "GBA          312.88\n",
       "PSP          289.53\n",
       "3DS          257.81"
      ]
     },
     "execution_count": 25,
     "metadata": {},
     "output_type": "execute_result"
    }
   ],
   "source": [
    "data.pivot_table(index='platform', values='all_sales', aggfunc='sum').sort_values(by='all_sales', ascending=False).head(10)"
   ]
  },
  {
   "cell_type": "code",
   "execution_count": 26,
   "metadata": {},
   "outputs": [
    {
     "data": {
      "image/png": "[encoded data removed]",
      "text/plain": [
       "<Figure size 640x480 with 1 Axes>"
      ]
     },
     "metadata": {},
     "output_type": "display_data"
    }
   ],
   "source": [
    "data[data['platform'] == 'PS2']['year_of_release'].hist()\n",
    "mpl.title(\"Доходность от PlayStation-2 по годам\")\n",
    "mpl.show()"
   ]
  },
  {
   "cell_type": "markdown",
   "metadata": {},
   "source": [
    "**PS2** была популярна более 6-и лет"
   ]
  },
  {
   "cell_type": "code",
   "execution_count": 27,
   "metadata": {},
   "outputs": [
    {
     "data": {
      "image/png": "[encoded data removed]",
      "text/plain": [
       "<Figure size 640x480 with 1 Axes>"
      ]
     },
     "metadata": {},
     "output_type": "display_data"
    }
   ],
   "source": [
    "data[data['platform'] == 'X360']['year_of_release'].hist()\n",
    "mpl.title(\"Доходность от Xbox 360 по годам\")\n",
    "mpl.show()"
   ]
  },
  {
   "cell_type": "markdown",
   "metadata": {},
   "source": [
    "**X360** с 2005 года уверенно наращивала популярность до резкого спада в 2012 году"
   ]
  },
  {
   "cell_type": "code",
   "execution_count": 28,
   "metadata": {},
   "outputs": [
    {
     "data": {
      "image/png": "[encoded data removed]",
      "text/plain": [
       "<Figure size 640x480 with 1 Axes>"
      ]
     },
     "metadata": {},
     "output_type": "display_data"
    }
   ],
   "source": [
    "data[data['platform'] == 'PS3']['year_of_release'].hist()\n",
    "mpl.title(\"Доходность от PlayStation-3 по годам\")\n",
    "mpl.show()"
   ]
  },
  {
   "cell_type": "markdown",
   "metadata": {},
   "source": [
    "**PS3** при быстром подъёме была популярной недолго - с 2009 года по 2012"
   ]
  },
  {
   "cell_type": "code",
   "execution_count": 29,
   "metadata": {},
   "outputs": [
    {
     "data": {
      "image/png": "[encoded data removed]",
      "text/plain": [
       "<Figure size 640x480 with 1 Axes>"
      ]
     },
     "metadata": {},
     "output_type": "display_data"
    }
   ],
   "source": [
    "data[data['platform'] == 'Wii']['year_of_release'].hist()\n",
    "mpl.title(\"Доходность от Nintendo Wii по годам\")\n",
    "mpl.show()"
   ]
  },
  {
   "cell_type": "markdown",
   "metadata": {},
   "source": [
    "**Wii** с 2007 по 2011 года держала хорошие позиции"
   ]
  },
  {
   "cell_type": "markdown",
   "metadata": {},
   "source": [
    "__Каждый год появляются новые платформы, при этом характерный срок их исчезновения по графикам видим через +/- 10 лет.__"
   ]
  },
  {
   "cell_type": "markdown",
   "metadata": {},
   "source": [
    "### Актуальный период"
   ]
  },
  {
   "cell_type": "markdown",
   "metadata": {},
   "source": [
    "Из графиков видим, что спрос на игры снижается с 2012 года. \n",
    "\n",
    "Для анализа будем считать данные актуальными за 2 года (с 2014 года)  и исследовать их."
   ]
  },
  {
   "cell_type": "code",
   "execution_count": 30,
   "metadata": {},
   "outputs": [
    {
     "data": {
      "image/png": "[encoded data removed]",
      "text/plain": [
       "<Figure size 1500x600 with 1 Axes>"
      ]
     },
     "metadata": {},
     "output_type": "display_data"
    }
   ],
   "source": [
    "data.query('year_of_release >= 2014').sort_values(by='all_sales', ascending=False).pivot_table(index='year_of_release', columns='platform', values='all_sales', aggfunc='sum').plot(figsize=(15, 6))\n",
    "mpl.xlabel('Платфломы по годам')\n",
    "mpl.ylabel('Миллионы проданных игр')\n",
    "mpl.title(\"Доходность платформ за последние 2 года\")\n",
    "mpl.xticks([2014, 2015, 2016])\n",
    "mpl.show()"
   ]
  },
  {
   "cell_type": "markdown",
   "metadata": {},
   "source": [
    "Несмотря на снижение количества продаваемых игр на всех платформах с 2015 года, **потенциально прибыльными будем считать PS4, XOne и 3DS**"
   ]
  },
  {
   "cell_type": "code",
   "execution_count": 31,
   "metadata": {},
   "outputs": [
    {
     "data": {
      "image/png": "[encoded data removed]",
      "text/plain": [
       "<Figure size 1500x600 with 1 Axes>"
      ]
     },
     "metadata": {},
     "output_type": "display_data"
    }
   ],
   "source": [
    "data.query('year_of_release >= 2014').boxplot(column='all_sales', by='platform', figsize=(15, 6), showfliers=False)\n",
    "mpl.show()"
   ]
  },
  {
   "cell_type": "markdown",
   "metadata": {},
   "source": [
    "Наличие выбросов может говорить о большой популярности каких-то отдельных  игр.\n",
    "\n",
    "### Для подсчета корреляции возьмём платформу с наибольшиими продажами - PS4"
   ]
  },
  {
   "cell_type": "code",
   "execution_count": 32,
   "metadata": {},
   "outputs": [
    {
     "data": {
      "image/png": "[encoded data removed]",
      "text/plain": [
       "<Figure size 1500x600 with 1 Axes>"
      ]
     },
     "metadata": {},
     "output_type": "display_data"
    }
   ],
   "source": [
    "data.query('platform == \"PS4\" and year_of_release >= 2014').plot(x='user_score', y='all_sales', kind='scatter', alpha=0.5, figsize=(15, 6), grid=True)\n",
    "mpl.title(\"Разброс оценок пользователей для Sony PlayStation 4 с 2014 года на фоне мировых продаж игр\")\n",
    "mpl.show()"
   ]
  },
  {
   "cell_type": "code",
   "execution_count": 33,
   "metadata": {},
   "outputs": [
    {
     "data": {
      "text/plain": [
       "-0.040131589472697356"
      ]
     },
     "execution_count": 33,
     "metadata": {},
     "output_type": "execute_result"
    }
   ],
   "source": [
    "data.query('platform == \"PS4\" and user_score > 0 and year_of_release >= 2014')['user_score'].corr(data['all_sales'])"
   ]
  },
  {
   "cell_type": "markdown",
   "metadata": {},
   "source": [
    "**Корреляция отрицательная, но близкая к нулю. Можно предположить, что низкие оценки либо не так часто влияли на покупки игр, либо пользователи оставляют отзывы через некоторое время - бо́льшие продажи происходят с релизом**"
   ]
  },
  {
   "cell_type": "code",
   "execution_count": 34,
   "metadata": {},
   "outputs": [
    {
     "data": {
      "image/png": "[encoded data removed]",
      "text/plain": [
       "<Figure size 1500x600 with 1 Axes>"
      ]
     },
     "metadata": {},
     "output_type": "display_data"
    }
   ],
   "source": [
    "data.query('platform == \"PS4\"').plot(x='critic_score', y='all_sales', kind='scatter', alpha=0.5, figsize=(15, 6), grid=True)\n",
    "mpl.title(\"Разброс оценок критиков для Sony PlayStation 4 с 2014 года на фоне мировых продаж игр\")\n",
    "mpl.show()"
   ]
  },
  {
   "cell_type": "code",
   "execution_count": 35,
   "metadata": {},
   "outputs": [
    {
     "data": {
      "text/plain": [
       "0.40266141068104083"
      ]
     },
     "execution_count": 35,
     "metadata": {},
     "output_type": "execute_result"
    }
   ],
   "source": [
    "data.query('platform == \"PS4\" and critic_score > 0 and year_of_release >= 2014')['critic_score'].corr(data['all_sales'])"
   ]
  },
  {
   "cell_type": "markdown",
   "metadata": {},
   "source": [
    "**Корреляция положительная - скорее всего геймеры прислушиваются к оценкам критиков**.\n",
    "\n",
    "Посмотрим данные по оставшимся платформам:"
   ]
  },
  {
   "cell_type": "code",
   "execution_count": 36,
   "metadata": {},
   "outputs": [
    {
     "data": {
      "text/plain": [
       "-0.02347818723797556"
      ]
     },
     "execution_count": 36,
     "metadata": {},
     "output_type": "execute_result"
    }
   ],
   "source": [
    "data.query('platform != \"PS4\" and user_score > 0 and year_of_release >= 2014')['user_score'].corr(data['all_sales'])"
   ]
  },
  {
   "cell_type": "code",
   "execution_count": 37,
   "metadata": {},
   "outputs": [
    {
     "data": {
      "text/plain": [
       "0.3094740026001152"
      ]
     },
     "execution_count": 37,
     "metadata": {},
     "output_type": "execute_result"
    }
   ],
   "source": [
    "data.query('platform != \"PS4\" and critic_score > 0 and year_of_release >= 2014')['critic_score'].corr(data['all_sales'])"
   ]
  },
  {
   "cell_type": "markdown",
   "metadata": {},
   "source": [
    "Такая же ситуация."
   ]
  },
  {
   "cell_type": "markdown",
   "metadata": {},
   "source": [
    "### Распределение игр по жанрам."
   ]
  },
  {
   "cell_type": "code",
   "execution_count": 38,
   "metadata": {},
   "outputs": [
    {
     "data": {
      "text/html": [
       "<div>\n",
       "<style scoped>\n",
       "    .dataframe tbody tr th:only-of-type {\n",
       "        vertical-align: middle;\n",
       "    }\n",
       "\n",
       "    .dataframe tbody tr th {\n",
       "        vertical-align: top;\n",
       "    }\n",
       "\n",
       "    .dataframe thead th {\n",
       "        text-align: right;\n",
       "    }\n",
       "</style>\n",
       "<table border=\"1\" class=\"dataframe\">\n",
       "  <thead>\n",
       "    <tr style=\"text-align: right;\">\n",
       "      <th></th>\n",
       "      <th>all_sales</th>\n",
       "      <th>name</th>\n",
       "    </tr>\n",
       "    <tr>\n",
       "      <th>genre</th>\n",
       "      <th></th>\n",
       "      <th></th>\n",
       "    </tr>\n",
       "  </thead>\n",
       "  <tbody>\n",
       "    <tr>\n",
       "      <th>Action</th>\n",
       "      <td>199.36</td>\n",
       "      <td>619</td>\n",
       "    </tr>\n",
       "    <tr>\n",
       "      <th>Adventure</th>\n",
       "      <td>17.55</td>\n",
       "      <td>185</td>\n",
       "    </tr>\n",
       "    <tr>\n",
       "      <th>Fighting</th>\n",
       "      <td>28.22</td>\n",
       "      <td>60</td>\n",
       "    </tr>\n",
       "    <tr>\n",
       "      <th>Misc</th>\n",
       "      <td>37.55</td>\n",
       "      <td>113</td>\n",
       "    </tr>\n",
       "    <tr>\n",
       "      <th>Platform</th>\n",
       "      <td>18.09</td>\n",
       "      <td>38</td>\n",
       "    </tr>\n",
       "    <tr>\n",
       "      <th>Puzzle</th>\n",
       "      <td>2.21</td>\n",
       "      <td>14</td>\n",
       "    </tr>\n",
       "    <tr>\n",
       "      <th>Racing</th>\n",
       "      <td>27.52</td>\n",
       "      <td>69</td>\n",
       "    </tr>\n",
       "    <tr>\n",
       "      <th>Role-Playing</th>\n",
       "      <td>101.44</td>\n",
       "      <td>221</td>\n",
       "    </tr>\n",
       "    <tr>\n",
       "      <th>Shooter</th>\n",
       "      <td>170.94</td>\n",
       "      <td>128</td>\n",
       "    </tr>\n",
       "    <tr>\n",
       "      <th>Simulation</th>\n",
       "      <td>13.13</td>\n",
       "      <td>44</td>\n",
       "    </tr>\n",
       "    <tr>\n",
       "      <th>Sports</th>\n",
       "      <td>109.48</td>\n",
       "      <td>161</td>\n",
       "    </tr>\n",
       "    <tr>\n",
       "      <th>Strategy</th>\n",
       "      <td>3.96</td>\n",
       "      <td>37</td>\n",
       "    </tr>\n",
       "  </tbody>\n",
       "</table>\n",
       "</div>"
      ],
      "text/plain": [
       "              all_sales  name\n",
       "genre                        \n",
       "Action           199.36   619\n",
       "Adventure         17.55   185\n",
       "Fighting          28.22    60\n",
       "Misc              37.55   113\n",
       "Platform          18.09    38\n",
       "Puzzle             2.21    14\n",
       "Racing            27.52    69\n",
       "Role-Playing     101.44   221\n",
       "Shooter          170.94   128\n",
       "Simulation        13.13    44\n",
       "Sports           109.48   161\n",
       "Strategy           3.96    37"
      ]
     },
     "execution_count": 38,
     "metadata": {},
     "output_type": "execute_result"
    }
   ],
   "source": [
    "data.query('year_of_release >= 2014').groupby('genre').agg({'all_sales':'sum', 'name':'count'})"
   ]
  },
  {
   "cell_type": "markdown",
   "metadata": {},
   "source": [
    "Видим, что в разы больше игр продалось в жанре Экшен.\n",
    "\n",
    "Также **Экшен лидирует по мировым продажам** - 199.36 млн игр. За ним следует жанр Шутер, замыкает тройку лидеров жанр Спортивных игр.\n",
    "\n",
    "**Меньше всего приносят Головоломки** - 2.21 млн игр за актуальные годы (2014-2016)."
   ]
  },
  {
   "cell_type": "code",
   "execution_count": 39,
   "metadata": {},
   "outputs": [
    {
     "data": {
      "text/html": [
       "<div>\n",
       "<style scoped>\n",
       "    .dataframe tbody tr th:only-of-type {\n",
       "        vertical-align: middle;\n",
       "    }\n",
       "\n",
       "    .dataframe tbody tr th {\n",
       "        vertical-align: top;\n",
       "    }\n",
       "\n",
       "    .dataframe thead th {\n",
       "        text-align: right;\n",
       "    }\n",
       "</style>\n",
       "<table border=\"1\" class=\"dataframe\">\n",
       "  <thead>\n",
       "    <tr style=\"text-align: right;\">\n",
       "      <th></th>\n",
       "      <th>all_sales</th>\n",
       "      <th>name</th>\n",
       "    </tr>\n",
       "    <tr>\n",
       "      <th>genre</th>\n",
       "      <th></th>\n",
       "      <th></th>\n",
       "    </tr>\n",
       "  </thead>\n",
       "  <tbody>\n",
       "    <tr>\n",
       "      <th>Shooter</th>\n",
       "      <td>1.335469</td>\n",
       "      <td>128</td>\n",
       "    </tr>\n",
       "    <tr>\n",
       "      <th>Sports</th>\n",
       "      <td>0.680000</td>\n",
       "      <td>161</td>\n",
       "    </tr>\n",
       "    <tr>\n",
       "      <th>Platform</th>\n",
       "      <td>0.476053</td>\n",
       "      <td>38</td>\n",
       "    </tr>\n",
       "    <tr>\n",
       "      <th>Fighting</th>\n",
       "      <td>0.470333</td>\n",
       "      <td>60</td>\n",
       "    </tr>\n",
       "    <tr>\n",
       "      <th>Role-Playing</th>\n",
       "      <td>0.459005</td>\n",
       "      <td>221</td>\n",
       "    </tr>\n",
       "    <tr>\n",
       "      <th>Racing</th>\n",
       "      <td>0.398841</td>\n",
       "      <td>69</td>\n",
       "    </tr>\n",
       "    <tr>\n",
       "      <th>Misc</th>\n",
       "      <td>0.332301</td>\n",
       "      <td>113</td>\n",
       "    </tr>\n",
       "    <tr>\n",
       "      <th>Action</th>\n",
       "      <td>0.322068</td>\n",
       "      <td>619</td>\n",
       "    </tr>\n",
       "    <tr>\n",
       "      <th>Simulation</th>\n",
       "      <td>0.298409</td>\n",
       "      <td>44</td>\n",
       "    </tr>\n",
       "    <tr>\n",
       "      <th>Puzzle</th>\n",
       "      <td>0.157857</td>\n",
       "      <td>14</td>\n",
       "    </tr>\n",
       "    <tr>\n",
       "      <th>Strategy</th>\n",
       "      <td>0.107027</td>\n",
       "      <td>37</td>\n",
       "    </tr>\n",
       "    <tr>\n",
       "      <th>Adventure</th>\n",
       "      <td>0.094865</td>\n",
       "      <td>185</td>\n",
       "    </tr>\n",
       "  </tbody>\n",
       "</table>\n",
       "</div>"
      ],
      "text/plain": [
       "              all_sales  name\n",
       "genre                        \n",
       "Shooter        1.335469   128\n",
       "Sports         0.680000   161\n",
       "Platform       0.476053    38\n",
       "Fighting       0.470333    60\n",
       "Role-Playing   0.459005   221\n",
       "Racing         0.398841    69\n",
       "Misc           0.332301   113\n",
       "Action         0.322068   619\n",
       "Simulation     0.298409    44\n",
       "Puzzle         0.157857    14\n",
       "Strategy       0.107027    37\n",
       "Adventure      0.094865   185"
      ]
     },
     "execution_count": 39,
     "metadata": {},
     "output_type": "execute_result"
    }
   ],
   "source": [
    "data.query('year_of_release >= 2014').groupby('genre').agg({'all_sales':'mean', 'name':'count'}).sort_values(by='all_sales', ascending=False)"
   ]
  },
  {
   "cell_type": "markdown",
   "metadata": {},
   "source": [
    "По средним показателям мировых продаж чаще купили игры в жанре Шутер, далее следуют Спортивные игры.\n",
    "\n",
    "**Меньше всего покупают Приключенческие игры** - 0.095 млн игр за актуальные годы (2014-2016)."
   ]
  },
  {
   "cell_type": "markdown",
   "metadata": {},
   "source": [
    "## Портрет пользователя каждого региона"
   ]
  },
  {
   "cell_type": "markdown",
   "metadata": {},
   "source": [
    "### Пользователи из Северной Америки:"
   ]
  },
  {
   "cell_type": "code",
   "execution_count": 40,
   "metadata": {},
   "outputs": [
    {
     "data": {
      "image/png": "[encoded data removed]",
      "text/plain": [
       "<Figure size 1500x600 with 1 Axes>"
      ]
     },
     "metadata": {},
     "output_type": "display_data"
    }
   ],
   "source": [
    "data.query('year_of_release >= 2014').pivot_table(index='platform', values='na_sales').sort_values(by='na_sales', ascending=False).head().plot(kind='bar', figsize=(15, 6))\n",
    "mpl.title(\"Популярность платформ в Сереной Америке с 2014 года\")\n",
    "mpl.show()"
   ]
  },
  {
   "cell_type": "markdown",
   "metadata": {},
   "source": [
    "**ТОП-5 платформ Северной Америки**: XOne, WiiU, PS4, X360 и Wii."
   ]
  },
  {
   "cell_type": "code",
   "execution_count": 41,
   "metadata": {},
   "outputs": [
    {
     "data": {
      "image/png": "[encoded data removed]",
      "text/plain": [
       "<Figure size 1500x600 with 1 Axes>"
      ]
     },
     "metadata": {},
     "output_type": "display_data"
    }
   ],
   "source": [
    "data.query('year_of_release >= 2014').pivot_table(index='genre', values='na_sales').sort_values(by='na_sales', ascending=False).head().plot(kind='bar', figsize=(15, 6))\n",
    "mpl.title(\"Популярность игровых жанров в Сереной Америке с 2014 года\")\n",
    "mpl.show()"
   ]
  },
  {
   "cell_type": "markdown",
   "metadata": {},
   "source": [
    "**ТОП-5 игровых жанров Северной Америки**: Shooter, Sports, Fighting, Platform и Role-Playing.\n",
    "\n",
    "Шутер более чем в 2 раза прибыльнее чем Спортс и Файтинг, которым в свою очередь уступают Платформеры и Ролевые игры."
   ]
  },
  {
   "cell_type": "code",
   "execution_count": 42,
   "metadata": {},
   "outputs": [
    {
     "data": {
      "image/png": "[encoded data removed]",
      "text/plain": [
       "<Figure size 1500x600 with 1 Axes>"
      ]
     },
     "metadata": {},
     "output_type": "display_data"
    }
   ],
   "source": [
    "data.query('year_of_release >= 2014').pivot_table(index='rating', values='na_sales').sort_values(by='na_sales', ascending=False).plot(kind='bar', figsize=(15, 6))\n",
    "mpl.title(\"Количество проданных игр по Rating Pending в Сереной Америке с 2014 года\")\n",
    "mpl.show()"
   ]
  },
  {
   "cell_type": "markdown",
   "metadata": {},
   "source": [
    "Конечно, больше игр приобретается без возрастного ценза (Е) и для лиц страше 17 лет (М). Также нужно отметить, что свой небольшой вклад делает группа игр с отсутствием рейтинга (RP)."
   ]
  },
  {
   "cell_type": "markdown",
   "metadata": {},
   "source": [
    "### Пользователи из Европы:"
   ]
  },
  {
   "cell_type": "code",
   "execution_count": 43,
   "metadata": {},
   "outputs": [
    {
     "data": {
      "image/png": "[encoded data removed]",
      "text/plain": [
       "<Figure size 1500x600 with 1 Axes>"
      ]
     },
     "metadata": {},
     "output_type": "display_data"
    }
   ],
   "source": [
    "data.query('year_of_release >= 2014').pivot_table(index='platform', values='eu_sales').sort_values(by='eu_sales', ascending=False).head().plot(kind='bar', figsize=(15, 6))\n",
    "mpl.title(\"Количество проданных игр на популярных платформах в Европе с 2014 года\")\n",
    "mpl.show()"
   ]
  },
  {
   "cell_type": "markdown",
   "metadata": {},
   "source": [
    "**ТОП-5 платформ Европы**: PS4, Wii, XOne, WiiU и X360."
   ]
  },
  {
   "cell_type": "code",
   "execution_count": 44,
   "metadata": {},
   "outputs": [
    {
     "data": {
      "image/png": "[encoded data removed]",
      "text/plain": [
       "<Figure size 1500x600 with 1 Axes>"
      ]
     },
     "metadata": {},
     "output_type": "display_data"
    }
   ],
   "source": [
    "data.query('year_of_release >= 2014').pivot_table(index='genre', values='eu_sales').sort_values(by='eu_sales', ascending=False).head().plot(kind='bar', figsize=(15, 6))\n",
    "mpl.title(\"Количество проданных игр по жанрам в Европе с 2014 года\")\n",
    "mpl.show()"
   ]
  },
  {
   "cell_type": "markdown",
   "metadata": {},
   "source": [
    "**ТОП-5 игровых жанров Европы**: Shooter, Sports, Racing, Platform и Simulation.\n",
    "\n",
    "Шутер почти в 2 раза прибыльнее чем Спортс. Рейсинг, Платформеры и Симуляторы имеют небольшой разрыв."
   ]
  },
  {
   "cell_type": "code",
   "execution_count": 45,
   "metadata": {},
   "outputs": [
    {
     "data": {
      "image/png": "[encoded data removed]",
      "text/plain": [
       "<Figure size 1500x600 with 1 Axes>"
      ]
     },
     "metadata": {},
     "output_type": "display_data"
    }
   ],
   "source": [
    "data.query('year_of_release >= 2014').pivot_table(index='rating', values='eu_sales').sort_values(by='eu_sales', ascending=False).plot(kind='bar', figsize=(15, 6))\n",
    "mpl.title(\"Количество проданных игр по Rating Pending в Европе с 2014 года\")\n",
    "mpl.show()"
   ]
  },
  {
   "cell_type": "markdown",
   "metadata": {},
   "source": [
    "Как и в Северной Америке: больше игр приобретается без возрастного ценза (Е) и для лиц страше 17 лет (М). Также нужно отметить, что свой небольшой вклад делает группа игр с отсутствием рейтинга (RP)."
   ]
  },
  {
   "cell_type": "markdown",
   "metadata": {},
   "source": [
    "### Пользователи из Японии:"
   ]
  },
  {
   "cell_type": "code",
   "execution_count": 46,
   "metadata": {},
   "outputs": [
    {
     "data": {
      "image/png": "[encoded data removed]",
      "text/plain": [
       "<Figure size 1500x600 with 1 Axes>"
      ]
     },
     "metadata": {},
     "output_type": "display_data"
    }
   ],
   "source": [
    "data.query('year_of_release >= 2014').pivot_table(index='platform', values='jp_sales').sort_values(by='jp_sales', ascending=False).head().plot(kind='bar', figsize=(15, 6))\n",
    "mpl.title(\"Количество проданных игр для популярных платформ в Японии с 2014 года\")\n",
    "mpl.show()"
   ]
  },
  {
   "cell_type": "markdown",
   "metadata": {},
   "source": [
    "**ТОП-5 платформ Японии**: 3DS, WiiU, PS3, PSV и PS4."
   ]
  },
  {
   "cell_type": "code",
   "execution_count": 47,
   "metadata": {},
   "outputs": [
    {
     "data": {
      "image/png": "[encoded data removed]",
      "text/plain": [
       "<Figure size 1500x600 with 1 Axes>"
      ]
     },
     "metadata": {},
     "output_type": "display_data"
    }
   ],
   "source": [
    "data.query('year_of_release >= 2014').pivot_table(index='genre', values='jp_sales').sort_values(by='jp_sales', ascending=False).head().plot(kind='bar', figsize=(15, 6))\n",
    "mpl.title(\"Количество проданных игр в популярных жанрах в Японии с 2014 года\")\n",
    "mpl.show()"
   ]
  },
  {
   "cell_type": "markdown",
   "metadata": {},
   "source": [
    "**ТОП-5 игровых жанров Японии**: Role-Playing, Fighting, Platform, Puzzle и Simulation.\n",
    "\n",
    "Самый прибыльный жанр в Японии - Ролевые игры. Далее идёт Файтинг. Платформеры, Головоломки и Симуляторы примерно на одном уровне."
   ]
  },
  {
   "cell_type": "code",
   "execution_count": 48,
   "metadata": {},
   "outputs": [
    {
     "data": {
      "image/png": "[encoded data removed]",
      "text/plain": [
       "<Figure size 1500x600 with 1 Axes>"
      ]
     },
     "metadata": {},
     "output_type": "display_data"
    }
   ],
   "source": [
    "data.query('year_of_release >= 2014').pivot_table(index='rating', values='jp_sales').sort_values(by='jp_sales', ascending=False).plot(kind='bar', figsize=(15, 6))\n",
    "mpl.title(\"Количество проданных игр по Rating Pending в Японии с 2014 года\")\n",
    "mpl.show()"
   ]
  },
  {
   "cell_type": "markdown",
   "metadata": {},
   "source": [
    "Бо́льшая часть проданных игр не имела рейтинга (RP). В отличии от Северной Америки и Европы, в Японии много игр приобретается с цензом 13+"
   ]
  },
  {
   "cell_type": "markdown",
   "metadata": {},
   "source": [
    "## Проверка гипотез"
   ]
  },
  {
   "cell_type": "markdown",
   "metadata": {},
   "source": [
    "### Средние пользовательские рейтинги платформ Xbox One и PC одинаковые?"
   ]
  },
  {
   "cell_type": "markdown",
   "metadata": {},
   "source": [
    "**Н_0**: Средний пользовательский рейтинг **Xbox One =** Среднему пользовательскому рейтингу **PC**\n",
    "\n",
    "**Н_1**: Средний пользовательский рейтинг **Xbox One не равен** Среднему пользовательскому рейтингу **PC**"
   ]
  },
  {
   "cell_type": "code",
   "execution_count": 49,
   "metadata": {},
   "outputs": [
    {
     "name": "stdout",
     "output_type": "stream",
     "text": [
      "Отвергаем нулевую гипотезу\n"
     ]
    }
   ],
   "source": [
    "data_xbox = data.query('platform == \"XOne\" and user_score > 0')['user_score']\n",
    "data_pc = data.query('platform == \"PC\" and user_score > 0')['user_score']\n",
    "alpha = .05\n",
    "results = st.ttest_ind(data_xbox, data_pc, equal_var = False)\n",
    "if results.pvalue < alpha:\n",
    "    print(\"Отвергаем нулевую гипотезу\")\n",
    "else:\n",
    "    print(\"Не получилось отвергнуть нулевую гипотезу\")"
   ]
  },
  {
   "cell_type": "markdown",
   "metadata": {},
   "source": [
    "**Средние пользовательские оценки этих платформ разные**."
   ]
  },
  {
   "cell_type": "markdown",
   "metadata": {},
   "source": [
    "### Средние пользовательские рейтинги жанров Action и Sports  разные?"
   ]
  },
  {
   "cell_type": "markdown",
   "metadata": {},
   "source": [
    "**Н_0**: Средний пользовательский рейтинг **Action** равен Среднему пользовательскому рейтингу **Sports**\n",
    "\n",
    "**Н_1**: Средний пользовательский рейтинг **Action не** равен Среднему пользовательскому рейтингу **Sports**"
   ]
  },
  {
   "cell_type": "code",
   "execution_count": 50,
   "metadata": {},
   "outputs": [
    {
     "name": "stdout",
     "output_type": "stream",
     "text": [
      "Не получилось отвергнуть нулевую гипотезу\n"
     ]
    }
   ],
   "source": [
    "data_action = data.query('genre == \"Action\" and user_score > 0')['user_score']\n",
    "data_sports = data.query('genre == \"Sports\" and user_score > 0')['user_score']\n",
    "alpha = .01\n",
    "results = st.ttest_ind(data_action, data_sports, equal_var = False)\n",
    "if results.pvalue < alpha:\n",
    "    print(\"Отвергаем нулевую гипотезу\")\n",
    "else:\n",
    "    print(\"Не получилось отвергнуть нулевую гипотезу\")"
   ]
  },
  {
   "cell_type": "code",
   "execution_count": 51,
   "metadata": {},
   "outputs": [
    {
     "name": "stdout",
     "output_type": "stream",
     "text": [
      "6.951433857539316 7.058129175946549\n",
      "7.4 7.4\n"
     ]
    }
   ],
   "source": [
    "print(data_sports.mean(), data_action.mean())\n",
    "print(data_sports.median(), data_action.median())"
   ]
  },
  {
   "cell_type": "markdown",
   "metadata": {},
   "source": [
    "По среднему значению есть разница в 0,1 по оценкам пользователей игр жанров Action и Sports, по медиане же рейтинг одинаков. \n",
    "\n",
    "**_Будем придерживаться нулевой гипотезы и считать, что рейтинги этих жанров равны._**"
   ]
  },
  {
   "cell_type": "markdown",
   "metadata": {},
   "source": [
    "## Общий вывод:"
   ]
  },
  {
   "cell_type": "markdown",
   "metadata": {},
   "source": [
    "1) При подготовке данных были заменён регистр названий столбцов, типы некоторых столбцов приведены к корректным, удалены либо обработаны пропуски. Также был создан столбцев по общемировому доходу с игр.\n",
    "\n",
    "2) При анализе данных выявлен рост количетсва выпускаемых игр с 2001 года. По имеющимся данным за все годы самой доходной платформой была PS2, а за актуальный для нас период (с 2014 года) - PS4.\n",
    "\n",
    "3) При этом самая популярная платформа Северной Америки - это XOne, Eвропы - PS4, а Японии - 3DS. В Северной Америке и Европе чаще покупают игры жанра Шутер, а в Японии - Ролевые.\n",
    "\n",
    "_В 2017 году нам нужно сделать ставку на игры в жанре Шутер для платформы PlayStation 4._"
   ]
  }
 ],
 "metadata": {
  "ExecuteTimeLog": [
   {
    "duration": 448,
    "start_time": "2023-01-16T12:19:38.746Z"
   },
   {
    "duration": 201,
    "start_time": "2023-01-16T12:20:33.533Z"
   },
   {
    "duration": 18,
    "start_time": "2023-01-16T12:23:05.525Z"
   },
   {
    "duration": 66,
    "start_time": "2023-01-16T12:23:43.202Z"
   },
   {
    "duration": 8,
    "start_time": "2023-01-16T12:25:09.809Z"
   },
   {
    "duration": 10,
    "start_time": "2023-01-16T12:26:12.564Z"
   },
   {
    "duration": 7,
    "start_time": "2023-01-16T12:29:03.275Z"
   },
   {
    "duration": 11,
    "start_time": "2023-01-16T12:30:00.269Z"
   },
   {
    "duration": 7,
    "start_time": "2023-01-16T12:30:25.540Z"
   },
   {
    "duration": 8,
    "start_time": "2023-01-16T12:30:31.059Z"
   },
   {
    "duration": 3,
    "start_time": "2023-01-16T12:35:44.161Z"
   },
   {
    "duration": 25,
    "start_time": "2023-01-16T12:35:56.922Z"
   },
   {
    "duration": 22,
    "start_time": "2023-01-16T12:37:24.165Z"
   },
   {
    "duration": 14,
    "start_time": "2023-01-16T12:38:07.578Z"
   },
   {
    "duration": 13,
    "start_time": "2023-01-16T12:38:12.123Z"
   },
   {
    "duration": 12,
    "start_time": "2023-01-16T12:39:21.156Z"
   },
   {
    "duration": 8,
    "start_time": "2023-01-16T12:48:22.307Z"
   },
   {
    "duration": 6,
    "start_time": "2023-01-16T12:48:29.798Z"
   },
   {
    "duration": 8,
    "start_time": "2023-01-16T12:48:48.904Z"
   },
   {
    "duration": 26,
    "start_time": "2023-01-16T12:49:13.065Z"
   },
   {
    "duration": 7,
    "start_time": "2023-01-16T12:49:48.376Z"
   },
   {
    "duration": 7,
    "start_time": "2023-01-16T12:50:19.503Z"
   },
   {
    "duration": 14,
    "start_time": "2023-01-16T12:50:20.532Z"
   },
   {
    "duration": 5,
    "start_time": "2023-01-16T12:51:18.433Z"
   },
   {
    "duration": 4,
    "start_time": "2023-01-16T12:51:56.352Z"
   },
   {
    "duration": 4,
    "start_time": "2023-01-16T12:51:59.094Z"
   },
   {
    "duration": 6,
    "start_time": "2023-01-16T12:52:33.349Z"
   },
   {
    "duration": 19,
    "start_time": "2023-01-16T12:52:50.233Z"
   },
   {
    "duration": 22,
    "start_time": "2023-01-16T12:53:29.892Z"
   },
   {
    "duration": 8,
    "start_time": "2023-01-16T12:53:39.484Z"
   },
   {
    "duration": 19,
    "start_time": "2023-01-16T12:53:53.436Z"
   },
   {
    "duration": 19,
    "start_time": "2023-01-16T12:55:01.785Z"
   },
   {
    "duration": 5,
    "start_time": "2023-01-16T12:56:21.625Z"
   },
   {
    "duration": 14,
    "start_time": "2023-01-16T13:00:21.722Z"
   },
   {
    "duration": 13,
    "start_time": "2023-01-16T13:02:50.099Z"
   },
   {
    "duration": 16,
    "start_time": "2023-01-16T13:03:02.595Z"
   },
   {
    "duration": 18,
    "start_time": "2023-01-16T13:03:18.644Z"
   },
   {
    "duration": 20,
    "start_time": "2023-01-16T13:03:19.506Z"
   },
   {
    "duration": 33,
    "start_time": "2023-01-16T13:05:20.805Z"
   },
   {
    "duration": 34,
    "start_time": "2023-01-16T13:05:23.948Z"
   },
   {
    "duration": 4,
    "start_time": "2023-01-16T13:05:42.824Z"
   },
   {
    "duration": 67,
    "start_time": "2023-01-16T13:05:42.830Z"
   },
   {
    "duration": 17,
    "start_time": "2023-01-16T13:05:42.899Z"
   },
   {
    "duration": 21,
    "start_time": "2023-01-16T13:05:42.918Z"
   },
   {
    "duration": 34,
    "start_time": "2023-01-16T13:05:42.943Z"
   },
   {
    "duration": 16,
    "start_time": "2023-01-16T13:05:42.979Z"
   },
   {
    "duration": 13,
    "start_time": "2023-01-16T13:05:42.996Z"
   },
   {
    "duration": 19,
    "start_time": "2023-01-16T13:05:43.011Z"
   },
   {
    "duration": 24,
    "start_time": "2023-01-16T13:05:43.032Z"
   },
   {
    "duration": 41,
    "start_time": "2023-01-16T13:05:43.059Z"
   },
   {
    "duration": 21,
    "start_time": "2023-01-16T13:05:43.102Z"
   },
   {
    "duration": 8,
    "start_time": "2023-01-16T13:06:00.638Z"
   },
   {
    "duration": 9,
    "start_time": "2023-01-16T13:06:02.084Z"
   },
   {
    "duration": 3,
    "start_time": "2023-01-16T13:06:08.171Z"
   },
   {
    "duration": 70,
    "start_time": "2023-01-16T13:06:08.176Z"
   },
   {
    "duration": 20,
    "start_time": "2023-01-16T13:06:08.248Z"
   },
   {
    "duration": 6,
    "start_time": "2023-01-16T13:06:08.270Z"
   },
   {
    "duration": 33,
    "start_time": "2023-01-16T13:06:08.280Z"
   },
   {
    "duration": 19,
    "start_time": "2023-01-16T13:06:08.315Z"
   },
   {
    "duration": 12,
    "start_time": "2023-01-16T13:06:08.336Z"
   },
   {
    "duration": 11,
    "start_time": "2023-01-16T13:06:08.350Z"
   },
   {
    "duration": 31,
    "start_time": "2023-01-16T13:06:08.363Z"
   },
   {
    "duration": 17,
    "start_time": "2023-01-16T13:06:08.396Z"
   },
   {
    "duration": 17,
    "start_time": "2023-01-16T13:06:08.416Z"
   },
   {
    "duration": 17,
    "start_time": "2023-01-16T13:07:20.663Z"
   },
   {
    "duration": 23,
    "start_time": "2023-01-16T13:08:24.674Z"
   },
   {
    "duration": 5,
    "start_time": "2023-01-16T13:09:21.325Z"
   },
   {
    "duration": 4,
    "start_time": "2023-01-16T13:12:50.256Z"
   },
   {
    "duration": 9,
    "start_time": "2023-01-16T13:13:24.504Z"
   },
   {
    "duration": 4,
    "start_time": "2023-01-16T13:14:02.869Z"
   },
   {
    "duration": 4,
    "start_time": "2023-01-16T13:14:08.593Z"
   },
   {
    "duration": 5,
    "start_time": "2023-01-16T13:17:57.287Z"
   },
   {
    "duration": 12,
    "start_time": "2023-01-16T13:19:48.000Z"
   },
   {
    "duration": 25,
    "start_time": "2023-01-16T13:20:22.227Z"
   },
   {
    "duration": 200,
    "start_time": "2023-01-16T13:22:11.750Z"
   },
   {
    "duration": 13,
    "start_time": "2023-01-16T13:22:27.386Z"
   },
   {
    "duration": 5,
    "start_time": "2023-01-16T13:22:56.105Z"
   },
   {
    "duration": 12,
    "start_time": "2023-01-16T13:23:15.831Z"
   },
   {
    "duration": 22,
    "start_time": "2023-01-16T13:24:02.194Z"
   },
   {
    "duration": 5,
    "start_time": "2023-01-16T13:31:22.455Z"
   },
   {
    "duration": 477,
    "start_time": "2023-01-16T13:35:14.910Z"
   },
   {
    "duration": 14,
    "start_time": "2023-01-16T13:35:39.703Z"
   },
   {
    "duration": 3,
    "start_time": "2023-01-16T13:35:48.262Z"
   },
   {
    "duration": 54,
    "start_time": "2023-01-16T13:35:48.267Z"
   },
   {
    "duration": 14,
    "start_time": "2023-01-16T13:35:48.323Z"
   },
   {
    "duration": 6,
    "start_time": "2023-01-16T13:35:48.339Z"
   },
   {
    "duration": 26,
    "start_time": "2023-01-16T13:35:48.347Z"
   },
   {
    "duration": 7,
    "start_time": "2023-01-16T13:35:48.374Z"
   },
   {
    "duration": 5,
    "start_time": "2023-01-16T13:35:48.382Z"
   },
   {
    "duration": 11,
    "start_time": "2023-01-16T13:35:48.388Z"
   },
   {
    "duration": 7,
    "start_time": "2023-01-16T13:35:48.400Z"
   },
   {
    "duration": 5,
    "start_time": "2023-01-16T13:35:48.409Z"
   },
   {
    "duration": 14,
    "start_time": "2023-01-16T13:35:48.416Z"
   },
   {
    "duration": 7,
    "start_time": "2023-01-16T13:35:48.432Z"
   },
   {
    "duration": 21,
    "start_time": "2023-01-16T13:35:48.441Z"
   },
   {
    "duration": 0,
    "start_time": "2023-01-16T13:35:48.478Z"
   },
   {
    "duration": 0,
    "start_time": "2023-01-16T13:35:48.480Z"
   },
   {
    "duration": 9,
    "start_time": "2023-01-16T13:37:04.329Z"
   },
   {
    "duration": 14,
    "start_time": "2023-01-16T13:39:18.952Z"
   },
   {
    "duration": 4,
    "start_time": "2023-01-16T13:39:28.010Z"
   },
   {
    "duration": 22,
    "start_time": "2023-01-16T13:40:32.552Z"
   },
   {
    "duration": 10,
    "start_time": "2023-01-16T13:41:26.582Z"
   },
   {
    "duration": 9,
    "start_time": "2023-01-16T13:41:43.601Z"
   },
   {
    "duration": 6,
    "start_time": "2023-01-16T13:41:57.703Z"
   },
   {
    "duration": 9,
    "start_time": "2023-01-16T13:42:06.507Z"
   },
   {
    "duration": 42,
    "start_time": "2023-01-16T13:42:17.283Z"
   },
   {
    "duration": 54,
    "start_time": "2023-01-16T13:42:38.770Z"
   },
   {
    "duration": 52,
    "start_time": "2023-01-16T13:42:45.242Z"
   },
   {
    "duration": 12,
    "start_time": "2023-01-16T13:43:01.525Z"
   },
   {
    "duration": 10,
    "start_time": "2023-01-16T13:56:37.226Z"
   },
   {
    "duration": 10,
    "start_time": "2023-01-16T13:56:54.895Z"
   },
   {
    "duration": 7,
    "start_time": "2023-01-16T13:57:37.431Z"
   },
   {
    "duration": 9,
    "start_time": "2023-01-16T13:57:53.344Z"
   },
   {
    "duration": 10,
    "start_time": "2023-01-16T13:58:05.023Z"
   },
   {
    "duration": 3,
    "start_time": "2023-01-16T13:58:09.769Z"
   },
   {
    "duration": 19,
    "start_time": "2023-01-16T13:59:38.346Z"
   },
   {
    "duration": 3,
    "start_time": "2023-01-16T13:59:54.209Z"
   },
   {
    "duration": 59,
    "start_time": "2023-01-16T13:59:54.215Z"
   },
   {
    "duration": 13,
    "start_time": "2023-01-16T13:59:54.276Z"
   },
   {
    "duration": 6,
    "start_time": "2023-01-16T13:59:54.290Z"
   },
   {
    "duration": 27,
    "start_time": "2023-01-16T13:59:54.297Z"
   },
   {
    "duration": 10,
    "start_time": "2023-01-16T13:59:54.325Z"
   },
   {
    "duration": 6,
    "start_time": "2023-01-16T13:59:54.337Z"
   },
   {
    "duration": 10,
    "start_time": "2023-01-16T13:59:54.344Z"
   },
   {
    "duration": 5,
    "start_time": "2023-01-16T13:59:54.377Z"
   },
   {
    "duration": 5,
    "start_time": "2023-01-16T13:59:54.384Z"
   },
   {
    "duration": 9,
    "start_time": "2023-01-16T13:59:54.391Z"
   },
   {
    "duration": 6,
    "start_time": "2023-01-16T13:59:54.401Z"
   },
   {
    "duration": 12,
    "start_time": "2023-01-16T13:59:54.409Z"
   },
   {
    "duration": 5,
    "start_time": "2023-01-16T13:59:54.423Z"
   },
   {
    "duration": 19,
    "start_time": "2023-01-16T13:59:54.429Z"
   },
   {
    "duration": 30,
    "start_time": "2023-01-16T13:59:54.450Z"
   },
   {
    "duration": 10,
    "start_time": "2023-01-16T13:59:54.482Z"
   },
   {
    "duration": 10,
    "start_time": "2023-01-16T14:00:34.779Z"
   },
   {
    "duration": 5,
    "start_time": "2023-01-16T14:07:40.731Z"
   },
   {
    "duration": 6,
    "start_time": "2023-01-16T14:07:53.502Z"
   },
   {
    "duration": 21,
    "start_time": "2023-01-16T14:08:05.966Z"
   },
   {
    "duration": 20,
    "start_time": "2023-01-16T14:08:33.253Z"
   },
   {
    "duration": 6,
    "start_time": "2023-01-16T14:12:32.085Z"
   },
   {
    "duration": 16,
    "start_time": "2023-01-16T14:42:18.848Z"
   },
   {
    "duration": 13,
    "start_time": "2023-01-16T14:42:51.829Z"
   },
   {
    "duration": 5,
    "start_time": "2023-01-16T14:43:02.739Z"
   },
   {
    "duration": 3,
    "start_time": "2023-01-16T14:43:59.623Z"
   },
   {
    "duration": 54,
    "start_time": "2023-01-16T14:43:59.627Z"
   },
   {
    "duration": 13,
    "start_time": "2023-01-16T14:43:59.683Z"
   },
   {
    "duration": 5,
    "start_time": "2023-01-16T14:43:59.697Z"
   },
   {
    "duration": 27,
    "start_time": "2023-01-16T14:43:59.704Z"
   },
   {
    "duration": 8,
    "start_time": "2023-01-16T14:43:59.732Z"
   },
   {
    "duration": 5,
    "start_time": "2023-01-16T14:43:59.742Z"
   },
   {
    "duration": 7,
    "start_time": "2023-01-16T14:43:59.748Z"
   },
   {
    "duration": 23,
    "start_time": "2023-01-16T14:43:59.756Z"
   },
   {
    "duration": 3,
    "start_time": "2023-01-16T14:43:59.781Z"
   },
   {
    "duration": 6,
    "start_time": "2023-01-16T14:43:59.785Z"
   },
   {
    "duration": 7,
    "start_time": "2023-01-16T14:43:59.793Z"
   },
   {
    "duration": 9,
    "start_time": "2023-01-16T14:43:59.803Z"
   },
   {
    "duration": 4,
    "start_time": "2023-01-16T14:43:59.814Z"
   },
   {
    "duration": 17,
    "start_time": "2023-01-16T14:43:59.820Z"
   },
   {
    "duration": 5,
    "start_time": "2023-01-16T14:43:59.839Z"
   },
   {
    "duration": 33,
    "start_time": "2023-01-16T14:43:59.847Z"
   },
   {
    "duration": 19,
    "start_time": "2023-01-16T14:43:59.881Z"
   },
   {
    "duration": 10,
    "start_time": "2023-01-16T14:43:59.901Z"
   },
   {
    "duration": 21,
    "start_time": "2023-01-16T14:43:59.912Z"
   },
   {
    "duration": 8,
    "start_time": "2023-01-16T14:49:12.683Z"
   },
   {
    "duration": 29,
    "start_time": "2023-01-16T14:49:22.181Z"
   },
   {
    "duration": 16,
    "start_time": "2023-01-16T14:49:52.384Z"
   },
   {
    "duration": 13,
    "start_time": "2023-01-16T14:50:48.783Z"
   },
   {
    "duration": 6,
    "start_time": "2023-01-16T14:51:03.101Z"
   },
   {
    "duration": 6,
    "start_time": "2023-01-16T14:51:19.954Z"
   },
   {
    "duration": 2,
    "start_time": "2023-01-16T14:51:23.328Z"
   },
   {
    "duration": 71,
    "start_time": "2023-01-16T14:51:23.333Z"
   },
   {
    "duration": 21,
    "start_time": "2023-01-16T14:51:23.406Z"
   },
   {
    "duration": 9,
    "start_time": "2023-01-16T14:51:23.430Z"
   },
   {
    "duration": 62,
    "start_time": "2023-01-16T14:51:23.441Z"
   },
   {
    "duration": 14,
    "start_time": "2023-01-16T14:51:23.505Z"
   },
   {
    "duration": 8,
    "start_time": "2023-01-16T14:51:23.520Z"
   },
   {
    "duration": 6,
    "start_time": "2023-01-16T14:51:23.529Z"
   },
   {
    "duration": 14,
    "start_time": "2023-01-16T14:51:23.536Z"
   },
   {
    "duration": 12,
    "start_time": "2023-01-16T14:51:23.553Z"
   },
   {
    "duration": 5,
    "start_time": "2023-01-16T14:51:23.578Z"
   },
   {
    "duration": 30,
    "start_time": "2023-01-16T14:51:23.585Z"
   },
   {
    "duration": 23,
    "start_time": "2023-01-16T14:51:23.617Z"
   },
   {
    "duration": 7,
    "start_time": "2023-01-16T14:51:23.642Z"
   },
   {
    "duration": 31,
    "start_time": "2023-01-16T14:51:23.652Z"
   },
   {
    "duration": 7,
    "start_time": "2023-01-16T14:51:23.685Z"
   },
   {
    "duration": 23,
    "start_time": "2023-01-16T14:51:23.694Z"
   },
   {
    "duration": 13,
    "start_time": "2023-01-16T14:51:23.719Z"
   },
   {
    "duration": 9,
    "start_time": "2023-01-16T14:51:23.735Z"
   },
   {
    "duration": 41,
    "start_time": "2023-01-16T14:51:23.747Z"
   },
   {
    "duration": 24,
    "start_time": "2023-01-16T14:51:23.791Z"
   },
   {
    "duration": 22,
    "start_time": "2023-01-16T14:53:59.350Z"
   },
   {
    "duration": 15,
    "start_time": "2023-01-16T14:54:06.901Z"
   },
   {
    "duration": 21,
    "start_time": "2023-01-16T14:54:29.793Z"
   },
   {
    "duration": 21,
    "start_time": "2023-01-16T14:59:08.171Z"
   },
   {
    "duration": 22,
    "start_time": "2023-01-16T14:59:28.456Z"
   },
   {
    "duration": 17,
    "start_time": "2023-01-16T15:02:44.213Z"
   },
   {
    "duration": 18,
    "start_time": "2023-01-16T15:03:19.754Z"
   },
   {
    "duration": 18,
    "start_time": "2023-01-16T15:03:39.241Z"
   },
   {
    "duration": 28,
    "start_time": "2023-01-16T15:04:19.927Z"
   },
   {
    "duration": 4,
    "start_time": "2023-01-16T15:06:26.322Z"
   },
   {
    "duration": 3,
    "start_time": "2023-01-16T15:06:46.714Z"
   },
   {
    "duration": 57,
    "start_time": "2023-01-16T15:06:46.720Z"
   },
   {
    "duration": 16,
    "start_time": "2023-01-16T15:06:46.780Z"
   },
   {
    "duration": 10,
    "start_time": "2023-01-16T15:06:46.798Z"
   },
   {
    "duration": 6,
    "start_time": "2023-01-16T15:06:46.811Z"
   },
   {
    "duration": 8,
    "start_time": "2023-01-16T15:06:46.819Z"
   },
   {
    "duration": 10,
    "start_time": "2023-01-16T15:06:46.829Z"
   },
   {
    "duration": 38,
    "start_time": "2023-01-16T15:06:46.841Z"
   },
   {
    "duration": 6,
    "start_time": "2023-01-16T15:06:46.882Z"
   },
   {
    "duration": 6,
    "start_time": "2023-01-16T15:06:46.890Z"
   },
   {
    "duration": 14,
    "start_time": "2023-01-16T15:06:46.898Z"
   },
   {
    "duration": 16,
    "start_time": "2023-01-16T15:06:46.914Z"
   },
   {
    "duration": 15,
    "start_time": "2023-01-16T15:06:46.932Z"
   },
   {
    "duration": 0,
    "start_time": "2023-01-16T15:06:46.949Z"
   },
   {
    "duration": 0,
    "start_time": "2023-01-16T15:06:46.950Z"
   },
   {
    "duration": 0,
    "start_time": "2023-01-16T15:06:46.980Z"
   },
   {
    "duration": 1,
    "start_time": "2023-01-16T15:06:46.981Z"
   },
   {
    "duration": 0,
    "start_time": "2023-01-16T15:06:46.983Z"
   },
   {
    "duration": 0,
    "start_time": "2023-01-16T15:06:46.984Z"
   },
   {
    "duration": 0,
    "start_time": "2023-01-16T15:06:46.985Z"
   },
   {
    "duration": 0,
    "start_time": "2023-01-16T15:06:46.986Z"
   },
   {
    "duration": 10,
    "start_time": "2023-01-16T15:08:40.089Z"
   },
   {
    "duration": 22,
    "start_time": "2023-01-16T15:08:43.362Z"
   },
   {
    "duration": 3,
    "start_time": "2023-01-16T15:10:23.728Z"
   },
   {
    "duration": 71,
    "start_time": "2023-01-16T15:10:23.734Z"
   },
   {
    "duration": 14,
    "start_time": "2023-01-16T15:10:23.807Z"
   },
   {
    "duration": 7,
    "start_time": "2023-01-16T15:10:23.823Z"
   },
   {
    "duration": 6,
    "start_time": "2023-01-16T15:10:23.833Z"
   },
   {
    "duration": 7,
    "start_time": "2023-01-16T15:10:23.841Z"
   },
   {
    "duration": 30,
    "start_time": "2023-01-16T15:10:23.850Z"
   },
   {
    "duration": 11,
    "start_time": "2023-01-16T15:10:23.882Z"
   },
   {
    "duration": 17,
    "start_time": "2023-01-16T15:10:23.895Z"
   },
   {
    "duration": 15,
    "start_time": "2023-01-16T15:10:23.914Z"
   },
   {
    "duration": 38,
    "start_time": "2023-01-16T15:10:23.931Z"
   },
   {
    "duration": 23,
    "start_time": "2023-01-16T15:10:23.972Z"
   },
   {
    "duration": 48,
    "start_time": "2023-01-16T15:10:23.997Z"
   },
   {
    "duration": 0,
    "start_time": "2023-01-16T15:10:24.047Z"
   },
   {
    "duration": 0,
    "start_time": "2023-01-16T15:10:24.048Z"
   },
   {
    "duration": 0,
    "start_time": "2023-01-16T15:10:24.049Z"
   },
   {
    "duration": 0,
    "start_time": "2023-01-16T15:10:24.050Z"
   },
   {
    "duration": 0,
    "start_time": "2023-01-16T15:10:24.052Z"
   },
   {
    "duration": 0,
    "start_time": "2023-01-16T15:10:24.053Z"
   },
   {
    "duration": 0,
    "start_time": "2023-01-16T15:10:24.054Z"
   },
   {
    "duration": 0,
    "start_time": "2023-01-16T15:10:24.056Z"
   },
   {
    "duration": 8,
    "start_time": "2023-01-16T15:13:06.625Z"
   },
   {
    "duration": 16,
    "start_time": "2023-01-16T15:13:11.515Z"
   },
   {
    "duration": 13,
    "start_time": "2023-01-16T15:14:59.140Z"
   },
   {
    "duration": 13,
    "start_time": "2023-01-16T15:15:16.227Z"
   },
   {
    "duration": 64,
    "start_time": "2023-01-16T15:15:37.351Z"
   },
   {
    "duration": 48,
    "start_time": "2023-01-16T15:17:18.431Z"
   },
   {
    "duration": 18,
    "start_time": "2023-01-16T15:17:42.827Z"
   },
   {
    "duration": 19,
    "start_time": "2023-01-16T15:18:28.272Z"
   },
   {
    "duration": 47,
    "start_time": "2023-01-16T15:20:53.970Z"
   },
   {
    "duration": 51,
    "start_time": "2023-01-16T15:21:10.558Z"
   },
   {
    "duration": 8,
    "start_time": "2023-01-16T15:21:26.453Z"
   },
   {
    "duration": 3,
    "start_time": "2023-01-16T15:21:37.209Z"
   },
   {
    "duration": 75,
    "start_time": "2023-01-16T15:21:37.214Z"
   },
   {
    "duration": 15,
    "start_time": "2023-01-16T15:21:37.291Z"
   },
   {
    "duration": 11,
    "start_time": "2023-01-16T15:21:37.308Z"
   },
   {
    "duration": 51,
    "start_time": "2023-01-16T15:21:37.321Z"
   },
   {
    "duration": 39,
    "start_time": "2023-01-16T15:21:37.374Z"
   },
   {
    "duration": 24,
    "start_time": "2023-01-16T15:21:37.416Z"
   },
   {
    "duration": 33,
    "start_time": "2023-01-16T15:21:37.442Z"
   },
   {
    "duration": 23,
    "start_time": "2023-01-16T15:21:37.479Z"
   },
   {
    "duration": 30,
    "start_time": "2023-01-16T15:21:37.505Z"
   },
   {
    "duration": 16,
    "start_time": "2023-01-16T15:21:37.538Z"
   },
   {
    "duration": 27,
    "start_time": "2023-01-16T15:21:37.557Z"
   },
   {
    "duration": 0,
    "start_time": "2023-01-16T15:21:37.587Z"
   },
   {
    "duration": 0,
    "start_time": "2023-01-16T15:21:37.588Z"
   },
   {
    "duration": 0,
    "start_time": "2023-01-16T15:21:37.590Z"
   },
   {
    "duration": 0,
    "start_time": "2023-01-16T15:21:37.592Z"
   },
   {
    "duration": 0,
    "start_time": "2023-01-16T15:21:37.594Z"
   },
   {
    "duration": 0,
    "start_time": "2023-01-16T15:21:37.595Z"
   },
   {
    "duration": 0,
    "start_time": "2023-01-16T15:21:37.597Z"
   },
   {
    "duration": 0,
    "start_time": "2023-01-16T15:21:37.599Z"
   },
   {
    "duration": 0,
    "start_time": "2023-01-16T15:21:37.600Z"
   },
   {
    "duration": 26,
    "start_time": "2023-01-16T15:21:45.498Z"
   },
   {
    "duration": 9,
    "start_time": "2023-01-16T15:22:25.489Z"
   },
   {
    "duration": 11,
    "start_time": "2023-01-16T15:22:55.255Z"
   },
   {
    "duration": 26,
    "start_time": "2023-01-16T15:23:05.315Z"
   },
   {
    "duration": 3,
    "start_time": "2023-01-16T15:24:05.331Z"
   },
   {
    "duration": 82,
    "start_time": "2023-01-16T15:24:05.337Z"
   },
   {
    "duration": 15,
    "start_time": "2023-01-16T15:24:05.420Z"
   },
   {
    "duration": 32,
    "start_time": "2023-01-16T15:24:05.437Z"
   },
   {
    "duration": 21,
    "start_time": "2023-01-16T15:24:05.471Z"
   },
   {
    "duration": 37,
    "start_time": "2023-01-16T15:24:05.494Z"
   },
   {
    "duration": 25,
    "start_time": "2023-01-16T15:24:05.533Z"
   },
   {
    "duration": 30,
    "start_time": "2023-01-16T15:24:05.560Z"
   },
   {
    "duration": 33,
    "start_time": "2023-01-16T15:24:05.592Z"
   },
   {
    "duration": 18,
    "start_time": "2023-01-16T15:24:05.628Z"
   },
   {
    "duration": 33,
    "start_time": "2023-01-16T15:24:05.648Z"
   },
   {
    "duration": 73,
    "start_time": "2023-01-16T15:24:05.684Z"
   },
   {
    "duration": 30,
    "start_time": "2023-01-16T15:24:05.759Z"
   },
   {
    "duration": 48,
    "start_time": "2023-01-16T15:24:05.793Z"
   },
   {
    "duration": 19,
    "start_time": "2023-01-16T15:24:05.843Z"
   },
   {
    "duration": 33,
    "start_time": "2023-01-16T15:24:05.864Z"
   },
   {
    "duration": 68,
    "start_time": "2023-01-16T15:24:05.898Z"
   },
   {
    "duration": 31,
    "start_time": "2023-01-16T15:24:05.969Z"
   },
   {
    "duration": 56,
    "start_time": "2023-01-16T15:24:06.003Z"
   },
   {
    "duration": 10,
    "start_time": "2023-01-16T15:24:06.061Z"
   },
   {
    "duration": 52,
    "start_time": "2023-01-16T15:24:06.074Z"
   },
   {
    "duration": 697,
    "start_time": "2023-01-16T15:31:16.922Z"
   },
   {
    "duration": 3,
    "start_time": "2023-01-16T15:35:09.348Z"
   },
   {
    "duration": 194,
    "start_time": "2023-01-16T15:35:28.468Z"
   },
   {
    "duration": 18,
    "start_time": "2023-01-16T15:36:10.040Z"
   },
   {
    "duration": 822,
    "start_time": "2023-01-16T15:50:50.657Z"
   },
   {
    "duration": 308,
    "start_time": "2023-01-16T15:51:40.187Z"
   },
   {
    "duration": 185,
    "start_time": "2023-01-16T15:52:10.659Z"
   },
   {
    "duration": 162,
    "start_time": "2023-01-16T15:52:23.697Z"
   },
   {
    "duration": 54,
    "start_time": "2023-01-16T15:53:12.673Z"
   },
   {
    "duration": 11,
    "start_time": "2023-01-16T15:53:23.144Z"
   },
   {
    "duration": 17,
    "start_time": "2023-01-16T15:56:29.058Z"
   },
   {
    "duration": 15,
    "start_time": "2023-01-16T15:56:40.529Z"
   },
   {
    "duration": 8,
    "start_time": "2023-01-16T15:57:41.592Z"
   },
   {
    "duration": 12,
    "start_time": "2023-01-16T15:58:26.438Z"
   },
   {
    "duration": 13,
    "start_time": "2023-01-16T16:00:10.462Z"
   },
   {
    "duration": 12,
    "start_time": "2023-01-16T16:01:07.307Z"
   },
   {
    "duration": 3,
    "start_time": "2023-01-16T16:01:17.343Z"
   },
   {
    "duration": 63,
    "start_time": "2023-01-16T16:01:17.348Z"
   },
   {
    "duration": 16,
    "start_time": "2023-01-16T16:01:17.413Z"
   },
   {
    "duration": 15,
    "start_time": "2023-01-16T16:01:17.431Z"
   },
   {
    "duration": 25,
    "start_time": "2023-01-16T16:01:17.448Z"
   },
   {
    "duration": 21,
    "start_time": "2023-01-16T16:01:17.474Z"
   },
   {
    "duration": 0,
    "start_time": "2023-01-16T16:01:17.497Z"
   },
   {
    "duration": 0,
    "start_time": "2023-01-16T16:01:17.499Z"
   },
   {
    "duration": 0,
    "start_time": "2023-01-16T16:01:17.500Z"
   },
   {
    "duration": 0,
    "start_time": "2023-01-16T16:01:17.501Z"
   },
   {
    "duration": 0,
    "start_time": "2023-01-16T16:01:17.502Z"
   },
   {
    "duration": 0,
    "start_time": "2023-01-16T16:01:17.503Z"
   },
   {
    "duration": 0,
    "start_time": "2023-01-16T16:01:17.505Z"
   },
   {
    "duration": 0,
    "start_time": "2023-01-16T16:01:17.506Z"
   },
   {
    "duration": 0,
    "start_time": "2023-01-16T16:01:17.508Z"
   },
   {
    "duration": 0,
    "start_time": "2023-01-16T16:01:17.509Z"
   },
   {
    "duration": 0,
    "start_time": "2023-01-16T16:01:17.510Z"
   },
   {
    "duration": 1,
    "start_time": "2023-01-16T16:01:17.511Z"
   },
   {
    "duration": 0,
    "start_time": "2023-01-16T16:01:17.513Z"
   },
   {
    "duration": 0,
    "start_time": "2023-01-16T16:01:17.514Z"
   },
   {
    "duration": 0,
    "start_time": "2023-01-16T16:01:17.515Z"
   },
   {
    "duration": 0,
    "start_time": "2023-01-16T16:01:17.516Z"
   },
   {
    "duration": 25,
    "start_time": "2023-01-16T16:02:28.671Z"
   },
   {
    "duration": 6,
    "start_time": "2023-01-16T16:02:54.144Z"
   },
   {
    "duration": 9,
    "start_time": "2023-01-16T16:03:12.084Z"
   },
   {
    "duration": 8,
    "start_time": "2023-01-16T16:03:15.052Z"
   },
   {
    "duration": 3,
    "start_time": "2023-01-16T16:03:32.263Z"
   },
   {
    "duration": 63,
    "start_time": "2023-01-16T16:03:32.269Z"
   },
   {
    "duration": 15,
    "start_time": "2023-01-16T16:03:32.334Z"
   },
   {
    "duration": 9,
    "start_time": "2023-01-16T16:03:32.352Z"
   },
   {
    "duration": 13,
    "start_time": "2023-01-16T16:03:32.363Z"
   },
   {
    "duration": 12,
    "start_time": "2023-01-16T16:03:32.378Z"
   },
   {
    "duration": 11,
    "start_time": "2023-01-16T16:03:32.392Z"
   },
   {
    "duration": 12,
    "start_time": "2023-01-16T16:03:32.405Z"
   },
   {
    "duration": 6,
    "start_time": "2023-01-16T16:03:32.419Z"
   },
   {
    "duration": 5,
    "start_time": "2023-01-16T16:03:32.427Z"
   },
   {
    "duration": 6,
    "start_time": "2023-01-16T16:03:32.434Z"
   },
   {
    "duration": 11,
    "start_time": "2023-01-16T16:03:32.441Z"
   },
   {
    "duration": 6,
    "start_time": "2023-01-16T16:03:32.454Z"
   },
   {
    "duration": 16,
    "start_time": "2023-01-16T16:03:32.478Z"
   },
   {
    "duration": 5,
    "start_time": "2023-01-16T16:03:32.496Z"
   },
   {
    "duration": 10,
    "start_time": "2023-01-16T16:03:32.503Z"
   },
   {
    "duration": 14,
    "start_time": "2023-01-16T16:03:32.514Z"
   },
   {
    "duration": 15,
    "start_time": "2023-01-16T16:03:32.530Z"
   },
   {
    "duration": 47,
    "start_time": "2023-01-16T16:03:32.546Z"
   },
   {
    "duration": 26,
    "start_time": "2023-01-16T16:03:32.595Z"
   },
   {
    "duration": 17,
    "start_time": "2023-01-16T16:03:32.623Z"
   },
   {
    "duration": 148,
    "start_time": "2023-01-16T16:03:32.642Z"
   },
   {
    "duration": 15,
    "start_time": "2023-01-16T16:05:07.337Z"
   },
   {
    "duration": 65,
    "start_time": "2023-01-16T16:06:21.652Z"
   },
   {
    "duration": 5,
    "start_time": "2023-01-16T16:06:36.729Z"
   },
   {
    "duration": 6,
    "start_time": "2023-01-16T16:08:10.459Z"
   },
   {
    "duration": 2,
    "start_time": "2023-01-16T16:08:16.307Z"
   },
   {
    "duration": 55,
    "start_time": "2023-01-16T16:08:16.311Z"
   },
   {
    "duration": 16,
    "start_time": "2023-01-16T16:08:16.368Z"
   },
   {
    "duration": 5,
    "start_time": "2023-01-16T16:08:16.386Z"
   },
   {
    "duration": 7,
    "start_time": "2023-01-16T16:08:16.392Z"
   },
   {
    "duration": 7,
    "start_time": "2023-01-16T16:08:16.401Z"
   },
   {
    "duration": 4,
    "start_time": "2023-01-16T16:08:16.410Z"
   },
   {
    "duration": 6,
    "start_time": "2023-01-16T16:08:16.416Z"
   },
   {
    "duration": 6,
    "start_time": "2023-01-16T16:08:16.424Z"
   },
   {
    "duration": 9,
    "start_time": "2023-01-16T16:08:16.433Z"
   },
   {
    "duration": 9,
    "start_time": "2023-01-16T16:08:16.444Z"
   },
   {
    "duration": 9,
    "start_time": "2023-01-16T16:08:16.477Z"
   },
   {
    "duration": 10,
    "start_time": "2023-01-16T16:08:16.487Z"
   },
   {
    "duration": 20,
    "start_time": "2023-01-16T16:08:16.499Z"
   },
   {
    "duration": 5,
    "start_time": "2023-01-16T16:08:16.520Z"
   },
   {
    "duration": 7,
    "start_time": "2023-01-16T16:08:16.526Z"
   },
   {
    "duration": 10,
    "start_time": "2023-01-16T16:08:16.535Z"
   },
   {
    "duration": 26,
    "start_time": "2023-01-16T16:08:16.547Z"
   },
   {
    "duration": 21,
    "start_time": "2023-01-16T16:08:16.576Z"
   },
   {
    "duration": 6,
    "start_time": "2023-01-16T16:08:16.599Z"
   },
   {
    "duration": 16,
    "start_time": "2023-01-16T16:08:16.607Z"
   },
   {
    "duration": 154,
    "start_time": "2023-01-16T16:08:16.625Z"
   },
   {
    "duration": 16,
    "start_time": "2023-01-16T16:08:57.453Z"
   },
   {
    "duration": 377,
    "start_time": "2023-01-16T16:11:35.437Z"
   },
   {
    "duration": 22,
    "start_time": "2023-01-16T16:11:55.085Z"
   },
   {
    "duration": 4,
    "start_time": "2023-01-16T16:11:58.349Z"
   },
   {
    "duration": 76,
    "start_time": "2023-01-16T16:11:58.355Z"
   },
   {
    "duration": 14,
    "start_time": "2023-01-16T16:11:58.433Z"
   },
   {
    "duration": 9,
    "start_time": "2023-01-16T16:11:58.448Z"
   },
   {
    "duration": 24,
    "start_time": "2023-01-16T16:11:58.459Z"
   },
   {
    "duration": 16,
    "start_time": "2023-01-16T16:11:58.485Z"
   },
   {
    "duration": 23,
    "start_time": "2023-01-16T16:11:58.503Z"
   },
   {
    "duration": 29,
    "start_time": "2023-01-16T16:11:58.528Z"
   },
   {
    "duration": 14,
    "start_time": "2023-01-16T16:11:58.559Z"
   },
   {
    "duration": 20,
    "start_time": "2023-01-16T16:11:58.575Z"
   },
   {
    "duration": 12,
    "start_time": "2023-01-16T16:11:58.596Z"
   },
   {
    "duration": 23,
    "start_time": "2023-01-16T16:11:58.610Z"
   },
   {
    "duration": 15,
    "start_time": "2023-01-16T16:11:58.635Z"
   },
   {
    "duration": 27,
    "start_time": "2023-01-16T16:11:58.654Z"
   },
   {
    "duration": 12,
    "start_time": "2023-01-16T16:11:58.683Z"
   },
   {
    "duration": 15,
    "start_time": "2023-01-16T16:11:58.696Z"
   },
   {
    "duration": 22,
    "start_time": "2023-01-16T16:11:58.713Z"
   },
   {
    "duration": 27,
    "start_time": "2023-01-16T16:11:58.737Z"
   },
   {
    "duration": 34,
    "start_time": "2023-01-16T16:11:58.766Z"
   },
   {
    "duration": 23,
    "start_time": "2023-01-16T16:11:58.802Z"
   },
   {
    "duration": 38,
    "start_time": "2023-01-16T16:11:58.828Z"
   },
   {
    "duration": 0,
    "start_time": "2023-01-16T16:11:58.868Z"
   },
   {
    "duration": 136,
    "start_time": "2023-01-16T16:12:53.544Z"
   },
   {
    "duration": 25,
    "start_time": "2023-01-16T16:14:16.768Z"
   },
   {
    "duration": 52,
    "start_time": "2023-01-16T16:14:50.875Z"
   },
   {
    "duration": 5,
    "start_time": "2023-01-16T16:14:56.036Z"
   },
   {
    "duration": 7,
    "start_time": "2023-01-16T16:15:52.454Z"
   },
   {
    "duration": 3,
    "start_time": "2023-01-16T16:16:43.555Z"
   },
   {
    "duration": 58,
    "start_time": "2023-01-16T16:16:43.560Z"
   },
   {
    "duration": 17,
    "start_time": "2023-01-16T16:16:43.620Z"
   },
   {
    "duration": 5,
    "start_time": "2023-01-16T16:16:43.640Z"
   },
   {
    "duration": 30,
    "start_time": "2023-01-16T16:16:43.646Z"
   },
   {
    "duration": 7,
    "start_time": "2023-01-16T16:16:43.678Z"
   },
   {
    "duration": 8,
    "start_time": "2023-01-16T16:16:43.686Z"
   },
   {
    "duration": 4,
    "start_time": "2023-01-16T16:16:43.695Z"
   },
   {
    "duration": 6,
    "start_time": "2023-01-16T16:16:43.700Z"
   },
   {
    "duration": 5,
    "start_time": "2023-01-16T16:16:43.708Z"
   },
   {
    "duration": 9,
    "start_time": "2023-01-16T16:16:43.714Z"
   },
   {
    "duration": 6,
    "start_time": "2023-01-16T16:16:43.724Z"
   },
   {
    "duration": 12,
    "start_time": "2023-01-16T16:16:43.731Z"
   },
   {
    "duration": 6,
    "start_time": "2023-01-16T16:16:43.744Z"
   },
   {
    "duration": 38,
    "start_time": "2023-01-16T16:16:43.751Z"
   },
   {
    "duration": 5,
    "start_time": "2023-01-16T16:16:43.791Z"
   },
   {
    "duration": 6,
    "start_time": "2023-01-16T16:16:43.797Z"
   },
   {
    "duration": 7,
    "start_time": "2023-01-16T16:16:43.805Z"
   },
   {
    "duration": 16,
    "start_time": "2023-01-16T16:16:43.814Z"
   },
   {
    "duration": 18,
    "start_time": "2023-01-16T16:16:43.832Z"
   },
   {
    "duration": 32,
    "start_time": "2023-01-16T16:16:43.851Z"
   },
   {
    "duration": 10,
    "start_time": "2023-01-16T16:16:43.885Z"
   },
   {
    "duration": 32,
    "start_time": "2023-01-16T16:16:43.897Z"
   },
   {
    "duration": 0,
    "start_time": "2023-01-16T16:16:43.930Z"
   },
   {
    "duration": 5,
    "start_time": "2023-01-16T16:16:57.274Z"
   },
   {
    "duration": 13,
    "start_time": "2023-01-16T16:18:24.484Z"
   },
   {
    "duration": 2,
    "start_time": "2023-01-16T16:18:29.744Z"
   },
   {
    "duration": 66,
    "start_time": "2023-01-16T16:18:29.748Z"
   },
   {
    "duration": 14,
    "start_time": "2023-01-16T16:18:29.816Z"
   },
   {
    "duration": 21,
    "start_time": "2023-01-16T16:18:29.832Z"
   },
   {
    "duration": 31,
    "start_time": "2023-01-16T16:18:29.856Z"
   },
   {
    "duration": 15,
    "start_time": "2023-01-16T16:18:29.889Z"
   },
   {
    "duration": 18,
    "start_time": "2023-01-16T16:18:29.906Z"
   },
   {
    "duration": 27,
    "start_time": "2023-01-16T16:18:29.926Z"
   },
   {
    "duration": 17,
    "start_time": "2023-01-16T16:18:29.955Z"
   },
   {
    "duration": 15,
    "start_time": "2023-01-16T16:18:29.974Z"
   },
   {
    "duration": 13,
    "start_time": "2023-01-16T16:18:29.991Z"
   },
   {
    "duration": 22,
    "start_time": "2023-01-16T16:18:30.006Z"
   },
   {
    "duration": 33,
    "start_time": "2023-01-16T16:18:30.029Z"
   },
   {
    "duration": 33,
    "start_time": "2023-01-16T16:18:30.065Z"
   },
   {
    "duration": 31,
    "start_time": "2023-01-16T16:18:30.100Z"
   },
   {
    "duration": 34,
    "start_time": "2023-01-16T16:18:30.133Z"
   },
   {
    "duration": 37,
    "start_time": "2023-01-16T16:18:30.169Z"
   },
   {
    "duration": 28,
    "start_time": "2023-01-16T16:18:30.208Z"
   },
   {
    "duration": 44,
    "start_time": "2023-01-16T16:18:30.238Z"
   },
   {
    "duration": 32,
    "start_time": "2023-01-16T16:18:30.284Z"
   },
   {
    "duration": 30,
    "start_time": "2023-01-16T16:18:30.318Z"
   },
   {
    "duration": 63,
    "start_time": "2023-01-16T16:18:30.350Z"
   },
   {
    "duration": 63,
    "start_time": "2023-01-16T16:18:30.415Z"
   },
   {
    "duration": 0,
    "start_time": "2023-01-16T16:18:30.480Z"
   },
   {
    "duration": 13,
    "start_time": "2023-01-16T16:19:49.080Z"
   },
   {
    "duration": 3,
    "start_time": "2023-01-16T16:20:53.047Z"
   },
   {
    "duration": 58,
    "start_time": "2023-01-16T16:20:53.052Z"
   },
   {
    "duration": 14,
    "start_time": "2023-01-16T16:20:53.112Z"
   },
   {
    "duration": 6,
    "start_time": "2023-01-16T16:20:53.127Z"
   },
   {
    "duration": 14,
    "start_time": "2023-01-16T16:20:53.136Z"
   },
   {
    "duration": 9,
    "start_time": "2023-01-16T16:20:53.151Z"
   },
   {
    "duration": 18,
    "start_time": "2023-01-16T16:20:53.162Z"
   },
   {
    "duration": 6,
    "start_time": "2023-01-16T16:20:53.182Z"
   },
   {
    "duration": 8,
    "start_time": "2023-01-16T16:20:53.190Z"
   },
   {
    "duration": 12,
    "start_time": "2023-01-16T16:20:53.199Z"
   },
   {
    "duration": 10,
    "start_time": "2023-01-16T16:20:53.212Z"
   },
   {
    "duration": 19,
    "start_time": "2023-01-16T16:20:53.223Z"
   },
   {
    "duration": 37,
    "start_time": "2023-01-16T16:20:53.245Z"
   },
   {
    "duration": 23,
    "start_time": "2023-01-16T16:20:53.285Z"
   },
   {
    "duration": 29,
    "start_time": "2023-01-16T16:20:53.309Z"
   },
   {
    "duration": 29,
    "start_time": "2023-01-16T16:20:53.340Z"
   },
   {
    "duration": 13,
    "start_time": "2023-01-16T16:20:53.371Z"
   },
   {
    "duration": 11,
    "start_time": "2023-01-16T16:20:53.386Z"
   },
   {
    "duration": 33,
    "start_time": "2023-01-16T16:20:53.399Z"
   },
   {
    "duration": 50,
    "start_time": "2023-01-16T16:20:53.433Z"
   },
   {
    "duration": 22,
    "start_time": "2023-01-16T16:20:53.485Z"
   },
   {
    "duration": 22,
    "start_time": "2023-01-16T16:20:53.509Z"
   },
   {
    "duration": 19,
    "start_time": "2023-01-16T16:20:53.533Z"
   },
   {
    "duration": 38,
    "start_time": "2023-01-16T16:20:53.554Z"
   },
   {
    "duration": 0,
    "start_time": "2023-01-16T16:20:53.594Z"
   },
   {
    "duration": 53,
    "start_time": "2023-01-16T16:23:46.481Z"
   },
   {
    "duration": 48,
    "start_time": "2023-01-16T16:24:11.881Z"
   },
   {
    "duration": 43,
    "start_time": "2023-01-16T16:25:27.666Z"
   },
   {
    "duration": 69,
    "start_time": "2023-01-16T16:25:38.539Z"
   },
   {
    "duration": 10,
    "start_time": "2023-01-16T16:26:56.226Z"
   },
   {
    "duration": 2,
    "start_time": "2023-01-16T16:27:26.638Z"
   },
   {
    "duration": 70,
    "start_time": "2023-01-16T16:27:26.643Z"
   },
   {
    "duration": 14,
    "start_time": "2023-01-16T16:27:26.714Z"
   },
   {
    "duration": 28,
    "start_time": "2023-01-16T16:27:26.730Z"
   },
   {
    "duration": 59,
    "start_time": "2023-01-16T16:27:26.760Z"
   },
   {
    "duration": 25,
    "start_time": "2023-01-16T16:27:26.820Z"
   },
   {
    "duration": 11,
    "start_time": "2023-01-16T16:27:26.847Z"
   },
   {
    "duration": 35,
    "start_time": "2023-01-16T16:27:26.859Z"
   },
   {
    "duration": 29,
    "start_time": "2023-01-16T16:27:26.896Z"
   },
   {
    "duration": 19,
    "start_time": "2023-01-16T16:27:26.927Z"
   },
   {
    "duration": 32,
    "start_time": "2023-01-16T16:27:26.948Z"
   },
   {
    "duration": 23,
    "start_time": "2023-01-16T16:27:26.982Z"
   },
   {
    "duration": 31,
    "start_time": "2023-01-16T16:27:27.007Z"
   },
   {
    "duration": 20,
    "start_time": "2023-01-16T16:27:27.040Z"
   },
   {
    "duration": 0,
    "start_time": "2023-01-16T16:27:27.062Z"
   },
   {
    "duration": 0,
    "start_time": "2023-01-16T16:27:27.063Z"
   },
   {
    "duration": 0,
    "start_time": "2023-01-16T16:27:27.065Z"
   },
   {
    "duration": 0,
    "start_time": "2023-01-16T16:27:27.066Z"
   },
   {
    "duration": 0,
    "start_time": "2023-01-16T16:27:27.067Z"
   },
   {
    "duration": 0,
    "start_time": "2023-01-16T16:27:27.068Z"
   },
   {
    "duration": 0,
    "start_time": "2023-01-16T16:27:27.069Z"
   },
   {
    "duration": 0,
    "start_time": "2023-01-16T16:27:27.070Z"
   },
   {
    "duration": 0,
    "start_time": "2023-01-16T16:27:27.071Z"
   },
   {
    "duration": 0,
    "start_time": "2023-01-16T16:27:27.073Z"
   },
   {
    "duration": 8,
    "start_time": "2023-01-16T16:35:15.192Z"
   },
   {
    "duration": 14,
    "start_time": "2023-01-16T16:35:16.396Z"
   },
   {
    "duration": 5,
    "start_time": "2023-01-16T16:36:37.742Z"
   },
   {
    "duration": 55,
    "start_time": "2023-01-16T16:37:14.531Z"
   },
   {
    "duration": 7,
    "start_time": "2023-01-16T16:40:47.943Z"
   },
   {
    "duration": 67,
    "start_time": "2023-01-16T16:42:57.171Z"
   },
   {
    "duration": 57,
    "start_time": "2023-01-16T16:43:07.724Z"
   },
   {
    "duration": 12,
    "start_time": "2023-01-16T16:43:22.467Z"
   },
   {
    "duration": 8,
    "start_time": "2023-01-16T16:45:01.796Z"
   },
   {
    "duration": 8,
    "start_time": "2023-01-16T16:45:10.350Z"
   },
   {
    "duration": 10,
    "start_time": "2023-01-16T16:52:35.842Z"
   },
   {
    "duration": 5,
    "start_time": "2023-01-16T16:53:45.175Z"
   },
   {
    "duration": 5,
    "start_time": "2023-01-16T16:53:49.527Z"
   },
   {
    "duration": 3,
    "start_time": "2023-01-16T16:53:53.562Z"
   },
   {
    "duration": 57,
    "start_time": "2023-01-16T16:53:53.568Z"
   },
   {
    "duration": 15,
    "start_time": "2023-01-16T16:53:53.632Z"
   },
   {
    "duration": 5,
    "start_time": "2023-01-16T16:53:53.650Z"
   },
   {
    "duration": 9,
    "start_time": "2023-01-16T16:53:53.659Z"
   },
   {
    "duration": 9,
    "start_time": "2023-01-16T16:53:53.671Z"
   },
   {
    "duration": 11,
    "start_time": "2023-01-16T16:53:53.682Z"
   },
   {
    "duration": 5,
    "start_time": "2023-01-16T16:53:53.695Z"
   },
   {
    "duration": 11,
    "start_time": "2023-01-16T16:53:53.701Z"
   },
   {
    "duration": 5,
    "start_time": "2023-01-16T16:53:53.713Z"
   },
   {
    "duration": 7,
    "start_time": "2023-01-16T16:53:53.720Z"
   },
   {
    "duration": 9,
    "start_time": "2023-01-16T16:53:53.728Z"
   },
   {
    "duration": 6,
    "start_time": "2023-01-16T16:53:53.739Z"
   },
   {
    "duration": 31,
    "start_time": "2023-01-16T16:53:53.748Z"
   },
   {
    "duration": 15,
    "start_time": "2023-01-16T16:53:53.781Z"
   },
   {
    "duration": 4,
    "start_time": "2023-01-16T16:53:53.798Z"
   },
   {
    "duration": 7,
    "start_time": "2023-01-16T16:53:53.804Z"
   },
   {
    "duration": 7,
    "start_time": "2023-01-16T16:53:53.812Z"
   },
   {
    "duration": 16,
    "start_time": "2023-01-16T16:53:53.820Z"
   },
   {
    "duration": 44,
    "start_time": "2023-01-16T16:53:53.838Z"
   },
   {
    "duration": 8,
    "start_time": "2023-01-16T16:53:53.884Z"
   },
   {
    "duration": 15,
    "start_time": "2023-01-16T16:53:53.894Z"
   },
   {
    "duration": 35,
    "start_time": "2023-01-16T16:53:53.911Z"
   },
   {
    "duration": 0,
    "start_time": "2023-01-16T16:53:53.948Z"
   },
   {
    "duration": 14,
    "start_time": "2023-01-16T16:54:46.265Z"
   },
   {
    "duration": 5,
    "start_time": "2023-01-16T16:59:52.191Z"
   },
   {
    "duration": 3,
    "start_time": "2023-01-16T17:00:09.848Z"
   },
   {
    "duration": 67,
    "start_time": "2023-01-16T17:00:09.853Z"
   },
   {
    "duration": 13,
    "start_time": "2023-01-16T17:00:09.922Z"
   },
   {
    "duration": 13,
    "start_time": "2023-01-16T17:00:09.938Z"
   },
   {
    "duration": 15,
    "start_time": "2023-01-16T17:00:09.952Z"
   },
   {
    "duration": 30,
    "start_time": "2023-01-16T17:00:09.968Z"
   },
   {
    "duration": 7,
    "start_time": "2023-01-16T17:00:10.000Z"
   },
   {
    "duration": 5,
    "start_time": "2023-01-16T17:00:10.009Z"
   },
   {
    "duration": 10,
    "start_time": "2023-01-16T17:00:10.016Z"
   },
   {
    "duration": 5,
    "start_time": "2023-01-16T17:00:10.028Z"
   },
   {
    "duration": 10,
    "start_time": "2023-01-16T17:00:10.034Z"
   },
   {
    "duration": 8,
    "start_time": "2023-01-16T17:00:10.046Z"
   },
   {
    "duration": 12,
    "start_time": "2023-01-16T17:00:10.056Z"
   },
   {
    "duration": 47,
    "start_time": "2023-01-16T17:00:10.070Z"
   },
   {
    "duration": 11,
    "start_time": "2023-01-16T17:00:10.119Z"
   },
   {
    "duration": 34,
    "start_time": "2023-01-16T17:00:10.132Z"
   },
   {
    "duration": 27,
    "start_time": "2023-01-16T17:00:10.168Z"
   },
   {
    "duration": 16,
    "start_time": "2023-01-16T17:00:10.197Z"
   },
   {
    "duration": 24,
    "start_time": "2023-01-16T17:00:10.214Z"
   },
   {
    "duration": 6,
    "start_time": "2023-01-16T17:00:10.241Z"
   },
   {
    "duration": 13,
    "start_time": "2023-01-16T17:00:10.249Z"
   },
   {
    "duration": 30,
    "start_time": "2023-01-16T17:00:10.263Z"
   },
   {
    "duration": 133,
    "start_time": "2023-01-16T17:00:10.294Z"
   },
   {
    "duration": 7,
    "start_time": "2023-01-16T17:04:49.540Z"
   },
   {
    "duration": 17,
    "start_time": "2023-01-16T17:04:50.773Z"
   },
   {
    "duration": 42,
    "start_time": "2023-01-16T17:07:16.136Z"
   },
   {
    "duration": 14,
    "start_time": "2023-01-16T17:07:30.297Z"
   },
   {
    "duration": 234,
    "start_time": "2023-01-16T17:07:49.442Z"
   },
   {
    "duration": 123,
    "start_time": "2023-01-16T17:08:22.032Z"
   },
   {
    "duration": 129,
    "start_time": "2023-01-16T17:08:39.197Z"
   },
   {
    "duration": 122,
    "start_time": "2023-01-16T17:08:54.420Z"
   },
   {
    "duration": 141,
    "start_time": "2023-01-16T17:09:04.674Z"
   },
   {
    "duration": 16,
    "start_time": "2023-01-16T17:09:30.218Z"
   },
   {
    "duration": 65,
    "start_time": "2023-01-16T17:10:55.759Z"
   },
   {
    "duration": 12,
    "start_time": "2023-01-16T17:13:00.747Z"
   },
   {
    "duration": 18,
    "start_time": "2023-01-16T17:13:11.602Z"
   },
   {
    "duration": 24,
    "start_time": "2023-01-16T17:13:54.761Z"
   },
   {
    "duration": 10,
    "start_time": "2023-01-16T17:15:18.774Z"
   },
   {
    "duration": 8,
    "start_time": "2023-01-16T17:15:29.656Z"
   },
   {
    "duration": 11,
    "start_time": "2023-01-16T17:15:46.129Z"
   },
   {
    "duration": 35,
    "start_time": "2023-01-16T17:16:57.263Z"
   },
   {
    "duration": 27,
    "start_time": "2023-01-16T17:20:04.142Z"
   },
   {
    "duration": 25,
    "start_time": "2023-01-16T17:20:20.791Z"
   },
   {
    "duration": 28,
    "start_time": "2023-01-16T17:20:26.393Z"
   },
   {
    "duration": 30,
    "start_time": "2023-01-16T17:20:31.874Z"
   },
   {
    "duration": 128,
    "start_time": "2023-01-16T17:22:21.296Z"
   },
   {
    "duration": 475,
    "start_time": "2023-01-17T08:35:06.674Z"
   },
   {
    "duration": 99,
    "start_time": "2023-01-17T08:35:07.151Z"
   },
   {
    "duration": 16,
    "start_time": "2023-01-17T08:35:07.252Z"
   },
   {
    "duration": 22,
    "start_time": "2023-01-17T08:35:07.270Z"
   },
   {
    "duration": 6,
    "start_time": "2023-01-17T08:35:07.294Z"
   },
   {
    "duration": 15,
    "start_time": "2023-01-17T08:35:07.302Z"
   },
   {
    "duration": 37,
    "start_time": "2023-01-17T08:35:07.319Z"
   },
   {
    "duration": 12,
    "start_time": "2023-01-17T08:35:07.358Z"
   },
   {
    "duration": 19,
    "start_time": "2023-01-17T08:35:07.372Z"
   },
   {
    "duration": 11,
    "start_time": "2023-01-17T08:35:07.393Z"
   },
   {
    "duration": 36,
    "start_time": "2023-01-17T08:35:07.406Z"
   },
   {
    "duration": 19,
    "start_time": "2023-01-17T08:35:07.444Z"
   },
   {
    "duration": 18,
    "start_time": "2023-01-17T08:35:07.464Z"
   },
   {
    "duration": 18,
    "start_time": "2023-01-17T08:35:07.485Z"
   },
   {
    "duration": 5,
    "start_time": "2023-01-17T08:35:07.505Z"
   },
   {
    "duration": 16,
    "start_time": "2023-01-17T08:35:07.512Z"
   },
   {
    "duration": 10,
    "start_time": "2023-01-17T08:35:07.530Z"
   },
   {
    "duration": 14,
    "start_time": "2023-01-17T08:35:07.542Z"
   },
   {
    "duration": 91,
    "start_time": "2023-01-17T08:35:07.558Z"
   },
   {
    "duration": 8,
    "start_time": "2023-01-17T08:35:07.651Z"
   },
   {
    "duration": 28,
    "start_time": "2023-01-17T08:35:07.661Z"
   },
   {
    "duration": 524,
    "start_time": "2023-01-17T08:35:07.691Z"
   },
   {
    "duration": 159,
    "start_time": "2023-01-17T08:35:08.217Z"
   },
   {
    "duration": 160,
    "start_time": "2023-01-17T08:35:08.378Z"
   },
   {
    "duration": 168,
    "start_time": "2023-01-17T08:35:08.539Z"
   },
   {
    "duration": 96,
    "start_time": "2023-01-17T08:35:08.709Z"
   },
   {
    "duration": 10,
    "start_time": "2023-01-17T09:16:23.174Z"
   },
   {
    "duration": 938,
    "start_time": "2023-01-17T09:16:38.773Z"
   },
   {
    "duration": 3,
    "start_time": "2023-01-17T09:16:46.145Z"
   },
   {
    "duration": 59,
    "start_time": "2023-01-17T09:16:46.150Z"
   },
   {
    "duration": 15,
    "start_time": "2023-01-17T09:16:46.211Z"
   },
   {
    "duration": 22,
    "start_time": "2023-01-17T09:16:46.228Z"
   },
   {
    "duration": 6,
    "start_time": "2023-01-17T09:16:46.254Z"
   },
   {
    "duration": 19,
    "start_time": "2023-01-17T09:16:46.262Z"
   },
   {
    "duration": 10,
    "start_time": "2023-01-17T09:16:46.283Z"
   },
   {
    "duration": 6,
    "start_time": "2023-01-17T09:16:46.294Z"
   },
   {
    "duration": 7,
    "start_time": "2023-01-17T09:16:46.302Z"
   },
   {
    "duration": 10,
    "start_time": "2023-01-17T09:16:46.311Z"
   },
   {
    "duration": 28,
    "start_time": "2023-01-17T09:16:46.323Z"
   },
   {
    "duration": 5,
    "start_time": "2023-01-17T09:16:46.352Z"
   },
   {
    "duration": 9,
    "start_time": "2023-01-17T09:16:46.361Z"
   },
   {
    "duration": 23,
    "start_time": "2023-01-17T09:16:46.371Z"
   },
   {
    "duration": 7,
    "start_time": "2023-01-17T09:16:46.397Z"
   },
   {
    "duration": 6,
    "start_time": "2023-01-17T09:16:46.406Z"
   },
   {
    "duration": 7,
    "start_time": "2023-01-17T09:16:46.414Z"
   },
   {
    "duration": 7,
    "start_time": "2023-01-17T09:16:46.423Z"
   },
   {
    "duration": 17,
    "start_time": "2023-01-17T09:16:46.450Z"
   },
   {
    "duration": 6,
    "start_time": "2023-01-17T09:16:46.470Z"
   },
   {
    "duration": 18,
    "start_time": "2023-01-17T09:16:46.478Z"
   },
   {
    "duration": 155,
    "start_time": "2023-01-17T09:16:46.498Z"
   },
   {
    "duration": 153,
    "start_time": "2023-01-17T09:16:46.654Z"
   },
   {
    "duration": 144,
    "start_time": "2023-01-17T09:16:46.809Z"
   },
   {
    "duration": 145,
    "start_time": "2023-01-17T09:16:46.955Z"
   },
   {
    "duration": 881,
    "start_time": "2023-01-17T09:16:47.102Z"
   },
   {
    "duration": 0,
    "start_time": "2023-01-17T09:16:47.985Z"
   },
   {
    "duration": 16,
    "start_time": "2023-01-17T09:17:53.271Z"
   },
   {
    "duration": 161,
    "start_time": "2023-01-17T09:18:37.995Z"
   },
   {
    "duration": 19,
    "start_time": "2023-01-17T09:18:54.884Z"
   },
   {
    "duration": 170,
    "start_time": "2023-01-17T09:18:59.820Z"
   },
   {
    "duration": 179,
    "start_time": "2023-01-17T09:20:09.252Z"
   },
   {
    "duration": 152,
    "start_time": "2023-01-17T09:25:48.888Z"
   },
   {
    "duration": 147,
    "start_time": "2023-01-17T09:26:27.119Z"
   },
   {
    "duration": 162,
    "start_time": "2023-01-17T09:30:42.994Z"
   },
   {
    "duration": 167,
    "start_time": "2023-01-17T09:31:33.745Z"
   },
   {
    "duration": 243,
    "start_time": "2023-01-17T09:33:29.342Z"
   },
   {
    "duration": 4,
    "start_time": "2023-01-17T09:36:49.577Z"
   },
   {
    "duration": 79,
    "start_time": "2023-01-17T09:36:49.584Z"
   },
   {
    "duration": 23,
    "start_time": "2023-01-17T09:36:49.666Z"
   },
   {
    "duration": 22,
    "start_time": "2023-01-17T09:36:49.692Z"
   },
   {
    "duration": 34,
    "start_time": "2023-01-17T09:36:49.717Z"
   },
   {
    "duration": 26,
    "start_time": "2023-01-17T09:36:49.753Z"
   },
   {
    "duration": 60,
    "start_time": "2023-01-17T09:36:49.781Z"
   },
   {
    "duration": 52,
    "start_time": "2023-01-17T09:36:49.846Z"
   },
   {
    "duration": 41,
    "start_time": "2023-01-17T09:36:49.900Z"
   },
   {
    "duration": 29,
    "start_time": "2023-01-17T09:36:49.943Z"
   },
   {
    "duration": 38,
    "start_time": "2023-01-17T09:36:49.974Z"
   },
   {
    "duration": 68,
    "start_time": "2023-01-17T09:36:50.014Z"
   },
   {
    "duration": 54,
    "start_time": "2023-01-17T09:36:50.084Z"
   },
   {
    "duration": 37,
    "start_time": "2023-01-17T09:36:50.140Z"
   },
   {
    "duration": 25,
    "start_time": "2023-01-17T09:36:50.179Z"
   },
   {
    "duration": 26,
    "start_time": "2023-01-17T09:36:50.206Z"
   },
   {
    "duration": 34,
    "start_time": "2023-01-17T09:36:50.234Z"
   },
   {
    "duration": 29,
    "start_time": "2023-01-17T09:36:50.270Z"
   },
   {
    "duration": 37,
    "start_time": "2023-01-17T09:36:50.301Z"
   },
   {
    "duration": 12,
    "start_time": "2023-01-17T09:36:50.339Z"
   },
   {
    "duration": 37,
    "start_time": "2023-01-17T09:36:50.353Z"
   },
   {
    "duration": 155,
    "start_time": "2023-01-17T09:36:50.392Z"
   },
   {
    "duration": 0,
    "start_time": "2023-01-17T09:36:50.550Z"
   },
   {
    "duration": 1,
    "start_time": "2023-01-17T09:36:50.551Z"
   },
   {
    "duration": 0,
    "start_time": "2023-01-17T09:36:50.553Z"
   },
   {
    "duration": 0,
    "start_time": "2023-01-17T09:36:50.554Z"
   },
   {
    "duration": 0,
    "start_time": "2023-01-17T09:36:50.556Z"
   },
   {
    "duration": 154,
    "start_time": "2023-01-17T09:37:10.535Z"
   },
   {
    "duration": 3,
    "start_time": "2023-01-17T09:37:30.226Z"
   },
   {
    "duration": 81,
    "start_time": "2023-01-17T09:37:30.232Z"
   },
   {
    "duration": 17,
    "start_time": "2023-01-17T09:37:30.315Z"
   },
   {
    "duration": 34,
    "start_time": "2023-01-17T09:37:30.334Z"
   },
   {
    "duration": 32,
    "start_time": "2023-01-17T09:37:30.371Z"
   },
   {
    "duration": 17,
    "start_time": "2023-01-17T09:37:30.405Z"
   },
   {
    "duration": 35,
    "start_time": "2023-01-17T09:37:30.424Z"
   },
   {
    "duration": 25,
    "start_time": "2023-01-17T09:37:30.461Z"
   },
   {
    "duration": 31,
    "start_time": "2023-01-17T09:37:30.488Z"
   },
   {
    "duration": 28,
    "start_time": "2023-01-17T09:37:30.521Z"
   },
   {
    "duration": 19,
    "start_time": "2023-01-17T09:37:30.551Z"
   },
   {
    "duration": 20,
    "start_time": "2023-01-17T09:37:30.572Z"
   },
   {
    "duration": 50,
    "start_time": "2023-01-17T09:37:30.594Z"
   },
   {
    "duration": 48,
    "start_time": "2023-01-17T09:37:30.648Z"
   },
   {
    "duration": 45,
    "start_time": "2023-01-17T09:37:30.698Z"
   },
   {
    "duration": 23,
    "start_time": "2023-01-17T09:37:30.745Z"
   },
   {
    "duration": 63,
    "start_time": "2023-01-17T09:37:30.769Z"
   },
   {
    "duration": 59,
    "start_time": "2023-01-17T09:37:30.834Z"
   },
   {
    "duration": 40,
    "start_time": "2023-01-17T09:37:30.895Z"
   },
   {
    "duration": 20,
    "start_time": "2023-01-17T09:37:30.937Z"
   },
   {
    "duration": 33,
    "start_time": "2023-01-17T09:37:30.958Z"
   },
   {
    "duration": 174,
    "start_time": "2023-01-17T09:37:30.993Z"
   },
   {
    "duration": 165,
    "start_time": "2023-01-17T09:37:31.169Z"
   },
   {
    "duration": 137,
    "start_time": "2023-01-17T09:37:31.336Z"
   },
   {
    "duration": 145,
    "start_time": "2023-01-17T09:37:31.475Z"
   },
   {
    "duration": 182,
    "start_time": "2023-01-17T09:37:31.622Z"
   },
   {
    "duration": 30,
    "start_time": "2023-01-17T09:37:31.805Z"
   },
   {
    "duration": 163,
    "start_time": "2023-01-17T09:38:04.600Z"
   },
   {
    "duration": 174,
    "start_time": "2023-01-17T09:41:17.129Z"
   },
   {
    "duration": 194,
    "start_time": "2023-01-17T09:41:59.097Z"
   },
   {
    "duration": 249,
    "start_time": "2023-01-17T09:42:18.936Z"
   },
   {
    "duration": 180,
    "start_time": "2023-01-17T09:46:59.989Z"
   },
   {
    "duration": 285,
    "start_time": "2023-01-17T09:47:42.497Z"
   },
   {
    "duration": 393,
    "start_time": "2023-01-17T09:48:10.768Z"
   },
   {
    "duration": 315,
    "start_time": "2023-01-17T09:48:18.658Z"
   },
   {
    "duration": 389,
    "start_time": "2023-01-17T09:48:26.592Z"
   },
   {
    "duration": 202,
    "start_time": "2023-01-17T09:48:57.464Z"
   },
   {
    "duration": 314,
    "start_time": "2023-01-17T09:49:04.115Z"
   },
   {
    "duration": 315,
    "start_time": "2023-01-17T09:50:20.463Z"
   },
   {
    "duration": 318,
    "start_time": "2023-01-17T09:56:45.512Z"
   },
   {
    "duration": 11,
    "start_time": "2023-01-17T09:58:06.392Z"
   },
   {
    "duration": 249,
    "start_time": "2023-01-17T09:59:59.440Z"
   },
   {
    "duration": 301,
    "start_time": "2023-01-17T10:00:12.744Z"
   },
   {
    "duration": 208,
    "start_time": "2023-01-17T10:00:25.924Z"
   },
   {
    "duration": 12,
    "start_time": "2023-01-17T10:00:40.549Z"
   },
   {
    "duration": 12,
    "start_time": "2023-01-17T10:00:45.903Z"
   },
   {
    "duration": 8,
    "start_time": "2023-01-17T10:04:25.781Z"
   },
   {
    "duration": 132,
    "start_time": "2023-01-17T10:04:34.664Z"
   },
   {
    "duration": 9,
    "start_time": "2023-01-17T10:06:11.221Z"
   },
   {
    "duration": 130,
    "start_time": "2023-01-17T10:16:57.864Z"
   },
   {
    "duration": 3,
    "start_time": "2023-01-17T10:17:33.839Z"
   },
   {
    "duration": 97,
    "start_time": "2023-01-17T10:17:33.845Z"
   },
   {
    "duration": 16,
    "start_time": "2023-01-17T10:17:33.944Z"
   },
   {
    "duration": 15,
    "start_time": "2023-01-17T10:17:33.962Z"
   },
   {
    "duration": 11,
    "start_time": "2023-01-17T10:17:33.980Z"
   },
   {
    "duration": 15,
    "start_time": "2023-01-17T10:17:33.993Z"
   },
   {
    "duration": 15,
    "start_time": "2023-01-17T10:17:34.009Z"
   },
   {
    "duration": 25,
    "start_time": "2023-01-17T10:17:34.026Z"
   },
   {
    "duration": 3,
    "start_time": "2023-01-17T10:17:34.053Z"
   },
   {
    "duration": 8,
    "start_time": "2023-01-17T10:17:34.058Z"
   },
   {
    "duration": 6,
    "start_time": "2023-01-17T10:17:34.067Z"
   },
   {
    "duration": 17,
    "start_time": "2023-01-17T10:17:34.075Z"
   },
   {
    "duration": 8,
    "start_time": "2023-01-17T10:17:34.094Z"
   },
   {
    "duration": 19,
    "start_time": "2023-01-17T10:17:34.105Z"
   },
   {
    "duration": 5,
    "start_time": "2023-01-17T10:17:34.126Z"
   },
   {
    "duration": 6,
    "start_time": "2023-01-17T10:17:34.152Z"
   },
   {
    "duration": 12,
    "start_time": "2023-01-17T10:17:34.160Z"
   },
   {
    "duration": 8,
    "start_time": "2023-01-17T10:17:34.174Z"
   },
   {
    "duration": 31,
    "start_time": "2023-01-17T10:17:34.184Z"
   },
   {
    "duration": 9,
    "start_time": "2023-01-17T10:17:34.217Z"
   },
   {
    "duration": 27,
    "start_time": "2023-01-17T10:17:34.228Z"
   },
   {
    "duration": 140,
    "start_time": "2023-01-17T10:17:34.257Z"
   },
   {
    "duration": 146,
    "start_time": "2023-01-17T10:17:34.398Z"
   },
   {
    "duration": 140,
    "start_time": "2023-01-17T10:17:34.550Z"
   },
   {
    "duration": 140,
    "start_time": "2023-01-17T10:17:34.692Z"
   },
   {
    "duration": 311,
    "start_time": "2023-01-17T10:17:34.834Z"
   },
   {
    "duration": 163,
    "start_time": "2023-01-17T10:17:35.147Z"
   },
   {
    "duration": 1361,
    "start_time": "2023-01-17T10:18:52.658Z"
   },
   {
    "duration": 209,
    "start_time": "2023-01-17T10:19:07.004Z"
   },
   {
    "duration": 331,
    "start_time": "2023-01-17T10:19:45.125Z"
   },
   {
    "duration": 154,
    "start_time": "2023-01-17T10:20:02.408Z"
   },
   {
    "duration": 166,
    "start_time": "2023-01-17T10:20:56.951Z"
   },
   {
    "duration": 257,
    "start_time": "2023-01-17T10:21:12.732Z"
   },
   {
    "duration": 133,
    "start_time": "2023-01-17T10:21:27.030Z"
   },
   {
    "duration": 3255,
    "start_time": "2023-01-17T10:21:36.620Z"
   },
   {
    "duration": 255,
    "start_time": "2023-01-17T10:23:20.757Z"
   },
   {
    "duration": 314,
    "start_time": "2023-01-17T10:24:26.118Z"
   },
   {
    "duration": 353,
    "start_time": "2023-01-17T10:24:30.911Z"
   },
   {
    "duration": 288,
    "start_time": "2023-01-17T10:25:10.398Z"
   },
   {
    "duration": 839,
    "start_time": "2023-01-17T13:18:31.946Z"
   },
   {
    "duration": 95,
    "start_time": "2023-01-17T13:18:32.788Z"
   },
   {
    "duration": 17,
    "start_time": "2023-01-17T13:18:32.884Z"
   },
   {
    "duration": 29,
    "start_time": "2023-01-17T13:18:32.903Z"
   },
   {
    "duration": 15,
    "start_time": "2023-01-17T13:18:32.934Z"
   },
   {
    "duration": 28,
    "start_time": "2023-01-17T13:18:32.950Z"
   },
   {
    "duration": 23,
    "start_time": "2023-01-17T13:18:32.979Z"
   },
   {
    "duration": 12,
    "start_time": "2023-01-17T13:18:33.003Z"
   },
   {
    "duration": 17,
    "start_time": "2023-01-17T13:18:33.017Z"
   },
   {
    "duration": 22,
    "start_time": "2023-01-17T13:18:33.036Z"
   },
   {
    "duration": 16,
    "start_time": "2023-01-17T13:18:33.060Z"
   },
   {
    "duration": 41,
    "start_time": "2023-01-17T13:18:33.078Z"
   },
   {
    "duration": 13,
    "start_time": "2023-01-17T13:18:33.121Z"
   },
   {
    "duration": 35,
    "start_time": "2023-01-17T13:18:33.135Z"
   },
   {
    "duration": 11,
    "start_time": "2023-01-17T13:18:33.175Z"
   },
   {
    "duration": 13,
    "start_time": "2023-01-17T13:18:33.188Z"
   },
   {
    "duration": 28,
    "start_time": "2023-01-17T13:18:33.203Z"
   },
   {
    "duration": 8,
    "start_time": "2023-01-17T13:18:33.233Z"
   },
   {
    "duration": 36,
    "start_time": "2023-01-17T13:18:33.243Z"
   },
   {
    "duration": 6,
    "start_time": "2023-01-17T13:18:33.280Z"
   },
   {
    "duration": 38,
    "start_time": "2023-01-17T13:18:33.287Z"
   },
   {
    "duration": 140,
    "start_time": "2023-01-17T13:18:33.327Z"
   },
   {
    "duration": 146,
    "start_time": "2023-01-17T13:18:33.468Z"
   },
   {
    "duration": 133,
    "start_time": "2023-01-17T13:18:33.616Z"
   },
   {
    "duration": 153,
    "start_time": "2023-01-17T13:18:33.750Z"
   },
   {
    "duration": 393,
    "start_time": "2023-01-17T13:18:33.905Z"
   },
   {
    "duration": 381,
    "start_time": "2023-01-17T13:18:34.299Z"
   },
   {
    "duration": 306,
    "start_time": "2023-01-17T13:27:07.522Z"
   },
   {
    "duration": 76,
    "start_time": "2023-01-17T13:30:58.026Z"
   },
   {
    "duration": 7,
    "start_time": "2023-01-17T13:36:14.445Z"
   },
   {
    "duration": 85,
    "start_time": "2023-01-17T13:36:14.464Z"
   },
   {
    "duration": 15,
    "start_time": "2023-01-17T13:36:14.562Z"
   },
   {
    "duration": 0,
    "start_time": "2023-01-17T13:36:14.765Z"
   },
   {
    "duration": 0,
    "start_time": "2023-01-17T13:36:14.768Z"
   },
   {
    "duration": 0,
    "start_time": "2023-01-17T13:36:14.771Z"
   },
   {
    "duration": 0,
    "start_time": "2023-01-17T13:36:14.774Z"
   },
   {
    "duration": 0,
    "start_time": "2023-01-17T13:36:14.777Z"
   },
   {
    "duration": 0,
    "start_time": "2023-01-17T13:36:14.780Z"
   },
   {
    "duration": 0,
    "start_time": "2023-01-17T13:36:14.783Z"
   },
   {
    "duration": 0,
    "start_time": "2023-01-17T13:36:14.786Z"
   },
   {
    "duration": 0,
    "start_time": "2023-01-17T13:36:14.789Z"
   },
   {
    "duration": 0,
    "start_time": "2023-01-17T13:36:14.792Z"
   },
   {
    "duration": 0,
    "start_time": "2023-01-17T13:36:14.840Z"
   },
   {
    "duration": 0,
    "start_time": "2023-01-17T13:36:14.843Z"
   },
   {
    "duration": 1,
    "start_time": "2023-01-17T13:36:14.845Z"
   },
   {
    "duration": 0,
    "start_time": "2023-01-17T13:36:14.849Z"
   },
   {
    "duration": 0,
    "start_time": "2023-01-17T13:36:14.852Z"
   },
   {
    "duration": 0,
    "start_time": "2023-01-17T13:36:14.855Z"
   },
   {
    "duration": 0,
    "start_time": "2023-01-17T13:36:14.857Z"
   },
   {
    "duration": 0,
    "start_time": "2023-01-17T13:36:14.860Z"
   },
   {
    "duration": 0,
    "start_time": "2023-01-17T13:36:14.864Z"
   },
   {
    "duration": 0,
    "start_time": "2023-01-17T13:36:14.866Z"
   },
   {
    "duration": 0,
    "start_time": "2023-01-17T13:36:14.869Z"
   },
   {
    "duration": 0,
    "start_time": "2023-01-17T13:36:14.871Z"
   },
   {
    "duration": 0,
    "start_time": "2023-01-17T13:36:14.873Z"
   },
   {
    "duration": 0,
    "start_time": "2023-01-17T13:36:14.874Z"
   },
   {
    "duration": 0,
    "start_time": "2023-01-17T13:36:14.876Z"
   },
   {
    "duration": 3,
    "start_time": "2023-01-17T13:36:41.737Z"
   },
   {
    "duration": 73,
    "start_time": "2023-01-17T13:36:41.742Z"
   },
   {
    "duration": 19,
    "start_time": "2023-01-17T13:36:41.816Z"
   },
   {
    "duration": 27,
    "start_time": "2023-01-17T13:36:41.836Z"
   },
   {
    "duration": 8,
    "start_time": "2023-01-17T13:36:41.865Z"
   },
   {
    "duration": 30,
    "start_time": "2023-01-17T13:36:41.874Z"
   },
   {
    "duration": 21,
    "start_time": "2023-01-17T13:36:41.905Z"
   },
   {
    "duration": 34,
    "start_time": "2023-01-17T13:36:41.928Z"
   },
   {
    "duration": 30,
    "start_time": "2023-01-17T13:36:41.964Z"
   },
   {
    "duration": 32,
    "start_time": "2023-01-17T13:36:41.996Z"
   },
   {
    "duration": 20,
    "start_time": "2023-01-17T13:36:42.030Z"
   },
   {
    "duration": 27,
    "start_time": "2023-01-17T13:36:42.052Z"
   },
   {
    "duration": 32,
    "start_time": "2023-01-17T13:36:42.082Z"
   },
   {
    "duration": 33,
    "start_time": "2023-01-17T13:36:42.117Z"
   },
   {
    "duration": 15,
    "start_time": "2023-01-17T13:36:42.151Z"
   },
   {
    "duration": 25,
    "start_time": "2023-01-17T13:36:42.168Z"
   },
   {
    "duration": 25,
    "start_time": "2023-01-17T13:36:42.195Z"
   },
   {
    "duration": 20,
    "start_time": "2023-01-17T13:36:42.222Z"
   },
   {
    "duration": 46,
    "start_time": "2023-01-17T13:36:42.245Z"
   },
   {
    "duration": 21,
    "start_time": "2023-01-17T13:36:42.293Z"
   },
   {
    "duration": 34,
    "start_time": "2023-01-17T13:36:42.316Z"
   },
   {
    "duration": 143,
    "start_time": "2023-01-17T13:36:42.352Z"
   },
   {
    "duration": 148,
    "start_time": "2023-01-17T13:36:42.496Z"
   },
   {
    "duration": 146,
    "start_time": "2023-01-17T13:36:42.645Z"
   },
   {
    "duration": 144,
    "start_time": "2023-01-17T13:36:42.793Z"
   },
   {
    "duration": 321,
    "start_time": "2023-01-17T13:36:42.939Z"
   },
   {
    "duration": 271,
    "start_time": "2023-01-17T13:36:43.262Z"
   },
   {
    "duration": 0,
    "start_time": "2023-01-17T13:43:35.021Z"
   },
   {
    "duration": 0,
    "start_time": "2023-01-17T13:43:35.022Z"
   },
   {
    "duration": 0,
    "start_time": "2023-01-17T13:47:45.298Z"
   },
   {
    "duration": 0,
    "start_time": "2023-01-17T13:47:45.306Z"
   },
   {
    "duration": 16,
    "start_time": "2023-01-17T13:47:55.098Z"
   },
   {
    "duration": 105072,
    "start_time": "2023-01-17T13:47:58.670Z"
   },
   {
    "duration": 214,
    "start_time": "2023-01-17T13:50:29.834Z"
   },
   {
    "duration": 17247,
    "start_time": "2023-01-17T13:52:28.363Z"
   },
   {
    "duration": 72,
    "start_time": "2023-01-17T13:55:29.296Z"
   },
   {
    "duration": 84,
    "start_time": "2023-01-17T13:55:51.869Z"
   },
   {
    "duration": 120,
    "start_time": "2023-01-17T13:56:06.511Z"
   },
   {
    "duration": 27,
    "start_time": "2023-01-17T14:01:34.577Z"
   },
   {
    "duration": 151,
    "start_time": "2023-01-17T14:02:02.335Z"
   },
   {
    "duration": 196,
    "start_time": "2023-01-17T14:02:33.123Z"
   },
   {
    "duration": 4,
    "start_time": "2023-01-17T14:06:44.787Z"
   },
   {
    "duration": 1432,
    "start_time": "2023-01-17T14:06:55.847Z"
   },
   {
    "duration": 179,
    "start_time": "2023-01-17T14:07:11.017Z"
   },
   {
    "duration": 169,
    "start_time": "2023-01-17T14:08:24.319Z"
   },
   {
    "duration": 15,
    "start_time": "2023-01-17T14:16:14.750Z"
   },
   {
    "duration": 8,
    "start_time": "2023-01-17T14:17:21.227Z"
   },
   {
    "duration": 8,
    "start_time": "2023-01-17T14:20:07.914Z"
   },
   {
    "duration": 4,
    "start_time": "2023-01-17T14:21:57.656Z"
   },
   {
    "duration": 50,
    "start_time": "2023-01-17T14:21:57.662Z"
   },
   {
    "duration": 16,
    "start_time": "2023-01-17T14:21:57.714Z"
   },
   {
    "duration": 15,
    "start_time": "2023-01-17T14:21:57.732Z"
   },
   {
    "duration": 11,
    "start_time": "2023-01-17T14:21:57.750Z"
   },
   {
    "duration": 13,
    "start_time": "2023-01-17T14:21:57.763Z"
   },
   {
    "duration": 7,
    "start_time": "2023-01-17T14:21:57.778Z"
   },
   {
    "duration": 8,
    "start_time": "2023-01-17T14:21:57.787Z"
   },
   {
    "duration": 6,
    "start_time": "2023-01-17T14:21:57.797Z"
   },
   {
    "duration": 34,
    "start_time": "2023-01-17T14:21:57.805Z"
   },
   {
    "duration": 9,
    "start_time": "2023-01-17T14:21:57.841Z"
   },
   {
    "duration": 6,
    "start_time": "2023-01-17T14:21:57.853Z"
   },
   {
    "duration": 19,
    "start_time": "2023-01-17T14:21:57.860Z"
   },
   {
    "duration": 24,
    "start_time": "2023-01-17T14:21:57.882Z"
   },
   {
    "duration": 7,
    "start_time": "2023-01-17T14:21:57.908Z"
   },
   {
    "duration": 13,
    "start_time": "2023-01-17T14:21:57.917Z"
   },
   {
    "duration": 31,
    "start_time": "2023-01-17T14:21:57.937Z"
   },
   {
    "duration": 19,
    "start_time": "2023-01-17T14:21:57.970Z"
   },
   {
    "duration": 32,
    "start_time": "2023-01-17T14:21:57.991Z"
   },
   {
    "duration": 14,
    "start_time": "2023-01-17T14:21:58.025Z"
   },
   {
    "duration": 27,
    "start_time": "2023-01-17T14:21:58.041Z"
   },
   {
    "duration": 148,
    "start_time": "2023-01-17T14:21:58.070Z"
   },
   {
    "duration": 154,
    "start_time": "2023-01-17T14:21:58.220Z"
   },
   {
    "duration": 133,
    "start_time": "2023-01-17T14:21:58.377Z"
   },
   {
    "duration": 150,
    "start_time": "2023-01-17T14:21:58.511Z"
   },
   {
    "duration": 379,
    "start_time": "2023-01-17T14:21:58.663Z"
   },
   {
    "duration": 281,
    "start_time": "2023-01-17T14:21:59.044Z"
   },
   {
    "duration": 171,
    "start_time": "2023-01-17T14:21:59.328Z"
   },
   {
    "duration": 9,
    "start_time": "2023-01-17T14:21:59.501Z"
   },
   {
    "duration": 212,
    "start_time": "2023-01-17T14:21:59.512Z"
   },
   {
    "duration": 12,
    "start_time": "2023-01-17T14:21:59.726Z"
   },
   {
    "duration": 10,
    "start_time": "2023-01-17T14:30:52.672Z"
   },
   {
    "duration": 9,
    "start_time": "2023-01-17T14:30:58.221Z"
   },
   {
    "duration": 10,
    "start_time": "2023-01-17T14:34:57.240Z"
   },
   {
    "duration": 10,
    "start_time": "2023-01-17T14:35:06.324Z"
   },
   {
    "duration": 159,
    "start_time": "2023-01-17T14:51:11.009Z"
   },
   {
    "duration": 13,
    "start_time": "2023-01-17T14:51:38.846Z"
   },
   {
    "duration": 11,
    "start_time": "2023-01-17T14:54:32.217Z"
   },
   {
    "duration": 8,
    "start_time": "2023-01-17T14:56:46.052Z"
   },
   {
    "duration": 14,
    "start_time": "2023-01-17T14:57:05.423Z"
   },
   {
    "duration": 15,
    "start_time": "2023-01-17T14:57:48.485Z"
   },
   {
    "duration": 17,
    "start_time": "2023-01-17T14:58:52.125Z"
   },
   {
    "duration": 26,
    "start_time": "2023-01-17T14:59:56.949Z"
   },
   {
    "duration": 23,
    "start_time": "2023-01-17T15:00:31.874Z"
   },
   {
    "duration": 44,
    "start_time": "2023-01-17T15:00:43.618Z"
   },
   {
    "duration": 14,
    "start_time": "2023-01-17T15:01:21.010Z"
   },
   {
    "duration": 17,
    "start_time": "2023-01-17T15:01:42.859Z"
   },
   {
    "duration": 22,
    "start_time": "2023-01-17T15:02:13.135Z"
   },
   {
    "duration": 12,
    "start_time": "2023-01-17T15:02:40.903Z"
   },
   {
    "duration": 11,
    "start_time": "2023-01-17T15:03:11.418Z"
   },
   {
    "duration": 12,
    "start_time": "2023-01-17T15:03:46.107Z"
   },
   {
    "duration": 69,
    "start_time": "2023-01-17T15:04:32.742Z"
   },
   {
    "duration": 79,
    "start_time": "2023-01-17T15:04:56.036Z"
   },
   {
    "duration": 76,
    "start_time": "2023-01-17T15:05:55.014Z"
   },
   {
    "duration": 16,
    "start_time": "2023-01-17T15:06:14.944Z"
   },
   {
    "duration": 15,
    "start_time": "2023-01-17T15:06:33.438Z"
   },
   {
    "duration": 16,
    "start_time": "2023-01-17T15:07:58.471Z"
   },
   {
    "duration": 17,
    "start_time": "2023-01-17T15:08:28.913Z"
   },
   {
    "duration": 14,
    "start_time": "2023-01-17T15:10:18.804Z"
   },
   {
    "duration": 13,
    "start_time": "2023-01-17T15:18:30.522Z"
   },
   {
    "duration": 777,
    "start_time": "2023-01-17T17:05:29.287Z"
   },
   {
    "duration": 195,
    "start_time": "2023-01-17T17:05:30.067Z"
   },
   {
    "duration": 18,
    "start_time": "2023-01-17T17:05:30.264Z"
   },
   {
    "duration": 54,
    "start_time": "2023-01-17T17:05:30.283Z"
   },
   {
    "duration": 23,
    "start_time": "2023-01-17T17:05:30.339Z"
   },
   {
    "duration": 27,
    "start_time": "2023-01-17T17:05:30.363Z"
   },
   {
    "duration": 33,
    "start_time": "2023-01-17T17:05:30.392Z"
   },
   {
    "duration": 15,
    "start_time": "2023-01-17T17:05:30.427Z"
   },
   {
    "duration": 31,
    "start_time": "2023-01-17T17:05:30.444Z"
   },
   {
    "duration": 18,
    "start_time": "2023-01-17T17:05:30.477Z"
   },
   {
    "duration": 41,
    "start_time": "2023-01-17T17:05:30.497Z"
   },
   {
    "duration": 38,
    "start_time": "2023-01-17T17:05:30.539Z"
   },
   {
    "duration": 32,
    "start_time": "2023-01-17T17:05:30.578Z"
   },
   {
    "duration": 59,
    "start_time": "2023-01-17T17:05:30.612Z"
   },
   {
    "duration": 13,
    "start_time": "2023-01-17T17:05:30.673Z"
   },
   {
    "duration": 35,
    "start_time": "2023-01-17T17:05:30.688Z"
   },
   {
    "duration": 27,
    "start_time": "2023-01-17T17:05:30.725Z"
   },
   {
    "duration": 32,
    "start_time": "2023-01-17T17:05:30.754Z"
   },
   {
    "duration": 41,
    "start_time": "2023-01-17T17:05:30.788Z"
   },
   {
    "duration": 35,
    "start_time": "2023-01-17T17:05:30.831Z"
   },
   {
    "duration": 42,
    "start_time": "2023-01-17T17:05:30.868Z"
   },
   {
    "duration": 165,
    "start_time": "2023-01-17T17:05:30.912Z"
   },
   {
    "duration": 151,
    "start_time": "2023-01-17T17:05:31.079Z"
   },
   {
    "duration": 150,
    "start_time": "2023-01-17T17:05:31.232Z"
   },
   {
    "duration": 155,
    "start_time": "2023-01-17T17:05:31.383Z"
   },
   {
    "duration": 377,
    "start_time": "2023-01-17T17:05:31.540Z"
   },
   {
    "duration": 278,
    "start_time": "2023-01-17T17:05:31.919Z"
   },
   {
    "duration": 166,
    "start_time": "2023-01-17T17:05:32.199Z"
   },
   {
    "duration": 10,
    "start_time": "2023-01-17T17:05:32.367Z"
   },
   {
    "duration": 184,
    "start_time": "2023-01-17T17:05:32.379Z"
   },
   {
    "duration": 10,
    "start_time": "2023-01-17T17:05:32.565Z"
   },
   {
    "duration": 13,
    "start_time": "2023-01-17T17:05:32.576Z"
   },
   {
    "duration": 8,
    "start_time": "2023-01-17T17:05:32.591Z"
   },
   {
    "duration": 14,
    "start_time": "2023-01-17T17:05:32.601Z"
   },
   {
    "duration": 49,
    "start_time": "2023-01-17T17:05:32.616Z"
   },
   {
    "duration": 51,
    "start_time": "2023-01-17T17:07:29.287Z"
   },
   {
    "duration": 75,
    "start_time": "2023-01-17T17:08:02.654Z"
   },
   {
    "duration": 4,
    "start_time": "2023-01-17T17:09:59.711Z"
   },
   {
    "duration": 8,
    "start_time": "2023-01-17T17:11:45.071Z"
   },
   {
    "duration": 14,
    "start_time": "2023-01-17T17:13:07.563Z"
   },
   {
    "duration": 20,
    "start_time": "2023-01-17T17:13:52.927Z"
   },
   {
    "duration": 15,
    "start_time": "2023-01-17T17:14:02.469Z"
   },
   {
    "duration": 15,
    "start_time": "2023-01-17T17:16:32.182Z"
   },
   {
    "duration": 15,
    "start_time": "2023-01-17T17:20:02.681Z"
   },
   {
    "duration": 13,
    "start_time": "2023-01-17T17:30:22.962Z"
   },
   {
    "duration": 13,
    "start_time": "2023-01-17T17:37:41.949Z"
   },
   {
    "duration": 15,
    "start_time": "2023-01-17T17:39:17.238Z"
   },
   {
    "duration": 15,
    "start_time": "2023-01-17T17:42:27.012Z"
   },
   {
    "duration": 14,
    "start_time": "2023-01-17T17:44:14.309Z"
   },
   {
    "duration": 14,
    "start_time": "2023-01-17T17:45:52.836Z"
   },
   {
    "duration": 21,
    "start_time": "2023-01-17T17:50:06.861Z"
   },
   {
    "duration": 8,
    "start_time": "2023-01-17T18:02:10.664Z"
   },
   {
    "duration": 455,
    "start_time": "2023-01-17T18:06:53.702Z"
   },
   {
    "duration": 20,
    "start_time": "2023-01-17T18:07:42.952Z"
   },
   {
    "duration": 11,
    "start_time": "2023-01-17T18:08:19.612Z"
   },
   {
    "duration": 5,
    "start_time": "2023-01-17T18:11:34.902Z"
   },
   {
    "duration": 12,
    "start_time": "2023-01-17T18:12:15.814Z"
   },
   {
    "duration": 9,
    "start_time": "2023-01-17T18:12:16.664Z"
   },
   {
    "duration": 383,
    "start_time": "2023-01-17T18:20:36.008Z"
   },
   {
    "duration": 63,
    "start_time": "2023-01-17T18:21:34.699Z"
   },
   {
    "duration": 164,
    "start_time": "2023-01-17T18:21:49.656Z"
   },
   {
    "duration": 10,
    "start_time": "2023-01-17T18:22:24.920Z"
   },
   {
    "duration": 9,
    "start_time": "2023-01-17T18:23:10.280Z"
   },
   {
    "duration": 11,
    "start_time": "2023-01-17T18:23:31.762Z"
   },
   {
    "duration": 11,
    "start_time": "2023-01-17T18:23:47.723Z"
   },
   {
    "duration": 22,
    "start_time": "2023-01-17T18:23:58.286Z"
   },
   {
    "duration": 16,
    "start_time": "2023-01-17T18:24:15.819Z"
   },
   {
    "duration": 18,
    "start_time": "2023-01-17T18:24:25.768Z"
   },
   {
    "duration": 3,
    "start_time": "2023-01-17T18:25:05.752Z"
   },
   {
    "duration": 56,
    "start_time": "2023-01-17T18:25:05.757Z"
   },
   {
    "duration": 14,
    "start_time": "2023-01-17T18:25:05.815Z"
   },
   {
    "duration": 22,
    "start_time": "2023-01-17T18:25:05.831Z"
   },
   {
    "duration": 19,
    "start_time": "2023-01-17T18:25:05.855Z"
   },
   {
    "duration": 18,
    "start_time": "2023-01-17T18:25:05.876Z"
   },
   {
    "duration": 12,
    "start_time": "2023-01-17T18:25:05.896Z"
   },
   {
    "duration": 9,
    "start_time": "2023-01-17T18:25:05.910Z"
   },
   {
    "duration": 30,
    "start_time": "2023-01-17T18:25:05.921Z"
   },
   {
    "duration": 16,
    "start_time": "2023-01-17T18:25:05.953Z"
   },
   {
    "duration": 7,
    "start_time": "2023-01-17T18:25:05.972Z"
   },
   {
    "duration": 7,
    "start_time": "2023-01-17T18:25:05.981Z"
   },
   {
    "duration": 13,
    "start_time": "2023-01-17T18:25:05.989Z"
   },
   {
    "duration": 20,
    "start_time": "2023-01-17T18:25:06.004Z"
   },
   {
    "duration": 46,
    "start_time": "2023-01-17T18:25:06.027Z"
   },
   {
    "duration": 16,
    "start_time": "2023-01-17T18:25:06.075Z"
   },
   {
    "duration": 17,
    "start_time": "2023-01-17T18:25:06.093Z"
   },
   {
    "duration": 17,
    "start_time": "2023-01-17T18:25:06.112Z"
   },
   {
    "duration": 39,
    "start_time": "2023-01-17T18:25:06.131Z"
   },
   {
    "duration": 6,
    "start_time": "2023-01-17T18:25:06.172Z"
   },
   {
    "duration": 31,
    "start_time": "2023-01-17T18:25:06.180Z"
   },
   {
    "duration": 153,
    "start_time": "2023-01-17T18:25:06.214Z"
   },
   {
    "duration": 168,
    "start_time": "2023-01-17T18:25:06.368Z"
   },
   {
    "duration": 142,
    "start_time": "2023-01-17T18:25:06.538Z"
   },
   {
    "duration": 157,
    "start_time": "2023-01-17T18:25:06.681Z"
   },
   {
    "duration": 337,
    "start_time": "2023-01-17T18:25:06.841Z"
   },
   {
    "duration": 318,
    "start_time": "2023-01-17T18:25:07.180Z"
   },
   {
    "duration": 193,
    "start_time": "2023-01-17T18:25:07.500Z"
   },
   {
    "duration": 9,
    "start_time": "2023-01-17T18:25:07.697Z"
   },
   {
    "duration": 200,
    "start_time": "2023-01-17T18:25:07.708Z"
   },
   {
    "duration": 11,
    "start_time": "2023-01-17T18:25:07.910Z"
   },
   {
    "duration": 20,
    "start_time": "2023-01-17T18:25:07.923Z"
   },
   {
    "duration": 21,
    "start_time": "2023-01-17T18:25:07.945Z"
   },
   {
    "duration": 14,
    "start_time": "2023-01-17T18:25:07.968Z"
   },
   {
    "duration": 16,
    "start_time": "2023-01-17T18:25:07.984Z"
   },
   {
    "duration": 18,
    "start_time": "2023-01-17T18:25:08.002Z"
   },
   {
    "duration": 20,
    "start_time": "2023-01-17T18:25:08.037Z"
   },
   {
    "duration": 32,
    "start_time": "2023-01-17T18:25:08.059Z"
   },
   {
    "duration": 146,
    "start_time": "2023-01-17T18:25:08.092Z"
   },
   {
    "duration": 20,
    "start_time": "2023-01-17T18:25:08.240Z"
   },
   {
    "duration": 16,
    "start_time": "2023-01-17T18:25:08.262Z"
   },
   {
    "duration": 20,
    "start_time": "2023-01-17T18:25:08.280Z"
   },
   {
    "duration": 70,
    "start_time": "2023-01-17T18:25:08.302Z"
   },
   {
    "duration": 18,
    "start_time": "2023-01-17T18:25:08.374Z"
   },
   {
    "duration": 11,
    "start_time": "2023-01-17T18:25:08.394Z"
   },
   {
    "duration": 13,
    "start_time": "2023-01-17T18:25:21.751Z"
   },
   {
    "duration": 180,
    "start_time": "2023-01-17T18:26:02.582Z"
   },
   {
    "duration": 49,
    "start_time": "2023-01-17T18:26:11.902Z"
   },
   {
    "duration": 14,
    "start_time": "2023-01-17T18:26:42.081Z"
   },
   {
    "duration": 15,
    "start_time": "2023-01-17T18:30:25.730Z"
   },
   {
    "duration": 6,
    "start_time": "2023-01-17T18:30:35.136Z"
   },
   {
    "duration": 19,
    "start_time": "2023-01-17T18:31:36.805Z"
   },
   {
    "duration": 14,
    "start_time": "2023-01-17T18:31:58.588Z"
   },
   {
    "duration": 15,
    "start_time": "2023-01-17T18:45:07.391Z"
   },
   {
    "duration": 7,
    "start_time": "2023-01-17T18:45:10.902Z"
   },
   {
    "duration": 14,
    "start_time": "2023-01-17T18:45:21.574Z"
   },
   {
    "duration": 8,
    "start_time": "2023-01-17T18:47:30.947Z"
   },
   {
    "duration": 16,
    "start_time": "2023-01-17T18:48:03.962Z"
   },
   {
    "duration": 5,
    "start_time": "2023-01-17T18:48:19.598Z"
   },
   {
    "duration": 13,
    "start_time": "2023-01-17T18:48:35.160Z"
   },
   {
    "duration": 15,
    "start_time": "2023-01-17T18:50:31.945Z"
   },
   {
    "duration": 12,
    "start_time": "2023-01-17T18:53:03.915Z"
   },
   {
    "duration": 12,
    "start_time": "2023-01-17T18:56:18.788Z"
   },
   {
    "duration": 15,
    "start_time": "2023-01-17T18:56:31.735Z"
   },
   {
    "duration": 4,
    "start_time": "2023-01-17T18:56:54.231Z"
   },
   {
    "duration": 15,
    "start_time": "2023-01-17T18:57:44.830Z"
   },
   {
    "duration": 4,
    "start_time": "2023-01-17T18:57:46.571Z"
   },
   {
    "duration": 7,
    "start_time": "2023-01-17T18:57:56.954Z"
   },
   {
    "duration": 6,
    "start_time": "2023-01-17T18:58:20.248Z"
   },
   {
    "duration": 4,
    "start_time": "2023-01-17T18:58:21.007Z"
   },
   {
    "duration": 13,
    "start_time": "2023-01-17T18:58:43.062Z"
   },
   {
    "duration": 4,
    "start_time": "2023-01-17T18:59:11.248Z"
   },
   {
    "duration": 5,
    "start_time": "2023-01-17T19:01:39.856Z"
   },
   {
    "duration": 6,
    "start_time": "2023-01-17T19:02:30.161Z"
   },
   {
    "duration": 3,
    "start_time": "2023-01-17T19:26:48.071Z"
   },
   {
    "duration": 82,
    "start_time": "2023-01-17T19:26:48.077Z"
   },
   {
    "duration": 16,
    "start_time": "2023-01-17T19:26:48.161Z"
   },
   {
    "duration": 22,
    "start_time": "2023-01-17T19:26:48.179Z"
   },
   {
    "duration": 20,
    "start_time": "2023-01-17T19:26:48.203Z"
   },
   {
    "duration": 35,
    "start_time": "2023-01-17T19:26:48.224Z"
   },
   {
    "duration": 29,
    "start_time": "2023-01-17T19:26:48.261Z"
   },
   {
    "duration": 45,
    "start_time": "2023-01-17T19:26:48.292Z"
   },
   {
    "duration": 46,
    "start_time": "2023-01-17T19:26:48.339Z"
   },
   {
    "duration": 34,
    "start_time": "2023-01-17T19:26:48.387Z"
   },
   {
    "duration": 12,
    "start_time": "2023-01-17T19:26:48.423Z"
   },
   {
    "duration": 34,
    "start_time": "2023-01-17T19:26:48.441Z"
   },
   {
    "duration": 17,
    "start_time": "2023-01-17T19:26:48.478Z"
   },
   {
    "duration": 59,
    "start_time": "2023-01-17T19:26:48.499Z"
   },
   {
    "duration": 38,
    "start_time": "2023-01-17T19:26:48.563Z"
   },
   {
    "duration": 11,
    "start_time": "2023-01-17T19:26:48.603Z"
   },
   {
    "duration": 54,
    "start_time": "2023-01-17T19:26:48.616Z"
   },
   {
    "duration": 27,
    "start_time": "2023-01-17T19:26:48.673Z"
   },
   {
    "duration": 42,
    "start_time": "2023-01-17T19:26:48.702Z"
   },
   {
    "duration": 36,
    "start_time": "2023-01-17T19:26:48.746Z"
   },
   {
    "duration": 28,
    "start_time": "2023-01-17T19:26:48.785Z"
   },
   {
    "duration": 160,
    "start_time": "2023-01-17T19:26:48.815Z"
   },
   {
    "duration": 173,
    "start_time": "2023-01-17T19:26:48.978Z"
   },
   {
    "duration": 142,
    "start_time": "2023-01-17T19:26:49.153Z"
   },
   {
    "duration": 177,
    "start_time": "2023-01-17T19:26:49.297Z"
   },
   {
    "duration": 337,
    "start_time": "2023-01-17T19:26:49.476Z"
   },
   {
    "duration": 282,
    "start_time": "2023-01-17T19:26:49.815Z"
   },
   {
    "duration": 197,
    "start_time": "2023-01-17T19:26:50.099Z"
   },
   {
    "duration": 10,
    "start_time": "2023-01-17T19:26:50.298Z"
   },
   {
    "duration": 212,
    "start_time": "2023-01-17T19:26:50.309Z"
   },
   {
    "duration": 10,
    "start_time": "2023-01-17T19:26:50.523Z"
   },
   {
    "duration": 43,
    "start_time": "2023-01-17T19:26:50.541Z"
   },
   {
    "duration": 29,
    "start_time": "2023-01-17T19:26:50.586Z"
   },
   {
    "duration": 57,
    "start_time": "2023-01-17T19:26:50.617Z"
   },
   {
    "duration": 22,
    "start_time": "2023-01-17T19:26:50.676Z"
   },
   {
    "duration": 22,
    "start_time": "2023-01-17T19:26:50.700Z"
   },
   {
    "duration": 15,
    "start_time": "2023-01-17T19:26:50.724Z"
   },
   {
    "duration": 60,
    "start_time": "2023-01-17T19:26:50.741Z"
   },
   {
    "duration": 25,
    "start_time": "2023-01-17T19:26:50.803Z"
   },
   {
    "duration": 22,
    "start_time": "2023-01-17T19:26:50.830Z"
   },
   {
    "duration": 55,
    "start_time": "2023-01-17T19:26:50.856Z"
   },
   {
    "duration": 14,
    "start_time": "2023-01-17T19:26:50.913Z"
   },
   {
    "duration": 54,
    "start_time": "2023-01-17T19:26:50.929Z"
   },
   {
    "duration": 31,
    "start_time": "2023-01-17T19:26:50.984Z"
   },
   {
    "duration": 36,
    "start_time": "2023-01-17T19:26:51.017Z"
   },
   {
    "duration": 34,
    "start_time": "2023-01-17T19:26:51.055Z"
   },
   {
    "duration": 1366,
    "start_time": "2023-01-18T07:02:25.489Z"
   },
   {
    "duration": 211,
    "start_time": "2023-01-18T07:02:26.858Z"
   },
   {
    "duration": 20,
    "start_time": "2023-01-18T07:02:27.071Z"
   },
   {
    "duration": 22,
    "start_time": "2023-01-18T07:02:27.093Z"
   },
   {
    "duration": 6,
    "start_time": "2023-01-18T07:02:27.118Z"
   },
   {
    "duration": 10,
    "start_time": "2023-01-18T07:02:27.126Z"
   },
   {
    "duration": 9,
    "start_time": "2023-01-18T07:02:27.138Z"
   },
   {
    "duration": 6,
    "start_time": "2023-01-18T07:02:27.148Z"
   },
   {
    "duration": 30,
    "start_time": "2023-01-18T07:02:27.155Z"
   },
   {
    "duration": 6,
    "start_time": "2023-01-18T07:02:27.186Z"
   },
   {
    "duration": 12,
    "start_time": "2023-01-18T07:02:27.193Z"
   },
   {
    "duration": 17,
    "start_time": "2023-01-18T07:02:27.206Z"
   },
   {
    "duration": 8,
    "start_time": "2023-01-18T07:02:27.225Z"
   },
   {
    "duration": 14,
    "start_time": "2023-01-18T07:02:27.237Z"
   },
   {
    "duration": 4,
    "start_time": "2023-01-18T07:02:27.252Z"
   },
   {
    "duration": 6,
    "start_time": "2023-01-18T07:02:27.258Z"
   },
   {
    "duration": 16,
    "start_time": "2023-01-18T07:02:27.266Z"
   },
   {
    "duration": 3,
    "start_time": "2023-01-18T07:02:27.284Z"
   },
   {
    "duration": 25,
    "start_time": "2023-01-18T07:02:27.289Z"
   },
   {
    "duration": 5,
    "start_time": "2023-01-18T07:02:27.316Z"
   },
   {
    "duration": 18,
    "start_time": "2023-01-18T07:02:27.322Z"
   },
   {
    "duration": 148,
    "start_time": "2023-01-18T07:02:27.342Z"
   },
   {
    "duration": 138,
    "start_time": "2023-01-18T07:02:27.492Z"
   },
   {
    "duration": 122,
    "start_time": "2023-01-18T07:02:27.632Z"
   },
   {
    "duration": 138,
    "start_time": "2023-01-18T07:02:27.755Z"
   },
   {
    "duration": 334,
    "start_time": "2023-01-18T07:02:27.894Z"
   },
   {
    "duration": 280,
    "start_time": "2023-01-18T07:02:28.231Z"
   },
   {
    "duration": 178,
    "start_time": "2023-01-18T07:02:28.513Z"
   },
   {
    "duration": 13,
    "start_time": "2023-01-18T07:02:28.694Z"
   },
   {
    "duration": 182,
    "start_time": "2023-01-18T07:02:28.709Z"
   },
   {
    "duration": 11,
    "start_time": "2023-01-18T07:02:28.893Z"
   },
   {
    "duration": 34,
    "start_time": "2023-01-18T07:02:28.906Z"
   },
   {
    "duration": 14,
    "start_time": "2023-01-18T07:02:28.942Z"
   },
   {
    "duration": 15,
    "start_time": "2023-01-18T07:02:28.958Z"
   },
   {
    "duration": 22,
    "start_time": "2023-01-18T07:02:28.974Z"
   },
   {
    "duration": 23,
    "start_time": "2023-01-18T07:02:28.998Z"
   },
   {
    "duration": 16,
    "start_time": "2023-01-18T07:02:29.022Z"
   },
   {
    "duration": 120,
    "start_time": "2023-01-18T07:02:29.040Z"
   },
   {
    "duration": 29,
    "start_time": "2023-01-18T07:02:29.162Z"
   },
   {
    "duration": 20,
    "start_time": "2023-01-18T07:02:29.193Z"
   },
   {
    "duration": 18,
    "start_time": "2023-01-18T07:02:29.219Z"
   },
   {
    "duration": 46,
    "start_time": "2023-01-18T07:02:29.239Z"
   },
   {
    "duration": 15,
    "start_time": "2023-01-18T07:02:29.286Z"
   },
   {
    "duration": 12,
    "start_time": "2023-01-18T07:02:29.303Z"
   },
   {
    "duration": 13,
    "start_time": "2023-01-18T07:02:29.316Z"
   },
   {
    "duration": 6,
    "start_time": "2023-01-18T07:02:29.330Z"
   },
   {
    "duration": 48,
    "start_time": "2023-01-18T07:37:05.621Z"
   },
   {
    "duration": 1289,
    "start_time": "2023-01-18T07:37:10.357Z"
   },
   {
    "duration": 90,
    "start_time": "2023-01-18T07:37:11.648Z"
   },
   {
    "duration": 15,
    "start_time": "2023-01-18T07:37:11.740Z"
   },
   {
    "duration": 17,
    "start_time": "2023-01-18T07:37:11.757Z"
   },
   {
    "duration": 6,
    "start_time": "2023-01-18T07:37:11.776Z"
   },
   {
    "duration": 21,
    "start_time": "2023-01-18T07:37:11.784Z"
   },
   {
    "duration": 8,
    "start_time": "2023-01-18T07:37:11.807Z"
   },
   {
    "duration": 5,
    "start_time": "2023-01-18T07:37:11.817Z"
   },
   {
    "duration": 9,
    "start_time": "2023-01-18T07:37:11.823Z"
   },
   {
    "duration": 7,
    "start_time": "2023-01-18T07:37:11.835Z"
   },
   {
    "duration": 9,
    "start_time": "2023-01-18T07:37:11.844Z"
   },
   {
    "duration": 8,
    "start_time": "2023-01-18T07:37:11.855Z"
   },
   {
    "duration": 18,
    "start_time": "2023-01-18T07:37:11.866Z"
   },
   {
    "duration": 19,
    "start_time": "2023-01-18T07:37:11.886Z"
   },
   {
    "duration": 5,
    "start_time": "2023-01-18T07:37:11.907Z"
   },
   {
    "duration": 12,
    "start_time": "2023-01-18T07:37:11.913Z"
   },
   {
    "duration": 22,
    "start_time": "2023-01-18T07:37:11.927Z"
   },
   {
    "duration": 10,
    "start_time": "2023-01-18T07:37:11.951Z"
   },
   {
    "duration": 23,
    "start_time": "2023-01-18T07:37:11.963Z"
   },
   {
    "duration": 228,
    "start_time": "2023-01-18T07:37:11.987Z"
   },
   {
    "duration": 16,
    "start_time": "2023-01-18T07:37:12.216Z"
   },
   {
    "duration": 152,
    "start_time": "2023-01-18T07:37:12.233Z"
   },
   {
    "duration": 144,
    "start_time": "2023-01-18T07:37:12.388Z"
   },
   {
    "duration": 140,
    "start_time": "2023-01-18T07:37:12.533Z"
   },
   {
    "duration": 125,
    "start_time": "2023-01-18T07:37:12.677Z"
   },
   {
    "duration": 294,
    "start_time": "2023-01-18T07:37:12.803Z"
   },
   {
    "duration": 247,
    "start_time": "2023-01-18T07:37:13.098Z"
   },
   {
    "duration": 243,
    "start_time": "2023-01-18T07:37:13.349Z"
   },
   {
    "duration": 12,
    "start_time": "2023-01-18T07:37:13.593Z"
   },
   {
    "duration": 158,
    "start_time": "2023-01-18T07:37:13.606Z"
   },
   {
    "duration": 16,
    "start_time": "2023-01-18T07:37:13.766Z"
   },
   {
    "duration": 21,
    "start_time": "2023-01-18T07:37:13.783Z"
   },
   {
    "duration": 10,
    "start_time": "2023-01-18T07:37:13.805Z"
   },
   {
    "duration": 14,
    "start_time": "2023-01-18T07:37:13.817Z"
   },
   {
    "duration": 14,
    "start_time": "2023-01-18T07:37:13.832Z"
   },
   {
    "duration": 33,
    "start_time": "2023-01-18T07:37:13.847Z"
   },
   {
    "duration": 20,
    "start_time": "2023-01-18T07:37:13.883Z"
   },
   {
    "duration": 17,
    "start_time": "2023-01-18T07:37:13.905Z"
   },
   {
    "duration": 29,
    "start_time": "2023-01-18T07:37:13.924Z"
   },
   {
    "duration": 35,
    "start_time": "2023-01-18T07:37:13.955Z"
   },
   {
    "duration": 19,
    "start_time": "2023-01-18T07:37:13.992Z"
   },
   {
    "duration": 36,
    "start_time": "2023-01-18T07:37:14.012Z"
   },
   {
    "duration": 18,
    "start_time": "2023-01-18T07:37:14.050Z"
   },
   {
    "duration": 21,
    "start_time": "2023-01-18T07:37:14.070Z"
   },
   {
    "duration": 16,
    "start_time": "2023-01-18T07:37:14.093Z"
   },
   {
    "duration": 7,
    "start_time": "2023-01-18T07:37:14.112Z"
   },
   {
    "duration": 122,
    "start_time": "2023-01-18T07:37:33.558Z"
   },
   {
    "duration": 169,
    "start_time": "2023-01-18T07:37:55.689Z"
   },
   {
    "duration": 6,
    "start_time": "2023-01-18T07:38:35.427Z"
   },
   {
    "duration": 191,
    "start_time": "2023-01-18T07:41:50.511Z"
   },
   {
    "duration": 174,
    "start_time": "2023-01-18T07:43:01.204Z"
   },
   {
    "duration": 137,
    "start_time": "2023-01-18T07:43:18.220Z"
   },
   {
    "duration": 174,
    "start_time": "2023-01-18T07:44:36.865Z"
   },
   {
    "duration": 124,
    "start_time": "2023-01-18T07:44:43.399Z"
   },
   {
    "duration": 131,
    "start_time": "2023-01-18T07:46:19.878Z"
   },
   {
    "duration": 1376,
    "start_time": "2023-01-18T17:56:07.056Z"
   },
   {
    "duration": 195,
    "start_time": "2023-01-18T17:56:08.435Z"
   },
   {
    "duration": 21,
    "start_time": "2023-01-18T17:56:08.631Z"
   },
   {
    "duration": 19,
    "start_time": "2023-01-18T17:56:08.655Z"
   },
   {
    "duration": 11,
    "start_time": "2023-01-18T17:56:08.676Z"
   },
   {
    "duration": 21,
    "start_time": "2023-01-18T17:56:08.689Z"
   },
   {
    "duration": 27,
    "start_time": "2023-01-18T17:56:08.712Z"
   },
   {
    "duration": 4,
    "start_time": "2023-01-18T17:56:08.741Z"
   },
   {
    "duration": 8,
    "start_time": "2023-01-18T17:56:08.747Z"
   },
   {
    "duration": 19,
    "start_time": "2023-01-18T17:56:08.758Z"
   },
   {
    "duration": 26,
    "start_time": "2023-01-18T17:56:08.779Z"
   },
   {
    "duration": 18,
    "start_time": "2023-01-18T17:56:08.807Z"
   },
   {
    "duration": 22,
    "start_time": "2023-01-18T17:56:08.826Z"
   },
   {
    "duration": 18,
    "start_time": "2023-01-18T17:56:08.850Z"
   },
   {
    "duration": 6,
    "start_time": "2023-01-18T17:56:08.870Z"
   },
   {
    "duration": 14,
    "start_time": "2023-01-18T17:56:08.877Z"
   },
   {
    "duration": 17,
    "start_time": "2023-01-18T17:56:08.892Z"
   },
   {
    "duration": 11,
    "start_time": "2023-01-18T17:56:08.910Z"
   },
   {
    "duration": 28,
    "start_time": "2023-01-18T17:56:08.923Z"
   },
   {
    "duration": 6,
    "start_time": "2023-01-18T17:56:08.952Z"
   },
   {
    "duration": 246,
    "start_time": "2023-01-18T17:56:08.959Z"
   },
   {
    "duration": 16,
    "start_time": "2023-01-18T17:56:09.206Z"
   },
   {
    "duration": 155,
    "start_time": "2023-01-18T17:56:09.223Z"
   },
   {
    "duration": 170,
    "start_time": "2023-01-18T17:56:09.380Z"
   },
   {
    "duration": 149,
    "start_time": "2023-01-18T17:56:09.552Z"
   },
   {
    "duration": 148,
    "start_time": "2023-01-18T17:56:09.703Z"
   },
   {
    "duration": 316,
    "start_time": "2023-01-18T17:56:09.853Z"
   },
   {
    "duration": 271,
    "start_time": "2023-01-18T17:56:10.172Z"
   },
   {
    "duration": 174,
    "start_time": "2023-01-18T17:56:10.445Z"
   },
   {
    "duration": 18,
    "start_time": "2023-01-18T17:56:10.621Z"
   },
   {
    "duration": 291,
    "start_time": "2023-01-18T17:56:10.641Z"
   },
   {
    "duration": 10,
    "start_time": "2023-01-18T17:56:10.935Z"
   },
   {
    "duration": 15,
    "start_time": "2023-01-18T17:56:10.947Z"
   },
   {
    "duration": 14,
    "start_time": "2023-01-18T17:56:10.964Z"
   },
   {
    "duration": 23,
    "start_time": "2023-01-18T17:56:10.980Z"
   },
   {
    "duration": 23,
    "start_time": "2023-01-18T17:56:11.004Z"
   },
   {
    "duration": 27,
    "start_time": "2023-01-18T17:56:11.029Z"
   },
   {
    "duration": 25,
    "start_time": "2023-01-18T17:56:11.058Z"
   },
   {
    "duration": 16,
    "start_time": "2023-01-18T17:56:11.085Z"
   },
   {
    "duration": 47,
    "start_time": "2023-01-18T17:56:11.103Z"
   },
   {
    "duration": 24,
    "start_time": "2023-01-18T17:56:11.151Z"
   },
   {
    "duration": 13,
    "start_time": "2023-01-18T17:56:11.177Z"
   },
   {
    "duration": 14,
    "start_time": "2023-01-18T17:56:11.192Z"
   },
   {
    "duration": 31,
    "start_time": "2023-01-18T17:56:11.208Z"
   },
   {
    "duration": 12,
    "start_time": "2023-01-18T17:56:11.240Z"
   },
   {
    "duration": 18,
    "start_time": "2023-01-18T17:56:11.253Z"
   },
   {
    "duration": 8,
    "start_time": "2023-01-18T17:56:11.273Z"
   },
   {
    "duration": 117,
    "start_time": "2023-01-18T18:03:37.306Z"
   },
   {
    "duration": 10,
    "start_time": "2023-01-18T18:07:50.333Z"
   },
   {
    "duration": 8921,
    "start_time": "2023-01-18T18:08:00.801Z"
   },
   {
    "duration": 144,
    "start_time": "2023-01-18T18:09:29.329Z"
   },
   {
    "duration": 156,
    "start_time": "2023-01-18T18:11:03.409Z"
   },
   {
    "duration": 308,
    "start_time": "2023-01-18T18:11:57.498Z"
   },
   {
    "duration": 324,
    "start_time": "2023-01-18T18:12:56.432Z"
   },
   {
    "duration": 300,
    "start_time": "2023-01-18T18:13:02.091Z"
   },
   {
    "duration": 140,
    "start_time": "2023-01-18T18:16:53.275Z"
   },
   {
    "duration": 290,
    "start_time": "2023-01-18T18:18:54.547Z"
   },
   {
    "duration": 1348,
    "start_time": "2023-01-18T18:38:45.103Z"
   },
   {
    "duration": 3,
    "start_time": "2023-01-18T18:38:59.327Z"
   },
   {
    "duration": 198,
    "start_time": "2023-01-18T18:38:59.331Z"
   },
   {
    "duration": 15,
    "start_time": "2023-01-18T18:38:59.530Z"
   },
   {
    "duration": 17,
    "start_time": "2023-01-18T18:38:59.547Z"
   },
   {
    "duration": 5,
    "start_time": "2023-01-18T18:38:59.565Z"
   },
   {
    "duration": 9,
    "start_time": "2023-01-18T18:38:59.572Z"
   },
   {
    "duration": 7,
    "start_time": "2023-01-18T18:38:59.592Z"
   },
   {
    "duration": 7,
    "start_time": "2023-01-18T18:38:59.600Z"
   },
   {
    "duration": 6,
    "start_time": "2023-01-18T18:38:59.609Z"
   },
   {
    "duration": 8,
    "start_time": "2023-01-18T18:38:59.617Z"
   },
   {
    "duration": 9,
    "start_time": "2023-01-18T18:38:59.626Z"
   },
   {
    "duration": 6,
    "start_time": "2023-01-18T18:38:59.636Z"
   },
   {
    "duration": 6,
    "start_time": "2023-01-18T18:38:59.643Z"
   },
   {
    "duration": 15,
    "start_time": "2023-01-18T18:38:59.651Z"
   },
   {
    "duration": 25,
    "start_time": "2023-01-18T18:38:59.667Z"
   },
   {
    "duration": 5,
    "start_time": "2023-01-18T18:38:59.693Z"
   },
   {
    "duration": 7,
    "start_time": "2023-01-18T18:38:59.700Z"
   },
   {
    "duration": 12,
    "start_time": "2023-01-18T18:38:59.708Z"
   },
   {
    "duration": 18,
    "start_time": "2023-01-18T18:38:59.722Z"
   },
   {
    "duration": 5,
    "start_time": "2023-01-18T18:38:59.741Z"
   },
   {
    "duration": 193,
    "start_time": "2023-01-18T18:38:59.748Z"
   },
   {
    "duration": 17,
    "start_time": "2023-01-18T18:38:59.942Z"
   },
   {
    "duration": 157,
    "start_time": "2023-01-18T18:38:59.960Z"
   },
   {
    "duration": 152,
    "start_time": "2023-01-18T18:39:00.120Z"
   },
   {
    "duration": 149,
    "start_time": "2023-01-18T18:39:00.274Z"
   },
   {
    "duration": 165,
    "start_time": "2023-01-18T18:39:00.425Z"
   },
   {
    "duration": 317,
    "start_time": "2023-01-18T18:39:00.592Z"
   },
   {
    "duration": 286,
    "start_time": "2023-01-18T18:39:00.911Z"
   },
   {
    "duration": 257,
    "start_time": "2023-01-18T18:39:01.199Z"
   },
   {
    "duration": 11,
    "start_time": "2023-01-18T18:39:01.458Z"
   },
   {
    "duration": 259,
    "start_time": "2023-01-18T18:39:01.471Z"
   },
   {
    "duration": 10,
    "start_time": "2023-01-18T18:39:01.732Z"
   },
   {
    "duration": 72,
    "start_time": "2023-01-18T18:39:01.744Z"
   },
   {
    "duration": 98,
    "start_time": "2023-01-18T18:39:01.818Z"
   },
   {
    "duration": 32,
    "start_time": "2023-01-18T18:39:01.918Z"
   },
   {
    "duration": 21,
    "start_time": "2023-01-18T18:39:01.953Z"
   },
   {
    "duration": 49,
    "start_time": "2023-01-18T18:39:01.975Z"
   },
   {
    "duration": 39,
    "start_time": "2023-01-18T18:39:02.025Z"
   },
   {
    "duration": 39,
    "start_time": "2023-01-18T18:39:02.066Z"
   },
   {
    "duration": 39,
    "start_time": "2023-01-18T18:39:02.107Z"
   },
   {
    "duration": 77,
    "start_time": "2023-01-18T18:39:02.148Z"
   },
   {
    "duration": 39,
    "start_time": "2023-01-18T18:39:02.227Z"
   },
   {
    "duration": 73,
    "start_time": "2023-01-18T18:39:02.267Z"
   },
   {
    "duration": 126,
    "start_time": "2023-01-18T18:39:02.341Z"
   },
   {
    "duration": 24,
    "start_time": "2023-01-18T18:39:02.469Z"
   },
   {
    "duration": 12,
    "start_time": "2023-01-18T18:39:02.495Z"
   },
   {
    "duration": 57,
    "start_time": "2023-01-18T18:39:02.508Z"
   },
   {
    "duration": 80,
    "start_time": "2023-01-18T18:39:02.566Z"
   },
   {
    "duration": 104,
    "start_time": "2023-01-18T18:39:53.300Z"
   },
   {
    "duration": 14,
    "start_time": "2023-01-18T18:40:03.725Z"
   },
   {
    "duration": 141,
    "start_time": "2023-01-18T18:50:23.693Z"
   },
   {
    "duration": 155,
    "start_time": "2023-01-18T18:51:35.600Z"
   },
   {
    "duration": 263,
    "start_time": "2023-01-18T18:54:34.822Z"
   },
   {
    "duration": 97,
    "start_time": "2023-01-18T18:56:32.586Z"
   },
   {
    "duration": 145,
    "start_time": "2023-01-18T18:56:54.695Z"
   },
   {
    "duration": 170,
    "start_time": "2023-01-18T18:57:10.393Z"
   },
   {
    "duration": 169,
    "start_time": "2023-01-18T18:57:46.176Z"
   },
   {
    "duration": 168,
    "start_time": "2023-01-18T18:59:11.196Z"
   },
   {
    "duration": 160,
    "start_time": "2023-01-18T19:01:24.550Z"
   },
   {
    "duration": 243,
    "start_time": "2023-01-18T19:01:54.165Z"
   },
   {
    "duration": 170,
    "start_time": "2023-01-18T19:02:55.497Z"
   },
   {
    "duration": 183,
    "start_time": "2023-01-18T19:03:20.322Z"
   },
   {
    "duration": 167,
    "start_time": "2023-01-18T19:03:42.981Z"
   },
   {
    "duration": 3,
    "start_time": "2023-01-18T19:03:57.974Z"
   },
   {
    "duration": 50,
    "start_time": "2023-01-18T19:03:57.978Z"
   },
   {
    "duration": 12,
    "start_time": "2023-01-18T19:03:58.030Z"
   },
   {
    "duration": 15,
    "start_time": "2023-01-18T19:03:58.044Z"
   },
   {
    "duration": 6,
    "start_time": "2023-01-18T19:03:58.061Z"
   },
   {
    "duration": 26,
    "start_time": "2023-01-18T19:03:58.069Z"
   },
   {
    "duration": 7,
    "start_time": "2023-01-18T19:03:58.096Z"
   },
   {
    "duration": 4,
    "start_time": "2023-01-18T19:03:58.104Z"
   },
   {
    "duration": 6,
    "start_time": "2023-01-18T19:03:58.110Z"
   },
   {
    "duration": 7,
    "start_time": "2023-01-18T19:03:58.117Z"
   },
   {
    "duration": 5,
    "start_time": "2023-01-18T19:03:58.126Z"
   },
   {
    "duration": 9,
    "start_time": "2023-01-18T19:03:58.132Z"
   },
   {
    "duration": 6,
    "start_time": "2023-01-18T19:03:58.143Z"
   },
   {
    "duration": 43,
    "start_time": "2023-01-18T19:03:58.150Z"
   },
   {
    "duration": 5,
    "start_time": "2023-01-18T19:03:58.195Z"
   },
   {
    "duration": 7,
    "start_time": "2023-01-18T19:03:58.201Z"
   },
   {
    "duration": 7,
    "start_time": "2023-01-18T19:03:58.209Z"
   },
   {
    "duration": 8,
    "start_time": "2023-01-18T19:03:58.217Z"
   },
   {
    "duration": 18,
    "start_time": "2023-01-18T19:03:58.227Z"
   },
   {
    "duration": 7,
    "start_time": "2023-01-18T19:03:58.246Z"
   },
   {
    "duration": 181,
    "start_time": "2023-01-18T19:03:58.254Z"
   },
   {
    "duration": 14,
    "start_time": "2023-01-18T19:03:58.436Z"
   },
   {
    "duration": 132,
    "start_time": "2023-01-18T19:03:58.451Z"
   },
   {
    "duration": 141,
    "start_time": "2023-01-18T19:03:58.586Z"
   },
   {
    "duration": 139,
    "start_time": "2023-01-18T19:03:58.728Z"
   },
   {
    "duration": 137,
    "start_time": "2023-01-18T19:03:58.870Z"
   },
   {
    "duration": 286,
    "start_time": "2023-01-18T19:03:59.009Z"
   },
   {
    "duration": 356,
    "start_time": "2023-01-18T19:03:59.297Z"
   },
   {
    "duration": 164,
    "start_time": "2023-01-18T19:03:59.655Z"
   },
   {
    "duration": 9,
    "start_time": "2023-01-18T19:03:59.821Z"
   },
   {
    "duration": 174,
    "start_time": "2023-01-18T19:03:59.832Z"
   },
   {
    "duration": 10,
    "start_time": "2023-01-18T19:04:00.008Z"
   },
   {
    "duration": 22,
    "start_time": "2023-01-18T19:04:00.020Z"
   },
   {
    "duration": 23,
    "start_time": "2023-01-18T19:04:00.044Z"
   },
   {
    "duration": 29,
    "start_time": "2023-01-18T19:04:00.069Z"
   },
   {
    "duration": 34,
    "start_time": "2023-01-18T19:04:00.100Z"
   },
   {
    "duration": 194,
    "start_time": "2023-01-18T19:04:00.136Z"
   },
   {
    "duration": 192,
    "start_time": "2023-01-18T19:04:00.332Z"
   },
   {
    "duration": 181,
    "start_time": "2023-01-18T19:04:00.525Z"
   },
   {
    "duration": 181,
    "start_time": "2023-01-18T19:04:00.708Z"
   },
   {
    "duration": 173,
    "start_time": "2023-01-18T19:04:00.891Z"
   },
   {
    "duration": 185,
    "start_time": "2023-01-18T19:04:01.066Z"
   },
   {
    "duration": 193,
    "start_time": "2023-01-18T19:04:01.253Z"
   },
   {
    "duration": 201,
    "start_time": "2023-01-18T19:04:01.448Z"
   },
   {
    "duration": 185,
    "start_time": "2023-01-18T19:04:01.651Z"
   },
   {
    "duration": 12,
    "start_time": "2023-01-18T19:04:01.838Z"
   },
   {
    "duration": 20,
    "start_time": "2023-01-18T19:04:01.852Z"
   },
   {
    "duration": 28,
    "start_time": "2023-01-18T19:04:01.873Z"
   },
   {
    "duration": 123,
    "start_time": "2023-01-18T19:04:50.179Z"
   },
   {
    "duration": 317,
    "start_time": "2023-01-18T19:06:10.329Z"
   },
   {
    "duration": 48,
    "start_time": "2023-01-18T19:06:55.032Z"
   },
   {
    "duration": 288,
    "start_time": "2023-01-18T19:07:25.829Z"
   },
   {
    "duration": 164,
    "start_time": "2023-01-18T19:10:18.008Z"
   },
   {
    "duration": 3,
    "start_time": "2023-01-18T19:10:47.248Z"
   },
   {
    "duration": 165,
    "start_time": "2023-01-18T19:11:29.104Z"
   },
   {
    "duration": 2,
    "start_time": "2023-01-18T19:12:49.654Z"
   },
   {
    "duration": 54,
    "start_time": "2023-01-18T19:12:49.661Z"
   },
   {
    "duration": 14,
    "start_time": "2023-01-18T19:12:49.717Z"
   },
   {
    "duration": 15,
    "start_time": "2023-01-18T19:12:49.733Z"
   },
   {
    "duration": 11,
    "start_time": "2023-01-18T19:12:49.750Z"
   },
   {
    "duration": 37,
    "start_time": "2023-01-18T19:12:49.763Z"
   },
   {
    "duration": 6,
    "start_time": "2023-01-18T19:12:49.802Z"
   },
   {
    "duration": 4,
    "start_time": "2023-01-18T19:12:49.810Z"
   },
   {
    "duration": 10,
    "start_time": "2023-01-18T19:12:49.815Z"
   },
   {
    "duration": 12,
    "start_time": "2023-01-18T19:12:49.826Z"
   },
   {
    "duration": 6,
    "start_time": "2023-01-18T19:12:49.841Z"
   },
   {
    "duration": 7,
    "start_time": "2023-01-18T19:12:49.849Z"
   },
   {
    "duration": 20,
    "start_time": "2023-01-18T19:12:49.858Z"
   },
   {
    "duration": 22,
    "start_time": "2023-01-18T19:12:49.879Z"
   },
   {
    "duration": 9,
    "start_time": "2023-01-18T19:12:49.902Z"
   },
   {
    "duration": 6,
    "start_time": "2023-01-18T19:12:49.913Z"
   },
   {
    "duration": 7,
    "start_time": "2023-01-18T19:12:49.920Z"
   },
   {
    "duration": 7,
    "start_time": "2023-01-18T19:12:49.929Z"
   },
   {
    "duration": 19,
    "start_time": "2023-01-18T19:12:49.937Z"
   },
   {
    "duration": 5,
    "start_time": "2023-01-18T19:12:49.958Z"
   },
   {
    "duration": 166,
    "start_time": "2023-01-18T19:12:49.993Z"
   },
   {
    "duration": 15,
    "start_time": "2023-01-18T19:12:50.161Z"
   },
   {
    "duration": 145,
    "start_time": "2023-01-18T19:12:50.178Z"
   },
   {
    "duration": 152,
    "start_time": "2023-01-18T19:12:50.325Z"
   },
   {
    "duration": 141,
    "start_time": "2023-01-18T19:12:50.478Z"
   },
   {
    "duration": 146,
    "start_time": "2023-01-18T19:12:50.621Z"
   },
   {
    "duration": 269,
    "start_time": "2023-01-18T19:12:50.769Z"
   },
   {
    "duration": 327,
    "start_time": "2023-01-18T19:12:51.040Z"
   },
   {
    "duration": 168,
    "start_time": "2023-01-18T19:12:51.370Z"
   },
   {
    "duration": 9,
    "start_time": "2023-01-18T19:12:51.540Z"
   },
   {
    "duration": 191,
    "start_time": "2023-01-18T19:12:51.550Z"
   },
   {
    "duration": 9,
    "start_time": "2023-01-18T19:12:51.742Z"
   },
   {
    "duration": 12,
    "start_time": "2023-01-18T19:12:51.753Z"
   },
   {
    "duration": 26,
    "start_time": "2023-01-18T19:12:51.767Z"
   },
   {
    "duration": 12,
    "start_time": "2023-01-18T19:12:51.795Z"
   },
   {
    "duration": 13,
    "start_time": "2023-01-18T19:12:51.808Z"
   },
   {
    "duration": 182,
    "start_time": "2023-01-18T19:12:51.823Z"
   },
   {
    "duration": 175,
    "start_time": "2023-01-18T19:12:52.007Z"
   },
   {
    "duration": 164,
    "start_time": "2023-01-18T19:12:52.183Z"
   },
   {
    "duration": 176,
    "start_time": "2023-01-18T19:12:52.349Z"
   },
   {
    "duration": 173,
    "start_time": "2023-01-18T19:12:52.527Z"
   },
   {
    "duration": 165,
    "start_time": "2023-01-18T19:12:52.702Z"
   },
   {
    "duration": 187,
    "start_time": "2023-01-18T19:12:52.869Z"
   },
   {
    "duration": 276,
    "start_time": "2023-01-18T19:12:53.057Z"
   },
   {
    "duration": 163,
    "start_time": "2023-01-18T19:12:53.334Z"
   },
   {
    "duration": 11,
    "start_time": "2023-01-18T19:12:53.499Z"
   },
   {
    "duration": 10,
    "start_time": "2023-01-18T19:12:53.512Z"
   },
   {
    "duration": 6,
    "start_time": "2023-01-18T19:12:53.524Z"
   },
   {
    "duration": 1238,
    "start_time": "2023-01-20T09:06:18.951Z"
   },
   {
    "duration": 224,
    "start_time": "2023-01-20T09:06:20.191Z"
   },
   {
    "duration": 17,
    "start_time": "2023-01-20T09:06:20.417Z"
   },
   {
    "duration": 22,
    "start_time": "2023-01-20T09:06:20.437Z"
   },
   {
    "duration": 6,
    "start_time": "2023-01-20T09:06:20.461Z"
   },
   {
    "duration": 13,
    "start_time": "2023-01-20T09:06:20.468Z"
   },
   {
    "duration": 8,
    "start_time": "2023-01-20T09:06:20.483Z"
   },
   {
    "duration": 6,
    "start_time": "2023-01-20T09:06:20.493Z"
   },
   {
    "duration": 8,
    "start_time": "2023-01-20T09:06:20.501Z"
   },
   {
    "duration": 13,
    "start_time": "2023-01-20T09:06:20.511Z"
   },
   {
    "duration": 4,
    "start_time": "2023-01-20T09:06:20.543Z"
   },
   {
    "duration": 10,
    "start_time": "2023-01-20T09:06:20.549Z"
   },
   {
    "duration": 25,
    "start_time": "2023-01-20T09:06:20.560Z"
   },
   {
    "duration": 26,
    "start_time": "2023-01-20T09:06:20.588Z"
   },
   {
    "duration": 4,
    "start_time": "2023-01-20T09:06:20.616Z"
   },
   {
    "duration": 13,
    "start_time": "2023-01-20T09:06:20.621Z"
   },
   {
    "duration": 16,
    "start_time": "2023-01-20T09:06:20.636Z"
   },
   {
    "duration": 16,
    "start_time": "2023-01-20T09:06:20.653Z"
   },
   {
    "duration": 18,
    "start_time": "2023-01-20T09:06:20.671Z"
   },
   {
    "duration": 5,
    "start_time": "2023-01-20T09:06:20.690Z"
   },
   {
    "duration": 159,
    "start_time": "2023-01-20T09:06:20.696Z"
   },
   {
    "duration": 13,
    "start_time": "2023-01-20T09:06:20.857Z"
   },
   {
    "duration": 137,
    "start_time": "2023-01-20T09:06:20.872Z"
   },
   {
    "duration": 145,
    "start_time": "2023-01-20T09:06:21.011Z"
   },
   {
    "duration": 125,
    "start_time": "2023-01-20T09:06:21.158Z"
   },
   {
    "duration": 134,
    "start_time": "2023-01-20T09:06:21.284Z"
   },
   {
    "duration": 268,
    "start_time": "2023-01-20T09:06:21.420Z"
   },
   {
    "duration": 240,
    "start_time": "2023-01-20T09:06:21.692Z"
   },
   {
    "duration": 167,
    "start_time": "2023-01-20T09:06:21.934Z"
   },
   {
    "duration": 10,
    "start_time": "2023-01-20T09:06:22.102Z"
   },
   {
    "duration": 231,
    "start_time": "2023-01-20T09:06:22.114Z"
   },
   {
    "duration": 9,
    "start_time": "2023-01-20T09:06:22.347Z"
   },
   {
    "duration": 9,
    "start_time": "2023-01-20T09:06:22.357Z"
   },
   {
    "duration": 11,
    "start_time": "2023-01-20T09:06:22.367Z"
   },
   {
    "duration": 16,
    "start_time": "2023-01-20T09:06:22.379Z"
   },
   {
    "duration": 13,
    "start_time": "2023-01-20T09:06:22.396Z"
   },
   {
    "duration": 174,
    "start_time": "2023-01-20T09:06:22.410Z"
   },
   {
    "duration": 160,
    "start_time": "2023-01-20T09:06:22.586Z"
   },
   {
    "duration": 165,
    "start_time": "2023-01-20T09:06:22.747Z"
   },
   {
    "duration": 165,
    "start_time": "2023-01-20T09:06:22.913Z"
   },
   {
    "duration": 160,
    "start_time": "2023-01-20T09:06:23.079Z"
   },
   {
    "duration": 164,
    "start_time": "2023-01-20T09:06:23.244Z"
   },
   {
    "duration": 174,
    "start_time": "2023-01-20T09:06:23.410Z"
   },
   {
    "duration": 168,
    "start_time": "2023-01-20T09:06:23.586Z"
   },
   {
    "duration": 165,
    "start_time": "2023-01-20T09:06:23.756Z"
   },
   {
    "duration": 21,
    "start_time": "2023-01-20T09:06:23.923Z"
   },
   {
    "duration": 11,
    "start_time": "2023-01-20T09:06:23.946Z"
   },
   {
    "duration": 6,
    "start_time": "2023-01-20T09:06:23.958Z"
   }
  ],
  "kernelspec": {
   "display_name": "Python 3 (ipykernel)",
   "language": "python",
   "name": "python3"
  },
  "language_info": {
   "codemirror_mode": {
    "name": "ipython",
    "version": 3
   },
   "file_extension": ".py",
   "mimetype": "text/x-python",
   "name": "python",
   "nbconvert_exporter": "python",
   "pygments_lexer": "ipython3",
   "version": "3.10.4"
  },
  "toc": {
   "base_numbering": 1,
   "nav_menu": {},
   "number_sections": true,
   "sideBar": true,
   "skip_h1_title": true,
   "title_cell": "Table of Contents",
   "title_sidebar": "Contents",
   "toc_cell": false,
   "toc_position": {},
   "toc_section_display": true,
   "toc_window_display": true
  }
 },
 "nbformat": 4,
 "nbformat_minor": 2
}
