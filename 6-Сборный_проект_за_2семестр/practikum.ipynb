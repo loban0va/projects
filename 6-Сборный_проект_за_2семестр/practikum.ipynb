{
 "cells": [
  {
   "cell_type": "markdown",
   "metadata": {},
   "source": [
    "# Сборный проект-2"
   ]
  },
  {
   "cell_type": "markdown",
   "metadata": {},
   "source": [
    "**Описание проекта:**\n",
    "\n",
    "Вы работаете в стартапе, который продаёт продукты питания. Нужно разобраться, как ведут себя пользователи вашего мобильного приложения.\n",
    "\n",
    "Изучите воронку продаж. Узнайте, как пользователи доходят до покупки. Сколько пользователей доходит до покупки, а сколько — «застревает» на предыдущих шагах? На каких именно?\n",
    "\n",
    "После этого исследуйте результаты A/A/B-эксперимента. Дизайнеры захотели поменять шрифты во всём приложении, а менеджеры испугались, что пользователям будет непривычно. Договорились принять решение по результатам A/A/B-теста. Пользователей разбили на 3 группы: 2 контрольные со старыми шрифтами и одну экспериментальную — с новыми. Выясните, какой шрифт лучше.\n",
    "\n",
    "Создание двух групп A вместо одной имеет определённые преимущества. Если две контрольные группы окажутся равны, вы можете быть уверены в точности проведенного тестирования. Если же между значениями A и A будут существенные различия, это поможет обнаружить факторы, которые привели к искажению результатов. Сравнение контрольных групп также помогает понять, сколько времени и данных потребуется для дальнейших тестов.\n",
    "\n",
    "В случае общей аналитики и A/A/B-эксперимента работайте с одними и теми же данными. В реальных проектах всегда идут эксперименты. Аналитики исследуют качество работы приложения по общим данным, не учитывая принадлежность пользователей к экспериментам."
   ]
  },
  {
   "cell_type": "markdown",
   "metadata": {},
   "source": [
    "**Описание данных:**\n",
    "\n",
    "_**Каждая запись в логе — это действие пользователя, или событие.**_\n",
    "\n",
    "_**EventName**_ — название события;\n",
    "\n",
    "_**DeviceIDHash**_ — уникальный идентификатор пользователя;\n",
    "\n",
    "_**EventTimestamp**_ — время события;\n",
    "\n",
    "_**ExpId**_ — номер эксперимента: _246 и 247 — контрольные группы, а 248 — экспериментальная._"
   ]
  },
  {
   "cell_type": "markdown",
   "metadata": {},
   "source": [
    "    План работы:\n",
    "    \n",
    "    1) Предобработка данных\n",
    "    \n",
    "    2) Проверка данных\n",
    "    \n",
    "    3) Изучение воронки событий\n",
    "    \n",
    "    4) Анализ результатов эксперимента."
   ]
  },
  {
   "cell_type": "markdown",
   "metadata": {},
   "source": [
    "## Предобработка данных\n",
    "\n",
    "    Откройте файл с данными и изучите общую информацию;\n",
    "    Замените названия столбцов на удобные для вас;\n",
    "    Проверьте пропуски и типы данных. Откорректируйте, если нужно;\n",
    "    Добавьте столбец даты и времени, а также отдельный столбец дат"
   ]
  },
  {
   "cell_type": "code",
   "execution_count": 1,
   "metadata": {},
   "outputs": [],
   "source": [
    "# используемые библиотеки\n",
    "\n",
    "import os\n",
    "from pathlib import Path\n",
    "import pandas as pd\n",
    "import datetime as dt\n",
    "import seaborn as sns\n",
    "import math\n",
    "from scipy import stats as st\n",
    "import plotly.graph_objects as go\n",
    "import matplotlib.pyplot as plt\n",
    "plt.rcParams['figure.figsize'] = (10, 5)"
   ]
  },
  {
   "cell_type": "code",
   "execution_count": 2,
   "metadata": {},
   "outputs": [],
   "source": [
    "ROOT_DIR = Path(os.path.abspath(\"__file__\")).parent.parent"
   ]
  },
  {
   "cell_type": "code",
   "execution_count": 3,
   "metadata": {},
   "outputs": [],
   "source": [
    "data = pd.read_csv(ROOT_DIR / 'datasets/logs_exp.csv', sep='\\t')"
   ]
  },
  {
   "cell_type": "code",
   "execution_count": 4,
   "metadata": {},
   "outputs": [
    {
     "data": {
      "text/html": [
       "<div>\n",
       "<style scoped>\n",
       "    .dataframe tbody tr th:only-of-type {\n",
       "        vertical-align: middle;\n",
       "    }\n",
       "\n",
       "    .dataframe tbody tr th {\n",
       "        vertical-align: top;\n",
       "    }\n",
       "\n",
       "    .dataframe thead th {\n",
       "        text-align: right;\n",
       "    }\n",
       "</style>\n",
       "<table border=\"1\" class=\"dataframe\">\n",
       "  <thead>\n",
       "    <tr style=\"text-align: right;\">\n",
       "      <th></th>\n",
       "      <th>EventName</th>\n",
       "      <th>DeviceIDHash</th>\n",
       "      <th>EventTimestamp</th>\n",
       "      <th>ExpId</th>\n",
       "    </tr>\n",
       "  </thead>\n",
       "  <tbody>\n",
       "    <tr>\n",
       "      <th>0</th>\n",
       "      <td>MainScreenAppear</td>\n",
       "      <td>4575588528974610257</td>\n",
       "      <td>1564029816</td>\n",
       "      <td>246</td>\n",
       "    </tr>\n",
       "    <tr>\n",
       "      <th>1</th>\n",
       "      <td>MainScreenAppear</td>\n",
       "      <td>7416695313311560658</td>\n",
       "      <td>1564053102</td>\n",
       "      <td>246</td>\n",
       "    </tr>\n",
       "    <tr>\n",
       "      <th>2</th>\n",
       "      <td>PaymentScreenSuccessful</td>\n",
       "      <td>3518123091307005509</td>\n",
       "      <td>1564054127</td>\n",
       "      <td>248</td>\n",
       "    </tr>\n",
       "    <tr>\n",
       "      <th>3</th>\n",
       "      <td>CartScreenAppear</td>\n",
       "      <td>3518123091307005509</td>\n",
       "      <td>1564054127</td>\n",
       "      <td>248</td>\n",
       "    </tr>\n",
       "    <tr>\n",
       "      <th>4</th>\n",
       "      <td>PaymentScreenSuccessful</td>\n",
       "      <td>6217807653094995999</td>\n",
       "      <td>1564055322</td>\n",
       "      <td>248</td>\n",
       "    </tr>\n",
       "  </tbody>\n",
       "</table>\n",
       "</div>"
      ],
      "text/plain": [
       "                 EventName         DeviceIDHash  EventTimestamp  ExpId\n",
       "0         MainScreenAppear  4575588528974610257      1564029816    246\n",
       "1         MainScreenAppear  7416695313311560658      1564053102    246\n",
       "2  PaymentScreenSuccessful  3518123091307005509      1564054127    248\n",
       "3         CartScreenAppear  3518123091307005509      1564054127    248\n",
       "4  PaymentScreenSuccessful  6217807653094995999      1564055322    248"
      ]
     },
     "execution_count": 4,
     "metadata": {},
     "output_type": "execute_result"
    }
   ],
   "source": [
    "data.head()"
   ]
  },
  {
   "cell_type": "code",
   "execution_count": 5,
   "metadata": {},
   "outputs": [
    {
     "name": "stdout",
     "output_type": "stream",
     "text": [
      "<class 'pandas.core.frame.DataFrame'>\n",
      "RangeIndex: 244126 entries, 0 to 244125\n",
      "Data columns (total 4 columns):\n",
      " #   Column      Non-Null Count   Dtype \n",
      "---  ------      --------------   ----- \n",
      " 0   event_name  244126 non-null  object\n",
      " 1   user_id     244126 non-null  int64 \n",
      " 2   timestamp   244126 non-null  int64 \n",
      " 3   group       244126 non-null  int64 \n",
      "dtypes: int64(3), object(1)\n",
      "memory usage: 7.5+ MB\n"
     ]
    }
   ],
   "source": [
    "# переименование названий столбцов:\n",
    "\n",
    "data.columns = ['event_name', 'user_id', 'timestamp', 'group']\n",
    "data.info()"
   ]
  },
  {
   "cell_type": "code",
   "execution_count": 6,
   "metadata": {},
   "outputs": [
    {
     "data": {
      "text/plain": [
       "event_name    0\n",
       "user_id       0\n",
       "timestamp     0\n",
       "group         0\n",
       "dtype: int64"
      ]
     },
     "execution_count": 6,
     "metadata": {},
     "output_type": "execute_result"
    }
   ],
   "source": [
    "# поиск пропусков:\n",
    "\n",
    "data.isna().sum()"
   ]
  },
  {
   "cell_type": "code",
   "execution_count": 7,
   "metadata": {},
   "outputs": [
    {
     "name": "stdout",
     "output_type": "stream",
     "text": [
      "<class 'pandas.core.frame.DataFrame'>\n",
      "RangeIndex: 244126 entries, 0 to 244125\n",
      "Data columns (total 6 columns):\n",
      " #   Column      Non-Null Count   Dtype         \n",
      "---  ------      --------------   -----         \n",
      " 0   event_name  244126 non-null  object        \n",
      " 1   user_id     244126 non-null  int64         \n",
      " 2   timestamp   244126 non-null  int64         \n",
      " 3   group       244126 non-null  int64         \n",
      " 4   datetime    244126 non-null  datetime64[ns]\n",
      " 5   date        244126 non-null  datetime64[ns]\n",
      "dtypes: datetime64[ns](2), int64(3), object(1)\n",
      "memory usage: 11.2+ MB\n"
     ]
    }
   ],
   "source": [
    "# создание столбцов с датой:\n",
    "\n",
    "data['datetime'] = pd.to_datetime(data['timestamp'], unit='s')\n",
    "data['date'] = data['datetime'].dt.date.astype('datetime64')\n",
    "data.info()"
   ]
  },
  {
   "cell_type": "code",
   "execution_count": 8,
   "metadata": {},
   "outputs": [
    {
     "data": {
      "text/plain": [
       "413"
      ]
     },
     "metadata": {},
     "output_type": "display_data"
    }
   ],
   "source": [
    "# дубликаты:\n",
    "\n",
    "display(data.duplicated(['event_name', 'user_id', 'timestamp', 'group', 'datetime', 'date']).sum())"
   ]
  },
  {
   "cell_type": "code",
   "execution_count": 9,
   "metadata": {},
   "outputs": [
    {
     "data": {
      "text/plain": [
       "0"
      ]
     },
     "metadata": {},
     "output_type": "display_data"
    }
   ],
   "source": [
    "# удаляем дубликаты:\n",
    "\n",
    "data = data.drop_duplicates()\n",
    "display(data.duplicated(['event_name', 'user_id', 'timestamp', 'group', 'datetime', 'date']).sum())"
   ]
  },
  {
   "cell_type": "markdown",
   "metadata": {},
   "source": [
    "### Подытог:\n",
    "    Добавлено 2 новых столбца с датами, типы данных корректны, пропуски не обнаружены, дубликаты удалены.\n",
    "    Отредактированы названия столбцов."
   ]
  },
  {
   "cell_type": "markdown",
   "metadata": {},
   "source": [
    "## Проверка данных\n",
    "    1) Сколько всего событий в логе?\n",
    "    2) Сколько всего пользователей в логе?\n",
    "    3) Сколько в среднем событий приходится на пользователя?\n",
    "    4) Данными за какой период вы располагаете? Найдите максимальную и минимальную дату. Постройте гистограмму по дате и времени. Можно ли быть уверенным, что у вас одинаково полные данные за весь период? Технически в логи новых дней по некоторым пользователям могут «доезжать» события из прошлого — это может «перекашивать данные». Определите, с какого момента данные полные и отбросьте более старые. Данными за какой период времени вы располагаете на самом деле?\n",
    "    5) Много ли событий и пользователей вы потеряли, отбросив старые данные?\n",
    "    6) Проверьте, что у вас есть пользователи из всех трёх экспериментальных групп."
   ]
  },
  {
   "cell_type": "code",
   "execution_count": 10,
   "metadata": {},
   "outputs": [
    {
     "data": {
      "text/plain": [
       "MainScreenAppear           119101\n",
       "OffersScreenAppear          46808\n",
       "CartScreenAppear            42668\n",
       "PaymentScreenSuccessful     34118\n",
       "Tutorial                     1018\n",
       "Name: event_name, dtype: int64"
      ]
     },
     "metadata": {},
     "output_type": "display_data"
    },
    {
     "name": "stdout",
     "output_type": "stream",
     "text": [
      "Всего событий 243713\n"
     ]
    }
   ],
   "source": [
    "# событий в логе:\n",
    "\n",
    "display(data['event_name'].value_counts())\n",
    "event_cnt = data['event_name'].count()\n",
    "print('Всего событий', event_cnt)"
   ]
  },
  {
   "cell_type": "code",
   "execution_count": 11,
   "metadata": {},
   "outputs": [
    {
     "name": "stdout",
     "output_type": "stream",
     "text": [
      "Всего пользователей 7551\n"
     ]
    }
   ],
   "source": [
    "# пользователей в логе:\n",
    "\n",
    "user_cnt = data['user_id'].nunique()\n",
    "print('Всего пользователей', user_cnt)"
   ]
  },
  {
   "cell_type": "code",
   "execution_count": 12,
   "metadata": {},
   "outputs": [
    {
     "name": "stdout",
     "output_type": "stream",
     "text": [
      "В среднем событий приходится на пользователя 20.0\n"
     ]
    }
   ],
   "source": [
    "# в среднем на пользователя приходится событий:\n",
    "\n",
    "users_event = data.groupby('user_id')['event_name'].count().median()\n",
    "print('В среднем событий приходится на пользователя', users_event)"
   ]
  },
  {
   "cell_type": "code",
   "execution_count": 13,
   "metadata": {},
   "outputs": [
    {
     "name": "stdout",
     "output_type": "stream",
     "text": [
      "Данные предоставлены с 2019-07-25 00:00:00 по 2019-08-07 00:00:00\n"
     ]
    }
   ],
   "source": [
    "# данными за какой период вы располагаете?\n",
    "\n",
    "print(f\"Данные предоставлены с {data['date'].min()} по {data['date'].max()}\")"
   ]
  },
  {
   "cell_type": "code",
   "execution_count": 14,
   "metadata": {},
   "outputs": [
    {
     "data": {
      "image/png": "[encoded data removed]",
      "text/plain": [
       "<Figure size 1000x500 with 1 Axes>"
      ]
     },
     "metadata": {},
     "output_type": "display_data"
    }
   ],
   "source": [
    "# гистограмма по дате и времени:\n",
    "\n",
    "plt.hist(data['date'], bins=10)\n",
    "plt.title('События по времени')\n",
    "plt.xlabel('Даты')\n",
    "plt.ylabel('Количество событий')\n",
    "plt.xticks(rotation='vertical')\n",
    "plt.grid()\n",
    "plt.show()"
   ]
  },
  {
   "cell_type": "markdown",
   "metadata": {},
   "source": [
    "**Пока видим существенное количество событий только в августе, рассмотрим данные подробнее:**"
   ]
  },
  {
   "cell_type": "code",
   "execution_count": 15,
   "metadata": {},
   "outputs": [
    {
     "data": {
      "image/png": "[encoded data removed]",
      "text/plain": [
       "<Figure size 1000x500 with 1 Axes>"
      ]
     },
     "metadata": {},
     "output_type": "display_data"
    }
   ],
   "source": [
    "plt.hist(data['datetime'], bins=10, range=('2019-07-31 17:00:00', '2019-08-01 07:00:00'))\n",
    "plt.xlabel('Временной интервал')\n",
    "plt.ylabel('Количество событий')\n",
    "plt.title('Распределение событий по времени')\n",
    "plt.grid()\n",
    "plt.show()"
   ]
  },
  {
   "cell_type": "markdown",
   "metadata": {},
   "source": [
    "**Можем зафиксировать возврастание количества событий с 21:00 31 июля, возможно, был рекламный запуск**\n",
    "\n",
    "    Будем считать, что реальные данные с вечера 31 июля по 7 августа.\n",
    "    Всё, что до, не будет приниматься к анализу - удалим:"
   ]
  },
  {
   "cell_type": "code",
   "execution_count": 16,
   "metadata": {},
   "outputs": [
    {
     "data": {
      "text/html": [
       "<div>\n",
       "<style scoped>\n",
       "    .dataframe tbody tr th:only-of-type {\n",
       "        vertical-align: middle;\n",
       "    }\n",
       "\n",
       "    .dataframe tbody tr th {\n",
       "        vertical-align: top;\n",
       "    }\n",
       "\n",
       "    .dataframe thead th {\n",
       "        text-align: right;\n",
       "    }\n",
       "</style>\n",
       "<table border=\"1\" class=\"dataframe\">\n",
       "  <thead>\n",
       "    <tr style=\"text-align: right;\">\n",
       "      <th></th>\n",
       "      <th>event_name</th>\n",
       "      <th>user_id</th>\n",
       "      <th>timestamp</th>\n",
       "      <th>group</th>\n",
       "      <th>datetime</th>\n",
       "      <th>date</th>\n",
       "    </tr>\n",
       "  </thead>\n",
       "  <tbody>\n",
       "    <tr>\n",
       "      <th>0</th>\n",
       "      <td>MainScreenAppear</td>\n",
       "      <td>7701922487875823903</td>\n",
       "      <td>1564606857</td>\n",
       "      <td>247</td>\n",
       "      <td>2019-07-31 21:00:57</td>\n",
       "      <td>2019-07-31</td>\n",
       "    </tr>\n",
       "    <tr>\n",
       "      <th>1</th>\n",
       "      <td>MainScreenAppear</td>\n",
       "      <td>2539077412200498909</td>\n",
       "      <td>1564606905</td>\n",
       "      <td>247</td>\n",
       "      <td>2019-07-31 21:01:45</td>\n",
       "      <td>2019-07-31</td>\n",
       "    </tr>\n",
       "    <tr>\n",
       "      <th>2</th>\n",
       "      <td>OffersScreenAppear</td>\n",
       "      <td>3286987355161301427</td>\n",
       "      <td>1564606941</td>\n",
       "      <td>248</td>\n",
       "      <td>2019-07-31 21:02:21</td>\n",
       "      <td>2019-07-31</td>\n",
       "    </tr>\n",
       "    <tr>\n",
       "      <th>3</th>\n",
       "      <td>OffersScreenAppear</td>\n",
       "      <td>3187166762535343300</td>\n",
       "      <td>1564606943</td>\n",
       "      <td>247</td>\n",
       "      <td>2019-07-31 21:02:23</td>\n",
       "      <td>2019-07-31</td>\n",
       "    </tr>\n",
       "    <tr>\n",
       "      <th>4</th>\n",
       "      <td>MainScreenAppear</td>\n",
       "      <td>1118952406011435924</td>\n",
       "      <td>1564607005</td>\n",
       "      <td>248</td>\n",
       "      <td>2019-07-31 21:03:25</td>\n",
       "      <td>2019-07-31</td>\n",
       "    </tr>\n",
       "    <tr>\n",
       "      <th>...</th>\n",
       "      <td>...</td>\n",
       "      <td>...</td>\n",
       "      <td>...</td>\n",
       "      <td>...</td>\n",
       "      <td>...</td>\n",
       "      <td>...</td>\n",
       "    </tr>\n",
       "    <tr>\n",
       "      <th>241719</th>\n",
       "      <td>MainScreenAppear</td>\n",
       "      <td>4599628364049201812</td>\n",
       "      <td>1565212345</td>\n",
       "      <td>247</td>\n",
       "      <td>2019-08-07 21:12:25</td>\n",
       "      <td>2019-08-07</td>\n",
       "    </tr>\n",
       "    <tr>\n",
       "      <th>241720</th>\n",
       "      <td>MainScreenAppear</td>\n",
       "      <td>5849806612437486590</td>\n",
       "      <td>1565212439</td>\n",
       "      <td>246</td>\n",
       "      <td>2019-08-07 21:13:59</td>\n",
       "      <td>2019-08-07</td>\n",
       "    </tr>\n",
       "    <tr>\n",
       "      <th>241721</th>\n",
       "      <td>MainScreenAppear</td>\n",
       "      <td>5746969938801999050</td>\n",
       "      <td>1565212483</td>\n",
       "      <td>246</td>\n",
       "      <td>2019-08-07 21:14:43</td>\n",
       "      <td>2019-08-07</td>\n",
       "    </tr>\n",
       "    <tr>\n",
       "      <th>241722</th>\n",
       "      <td>MainScreenAppear</td>\n",
       "      <td>5746969938801999050</td>\n",
       "      <td>1565212498</td>\n",
       "      <td>246</td>\n",
       "      <td>2019-08-07 21:14:58</td>\n",
       "      <td>2019-08-07</td>\n",
       "    </tr>\n",
       "    <tr>\n",
       "      <th>241723</th>\n",
       "      <td>OffersScreenAppear</td>\n",
       "      <td>5746969938801999050</td>\n",
       "      <td>1565212517</td>\n",
       "      <td>246</td>\n",
       "      <td>2019-08-07 21:15:17</td>\n",
       "      <td>2019-08-07</td>\n",
       "    </tr>\n",
       "  </tbody>\n",
       "</table>\n",
       "<p>241724 rows × 6 columns</p>\n",
       "</div>"
      ],
      "text/plain": [
       "                event_name              user_id   timestamp  group  \\\n",
       "0         MainScreenAppear  7701922487875823903  1564606857    247   \n",
       "1         MainScreenAppear  2539077412200498909  1564606905    247   \n",
       "2       OffersScreenAppear  3286987355161301427  1564606941    248   \n",
       "3       OffersScreenAppear  3187166762535343300  1564606943    247   \n",
       "4         MainScreenAppear  1118952406011435924  1564607005    248   \n",
       "...                    ...                  ...         ...    ...   \n",
       "241719    MainScreenAppear  4599628364049201812  1565212345    247   \n",
       "241720    MainScreenAppear  5849806612437486590  1565212439    246   \n",
       "241721    MainScreenAppear  5746969938801999050  1565212483    246   \n",
       "241722    MainScreenAppear  5746969938801999050  1565212498    246   \n",
       "241723  OffersScreenAppear  5746969938801999050  1565212517    246   \n",
       "\n",
       "                  datetime       date  \n",
       "0      2019-07-31 21:00:57 2019-07-31  \n",
       "1      2019-07-31 21:01:45 2019-07-31  \n",
       "2      2019-07-31 21:02:21 2019-07-31  \n",
       "3      2019-07-31 21:02:23 2019-07-31  \n",
       "4      2019-07-31 21:03:25 2019-07-31  \n",
       "...                    ...        ...  \n",
       "241719 2019-08-07 21:12:25 2019-08-07  \n",
       "241720 2019-08-07 21:13:59 2019-08-07  \n",
       "241721 2019-08-07 21:14:43 2019-08-07  \n",
       "241722 2019-08-07 21:14:58 2019-08-07  \n",
       "241723 2019-08-07 21:15:17 2019-08-07  \n",
       "\n",
       "[241724 rows x 6 columns]"
      ]
     },
     "execution_count": 16,
     "metadata": {},
     "output_type": "execute_result"
    }
   ],
   "source": [
    "data = data[data['datetime'] > '2019-07-31 21:00:00'].reset_index(drop=True)\n",
    "data.sort_values(by='datetime')"
   ]
  },
  {
   "cell_type": "code",
   "execution_count": 17,
   "metadata": {},
   "outputs": [
    {
     "name": "stdout",
     "output_type": "stream",
     "text": [
      "До среза было пользователей 7551, сейчас их 7538. Потери составили 0.17% это 13 пользователей\n",
      "До среза было событий 243713, сейчас их 241724. Потери составили 0.82% это 1989 событий\n"
     ]
    }
   ],
   "source": [
    "# Много ли событий и пользователей утеряны после отсева старых данных?\n",
    "\n",
    "new_user_cnt = data['user_id'].nunique()\n",
    "print(f'До среза было пользователей {user_cnt}, сейчас их {new_user_cnt}. Потери составили {round((user_cnt - new_user_cnt) / user_cnt * 100, 2)}% это {user_cnt - new_user_cnt} пользователей')\n",
    "\n",
    "new_event_cnt = data['event_name'].count()\n",
    "print(f'До среза было событий {event_cnt}, сейчас их {new_event_cnt}. Потери составили {round((event_cnt - new_event_cnt) / event_cnt * 100, 2)}% это {event_cnt - new_event_cnt} событий')"
   ]
  },
  {
   "cell_type": "markdown",
   "metadata": {},
   "source": [
    "**Мы не взяли во внимание менее 1% событий от 13 пользователей, что будем считать незначительными потерями.**"
   ]
  },
  {
   "cell_type": "code",
   "execution_count": 18,
   "metadata": {},
   "outputs": [
    {
     "data": {
      "text/plain": [
       "group\n",
       "246    2484\n",
       "247    2517\n",
       "248    2537\n",
       "Name: user_id, dtype: int64"
      ]
     },
     "execution_count": 18,
     "metadata": {},
     "output_type": "execute_result"
    }
   ],
   "source": [
    "# Проверьте, что у вас есть пользователи из всех трёх экспериментальных групп\n",
    "\n",
    "data.groupby('group')['user_id'].nunique()"
   ]
  },
  {
   "cell_type": "markdown",
   "metadata": {},
   "source": [
    "**Пользователи присутствуют во всех группах теста и их количество приблизительно одно.**"
   ]
  },
  {
   "cell_type": "markdown",
   "metadata": {},
   "source": [
    "### Подытог:\n",
    "    При проверке данных мы узнали, что изначально в таблице было 243’713 событий от 7’551 пользователя, а в среднем на одного пользователя приходилось 20 событий.\n",
    "    \n",
    "    Далее мы выявили, что к анализу допустим период с 31 июля с 21:00 по 7 августа. Мы не взяли во внимание данные с 25 июля по 31 июля до 21:00, что привело к незначительным потерям событий — 0.82%.\n",
    "    \n",
    "    В каждой группе около 2’500 пользователей."
   ]
  },
  {
   "cell_type": "markdown",
   "metadata": {},
   "source": [
    "## Изучение воронки событий"
   ]
  },
  {
   "cell_type": "markdown",
   "metadata": {},
   "source": [
    "    1) Посмотрите, какие события есть в логах, как часто они встречаются. Отсортируйте события по частоте.\n",
    "    2) Посчитайте, сколько пользователей совершали каждое из этих событий. Отсортируйте события по числу пользователей. Посчитайте долю пользователей, которые хоть раз совершали событие.\n",
    "    3) Предположите, в каком порядке происходят события. Все ли они выстраиваются в последовательную цепочку? Их не нужно учитывать при расчёте воронки.\n",
    "    4) По воронке событий посчитайте, какая доля пользователей проходит на следующий шаг воронки (от числа пользователей на предыдущем). То есть для последовательности событий A → B → C посчитайте отношение числа пользователей с событием B к количеству пользователей с событием A, а также отношение числа пользователей с событием C к количеству пользователей с событием B.\n",
    "    5) На каком шаге теряете больше всего пользователей?\n",
    "    6) Какая доля пользователей доходит от первого события до оплаты?"
   ]
  },
  {
   "cell_type": "code",
   "execution_count": 19,
   "metadata": {},
   "outputs": [
    {
     "data": {
      "text/plain": [
       "MainScreenAppear           117889\n",
       "OffersScreenAppear          46531\n",
       "CartScreenAppear            42343\n",
       "PaymentScreenSuccessful     33951\n",
       "Tutorial                     1010\n",
       "Name: event_name, dtype: int64"
      ]
     },
     "execution_count": 19,
     "metadata": {},
     "output_type": "execute_result"
    }
   ],
   "source": [
    "# события в логах по частоте:\n",
    "\n",
    "data['event_name'].value_counts()"
   ]
  },
  {
   "cell_type": "markdown",
   "metadata": {},
   "source": [
    "**_Самое часто событие -_ Появление главного экрана, далее: Появление экрана предложений, Появление экрана корзины, Экран оплаты пройден успешно и Руководство.**"
   ]
  },
  {
   "cell_type": "code",
   "execution_count": 20,
   "metadata": {},
   "outputs": [],
   "source": [
    "# сколько пользователей совершали каждое из этих событий:\n",
    "\n",
    "events_user = data.groupby('event_name').agg({'event_name':'count', 'user_id':'nunique'}).sort_values(by='user_id', ascending=False)\n",
    "events_user.columns = ['count_events', 'users']\n",
    "events_user['users_part_events (%)'] = (events_user['users'] / new_user_cnt * 100).round(1)\n",
    "events_user.reset_index(inplace=True)"
   ]
  },
  {
   "cell_type": "markdown",
   "metadata": {},
   "source": [
    "**Практически все пользователи хотя бы раз открывали _главный экран - их 98.5%_**\n",
    "\n",
    "    экран предложений - 61%\n",
    "    экран корзины - 49.6%\n",
    "    экран оплаты - 47%\n",
    "    руководство - 11.2%."
   ]
  },
  {
   "cell_type": "code",
   "execution_count": 21,
   "metadata": {},
   "outputs": [
    {
     "data": {
      "image/png": "[encoded data removed]",
      "text/plain": [
       "<Figure size 1476.38x700 with 1 Axes>"
      ]
     },
     "metadata": {},
     "output_type": "display_data"
    }
   ],
   "source": [
    "# визуализируем данные с разбивкой по группам:\n",
    "\n",
    "events_bygroup = data.groupby(['event_name', 'group']).agg({'event_name':'count', 'user_id':'nunique'})\n",
    "events_bygroup.columns = ['count_events', 'users']\n",
    "\n",
    "group246 = data[data['group']==246]['user_id'].nunique()\n",
    "group247 = data[data['group']==247]['user_id'].nunique()\n",
    "group248 = data[data['group']==248]['user_id'].nunique()\n",
    "\n",
    "def users_part_group(row):\n",
    "    if row['group']==246:\n",
    "        return (row['users']/group246 * 100)\n",
    "    elif row['group']==247:\n",
    "        return (row['users']/group247 * 100)\n",
    "    elif row['group']==248:\n",
    "        return (row['users']/group248 * 100)\n",
    "events_bygroup.reset_index(inplace=True)\n",
    "events_bygroup['users_part_event'] = events_bygroup.apply(users_part_group, axis=1)\n",
    "events_bygroup['users_part_event'] = events_bygroup['users_part_event'].round()\n",
    "events_bygroup.sort_values(by=['group', 'users'], ascending=False)\n",
    "\n",
    "order = events_user['event_name']\n",
    "sns.catplot(x='users_part_event', y='event_name', hue='group', order=order, data=events_bygroup, kind='bar', height=7, aspect=2.0)\n",
    "plt.xlabel('Доля пользователей (%)')\n",
    "plt.ylabel('События')\n",
    "plt.title('Доли пользователей, которые совершали хотя бы одно событие по группам')\n",
    "plt.show()"
   ]
  },
  {
   "cell_type": "markdown",
   "metadata": {},
   "source": [
    "**Надлюдается равномерное распределение количеств событий среди трёх групп.**\n",
    "\n",
    "Порядок совершения событий:\n",
    "\n",
    "    1) при открытии приложения пользователь оказывается на Главной странице,\n",
    "    2) затем переходит в Предложения,\n",
    "    3) в Корзину,\n",
    "    4) далее Оплата\n",
    "    5) и, если нужно, раздел обучения."
   ]
  },
  {
   "cell_type": "code",
   "execution_count": 22,
   "metadata": {},
   "outputs": [
    {
     "data": {
      "text/plain": [
       "event_name\n",
       "MainScreenAppear           7423\n",
       "OffersScreenAppear         4597\n",
       "CartScreenAppear           3736\n",
       "PaymentScreenSuccessful    3540\n",
       "Tutorial                    843\n",
       "Name: user_id, dtype: int64"
      ]
     },
     "metadata": {},
     "output_type": "display_data"
    },
    {
     "data": {
      "text/plain": [
       "[7423, 4597, 3736, 3540, 843]"
      ]
     },
     "execution_count": 22,
     "metadata": {},
     "output_type": "execute_result"
    }
   ],
   "source": [
    "# По воронке событий посчитайте, какая доля пользователей проходит на следующий шаг воронки (от числа пользователей на предыдущем).\n",
    "\n",
    "display(data.groupby('event_name')['user_id'].nunique().sort_values(ascending=False))\n",
    "data_group = data.groupby('event_name')['user_id'].nunique().sort_values(ascending=False).to_list()\n",
    "data_group"
   ]
  },
  {
   "cell_type": "code",
   "execution_count": 23,
   "metadata": {},
   "outputs": [
    {
     "name": "stdout",
     "output_type": "stream",
     "text": [
      "Доля пользователей, зашедших в \"Tutorial\": 0.04%\n"
     ]
    }
   ],
   "source": [
    "print(f'Доля пользователей, зашедших в \"Tutorial\": {round((data_group[4]/(data_group[0]+data_group[1]+data_group[2]+data_group[3])), 2)}%')"
   ]
  },
  {
   "cell_type": "markdown",
   "metadata": {},
   "source": [
    "**Неясно, какую пользу можно извлечь из события \"Tutorial\". Далее при анализе будем его игнорировать.**"
   ]
  },
  {
   "cell_type": "code",
   "execution_count": 24,
   "metadata": {},
   "outputs": [
    {
     "name": "stdout",
     "output_type": "stream",
     "text": [
      "С главной страницы в предложения перешли 61.93% пользователей.\n",
      "Из предложений в корзину перешли  81.27% пользователей.\n",
      "К успешной оплате пришли 94.75% пользователей.\n"
     ]
    }
   ],
   "source": [
    "print(f'С главной страницы в предложения перешли {round(data_group[1]/data_group[0] * 100, 2)}% пользователей.')\n",
    "print(f'Из предложений в корзину перешли  {round(data_group[2]/data_group[1] * 100, 2)}% пользователей.')\n",
    "print(f'К успешной оплате пришли {round(data_group[3]/data_group[2] * 100, 2)}% пользователей.')"
   ]
  },
  {
   "cell_type": "code",
   "execution_count": 25,
   "metadata": {},
   "outputs": [
    {
     "name": "stdout",
     "output_type": "stream",
     "text": [
      "При переходе с главной страницы в предложения теряется больше всего пользователей = 38.0%.\n"
     ]
    }
   ],
   "source": [
    "# На каком шаге теряете больше всего пользователей?\n",
    "\n",
    "print(f'При переходе с главной страницы в предложения теряется больше всего пользователей = {100 - round(data_group[1]/data_group[0] * 100, 0)}%.')"
   ]
  },
  {
   "cell_type": "code",
   "execution_count": 26,
   "metadata": {},
   "outputs": [
    {
     "name": "stdout",
     "output_type": "stream",
     "text": [
      "Доля пользователей, которая доходит от первого события до оплаты = 47.7% .\n"
     ]
    }
   ],
   "source": [
    "# Доля пользователей, дошедших от первого события до оплаты?\n",
    "\n",
    "print(f'Доля пользователей, которая доходит от первого события до оплаты = {round(data_group[3]/data_group[0] * 100, 1)}% .')"
   ]
  },
  {
   "cell_type": "markdown",
   "metadata": {},
   "source": [
    "### Подытог:\n",
    "    При изучении воронки событий узнали:\n",
    "    \n",
    "    1) Доли пользователей, совершавших каждое из событий: главный экран - их 98.5%, экран предложений - 61%, экран корзины - 49.6%, экран оплаты - 47%, руководство - 11.2%.\n",
    "    2) С главной страницы в предложения перешли 61.93% пользователей.\n",
    "    Из предложений в корзину перешли  81.27% пользователей.\n",
    "    К успешной оплате пришли 94.75% пользователей.\n",
    "    3) При переходе с главной страницы в предложения теряется больше всего пользователей = 38%.\n",
    "    4) Доля пользователей, которая доходит от первого события до оплаты = 47.7%."
   ]
  },
  {
   "cell_type": "markdown",
   "metadata": {},
   "source": [
    "## Изучите результаты эксперимента"
   ]
  },
  {
   "cell_type": "markdown",
   "metadata": {},
   "source": [
    "    1) Сколько пользователей в каждой экспериментальной группе?\n",
    "    2) Есть 2 контрольные группы для А/А-эксперимента, чтобы проверить корректность всех механизмов и расчётов. Проверьте, находят ли статистические критерии разницу между выборками 246 и 247.\n",
    "    3) Выберите самое популярное событие. Посчитайте число пользователей, совершивших это событие в каждой из контрольных групп. Посчитайте долю пользователей, совершивших это событие. Проверьте, будет ли отличие между группами статистически достоверным. Проделайте то же самое для всех других событий (удобно обернуть проверку в отдельную функцию). Можно ли сказать, что разбиение на группы работает корректно?\n",
    "    4) Аналогично поступите с группой с изменённым шрифтом. Сравните результаты с каждой из контрольных групп в отдельности по каждому событию. Сравните результаты с объединённой контрольной группой. Какие выводы из эксперимента можно сделать?\n",
    "    5) Какой уровень значимости вы выбрали при проверке статистических гипотез выше? Посчитайте, сколько проверок статистических гипотез вы сделали. При уровне значимости 0.1 каждый десятый раз можно получать ложный результат. Какой уровень значимости стоит применить? Если вы хотите изменить его, проделайте предыдущие пункты и проверьте свои выводы."
   ]
  },
  {
   "cell_type": "code",
   "execution_count": 27,
   "metadata": {},
   "outputs": [
    {
     "data": {
      "text/plain": [
       "array(['MainScreenAppear', 'OffersScreenAppear',\n",
       "       'PaymentScreenSuccessful', 'CartScreenAppear', 'Tutorial'],\n",
       "      dtype=object)"
      ]
     },
     "execution_count": 27,
     "metadata": {},
     "output_type": "execute_result"
    }
   ],
   "source": [
    "data['event_name'].unique()"
   ]
  },
  {
   "cell_type": "code",
   "execution_count": 28,
   "metadata": {},
   "outputs": [
    {
     "data": {
      "text/plain": [
       "group\n",
       "246    2484\n",
       "247    2517\n",
       "248    2537\n",
       "Name: user_id, dtype: int64"
      ]
     },
     "execution_count": 28,
     "metadata": {},
     "output_type": "execute_result"
    }
   ],
   "source": [
    "# Сколько пользователей в каждой экспериментальной группе:\n",
    "\n",
    "data.groupby('group')['user_id'].nunique()"
   ]
  },
  {
   "cell_type": "markdown",
   "metadata": {},
   "source": [
    "_**В каждой группе около 2,5 тысяч пользователей.**_"
   ]
  },
  {
   "cell_type": "code",
   "execution_count": 29,
   "metadata": {},
   "outputs": [],
   "source": [
    "# user_246 = data[data['group']==246]\n",
    "# user_247 = data[data['group']==247]\n",
    "# user_248 = data[data['group']==248]\n",
    "# user67 = user_246.merge(user_247, left_on='user_id', right_on='user_id', how=\"inner\", indicator=False)\n",
    "# user68 = user_246.merge(user_248, left_on='user_id', right_on='user_id', how=\"inner\", indicator=False)\n",
    "# user78 = user_247.merge(user_248, left_on='user_id', right_on='user_id', how=\"inner\", indicator=False)\n",
    "# display(user67)\n",
    "# display(user68)\n",
    "# display(user78)"
   ]
  },
  {
   "cell_type": "code",
   "execution_count": 30,
   "metadata": {},
   "outputs": [
    {
     "data": {
      "text/html": [
       "<div>\n",
       "<style scoped>\n",
       "    .dataframe tbody tr th:only-of-type {\n",
       "        vertical-align: middle;\n",
       "    }\n",
       "\n",
       "    .dataframe tbody tr th {\n",
       "        vertical-align: top;\n",
       "    }\n",
       "\n",
       "    .dataframe thead th {\n",
       "        text-align: right;\n",
       "    }\n",
       "</style>\n",
       "<table border=\"1\" class=\"dataframe\">\n",
       "  <thead>\n",
       "    <tr style=\"text-align: right;\">\n",
       "      <th></th>\n",
       "      <th>group</th>\n",
       "    </tr>\n",
       "    <tr>\n",
       "      <th>user_id</th>\n",
       "      <th></th>\n",
       "    </tr>\n",
       "  </thead>\n",
       "  <tbody>\n",
       "  </tbody>\n",
       "</table>\n",
       "</div>"
      ],
      "text/plain": [
       "Empty DataFrame\n",
       "Columns: [group]\n",
       "Index: []"
      ]
     },
     "execution_count": 30,
     "metadata": {},
     "output_type": "execute_result"
    }
   ],
   "source": [
    "# Проверим пользователей, которые могли участвовать в нескольких группах одновременно:\n",
    "data.groupby('user_id').agg({'group':'nunique'}).query('group > 1') "
   ]
  },
  {
   "cell_type": "markdown",
   "metadata": {},
   "source": [
    "_**Пересечений по пользователям в группах не обнаружено.**_"
   ]
  },
  {
   "cell_type": "code",
   "execution_count": 31,
   "metadata": {},
   "outputs": [
    {
     "name": "stdout",
     "output_type": "stream",
     "text": [
      "[2450, 1542, 1266, 1200, 278] \n",
      " [2479, 1524, 1239, 1158, 284]\n"
     ]
    }
   ],
   "source": [
    "# Проверьте, находят ли статистические критерии разницу между выборками 246 и 247\n",
    "\n",
    "g246 = data.query('group == 246')\n",
    "g247 = data.query('group == 247')\n",
    "\n",
    "group246_user = g246.groupby('event_name')['user_id'].nunique().sort_values(ascending=False).to_list()\n",
    "group247_user = g247.groupby('event_name')['user_id'].nunique().sort_values(ascending=False).to_list()\n",
    "\n",
    "print(group246_user,'\\n', group247_user)"
   ]
  },
  {
   "cell_type": "markdown",
   "metadata": {},
   "source": [
    "_Чтобы снизить вероятность ложноположительного результата эксперимента, к параметру alpha функции hypothesis_test применена поправка Бонферрони - когда пороговое альфа-значение делится на общее количество проверяемых нулевых гипотез._"
   ]
  },
  {
   "cell_type": "code",
   "execution_count": 32,
   "metadata": {},
   "outputs": [
    {
     "name": "stdout",
     "output_type": "stream",
     "text": [
      "Тест для расчёта действий пользователей MainScreenAppear\n",
      "p-значение:  0.28974344965351984\n",
      "Не получилось отвергнуть нулевую гипотезу - Нет оснований считать доли разными \n",
      "\n",
      "Тест для расчёта действий пользователей OffersScreenAppear\n",
      "p-значение:  0.23436481115654617\n",
      "Не получилось отвергнуть нулевую гипотезу - Нет оснований считать доли разными \n",
      "\n",
      "Тест для расчёта действий пользователей CartScreenAppear\n",
      "p-значение:  0.11111631245768638\n",
      "Не получилось отвергнуть нулевую гипотезу - Нет оснований считать доли разными \n",
      "\n",
      "Тест для расчёта действий пользователей PaymentScreenSuccessful\n",
      "p-значение:  0.9039224227191858\n",
      "Не получилось отвергнуть нулевую гипотезу - Нет оснований считать доли разными \n",
      "\n"
     ]
    }
   ],
   "source": [
    "df_group = data.pivot_table(index='event_name', values='user_id', columns='group',aggfunc=lambda x: len(x.unique()))\n",
    "df_group = df_group.reset_index().sort_values(by=246, ascending=False).reset_index(drop=True)\n",
    "\n",
    "def hypothesis_test(purchasesA, purchasesB, leadsA, leadsB, event_name, alpha = 0.05/16):\n",
    "    \n",
    "    p1 = purchasesA/leadsA\n",
    "    p2 = purchasesB/leadsB\n",
    "\n",
    "    p_combined = (purchasesA + purchasesB) / (leadsA + leadsB)\n",
    "    # считаем статистику в стандартных отклонениях стандартного нормального распределения\n",
    "    difference = p1 - p2\n",
    "    z_value = difference / math.sqrt(p_combined * (1 - p_combined) * (1/leadsA + 1/leadsB))\n",
    "    # задаем стандартное нормальное распределение (среднее 0, стандартное отклонение 1)\n",
    "    distr = st.norm(0, 1)\n",
    "    p_value =(1 - distr.cdf(abs(z_value))) * 2\n",
    "    print(f'Тест для расчёта действий пользователей {event_name}')\n",
    "    print('p-значение: ', p_value)\n",
    "\n",
    "    if p_value < alpha:\n",
    "\n",
    "        print('Отвергаем нулевую гипотезу - Между долями есть значимая разница', '\\n')\n",
    "    else:\n",
    "        print('Не получилось отвергнуть нулевую гипотезу - Нет оснований считать доли разными', '\\n')\n",
    "\n",
    "test = []\n",
    "for i in range(len(df_group[246])-1):\n",
    "    result = hypothesis_test(\n",
    "        df_group[246][i+1], \n",
    "        df_group[247][i+1], \n",
    "        df_group[246][0], \n",
    "        df_group[247][0], \n",
    "        df_group['event_name'][i], \n",
    "        alpha = 0.05\n",
    "    )\n",
    "    test.append(result)"
   ]
  },
  {
   "cell_type": "markdown",
   "metadata": {},
   "source": [
    "**Выяснилось, что статистические критерии не находят разницу между выборками 246 и 247.**"
   ]
  },
  {
   "cell_type": "code",
   "execution_count": 33,
   "metadata": {},
   "outputs": [],
   "source": [
    "#срезаем незначительное событие:\n",
    "\n",
    "data = data[data['event_name'] != 'Tutorial']\n",
    "df_group = df_group[df_group['event_name'] != 'Tutorial']"
   ]
  },
  {
   "cell_type": "code",
   "execution_count": 34,
   "metadata": {},
   "outputs": [
    {
     "data": {
      "text/html": [
       "<div>\n",
       "<style scoped>\n",
       "    .dataframe tbody tr th:only-of-type {\n",
       "        vertical-align: middle;\n",
       "    }\n",
       "\n",
       "    .dataframe tbody tr th {\n",
       "        vertical-align: top;\n",
       "    }\n",
       "\n",
       "    .dataframe thead th {\n",
       "        text-align: right;\n",
       "    }\n",
       "</style>\n",
       "<table border=\"1\" class=\"dataframe\">\n",
       "  <thead>\n",
       "    <tr style=\"text-align: right;\">\n",
       "      <th>group</th>\n",
       "      <th>index</th>\n",
       "      <th>event_name</th>\n",
       "      <th>246</th>\n",
       "      <th>247</th>\n",
       "      <th>248</th>\n",
       "      <th>246/247</th>\n",
       "    </tr>\n",
       "  </thead>\n",
       "  <tbody>\n",
       "    <tr>\n",
       "      <th>0</th>\n",
       "      <td>0</td>\n",
       "      <td>MainScreenAppear</td>\n",
       "      <td>2450</td>\n",
       "      <td>2479</td>\n",
       "      <td>2494</td>\n",
       "      <td>0.011698</td>\n",
       "    </tr>\n",
       "    <tr>\n",
       "      <th>1</th>\n",
       "      <td>1</td>\n",
       "      <td>OffersScreenAppear</td>\n",
       "      <td>1542</td>\n",
       "      <td>1524</td>\n",
       "      <td>1531</td>\n",
       "      <td>-0.011811</td>\n",
       "    </tr>\n",
       "    <tr>\n",
       "      <th>2</th>\n",
       "      <td>2</td>\n",
       "      <td>CartScreenAppear</td>\n",
       "      <td>1266</td>\n",
       "      <td>1239</td>\n",
       "      <td>1231</td>\n",
       "      <td>-0.021792</td>\n",
       "    </tr>\n",
       "    <tr>\n",
       "      <th>3</th>\n",
       "      <td>3</td>\n",
       "      <td>PaymentScreenSuccessful</td>\n",
       "      <td>1200</td>\n",
       "      <td>1158</td>\n",
       "      <td>1182</td>\n",
       "      <td>-0.036269</td>\n",
       "    </tr>\n",
       "  </tbody>\n",
       "</table>\n",
       "</div>"
      ],
      "text/plain": [
       "group  index               event_name   246   247   248   246/247\n",
       "0          0         MainScreenAppear  2450  2479  2494  0.011698\n",
       "1          1       OffersScreenAppear  1542  1524  1531 -0.011811\n",
       "2          2         CartScreenAppear  1266  1239  1231 -0.021792\n",
       "3          3  PaymentScreenSuccessful  1200  1158  1182 -0.036269"
      ]
     },
     "execution_count": 34,
     "metadata": {},
     "output_type": "execute_result"
    }
   ],
   "source": [
    "# Выберите самое популярное событие\n",
    "\n",
    "df_group.style.highlight_max()\n",
    "df_group['246/247'] = 1 - (df_group[246]/ df_group[247])\n",
    "df_group = df_group.reset_index()\n",
    "df_group"
   ]
  },
  {
   "cell_type": "markdown",
   "metadata": {},
   "source": [
    "**В каждой группе самое популярное событие - _Переход на главный экран_**"
   ]
  },
  {
   "cell_type": "markdown",
   "metadata": {},
   "source": [
    "### Гипотезы\n",
    "    Н0 - в значениях групп 246 и 247 нет существенной разницы.\n",
    "    Н1 - в значениях групп 246 и 247 есть существенная разница. "
   ]
  },
  {
   "cell_type": "code",
   "execution_count": 42,
   "metadata": {},
   "outputs": [
    {
     "data": {
      "application/vnd.plotly.v1+json": {
       "config": {
        "plotlyServerURL": "https://plot.ly"
       },
       "data": [
        {
         "marker": {
          "color": "#39A608"
         },
         "name": "246 group",
         "textinfo": "value+percent previous",
         "textposition": "inside",
         "type": "funnel",
         "x": [
          2450,
          1542,
          1266,
          1200
         ],
         "y": [
          "MainScreenAppear",
          "OffersScreenAppear",
          "CartScreenAppear",
          "PaymentScreenSuccessful"
         ]
        },
        {
         "marker": {
          "color": "#2C4791"
         },
         "name": "247 group",
         "textinfo": "value+percent previous",
         "textposition": "inside",
         "type": "funnel",
         "x": [
          2479,
          1524,
          1239,
          1158
         ],
         "y": [
          "MainScreenAppear",
          "OffersScreenAppear",
          "CartScreenAppear",
          "PaymentScreenSuccessful"
         ]
        }
       ],
       "layout": {
        "height": 700,
        "template": {
         "data": {
          "bar": [
           {
            "error_x": {
             "color": "#2a3f5f"
            },
            "error_y": {
             "color": "#2a3f5f"
            },
            "marker": {
             "line": {
              "color": "#E5ECF6",
              "width": 0.5
             },
             "pattern": {
              "fillmode": "overlay",
              "size": 10,
              "solidity": 0.2
             }
            },
            "type": "bar"
           }
          ],
          "barpolar": [
           {
            "marker": {
             "line": {
              "color": "#E5ECF6",
              "width": 0.5
             },
             "pattern": {
              "fillmode": "overlay",
              "size": 10,
              "solidity": 0.2
             }
            },
            "type": "barpolar"
           }
          ],
          "carpet": [
           {
            "aaxis": {
             "endlinecolor": "#2a3f5f",
             "gridcolor": "white",
             "linecolor": "white",
             "minorgridcolor": "white",
             "startlinecolor": "#2a3f5f"
            },
            "baxis": {
             "endlinecolor": "#2a3f5f",
             "gridcolor": "white",
             "linecolor": "white",
             "minorgridcolor": "white",
             "startlinecolor": "#2a3f5f"
            },
            "type": "carpet"
           }
          ],
          "choropleth": [
           {
            "colorbar": {
             "outlinewidth": 0,
             "ticks": ""
            },
            "type": "choropleth"
           }
          ],
          "contour": [
           {
            "colorbar": {
             "outlinewidth": 0,
             "ticks": ""
            },
            "colorscale": [
             [
              0,
              "#0d0887"
             ],
             [
              0.1111111111111111,
              "#46039f"
             ],
             [
              0.2222222222222222,
              "#7201a8"
             ],
             [
              0.3333333333333333,
              "#9c179e"
             ],
             [
              0.4444444444444444,
              "#bd3786"
             ],
             [
              0.5555555555555556,
              "#d8576b"
             ],
             [
              0.6666666666666666,
              "#ed7953"
             ],
             [
              0.7777777777777778,
              "#fb9f3a"
             ],
             [
              0.8888888888888888,
              "#fdca26"
             ],
             [
              1,
              "#f0f921"
             ]
            ],
            "type": "contour"
           }
          ],
          "contourcarpet": [
           {
            "colorbar": {
             "outlinewidth": 0,
             "ticks": ""
            },
            "type": "contourcarpet"
           }
          ],
          "heatmap": [
           {
            "colorbar": {
             "outlinewidth": 0,
             "ticks": ""
            },
            "colorscale": [
             [
              0,
              "#0d0887"
             ],
             [
              0.1111111111111111,
              "#46039f"
             ],
             [
              0.2222222222222222,
              "#7201a8"
             ],
             [
              0.3333333333333333,
              "#9c179e"
             ],
             [
              0.4444444444444444,
              "#bd3786"
             ],
             [
              0.5555555555555556,
              "#d8576b"
             ],
             [
              0.6666666666666666,
              "#ed7953"
             ],
             [
              0.7777777777777778,
              "#fb9f3a"
             ],
             [
              0.8888888888888888,
              "#fdca26"
             ],
             [
              1,
              "#f0f921"
             ]
            ],
            "type": "heatmap"
           }
          ],
          "heatmapgl": [
           {
            "colorbar": {
             "outlinewidth": 0,
             "ticks": ""
            },
            "colorscale": [
             [
              0,
              "#0d0887"
             ],
             [
              0.1111111111111111,
              "#46039f"
             ],
             [
              0.2222222222222222,
              "#7201a8"
             ],
             [
              0.3333333333333333,
              "#9c179e"
             ],
             [
              0.4444444444444444,
              "#bd3786"
             ],
             [
              0.5555555555555556,
              "#d8576b"
             ],
             [
              0.6666666666666666,
              "#ed7953"
             ],
             [
              0.7777777777777778,
              "#fb9f3a"
             ],
             [
              0.8888888888888888,
              "#fdca26"
             ],
             [
              1,
              "#f0f921"
             ]
            ],
            "type": "heatmapgl"
           }
          ],
          "histogram": [
           {
            "marker": {
             "pattern": {
              "fillmode": "overlay",
              "size": 10,
              "solidity": 0.2
             }
            },
            "type": "histogram"
           }
          ],
          "histogram2d": [
           {
            "colorbar": {
             "outlinewidth": 0,
             "ticks": ""
            },
            "colorscale": [
             [
              0,
              "#0d0887"
             ],
             [
              0.1111111111111111,
              "#46039f"
             ],
             [
              0.2222222222222222,
              "#7201a8"
             ],
             [
              0.3333333333333333,
              "#9c179e"
             ],
             [
              0.4444444444444444,
              "#bd3786"
             ],
             [
              0.5555555555555556,
              "#d8576b"
             ],
             [
              0.6666666666666666,
              "#ed7953"
             ],
             [
              0.7777777777777778,
              "#fb9f3a"
             ],
             [
              0.8888888888888888,
              "#fdca26"
             ],
             [
              1,
              "#f0f921"
             ]
            ],
            "type": "histogram2d"
           }
          ],
          "histogram2dcontour": [
           {
            "colorbar": {
             "outlinewidth": 0,
             "ticks": ""
            },
            "colorscale": [
             [
              0,
              "#0d0887"
             ],
             [
              0.1111111111111111,
              "#46039f"
             ],
             [
              0.2222222222222222,
              "#7201a8"
             ],
             [
              0.3333333333333333,
              "#9c179e"
             ],
             [
              0.4444444444444444,
              "#bd3786"
             ],
             [
              0.5555555555555556,
              "#d8576b"
             ],
             [
              0.6666666666666666,
              "#ed7953"
             ],
             [
              0.7777777777777778,
              "#fb9f3a"
             ],
             [
              0.8888888888888888,
              "#fdca26"
             ],
             [
              1,
              "#f0f921"
             ]
            ],
            "type": "histogram2dcontour"
           }
          ],
          "mesh3d": [
           {
            "colorbar": {
             "outlinewidth": 0,
             "ticks": ""
            },
            "type": "mesh3d"
           }
          ],
          "parcoords": [
           {
            "line": {
             "colorbar": {
              "outlinewidth": 0,
              "ticks": ""
             }
            },
            "type": "parcoords"
           }
          ],
          "pie": [
           {
            "automargin": true,
            "type": "pie"
           }
          ],
          "scatter": [
           {
            "fillpattern": {
             "fillmode": "overlay",
             "size": 10,
             "solidity": 0.2
            },
            "type": "scatter"
           }
          ],
          "scatter3d": [
           {
            "line": {
             "colorbar": {
              "outlinewidth": 0,
              "ticks": ""
             }
            },
            "marker": {
             "colorbar": {
              "outlinewidth": 0,
              "ticks": ""
             }
            },
            "type": "scatter3d"
           }
          ],
          "scattercarpet": [
           {
            "marker": {
             "colorbar": {
              "outlinewidth": 0,
              "ticks": ""
             }
            },
            "type": "scattercarpet"
           }
          ],
          "scattergeo": [
           {
            "marker": {
             "colorbar": {
              "outlinewidth": 0,
              "ticks": ""
             }
            },
            "type": "scattergeo"
           }
          ],
          "scattergl": [
           {
            "marker": {
             "colorbar": {
              "outlinewidth": 0,
              "ticks": ""
             }
            },
            "type": "scattergl"
           }
          ],
          "scattermapbox": [
           {
            "marker": {
             "colorbar": {
              "outlinewidth": 0,
              "ticks": ""
             }
            },
            "type": "scattermapbox"
           }
          ],
          "scatterpolar": [
           {
            "marker": {
             "colorbar": {
              "outlinewidth": 0,
              "ticks": ""
             }
            },
            "type": "scatterpolar"
           }
          ],
          "scatterpolargl": [
           {
            "marker": {
             "colorbar": {
              "outlinewidth": 0,
              "ticks": ""
             }
            },
            "type": "scatterpolargl"
           }
          ],
          "scatterternary": [
           {
            "marker": {
             "colorbar": {
              "outlinewidth": 0,
              "ticks": ""
             }
            },
            "type": "scatterternary"
           }
          ],
          "surface": [
           {
            "colorbar": {
             "outlinewidth": 0,
             "ticks": ""
            },
            "colorscale": [
             [
              0,
              "#0d0887"
             ],
             [
              0.1111111111111111,
              "#46039f"
             ],
             [
              0.2222222222222222,
              "#7201a8"
             ],
             [
              0.3333333333333333,
              "#9c179e"
             ],
             [
              0.4444444444444444,
              "#bd3786"
             ],
             [
              0.5555555555555556,
              "#d8576b"
             ],
             [
              0.6666666666666666,
              "#ed7953"
             ],
             [
              0.7777777777777778,
              "#fb9f3a"
             ],
             [
              0.8888888888888888,
              "#fdca26"
             ],
             [
              1,
              "#f0f921"
             ]
            ],
            "type": "surface"
           }
          ],
          "table": [
           {
            "cells": {
             "fill": {
              "color": "#EBF0F8"
             },
             "line": {
              "color": "white"
             }
            },
            "header": {
             "fill": {
              "color": "#C8D4E3"
             },
             "line": {
              "color": "white"
             }
            },
            "type": "table"
           }
          ]
         },
         "layout": {
          "annotationdefaults": {
           "arrowcolor": "#2a3f5f",
           "arrowhead": 0,
           "arrowwidth": 1
          },
          "autotypenumbers": "strict",
          "coloraxis": {
           "colorbar": {
            "outlinewidth": 0,
            "ticks": ""
           }
          },
          "colorscale": {
           "diverging": [
            [
             0,
             "#8e0152"
            ],
            [
             0.1,
             "#c51b7d"
            ],
            [
             0.2,
             "#de77ae"
            ],
            [
             0.3,
             "#f1b6da"
            ],
            [
             0.4,
             "#fde0ef"
            ],
            [
             0.5,
             "#f7f7f7"
            ],
            [
             0.6,
             "#e6f5d0"
            ],
            [
             0.7,
             "#b8e186"
            ],
            [
             0.8,
             "#7fbc41"
            ],
            [
             0.9,
             "#4d9221"
            ],
            [
             1,
             "#276419"
            ]
           ],
           "sequential": [
            [
             0,
             "#0d0887"
            ],
            [
             0.1111111111111111,
             "#46039f"
            ],
            [
             0.2222222222222222,
             "#7201a8"
            ],
            [
             0.3333333333333333,
             "#9c179e"
            ],
            [
             0.4444444444444444,
             "#bd3786"
            ],
            [
             0.5555555555555556,
             "#d8576b"
            ],
            [
             0.6666666666666666,
             "#ed7953"
            ],
            [
             0.7777777777777778,
             "#fb9f3a"
            ],
            [
             0.8888888888888888,
             "#fdca26"
            ],
            [
             1,
             "#f0f921"
            ]
           ],
           "sequentialminus": [
            [
             0,
             "#0d0887"
            ],
            [
             0.1111111111111111,
             "#46039f"
            ],
            [
             0.2222222222222222,
             "#7201a8"
            ],
            [
             0.3333333333333333,
             "#9c179e"
            ],
            [
             0.4444444444444444,
             "#bd3786"
            ],
            [
             0.5555555555555556,
             "#d8576b"
            ],
            [
             0.6666666666666666,
             "#ed7953"
            ],
            [
             0.7777777777777778,
             "#fb9f3a"
            ],
            [
             0.8888888888888888,
             "#fdca26"
            ],
            [
             1,
             "#f0f921"
            ]
           ]
          },
          "colorway": [
           "#636efa",
           "#EF553B",
           "#00cc96",
           "#ab63fa",
           "#FFA15A",
           "#19d3f3",
           "#FF6692",
           "#B6E880",
           "#FF97FF",
           "#FECB52"
          ],
          "font": {
           "color": "#2a3f5f"
          },
          "geo": {
           "bgcolor": "white",
           "lakecolor": "white",
           "landcolor": "#E5ECF6",
           "showlakes": true,
           "showland": true,
           "subunitcolor": "white"
          },
          "hoverlabel": {
           "align": "left"
          },
          "hovermode": "closest",
          "mapbox": {
           "style": "light"
          },
          "paper_bgcolor": "white",
          "plot_bgcolor": "#E5ECF6",
          "polar": {
           "angularaxis": {
            "gridcolor": "white",
            "linecolor": "white",
            "ticks": ""
           },
           "bgcolor": "#E5ECF6",
           "radialaxis": {
            "gridcolor": "white",
            "linecolor": "white",
            "ticks": ""
           }
          },
          "scene": {
           "xaxis": {
            "backgroundcolor": "#E5ECF6",
            "gridcolor": "white",
            "gridwidth": 2,
            "linecolor": "white",
            "showbackground": true,
            "ticks": "",
            "zerolinecolor": "white"
           },
           "yaxis": {
            "backgroundcolor": "#E5ECF6",
            "gridcolor": "white",
            "gridwidth": 2,
            "linecolor": "white",
            "showbackground": true,
            "ticks": "",
            "zerolinecolor": "white"
           },
           "zaxis": {
            "backgroundcolor": "#E5ECF6",
            "gridcolor": "white",
            "gridwidth": 2,
            "linecolor": "white",
            "showbackground": true,
            "ticks": "",
            "zerolinecolor": "white"
           }
          },
          "shapedefaults": {
           "line": {
            "color": "#2a3f5f"
           }
          },
          "ternary": {
           "aaxis": {
            "gridcolor": "white",
            "linecolor": "white",
            "ticks": ""
           },
           "baxis": {
            "gridcolor": "white",
            "linecolor": "white",
            "ticks": ""
           },
           "bgcolor": "#E5ECF6",
           "caxis": {
            "gridcolor": "white",
            "linecolor": "white",
            "ticks": ""
           }
          },
          "title": {
           "x": 0.05
          },
          "xaxis": {
           "automargin": true,
           "gridcolor": "white",
           "linecolor": "white",
           "ticks": "",
           "title": {
            "standoff": 15
           },
           "zerolinecolor": "white",
           "zerolinewidth": 2
          },
          "yaxis": {
           "automargin": true,
           "gridcolor": "white",
           "linecolor": "white",
           "ticks": "",
           "title": {
            "standoff": 15
           },
           "zerolinecolor": "white",
           "zerolinewidth": 2
          }
         }
        },
        "title": {
         "text": "Распределение количества пользователей по событиям в группах 246 и 247"
        },
        "width": 1100
       }
      },
      "text/html": [
       "<div>                            <div id=\"4b3309b6-4b76-44e5-8699-a4c3d3369d4e\" class=\"plotly-graph-div\" style=\"height:700px; width:1100px;\"></div>            <script type=\"text/javascript\">                require([\"plotly\"], function(Plotly) {                    window.PLOTLYENV=window.PLOTLYENV || {};                                    if (document.getElementById(\"4b3309b6-4b76-44e5-8699-a4c3d3369d4e\")) {                    Plotly.newPlot(                        \"4b3309b6-4b76-44e5-8699-a4c3d3369d4e\",                        [{\"marker\":{\"color\":\"#39A608\"},\"name\":\"246 group\",\"textinfo\":\"value+percent previous\",\"textposition\":\"inside\",\"x\":[2450,1542,1266,1200],\"y\":[\"MainScreenAppear\",\"OffersScreenAppear\",\"CartScreenAppear\",\"PaymentScreenSuccessful\"],\"type\":\"funnel\"},{\"marker\":{\"color\":\"#2C4791\"},\"name\":\"247 group\",\"textinfo\":\"value+percent previous\",\"textposition\":\"inside\",\"x\":[2479,1524,1239,1158],\"y\":[\"MainScreenAppear\",\"OffersScreenAppear\",\"CartScreenAppear\",\"PaymentScreenSuccessful\"],\"type\":\"funnel\"}],                        {\"template\":{\"data\":{\"histogram2dcontour\":[{\"type\":\"histogram2dcontour\",\"colorbar\":{\"outlinewidth\":0,\"ticks\":\"\"},\"colorscale\":[[0.0,\"#0d0887\"],[0.1111111111111111,\"#46039f\"],[0.2222222222222222,\"#7201a8\"],[0.3333333333333333,\"#9c179e\"],[0.4444444444444444,\"#bd3786\"],[0.5555555555555556,\"#d8576b\"],[0.6666666666666666,\"#ed7953\"],[0.7777777777777778,\"#fb9f3a\"],[0.8888888888888888,\"#fdca26\"],[1.0,\"#f0f921\"]]}],\"choropleth\":[{\"type\":\"choropleth\",\"colorbar\":{\"outlinewidth\":0,\"ticks\":\"\"}}],\"histogram2d\":[{\"type\":\"histogram2d\",\"colorbar\":{\"outlinewidth\":0,\"ticks\":\"\"},\"colorscale\":[[0.0,\"#0d0887\"],[0.1111111111111111,\"#46039f\"],[0.2222222222222222,\"#7201a8\"],[0.3333333333333333,\"#9c179e\"],[0.4444444444444444,\"#bd3786\"],[0.5555555555555556,\"#d8576b\"],[0.6666666666666666,\"#ed7953\"],[0.7777777777777778,\"#fb9f3a\"],[0.8888888888888888,\"#fdca26\"],[1.0,\"#f0f921\"]]}],\"heatmap\":[{\"type\":\"heatmap\",\"colorbar\":{\"outlinewidth\":0,\"ticks\":\"\"},\"colorscale\":[[0.0,\"#0d0887\"],[0.1111111111111111,\"#46039f\"],[0.2222222222222222,\"#7201a8\"],[0.3333333333333333,\"#9c179e\"],[0.4444444444444444,\"#bd3786\"],[0.5555555555555556,\"#d8576b\"],[0.6666666666666666,\"#ed7953\"],[0.7777777777777778,\"#fb9f3a\"],[0.8888888888888888,\"#fdca26\"],[1.0,\"#f0f921\"]]}],\"heatmapgl\":[{\"type\":\"heatmapgl\",\"colorbar\":{\"outlinewidth\":0,\"ticks\":\"\"},\"colorscale\":[[0.0,\"#0d0887\"],[0.1111111111111111,\"#46039f\"],[0.2222222222222222,\"#7201a8\"],[0.3333333333333333,\"#9c179e\"],[0.4444444444444444,\"#bd3786\"],[0.5555555555555556,\"#d8576b\"],[0.6666666666666666,\"#ed7953\"],[0.7777777777777778,\"#fb9f3a\"],[0.8888888888888888,\"#fdca26\"],[1.0,\"#f0f921\"]]}],\"contourcarpet\":[{\"type\":\"contourcarpet\",\"colorbar\":{\"outlinewidth\":0,\"ticks\":\"\"}}],\"contour\":[{\"type\":\"contour\",\"colorbar\":{\"outlinewidth\":0,\"ticks\":\"\"},\"colorscale\":[[0.0,\"#0d0887\"],[0.1111111111111111,\"#46039f\"],[0.2222222222222222,\"#7201a8\"],[0.3333333333333333,\"#9c179e\"],[0.4444444444444444,\"#bd3786\"],[0.5555555555555556,\"#d8576b\"],[0.6666666666666666,\"#ed7953\"],[0.7777777777777778,\"#fb9f3a\"],[0.8888888888888888,\"#fdca26\"],[1.0,\"#f0f921\"]]}],\"surface\":[{\"type\":\"surface\",\"colorbar\":{\"outlinewidth\":0,\"ticks\":\"\"},\"colorscale\":[[0.0,\"#0d0887\"],[0.1111111111111111,\"#46039f\"],[0.2222222222222222,\"#7201a8\"],[0.3333333333333333,\"#9c179e\"],[0.4444444444444444,\"#bd3786\"],[0.5555555555555556,\"#d8576b\"],[0.6666666666666666,\"#ed7953\"],[0.7777777777777778,\"#fb9f3a\"],[0.8888888888888888,\"#fdca26\"],[1.0,\"#f0f921\"]]}],\"mesh3d\":[{\"type\":\"mesh3d\",\"colorbar\":{\"outlinewidth\":0,\"ticks\":\"\"}}],\"scatter\":[{\"fillpattern\":{\"fillmode\":\"overlay\",\"size\":10,\"solidity\":0.2},\"type\":\"scatter\"}],\"parcoords\":[{\"type\":\"parcoords\",\"line\":{\"colorbar\":{\"outlinewidth\":0,\"ticks\":\"\"}}}],\"scatterpolargl\":[{\"type\":\"scatterpolargl\",\"marker\":{\"colorbar\":{\"outlinewidth\":0,\"ticks\":\"\"}}}],\"bar\":[{\"error_x\":{\"color\":\"#2a3f5f\"},\"error_y\":{\"color\":\"#2a3f5f\"},\"marker\":{\"line\":{\"color\":\"#E5ECF6\",\"width\":0.5},\"pattern\":{\"fillmode\":\"overlay\",\"size\":10,\"solidity\":0.2}},\"type\":\"bar\"}],\"scattergeo\":[{\"type\":\"scattergeo\",\"marker\":{\"colorbar\":{\"outlinewidth\":0,\"ticks\":\"\"}}}],\"scatterpolar\":[{\"type\":\"scatterpolar\",\"marker\":{\"colorbar\":{\"outlinewidth\":0,\"ticks\":\"\"}}}],\"histogram\":[{\"marker\":{\"pattern\":{\"fillmode\":\"overlay\",\"size\":10,\"solidity\":0.2}},\"type\":\"histogram\"}],\"scattergl\":[{\"type\":\"scattergl\",\"marker\":{\"colorbar\":{\"outlinewidth\":0,\"ticks\":\"\"}}}],\"scatter3d\":[{\"type\":\"scatter3d\",\"line\":{\"colorbar\":{\"outlinewidth\":0,\"ticks\":\"\"}},\"marker\":{\"colorbar\":{\"outlinewidth\":0,\"ticks\":\"\"}}}],\"scattermapbox\":[{\"type\":\"scattermapbox\",\"marker\":{\"colorbar\":{\"outlinewidth\":0,\"ticks\":\"\"}}}],\"scatterternary\":[{\"type\":\"scatterternary\",\"marker\":{\"colorbar\":{\"outlinewidth\":0,\"ticks\":\"\"}}}],\"scattercarpet\":[{\"type\":\"scattercarpet\",\"marker\":{\"colorbar\":{\"outlinewidth\":0,\"ticks\":\"\"}}}],\"carpet\":[{\"aaxis\":{\"endlinecolor\":\"#2a3f5f\",\"gridcolor\":\"white\",\"linecolor\":\"white\",\"minorgridcolor\":\"white\",\"startlinecolor\":\"#2a3f5f\"},\"baxis\":{\"endlinecolor\":\"#2a3f5f\",\"gridcolor\":\"white\",\"linecolor\":\"white\",\"minorgridcolor\":\"white\",\"startlinecolor\":\"#2a3f5f\"},\"type\":\"carpet\"}],\"table\":[{\"cells\":{\"fill\":{\"color\":\"#EBF0F8\"},\"line\":{\"color\":\"white\"}},\"header\":{\"fill\":{\"color\":\"#C8D4E3\"},\"line\":{\"color\":\"white\"}},\"type\":\"table\"}],\"barpolar\":[{\"marker\":{\"line\":{\"color\":\"#E5ECF6\",\"width\":0.5},\"pattern\":{\"fillmode\":\"overlay\",\"size\":10,\"solidity\":0.2}},\"type\":\"barpolar\"}],\"pie\":[{\"automargin\":true,\"type\":\"pie\"}]},\"layout\":{\"autotypenumbers\":\"strict\",\"colorway\":[\"#636efa\",\"#EF553B\",\"#00cc96\",\"#ab63fa\",\"#FFA15A\",\"#19d3f3\",\"#FF6692\",\"#B6E880\",\"#FF97FF\",\"#FECB52\"],\"font\":{\"color\":\"#2a3f5f\"},\"hovermode\":\"closest\",\"hoverlabel\":{\"align\":\"left\"},\"paper_bgcolor\":\"white\",\"plot_bgcolor\":\"#E5ECF6\",\"polar\":{\"bgcolor\":\"#E5ECF6\",\"angularaxis\":{\"gridcolor\":\"white\",\"linecolor\":\"white\",\"ticks\":\"\"},\"radialaxis\":{\"gridcolor\":\"white\",\"linecolor\":\"white\",\"ticks\":\"\"}},\"ternary\":{\"bgcolor\":\"#E5ECF6\",\"aaxis\":{\"gridcolor\":\"white\",\"linecolor\":\"white\",\"ticks\":\"\"},\"baxis\":{\"gridcolor\":\"white\",\"linecolor\":\"white\",\"ticks\":\"\"},\"caxis\":{\"gridcolor\":\"white\",\"linecolor\":\"white\",\"ticks\":\"\"}},\"coloraxis\":{\"colorbar\":{\"outlinewidth\":0,\"ticks\":\"\"}},\"colorscale\":{\"sequential\":[[0.0,\"#0d0887\"],[0.1111111111111111,\"#46039f\"],[0.2222222222222222,\"#7201a8\"],[0.3333333333333333,\"#9c179e\"],[0.4444444444444444,\"#bd3786\"],[0.5555555555555556,\"#d8576b\"],[0.6666666666666666,\"#ed7953\"],[0.7777777777777778,\"#fb9f3a\"],[0.8888888888888888,\"#fdca26\"],[1.0,\"#f0f921\"]],\"sequentialminus\":[[0.0,\"#0d0887\"],[0.1111111111111111,\"#46039f\"],[0.2222222222222222,\"#7201a8\"],[0.3333333333333333,\"#9c179e\"],[0.4444444444444444,\"#bd3786\"],[0.5555555555555556,\"#d8576b\"],[0.6666666666666666,\"#ed7953\"],[0.7777777777777778,\"#fb9f3a\"],[0.8888888888888888,\"#fdca26\"],[1.0,\"#f0f921\"]],\"diverging\":[[0,\"#8e0152\"],[0.1,\"#c51b7d\"],[0.2,\"#de77ae\"],[0.3,\"#f1b6da\"],[0.4,\"#fde0ef\"],[0.5,\"#f7f7f7\"],[0.6,\"#e6f5d0\"],[0.7,\"#b8e186\"],[0.8,\"#7fbc41\"],[0.9,\"#4d9221\"],[1,\"#276419\"]]},\"xaxis\":{\"gridcolor\":\"white\",\"linecolor\":\"white\",\"ticks\":\"\",\"title\":{\"standoff\":15},\"zerolinecolor\":\"white\",\"automargin\":true,\"zerolinewidth\":2},\"yaxis\":{\"gridcolor\":\"white\",\"linecolor\":\"white\",\"ticks\":\"\",\"title\":{\"standoff\":15},\"zerolinecolor\":\"white\",\"automargin\":true,\"zerolinewidth\":2},\"scene\":{\"xaxis\":{\"backgroundcolor\":\"#E5ECF6\",\"gridcolor\":\"white\",\"linecolor\":\"white\",\"showbackground\":true,\"ticks\":\"\",\"zerolinecolor\":\"white\",\"gridwidth\":2},\"yaxis\":{\"backgroundcolor\":\"#E5ECF6\",\"gridcolor\":\"white\",\"linecolor\":\"white\",\"showbackground\":true,\"ticks\":\"\",\"zerolinecolor\":\"white\",\"gridwidth\":2},\"zaxis\":{\"backgroundcolor\":\"#E5ECF6\",\"gridcolor\":\"white\",\"linecolor\":\"white\",\"showbackground\":true,\"ticks\":\"\",\"zerolinecolor\":\"white\",\"gridwidth\":2}},\"shapedefaults\":{\"line\":{\"color\":\"#2a3f5f\"}},\"annotationdefaults\":{\"arrowcolor\":\"#2a3f5f\",\"arrowhead\":0,\"arrowwidth\":1},\"geo\":{\"bgcolor\":\"white\",\"landcolor\":\"#E5ECF6\",\"subunitcolor\":\"white\",\"showland\":true,\"showlakes\":true,\"lakecolor\":\"white\"},\"title\":{\"x\":0.05},\"mapbox\":{\"style\":\"light\"}}},\"title\":{\"text\":\"\\u0420\\u0430\\u0441\\u043f\\u0440\\u0435\\u0434\\u0435\\u043b\\u0435\\u043d\\u0438\\u0435 \\u043a\\u043e\\u043b\\u0438\\u0447\\u0435\\u0441\\u0442\\u0432\\u0430 \\u043f\\u043e\\u043b\\u044c\\u0437\\u043e\\u0432\\u0430\\u0442\\u0435\\u043b\\u0435\\u0439 \\u043f\\u043e \\u0441\\u043e\\u0431\\u044b\\u0442\\u0438\\u044f\\u043c \\u0432 \\u0433\\u0440\\u0443\\u043f\\u043f\\u0430\\u0445 246 \\u0438 247\"},\"height\":700,\"width\":1100},                        {\"responsive\": true}                    ).then(function(){\n",
       "                            \n",
       "var gd = document.getElementById('4b3309b6-4b76-44e5-8699-a4c3d3369d4e');\n",
       "var x = new MutationObserver(function (mutations, observer) {{\n",
       "        var display = window.getComputedStyle(gd).display;\n",
       "        if (!display || display === 'none') {{\n",
       "            console.log([gd, 'removed!']);\n",
       "            Plotly.purge(gd);\n",
       "            observer.disconnect();\n",
       "        }}\n",
       "}});\n",
       "\n",
       "// Listen for the removal of the full notebook cells\n",
       "var notebookContainer = gd.closest('#notebook-container');\n",
       "if (notebookContainer) {{\n",
       "    x.observe(notebookContainer, {childList: true});\n",
       "}}\n",
       "\n",
       "// Listen for the clearing of the current output cell\n",
       "var outputEl = gd.closest('.output');\n",
       "if (outputEl) {{\n",
       "    x.observe(outputEl, {childList: true});\n",
       "}}\n",
       "\n",
       "                        })                };                });            </script>        </div>"
      ]
     },
     "metadata": {},
     "output_type": "display_data"
    }
   ],
   "source": [
    "figur = go.Figure()\n",
    "\n",
    "figur.add_trace(go.Funnel(name = '246 group',\n",
    "    y = df_group[\"event_name\"],\n",
    "    x = df_group[246],textposition = \"inside\", \n",
    "    textinfo = \"value+percent previous\",\n",
    "    marker = {\"color\": \"#39A608\"}))\n",
    "\n",
    "figur.add_trace(go.Funnel(name = '247 group',\n",
    "    y = df_group[\"event_name\"],\n",
    "    x = df_group[247],textposition = \"inside\", \n",
    "    textinfo = \"value+percent previous\",\n",
    "    marker = {\"color\": \"#2C4791\"}))\n",
    "figur.update_layout(title='Распределение количества пользователей по событиям в группах 246 и 247',height=700, width=1100)\n",
    "figur.show()"
   ]
  },
  {
   "cell_type": "code",
   "execution_count": 43,
   "metadata": {},
   "outputs": [
    {
     "name": "stdout",
     "output_type": "stream",
     "text": [
      "Тест для расчёта действий пользователей MainScreenAppear\n",
      "p-значение:  0.35273029774368636\n",
      "Не получилось отвергнуть нулевую гипотезу - Нет оснований считать доли разными \n",
      "\n",
      "Тест для расчёта действий пользователей OffersScreenAppear\n",
      "p-значение:  0.9312311695164079\n",
      "Не получилось отвергнуть нулевую гипотезу - Нет оснований считать доли разными \n",
      "\n",
      "Тест для расчёта действий пользователей CartScreenAppear\n",
      "p-значение:  0.7266425345832479\n",
      "Не получилось отвергнуть нулевую гипотезу - Нет оснований считать доли разными \n",
      "\n",
      "Тест для расчёта действий пользователей PaymentScreenSuccessful\n",
      "p-значение:  0.4747685576025602\n",
      "Не получилось отвергнуть нулевую гипотезу - Нет оснований считать доли разными \n",
      "\n"
     ]
    }
   ],
   "source": [
    "# тест:\n",
    "\n",
    "tst = [hypothesis_test(df_group[246][i],df_group[247][i],df_group[246].sum(),\n",
    "                    df_group[247].sum(),df_group['event_name'][i], alpha =  0.01) for i in range(len(df_group[246]))]"
   ]
  },
  {
   "cell_type": "markdown",
   "metadata": {},
   "source": [
    "**Контрольные группы сформированы корректно - \"Нет оснований считать доли разными\"**"
   ]
  },
  {
   "cell_type": "markdown",
   "metadata": {},
   "source": [
    "### Гипотезы\n",
    "    Н0 - в значениях групп 247 и 248 нет существенной разницы.\n",
    "    Н1 - в значениях групп 247 и 248 есть существенная разница. "
   ]
  },
  {
   "cell_type": "code",
   "execution_count": 44,
   "metadata": {
    "scrolled": true
   },
   "outputs": [
    {
     "name": "stdout",
     "output_type": "stream",
     "text": [
      "Тест для расчёта действий пользователей MainScreenAppear\n",
      "p-значение:  0.9959509559248529\n",
      "Не получилось отвергнуть нулевую гипотезу - Нет оснований считать доли разными \n",
      "\n",
      "Тест для расчёта действий пользователей OffersScreenAppear\n",
      "p-значение:  0.9662307930256859\n",
      "Не получилось отвергнуть нулевую гипотезу - Нет оснований считать доли разными \n",
      "\n",
      "Тест для расчёта действий пользователей CartScreenAppear\n",
      "p-значение:  0.7317368027910043\n",
      "Не получилось отвергнуть нулевую гипотезу - Нет оснований считать доли разными \n",
      "\n",
      "Тест для расчёта действий пользователей PaymentScreenSuccessful\n",
      "p-значение:  0.6963026616244683\n",
      "Не получилось отвергнуть нулевую гипотезу - Нет оснований считать доли разными \n",
      "\n"
     ]
    }
   ],
   "source": [
    "# тест:\n",
    "\n",
    "tst1 = [hypothesis_test(df_group[248][i],df_group[247][i],df_group[248].sum(),\n",
    "                    df_group[247].sum(),df_group['event_name'][i], alpha =  0.05) for i in range(len(df_group[248]))]"
   ]
  },
  {
   "cell_type": "markdown",
   "metadata": {},
   "source": [
    "**Так как \"Нет оснований считать доли разными\", можно констатировать, что группы 247 и 248 сформированы корректно.**"
   ]
  },
  {
   "cell_type": "code",
   "execution_count": 45,
   "metadata": {},
   "outputs": [
    {
     "data": {
      "application/vnd.plotly.v1+json": {
       "config": {
        "plotlyServerURL": "https://plot.ly"
       },
       "data": [
        {
         "marker": {
          "color": "#39A608"
         },
         "name": "246 group",
         "textinfo": "value+percent previous",
         "textposition": "inside",
         "type": "funnel",
         "x": [
          2450,
          1542,
          1266,
          1200
         ],
         "y": [
          "MainScreenAppear",
          "OffersScreenAppear",
          "CartScreenAppear",
          "PaymentScreenSuccessful"
         ]
        },
        {
         "marker": {
          "color": "#FFFD95"
         },
         "name": "247 group",
         "textinfo": "value+percent previous",
         "textposition": "inside",
         "type": "funnel",
         "x": [
          2479,
          1524,
          1239,
          1158
         ],
         "y": [
          "MainScreenAppear",
          "OffersScreenAppear",
          "CartScreenAppear",
          "PaymentScreenSuccessful"
         ]
        },
        {
         "marker": {
          "color": "#2C4791"
         },
         "name": "248 group",
         "textinfo": "value+percent previous",
         "textposition": "inside",
         "type": "funnel",
         "x": [
          2494,
          1531,
          1231,
          1182
         ],
         "y": [
          "MainScreenAppear",
          "OffersScreenAppear",
          "CartScreenAppear",
          "PaymentScreenSuccessful"
         ]
        }
       ],
       "layout": {
        "height": 700,
        "template": {
         "data": {
          "bar": [
           {
            "error_x": {
             "color": "#2a3f5f"
            },
            "error_y": {
             "color": "#2a3f5f"
            },
            "marker": {
             "line": {
              "color": "#E5ECF6",
              "width": 0.5
             },
             "pattern": {
              "fillmode": "overlay",
              "size": 10,
              "solidity": 0.2
             }
            },
            "type": "bar"
           }
          ],
          "barpolar": [
           {
            "marker": {
             "line": {
              "color": "#E5ECF6",
              "width": 0.5
             },
             "pattern": {
              "fillmode": "overlay",
              "size": 10,
              "solidity": 0.2
             }
            },
            "type": "barpolar"
           }
          ],
          "carpet": [
           {
            "aaxis": {
             "endlinecolor": "#2a3f5f",
             "gridcolor": "white",
             "linecolor": "white",
             "minorgridcolor": "white",
             "startlinecolor": "#2a3f5f"
            },
            "baxis": {
             "endlinecolor": "#2a3f5f",
             "gridcolor": "white",
             "linecolor": "white",
             "minorgridcolor": "white",
             "startlinecolor": "#2a3f5f"
            },
            "type": "carpet"
           }
          ],
          "choropleth": [
           {
            "colorbar": {
             "outlinewidth": 0,
             "ticks": ""
            },
            "type": "choropleth"
           }
          ],
          "contour": [
           {
            "colorbar": {
             "outlinewidth": 0,
             "ticks": ""
            },
            "colorscale": [
             [
              0,
              "#0d0887"
             ],
             [
              0.1111111111111111,
              "#46039f"
             ],
             [
              0.2222222222222222,
              "#7201a8"
             ],
             [
              0.3333333333333333,
              "#9c179e"
             ],
             [
              0.4444444444444444,
              "#bd3786"
             ],
             [
              0.5555555555555556,
              "#d8576b"
             ],
             [
              0.6666666666666666,
              "#ed7953"
             ],
             [
              0.7777777777777778,
              "#fb9f3a"
             ],
             [
              0.8888888888888888,
              "#fdca26"
             ],
             [
              1,
              "#f0f921"
             ]
            ],
            "type": "contour"
           }
          ],
          "contourcarpet": [
           {
            "colorbar": {
             "outlinewidth": 0,
             "ticks": ""
            },
            "type": "contourcarpet"
           }
          ],
          "heatmap": [
           {
            "colorbar": {
             "outlinewidth": 0,
             "ticks": ""
            },
            "colorscale": [
             [
              0,
              "#0d0887"
             ],
             [
              0.1111111111111111,
              "#46039f"
             ],
             [
              0.2222222222222222,
              "#7201a8"
             ],
             [
              0.3333333333333333,
              "#9c179e"
             ],
             [
              0.4444444444444444,
              "#bd3786"
             ],
             [
              0.5555555555555556,
              "#d8576b"
             ],
             [
              0.6666666666666666,
              "#ed7953"
             ],
             [
              0.7777777777777778,
              "#fb9f3a"
             ],
             [
              0.8888888888888888,
              "#fdca26"
             ],
             [
              1,
              "#f0f921"
             ]
            ],
            "type": "heatmap"
           }
          ],
          "heatmapgl": [
           {
            "colorbar": {
             "outlinewidth": 0,
             "ticks": ""
            },
            "colorscale": [
             [
              0,
              "#0d0887"
             ],
             [
              0.1111111111111111,
              "#46039f"
             ],
             [
              0.2222222222222222,
              "#7201a8"
             ],
             [
              0.3333333333333333,
              "#9c179e"
             ],
             [
              0.4444444444444444,
              "#bd3786"
             ],
             [
              0.5555555555555556,
              "#d8576b"
             ],
             [
              0.6666666666666666,
              "#ed7953"
             ],
             [
              0.7777777777777778,
              "#fb9f3a"
             ],
             [
              0.8888888888888888,
              "#fdca26"
             ],
             [
              1,
              "#f0f921"
             ]
            ],
            "type": "heatmapgl"
           }
          ],
          "histogram": [
           {
            "marker": {
             "pattern": {
              "fillmode": "overlay",
              "size": 10,
              "solidity": 0.2
             }
            },
            "type": "histogram"
           }
          ],
          "histogram2d": [
           {
            "colorbar": {
             "outlinewidth": 0,
             "ticks": ""
            },
            "colorscale": [
             [
              0,
              "#0d0887"
             ],
             [
              0.1111111111111111,
              "#46039f"
             ],
             [
              0.2222222222222222,
              "#7201a8"
             ],
             [
              0.3333333333333333,
              "#9c179e"
             ],
             [
              0.4444444444444444,
              "#bd3786"
             ],
             [
              0.5555555555555556,
              "#d8576b"
             ],
             [
              0.6666666666666666,
              "#ed7953"
             ],
             [
              0.7777777777777778,
              "#fb9f3a"
             ],
             [
              0.8888888888888888,
              "#fdca26"
             ],
             [
              1,
              "#f0f921"
             ]
            ],
            "type": "histogram2d"
           }
          ],
          "histogram2dcontour": [
           {
            "colorbar": {
             "outlinewidth": 0,
             "ticks": ""
            },
            "colorscale": [
             [
              0,
              "#0d0887"
             ],
             [
              0.1111111111111111,
              "#46039f"
             ],
             [
              0.2222222222222222,
              "#7201a8"
             ],
             [
              0.3333333333333333,
              "#9c179e"
             ],
             [
              0.4444444444444444,
              "#bd3786"
             ],
             [
              0.5555555555555556,
              "#d8576b"
             ],
             [
              0.6666666666666666,
              "#ed7953"
             ],
             [
              0.7777777777777778,
              "#fb9f3a"
             ],
             [
              0.8888888888888888,
              "#fdca26"
             ],
             [
              1,
              "#f0f921"
             ]
            ],
            "type": "histogram2dcontour"
           }
          ],
          "mesh3d": [
           {
            "colorbar": {
             "outlinewidth": 0,
             "ticks": ""
            },
            "type": "mesh3d"
           }
          ],
          "parcoords": [
           {
            "line": {
             "colorbar": {
              "outlinewidth": 0,
              "ticks": ""
             }
            },
            "type": "parcoords"
           }
          ],
          "pie": [
           {
            "automargin": true,
            "type": "pie"
           }
          ],
          "scatter": [
           {
            "fillpattern": {
             "fillmode": "overlay",
             "size": 10,
             "solidity": 0.2
            },
            "type": "scatter"
           }
          ],
          "scatter3d": [
           {
            "line": {
             "colorbar": {
              "outlinewidth": 0,
              "ticks": ""
             }
            },
            "marker": {
             "colorbar": {
              "outlinewidth": 0,
              "ticks": ""
             }
            },
            "type": "scatter3d"
           }
          ],
          "scattercarpet": [
           {
            "marker": {
             "colorbar": {
              "outlinewidth": 0,
              "ticks": ""
             }
            },
            "type": "scattercarpet"
           }
          ],
          "scattergeo": [
           {
            "marker": {
             "colorbar": {
              "outlinewidth": 0,
              "ticks": ""
             }
            },
            "type": "scattergeo"
           }
          ],
          "scattergl": [
           {
            "marker": {
             "colorbar": {
              "outlinewidth": 0,
              "ticks": ""
             }
            },
            "type": "scattergl"
           }
          ],
          "scattermapbox": [
           {
            "marker": {
             "colorbar": {
              "outlinewidth": 0,
              "ticks": ""
             }
            },
            "type": "scattermapbox"
           }
          ],
          "scatterpolar": [
           {
            "marker": {
             "colorbar": {
              "outlinewidth": 0,
              "ticks": ""
             }
            },
            "type": "scatterpolar"
           }
          ],
          "scatterpolargl": [
           {
            "marker": {
             "colorbar": {
              "outlinewidth": 0,
              "ticks": ""
             }
            },
            "type": "scatterpolargl"
           }
          ],
          "scatterternary": [
           {
            "marker": {
             "colorbar": {
              "outlinewidth": 0,
              "ticks": ""
             }
            },
            "type": "scatterternary"
           }
          ],
          "surface": [
           {
            "colorbar": {
             "outlinewidth": 0,
             "ticks": ""
            },
            "colorscale": [
             [
              0,
              "#0d0887"
             ],
             [
              0.1111111111111111,
              "#46039f"
             ],
             [
              0.2222222222222222,
              "#7201a8"
             ],
             [
              0.3333333333333333,
              "#9c179e"
             ],
             [
              0.4444444444444444,
              "#bd3786"
             ],
             [
              0.5555555555555556,
              "#d8576b"
             ],
             [
              0.6666666666666666,
              "#ed7953"
             ],
             [
              0.7777777777777778,
              "#fb9f3a"
             ],
             [
              0.8888888888888888,
              "#fdca26"
             ],
             [
              1,
              "#f0f921"
             ]
            ],
            "type": "surface"
           }
          ],
          "table": [
           {
            "cells": {
             "fill": {
              "color": "#EBF0F8"
             },
             "line": {
              "color": "white"
             }
            },
            "header": {
             "fill": {
              "color": "#C8D4E3"
             },
             "line": {
              "color": "white"
             }
            },
            "type": "table"
           }
          ]
         },
         "layout": {
          "annotationdefaults": {
           "arrowcolor": "#2a3f5f",
           "arrowhead": 0,
           "arrowwidth": 1
          },
          "autotypenumbers": "strict",
          "coloraxis": {
           "colorbar": {
            "outlinewidth": 0,
            "ticks": ""
           }
          },
          "colorscale": {
           "diverging": [
            [
             0,
             "#8e0152"
            ],
            [
             0.1,
             "#c51b7d"
            ],
            [
             0.2,
             "#de77ae"
            ],
            [
             0.3,
             "#f1b6da"
            ],
            [
             0.4,
             "#fde0ef"
            ],
            [
             0.5,
             "#f7f7f7"
            ],
            [
             0.6,
             "#e6f5d0"
            ],
            [
             0.7,
             "#b8e186"
            ],
            [
             0.8,
             "#7fbc41"
            ],
            [
             0.9,
             "#4d9221"
            ],
            [
             1,
             "#276419"
            ]
           ],
           "sequential": [
            [
             0,
             "#0d0887"
            ],
            [
             0.1111111111111111,
             "#46039f"
            ],
            [
             0.2222222222222222,
             "#7201a8"
            ],
            [
             0.3333333333333333,
             "#9c179e"
            ],
            [
             0.4444444444444444,
             "#bd3786"
            ],
            [
             0.5555555555555556,
             "#d8576b"
            ],
            [
             0.6666666666666666,
             "#ed7953"
            ],
            [
             0.7777777777777778,
             "#fb9f3a"
            ],
            [
             0.8888888888888888,
             "#fdca26"
            ],
            [
             1,
             "#f0f921"
            ]
           ],
           "sequentialminus": [
            [
             0,
             "#0d0887"
            ],
            [
             0.1111111111111111,
             "#46039f"
            ],
            [
             0.2222222222222222,
             "#7201a8"
            ],
            [
             0.3333333333333333,
             "#9c179e"
            ],
            [
             0.4444444444444444,
             "#bd3786"
            ],
            [
             0.5555555555555556,
             "#d8576b"
            ],
            [
             0.6666666666666666,
             "#ed7953"
            ],
            [
             0.7777777777777778,
             "#fb9f3a"
            ],
            [
             0.8888888888888888,
             "#fdca26"
            ],
            [
             1,
             "#f0f921"
            ]
           ]
          },
          "colorway": [
           "#636efa",
           "#EF553B",
           "#00cc96",
           "#ab63fa",
           "#FFA15A",
           "#19d3f3",
           "#FF6692",
           "#B6E880",
           "#FF97FF",
           "#FECB52"
          ],
          "font": {
           "color": "#2a3f5f"
          },
          "geo": {
           "bgcolor": "white",
           "lakecolor": "white",
           "landcolor": "#E5ECF6",
           "showlakes": true,
           "showland": true,
           "subunitcolor": "white"
          },
          "hoverlabel": {
           "align": "left"
          },
          "hovermode": "closest",
          "mapbox": {
           "style": "light"
          },
          "paper_bgcolor": "white",
          "plot_bgcolor": "#E5ECF6",
          "polar": {
           "angularaxis": {
            "gridcolor": "white",
            "linecolor": "white",
            "ticks": ""
           },
           "bgcolor": "#E5ECF6",
           "radialaxis": {
            "gridcolor": "white",
            "linecolor": "white",
            "ticks": ""
           }
          },
          "scene": {
           "xaxis": {
            "backgroundcolor": "#E5ECF6",
            "gridcolor": "white",
            "gridwidth": 2,
            "linecolor": "white",
            "showbackground": true,
            "ticks": "",
            "zerolinecolor": "white"
           },
           "yaxis": {
            "backgroundcolor": "#E5ECF6",
            "gridcolor": "white",
            "gridwidth": 2,
            "linecolor": "white",
            "showbackground": true,
            "ticks": "",
            "zerolinecolor": "white"
           },
           "zaxis": {
            "backgroundcolor": "#E5ECF6",
            "gridcolor": "white",
            "gridwidth": 2,
            "linecolor": "white",
            "showbackground": true,
            "ticks": "",
            "zerolinecolor": "white"
           }
          },
          "shapedefaults": {
           "line": {
            "color": "#2a3f5f"
           }
          },
          "ternary": {
           "aaxis": {
            "gridcolor": "white",
            "linecolor": "white",
            "ticks": ""
           },
           "baxis": {
            "gridcolor": "white",
            "linecolor": "white",
            "ticks": ""
           },
           "bgcolor": "#E5ECF6",
           "caxis": {
            "gridcolor": "white",
            "linecolor": "white",
            "ticks": ""
           }
          },
          "title": {
           "x": 0.05
          },
          "xaxis": {
           "automargin": true,
           "gridcolor": "white",
           "linecolor": "white",
           "ticks": "",
           "title": {
            "standoff": 15
           },
           "zerolinecolor": "white",
           "zerolinewidth": 2
          },
          "yaxis": {
           "automargin": true,
           "gridcolor": "white",
           "linecolor": "white",
           "ticks": "",
           "title": {
            "standoff": 15
           },
           "zerolinecolor": "white",
           "zerolinewidth": 2
          }
         }
        },
        "title": {
         "text": "Распределение количества пользователей по событиям в группах 246, 247, 248"
        },
        "width": 1100
       }
      },
      "text/html": [
       "<div>                            <div id=\"bff4e920-06a0-4034-b4d1-856f3c52a4e3\" class=\"plotly-graph-div\" style=\"height:700px; width:1100px;\"></div>            <script type=\"text/javascript\">                require([\"plotly\"], function(Plotly) {                    window.PLOTLYENV=window.PLOTLYENV || {};                                    if (document.getElementById(\"bff4e920-06a0-4034-b4d1-856f3c52a4e3\")) {                    Plotly.newPlot(                        \"bff4e920-06a0-4034-b4d1-856f3c52a4e3\",                        [{\"marker\":{\"color\":\"#39A608\"},\"name\":\"246 group\",\"textinfo\":\"value+percent previous\",\"textposition\":\"inside\",\"x\":[2450,1542,1266,1200],\"y\":[\"MainScreenAppear\",\"OffersScreenAppear\",\"CartScreenAppear\",\"PaymentScreenSuccessful\"],\"type\":\"funnel\"},{\"marker\":{\"color\":\"#FFFD95\"},\"name\":\"247 group\",\"textinfo\":\"value+percent previous\",\"textposition\":\"inside\",\"x\":[2479,1524,1239,1158],\"y\":[\"MainScreenAppear\",\"OffersScreenAppear\",\"CartScreenAppear\",\"PaymentScreenSuccessful\"],\"type\":\"funnel\"},{\"marker\":{\"color\":\"#2C4791\"},\"name\":\"248 group\",\"textinfo\":\"value+percent previous\",\"textposition\":\"inside\",\"x\":[2494,1531,1231,1182],\"y\":[\"MainScreenAppear\",\"OffersScreenAppear\",\"CartScreenAppear\",\"PaymentScreenSuccessful\"],\"type\":\"funnel\"}],                        {\"template\":{\"data\":{\"histogram2dcontour\":[{\"type\":\"histogram2dcontour\",\"colorbar\":{\"outlinewidth\":0,\"ticks\":\"\"},\"colorscale\":[[0.0,\"#0d0887\"],[0.1111111111111111,\"#46039f\"],[0.2222222222222222,\"#7201a8\"],[0.3333333333333333,\"#9c179e\"],[0.4444444444444444,\"#bd3786\"],[0.5555555555555556,\"#d8576b\"],[0.6666666666666666,\"#ed7953\"],[0.7777777777777778,\"#fb9f3a\"],[0.8888888888888888,\"#fdca26\"],[1.0,\"#f0f921\"]]}],\"choropleth\":[{\"type\":\"choropleth\",\"colorbar\":{\"outlinewidth\":0,\"ticks\":\"\"}}],\"histogram2d\":[{\"type\":\"histogram2d\",\"colorbar\":{\"outlinewidth\":0,\"ticks\":\"\"},\"colorscale\":[[0.0,\"#0d0887\"],[0.1111111111111111,\"#46039f\"],[0.2222222222222222,\"#7201a8\"],[0.3333333333333333,\"#9c179e\"],[0.4444444444444444,\"#bd3786\"],[0.5555555555555556,\"#d8576b\"],[0.6666666666666666,\"#ed7953\"],[0.7777777777777778,\"#fb9f3a\"],[0.8888888888888888,\"#fdca26\"],[1.0,\"#f0f921\"]]}],\"heatmap\":[{\"type\":\"heatmap\",\"colorbar\":{\"outlinewidth\":0,\"ticks\":\"\"},\"colorscale\":[[0.0,\"#0d0887\"],[0.1111111111111111,\"#46039f\"],[0.2222222222222222,\"#7201a8\"],[0.3333333333333333,\"#9c179e\"],[0.4444444444444444,\"#bd3786\"],[0.5555555555555556,\"#d8576b\"],[0.6666666666666666,\"#ed7953\"],[0.7777777777777778,\"#fb9f3a\"],[0.8888888888888888,\"#fdca26\"],[1.0,\"#f0f921\"]]}],\"heatmapgl\":[{\"type\":\"heatmapgl\",\"colorbar\":{\"outlinewidth\":0,\"ticks\":\"\"},\"colorscale\":[[0.0,\"#0d0887\"],[0.1111111111111111,\"#46039f\"],[0.2222222222222222,\"#7201a8\"],[0.3333333333333333,\"#9c179e\"],[0.4444444444444444,\"#bd3786\"],[0.5555555555555556,\"#d8576b\"],[0.6666666666666666,\"#ed7953\"],[0.7777777777777778,\"#fb9f3a\"],[0.8888888888888888,\"#fdca26\"],[1.0,\"#f0f921\"]]}],\"contourcarpet\":[{\"type\":\"contourcarpet\",\"colorbar\":{\"outlinewidth\":0,\"ticks\":\"\"}}],\"contour\":[{\"type\":\"contour\",\"colorbar\":{\"outlinewidth\":0,\"ticks\":\"\"},\"colorscale\":[[0.0,\"#0d0887\"],[0.1111111111111111,\"#46039f\"],[0.2222222222222222,\"#7201a8\"],[0.3333333333333333,\"#9c179e\"],[0.4444444444444444,\"#bd3786\"],[0.5555555555555556,\"#d8576b\"],[0.6666666666666666,\"#ed7953\"],[0.7777777777777778,\"#fb9f3a\"],[0.8888888888888888,\"#fdca26\"],[1.0,\"#f0f921\"]]}],\"surface\":[{\"type\":\"surface\",\"colorbar\":{\"outlinewidth\":0,\"ticks\":\"\"},\"colorscale\":[[0.0,\"#0d0887\"],[0.1111111111111111,\"#46039f\"],[0.2222222222222222,\"#7201a8\"],[0.3333333333333333,\"#9c179e\"],[0.4444444444444444,\"#bd3786\"],[0.5555555555555556,\"#d8576b\"],[0.6666666666666666,\"#ed7953\"],[0.7777777777777778,\"#fb9f3a\"],[0.8888888888888888,\"#fdca26\"],[1.0,\"#f0f921\"]]}],\"mesh3d\":[{\"type\":\"mesh3d\",\"colorbar\":{\"outlinewidth\":0,\"ticks\":\"\"}}],\"scatter\":[{\"fillpattern\":{\"fillmode\":\"overlay\",\"size\":10,\"solidity\":0.2},\"type\":\"scatter\"}],\"parcoords\":[{\"type\":\"parcoords\",\"line\":{\"colorbar\":{\"outlinewidth\":0,\"ticks\":\"\"}}}],\"scatterpolargl\":[{\"type\":\"scatterpolargl\",\"marker\":{\"colorbar\":{\"outlinewidth\":0,\"ticks\":\"\"}}}],\"bar\":[{\"error_x\":{\"color\":\"#2a3f5f\"},\"error_y\":{\"color\":\"#2a3f5f\"},\"marker\":{\"line\":{\"color\":\"#E5ECF6\",\"width\":0.5},\"pattern\":{\"fillmode\":\"overlay\",\"size\":10,\"solidity\":0.2}},\"type\":\"bar\"}],\"scattergeo\":[{\"type\":\"scattergeo\",\"marker\":{\"colorbar\":{\"outlinewidth\":0,\"ticks\":\"\"}}}],\"scatterpolar\":[{\"type\":\"scatterpolar\",\"marker\":{\"colorbar\":{\"outlinewidth\":0,\"ticks\":\"\"}}}],\"histogram\":[{\"marker\":{\"pattern\":{\"fillmode\":\"overlay\",\"size\":10,\"solidity\":0.2}},\"type\":\"histogram\"}],\"scattergl\":[{\"type\":\"scattergl\",\"marker\":{\"colorbar\":{\"outlinewidth\":0,\"ticks\":\"\"}}}],\"scatter3d\":[{\"type\":\"scatter3d\",\"line\":{\"colorbar\":{\"outlinewidth\":0,\"ticks\":\"\"}},\"marker\":{\"colorbar\":{\"outlinewidth\":0,\"ticks\":\"\"}}}],\"scattermapbox\":[{\"type\":\"scattermapbox\",\"marker\":{\"colorbar\":{\"outlinewidth\":0,\"ticks\":\"\"}}}],\"scatterternary\":[{\"type\":\"scatterternary\",\"marker\":{\"colorbar\":{\"outlinewidth\":0,\"ticks\":\"\"}}}],\"scattercarpet\":[{\"type\":\"scattercarpet\",\"marker\":{\"colorbar\":{\"outlinewidth\":0,\"ticks\":\"\"}}}],\"carpet\":[{\"aaxis\":{\"endlinecolor\":\"#2a3f5f\",\"gridcolor\":\"white\",\"linecolor\":\"white\",\"minorgridcolor\":\"white\",\"startlinecolor\":\"#2a3f5f\"},\"baxis\":{\"endlinecolor\":\"#2a3f5f\",\"gridcolor\":\"white\",\"linecolor\":\"white\",\"minorgridcolor\":\"white\",\"startlinecolor\":\"#2a3f5f\"},\"type\":\"carpet\"}],\"table\":[{\"cells\":{\"fill\":{\"color\":\"#EBF0F8\"},\"line\":{\"color\":\"white\"}},\"header\":{\"fill\":{\"color\":\"#C8D4E3\"},\"line\":{\"color\":\"white\"}},\"type\":\"table\"}],\"barpolar\":[{\"marker\":{\"line\":{\"color\":\"#E5ECF6\",\"width\":0.5},\"pattern\":{\"fillmode\":\"overlay\",\"size\":10,\"solidity\":0.2}},\"type\":\"barpolar\"}],\"pie\":[{\"automargin\":true,\"type\":\"pie\"}]},\"layout\":{\"autotypenumbers\":\"strict\",\"colorway\":[\"#636efa\",\"#EF553B\",\"#00cc96\",\"#ab63fa\",\"#FFA15A\",\"#19d3f3\",\"#FF6692\",\"#B6E880\",\"#FF97FF\",\"#FECB52\"],\"font\":{\"color\":\"#2a3f5f\"},\"hovermode\":\"closest\",\"hoverlabel\":{\"align\":\"left\"},\"paper_bgcolor\":\"white\",\"plot_bgcolor\":\"#E5ECF6\",\"polar\":{\"bgcolor\":\"#E5ECF6\",\"angularaxis\":{\"gridcolor\":\"white\",\"linecolor\":\"white\",\"ticks\":\"\"},\"radialaxis\":{\"gridcolor\":\"white\",\"linecolor\":\"white\",\"ticks\":\"\"}},\"ternary\":{\"bgcolor\":\"#E5ECF6\",\"aaxis\":{\"gridcolor\":\"white\",\"linecolor\":\"white\",\"ticks\":\"\"},\"baxis\":{\"gridcolor\":\"white\",\"linecolor\":\"white\",\"ticks\":\"\"},\"caxis\":{\"gridcolor\":\"white\",\"linecolor\":\"white\",\"ticks\":\"\"}},\"coloraxis\":{\"colorbar\":{\"outlinewidth\":0,\"ticks\":\"\"}},\"colorscale\":{\"sequential\":[[0.0,\"#0d0887\"],[0.1111111111111111,\"#46039f\"],[0.2222222222222222,\"#7201a8\"],[0.3333333333333333,\"#9c179e\"],[0.4444444444444444,\"#bd3786\"],[0.5555555555555556,\"#d8576b\"],[0.6666666666666666,\"#ed7953\"],[0.7777777777777778,\"#fb9f3a\"],[0.8888888888888888,\"#fdca26\"],[1.0,\"#f0f921\"]],\"sequentialminus\":[[0.0,\"#0d0887\"],[0.1111111111111111,\"#46039f\"],[0.2222222222222222,\"#7201a8\"],[0.3333333333333333,\"#9c179e\"],[0.4444444444444444,\"#bd3786\"],[0.5555555555555556,\"#d8576b\"],[0.6666666666666666,\"#ed7953\"],[0.7777777777777778,\"#fb9f3a\"],[0.8888888888888888,\"#fdca26\"],[1.0,\"#f0f921\"]],\"diverging\":[[0,\"#8e0152\"],[0.1,\"#c51b7d\"],[0.2,\"#de77ae\"],[0.3,\"#f1b6da\"],[0.4,\"#fde0ef\"],[0.5,\"#f7f7f7\"],[0.6,\"#e6f5d0\"],[0.7,\"#b8e186\"],[0.8,\"#7fbc41\"],[0.9,\"#4d9221\"],[1,\"#276419\"]]},\"xaxis\":{\"gridcolor\":\"white\",\"linecolor\":\"white\",\"ticks\":\"\",\"title\":{\"standoff\":15},\"zerolinecolor\":\"white\",\"automargin\":true,\"zerolinewidth\":2},\"yaxis\":{\"gridcolor\":\"white\",\"linecolor\":\"white\",\"ticks\":\"\",\"title\":{\"standoff\":15},\"zerolinecolor\":\"white\",\"automargin\":true,\"zerolinewidth\":2},\"scene\":{\"xaxis\":{\"backgroundcolor\":\"#E5ECF6\",\"gridcolor\":\"white\",\"linecolor\":\"white\",\"showbackground\":true,\"ticks\":\"\",\"zerolinecolor\":\"white\",\"gridwidth\":2},\"yaxis\":{\"backgroundcolor\":\"#E5ECF6\",\"gridcolor\":\"white\",\"linecolor\":\"white\",\"showbackground\":true,\"ticks\":\"\",\"zerolinecolor\":\"white\",\"gridwidth\":2},\"zaxis\":{\"backgroundcolor\":\"#E5ECF6\",\"gridcolor\":\"white\",\"linecolor\":\"white\",\"showbackground\":true,\"ticks\":\"\",\"zerolinecolor\":\"white\",\"gridwidth\":2}},\"shapedefaults\":{\"line\":{\"color\":\"#2a3f5f\"}},\"annotationdefaults\":{\"arrowcolor\":\"#2a3f5f\",\"arrowhead\":0,\"arrowwidth\":1},\"geo\":{\"bgcolor\":\"white\",\"landcolor\":\"#E5ECF6\",\"subunitcolor\":\"white\",\"showland\":true,\"showlakes\":true,\"lakecolor\":\"white\"},\"title\":{\"x\":0.05},\"mapbox\":{\"style\":\"light\"}}},\"title\":{\"text\":\"\\u0420\\u0430\\u0441\\u043f\\u0440\\u0435\\u0434\\u0435\\u043b\\u0435\\u043d\\u0438\\u0435 \\u043a\\u043e\\u043b\\u0438\\u0447\\u0435\\u0441\\u0442\\u0432\\u0430 \\u043f\\u043e\\u043b\\u044c\\u0437\\u043e\\u0432\\u0430\\u0442\\u0435\\u043b\\u0435\\u0439 \\u043f\\u043e \\u0441\\u043e\\u0431\\u044b\\u0442\\u0438\\u044f\\u043c \\u0432 \\u0433\\u0440\\u0443\\u043f\\u043f\\u0430\\u0445 246, 247, 248\"},\"height\":700,\"width\":1100},                        {\"responsive\": true}                    ).then(function(){\n",
       "                            \n",
       "var gd = document.getElementById('bff4e920-06a0-4034-b4d1-856f3c52a4e3');\n",
       "var x = new MutationObserver(function (mutations, observer) {{\n",
       "        var display = window.getComputedStyle(gd).display;\n",
       "        if (!display || display === 'none') {{\n",
       "            console.log([gd, 'removed!']);\n",
       "            Plotly.purge(gd);\n",
       "            observer.disconnect();\n",
       "        }}\n",
       "}});\n",
       "\n",
       "// Listen for the removal of the full notebook cells\n",
       "var notebookContainer = gd.closest('#notebook-container');\n",
       "if (notebookContainer) {{\n",
       "    x.observe(notebookContainer, {childList: true});\n",
       "}}\n",
       "\n",
       "// Listen for the clearing of the current output cell\n",
       "var outputEl = gd.closest('.output');\n",
       "if (outputEl) {{\n",
       "    x.observe(outputEl, {childList: true});\n",
       "}}\n",
       "\n",
       "                        })                };                });            </script>        </div>"
      ]
     },
     "metadata": {},
     "output_type": "display_data"
    }
   ],
   "source": [
    "# Аналогично поступите с группой с изменённым шрифтом.\n",
    "# Сравните результаты с каждой из контрольных групп в отдельности по каждому событию.\n",
    "# Сравните результаты с объединённой контрольной группой.\n",
    "\n",
    "figur1 = go.Figure()\n",
    "\n",
    "figur1.add_trace(go.Funnel(name = '246 group',\n",
    "    y = df_group[\"event_name\"],\n",
    "    x = df_group[246],textposition = \"inside\", \n",
    "    textinfo = \"value+percent previous\",\n",
    "    marker = {\"color\": \"#39A608\"}))\n",
    "figur1.add_trace(go.Funnel(name = '247 group',\n",
    "    y = df_group[\"event_name\"],\n",
    "    x = df_group[247],textposition = \"inside\", \n",
    "    textinfo = \"value+percent previous\",\n",
    "    marker = {\"color\": \"#FFFD95\"}))\n",
    "figur1.add_trace(go.Funnel(name = '248 group',\n",
    "    y = df_group[\"event_name\"],\n",
    "    x = df_group[248],textposition = \"inside\", \n",
    "    textinfo = \"value+percent previous\",\n",
    "    marker = {\"color\": \"#2C4791\"}))\n",
    "\n",
    "figur1.update_layout(title='Распределение количества пользователей по событиям в группах 246, 247, 248',height=700, width=1100)\n",
    "figur1.show()"
   ]
  },
  {
   "cell_type": "markdown",
   "metadata": {},
   "source": [
    "### Гипотезы\n",
    "    Н0 - в значениях групп 246 и 248 нет существенной разницы.\n",
    "    Н1 - в значениях групп 246 и 248 есть существенная разница. "
   ]
  },
  {
   "cell_type": "code",
   "execution_count": 46,
   "metadata": {},
   "outputs": [
    {
     "name": "stdout",
     "output_type": "stream",
     "text": [
      "Тест для расчёта действий пользователей MainScreenAppear\n",
      "p-значение:  0.3493928459684199\n",
      "Не получилось отвергнуть нулевую гипотезу - Нет оснований считать доли разными \n",
      "\n",
      "Тест для расчёта действий пользователей OffersScreenAppear\n",
      "p-значение:  0.8974717214906709\n",
      "Не получилось отвергнуть нулевую гипотезу - Нет оснований считать доли разными \n",
      "\n",
      "Тест для расчёта действий пользователей CartScreenAppear\n",
      "p-значение:  0.4878751132108463\n",
      "Не получилось отвергнуть нулевую гипотезу - Нет оснований считать доли разными \n",
      "\n",
      "Тест для расчёта действий пользователей PaymentScreenSuccessful\n",
      "p-значение:  0.7454624679658486\n",
      "Не получилось отвергнуть нулевую гипотезу - Нет оснований считать доли разными \n",
      "\n"
     ]
    }
   ],
   "source": [
    "# тест:\n",
    "\n",
    "tst2 = [hypothesis_test(df_group[248][i],df_group[246][i],df_group[248].sum(),\n",
    "                    df_group[246].sum(),df_group['event_name'][i], alpha =  0.05) for i in range(len(df_group[248]))]"
   ]
  },
  {
   "cell_type": "markdown",
   "metadata": {},
   "source": [
    "**Тест не определил существенную разницу между группами 246 и 248.**"
   ]
  },
  {
   "cell_type": "markdown",
   "metadata": {},
   "source": [
    "### Гипотезы\n",
    "    Н0 - в значениях групп 248 и объединённых контрольных группах нет существенной разницы.\n",
    "    Н1 - в значениях групп 248 и объединённых контрольных группах есть существенная разница. "
   ]
  },
  {
   "cell_type": "code",
   "execution_count": 47,
   "metadata": {},
   "outputs": [
    {
     "data": {
      "application/vnd.plotly.v1+json": {
       "config": {
        "plotlyServerURL": "https://plot.ly"
       },
       "data": [
        {
         "marker": {
          "color": "#39A600"
         },
         "name": "248 group",
         "textinfo": "value+percent previous",
         "textposition": "inside",
         "type": "funnel",
         "x": [
          2494,
          1531,
          1231,
          1182
         ],
         "y": [
          "MainScreenAppear",
          "OffersScreenAppear",
          "CartScreenAppear",
          "PaymentScreenSuccessful"
         ]
        },
        {
         "marker": {
          "color": "#2C4791"
         },
         "name": "246 и 247 groups",
         "textinfo": "value+percent previous",
         "textposition": "inside",
         "type": "funnel",
         "x": [
          4929,
          3066,
          2505,
          2358
         ],
         "y": [
          "MainScreenAppear",
          "OffersScreenAppear",
          "CartScreenAppear",
          "PaymentScreenSuccessful"
         ]
        }
       ],
       "layout": {
        "height": 700,
        "template": {
         "data": {
          "bar": [
           {
            "error_x": {
             "color": "#2a3f5f"
            },
            "error_y": {
             "color": "#2a3f5f"
            },
            "marker": {
             "line": {
              "color": "#E5ECF6",
              "width": 0.5
             },
             "pattern": {
              "fillmode": "overlay",
              "size": 10,
              "solidity": 0.2
             }
            },
            "type": "bar"
           }
          ],
          "barpolar": [
           {
            "marker": {
             "line": {
              "color": "#E5ECF6",
              "width": 0.5
             },
             "pattern": {
              "fillmode": "overlay",
              "size": 10,
              "solidity": 0.2
             }
            },
            "type": "barpolar"
           }
          ],
          "carpet": [
           {
            "aaxis": {
             "endlinecolor": "#2a3f5f",
             "gridcolor": "white",
             "linecolor": "white",
             "minorgridcolor": "white",
             "startlinecolor": "#2a3f5f"
            },
            "baxis": {
             "endlinecolor": "#2a3f5f",
             "gridcolor": "white",
             "linecolor": "white",
             "minorgridcolor": "white",
             "startlinecolor": "#2a3f5f"
            },
            "type": "carpet"
           }
          ],
          "choropleth": [
           {
            "colorbar": {
             "outlinewidth": 0,
             "ticks": ""
            },
            "type": "choropleth"
           }
          ],
          "contour": [
           {
            "colorbar": {
             "outlinewidth": 0,
             "ticks": ""
            },
            "colorscale": [
             [
              0,
              "#0d0887"
             ],
             [
              0.1111111111111111,
              "#46039f"
             ],
             [
              0.2222222222222222,
              "#7201a8"
             ],
             [
              0.3333333333333333,
              "#9c179e"
             ],
             [
              0.4444444444444444,
              "#bd3786"
             ],
             [
              0.5555555555555556,
              "#d8576b"
             ],
             [
              0.6666666666666666,
              "#ed7953"
             ],
             [
              0.7777777777777778,
              "#fb9f3a"
             ],
             [
              0.8888888888888888,
              "#fdca26"
             ],
             [
              1,
              "#f0f921"
             ]
            ],
            "type": "contour"
           }
          ],
          "contourcarpet": [
           {
            "colorbar": {
             "outlinewidth": 0,
             "ticks": ""
            },
            "type": "contourcarpet"
           }
          ],
          "heatmap": [
           {
            "colorbar": {
             "outlinewidth": 0,
             "ticks": ""
            },
            "colorscale": [
             [
              0,
              "#0d0887"
             ],
             [
              0.1111111111111111,
              "#46039f"
             ],
             [
              0.2222222222222222,
              "#7201a8"
             ],
             [
              0.3333333333333333,
              "#9c179e"
             ],
             [
              0.4444444444444444,
              "#bd3786"
             ],
             [
              0.5555555555555556,
              "#d8576b"
             ],
             [
              0.6666666666666666,
              "#ed7953"
             ],
             [
              0.7777777777777778,
              "#fb9f3a"
             ],
             [
              0.8888888888888888,
              "#fdca26"
             ],
             [
              1,
              "#f0f921"
             ]
            ],
            "type": "heatmap"
           }
          ],
          "heatmapgl": [
           {
            "colorbar": {
             "outlinewidth": 0,
             "ticks": ""
            },
            "colorscale": [
             [
              0,
              "#0d0887"
             ],
             [
              0.1111111111111111,
              "#46039f"
             ],
             [
              0.2222222222222222,
              "#7201a8"
             ],
             [
              0.3333333333333333,
              "#9c179e"
             ],
             [
              0.4444444444444444,
              "#bd3786"
             ],
             [
              0.5555555555555556,
              "#d8576b"
             ],
             [
              0.6666666666666666,
              "#ed7953"
             ],
             [
              0.7777777777777778,
              "#fb9f3a"
             ],
             [
              0.8888888888888888,
              "#fdca26"
             ],
             [
              1,
              "#f0f921"
             ]
            ],
            "type": "heatmapgl"
           }
          ],
          "histogram": [
           {
            "marker": {
             "pattern": {
              "fillmode": "overlay",
              "size": 10,
              "solidity": 0.2
             }
            },
            "type": "histogram"
           }
          ],
          "histogram2d": [
           {
            "colorbar": {
             "outlinewidth": 0,
             "ticks": ""
            },
            "colorscale": [
             [
              0,
              "#0d0887"
             ],
             [
              0.1111111111111111,
              "#46039f"
             ],
             [
              0.2222222222222222,
              "#7201a8"
             ],
             [
              0.3333333333333333,
              "#9c179e"
             ],
             [
              0.4444444444444444,
              "#bd3786"
             ],
             [
              0.5555555555555556,
              "#d8576b"
             ],
             [
              0.6666666666666666,
              "#ed7953"
             ],
             [
              0.7777777777777778,
              "#fb9f3a"
             ],
             [
              0.8888888888888888,
              "#fdca26"
             ],
             [
              1,
              "#f0f921"
             ]
            ],
            "type": "histogram2d"
           }
          ],
          "histogram2dcontour": [
           {
            "colorbar": {
             "outlinewidth": 0,
             "ticks": ""
            },
            "colorscale": [
             [
              0,
              "#0d0887"
             ],
             [
              0.1111111111111111,
              "#46039f"
             ],
             [
              0.2222222222222222,
              "#7201a8"
             ],
             [
              0.3333333333333333,
              "#9c179e"
             ],
             [
              0.4444444444444444,
              "#bd3786"
             ],
             [
              0.5555555555555556,
              "#d8576b"
             ],
             [
              0.6666666666666666,
              "#ed7953"
             ],
             [
              0.7777777777777778,
              "#fb9f3a"
             ],
             [
              0.8888888888888888,
              "#fdca26"
             ],
             [
              1,
              "#f0f921"
             ]
            ],
            "type": "histogram2dcontour"
           }
          ],
          "mesh3d": [
           {
            "colorbar": {
             "outlinewidth": 0,
             "ticks": ""
            },
            "type": "mesh3d"
           }
          ],
          "parcoords": [
           {
            "line": {
             "colorbar": {
              "outlinewidth": 0,
              "ticks": ""
             }
            },
            "type": "parcoords"
           }
          ],
          "pie": [
           {
            "automargin": true,
            "type": "pie"
           }
          ],
          "scatter": [
           {
            "fillpattern": {
             "fillmode": "overlay",
             "size": 10,
             "solidity": 0.2
            },
            "type": "scatter"
           }
          ],
          "scatter3d": [
           {
            "line": {
             "colorbar": {
              "outlinewidth": 0,
              "ticks": ""
             }
            },
            "marker": {
             "colorbar": {
              "outlinewidth": 0,
              "ticks": ""
             }
            },
            "type": "scatter3d"
           }
          ],
          "scattercarpet": [
           {
            "marker": {
             "colorbar": {
              "outlinewidth": 0,
              "ticks": ""
             }
            },
            "type": "scattercarpet"
           }
          ],
          "scattergeo": [
           {
            "marker": {
             "colorbar": {
              "outlinewidth": 0,
              "ticks": ""
             }
            },
            "type": "scattergeo"
           }
          ],
          "scattergl": [
           {
            "marker": {
             "colorbar": {
              "outlinewidth": 0,
              "ticks": ""
             }
            },
            "type": "scattergl"
           }
          ],
          "scattermapbox": [
           {
            "marker": {
             "colorbar": {
              "outlinewidth": 0,
              "ticks": ""
             }
            },
            "type": "scattermapbox"
           }
          ],
          "scatterpolar": [
           {
            "marker": {
             "colorbar": {
              "outlinewidth": 0,
              "ticks": ""
             }
            },
            "type": "scatterpolar"
           }
          ],
          "scatterpolargl": [
           {
            "marker": {
             "colorbar": {
              "outlinewidth": 0,
              "ticks": ""
             }
            },
            "type": "scatterpolargl"
           }
          ],
          "scatterternary": [
           {
            "marker": {
             "colorbar": {
              "outlinewidth": 0,
              "ticks": ""
             }
            },
            "type": "scatterternary"
           }
          ],
          "surface": [
           {
            "colorbar": {
             "outlinewidth": 0,
             "ticks": ""
            },
            "colorscale": [
             [
              0,
              "#0d0887"
             ],
             [
              0.1111111111111111,
              "#46039f"
             ],
             [
              0.2222222222222222,
              "#7201a8"
             ],
             [
              0.3333333333333333,
              "#9c179e"
             ],
             [
              0.4444444444444444,
              "#bd3786"
             ],
             [
              0.5555555555555556,
              "#d8576b"
             ],
             [
              0.6666666666666666,
              "#ed7953"
             ],
             [
              0.7777777777777778,
              "#fb9f3a"
             ],
             [
              0.8888888888888888,
              "#fdca26"
             ],
             [
              1,
              "#f0f921"
             ]
            ],
            "type": "surface"
           }
          ],
          "table": [
           {
            "cells": {
             "fill": {
              "color": "#EBF0F8"
             },
             "line": {
              "color": "white"
             }
            },
            "header": {
             "fill": {
              "color": "#C8D4E3"
             },
             "line": {
              "color": "white"
             }
            },
            "type": "table"
           }
          ]
         },
         "layout": {
          "annotationdefaults": {
           "arrowcolor": "#2a3f5f",
           "arrowhead": 0,
           "arrowwidth": 1
          },
          "autotypenumbers": "strict",
          "coloraxis": {
           "colorbar": {
            "outlinewidth": 0,
            "ticks": ""
           }
          },
          "colorscale": {
           "diverging": [
            [
             0,
             "#8e0152"
            ],
            [
             0.1,
             "#c51b7d"
            ],
            [
             0.2,
             "#de77ae"
            ],
            [
             0.3,
             "#f1b6da"
            ],
            [
             0.4,
             "#fde0ef"
            ],
            [
             0.5,
             "#f7f7f7"
            ],
            [
             0.6,
             "#e6f5d0"
            ],
            [
             0.7,
             "#b8e186"
            ],
            [
             0.8,
             "#7fbc41"
            ],
            [
             0.9,
             "#4d9221"
            ],
            [
             1,
             "#276419"
            ]
           ],
           "sequential": [
            [
             0,
             "#0d0887"
            ],
            [
             0.1111111111111111,
             "#46039f"
            ],
            [
             0.2222222222222222,
             "#7201a8"
            ],
            [
             0.3333333333333333,
             "#9c179e"
            ],
            [
             0.4444444444444444,
             "#bd3786"
            ],
            [
             0.5555555555555556,
             "#d8576b"
            ],
            [
             0.6666666666666666,
             "#ed7953"
            ],
            [
             0.7777777777777778,
             "#fb9f3a"
            ],
            [
             0.8888888888888888,
             "#fdca26"
            ],
            [
             1,
             "#f0f921"
            ]
           ],
           "sequentialminus": [
            [
             0,
             "#0d0887"
            ],
            [
             0.1111111111111111,
             "#46039f"
            ],
            [
             0.2222222222222222,
             "#7201a8"
            ],
            [
             0.3333333333333333,
             "#9c179e"
            ],
            [
             0.4444444444444444,
             "#bd3786"
            ],
            [
             0.5555555555555556,
             "#d8576b"
            ],
            [
             0.6666666666666666,
             "#ed7953"
            ],
            [
             0.7777777777777778,
             "#fb9f3a"
            ],
            [
             0.8888888888888888,
             "#fdca26"
            ],
            [
             1,
             "#f0f921"
            ]
           ]
          },
          "colorway": [
           "#636efa",
           "#EF553B",
           "#00cc96",
           "#ab63fa",
           "#FFA15A",
           "#19d3f3",
           "#FF6692",
           "#B6E880",
           "#FF97FF",
           "#FECB52"
          ],
          "font": {
           "color": "#2a3f5f"
          },
          "geo": {
           "bgcolor": "white",
           "lakecolor": "white",
           "landcolor": "#E5ECF6",
           "showlakes": true,
           "showland": true,
           "subunitcolor": "white"
          },
          "hoverlabel": {
           "align": "left"
          },
          "hovermode": "closest",
          "mapbox": {
           "style": "light"
          },
          "paper_bgcolor": "white",
          "plot_bgcolor": "#E5ECF6",
          "polar": {
           "angularaxis": {
            "gridcolor": "white",
            "linecolor": "white",
            "ticks": ""
           },
           "bgcolor": "#E5ECF6",
           "radialaxis": {
            "gridcolor": "white",
            "linecolor": "white",
            "ticks": ""
           }
          },
          "scene": {
           "xaxis": {
            "backgroundcolor": "#E5ECF6",
            "gridcolor": "white",
            "gridwidth": 2,
            "linecolor": "white",
            "showbackground": true,
            "ticks": "",
            "zerolinecolor": "white"
           },
           "yaxis": {
            "backgroundcolor": "#E5ECF6",
            "gridcolor": "white",
            "gridwidth": 2,
            "linecolor": "white",
            "showbackground": true,
            "ticks": "",
            "zerolinecolor": "white"
           },
           "zaxis": {
            "backgroundcolor": "#E5ECF6",
            "gridcolor": "white",
            "gridwidth": 2,
            "linecolor": "white",
            "showbackground": true,
            "ticks": "",
            "zerolinecolor": "white"
           }
          },
          "shapedefaults": {
           "line": {
            "color": "#2a3f5f"
           }
          },
          "ternary": {
           "aaxis": {
            "gridcolor": "white",
            "linecolor": "white",
            "ticks": ""
           },
           "baxis": {
            "gridcolor": "white",
            "linecolor": "white",
            "ticks": ""
           },
           "bgcolor": "#E5ECF6",
           "caxis": {
            "gridcolor": "white",
            "linecolor": "white",
            "ticks": ""
           }
          },
          "title": {
           "x": 0.05
          },
          "xaxis": {
           "automargin": true,
           "gridcolor": "white",
           "linecolor": "white",
           "ticks": "",
           "title": {
            "standoff": 15
           },
           "zerolinecolor": "white",
           "zerolinewidth": 2
          },
          "yaxis": {
           "automargin": true,
           "gridcolor": "white",
           "linecolor": "white",
           "ticks": "",
           "title": {
            "standoff": 15
           },
           "zerolinecolor": "white",
           "zerolinewidth": 2
          }
         }
        },
        "title": {
         "text": "Распределение количества пользователей по событиям в объединённых контрольных группах и экспериментальной "
        },
        "width": 1100
       }
      },
      "text/html": [
       "<div>                            <div id=\"ccedc24e-7880-43ee-a355-18ce3d87f285\" class=\"plotly-graph-div\" style=\"height:700px; width:1100px;\"></div>            <script type=\"text/javascript\">                require([\"plotly\"], function(Plotly) {                    window.PLOTLYENV=window.PLOTLYENV || {};                                    if (document.getElementById(\"ccedc24e-7880-43ee-a355-18ce3d87f285\")) {                    Plotly.newPlot(                        \"ccedc24e-7880-43ee-a355-18ce3d87f285\",                        [{\"marker\":{\"color\":\"#39A600\"},\"name\":\"248 group\",\"textinfo\":\"value+percent previous\",\"textposition\":\"inside\",\"x\":[2494,1531,1231,1182],\"y\":[\"MainScreenAppear\",\"OffersScreenAppear\",\"CartScreenAppear\",\"PaymentScreenSuccessful\"],\"type\":\"funnel\"},{\"marker\":{\"color\":\"#2C4791\"},\"name\":\"246 \\u0438 247 groups\",\"textinfo\":\"value+percent previous\",\"textposition\":\"inside\",\"x\":[4929,3066,2505,2358],\"y\":[\"MainScreenAppear\",\"OffersScreenAppear\",\"CartScreenAppear\",\"PaymentScreenSuccessful\"],\"type\":\"funnel\"}],                        {\"template\":{\"data\":{\"histogram2dcontour\":[{\"type\":\"histogram2dcontour\",\"colorbar\":{\"outlinewidth\":0,\"ticks\":\"\"},\"colorscale\":[[0.0,\"#0d0887\"],[0.1111111111111111,\"#46039f\"],[0.2222222222222222,\"#7201a8\"],[0.3333333333333333,\"#9c179e\"],[0.4444444444444444,\"#bd3786\"],[0.5555555555555556,\"#d8576b\"],[0.6666666666666666,\"#ed7953\"],[0.7777777777777778,\"#fb9f3a\"],[0.8888888888888888,\"#fdca26\"],[1.0,\"#f0f921\"]]}],\"choropleth\":[{\"type\":\"choropleth\",\"colorbar\":{\"outlinewidth\":0,\"ticks\":\"\"}}],\"histogram2d\":[{\"type\":\"histogram2d\",\"colorbar\":{\"outlinewidth\":0,\"ticks\":\"\"},\"colorscale\":[[0.0,\"#0d0887\"],[0.1111111111111111,\"#46039f\"],[0.2222222222222222,\"#7201a8\"],[0.3333333333333333,\"#9c179e\"],[0.4444444444444444,\"#bd3786\"],[0.5555555555555556,\"#d8576b\"],[0.6666666666666666,\"#ed7953\"],[0.7777777777777778,\"#fb9f3a\"],[0.8888888888888888,\"#fdca26\"],[1.0,\"#f0f921\"]]}],\"heatmap\":[{\"type\":\"heatmap\",\"colorbar\":{\"outlinewidth\":0,\"ticks\":\"\"},\"colorscale\":[[0.0,\"#0d0887\"],[0.1111111111111111,\"#46039f\"],[0.2222222222222222,\"#7201a8\"],[0.3333333333333333,\"#9c179e\"],[0.4444444444444444,\"#bd3786\"],[0.5555555555555556,\"#d8576b\"],[0.6666666666666666,\"#ed7953\"],[0.7777777777777778,\"#fb9f3a\"],[0.8888888888888888,\"#fdca26\"],[1.0,\"#f0f921\"]]}],\"heatmapgl\":[{\"type\":\"heatmapgl\",\"colorbar\":{\"outlinewidth\":0,\"ticks\":\"\"},\"colorscale\":[[0.0,\"#0d0887\"],[0.1111111111111111,\"#46039f\"],[0.2222222222222222,\"#7201a8\"],[0.3333333333333333,\"#9c179e\"],[0.4444444444444444,\"#bd3786\"],[0.5555555555555556,\"#d8576b\"],[0.6666666666666666,\"#ed7953\"],[0.7777777777777778,\"#fb9f3a\"],[0.8888888888888888,\"#fdca26\"],[1.0,\"#f0f921\"]]}],\"contourcarpet\":[{\"type\":\"contourcarpet\",\"colorbar\":{\"outlinewidth\":0,\"ticks\":\"\"}}],\"contour\":[{\"type\":\"contour\",\"colorbar\":{\"outlinewidth\":0,\"ticks\":\"\"},\"colorscale\":[[0.0,\"#0d0887\"],[0.1111111111111111,\"#46039f\"],[0.2222222222222222,\"#7201a8\"],[0.3333333333333333,\"#9c179e\"],[0.4444444444444444,\"#bd3786\"],[0.5555555555555556,\"#d8576b\"],[0.6666666666666666,\"#ed7953\"],[0.7777777777777778,\"#fb9f3a\"],[0.8888888888888888,\"#fdca26\"],[1.0,\"#f0f921\"]]}],\"surface\":[{\"type\":\"surface\",\"colorbar\":{\"outlinewidth\":0,\"ticks\":\"\"},\"colorscale\":[[0.0,\"#0d0887\"],[0.1111111111111111,\"#46039f\"],[0.2222222222222222,\"#7201a8\"],[0.3333333333333333,\"#9c179e\"],[0.4444444444444444,\"#bd3786\"],[0.5555555555555556,\"#d8576b\"],[0.6666666666666666,\"#ed7953\"],[0.7777777777777778,\"#fb9f3a\"],[0.8888888888888888,\"#fdca26\"],[1.0,\"#f0f921\"]]}],\"mesh3d\":[{\"type\":\"mesh3d\",\"colorbar\":{\"outlinewidth\":0,\"ticks\":\"\"}}],\"scatter\":[{\"fillpattern\":{\"fillmode\":\"overlay\",\"size\":10,\"solidity\":0.2},\"type\":\"scatter\"}],\"parcoords\":[{\"type\":\"parcoords\",\"line\":{\"colorbar\":{\"outlinewidth\":0,\"ticks\":\"\"}}}],\"scatterpolargl\":[{\"type\":\"scatterpolargl\",\"marker\":{\"colorbar\":{\"outlinewidth\":0,\"ticks\":\"\"}}}],\"bar\":[{\"error_x\":{\"color\":\"#2a3f5f\"},\"error_y\":{\"color\":\"#2a3f5f\"},\"marker\":{\"line\":{\"color\":\"#E5ECF6\",\"width\":0.5},\"pattern\":{\"fillmode\":\"overlay\",\"size\":10,\"solidity\":0.2}},\"type\":\"bar\"}],\"scattergeo\":[{\"type\":\"scattergeo\",\"marker\":{\"colorbar\":{\"outlinewidth\":0,\"ticks\":\"\"}}}],\"scatterpolar\":[{\"type\":\"scatterpolar\",\"marker\":{\"colorbar\":{\"outlinewidth\":0,\"ticks\":\"\"}}}],\"histogram\":[{\"marker\":{\"pattern\":{\"fillmode\":\"overlay\",\"size\":10,\"solidity\":0.2}},\"type\":\"histogram\"}],\"scattergl\":[{\"type\":\"scattergl\",\"marker\":{\"colorbar\":{\"outlinewidth\":0,\"ticks\":\"\"}}}],\"scatter3d\":[{\"type\":\"scatter3d\",\"line\":{\"colorbar\":{\"outlinewidth\":0,\"ticks\":\"\"}},\"marker\":{\"colorbar\":{\"outlinewidth\":0,\"ticks\":\"\"}}}],\"scattermapbox\":[{\"type\":\"scattermapbox\",\"marker\":{\"colorbar\":{\"outlinewidth\":0,\"ticks\":\"\"}}}],\"scatterternary\":[{\"type\":\"scatterternary\",\"marker\":{\"colorbar\":{\"outlinewidth\":0,\"ticks\":\"\"}}}],\"scattercarpet\":[{\"type\":\"scattercarpet\",\"marker\":{\"colorbar\":{\"outlinewidth\":0,\"ticks\":\"\"}}}],\"carpet\":[{\"aaxis\":{\"endlinecolor\":\"#2a3f5f\",\"gridcolor\":\"white\",\"linecolor\":\"white\",\"minorgridcolor\":\"white\",\"startlinecolor\":\"#2a3f5f\"},\"baxis\":{\"endlinecolor\":\"#2a3f5f\",\"gridcolor\":\"white\",\"linecolor\":\"white\",\"minorgridcolor\":\"white\",\"startlinecolor\":\"#2a3f5f\"},\"type\":\"carpet\"}],\"table\":[{\"cells\":{\"fill\":{\"color\":\"#EBF0F8\"},\"line\":{\"color\":\"white\"}},\"header\":{\"fill\":{\"color\":\"#C8D4E3\"},\"line\":{\"color\":\"white\"}},\"type\":\"table\"}],\"barpolar\":[{\"marker\":{\"line\":{\"color\":\"#E5ECF6\",\"width\":0.5},\"pattern\":{\"fillmode\":\"overlay\",\"size\":10,\"solidity\":0.2}},\"type\":\"barpolar\"}],\"pie\":[{\"automargin\":true,\"type\":\"pie\"}]},\"layout\":{\"autotypenumbers\":\"strict\",\"colorway\":[\"#636efa\",\"#EF553B\",\"#00cc96\",\"#ab63fa\",\"#FFA15A\",\"#19d3f3\",\"#FF6692\",\"#B6E880\",\"#FF97FF\",\"#FECB52\"],\"font\":{\"color\":\"#2a3f5f\"},\"hovermode\":\"closest\",\"hoverlabel\":{\"align\":\"left\"},\"paper_bgcolor\":\"white\",\"plot_bgcolor\":\"#E5ECF6\",\"polar\":{\"bgcolor\":\"#E5ECF6\",\"angularaxis\":{\"gridcolor\":\"white\",\"linecolor\":\"white\",\"ticks\":\"\"},\"radialaxis\":{\"gridcolor\":\"white\",\"linecolor\":\"white\",\"ticks\":\"\"}},\"ternary\":{\"bgcolor\":\"#E5ECF6\",\"aaxis\":{\"gridcolor\":\"white\",\"linecolor\":\"white\",\"ticks\":\"\"},\"baxis\":{\"gridcolor\":\"white\",\"linecolor\":\"white\",\"ticks\":\"\"},\"caxis\":{\"gridcolor\":\"white\",\"linecolor\":\"white\",\"ticks\":\"\"}},\"coloraxis\":{\"colorbar\":{\"outlinewidth\":0,\"ticks\":\"\"}},\"colorscale\":{\"sequential\":[[0.0,\"#0d0887\"],[0.1111111111111111,\"#46039f\"],[0.2222222222222222,\"#7201a8\"],[0.3333333333333333,\"#9c179e\"],[0.4444444444444444,\"#bd3786\"],[0.5555555555555556,\"#d8576b\"],[0.6666666666666666,\"#ed7953\"],[0.7777777777777778,\"#fb9f3a\"],[0.8888888888888888,\"#fdca26\"],[1.0,\"#f0f921\"]],\"sequentialminus\":[[0.0,\"#0d0887\"],[0.1111111111111111,\"#46039f\"],[0.2222222222222222,\"#7201a8\"],[0.3333333333333333,\"#9c179e\"],[0.4444444444444444,\"#bd3786\"],[0.5555555555555556,\"#d8576b\"],[0.6666666666666666,\"#ed7953\"],[0.7777777777777778,\"#fb9f3a\"],[0.8888888888888888,\"#fdca26\"],[1.0,\"#f0f921\"]],\"diverging\":[[0,\"#8e0152\"],[0.1,\"#c51b7d\"],[0.2,\"#de77ae\"],[0.3,\"#f1b6da\"],[0.4,\"#fde0ef\"],[0.5,\"#f7f7f7\"],[0.6,\"#e6f5d0\"],[0.7,\"#b8e186\"],[0.8,\"#7fbc41\"],[0.9,\"#4d9221\"],[1,\"#276419\"]]},\"xaxis\":{\"gridcolor\":\"white\",\"linecolor\":\"white\",\"ticks\":\"\",\"title\":{\"standoff\":15},\"zerolinecolor\":\"white\",\"automargin\":true,\"zerolinewidth\":2},\"yaxis\":{\"gridcolor\":\"white\",\"linecolor\":\"white\",\"ticks\":\"\",\"title\":{\"standoff\":15},\"zerolinecolor\":\"white\",\"automargin\":true,\"zerolinewidth\":2},\"scene\":{\"xaxis\":{\"backgroundcolor\":\"#E5ECF6\",\"gridcolor\":\"white\",\"linecolor\":\"white\",\"showbackground\":true,\"ticks\":\"\",\"zerolinecolor\":\"white\",\"gridwidth\":2},\"yaxis\":{\"backgroundcolor\":\"#E5ECF6\",\"gridcolor\":\"white\",\"linecolor\":\"white\",\"showbackground\":true,\"ticks\":\"\",\"zerolinecolor\":\"white\",\"gridwidth\":2},\"zaxis\":{\"backgroundcolor\":\"#E5ECF6\",\"gridcolor\":\"white\",\"linecolor\":\"white\",\"showbackground\":true,\"ticks\":\"\",\"zerolinecolor\":\"white\",\"gridwidth\":2}},\"shapedefaults\":{\"line\":{\"color\":\"#2a3f5f\"}},\"annotationdefaults\":{\"arrowcolor\":\"#2a3f5f\",\"arrowhead\":0,\"arrowwidth\":1},\"geo\":{\"bgcolor\":\"white\",\"landcolor\":\"#E5ECF6\",\"subunitcolor\":\"white\",\"showland\":true,\"showlakes\":true,\"lakecolor\":\"white\"},\"title\":{\"x\":0.05},\"mapbox\":{\"style\":\"light\"}}},\"title\":{\"text\":\"\\u0420\\u0430\\u0441\\u043f\\u0440\\u0435\\u0434\\u0435\\u043b\\u0435\\u043d\\u0438\\u0435 \\u043a\\u043e\\u043b\\u0438\\u0447\\u0435\\u0441\\u0442\\u0432\\u0430 \\u043f\\u043e\\u043b\\u044c\\u0437\\u043e\\u0432\\u0430\\u0442\\u0435\\u043b\\u0435\\u0439 \\u043f\\u043e \\u0441\\u043e\\u0431\\u044b\\u0442\\u0438\\u044f\\u043c \\u0432 \\u043e\\u0431\\u044a\\u0435\\u0434\\u0438\\u043d\\u0451\\u043d\\u043d\\u044b\\u0445 \\u043a\\u043e\\u043d\\u0442\\u0440\\u043e\\u043b\\u044c\\u043d\\u044b\\u0445 \\u0433\\u0440\\u0443\\u043f\\u043f\\u0430\\u0445 \\u0438 \\u044d\\u043a\\u0441\\u043f\\u0435\\u0440\\u0438\\u043c\\u0435\\u043d\\u0442\\u0430\\u043b\\u044c\\u043d\\u043e\\u0439 \"},\"height\":700,\"width\":1100},                        {\"responsive\": true}                    ).then(function(){\n",
       "                            \n",
       "var gd = document.getElementById('ccedc24e-7880-43ee-a355-18ce3d87f285');\n",
       "var x = new MutationObserver(function (mutations, observer) {{\n",
       "        var display = window.getComputedStyle(gd).display;\n",
       "        if (!display || display === 'none') {{\n",
       "            console.log([gd, 'removed!']);\n",
       "            Plotly.purge(gd);\n",
       "            observer.disconnect();\n",
       "        }}\n",
       "}});\n",
       "\n",
       "// Listen for the removal of the full notebook cells\n",
       "var notebookContainer = gd.closest('#notebook-container');\n",
       "if (notebookContainer) {{\n",
       "    x.observe(notebookContainer, {childList: true});\n",
       "}}\n",
       "\n",
       "// Listen for the clearing of the current output cell\n",
       "var outputEl = gd.closest('.output');\n",
       "if (outputEl) {{\n",
       "    x.observe(outputEl, {childList: true});\n",
       "}}\n",
       "\n",
       "                        })                };                });            </script>        </div>"
      ]
     },
     "metadata": {},
     "output_type": "display_data"
    }
   ],
   "source": [
    "figur2 = go.Figure()\n",
    "\n",
    "figur2.add_trace(go.Funnel(name = \"248 group\",\n",
    "    y = df_group[\"event_name\"],\n",
    "    x = df_group[248],textposition = \"inside\", \n",
    "    textinfo = \"value+percent previous\",\n",
    "    marker = {\"color\": \"#39A600\"}))\n",
    "\n",
    "figur2.add_trace(go.Funnel(name = \"246 и 247 groups\",\n",
    "    y = df_group[\"event_name\"],\n",
    "    x = df_group[247]+df_group[246],textposition = \"inside\", \n",
    "    textinfo = \"value+percent previous\",\n",
    "    marker = {\"color\": \"#2C4791\"}))\n",
    "\n",
    "figur2.update_layout(title='Распределение количества пользователей по событиям в объединённых контрольных группах и экспериментальной ',height=700, width=1100)\n",
    "figur2.show()"
   ]
  },
  {
   "cell_type": "code",
   "execution_count": 48,
   "metadata": {},
   "outputs": [
    {
     "name": "stdout",
     "output_type": "stream",
     "text": [
      "Тест для расчёта действий пользователей MainScreenAppear\n",
      "p-значение:  0.5859390798679431\n",
      "Не получилось отвергнуть нулевую гипотезу - Нет оснований считать доли разными \n",
      "\n",
      "Тест для расчёта действий пользователей OffersScreenAppear\n",
      "p-значение:  0.9211267237985354\n",
      "Не получилось отвергнуть нулевую гипотезу - Нет оснований считать доли разными \n",
      "\n",
      "Тест для расчёта действий пользователей CartScreenAppear\n",
      "p-значение:  0.5493605183790484\n",
      "Не получилось отвергнуть нулевую гипотезу - Нет оснований считать доли разными \n",
      "\n",
      "Тест для расчёта действий пользователей PaymentScreenSuccessful\n",
      "p-значение:  0.9717026765618824\n",
      "Не получилось отвергнуть нулевую гипотезу - Нет оснований считать доли разными \n",
      "\n"
     ]
    }
   ],
   "source": [
    "# тест:\n",
    "\n",
    "tst3 = [hypothesis_test(df_group[248][i],df_group[246][i]+df_group[247][i],df_group[248].sum(),\n",
    "                    (df_group[246]+df_group[247]).sum(),df_group['event_name'][i], alpha =  0.05) for i in range(len(df_group[248]))]"
   ]
  },
  {
   "cell_type": "markdown",
   "metadata": {},
   "source": [
    "**По результатам теста существенной разницы между экспериментальной и контрольными группами нет.**"
   ]
  },
  {
   "cell_type": "markdown",
   "metadata": {},
   "source": [
    "### Подытог:\n",
    "\n",
    "_**Проводимые тесты не выявили разницу между имеющимися контрольными группами и экспериментальной - Шрифт не влияет на пользователей.**_"
   ]
  },
  {
   "cell_type": "markdown",
   "metadata": {},
   "source": [
    "## Вывод"
   ]
  },
  {
   "cell_type": "markdown",
   "metadata": {},
   "source": [
    "    1) При проверке данных мы узнали, что изначально в таблице было 243’713 событий от 7’551 пользователя, а в среднем на одного пользователя приходилось 20 событий.\n",
    "\n",
    "\tДалее мы выявили, что к анализу допустим период с 31 июля с 21:00 по 7 августа. Мы не взяли во внимание данные с 25 июля по 31 июля до 21:00, что привело к незначительным потерям событий — 0.82%.\n",
    "\n",
    "\tВ каждой группе около 2’500 пользователей.\n",
    "    \n",
    "\t\n",
    "\t2) Изучение воронки событий:\n",
    "    \n",
    "    Доли пользователей, совершавших каждое из событий: главный экран - их 98.5%, экран предложений - 61%, экран корзины - 49.6%, экран оплаты - 47%, руководство - 11.2%.\n",
    "\n",
    "    С главной страницы в предложения перешли 61.93% пользователей.\n",
    "    Из предложений в корзину перешли  81.27% пользователей.\n",
    "    К успешной оплате пришли 94.75% пользователей.\n",
    "\n",
    "    При переходе с главной страницы в предложения теряется больше всего пользователей = 38%.\n",
    "    \n",
    "    Доля пользователей, которая доходит от первого события до оплаты = 47.7%.\n",
    "    \n",
    "\n",
    "\t3) А/А/B - тесты:\n",
    "    \n",
    "    Было проведено 16 тестов:\n",
    "    - 246/247 - 4 теста - уровень статистической значимости - 1%\n",
    "    - 246/248 - 4 теста - уровень статистической значимости - 5%\n",
    "    - 247/248 - 4 теста - уровень статистической значимости - 5%\n",
    "    - (246+247)/248 - 4 теста - уровень статистической значимости - 5%\n",
    "    \n",
    "    Для проведения A/A тестирования был взят уровень статистической значимости в 1%. По его результатам для всех событий разница не оказалось значимой - эти группы контрольные.\n",
    "\n",
    "    Уровень статистической значимости в 10% был бы велик - каждый десятый раз можно получать ложный результат, поэтому стоит применить уровень значимости - 0.05.\n",
    "\n",
    "    В результате всех и каждого A/A/B тестов значимой разницы между группами не выявлено. Можно утверждать, что на поведение пользователей изменение шрифта значительно не сказалось.\n",
    "\n",
    "_**Тестирование считаем успешным - изменение шрифта не повлияло на поведение пользователей.**_"
   ]
  }
 ],
 "metadata": {
  "ExecuteTimeLog": [
   {
    "duration": 365,
    "start_time": "2023-03-28T10:18:10.884Z"
   },
   {
    "duration": 626,
    "start_time": "2023-03-28T10:18:37.799Z"
   },
   {
    "duration": 22,
    "start_time": "2023-03-28T10:24:07.807Z"
   },
   {
    "duration": 11,
    "start_time": "2023-03-28T10:24:17.381Z"
   },
   {
    "duration": 6,
    "start_time": "2023-03-28T10:26:08.804Z"
   },
   {
    "duration": 6,
    "start_time": "2023-03-28T10:26:16.070Z"
   },
   {
    "duration": 8,
    "start_time": "2023-03-28T10:26:22.363Z"
   },
   {
    "duration": 6,
    "start_time": "2023-03-28T10:26:28.950Z"
   },
   {
    "duration": 19,
    "start_time": "2023-03-28T10:26:33.328Z"
   },
   {
    "duration": 280,
    "start_time": "2023-03-28T10:26:58.824Z"
   },
   {
    "duration": 27,
    "start_time": "2023-03-28T10:27:00.273Z"
   },
   {
    "duration": 10,
    "start_time": "2023-03-28T10:27:01.608Z"
   },
   {
    "duration": 218,
    "start_time": "2023-03-28T10:27:15.747Z"
   },
   {
    "duration": 27,
    "start_time": "2023-03-28T10:27:16.557Z"
   },
   {
    "duration": 152,
    "start_time": "2023-03-28T10:27:21.890Z"
   },
   {
    "duration": 20,
    "start_time": "2023-03-28T10:27:22.987Z"
   },
   {
    "duration": 7,
    "start_time": "2023-03-28T10:27:23.342Z"
   },
   {
    "duration": 8,
    "start_time": "2023-03-28T10:28:20.164Z"
   },
   {
    "duration": 7,
    "start_time": "2023-03-28T10:28:32.221Z"
   },
   {
    "duration": 3,
    "start_time": "2023-03-28T11:06:43.745Z"
   },
   {
    "duration": 18,
    "start_time": "2023-03-28T11:06:47.160Z"
   },
   {
    "duration": 20,
    "start_time": "2023-03-28T11:07:25.292Z"
   },
   {
    "duration": 17,
    "start_time": "2023-03-28T11:07:33.035Z"
   },
   {
    "duration": 2,
    "start_time": "2023-03-28T11:10:56.663Z"
   },
   {
    "duration": 69,
    "start_time": "2023-03-28T11:12:19.533Z"
   },
   {
    "duration": 38,
    "start_time": "2023-03-28T11:12:30.427Z"
   },
   {
    "duration": 8,
    "start_time": "2023-03-28T11:12:44.268Z"
   },
   {
    "duration": 68,
    "start_time": "2023-03-28T11:12:56.902Z"
   },
   {
    "duration": 62,
    "start_time": "2023-03-28T11:13:07.992Z"
   },
   {
    "duration": 27,
    "start_time": "2023-03-28T11:13:13.470Z"
   },
   {
    "duration": 107,
    "start_time": "2023-03-28T11:14:21.571Z"
   },
   {
    "duration": 9,
    "start_time": "2023-03-28T11:14:22.393Z"
   },
   {
    "duration": 20,
    "start_time": "2023-03-28T11:14:24.012Z"
   },
   {
    "duration": 3,
    "start_time": "2023-03-28T11:36:40.762Z"
   },
   {
    "duration": 156,
    "start_time": "2023-03-28T11:36:40.766Z"
   },
   {
    "duration": 6,
    "start_time": "2023-03-28T11:36:40.924Z"
   },
   {
    "duration": 4,
    "start_time": "2023-03-28T11:36:40.934Z"
   },
   {
    "duration": 28,
    "start_time": "2023-03-28T11:36:40.940Z"
   },
   {
    "duration": 15,
    "start_time": "2023-03-28T11:36:40.970Z"
   },
   {
    "duration": 125,
    "start_time": "2023-03-28T11:36:40.986Z"
   },
   {
    "duration": 27,
    "start_time": "2023-03-28T11:36:41.113Z"
   },
   {
    "duration": 7,
    "start_time": "2023-03-28T11:37:01.602Z"
   },
   {
    "duration": 1354,
    "start_time": "2023-03-28T11:38:21.924Z"
   },
   {
    "duration": 8,
    "start_time": "2023-03-28T11:38:47.519Z"
   },
   {
    "duration": 3,
    "start_time": "2023-03-28T11:39:11.188Z"
   },
   {
    "duration": 156,
    "start_time": "2023-03-28T11:39:11.193Z"
   },
   {
    "duration": 6,
    "start_time": "2023-03-28T11:39:11.351Z"
   },
   {
    "duration": 8,
    "start_time": "2023-03-28T11:39:11.359Z"
   },
   {
    "duration": 26,
    "start_time": "2023-03-28T11:39:11.369Z"
   },
   {
    "duration": 20,
    "start_time": "2023-03-28T11:39:11.398Z"
   },
   {
    "duration": 118,
    "start_time": "2023-03-28T11:39:11.420Z"
   },
   {
    "duration": 21,
    "start_time": "2023-03-28T11:39:11.540Z"
   },
   {
    "duration": 8,
    "start_time": "2023-03-28T11:39:11.563Z"
   },
   {
    "duration": 9,
    "start_time": "2023-03-28T11:40:19.112Z"
   },
   {
    "duration": 69,
    "start_time": "2023-03-28T11:40:46.141Z"
   },
   {
    "duration": 9,
    "start_time": "2023-03-28T11:43:29.413Z"
   },
   {
    "duration": 189,
    "start_time": "2023-03-28T11:43:55.856Z"
   },
   {
    "duration": 150,
    "start_time": "2023-03-28T11:44:09.323Z"
   },
   {
    "duration": 147,
    "start_time": "2023-03-28T11:44:20.741Z"
   },
   {
    "duration": 2,
    "start_time": "2023-03-28T11:45:32.069Z"
   },
   {
    "duration": 315,
    "start_time": "2023-03-28T11:46:02.971Z"
   },
   {
    "duration": 3,
    "start_time": "2023-03-28T11:47:32.769Z"
   },
   {
    "duration": 196,
    "start_time": "2023-03-28T11:47:32.774Z"
   },
   {
    "duration": 8,
    "start_time": "2023-03-28T11:47:32.971Z"
   },
   {
    "duration": 50,
    "start_time": "2023-03-28T11:47:32.982Z"
   },
   {
    "duration": 55,
    "start_time": "2023-03-28T11:47:33.033Z"
   },
   {
    "duration": 91,
    "start_time": "2023-03-28T11:47:33.090Z"
   },
   {
    "duration": 142,
    "start_time": "2023-03-28T11:47:33.182Z"
   },
   {
    "duration": 21,
    "start_time": "2023-03-28T11:47:33.326Z"
   },
   {
    "duration": 72,
    "start_time": "2023-03-28T11:47:33.349Z"
   },
   {
    "duration": 163,
    "start_time": "2023-03-28T11:47:33.422Z"
   },
   {
    "duration": 2,
    "start_time": "2023-03-28T11:51:26.385Z"
   },
   {
    "duration": 182,
    "start_time": "2023-03-28T11:51:26.390Z"
   },
   {
    "duration": 8,
    "start_time": "2023-03-28T11:51:26.573Z"
   },
   {
    "duration": 19,
    "start_time": "2023-03-28T11:51:26.583Z"
   },
   {
    "duration": 35,
    "start_time": "2023-03-28T11:51:26.604Z"
   },
   {
    "duration": 19,
    "start_time": "2023-03-28T11:51:26.641Z"
   },
   {
    "duration": 124,
    "start_time": "2023-03-28T11:51:26.661Z"
   },
   {
    "duration": 20,
    "start_time": "2023-03-28T11:51:26.786Z"
   },
   {
    "duration": 75,
    "start_time": "2023-03-28T11:51:26.807Z"
   },
   {
    "duration": 146,
    "start_time": "2023-03-28T11:51:26.884Z"
   },
   {
    "duration": 6,
    "start_time": "2023-03-28T11:51:27.032Z"
   },
   {
    "duration": 7,
    "start_time": "2023-03-28T11:51:36.318Z"
   },
   {
    "duration": 23,
    "start_time": "2023-03-28T11:51:47.013Z"
   },
   {
    "duration": 3,
    "start_time": "2023-03-28T11:53:23.156Z"
   },
   {
    "duration": 195,
    "start_time": "2023-03-28T11:53:23.161Z"
   },
   {
    "duration": 6,
    "start_time": "2023-03-28T11:53:23.358Z"
   },
   {
    "duration": 34,
    "start_time": "2023-03-28T11:53:23.366Z"
   },
   {
    "duration": 55,
    "start_time": "2023-03-28T11:53:23.401Z"
   },
   {
    "duration": 31,
    "start_time": "2023-03-28T11:53:23.457Z"
   },
   {
    "duration": 142,
    "start_time": "2023-03-28T11:53:23.489Z"
   },
   {
    "duration": 21,
    "start_time": "2023-03-28T11:53:23.635Z"
   },
   {
    "duration": 78,
    "start_time": "2023-03-28T11:53:23.658Z"
   },
   {
    "duration": 147,
    "start_time": "2023-03-28T11:53:23.739Z"
   },
   {
    "duration": 22,
    "start_time": "2023-03-28T11:53:23.887Z"
   },
   {
    "duration": 8,
    "start_time": "2023-03-28T11:55:03.953Z"
   },
   {
    "duration": 7,
    "start_time": "2023-03-28T11:55:26.748Z"
   },
   {
    "duration": 30,
    "start_time": "2023-03-28T11:57:20.046Z"
   },
   {
    "duration": 34,
    "start_time": "2023-03-28T11:57:30.886Z"
   },
   {
    "duration": 87,
    "start_time": "2023-03-28T11:59:45.042Z"
   },
   {
    "duration": 65,
    "start_time": "2023-03-28T11:59:57.611Z"
   },
   {
    "duration": 34,
    "start_time": "2023-03-28T12:00:03.298Z"
   },
   {
    "duration": 92,
    "start_time": "2023-03-28T12:00:19.594Z"
   },
   {
    "duration": 34,
    "start_time": "2023-03-28T12:00:33.387Z"
   },
   {
    "duration": 2,
    "start_time": "2023-03-28T12:00:59.663Z"
   },
   {
    "duration": 154,
    "start_time": "2023-03-28T12:00:59.667Z"
   },
   {
    "duration": 12,
    "start_time": "2023-03-28T12:00:59.823Z"
   },
   {
    "duration": 3,
    "start_time": "2023-03-28T12:00:59.837Z"
   },
   {
    "duration": 26,
    "start_time": "2023-03-28T12:00:59.842Z"
   },
   {
    "duration": 14,
    "start_time": "2023-03-28T12:00:59.870Z"
   },
   {
    "duration": 126,
    "start_time": "2023-03-28T12:00:59.886Z"
   },
   {
    "duration": 25,
    "start_time": "2023-03-28T12:01:00.014Z"
   },
   {
    "duration": 63,
    "start_time": "2023-03-28T12:01:00.041Z"
   },
   {
    "duration": 149,
    "start_time": "2023-03-28T12:01:00.106Z"
   },
   {
    "duration": 34,
    "start_time": "2023-03-28T12:01:00.258Z"
   },
   {
    "duration": 38,
    "start_time": "2023-03-28T12:01:00.294Z"
   },
   {
    "duration": 25,
    "start_time": "2023-03-28T12:01:00.334Z"
   },
   {
    "duration": 483,
    "start_time": "2023-03-28T19:13:58.047Z"
   },
   {
    "duration": 766,
    "start_time": "2023-03-28T19:13:58.533Z"
   },
   {
    "duration": 27,
    "start_time": "2023-03-28T19:13:59.301Z"
   },
   {
    "duration": 3,
    "start_time": "2023-03-28T19:13:59.330Z"
   },
   {
    "duration": 22,
    "start_time": "2023-03-28T19:13:59.336Z"
   },
   {
    "duration": 16,
    "start_time": "2023-03-28T19:13:59.360Z"
   },
   {
    "duration": 216,
    "start_time": "2023-03-28T19:13:59.379Z"
   },
   {
    "duration": 35,
    "start_time": "2023-03-28T19:13:59.597Z"
   },
   {
    "duration": 153,
    "start_time": "2023-03-28T19:13:59.634Z"
   },
   {
    "duration": 204,
    "start_time": "2023-03-28T19:13:59.790Z"
   },
   {
    "duration": 52,
    "start_time": "2023-03-28T19:13:59.996Z"
   },
   {
    "duration": 11,
    "start_time": "2023-03-28T19:14:00.050Z"
   },
   {
    "duration": 20,
    "start_time": "2023-03-28T19:14:00.063Z"
   },
   {
    "duration": 31,
    "start_time": "2023-03-28T19:18:00.842Z"
   },
   {
    "duration": 6,
    "start_time": "2023-03-28T19:18:33.767Z"
   },
   {
    "duration": 11,
    "start_time": "2023-03-28T19:18:41.159Z"
   },
   {
    "duration": 7,
    "start_time": "2023-03-28T19:18:41.857Z"
   },
   {
    "duration": 73,
    "start_time": "2023-03-28T19:22:55.556Z"
   },
   {
    "duration": 28,
    "start_time": "2023-03-28T19:23:21.747Z"
   },
   {
    "duration": 38,
    "start_time": "2023-03-28T19:23:48.286Z"
   },
   {
    "duration": 952,
    "start_time": "2023-03-28T19:27:05.439Z"
   },
   {
    "duration": 23,
    "start_time": "2023-03-28T19:31:41.536Z"
   },
   {
    "duration": 33,
    "start_time": "2023-03-28T19:31:48.330Z"
   },
   {
    "duration": 41,
    "start_time": "2023-03-28T19:31:51.231Z"
   },
   {
    "duration": 324,
    "start_time": "2023-03-28T19:32:16.097Z"
   },
   {
    "duration": 284,
    "start_time": "2023-03-28T19:32:59.648Z"
   },
   {
    "duration": 426,
    "start_time": "2023-03-28T19:33:09.945Z"
   },
   {
    "duration": 22,
    "start_time": "2023-03-28T19:33:56.933Z"
   },
   {
    "duration": 308,
    "start_time": "2023-03-28T19:34:03.781Z"
   },
   {
    "duration": 387,
    "start_time": "2023-03-28T19:34:40.883Z"
   },
   {
    "duration": 301,
    "start_time": "2023-03-28T19:34:54.123Z"
   },
   {
    "duration": 347,
    "start_time": "2023-03-28T19:35:17.364Z"
   },
   {
    "duration": 30,
    "start_time": "2023-03-28T19:41:30.737Z"
   },
   {
    "duration": 27,
    "start_time": "2023-03-28T19:41:38.375Z"
   },
   {
    "duration": 5,
    "start_time": "2023-03-28T19:46:47.530Z"
   },
   {
    "duration": 829,
    "start_time": "2023-03-29T05:36:05.128Z"
   },
   {
    "duration": 704,
    "start_time": "2023-03-29T05:36:05.959Z"
   },
   {
    "duration": 11,
    "start_time": "2023-03-29T05:36:06.665Z"
   },
   {
    "duration": 5,
    "start_time": "2023-03-29T05:36:06.678Z"
   },
   {
    "duration": 25,
    "start_time": "2023-03-29T05:36:06.686Z"
   },
   {
    "duration": 17,
    "start_time": "2023-03-29T05:36:06.712Z"
   },
   {
    "duration": 156,
    "start_time": "2023-03-29T05:36:06.731Z"
   },
   {
    "duration": 30,
    "start_time": "2023-03-29T05:36:06.889Z"
   },
   {
    "duration": 108,
    "start_time": "2023-03-29T05:36:06.922Z"
   },
   {
    "duration": 204,
    "start_time": "2023-03-29T05:36:07.032Z"
   },
   {
    "duration": 47,
    "start_time": "2023-03-29T05:36:07.239Z"
   },
   {
    "duration": 9,
    "start_time": "2023-03-29T05:36:07.289Z"
   },
   {
    "duration": 20,
    "start_time": "2023-03-29T05:36:07.299Z"
   },
   {
    "duration": 2,
    "start_time": "2023-03-29T05:36:07.321Z"
   },
   {
    "duration": 3,
    "start_time": "2023-03-29T05:43:54.096Z"
   },
   {
    "duration": 164,
    "start_time": "2023-03-29T05:43:54.103Z"
   },
   {
    "duration": 8,
    "start_time": "2023-03-29T05:43:54.268Z"
   },
   {
    "duration": 6,
    "start_time": "2023-03-29T05:43:54.277Z"
   },
   {
    "duration": 28,
    "start_time": "2023-03-29T05:43:54.285Z"
   },
   {
    "duration": 15,
    "start_time": "2023-03-29T05:43:54.315Z"
   },
   {
    "duration": 145,
    "start_time": "2023-03-29T05:43:54.332Z"
   },
   {
    "duration": 22,
    "start_time": "2023-03-29T05:43:54.479Z"
   },
   {
    "duration": 90,
    "start_time": "2023-03-29T05:43:54.502Z"
   },
   {
    "duration": 169,
    "start_time": "2023-03-29T05:43:54.593Z"
   },
   {
    "duration": 34,
    "start_time": "2023-03-29T05:43:54.764Z"
   },
   {
    "duration": 8,
    "start_time": "2023-03-29T05:43:54.800Z"
   },
   {
    "duration": 21,
    "start_time": "2023-03-29T05:43:54.809Z"
   },
   {
    "duration": 3,
    "start_time": "2023-03-29T05:43:54.861Z"
   },
   {
    "duration": 3,
    "start_time": "2023-03-29T05:44:05.525Z"
   },
   {
    "duration": 5,
    "start_time": "2023-03-29T05:44:12.293Z"
   },
   {
    "duration": 4,
    "start_time": "2023-03-29T05:44:31.097Z"
   },
   {
    "duration": 5,
    "start_time": "2023-03-29T05:45:32.506Z"
   },
   {
    "duration": 3,
    "start_time": "2023-03-29T06:15:36.987Z"
   },
   {
    "duration": 194,
    "start_time": "2023-03-29T06:15:36.993Z"
   },
   {
    "duration": 8,
    "start_time": "2023-03-29T06:15:37.189Z"
   },
   {
    "duration": 4,
    "start_time": "2023-03-29T06:15:37.199Z"
   },
   {
    "duration": 24,
    "start_time": "2023-03-29T06:15:37.206Z"
   },
   {
    "duration": 49,
    "start_time": "2023-03-29T06:15:37.233Z"
   },
   {
    "duration": 155,
    "start_time": "2023-03-29T06:15:37.285Z"
   },
   {
    "duration": 32,
    "start_time": "2023-03-29T06:15:37.442Z"
   },
   {
    "duration": 67,
    "start_time": "2023-03-29T06:15:37.477Z"
   },
   {
    "duration": 175,
    "start_time": "2023-03-29T06:15:37.562Z"
   },
   {
    "duration": 47,
    "start_time": "2023-03-29T06:15:37.738Z"
   },
   {
    "duration": 7,
    "start_time": "2023-03-29T06:15:37.786Z"
   },
   {
    "duration": 20,
    "start_time": "2023-03-29T06:15:37.795Z"
   },
   {
    "duration": 6,
    "start_time": "2023-03-29T06:15:37.817Z"
   },
   {
    "duration": 484,
    "start_time": "2023-03-29T06:15:37.825Z"
   },
   {
    "duration": 373,
    "start_time": "2023-03-29T06:17:33.412Z"
   },
   {
    "duration": 519,
    "start_time": "2023-03-29T06:18:09.982Z"
   },
   {
    "duration": 491,
    "start_time": "2023-03-29T06:18:19.805Z"
   },
   {
    "duration": 258,
    "start_time": "2023-03-29T06:18:31.143Z"
   },
   {
    "duration": 297,
    "start_time": "2023-03-29T06:21:49.642Z"
   },
   {
    "duration": 285,
    "start_time": "2023-03-29T06:22:44.848Z"
   },
   {
    "duration": 15,
    "start_time": "2023-03-29T06:25:25.419Z"
   },
   {
    "duration": 228,
    "start_time": "2023-03-29T06:26:36.182Z"
   },
   {
    "duration": 221,
    "start_time": "2023-03-29T06:30:09.424Z"
   },
   {
    "duration": 304,
    "start_time": "2023-03-29T06:37:24.910Z"
   },
   {
    "duration": 234,
    "start_time": "2023-03-29T06:38:08.490Z"
   },
   {
    "duration": 198,
    "start_time": "2023-03-29T07:15:50.593Z"
   },
   {
    "duration": 4,
    "start_time": "2023-03-29T07:19:58.947Z"
   },
   {
    "duration": 214,
    "start_time": "2023-03-29T07:20:08.638Z"
   },
   {
    "duration": 205,
    "start_time": "2023-03-29T07:20:50.678Z"
   },
   {
    "duration": 53,
    "start_time": "2023-03-29T07:22:58.197Z"
   },
   {
    "duration": 221,
    "start_time": "2023-03-29T07:23:05.628Z"
   },
   {
    "duration": 268,
    "start_time": "2023-03-29T07:23:44.183Z"
   },
   {
    "duration": 202,
    "start_time": "2023-03-29T07:26:01.583Z"
   },
   {
    "duration": 198,
    "start_time": "2023-03-29T07:28:53.686Z"
   },
   {
    "duration": 316,
    "start_time": "2023-03-29T07:29:14.674Z"
   },
   {
    "duration": 5,
    "start_time": "2023-03-29T07:30:25.527Z"
   },
   {
    "duration": 223,
    "start_time": "2023-03-29T07:30:25.535Z"
   },
   {
    "duration": 9,
    "start_time": "2023-03-29T07:30:25.760Z"
   },
   {
    "duration": 5,
    "start_time": "2023-03-29T07:30:25.771Z"
   },
   {
    "duration": 25,
    "start_time": "2023-03-29T07:30:25.778Z"
   },
   {
    "duration": 16,
    "start_time": "2023-03-29T07:30:25.805Z"
   },
   {
    "duration": 151,
    "start_time": "2023-03-29T07:30:25.823Z"
   },
   {
    "duration": 39,
    "start_time": "2023-03-29T07:30:25.976Z"
   },
   {
    "duration": 93,
    "start_time": "2023-03-29T07:30:26.017Z"
   },
   {
    "duration": 203,
    "start_time": "2023-03-29T07:30:26.112Z"
   },
   {
    "duration": 46,
    "start_time": "2023-03-29T07:30:26.317Z"
   },
   {
    "duration": 8,
    "start_time": "2023-03-29T07:30:26.365Z"
   },
   {
    "duration": 30,
    "start_time": "2023-03-29T07:30:26.376Z"
   },
   {
    "duration": 5,
    "start_time": "2023-03-29T07:30:26.409Z"
   },
   {
    "duration": 277,
    "start_time": "2023-03-29T07:30:26.416Z"
   },
   {
    "duration": 340,
    "start_time": "2023-03-29T07:30:54.475Z"
   },
   {
    "duration": 241,
    "start_time": "2023-03-29T07:31:16.952Z"
   },
   {
    "duration": 462,
    "start_time": "2023-03-29T07:35:28.880Z"
   },
   {
    "duration": 341,
    "start_time": "2023-03-29T07:35:37.202Z"
   },
   {
    "duration": 251,
    "start_time": "2023-03-29T07:35:51.947Z"
   },
   {
    "duration": 10,
    "start_time": "2023-03-29T07:42:34.677Z"
   },
   {
    "duration": 23,
    "start_time": "2023-03-29T07:42:44.201Z"
   },
   {
    "duration": 49,
    "start_time": "2023-03-29T07:42:55.208Z"
   },
   {
    "duration": 4,
    "start_time": "2023-03-29T07:55:44.930Z"
   },
   {
    "duration": 4,
    "start_time": "2023-03-29T07:56:45.306Z"
   },
   {
    "duration": 5,
    "start_time": "2023-03-29T07:56:58.890Z"
   },
   {
    "duration": 4,
    "start_time": "2023-03-29T07:57:46.658Z"
   },
   {
    "duration": 4,
    "start_time": "2023-03-29T07:57:59.097Z"
   },
   {
    "duration": 4,
    "start_time": "2023-03-29T07:58:10.433Z"
   },
   {
    "duration": 193,
    "start_time": "2023-03-29T07:58:10.439Z"
   },
   {
    "duration": 10,
    "start_time": "2023-03-29T07:58:10.634Z"
   },
   {
    "duration": 5,
    "start_time": "2023-03-29T07:58:10.645Z"
   },
   {
    "duration": 35,
    "start_time": "2023-03-29T07:58:10.652Z"
   },
   {
    "duration": 18,
    "start_time": "2023-03-29T07:58:10.689Z"
   },
   {
    "duration": 159,
    "start_time": "2023-03-29T07:58:10.708Z"
   },
   {
    "duration": 36,
    "start_time": "2023-03-29T07:58:10.869Z"
   },
   {
    "duration": 90,
    "start_time": "2023-03-29T07:58:10.907Z"
   },
   {
    "duration": 158,
    "start_time": "2023-03-29T07:58:10.998Z"
   },
   {
    "duration": 55,
    "start_time": "2023-03-29T07:58:11.159Z"
   },
   {
    "duration": 7,
    "start_time": "2023-03-29T07:58:11.215Z"
   },
   {
    "duration": 40,
    "start_time": "2023-03-29T07:58:11.224Z"
   },
   {
    "duration": 5,
    "start_time": "2023-03-29T07:58:11.266Z"
   },
   {
    "duration": 272,
    "start_time": "2023-03-29T07:58:11.274Z"
   },
   {
    "duration": 250,
    "start_time": "2023-03-29T07:58:11.547Z"
   },
   {
    "duration": 37,
    "start_time": "2023-03-29T07:58:11.799Z"
   },
   {
    "duration": 5,
    "start_time": "2023-03-29T07:58:11.837Z"
   },
   {
    "duration": 8,
    "start_time": "2023-03-29T07:58:52.752Z"
   },
   {
    "duration": 7,
    "start_time": "2023-03-29T07:59:27.121Z"
   },
   {
    "duration": 22,
    "start_time": "2023-03-29T08:04:16.446Z"
   },
   {
    "duration": 29,
    "start_time": "2023-03-29T08:08:43.293Z"
   },
   {
    "duration": 25,
    "start_time": "2023-03-29T08:38:40.208Z"
   },
   {
    "duration": 815,
    "start_time": "2023-03-29T11:13:39.782Z"
   },
   {
    "duration": 690,
    "start_time": "2023-03-29T11:13:40.600Z"
   },
   {
    "duration": 12,
    "start_time": "2023-03-29T11:13:41.292Z"
   },
   {
    "duration": 3,
    "start_time": "2023-03-29T11:13:41.306Z"
   },
   {
    "duration": 23,
    "start_time": "2023-03-29T11:13:41.310Z"
   },
   {
    "duration": 14,
    "start_time": "2023-03-29T11:13:41.335Z"
   },
   {
    "duration": 150,
    "start_time": "2023-03-29T11:13:41.351Z"
   },
   {
    "duration": 26,
    "start_time": "2023-03-29T11:13:41.503Z"
   },
   {
    "duration": 95,
    "start_time": "2023-03-29T11:13:41.531Z"
   },
   {
    "duration": 187,
    "start_time": "2023-03-29T11:13:41.629Z"
   },
   {
    "duration": 36,
    "start_time": "2023-03-29T11:13:41.818Z"
   },
   {
    "duration": 9,
    "start_time": "2023-03-29T11:13:41.856Z"
   },
   {
    "duration": 43,
    "start_time": "2023-03-29T11:13:41.867Z"
   },
   {
    "duration": 7,
    "start_time": "2023-03-29T11:13:41.912Z"
   },
   {
    "duration": 391,
    "start_time": "2023-03-29T11:13:41.920Z"
   },
   {
    "duration": 237,
    "start_time": "2023-03-29T11:13:42.314Z"
   },
   {
    "duration": 55,
    "start_time": "2023-03-29T11:13:42.554Z"
   },
   {
    "duration": 17,
    "start_time": "2023-03-29T11:13:42.611Z"
   },
   {
    "duration": 34,
    "start_time": "2023-03-29T11:13:42.629Z"
   },
   {
    "duration": 42,
    "start_time": "2023-03-29T11:13:42.665Z"
   },
   {
    "duration": 3,
    "start_time": "2023-03-29T11:13:42.709Z"
   },
   {
    "duration": 77,
    "start_time": "2023-03-29T11:14:14.787Z"
   },
   {
    "duration": 68,
    "start_time": "2023-03-29T11:14:30.385Z"
   },
   {
    "duration": 68,
    "start_time": "2023-03-29T11:14:52.875Z"
   },
   {
    "duration": 22,
    "start_time": "2023-03-29T11:17:18.398Z"
   },
   {
    "duration": 63,
    "start_time": "2023-03-29T11:17:19.805Z"
   },
   {
    "duration": 557,
    "start_time": "2023-03-29T12:21:31.475Z"
   },
   {
    "duration": 145,
    "start_time": "2023-03-29T12:21:32.035Z"
   },
   {
    "duration": 8,
    "start_time": "2023-03-29T12:21:32.182Z"
   },
   {
    "duration": 11,
    "start_time": "2023-03-29T12:21:32.192Z"
   },
   {
    "duration": 36,
    "start_time": "2023-03-29T12:21:32.205Z"
   },
   {
    "duration": 14,
    "start_time": "2023-03-29T12:21:32.243Z"
   },
   {
    "duration": 159,
    "start_time": "2023-03-29T12:21:32.259Z"
   },
   {
    "duration": 24,
    "start_time": "2023-03-29T12:21:32.420Z"
   },
   {
    "duration": 103,
    "start_time": "2023-03-29T12:21:32.446Z"
   },
   {
    "duration": 148,
    "start_time": "2023-03-29T12:21:32.551Z"
   },
   {
    "duration": 30,
    "start_time": "2023-03-29T12:21:32.703Z"
   },
   {
    "duration": 7,
    "start_time": "2023-03-29T12:21:32.735Z"
   },
   {
    "duration": 19,
    "start_time": "2023-03-29T12:21:32.743Z"
   },
   {
    "duration": 4,
    "start_time": "2023-03-29T12:21:32.765Z"
   },
   {
    "duration": 255,
    "start_time": "2023-03-29T12:21:32.771Z"
   },
   {
    "duration": 214,
    "start_time": "2023-03-29T12:21:33.027Z"
   },
   {
    "duration": 36,
    "start_time": "2023-03-29T12:21:33.243Z"
   },
   {
    "duration": 29,
    "start_time": "2023-03-29T12:21:33.280Z"
   },
   {
    "duration": 32,
    "start_time": "2023-03-29T12:21:33.310Z"
   },
   {
    "duration": 21,
    "start_time": "2023-03-29T12:21:33.344Z"
   },
   {
    "duration": 87,
    "start_time": "2023-03-29T12:21:33.367Z"
   },
   {
    "duration": 2,
    "start_time": "2023-03-29T12:21:33.456Z"
   },
   {
    "duration": 9,
    "start_time": "2023-03-29T12:21:33.459Z"
   },
   {
    "duration": 3,
    "start_time": "2023-03-29T13:14:51.259Z"
   },
   {
    "duration": 177,
    "start_time": "2023-03-29T13:14:51.265Z"
   },
   {
    "duration": 8,
    "start_time": "2023-03-29T13:14:51.444Z"
   },
   {
    "duration": 6,
    "start_time": "2023-03-29T13:14:51.455Z"
   },
   {
    "duration": 35,
    "start_time": "2023-03-29T13:14:51.463Z"
   },
   {
    "duration": 17,
    "start_time": "2023-03-29T13:14:51.500Z"
   },
   {
    "duration": 130,
    "start_time": "2023-03-29T13:14:51.519Z"
   },
   {
    "duration": 21,
    "start_time": "2023-03-29T13:14:51.651Z"
   },
   {
    "duration": 99,
    "start_time": "2023-03-29T13:14:51.674Z"
   },
   {
    "duration": 196,
    "start_time": "2023-03-29T13:14:51.776Z"
   },
   {
    "duration": 49,
    "start_time": "2023-03-29T13:14:51.974Z"
   },
   {
    "duration": 8,
    "start_time": "2023-03-29T13:14:52.025Z"
   },
   {
    "duration": 21,
    "start_time": "2023-03-29T13:14:52.035Z"
   },
   {
    "duration": 5,
    "start_time": "2023-03-29T13:14:52.059Z"
   },
   {
    "duration": 280,
    "start_time": "2023-03-29T13:14:52.066Z"
   },
   {
    "duration": 234,
    "start_time": "2023-03-29T13:14:52.348Z"
   },
   {
    "duration": 45,
    "start_time": "2023-03-29T13:14:52.584Z"
   },
   {
    "duration": 15,
    "start_time": "2023-03-29T13:14:52.631Z"
   },
   {
    "duration": 32,
    "start_time": "2023-03-29T13:14:52.648Z"
   },
   {
    "duration": 22,
    "start_time": "2023-03-29T13:14:52.702Z"
   },
   {
    "duration": 78,
    "start_time": "2023-03-29T13:14:52.726Z"
   },
   {
    "duration": 810,
    "start_time": "2023-03-29T13:14:52.806Z"
   },
   {
    "duration": 0,
    "start_time": "2023-03-29T13:14:53.618Z"
   },
   {
    "duration": 832,
    "start_time": "2023-03-29T13:15:39.059Z"
   },
   {
    "duration": 768,
    "start_time": "2023-03-29T13:17:59.186Z"
   },
   {
    "duration": 838,
    "start_time": "2023-03-29T13:20:59.973Z"
   },
   {
    "duration": 103,
    "start_time": "2023-03-29T13:21:52.122Z"
   },
   {
    "duration": 773,
    "start_time": "2023-03-29T13:22:08.855Z"
   },
   {
    "duration": 99,
    "start_time": "2023-03-29T13:22:45.036Z"
   },
   {
    "duration": 793,
    "start_time": "2023-03-29T13:23:44.723Z"
   },
   {
    "duration": 825,
    "start_time": "2023-03-29T13:24:22.285Z"
   },
   {
    "duration": 789,
    "start_time": "2023-03-29T13:24:53.364Z"
   },
   {
    "duration": 13,
    "start_time": "2023-03-29T13:25:35.037Z"
   },
   {
    "duration": 774,
    "start_time": "2023-03-29T13:27:32.729Z"
   },
   {
    "duration": 797,
    "start_time": "2023-03-29T13:27:43.916Z"
   },
   {
    "duration": 801,
    "start_time": "2023-03-29T13:28:18.227Z"
   },
   {
    "duration": 2,
    "start_time": "2023-03-29T13:29:15.081Z"
   },
   {
    "duration": 807,
    "start_time": "2023-03-29T13:29:26.553Z"
   },
   {
    "duration": 927,
    "start_time": "2023-03-29T13:30:29.761Z"
   },
   {
    "duration": 875,
    "start_time": "2023-03-29T13:30:48.641Z"
   },
   {
    "duration": 821,
    "start_time": "2023-03-29T13:30:57.345Z"
   },
   {
    "duration": 19,
    "start_time": "2023-03-29T13:31:37.726Z"
   },
   {
    "duration": 825,
    "start_time": "2023-03-29T13:33:48.038Z"
   },
   {
    "duration": 1017,
    "start_time": "2023-03-29T13:35:24.360Z"
   },
   {
    "duration": 91,
    "start_time": "2023-03-29T13:40:19.580Z"
   },
   {
    "duration": 904,
    "start_time": "2023-03-29T13:40:41.939Z"
   },
   {
    "duration": 93,
    "start_time": "2023-03-29T13:40:57.756Z"
   },
   {
    "duration": 89,
    "start_time": "2023-03-29T13:41:02.951Z"
   },
   {
    "duration": 802,
    "start_time": "2023-03-29T13:41:13.079Z"
   },
   {
    "duration": 93,
    "start_time": "2023-03-29T13:41:32.931Z"
   },
   {
    "duration": 114,
    "start_time": "2023-03-29T13:41:49.609Z"
   },
   {
    "duration": 93,
    "start_time": "2023-03-29T13:42:05.512Z"
   },
   {
    "duration": 106,
    "start_time": "2023-03-29T13:43:11.635Z"
   },
   {
    "duration": 122,
    "start_time": "2023-03-29T13:43:27.374Z"
   },
   {
    "duration": 840,
    "start_time": "2023-03-29T13:43:40.127Z"
   },
   {
    "duration": 4,
    "start_time": "2023-03-29T13:43:51.731Z"
   },
   {
    "duration": 138,
    "start_time": "2023-03-29T13:43:51.737Z"
   },
   {
    "duration": 11,
    "start_time": "2023-03-29T13:43:51.876Z"
   },
   {
    "duration": 3,
    "start_time": "2023-03-29T13:43:51.890Z"
   },
   {
    "duration": 26,
    "start_time": "2023-03-29T13:43:51.895Z"
   },
   {
    "duration": 18,
    "start_time": "2023-03-29T13:43:51.923Z"
   },
   {
    "duration": 140,
    "start_time": "2023-03-29T13:43:51.942Z"
   },
   {
    "duration": 36,
    "start_time": "2023-03-29T13:43:52.084Z"
   },
   {
    "duration": 103,
    "start_time": "2023-03-29T13:43:52.122Z"
   },
   {
    "duration": 211,
    "start_time": "2023-03-29T13:43:52.227Z"
   },
   {
    "duration": 32,
    "start_time": "2023-03-29T13:43:52.439Z"
   },
   {
    "duration": 7,
    "start_time": "2023-03-29T13:43:52.473Z"
   },
   {
    "duration": 19,
    "start_time": "2023-03-29T13:43:52.503Z"
   },
   {
    "duration": 5,
    "start_time": "2023-03-29T13:43:52.524Z"
   },
   {
    "duration": 248,
    "start_time": "2023-03-29T13:43:52.531Z"
   },
   {
    "duration": 303,
    "start_time": "2023-03-29T13:43:52.782Z"
   },
   {
    "duration": 45,
    "start_time": "2023-03-29T13:43:53.087Z"
   },
   {
    "duration": 15,
    "start_time": "2023-03-29T13:43:53.134Z"
   },
   {
    "duration": 29,
    "start_time": "2023-03-29T13:43:53.151Z"
   },
   {
    "duration": 40,
    "start_time": "2023-03-29T13:43:53.182Z"
   },
   {
    "duration": 80,
    "start_time": "2023-03-29T13:43:53.223Z"
   },
   {
    "duration": 138,
    "start_time": "2023-03-29T13:43:53.305Z"
   },
   {
    "duration": 3,
    "start_time": "2023-03-29T13:43:53.445Z"
   },
   {
    "duration": 795,
    "start_time": "2023-03-29T13:44:05.607Z"
   },
   {
    "duration": 83,
    "start_time": "2023-03-29T13:44:23.418Z"
   },
   {
    "duration": 83,
    "start_time": "2023-03-29T13:44:41.726Z"
   },
   {
    "duration": 95,
    "start_time": "2023-03-29T13:45:00.941Z"
   },
   {
    "duration": 89,
    "start_time": "2023-03-29T13:45:13.151Z"
   },
   {
    "duration": 88,
    "start_time": "2023-03-29T13:45:18.593Z"
   },
   {
    "duration": 123,
    "start_time": "2023-03-29T13:46:57.755Z"
   },
   {
    "duration": 566,
    "start_time": "2023-03-29T13:47:16.295Z"
   },
   {
    "duration": 487,
    "start_time": "2023-03-29T13:49:28.536Z"
   },
   {
    "duration": 549,
    "start_time": "2023-03-29T13:49:54.001Z"
   },
   {
    "duration": 578,
    "start_time": "2023-03-29T13:51:46.074Z"
   },
   {
    "duration": 551,
    "start_time": "2023-03-29T13:53:23.620Z"
   },
   {
    "duration": 108,
    "start_time": "2023-03-29T13:54:17.268Z"
   },
   {
    "duration": 493,
    "start_time": "2023-03-29T13:54:33.859Z"
   },
   {
    "duration": 545,
    "start_time": "2023-03-29T13:55:22.524Z"
   },
   {
    "duration": 106,
    "start_time": "2023-03-29T13:55:55.122Z"
   },
   {
    "duration": 3,
    "start_time": "2023-03-29T13:56:46.416Z"
   },
   {
    "duration": 554,
    "start_time": "2023-03-29T13:58:15.199Z"
   },
   {
    "duration": 520,
    "start_time": "2023-03-29T13:58:59.226Z"
   },
   {
    "duration": 1502,
    "start_time": "2023-03-29T14:00:01.608Z"
   },
   {
    "duration": 844,
    "start_time": "2023-03-29T14:00:16.918Z"
   },
   {
    "duration": 609,
    "start_time": "2023-03-29T14:00:43.280Z"
   },
   {
    "duration": 553,
    "start_time": "2023-03-29T14:01:34.443Z"
   },
   {
    "duration": 893,
    "start_time": "2023-03-29T14:02:08.690Z"
   },
   {
    "duration": 66,
    "start_time": "2023-03-29T14:03:00.026Z"
   },
   {
    "duration": 3,
    "start_time": "2023-03-29T14:03:18.328Z"
   },
   {
    "duration": 168,
    "start_time": "2023-03-29T14:03:18.333Z"
   },
   {
    "duration": 8,
    "start_time": "2023-03-29T14:03:18.503Z"
   },
   {
    "duration": 4,
    "start_time": "2023-03-29T14:03:18.512Z"
   },
   {
    "duration": 26,
    "start_time": "2023-03-29T14:03:18.518Z"
   },
   {
    "duration": 13,
    "start_time": "2023-03-29T14:03:18.545Z"
   },
   {
    "duration": 135,
    "start_time": "2023-03-29T14:03:18.560Z"
   },
   {
    "duration": 24,
    "start_time": "2023-03-29T14:03:18.697Z"
   },
   {
    "duration": 80,
    "start_time": "2023-03-29T14:03:18.723Z"
   },
   {
    "duration": 137,
    "start_time": "2023-03-29T14:03:18.805Z"
   },
   {
    "duration": 30,
    "start_time": "2023-03-29T14:03:18.944Z"
   },
   {
    "duration": 6,
    "start_time": "2023-03-29T14:03:18.976Z"
   },
   {
    "duration": 18,
    "start_time": "2023-03-29T14:03:19.002Z"
   },
   {
    "duration": 5,
    "start_time": "2023-03-29T14:03:19.022Z"
   },
   {
    "duration": 230,
    "start_time": "2023-03-29T14:03:19.029Z"
   },
   {
    "duration": 211,
    "start_time": "2023-03-29T14:03:19.261Z"
   },
   {
    "duration": 42,
    "start_time": "2023-03-29T14:03:19.474Z"
   },
   {
    "duration": 15,
    "start_time": "2023-03-29T14:03:19.518Z"
   },
   {
    "duration": 33,
    "start_time": "2023-03-29T14:03:19.534Z"
   },
   {
    "duration": 43,
    "start_time": "2023-03-29T14:03:19.568Z"
   },
   {
    "duration": 60,
    "start_time": "2023-03-29T14:03:19.613Z"
   },
   {
    "duration": 587,
    "start_time": "2023-03-29T14:03:19.675Z"
   },
   {
    "duration": 3,
    "start_time": "2023-03-29T14:03:20.263Z"
   },
   {
    "duration": 1291,
    "start_time": "2023-03-29T16:45:39.432Z"
   },
   {
    "duration": 507,
    "start_time": "2023-03-29T16:45:40.725Z"
   },
   {
    "duration": 10,
    "start_time": "2023-03-29T16:45:41.234Z"
   },
   {
    "duration": 21,
    "start_time": "2023-03-29T16:45:41.246Z"
   },
   {
    "duration": 48,
    "start_time": "2023-03-29T16:45:41.269Z"
   },
   {
    "duration": 14,
    "start_time": "2023-03-29T16:45:41.319Z"
   },
   {
    "duration": 135,
    "start_time": "2023-03-29T16:45:41.335Z"
   },
   {
    "duration": 19,
    "start_time": "2023-03-29T16:45:41.471Z"
   },
   {
    "duration": 89,
    "start_time": "2023-03-29T16:45:41.491Z"
   },
   {
    "duration": 163,
    "start_time": "2023-03-29T16:45:41.582Z"
   },
   {
    "duration": 31,
    "start_time": "2023-03-29T16:45:41.746Z"
   },
   {
    "duration": 40,
    "start_time": "2023-03-29T16:45:41.778Z"
   },
   {
    "duration": 39,
    "start_time": "2023-03-29T16:45:41.819Z"
   },
   {
    "duration": 34,
    "start_time": "2023-03-29T16:45:41.861Z"
   },
   {
    "duration": 298,
    "start_time": "2023-03-29T16:45:41.897Z"
   },
   {
    "duration": 188,
    "start_time": "2023-03-29T16:45:42.197Z"
   },
   {
    "duration": 39,
    "start_time": "2023-03-29T16:45:42.387Z"
   },
   {
    "duration": 14,
    "start_time": "2023-03-29T16:45:42.435Z"
   },
   {
    "duration": 30,
    "start_time": "2023-03-29T16:45:42.450Z"
   },
   {
    "duration": 22,
    "start_time": "2023-03-29T16:45:42.481Z"
   },
   {
    "duration": 78,
    "start_time": "2023-03-29T16:45:42.504Z"
   },
   {
    "duration": 569,
    "start_time": "2023-03-29T16:45:42.584Z"
   },
   {
    "duration": 2,
    "start_time": "2023-03-29T16:45:43.154Z"
   },
   {
    "duration": 568,
    "start_time": "2023-03-29T16:45:50.731Z"
   },
   {
    "duration": 105,
    "start_time": "2023-03-29T17:01:26.111Z"
   },
   {
    "duration": 83,
    "start_time": "2023-03-29T17:01:43.940Z"
   },
   {
    "duration": 45,
    "start_time": "2023-03-29T17:02:07.541Z"
   },
   {
    "duration": 51,
    "start_time": "2023-03-29T17:02:31.517Z"
   },
   {
    "duration": 46,
    "start_time": "2023-03-29T17:04:10.507Z"
   },
   {
    "duration": 89,
    "start_time": "2023-03-29T17:08:46.517Z"
   },
   {
    "duration": 4,
    "start_time": "2023-03-29T17:09:27.079Z"
   },
   {
    "duration": 91,
    "start_time": "2023-03-29T17:17:15.799Z"
   },
   {
    "duration": 8,
    "start_time": "2023-03-29T17:17:25.902Z"
   },
   {
    "duration": 3,
    "start_time": "2023-03-29T17:17:37.618Z"
   },
   {
    "duration": 3,
    "start_time": "2023-03-29T17:17:54.818Z"
   },
   {
    "duration": 2,
    "start_time": "2023-03-29T17:18:13.495Z"
   },
   {
    "duration": 3,
    "start_time": "2023-03-29T17:18:25.101Z"
   },
   {
    "duration": 3,
    "start_time": "2023-03-29T17:21:13.048Z"
   },
   {
    "duration": 3,
    "start_time": "2023-03-29T17:21:33.057Z"
   },
   {
    "duration": 28,
    "start_time": "2023-03-29T17:39:44.435Z"
   },
   {
    "duration": 42,
    "start_time": "2023-03-29T17:53:04.236Z"
   },
   {
    "duration": 42,
    "start_time": "2023-03-29T17:53:44.974Z"
   },
   {
    "duration": 75,
    "start_time": "2023-03-29T17:53:54.828Z"
   },
   {
    "duration": 70,
    "start_time": "2023-03-29T17:54:02.944Z"
   },
   {
    "duration": 39,
    "start_time": "2023-03-29T17:54:10.345Z"
   },
   {
    "duration": 108,
    "start_time": "2023-03-29T17:54:18.031Z"
   },
   {
    "duration": 69,
    "start_time": "2023-03-29T17:54:22.939Z"
   },
   {
    "duration": 46,
    "start_time": "2023-03-29T17:54:31.726Z"
   },
   {
    "duration": 46,
    "start_time": "2023-03-29T17:55:44.243Z"
   },
   {
    "duration": 39,
    "start_time": "2023-03-29T17:55:51.794Z"
   },
   {
    "duration": 3,
    "start_time": "2023-03-29T18:37:01.259Z"
   },
   {
    "duration": 189,
    "start_time": "2023-03-29T18:37:01.264Z"
   },
   {
    "duration": 7,
    "start_time": "2023-03-29T18:37:01.455Z"
   },
   {
    "duration": 33,
    "start_time": "2023-03-29T18:37:01.463Z"
   },
   {
    "duration": 50,
    "start_time": "2023-03-29T18:37:01.498Z"
   },
   {
    "duration": 42,
    "start_time": "2023-03-29T18:37:01.549Z"
   },
   {
    "duration": 173,
    "start_time": "2023-03-29T18:37:01.593Z"
   },
   {
    "duration": 23,
    "start_time": "2023-03-29T18:37:01.768Z"
   },
   {
    "duration": 91,
    "start_time": "2023-03-29T18:37:01.792Z"
   },
   {
    "duration": 149,
    "start_time": "2023-03-29T18:37:01.885Z"
   },
   {
    "duration": 34,
    "start_time": "2023-03-29T18:37:02.036Z"
   },
   {
    "duration": 31,
    "start_time": "2023-03-29T18:37:02.071Z"
   },
   {
    "duration": 71,
    "start_time": "2023-03-29T18:37:02.105Z"
   },
   {
    "duration": 40,
    "start_time": "2023-03-29T18:37:02.177Z"
   },
   {
    "duration": 232,
    "start_time": "2023-03-29T18:37:02.219Z"
   },
   {
    "duration": 202,
    "start_time": "2023-03-29T18:37:02.452Z"
   },
   {
    "duration": 35,
    "start_time": "2023-03-29T18:37:02.656Z"
   },
   {
    "duration": 14,
    "start_time": "2023-03-29T18:37:02.693Z"
   },
   {
    "duration": 49,
    "start_time": "2023-03-29T18:37:02.709Z"
   },
   {
    "duration": 20,
    "start_time": "2023-03-29T18:37:02.760Z"
   },
   {
    "duration": 69,
    "start_time": "2023-03-29T18:37:02.781Z"
   },
   {
    "duration": 612,
    "start_time": "2023-03-29T18:37:02.852Z"
   },
   {
    "duration": 96,
    "start_time": "2023-03-29T18:37:03.465Z"
   },
   {
    "duration": 4,
    "start_time": "2023-03-29T18:37:03.563Z"
   },
   {
    "duration": 13,
    "start_time": "2023-03-29T18:37:03.569Z"
   },
   {
    "duration": 21,
    "start_time": "2023-03-29T18:37:03.583Z"
   },
   {
    "duration": 48,
    "start_time": "2023-03-29T18:37:03.605Z"
   },
   {
    "duration": 40,
    "start_time": "2023-03-29T18:37:03.655Z"
   },
   {
    "duration": 2,
    "start_time": "2023-03-29T18:37:03.697Z"
   },
   {
    "duration": 3,
    "start_time": "2023-03-29T18:38:23.660Z"
   },
   {
    "duration": 201,
    "start_time": "2023-03-29T18:39:36.001Z"
   },
   {
    "duration": 7,
    "start_time": "2023-03-29T18:40:07.565Z"
   },
   {
    "duration": 100,
    "start_time": "2023-03-29T18:45:02.892Z"
   },
   {
    "duration": 11,
    "start_time": "2023-03-29T18:48:12.161Z"
   },
   {
    "duration": 11,
    "start_time": "2023-03-29T18:53:42.105Z"
   },
   {
    "duration": 51,
    "start_time": "2023-03-29T18:58:02.646Z"
   },
   {
    "duration": 47,
    "start_time": "2023-03-29T19:02:47.881Z"
   },
   {
    "duration": 1405,
    "start_time": "2023-03-30T09:22:08.880Z"
   },
   {
    "duration": 572,
    "start_time": "2023-03-30T09:22:10.287Z"
   },
   {
    "duration": 14,
    "start_time": "2023-03-30T09:22:10.861Z"
   },
   {
    "duration": 8,
    "start_time": "2023-03-30T09:22:10.878Z"
   },
   {
    "duration": 40,
    "start_time": "2023-03-30T09:22:10.888Z"
   },
   {
    "duration": 17,
    "start_time": "2023-03-30T09:22:10.930Z"
   },
   {
    "duration": 147,
    "start_time": "2023-03-30T09:22:10.950Z"
   },
   {
    "duration": 23,
    "start_time": "2023-03-30T09:22:11.099Z"
   },
   {
    "duration": 111,
    "start_time": "2023-03-30T09:22:11.124Z"
   },
   {
    "duration": 189,
    "start_time": "2023-03-30T09:22:11.238Z"
   },
   {
    "duration": 39,
    "start_time": "2023-03-30T09:22:11.428Z"
   },
   {
    "duration": 9,
    "start_time": "2023-03-30T09:22:11.469Z"
   },
   {
    "duration": 33,
    "start_time": "2023-03-30T09:22:11.480Z"
   },
   {
    "duration": 23,
    "start_time": "2023-03-30T09:22:11.514Z"
   },
   {
    "duration": 334,
    "start_time": "2023-03-30T09:22:11.538Z"
   },
   {
    "duration": 226,
    "start_time": "2023-03-30T09:22:11.874Z"
   },
   {
    "duration": 54,
    "start_time": "2023-03-30T09:22:12.101Z"
   },
   {
    "duration": 21,
    "start_time": "2023-03-30T09:22:12.157Z"
   },
   {
    "duration": 58,
    "start_time": "2023-03-30T09:22:12.179Z"
   },
   {
    "duration": 26,
    "start_time": "2023-03-30T09:22:12.238Z"
   },
   {
    "duration": 84,
    "start_time": "2023-03-30T09:22:12.266Z"
   },
   {
    "duration": 687,
    "start_time": "2023-03-30T09:22:12.352Z"
   },
   {
    "duration": 135,
    "start_time": "2023-03-30T09:22:13.041Z"
   },
   {
    "duration": 5,
    "start_time": "2023-03-30T09:22:13.178Z"
   },
   {
    "duration": 13,
    "start_time": "2023-03-30T09:22:13.185Z"
   },
   {
    "duration": 18,
    "start_time": "2023-03-30T09:22:13.201Z"
   },
   {
    "duration": 42,
    "start_time": "2023-03-30T09:22:13.221Z"
   },
   {
    "duration": 53,
    "start_time": "2023-03-30T09:22:13.266Z"
   },
   {
    "duration": 81,
    "start_time": "2023-03-30T09:22:13.321Z"
   },
   {
    "duration": 65,
    "start_time": "2023-03-30T09:22:13.404Z"
   },
   {
    "duration": 54,
    "start_time": "2023-03-30T09:27:37.061Z"
   },
   {
    "duration": 32,
    "start_time": "2023-03-30T09:28:31.156Z"
   },
   {
    "duration": 7,
    "start_time": "2023-03-30T09:34:12.442Z"
   },
   {
    "duration": 14,
    "start_time": "2023-03-30T09:34:24.359Z"
   },
   {
    "duration": 130,
    "start_time": "2023-03-30T09:37:19.436Z"
   },
   {
    "duration": 49,
    "start_time": "2023-03-30T09:38:37.006Z"
   },
   {
    "duration": 28,
    "start_time": "2023-03-30T09:38:46.419Z"
   },
   {
    "duration": 13,
    "start_time": "2023-03-30T09:38:57.408Z"
   },
   {
    "duration": 14,
    "start_time": "2023-03-30T09:39:12.576Z"
   },
   {
    "duration": 15,
    "start_time": "2023-03-30T09:40:03.467Z"
   },
   {
    "duration": 12,
    "start_time": "2023-03-30T09:40:31.523Z"
   },
   {
    "duration": 14,
    "start_time": "2023-03-30T09:40:48.318Z"
   },
   {
    "duration": 3,
    "start_time": "2023-03-30T09:40:55.021Z"
   },
   {
    "duration": 177,
    "start_time": "2023-03-30T09:40:55.027Z"
   },
   {
    "duration": 8,
    "start_time": "2023-03-30T09:40:55.205Z"
   },
   {
    "duration": 9,
    "start_time": "2023-03-30T09:40:55.214Z"
   },
   {
    "duration": 26,
    "start_time": "2023-03-30T09:40:55.225Z"
   },
   {
    "duration": 16,
    "start_time": "2023-03-30T09:40:55.253Z"
   },
   {
    "duration": 134,
    "start_time": "2023-03-30T09:40:55.271Z"
   },
   {
    "duration": 26,
    "start_time": "2023-03-30T09:40:55.407Z"
   },
   {
    "duration": 81,
    "start_time": "2023-03-30T09:40:55.435Z"
   },
   {
    "duration": 163,
    "start_time": "2023-03-30T09:40:55.518Z"
   },
   {
    "duration": 51,
    "start_time": "2023-03-30T09:40:55.682Z"
   },
   {
    "duration": 7,
    "start_time": "2023-03-30T09:40:55.735Z"
   },
   {
    "duration": 33,
    "start_time": "2023-03-30T09:40:55.744Z"
   },
   {
    "duration": 5,
    "start_time": "2023-03-30T09:40:55.780Z"
   },
   {
    "duration": 229,
    "start_time": "2023-03-30T09:40:55.786Z"
   },
   {
    "duration": 217,
    "start_time": "2023-03-30T09:40:56.016Z"
   },
   {
    "duration": 39,
    "start_time": "2023-03-30T09:40:56.235Z"
   },
   {
    "duration": 18,
    "start_time": "2023-03-30T09:40:56.276Z"
   },
   {
    "duration": 53,
    "start_time": "2023-03-30T09:40:56.296Z"
   },
   {
    "duration": 24,
    "start_time": "2023-03-30T09:40:56.351Z"
   },
   {
    "duration": 84,
    "start_time": "2023-03-30T09:40:56.376Z"
   },
   {
    "duration": 698,
    "start_time": "2023-03-30T09:40:56.461Z"
   },
   {
    "duration": 112,
    "start_time": "2023-03-30T09:40:57.161Z"
   },
   {
    "duration": 4,
    "start_time": "2023-03-30T09:40:57.274Z"
   },
   {
    "duration": 20,
    "start_time": "2023-03-30T09:40:57.280Z"
   },
   {
    "duration": 17,
    "start_time": "2023-03-30T09:40:57.303Z"
   },
   {
    "duration": 34,
    "start_time": "2023-03-30T09:40:57.322Z"
   },
   {
    "duration": 51,
    "start_time": "2023-03-30T09:40:57.358Z"
   },
   {
    "duration": 78,
    "start_time": "2023-03-30T09:40:57.410Z"
   },
   {
    "duration": 14,
    "start_time": "2023-03-30T09:40:57.491Z"
   },
   {
    "duration": 22,
    "start_time": "2023-03-30T09:41:17.125Z"
   },
   {
    "duration": 15,
    "start_time": "2023-03-30T09:41:31.074Z"
   },
   {
    "duration": 4,
    "start_time": "2023-03-30T09:41:37.306Z"
   },
   {
    "duration": 169,
    "start_time": "2023-03-30T09:41:37.312Z"
   },
   {
    "duration": 8,
    "start_time": "2023-03-30T09:41:37.483Z"
   },
   {
    "duration": 11,
    "start_time": "2023-03-30T09:41:37.492Z"
   },
   {
    "duration": 25,
    "start_time": "2023-03-30T09:41:37.505Z"
   },
   {
    "duration": 15,
    "start_time": "2023-03-30T09:41:37.533Z"
   },
   {
    "duration": 140,
    "start_time": "2023-03-30T09:41:37.550Z"
   },
   {
    "duration": 22,
    "start_time": "2023-03-30T09:41:37.692Z"
   },
   {
    "duration": 76,
    "start_time": "2023-03-30T09:41:37.715Z"
   },
   {
    "duration": 151,
    "start_time": "2023-03-30T09:41:37.792Z"
   },
   {
    "duration": 33,
    "start_time": "2023-03-30T09:41:37.945Z"
   },
   {
    "duration": 8,
    "start_time": "2023-03-30T09:41:37.980Z"
   },
   {
    "duration": 48,
    "start_time": "2023-03-30T09:41:37.989Z"
   },
   {
    "duration": 5,
    "start_time": "2023-03-30T09:41:38.041Z"
   },
   {
    "duration": 239,
    "start_time": "2023-03-30T09:41:38.048Z"
   },
   {
    "duration": 200,
    "start_time": "2023-03-30T09:41:38.289Z"
   },
   {
    "duration": 50,
    "start_time": "2023-03-30T09:41:38.492Z"
   },
   {
    "duration": 17,
    "start_time": "2023-03-30T09:41:38.543Z"
   },
   {
    "duration": 36,
    "start_time": "2023-03-30T09:41:38.562Z"
   },
   {
    "duration": 38,
    "start_time": "2023-03-30T09:41:38.599Z"
   },
   {
    "duration": 79,
    "start_time": "2023-03-30T09:41:38.639Z"
   },
   {
    "duration": 596,
    "start_time": "2023-03-30T09:41:38.721Z"
   },
   {
    "duration": 106,
    "start_time": "2023-03-30T09:41:39.318Z"
   },
   {
    "duration": 9,
    "start_time": "2023-03-30T09:41:39.426Z"
   },
   {
    "duration": 24,
    "start_time": "2023-03-30T09:41:39.437Z"
   },
   {
    "duration": 16,
    "start_time": "2023-03-30T09:41:39.462Z"
   },
   {
    "duration": 50,
    "start_time": "2023-03-30T09:41:39.480Z"
   },
   {
    "duration": 48,
    "start_time": "2023-03-30T09:41:39.532Z"
   },
   {
    "duration": 73,
    "start_time": "2023-03-30T09:41:39.582Z"
   },
   {
    "duration": 13,
    "start_time": "2023-03-30T09:41:39.657Z"
   },
   {
    "duration": 6,
    "start_time": "2023-03-30T09:48:47.228Z"
   },
   {
    "duration": 39,
    "start_time": "2023-03-30T09:52:30.146Z"
   },
   {
    "duration": 194,
    "start_time": "2023-03-30T09:52:43.432Z"
   },
   {
    "duration": 13,
    "start_time": "2023-03-30T09:55:51.271Z"
   },
   {
    "duration": 4,
    "start_time": "2023-03-30T09:56:37.005Z"
   },
   {
    "duration": 189,
    "start_time": "2023-03-30T09:56:37.011Z"
   },
   {
    "duration": 8,
    "start_time": "2023-03-30T09:56:37.201Z"
   },
   {
    "duration": 8,
    "start_time": "2023-03-30T09:56:37.212Z"
   },
   {
    "duration": 33,
    "start_time": "2023-03-30T09:56:37.222Z"
   },
   {
    "duration": 18,
    "start_time": "2023-03-30T09:56:37.257Z"
   },
   {
    "duration": 144,
    "start_time": "2023-03-30T09:56:37.277Z"
   },
   {
    "duration": 33,
    "start_time": "2023-03-30T09:56:37.423Z"
   },
   {
    "duration": 87,
    "start_time": "2023-03-30T09:56:37.459Z"
   },
   {
    "duration": 172,
    "start_time": "2023-03-30T09:56:37.548Z"
   },
   {
    "duration": 41,
    "start_time": "2023-03-30T09:56:37.722Z"
   },
   {
    "duration": 7,
    "start_time": "2023-03-30T09:56:37.765Z"
   },
   {
    "duration": 20,
    "start_time": "2023-03-30T09:56:37.774Z"
   },
   {
    "duration": 5,
    "start_time": "2023-03-30T09:56:37.796Z"
   },
   {
    "duration": 247,
    "start_time": "2023-03-30T09:56:37.834Z"
   },
   {
    "duration": 216,
    "start_time": "2023-03-30T09:56:38.083Z"
   },
   {
    "duration": 47,
    "start_time": "2023-03-30T09:56:38.301Z"
   },
   {
    "duration": 18,
    "start_time": "2023-03-30T09:56:38.349Z"
   },
   {
    "duration": 34,
    "start_time": "2023-03-30T09:56:38.369Z"
   },
   {
    "duration": 52,
    "start_time": "2023-03-30T09:56:38.405Z"
   },
   {
    "duration": 75,
    "start_time": "2023-03-30T09:56:38.459Z"
   },
   {
    "duration": 563,
    "start_time": "2023-03-30T09:56:38.536Z"
   },
   {
    "duration": 113,
    "start_time": "2023-03-30T09:56:39.101Z"
   },
   {
    "duration": 4,
    "start_time": "2023-03-30T09:56:39.217Z"
   },
   {
    "duration": 24,
    "start_time": "2023-03-30T09:56:39.223Z"
   },
   {
    "duration": 14,
    "start_time": "2023-03-30T09:56:39.249Z"
   },
   {
    "duration": 43,
    "start_time": "2023-03-30T09:56:39.265Z"
   },
   {
    "duration": 50,
    "start_time": "2023-03-30T09:56:39.309Z"
   },
   {
    "duration": 76,
    "start_time": "2023-03-30T09:56:39.360Z"
   },
   {
    "duration": 14,
    "start_time": "2023-03-30T09:56:39.437Z"
   },
   {
    "duration": 27,
    "start_time": "2023-03-30T09:56:39.453Z"
   },
   {
    "duration": 28,
    "start_time": "2023-03-30T09:56:39.482Z"
   },
   {
    "duration": 58,
    "start_time": "2023-03-30T09:56:52.557Z"
   },
   {
    "duration": 15,
    "start_time": "2023-03-30T09:56:53.172Z"
   },
   {
    "duration": 14,
    "start_time": "2023-03-30T09:56:53.577Z"
   },
   {
    "duration": 11,
    "start_time": "2023-03-30T09:56:53.884Z"
   },
   {
    "duration": 11,
    "start_time": "2023-03-30T09:57:39.166Z"
   },
   {
    "duration": 16,
    "start_time": "2023-03-30T10:25:38.956Z"
   },
   {
    "duration": 16,
    "start_time": "2023-03-30T10:26:31.901Z"
   },
   {
    "duration": 17,
    "start_time": "2023-03-30T10:28:08.182Z"
   },
   {
    "duration": 13,
    "start_time": "2023-03-30T10:44:13.798Z"
   },
   {
    "duration": 12,
    "start_time": "2023-03-30T10:45:26.341Z"
   },
   {
    "duration": 13,
    "start_time": "2023-03-30T10:51:41.156Z"
   },
   {
    "duration": 15,
    "start_time": "2023-03-30T10:52:56.190Z"
   },
   {
    "duration": 4,
    "start_time": "2023-03-30T10:55:46.582Z"
   },
   {
    "duration": 199,
    "start_time": "2023-03-30T10:55:46.588Z"
   },
   {
    "duration": 12,
    "start_time": "2023-03-30T10:55:46.790Z"
   },
   {
    "duration": 9,
    "start_time": "2023-03-30T10:55:46.805Z"
   },
   {
    "duration": 43,
    "start_time": "2023-03-30T10:55:46.816Z"
   },
   {
    "duration": 20,
    "start_time": "2023-03-30T10:55:46.862Z"
   },
   {
    "duration": 178,
    "start_time": "2023-03-30T10:55:46.884Z"
   },
   {
    "duration": 30,
    "start_time": "2023-03-30T10:55:47.064Z"
   },
   {
    "duration": 99,
    "start_time": "2023-03-30T10:55:47.096Z"
   },
   {
    "duration": 203,
    "start_time": "2023-03-30T10:55:47.199Z"
   },
   {
    "duration": 43,
    "start_time": "2023-03-30T10:55:47.404Z"
   },
   {
    "duration": 8,
    "start_time": "2023-03-30T10:55:47.449Z"
   },
   {
    "duration": 23,
    "start_time": "2023-03-30T10:55:47.459Z"
   },
   {
    "duration": 5,
    "start_time": "2023-03-30T10:55:47.484Z"
   },
   {
    "duration": 275,
    "start_time": "2023-03-30T10:55:47.490Z"
   },
   {
    "duration": 357,
    "start_time": "2023-03-30T10:55:47.767Z"
   },
   {
    "duration": 45,
    "start_time": "2023-03-30T10:55:48.126Z"
   },
   {
    "duration": 20,
    "start_time": "2023-03-30T10:55:48.174Z"
   },
   {
    "duration": 62,
    "start_time": "2023-03-30T10:55:48.197Z"
   },
   {
    "duration": 28,
    "start_time": "2023-03-30T10:55:48.261Z"
   },
   {
    "duration": 89,
    "start_time": "2023-03-30T10:55:48.292Z"
   },
   {
    "duration": 627,
    "start_time": "2023-03-30T10:55:48.383Z"
   },
   {
    "duration": 121,
    "start_time": "2023-03-30T10:55:49.012Z"
   },
   {
    "duration": 5,
    "start_time": "2023-03-30T10:55:49.135Z"
   },
   {
    "duration": 14,
    "start_time": "2023-03-30T10:55:49.141Z"
   },
   {
    "duration": 13,
    "start_time": "2023-03-30T10:55:49.157Z"
   },
   {
    "duration": 43,
    "start_time": "2023-03-30T10:55:49.172Z"
   },
   {
    "duration": 56,
    "start_time": "2023-03-30T10:55:49.219Z"
   },
   {
    "duration": 75,
    "start_time": "2023-03-30T10:55:49.277Z"
   },
   {
    "duration": 13,
    "start_time": "2023-03-30T10:55:49.354Z"
   },
   {
    "duration": 17,
    "start_time": "2023-03-30T10:55:49.369Z"
   },
   {
    "duration": 20,
    "start_time": "2023-03-30T10:55:49.388Z"
   },
   {
    "duration": 39,
    "start_time": "2023-03-30T10:55:49.409Z"
   },
   {
    "duration": 15,
    "start_time": "2023-03-30T10:55:49.450Z"
   },
   {
    "duration": 23,
    "start_time": "2023-03-30T10:55:49.467Z"
   },
   {
    "duration": 14,
    "start_time": "2023-03-30T10:55:49.492Z"
   },
   {
    "duration": 38,
    "start_time": "2023-03-30T10:55:49.508Z"
   },
   {
    "duration": 14,
    "start_time": "2023-03-30T11:14:31.676Z"
   },
   {
    "duration": 4,
    "start_time": "2023-03-30T11:14:40.622Z"
   },
   {
    "duration": 198,
    "start_time": "2023-03-30T11:14:40.628Z"
   },
   {
    "duration": 9,
    "start_time": "2023-03-30T11:14:40.828Z"
   },
   {
    "duration": 8,
    "start_time": "2023-03-30T11:14:40.840Z"
   },
   {
    "duration": 30,
    "start_time": "2023-03-30T11:14:40.851Z"
   },
   {
    "duration": 19,
    "start_time": "2023-03-30T11:14:40.882Z"
   },
   {
    "duration": 154,
    "start_time": "2023-03-30T11:14:40.903Z"
   },
   {
    "duration": 24,
    "start_time": "2023-03-30T11:14:41.059Z"
   },
   {
    "duration": 95,
    "start_time": "2023-03-30T11:14:41.086Z"
   },
   {
    "duration": 172,
    "start_time": "2023-03-30T11:14:41.182Z"
   },
   {
    "duration": 39,
    "start_time": "2023-03-30T11:14:41.355Z"
   },
   {
    "duration": 11,
    "start_time": "2023-03-30T11:14:41.395Z"
   },
   {
    "duration": 41,
    "start_time": "2023-03-30T11:14:41.408Z"
   },
   {
    "duration": 10,
    "start_time": "2023-03-30T11:14:41.451Z"
   },
   {
    "duration": 255,
    "start_time": "2023-03-30T11:14:41.462Z"
   },
   {
    "duration": 226,
    "start_time": "2023-03-30T11:14:41.719Z"
   },
   {
    "duration": 44,
    "start_time": "2023-03-30T11:14:41.948Z"
   },
   {
    "duration": 41,
    "start_time": "2023-03-30T11:14:41.994Z"
   },
   {
    "duration": 39,
    "start_time": "2023-03-30T11:14:42.038Z"
   },
   {
    "duration": 27,
    "start_time": "2023-03-30T11:14:42.079Z"
   },
   {
    "duration": 99,
    "start_time": "2023-03-30T11:14:42.108Z"
   },
   {
    "duration": 635,
    "start_time": "2023-03-30T11:14:42.209Z"
   },
   {
    "duration": 119,
    "start_time": "2023-03-30T11:14:42.846Z"
   },
   {
    "duration": 5,
    "start_time": "2023-03-30T11:14:42.969Z"
   },
   {
    "duration": 9,
    "start_time": "2023-03-30T11:14:42.976Z"
   },
   {
    "duration": 12,
    "start_time": "2023-03-30T11:14:42.986Z"
   },
   {
    "duration": 58,
    "start_time": "2023-03-30T11:14:43.000Z"
   },
   {
    "duration": 53,
    "start_time": "2023-03-30T11:14:43.060Z"
   },
   {
    "duration": 80,
    "start_time": "2023-03-30T11:14:43.134Z"
   },
   {
    "duration": 32,
    "start_time": "2023-03-30T11:14:43.216Z"
   },
   {
    "duration": 17,
    "start_time": "2023-03-30T11:14:43.250Z"
   },
   {
    "duration": 29,
    "start_time": "2023-03-30T11:14:43.270Z"
   },
   {
    "duration": 43,
    "start_time": "2023-03-30T11:14:43.301Z"
   },
   {
    "duration": 16,
    "start_time": "2023-03-30T11:14:43.346Z"
   },
   {
    "duration": 69,
    "start_time": "2023-03-30T11:14:43.364Z"
   },
   {
    "duration": 16,
    "start_time": "2023-03-30T11:14:43.435Z"
   },
   {
    "duration": 30,
    "start_time": "2023-03-30T11:14:43.453Z"
   },
   {
    "duration": 5,
    "start_time": "2023-03-30T11:41:51.007Z"
   },
   {
    "duration": 193,
    "start_time": "2023-03-30T11:41:51.018Z"
   },
   {
    "duration": 9,
    "start_time": "2023-03-30T11:41:51.213Z"
   },
   {
    "duration": 13,
    "start_time": "2023-03-30T11:41:51.224Z"
   },
   {
    "duration": 33,
    "start_time": "2023-03-30T11:41:51.239Z"
   },
   {
    "duration": 41,
    "start_time": "2023-03-30T11:41:51.275Z"
   },
   {
    "duration": 134,
    "start_time": "2023-03-30T11:41:51.319Z"
   },
   {
    "duration": 24,
    "start_time": "2023-03-30T11:41:51.455Z"
   },
   {
    "duration": 83,
    "start_time": "2023-03-30T11:41:51.481Z"
   },
   {
    "duration": 159,
    "start_time": "2023-03-30T11:41:51.566Z"
   },
   {
    "duration": 38,
    "start_time": "2023-03-30T11:41:51.733Z"
   },
   {
    "duration": 8,
    "start_time": "2023-03-30T11:41:51.774Z"
   },
   {
    "duration": 27,
    "start_time": "2023-03-30T11:41:51.783Z"
   },
   {
    "duration": 25,
    "start_time": "2023-03-30T11:41:51.812Z"
   },
   {
    "duration": 244,
    "start_time": "2023-03-30T11:41:51.840Z"
   },
   {
    "duration": 218,
    "start_time": "2023-03-30T11:41:52.087Z"
   },
   {
    "duration": 46,
    "start_time": "2023-03-30T11:41:52.306Z"
   },
   {
    "duration": 32,
    "start_time": "2023-03-30T11:41:52.355Z"
   },
   {
    "duration": 58,
    "start_time": "2023-03-30T11:41:52.390Z"
   },
   {
    "duration": 25,
    "start_time": "2023-03-30T11:41:52.451Z"
   },
   {
    "duration": 85,
    "start_time": "2023-03-30T11:41:52.478Z"
   },
   {
    "duration": 585,
    "start_time": "2023-03-30T11:41:52.566Z"
   },
   {
    "duration": 120,
    "start_time": "2023-03-30T11:41:53.152Z"
   },
   {
    "duration": 7,
    "start_time": "2023-03-30T11:41:53.273Z"
   },
   {
    "duration": 22,
    "start_time": "2023-03-30T11:41:53.281Z"
   },
   {
    "duration": 10,
    "start_time": "2023-03-30T11:41:53.306Z"
   },
   {
    "duration": 43,
    "start_time": "2023-03-30T11:41:53.318Z"
   },
   {
    "duration": 48,
    "start_time": "2023-03-30T11:41:53.363Z"
   },
   {
    "duration": 75,
    "start_time": "2023-03-30T11:41:53.413Z"
   },
   {
    "duration": 13,
    "start_time": "2023-03-30T11:41:53.490Z"
   },
   {
    "duration": 35,
    "start_time": "2023-03-30T11:41:53.504Z"
   },
   {
    "duration": 22,
    "start_time": "2023-03-30T11:41:53.541Z"
   },
   {
    "duration": 19,
    "start_time": "2023-03-30T11:41:53.564Z"
   },
   {
    "duration": 23,
    "start_time": "2023-03-30T11:41:53.586Z"
   },
   {
    "duration": 41,
    "start_time": "2023-03-30T11:41:53.612Z"
   },
   {
    "duration": 22,
    "start_time": "2023-03-30T11:41:53.655Z"
   },
   {
    "duration": 23,
    "start_time": "2023-03-30T11:41:53.680Z"
   },
   {
    "duration": 1130,
    "start_time": "2023-03-30T12:03:10.806Z"
   },
   {
    "duration": 175,
    "start_time": "2023-03-30T12:03:11.940Z"
   },
   {
    "duration": 14,
    "start_time": "2023-03-30T12:03:12.117Z"
   },
   {
    "duration": 4,
    "start_time": "2023-03-30T12:03:12.133Z"
   },
   {
    "duration": 38,
    "start_time": "2023-03-30T12:03:12.138Z"
   },
   {
    "duration": 41,
    "start_time": "2023-03-30T12:03:12.178Z"
   },
   {
    "duration": 131,
    "start_time": "2023-03-30T12:03:12.221Z"
   },
   {
    "duration": 22,
    "start_time": "2023-03-30T12:03:12.354Z"
   },
   {
    "duration": 127,
    "start_time": "2023-03-30T12:03:12.378Z"
   },
   {
    "duration": 229,
    "start_time": "2023-03-30T12:03:12.509Z"
   },
   {
    "duration": 43,
    "start_time": "2023-03-30T12:03:12.741Z"
   },
   {
    "duration": 20,
    "start_time": "2023-03-30T12:03:12.785Z"
   },
   {
    "duration": 31,
    "start_time": "2023-03-30T12:03:12.807Z"
   },
   {
    "duration": 9,
    "start_time": "2023-03-30T12:03:12.840Z"
   },
   {
    "duration": 313,
    "start_time": "2023-03-30T12:03:12.851Z"
   },
   {
    "duration": 228,
    "start_time": "2023-03-30T12:03:13.166Z"
   },
   {
    "duration": 59,
    "start_time": "2023-03-30T12:03:13.396Z"
   },
   {
    "duration": 18,
    "start_time": "2023-03-30T12:03:13.458Z"
   },
   {
    "duration": 53,
    "start_time": "2023-03-30T12:03:13.478Z"
   },
   {
    "duration": 41,
    "start_time": "2023-03-30T12:03:13.533Z"
   },
   {
    "duration": 77,
    "start_time": "2023-03-30T12:03:13.576Z"
   },
   {
    "duration": 567,
    "start_time": "2023-03-30T12:03:13.655Z"
   },
   {
    "duration": 107,
    "start_time": "2023-03-30T12:03:14.225Z"
   },
   {
    "duration": 4,
    "start_time": "2023-03-30T12:03:14.335Z"
   },
   {
    "duration": 7,
    "start_time": "2023-03-30T12:03:14.341Z"
   },
   {
    "duration": 7,
    "start_time": "2023-03-30T12:03:14.350Z"
   },
   {
    "duration": 44,
    "start_time": "2023-03-30T12:03:14.358Z"
   },
   {
    "duration": 43,
    "start_time": "2023-03-30T12:03:14.416Z"
   },
   {
    "duration": 76,
    "start_time": "2023-03-30T12:03:14.461Z"
   },
   {
    "duration": 62,
    "start_time": "2023-03-30T12:03:14.539Z"
   },
   {
    "duration": 276,
    "start_time": "2023-03-30T12:03:14.603Z"
   },
   {
    "duration": 38,
    "start_time": "2023-03-30T12:03:14.882Z"
   },
   {
    "duration": 16,
    "start_time": "2023-03-30T12:03:14.922Z"
   },
   {
    "duration": 19,
    "start_time": "2023-03-30T12:03:14.940Z"
   },
   {
    "duration": 65,
    "start_time": "2023-03-30T12:03:14.961Z"
   },
   {
    "duration": 19,
    "start_time": "2023-03-30T12:03:15.028Z"
   },
   {
    "duration": 20,
    "start_time": "2023-03-30T12:03:15.048Z"
   },
   {
    "duration": 1191,
    "start_time": "2023-03-30T12:10:43.255Z"
   },
   {
    "duration": 173,
    "start_time": "2023-03-30T12:10:44.448Z"
   },
   {
    "duration": 13,
    "start_time": "2023-03-30T12:10:44.622Z"
   },
   {
    "duration": 3,
    "start_time": "2023-03-30T12:10:44.637Z"
   },
   {
    "duration": 32,
    "start_time": "2023-03-30T12:10:44.641Z"
   },
   {
    "duration": 17,
    "start_time": "2023-03-30T12:10:44.675Z"
   },
   {
    "duration": 144,
    "start_time": "2023-03-30T12:10:44.693Z"
   },
   {
    "duration": 21,
    "start_time": "2023-03-30T12:10:44.839Z"
   },
   {
    "duration": 96,
    "start_time": "2023-03-30T12:10:44.862Z"
   },
   {
    "duration": 165,
    "start_time": "2023-03-30T12:10:44.961Z"
   },
   {
    "duration": 32,
    "start_time": "2023-03-30T12:10:45.128Z"
   },
   {
    "duration": 7,
    "start_time": "2023-03-30T12:10:45.162Z"
   },
   {
    "duration": 47,
    "start_time": "2023-03-30T12:10:45.171Z"
   },
   {
    "duration": 5,
    "start_time": "2023-03-30T12:10:45.220Z"
   },
   {
    "duration": 309,
    "start_time": "2023-03-30T12:10:45.227Z"
   },
   {
    "duration": 207,
    "start_time": "2023-03-30T12:10:45.538Z"
   },
   {
    "duration": 45,
    "start_time": "2023-03-30T12:10:45.746Z"
   },
   {
    "duration": 28,
    "start_time": "2023-03-30T12:10:45.792Z"
   },
   {
    "duration": 37,
    "start_time": "2023-03-30T12:10:45.822Z"
   },
   {
    "duration": 26,
    "start_time": "2023-03-30T12:10:45.861Z"
   },
   {
    "duration": 104,
    "start_time": "2023-03-30T12:10:45.889Z"
   },
   {
    "duration": 589,
    "start_time": "2023-03-30T12:10:45.996Z"
   },
   {
    "duration": 133,
    "start_time": "2023-03-30T12:10:46.586Z"
   },
   {
    "duration": 5,
    "start_time": "2023-03-30T12:10:46.721Z"
   },
   {
    "duration": 19,
    "start_time": "2023-03-30T12:10:46.727Z"
   },
   {
    "duration": 27,
    "start_time": "2023-03-30T12:10:46.747Z"
   },
   {
    "duration": 57,
    "start_time": "2023-03-30T12:10:46.776Z"
   },
   {
    "duration": 48,
    "start_time": "2023-03-30T12:10:46.836Z"
   },
   {
    "duration": 78,
    "start_time": "2023-03-30T12:10:46.886Z"
   },
   {
    "duration": 61,
    "start_time": "2023-03-30T12:10:46.966Z"
   },
   {
    "duration": 376,
    "start_time": "2023-03-30T12:10:47.030Z"
   },
   {
    "duration": 13,
    "start_time": "2023-03-30T12:10:47.409Z"
   },
   {
    "duration": 17,
    "start_time": "2023-03-30T12:10:47.423Z"
   },
   {
    "duration": 18,
    "start_time": "2023-03-30T12:10:47.442Z"
   },
   {
    "duration": 126,
    "start_time": "2023-03-30T12:10:47.462Z"
   },
   {
    "duration": 13,
    "start_time": "2023-03-30T12:10:47.617Z"
   },
   {
    "duration": 17,
    "start_time": "2023-03-30T12:10:47.633Z"
   },
   {
    "duration": 22,
    "start_time": "2023-03-30T12:10:47.652Z"
   },
   {
    "duration": 4,
    "start_time": "2023-03-30T12:32:27.248Z"
   },
   {
    "duration": 168,
    "start_time": "2023-03-30T12:32:27.254Z"
   },
   {
    "duration": 16,
    "start_time": "2023-03-30T12:32:27.423Z"
   },
   {
    "duration": 15,
    "start_time": "2023-03-30T12:32:27.440Z"
   },
   {
    "duration": 33,
    "start_time": "2023-03-30T12:32:27.458Z"
   },
   {
    "duration": 29,
    "start_time": "2023-03-30T12:32:27.493Z"
   },
   {
    "duration": 141,
    "start_time": "2023-03-30T12:32:27.524Z"
   },
   {
    "duration": 24,
    "start_time": "2023-03-30T12:32:27.667Z"
   },
   {
    "duration": 87,
    "start_time": "2023-03-30T12:32:27.693Z"
   },
   {
    "duration": 175,
    "start_time": "2023-03-30T12:32:27.782Z"
   },
   {
    "duration": 36,
    "start_time": "2023-03-30T12:32:27.959Z"
   },
   {
    "duration": 11,
    "start_time": "2023-03-30T12:32:27.996Z"
   },
   {
    "duration": 42,
    "start_time": "2023-03-30T12:32:28.011Z"
   },
   {
    "duration": 7,
    "start_time": "2023-03-30T12:32:28.055Z"
   },
   {
    "duration": 346,
    "start_time": "2023-03-30T12:32:28.065Z"
   },
   {
    "duration": 228,
    "start_time": "2023-03-30T12:32:28.413Z"
   },
   {
    "duration": 41,
    "start_time": "2023-03-30T12:32:28.644Z"
   },
   {
    "duration": 19,
    "start_time": "2023-03-30T12:32:28.687Z"
   },
   {
    "duration": 55,
    "start_time": "2023-03-30T12:32:28.708Z"
   },
   {
    "duration": 25,
    "start_time": "2023-03-30T12:32:28.765Z"
   },
   {
    "duration": 91,
    "start_time": "2023-03-30T12:32:28.792Z"
   },
   {
    "duration": 618,
    "start_time": "2023-03-30T12:32:28.886Z"
   },
   {
    "duration": 126,
    "start_time": "2023-03-30T12:32:29.507Z"
   },
   {
    "duration": 5,
    "start_time": "2023-03-30T12:32:29.635Z"
   },
   {
    "duration": 13,
    "start_time": "2023-03-30T12:32:29.642Z"
   },
   {
    "duration": 15,
    "start_time": "2023-03-30T12:32:29.657Z"
   },
   {
    "duration": 45,
    "start_time": "2023-03-30T12:32:29.674Z"
   },
   {
    "duration": 48,
    "start_time": "2023-03-30T12:32:29.722Z"
   },
   {
    "duration": 74,
    "start_time": "2023-03-30T12:32:29.771Z"
   },
   {
    "duration": 12,
    "start_time": "2023-03-30T12:32:29.847Z"
   },
   {
    "duration": 25,
    "start_time": "2023-03-30T12:32:29.861Z"
   },
   {
    "duration": 22,
    "start_time": "2023-03-30T12:32:29.888Z"
   },
   {
    "duration": 28,
    "start_time": "2023-03-30T12:32:29.912Z"
   },
   {
    "duration": 16,
    "start_time": "2023-03-30T12:32:29.943Z"
   },
   {
    "duration": 26,
    "start_time": "2023-03-30T12:32:29.961Z"
   },
   {
    "duration": 14,
    "start_time": "2023-03-30T12:32:29.989Z"
   },
   {
    "duration": 54,
    "start_time": "2023-03-30T12:32:30.007Z"
   },
   {
    "duration": 1294,
    "start_time": "2023-03-30T14:25:37.207Z"
   },
   {
    "duration": 696,
    "start_time": "2023-03-30T14:25:38.504Z"
   },
   {
    "duration": 12,
    "start_time": "2023-03-30T14:25:39.202Z"
   },
   {
    "duration": 10,
    "start_time": "2023-03-30T14:25:39.216Z"
   },
   {
    "duration": 37,
    "start_time": "2023-03-30T14:25:39.228Z"
   },
   {
    "duration": 15,
    "start_time": "2023-03-30T14:25:39.267Z"
   },
   {
    "duration": 159,
    "start_time": "2023-03-30T14:25:39.284Z"
   },
   {
    "duration": 20,
    "start_time": "2023-03-30T14:25:39.445Z"
   },
   {
    "duration": 81,
    "start_time": "2023-03-30T14:25:39.467Z"
   },
   {
    "duration": 165,
    "start_time": "2023-03-30T14:25:39.551Z"
   },
   {
    "duration": 40,
    "start_time": "2023-03-30T14:25:39.718Z"
   },
   {
    "duration": 25,
    "start_time": "2023-03-30T14:25:39.760Z"
   },
   {
    "duration": 19,
    "start_time": "2023-03-30T14:25:39.787Z"
   },
   {
    "duration": 35,
    "start_time": "2023-03-30T14:25:39.808Z"
   },
   {
    "duration": 335,
    "start_time": "2023-03-30T14:25:39.845Z"
   },
   {
    "duration": 205,
    "start_time": "2023-03-30T14:25:40.182Z"
   },
   {
    "duration": 97,
    "start_time": "2023-03-30T14:25:40.388Z"
   },
   {
    "duration": 17,
    "start_time": "2023-03-30T14:25:40.487Z"
   },
   {
    "duration": 94,
    "start_time": "2023-03-30T14:25:40.505Z"
   },
   {
    "duration": 23,
    "start_time": "2023-03-30T14:25:40.600Z"
   },
   {
    "duration": 171,
    "start_time": "2023-03-30T14:25:40.625Z"
   },
   {
    "duration": 1106,
    "start_time": "2023-03-30T14:25:40.797Z"
   },
   {
    "duration": 198,
    "start_time": "2023-03-30T14:25:41.905Z"
   },
   {
    "duration": 4,
    "start_time": "2023-03-30T14:25:42.104Z"
   },
   {
    "duration": 8,
    "start_time": "2023-03-30T14:25:42.110Z"
   },
   {
    "duration": 20,
    "start_time": "2023-03-30T14:25:42.120Z"
   },
   {
    "duration": 80,
    "start_time": "2023-03-30T14:25:42.141Z"
   },
   {
    "duration": 97,
    "start_time": "2023-03-30T14:25:42.224Z"
   },
   {
    "duration": 164,
    "start_time": "2023-03-30T14:25:42.323Z"
   },
   {
    "duration": 48,
    "start_time": "2023-03-30T14:25:42.488Z"
   },
   {
    "duration": 173,
    "start_time": "2023-03-30T14:25:42.537Z"
   },
   {
    "duration": 11,
    "start_time": "2023-03-30T14:25:42.712Z"
   },
   {
    "duration": 21,
    "start_time": "2023-03-30T14:25:42.724Z"
   },
   {
    "duration": 48,
    "start_time": "2023-03-30T14:25:42.746Z"
   },
   {
    "duration": 24,
    "start_time": "2023-03-30T14:25:42.796Z"
   },
   {
    "duration": 165,
    "start_time": "2023-03-30T14:25:42.822Z"
   },
   {
    "duration": 20,
    "start_time": "2023-03-30T14:25:42.989Z"
   },
   {
    "duration": 117,
    "start_time": "2023-03-30T14:39:31.142Z"
   },
   {
    "duration": 4,
    "start_time": "2023-03-30T14:39:53.399Z"
   },
   {
    "duration": 181,
    "start_time": "2023-03-30T14:39:53.405Z"
   },
   {
    "duration": 7,
    "start_time": "2023-03-30T14:39:53.588Z"
   },
   {
    "duration": 16,
    "start_time": "2023-03-30T14:39:53.598Z"
   },
   {
    "duration": 46,
    "start_time": "2023-03-30T14:39:53.616Z"
   },
   {
    "duration": 32,
    "start_time": "2023-03-30T14:39:53.664Z"
   },
   {
    "duration": 126,
    "start_time": "2023-03-30T14:39:53.698Z"
   },
   {
    "duration": 20,
    "start_time": "2023-03-30T14:39:53.826Z"
   },
   {
    "duration": 79,
    "start_time": "2023-03-30T14:39:53.848Z"
   },
   {
    "duration": 154,
    "start_time": "2023-03-30T14:39:53.929Z"
   },
   {
    "duration": 34,
    "start_time": "2023-03-30T14:39:54.085Z"
   },
   {
    "duration": 9,
    "start_time": "2023-03-30T14:39:54.121Z"
   },
   {
    "duration": 42,
    "start_time": "2023-03-30T14:39:54.131Z"
   },
   {
    "duration": 11,
    "start_time": "2023-03-30T14:39:54.177Z"
   },
   {
    "duration": 226,
    "start_time": "2023-03-30T14:39:54.190Z"
   },
   {
    "duration": 198,
    "start_time": "2023-03-30T14:39:54.418Z"
   },
   {
    "duration": 36,
    "start_time": "2023-03-30T14:39:54.618Z"
   },
   {
    "duration": 38,
    "start_time": "2023-03-30T14:39:54.656Z"
   },
   {
    "duration": 34,
    "start_time": "2023-03-30T14:39:54.696Z"
   },
   {
    "duration": 28,
    "start_time": "2023-03-30T14:39:54.732Z"
   },
   {
    "duration": 101,
    "start_time": "2023-03-30T14:39:54.762Z"
   },
   {
    "duration": 570,
    "start_time": "2023-03-30T14:39:54.864Z"
   },
   {
    "duration": 11,
    "start_time": "2023-03-30T14:39:55.435Z"
   },
   {
    "duration": 0,
    "start_time": "2023-03-30T14:39:55.448Z"
   },
   {
    "duration": 0,
    "start_time": "2023-03-30T14:39:55.449Z"
   },
   {
    "duration": 0,
    "start_time": "2023-03-30T14:39:55.451Z"
   },
   {
    "duration": 0,
    "start_time": "2023-03-30T14:39:55.452Z"
   },
   {
    "duration": 0,
    "start_time": "2023-03-30T14:39:55.454Z"
   },
   {
    "duration": 0,
    "start_time": "2023-03-30T14:39:55.455Z"
   },
   {
    "duration": 0,
    "start_time": "2023-03-30T14:39:55.457Z"
   },
   {
    "duration": 0,
    "start_time": "2023-03-30T14:39:55.458Z"
   },
   {
    "duration": 0,
    "start_time": "2023-03-30T14:39:55.484Z"
   },
   {
    "duration": 0,
    "start_time": "2023-03-30T14:39:55.486Z"
   },
   {
    "duration": 0,
    "start_time": "2023-03-30T14:39:55.487Z"
   },
   {
    "duration": 0,
    "start_time": "2023-03-30T14:39:55.488Z"
   },
   {
    "duration": 0,
    "start_time": "2023-03-30T14:39:55.490Z"
   },
   {
    "duration": 0,
    "start_time": "2023-03-30T14:39:55.491Z"
   },
   {
    "duration": 29,
    "start_time": "2023-03-30T14:41:30.445Z"
   },
   {
    "duration": 12,
    "start_time": "2023-03-30T14:41:45.529Z"
   },
   {
    "duration": 18,
    "start_time": "2023-03-30T14:42:17.860Z"
   },
   {
    "duration": 34,
    "start_time": "2023-03-30T14:46:33.157Z"
   },
   {
    "duration": 56,
    "start_time": "2023-03-30T14:49:56.142Z"
   },
   {
    "duration": 4,
    "start_time": "2023-03-30T14:50:21.477Z"
   },
   {
    "duration": 180,
    "start_time": "2023-03-30T14:50:21.485Z"
   },
   {
    "duration": 8,
    "start_time": "2023-03-30T14:50:21.667Z"
   },
   {
    "duration": 22,
    "start_time": "2023-03-30T14:50:21.683Z"
   },
   {
    "duration": 41,
    "start_time": "2023-03-30T14:50:21.707Z"
   },
   {
    "duration": 39,
    "start_time": "2023-03-30T14:50:21.750Z"
   },
   {
    "duration": 144,
    "start_time": "2023-03-30T14:50:21.790Z"
   },
   {
    "duration": 21,
    "start_time": "2023-03-30T14:50:21.936Z"
   },
   {
    "duration": 75,
    "start_time": "2023-03-30T14:50:21.959Z"
   },
   {
    "duration": 187,
    "start_time": "2023-03-30T14:50:22.036Z"
   },
   {
    "duration": 36,
    "start_time": "2023-03-30T14:50:22.225Z"
   },
   {
    "duration": 27,
    "start_time": "2023-03-30T14:50:22.263Z"
   },
   {
    "duration": 33,
    "start_time": "2023-03-30T14:50:22.292Z"
   },
   {
    "duration": 17,
    "start_time": "2023-03-30T14:50:22.327Z"
   },
   {
    "duration": 229,
    "start_time": "2023-03-30T14:50:22.348Z"
   },
   {
    "duration": 226,
    "start_time": "2023-03-30T14:50:22.579Z"
   },
   {
    "duration": 38,
    "start_time": "2023-03-30T14:50:22.807Z"
   },
   {
    "duration": 24,
    "start_time": "2023-03-30T14:50:22.847Z"
   },
   {
    "duration": 47,
    "start_time": "2023-03-30T14:50:22.872Z"
   },
   {
    "duration": 25,
    "start_time": "2023-03-30T14:50:22.921Z"
   },
   {
    "duration": 100,
    "start_time": "2023-03-30T14:50:22.947Z"
   },
   {
    "duration": 578,
    "start_time": "2023-03-30T14:50:23.049Z"
   },
   {
    "duration": 10,
    "start_time": "2023-03-30T14:50:23.629Z"
   },
   {
    "duration": 0,
    "start_time": "2023-03-30T14:50:23.641Z"
   },
   {
    "duration": 0,
    "start_time": "2023-03-30T14:50:23.642Z"
   },
   {
    "duration": 0,
    "start_time": "2023-03-30T14:50:23.643Z"
   },
   {
    "duration": 0,
    "start_time": "2023-03-30T14:50:23.644Z"
   },
   {
    "duration": 0,
    "start_time": "2023-03-30T14:50:23.645Z"
   },
   {
    "duration": 0,
    "start_time": "2023-03-30T14:50:23.646Z"
   },
   {
    "duration": 0,
    "start_time": "2023-03-30T14:50:23.647Z"
   },
   {
    "duration": 0,
    "start_time": "2023-03-30T14:50:23.648Z"
   },
   {
    "duration": 0,
    "start_time": "2023-03-30T14:50:23.649Z"
   },
   {
    "duration": 0,
    "start_time": "2023-03-30T14:50:23.650Z"
   },
   {
    "duration": 0,
    "start_time": "2023-03-30T14:50:23.651Z"
   },
   {
    "duration": 0,
    "start_time": "2023-03-30T14:50:23.652Z"
   },
   {
    "duration": 0,
    "start_time": "2023-03-30T14:50:23.653Z"
   },
   {
    "duration": 0,
    "start_time": "2023-03-30T14:50:23.654Z"
   },
   {
    "duration": 0,
    "start_time": "2023-03-30T14:50:23.655Z"
   },
   {
    "duration": 29,
    "start_time": "2023-03-30T14:50:35.891Z"
   },
   {
    "duration": 48,
    "start_time": "2023-03-30T14:51:18.765Z"
   },
   {
    "duration": 3,
    "start_time": "2023-03-30T14:51:43.043Z"
   },
   {
    "duration": 145,
    "start_time": "2023-03-30T14:51:43.049Z"
   },
   {
    "duration": 7,
    "start_time": "2023-03-30T14:51:43.196Z"
   },
   {
    "duration": 6,
    "start_time": "2023-03-30T14:51:43.205Z"
   },
   {
    "duration": 24,
    "start_time": "2023-03-30T14:51:43.212Z"
   },
   {
    "duration": 13,
    "start_time": "2023-03-30T14:51:43.237Z"
   },
   {
    "duration": 125,
    "start_time": "2023-03-30T14:51:43.252Z"
   },
   {
    "duration": 25,
    "start_time": "2023-03-30T14:51:43.378Z"
   },
   {
    "duration": 80,
    "start_time": "2023-03-30T14:51:43.407Z"
   },
   {
    "duration": 133,
    "start_time": "2023-03-30T14:51:43.488Z"
   },
   {
    "duration": 32,
    "start_time": "2023-03-30T14:51:43.622Z"
   },
   {
    "duration": 7,
    "start_time": "2023-03-30T14:51:43.655Z"
   },
   {
    "duration": 33,
    "start_time": "2023-03-30T14:51:43.664Z"
   },
   {
    "duration": 5,
    "start_time": "2023-03-30T14:51:43.699Z"
   },
   {
    "duration": 253,
    "start_time": "2023-03-30T14:51:43.706Z"
   },
   {
    "duration": 216,
    "start_time": "2023-03-30T14:51:43.961Z"
   },
   {
    "duration": 39,
    "start_time": "2023-03-30T14:51:44.178Z"
   },
   {
    "duration": 18,
    "start_time": "2023-03-30T14:51:44.218Z"
   },
   {
    "duration": 56,
    "start_time": "2023-03-30T14:51:44.237Z"
   },
   {
    "duration": 35,
    "start_time": "2023-03-30T14:51:44.295Z"
   },
   {
    "duration": 83,
    "start_time": "2023-03-30T14:51:44.332Z"
   },
   {
    "duration": 619,
    "start_time": "2023-03-30T14:51:44.417Z"
   },
   {
    "duration": 10,
    "start_time": "2023-03-30T14:51:45.037Z"
   },
   {
    "duration": 0,
    "start_time": "2023-03-30T14:51:45.049Z"
   },
   {
    "duration": 0,
    "start_time": "2023-03-30T14:51:45.050Z"
   },
   {
    "duration": 0,
    "start_time": "2023-03-30T14:51:45.051Z"
   },
   {
    "duration": 0,
    "start_time": "2023-03-30T14:51:45.054Z"
   },
   {
    "duration": 0,
    "start_time": "2023-03-30T14:51:45.055Z"
   },
   {
    "duration": 0,
    "start_time": "2023-03-30T14:51:45.057Z"
   },
   {
    "duration": 0,
    "start_time": "2023-03-30T14:51:45.058Z"
   },
   {
    "duration": 0,
    "start_time": "2023-03-30T14:51:45.059Z"
   },
   {
    "duration": 0,
    "start_time": "2023-03-30T14:51:45.084Z"
   },
   {
    "duration": 1,
    "start_time": "2023-03-30T14:51:45.085Z"
   },
   {
    "duration": 0,
    "start_time": "2023-03-30T14:51:45.087Z"
   },
   {
    "duration": 0,
    "start_time": "2023-03-30T14:51:45.089Z"
   },
   {
    "duration": 0,
    "start_time": "2023-03-30T14:51:45.091Z"
   },
   {
    "duration": 0,
    "start_time": "2023-03-30T14:51:45.092Z"
   },
   {
    "duration": 0,
    "start_time": "2023-03-30T14:51:45.094Z"
   },
   {
    "duration": 17,
    "start_time": "2023-03-30T14:51:54.513Z"
   },
   {
    "duration": 55,
    "start_time": "2023-03-30T14:51:55.751Z"
   },
   {
    "duration": 46,
    "start_time": "2023-03-30T14:52:32.329Z"
   },
   {
    "duration": 52,
    "start_time": "2023-03-30T14:52:43.547Z"
   },
   {
    "duration": 12,
    "start_time": "2023-03-30T14:52:49.864Z"
   },
   {
    "duration": 13,
    "start_time": "2023-03-30T14:52:50.409Z"
   },
   {
    "duration": 12,
    "start_time": "2023-03-30T14:52:50.902Z"
   },
   {
    "duration": 12,
    "start_time": "2023-03-30T14:54:26.930Z"
   },
   {
    "duration": 11,
    "start_time": "2023-03-30T14:54:27.562Z"
   },
   {
    "duration": 10,
    "start_time": "2023-03-30T14:55:49.939Z"
   },
   {
    "duration": 90,
    "start_time": "2023-03-30T14:55:55.359Z"
   },
   {
    "duration": 4,
    "start_time": "2023-03-30T14:56:02.520Z"
   },
   {
    "duration": 211,
    "start_time": "2023-03-30T14:56:02.526Z"
   },
   {
    "duration": 7,
    "start_time": "2023-03-30T14:56:02.738Z"
   },
   {
    "duration": 10,
    "start_time": "2023-03-30T14:56:02.747Z"
   },
   {
    "duration": 33,
    "start_time": "2023-03-30T14:56:02.758Z"
   },
   {
    "duration": 35,
    "start_time": "2023-03-30T14:56:02.792Z"
   },
   {
    "duration": 143,
    "start_time": "2023-03-30T14:56:02.828Z"
   },
   {
    "duration": 22,
    "start_time": "2023-03-30T14:56:02.973Z"
   },
   {
    "duration": 97,
    "start_time": "2023-03-30T14:56:02.999Z"
   },
   {
    "duration": 145,
    "start_time": "2023-03-30T14:56:03.098Z"
   },
   {
    "duration": 39,
    "start_time": "2023-03-30T14:56:03.245Z"
   },
   {
    "duration": 17,
    "start_time": "2023-03-30T14:56:03.286Z"
   },
   {
    "duration": 45,
    "start_time": "2023-03-30T14:56:03.304Z"
   },
   {
    "duration": 18,
    "start_time": "2023-03-30T14:56:03.350Z"
   },
   {
    "duration": 216,
    "start_time": "2023-03-30T14:56:03.370Z"
   },
   {
    "duration": 201,
    "start_time": "2023-03-30T14:56:03.588Z"
   },
   {
    "duration": 36,
    "start_time": "2023-03-30T14:56:03.790Z"
   },
   {
    "duration": 16,
    "start_time": "2023-03-30T14:56:03.827Z"
   },
   {
    "duration": 48,
    "start_time": "2023-03-30T14:56:03.844Z"
   },
   {
    "duration": 22,
    "start_time": "2023-03-30T14:56:03.894Z"
   },
   {
    "duration": 83,
    "start_time": "2023-03-30T14:56:03.917Z"
   },
   {
    "duration": 634,
    "start_time": "2023-03-30T14:56:04.001Z"
   },
   {
    "duration": 107,
    "start_time": "2023-03-30T14:56:04.636Z"
   },
   {
    "duration": 3,
    "start_time": "2023-03-30T14:56:04.746Z"
   },
   {
    "duration": 24,
    "start_time": "2023-03-30T14:56:04.751Z"
   },
   {
    "duration": 21,
    "start_time": "2023-03-30T14:56:04.776Z"
   },
   {
    "duration": 31,
    "start_time": "2023-03-30T14:56:04.798Z"
   },
   {
    "duration": 50,
    "start_time": "2023-03-30T14:56:04.830Z"
   },
   {
    "duration": 41,
    "start_time": "2023-03-30T14:56:04.882Z"
   },
   {
    "duration": 65,
    "start_time": "2023-03-30T14:56:04.924Z"
   },
   {
    "duration": 10,
    "start_time": "2023-03-30T14:56:04.991Z"
   },
   {
    "duration": 49,
    "start_time": "2023-03-30T14:56:05.003Z"
   },
   {
    "duration": 31,
    "start_time": "2023-03-30T14:56:05.055Z"
   },
   {
    "duration": 31,
    "start_time": "2023-03-30T14:56:05.088Z"
   },
   {
    "duration": 16,
    "start_time": "2023-03-30T14:56:05.122Z"
   },
   {
    "duration": 24,
    "start_time": "2023-03-30T14:56:05.140Z"
   },
   {
    "duration": 28,
    "start_time": "2023-03-30T14:56:05.166Z"
   },
   {
    "duration": 17,
    "start_time": "2023-03-30T14:56:05.196Z"
   },
   {
    "duration": 12,
    "start_time": "2023-03-30T15:21:06.164Z"
   },
   {
    "duration": 11,
    "start_time": "2023-03-30T15:21:27.266Z"
   },
   {
    "duration": 12,
    "start_time": "2023-03-30T15:21:39.740Z"
   },
   {
    "duration": 3,
    "start_time": "2023-03-30T15:22:02.114Z"
   },
   {
    "duration": 3,
    "start_time": "2023-03-30T15:23:14.751Z"
   },
   {
    "duration": 3,
    "start_time": "2023-03-30T15:23:26.980Z"
   },
   {
    "duration": 5,
    "start_time": "2023-03-30T15:27:15.056Z"
   },
   {
    "duration": 4,
    "start_time": "2023-03-30T15:27:42.637Z"
   },
   {
    "duration": 4,
    "start_time": "2023-03-30T15:31:18.907Z"
   },
   {
    "duration": 4,
    "start_time": "2023-03-30T15:31:32.434Z"
   },
   {
    "duration": 3,
    "start_time": "2023-03-30T15:33:02.343Z"
   },
   {
    "duration": 43,
    "start_time": "2023-03-30T15:36:41.101Z"
   },
   {
    "duration": 37,
    "start_time": "2023-03-30T15:59:34.361Z"
   },
   {
    "duration": 31,
    "start_time": "2023-03-30T16:00:48.312Z"
   },
   {
    "duration": 33,
    "start_time": "2023-03-30T16:01:01.372Z"
   },
   {
    "duration": 37,
    "start_time": "2023-03-30T16:02:00.255Z"
   },
   {
    "duration": 31,
    "start_time": "2023-03-30T16:02:10.543Z"
   },
   {
    "duration": 23,
    "start_time": "2023-03-30T16:03:17.503Z"
   },
   {
    "duration": 30,
    "start_time": "2023-03-30T16:05:37.666Z"
   },
   {
    "duration": 29,
    "start_time": "2023-03-30T16:07:23.466Z"
   },
   {
    "duration": 27,
    "start_time": "2023-03-30T16:07:29.772Z"
   },
   {
    "duration": 23,
    "start_time": "2023-03-30T16:07:32.779Z"
   },
   {
    "duration": 17,
    "start_time": "2023-03-30T16:07:38.113Z"
   },
   {
    "duration": 21,
    "start_time": "2023-03-30T16:08:10.463Z"
   },
   {
    "duration": 20,
    "start_time": "2023-03-30T16:08:20.890Z"
   },
   {
    "duration": 23,
    "start_time": "2023-03-30T16:09:07.472Z"
   },
   {
    "duration": 23,
    "start_time": "2023-03-30T16:09:17.128Z"
   },
   {
    "duration": 20,
    "start_time": "2023-03-30T16:09:24.963Z"
   },
   {
    "duration": 21,
    "start_time": "2023-03-30T16:10:06.785Z"
   },
   {
    "duration": 35,
    "start_time": "2023-03-30T16:10:22.646Z"
   },
   {
    "duration": 28,
    "start_time": "2023-03-30T16:10:28.255Z"
   },
   {
    "duration": 48,
    "start_time": "2023-03-30T16:23:01.373Z"
   },
   {
    "duration": 46,
    "start_time": "2023-03-30T16:23:06.288Z"
   },
   {
    "duration": 56,
    "start_time": "2023-03-30T16:23:11.338Z"
   },
   {
    "duration": 45,
    "start_time": "2023-03-30T16:27:07.836Z"
   },
   {
    "duration": 61,
    "start_time": "2023-03-30T16:28:04.125Z"
   },
   {
    "duration": 38,
    "start_time": "2023-03-30T17:29:49.631Z"
   },
   {
    "duration": 31,
    "start_time": "2023-03-30T17:29:50.178Z"
   },
   {
    "duration": 58,
    "start_time": "2023-03-30T17:29:51.398Z"
   },
   {
    "duration": 47,
    "start_time": "2023-03-30T17:29:55.126Z"
   },
   {
    "duration": 51,
    "start_time": "2023-03-30T17:32:43.275Z"
   },
   {
    "duration": 64,
    "start_time": "2023-03-30T17:33:11.772Z"
   },
   {
    "duration": 61,
    "start_time": "2023-03-30T17:33:45.294Z"
   },
   {
    "duration": 56,
    "start_time": "2023-03-30T17:34:01.418Z"
   },
   {
    "duration": 61,
    "start_time": "2023-03-30T17:36:10.754Z"
   },
   {
    "duration": 75,
    "start_time": "2023-03-30T17:37:37.971Z"
   },
   {
    "duration": 62,
    "start_time": "2023-03-30T17:37:55.127Z"
   },
   {
    "duration": 67,
    "start_time": "2023-03-30T17:38:23.078Z"
   },
   {
    "duration": 20,
    "start_time": "2023-03-30T17:38:58.300Z"
   },
   {
    "duration": 4,
    "start_time": "2023-03-30T17:40:01.161Z"
   },
   {
    "duration": 239,
    "start_time": "2023-03-30T17:40:01.167Z"
   },
   {
    "duration": 8,
    "start_time": "2023-03-30T17:40:01.408Z"
   },
   {
    "duration": 58,
    "start_time": "2023-03-30T17:40:01.418Z"
   },
   {
    "duration": 115,
    "start_time": "2023-03-30T17:40:01.479Z"
   },
   {
    "duration": 118,
    "start_time": "2023-03-30T17:40:01.596Z"
   },
   {
    "duration": 198,
    "start_time": "2023-03-30T17:40:01.716Z"
   },
   {
    "duration": 25,
    "start_time": "2023-03-30T17:40:01.916Z"
   },
   {
    "duration": 111,
    "start_time": "2023-03-30T17:40:01.943Z"
   },
   {
    "duration": 145,
    "start_time": "2023-03-30T17:40:02.056Z"
   },
   {
    "duration": 33,
    "start_time": "2023-03-30T17:40:02.203Z"
   },
   {
    "duration": 41,
    "start_time": "2023-03-30T17:40:02.238Z"
   },
   {
    "duration": 81,
    "start_time": "2023-03-30T17:40:02.281Z"
   },
   {
    "duration": 43,
    "start_time": "2023-03-30T17:40:02.364Z"
   },
   {
    "duration": 255,
    "start_time": "2023-03-30T17:40:02.409Z"
   },
   {
    "duration": 200,
    "start_time": "2023-03-30T17:40:02.665Z"
   },
   {
    "duration": 45,
    "start_time": "2023-03-30T17:40:02.866Z"
   },
   {
    "duration": 16,
    "start_time": "2023-03-30T17:40:02.912Z"
   },
   {
    "duration": 57,
    "start_time": "2023-03-30T17:40:02.929Z"
   },
   {
    "duration": 23,
    "start_time": "2023-03-30T17:40:02.988Z"
   },
   {
    "duration": 119,
    "start_time": "2023-03-30T17:40:03.013Z"
   },
   {
    "duration": 515,
    "start_time": "2023-03-30T17:40:03.134Z"
   },
   {
    "duration": 99,
    "start_time": "2023-03-30T17:40:03.650Z"
   },
   {
    "duration": 3,
    "start_time": "2023-03-30T17:40:03.751Z"
   },
   {
    "duration": 41,
    "start_time": "2023-03-30T17:40:03.755Z"
   },
   {
    "duration": 109,
    "start_time": "2023-03-30T17:40:03.798Z"
   },
   {
    "duration": 53,
    "start_time": "2023-03-30T17:40:03.909Z"
   },
   {
    "duration": 50,
    "start_time": "2023-03-30T17:40:03.964Z"
   },
   {
    "duration": 61,
    "start_time": "2023-03-30T17:40:04.018Z"
   },
   {
    "duration": 103,
    "start_time": "2023-03-30T17:40:04.081Z"
   },
   {
    "duration": 53,
    "start_time": "2023-03-30T17:40:04.185Z"
   },
   {
    "duration": 100,
    "start_time": "2023-03-30T17:40:04.239Z"
   },
   {
    "duration": 0,
    "start_time": "2023-03-30T17:40:04.341Z"
   },
   {
    "duration": 0,
    "start_time": "2023-03-30T17:40:04.342Z"
   },
   {
    "duration": 0,
    "start_time": "2023-03-30T17:40:04.343Z"
   },
   {
    "duration": 0,
    "start_time": "2023-03-30T17:40:04.344Z"
   },
   {
    "duration": 0,
    "start_time": "2023-03-30T17:40:04.345Z"
   },
   {
    "duration": 0,
    "start_time": "2023-03-30T17:40:04.346Z"
   },
   {
    "duration": 0,
    "start_time": "2023-03-30T17:40:04.347Z"
   },
   {
    "duration": 0,
    "start_time": "2023-03-30T17:40:04.348Z"
   },
   {
    "duration": 4,
    "start_time": "2023-03-30T17:42:32.977Z"
   },
   {
    "duration": 204,
    "start_time": "2023-03-30T17:42:32.984Z"
   },
   {
    "duration": 7,
    "start_time": "2023-03-30T17:42:33.190Z"
   },
   {
    "duration": 33,
    "start_time": "2023-03-30T17:42:33.199Z"
   },
   {
    "duration": 58,
    "start_time": "2023-03-30T17:42:33.235Z"
   },
   {
    "duration": 47,
    "start_time": "2023-03-30T17:42:33.295Z"
   },
   {
    "duration": 145,
    "start_time": "2023-03-30T17:42:33.344Z"
   },
   {
    "duration": 21,
    "start_time": "2023-03-30T17:42:33.491Z"
   },
   {
    "duration": 73,
    "start_time": "2023-03-30T17:42:33.513Z"
   },
   {
    "duration": 143,
    "start_time": "2023-03-30T17:42:33.587Z"
   },
   {
    "duration": 33,
    "start_time": "2023-03-30T17:42:33.732Z"
   },
   {
    "duration": 16,
    "start_time": "2023-03-30T17:42:33.783Z"
   },
   {
    "duration": 54,
    "start_time": "2023-03-30T17:42:33.800Z"
   },
   {
    "duration": 22,
    "start_time": "2023-03-30T17:42:33.857Z"
   },
   {
    "duration": 244,
    "start_time": "2023-03-30T17:42:33.881Z"
   },
   {
    "duration": 197,
    "start_time": "2023-03-30T17:42:34.127Z"
   },
   {
    "duration": 35,
    "start_time": "2023-03-30T17:42:34.325Z"
   },
   {
    "duration": 32,
    "start_time": "2023-03-30T17:42:34.362Z"
   },
   {
    "duration": 30,
    "start_time": "2023-03-30T17:42:34.396Z"
   },
   {
    "duration": 29,
    "start_time": "2023-03-30T17:42:34.427Z"
   },
   {
    "duration": 84,
    "start_time": "2023-03-30T17:42:34.457Z"
   },
   {
    "duration": 592,
    "start_time": "2023-03-30T17:42:34.543Z"
   },
   {
    "duration": 125,
    "start_time": "2023-03-30T17:42:35.139Z"
   },
   {
    "duration": 3,
    "start_time": "2023-03-30T17:42:35.265Z"
   },
   {
    "duration": 31,
    "start_time": "2023-03-30T17:42:35.270Z"
   },
   {
    "duration": 20,
    "start_time": "2023-03-30T17:42:35.303Z"
   },
   {
    "duration": 33,
    "start_time": "2023-03-30T17:42:35.324Z"
   },
   {
    "duration": 38,
    "start_time": "2023-03-30T17:42:35.359Z"
   },
   {
    "duration": 46,
    "start_time": "2023-03-30T17:42:35.398Z"
   },
   {
    "duration": 56,
    "start_time": "2023-03-30T17:42:35.446Z"
   },
   {
    "duration": 53,
    "start_time": "2023-03-30T17:42:35.504Z"
   },
   {
    "duration": 91,
    "start_time": "2023-03-30T17:42:35.559Z"
   },
   {
    "duration": 0,
    "start_time": "2023-03-30T17:42:35.652Z"
   },
   {
    "duration": 0,
    "start_time": "2023-03-30T17:42:35.653Z"
   },
   {
    "duration": 0,
    "start_time": "2023-03-30T17:42:35.655Z"
   },
   {
    "duration": 0,
    "start_time": "2023-03-30T17:42:35.656Z"
   },
   {
    "duration": 0,
    "start_time": "2023-03-30T17:42:35.657Z"
   },
   {
    "duration": 0,
    "start_time": "2023-03-30T17:42:35.658Z"
   },
   {
    "duration": 0,
    "start_time": "2023-03-30T17:42:35.659Z"
   },
   {
    "duration": 0,
    "start_time": "2023-03-30T17:42:35.684Z"
   },
   {
    "duration": 0,
    "start_time": "2023-03-30T17:42:35.685Z"
   },
   {
    "duration": 78,
    "start_time": "2023-03-30T17:44:11.333Z"
   },
   {
    "duration": 80,
    "start_time": "2023-03-30T17:44:20.026Z"
   },
   {
    "duration": 90,
    "start_time": "2023-03-30T17:44:41.172Z"
   },
   {
    "duration": 74,
    "start_time": "2023-03-30T17:49:46.865Z"
   },
   {
    "duration": 86,
    "start_time": "2023-03-30T17:52:43.795Z"
   },
   {
    "duration": 77,
    "start_time": "2023-03-30T17:54:54.210Z"
   },
   {
    "duration": 4,
    "start_time": "2023-03-30T17:55:08.655Z"
   },
   {
    "duration": 185,
    "start_time": "2023-03-30T17:55:08.661Z"
   },
   {
    "duration": 8,
    "start_time": "2023-03-30T17:55:08.848Z"
   },
   {
    "duration": 5,
    "start_time": "2023-03-30T17:55:08.858Z"
   },
   {
    "duration": 30,
    "start_time": "2023-03-30T17:55:08.864Z"
   },
   {
    "duration": 29,
    "start_time": "2023-03-30T17:55:08.896Z"
   },
   {
    "duration": 130,
    "start_time": "2023-03-30T17:55:08.926Z"
   },
   {
    "duration": 34,
    "start_time": "2023-03-30T17:55:09.058Z"
   },
   {
    "duration": 74,
    "start_time": "2023-03-30T17:55:09.093Z"
   },
   {
    "duration": 148,
    "start_time": "2023-03-30T17:55:09.182Z"
   },
   {
    "duration": 34,
    "start_time": "2023-03-30T17:55:09.332Z"
   },
   {
    "duration": 21,
    "start_time": "2023-03-30T17:55:09.368Z"
   },
   {
    "duration": 19,
    "start_time": "2023-03-30T17:55:09.391Z"
   },
   {
    "duration": 6,
    "start_time": "2023-03-30T17:55:09.412Z"
   },
   {
    "duration": 246,
    "start_time": "2023-03-30T17:55:09.420Z"
   },
   {
    "duration": 247,
    "start_time": "2023-03-30T17:55:09.667Z"
   },
   {
    "duration": 37,
    "start_time": "2023-03-30T17:55:09.916Z"
   },
   {
    "duration": 34,
    "start_time": "2023-03-30T17:55:09.955Z"
   },
   {
    "duration": 33,
    "start_time": "2023-03-30T17:55:09.991Z"
   },
   {
    "duration": 28,
    "start_time": "2023-03-30T17:55:10.026Z"
   },
   {
    "duration": 97,
    "start_time": "2023-03-30T17:55:10.056Z"
   },
   {
    "duration": 709,
    "start_time": "2023-03-30T17:55:10.155Z"
   },
   {
    "duration": 102,
    "start_time": "2023-03-30T17:55:10.865Z"
   },
   {
    "duration": 15,
    "start_time": "2023-03-30T17:55:10.969Z"
   },
   {
    "duration": 7,
    "start_time": "2023-03-30T17:55:10.985Z"
   },
   {
    "duration": 8,
    "start_time": "2023-03-30T17:55:10.994Z"
   },
   {
    "duration": 6,
    "start_time": "2023-03-30T17:55:11.004Z"
   },
   {
    "duration": 27,
    "start_time": "2023-03-30T17:55:11.014Z"
   },
   {
    "duration": 43,
    "start_time": "2023-03-30T17:55:11.042Z"
   },
   {
    "duration": 58,
    "start_time": "2023-03-30T17:55:11.086Z"
   },
   {
    "duration": 70,
    "start_time": "2023-03-30T17:55:11.146Z"
   },
   {
    "duration": 75,
    "start_time": "2023-03-30T17:55:11.218Z"
   },
   {
    "duration": 0,
    "start_time": "2023-03-30T17:55:11.295Z"
   },
   {
    "duration": 0,
    "start_time": "2023-03-30T17:55:11.296Z"
   },
   {
    "duration": 0,
    "start_time": "2023-03-30T17:55:11.297Z"
   },
   {
    "duration": 0,
    "start_time": "2023-03-30T17:55:11.298Z"
   },
   {
    "duration": 0,
    "start_time": "2023-03-30T17:55:11.299Z"
   },
   {
    "duration": 0,
    "start_time": "2023-03-30T17:55:11.300Z"
   },
   {
    "duration": 0,
    "start_time": "2023-03-30T17:55:11.302Z"
   },
   {
    "duration": 0,
    "start_time": "2023-03-30T17:55:11.303Z"
   },
   {
    "duration": 0,
    "start_time": "2023-03-30T17:55:11.303Z"
   },
   {
    "duration": 55,
    "start_time": "2023-03-30T17:55:24.685Z"
   },
   {
    "duration": 4,
    "start_time": "2023-03-30T17:59:03.081Z"
   },
   {
    "duration": 194,
    "start_time": "2023-03-30T17:59:03.087Z"
   },
   {
    "duration": 8,
    "start_time": "2023-03-30T17:59:03.284Z"
   },
   {
    "duration": 40,
    "start_time": "2023-03-30T17:59:03.294Z"
   },
   {
    "duration": 25,
    "start_time": "2023-03-30T17:59:03.337Z"
   },
   {
    "duration": 21,
    "start_time": "2023-03-30T17:59:03.365Z"
   },
   {
    "duration": 161,
    "start_time": "2023-03-30T17:59:03.388Z"
   },
   {
    "duration": 25,
    "start_time": "2023-03-30T17:59:03.551Z"
   },
   {
    "duration": 70,
    "start_time": "2023-03-30T17:59:03.584Z"
   },
   {
    "duration": 151,
    "start_time": "2023-03-30T17:59:03.656Z"
   },
   {
    "duration": 39,
    "start_time": "2023-03-30T17:59:03.809Z"
   },
   {
    "duration": 36,
    "start_time": "2023-03-30T17:59:03.850Z"
   },
   {
    "duration": 20,
    "start_time": "2023-03-30T17:59:03.889Z"
   },
   {
    "duration": 5,
    "start_time": "2023-03-30T17:59:03.912Z"
   },
   {
    "duration": 252,
    "start_time": "2023-03-30T17:59:03.918Z"
   },
   {
    "duration": 214,
    "start_time": "2023-03-30T17:59:04.172Z"
   },
   {
    "duration": 37,
    "start_time": "2023-03-30T17:59:04.387Z"
   },
   {
    "duration": 18,
    "start_time": "2023-03-30T17:59:04.426Z"
   },
   {
    "duration": 51,
    "start_time": "2023-03-30T17:59:04.445Z"
   },
   {
    "duration": 25,
    "start_time": "2023-03-30T17:59:04.498Z"
   },
   {
    "duration": 81,
    "start_time": "2023-03-30T17:59:04.524Z"
   },
   {
    "duration": 591,
    "start_time": "2023-03-30T17:59:04.607Z"
   },
   {
    "duration": 109,
    "start_time": "2023-03-30T17:59:05.199Z"
   },
   {
    "duration": 3,
    "start_time": "2023-03-30T17:59:05.310Z"
   },
   {
    "duration": 21,
    "start_time": "2023-03-30T17:59:05.315Z"
   },
   {
    "duration": 5,
    "start_time": "2023-03-30T17:59:05.338Z"
   },
   {
    "duration": 7,
    "start_time": "2023-03-30T17:59:05.345Z"
   },
   {
    "duration": 34,
    "start_time": "2023-03-30T17:59:05.353Z"
   },
   {
    "duration": 31,
    "start_time": "2023-03-30T17:59:05.389Z"
   },
   {
    "duration": 76,
    "start_time": "2023-03-30T17:59:05.421Z"
   },
   {
    "duration": 48,
    "start_time": "2023-03-30T17:59:05.499Z"
   },
   {
    "duration": 84,
    "start_time": "2023-03-30T17:59:05.549Z"
   },
   {
    "duration": 22,
    "start_time": "2023-03-30T17:59:05.635Z"
   },
   {
    "duration": 58,
    "start_time": "2023-03-30T17:59:05.659Z"
   },
   {
    "duration": 29,
    "start_time": "2023-03-30T17:59:05.719Z"
   },
   {
    "duration": 38,
    "start_time": "2023-03-30T17:59:05.749Z"
   },
   {
    "duration": 24,
    "start_time": "2023-03-30T17:59:05.789Z"
   },
   {
    "duration": 23,
    "start_time": "2023-03-30T17:59:05.815Z"
   },
   {
    "duration": 50,
    "start_time": "2023-03-30T17:59:05.839Z"
   },
   {
    "duration": 43,
    "start_time": "2023-03-30T17:59:05.891Z"
   },
   {
    "duration": 43,
    "start_time": "2023-03-30T17:59:05.939Z"
   },
   {
    "duration": 53,
    "start_time": "2023-03-30T18:03:50.729Z"
   },
   {
    "duration": 68,
    "start_time": "2023-03-30T18:04:01.982Z"
   },
   {
    "duration": 61,
    "start_time": "2023-03-30T18:04:13.078Z"
   },
   {
    "duration": 4,
    "start_time": "2023-03-30T18:04:36.102Z"
   },
   {
    "duration": 218,
    "start_time": "2023-03-30T18:04:36.108Z"
   },
   {
    "duration": 8,
    "start_time": "2023-03-30T18:04:36.328Z"
   },
   {
    "duration": 6,
    "start_time": "2023-03-30T18:04:36.338Z"
   },
   {
    "duration": 43,
    "start_time": "2023-03-30T18:04:36.347Z"
   },
   {
    "duration": 18,
    "start_time": "2023-03-30T18:04:36.394Z"
   },
   {
    "duration": 126,
    "start_time": "2023-03-30T18:04:36.414Z"
   },
   {
    "duration": 20,
    "start_time": "2023-03-30T18:04:36.542Z"
   },
   {
    "duration": 76,
    "start_time": "2023-03-30T18:04:36.564Z"
   },
   {
    "duration": 150,
    "start_time": "2023-03-30T18:04:36.642Z"
   },
   {
    "duration": 35,
    "start_time": "2023-03-30T18:04:36.796Z"
   },
   {
    "duration": 6,
    "start_time": "2023-03-30T18:04:36.833Z"
   },
   {
    "duration": 31,
    "start_time": "2023-03-30T18:04:36.840Z"
   },
   {
    "duration": 9,
    "start_time": "2023-03-30T18:04:36.874Z"
   },
   {
    "duration": 215,
    "start_time": "2023-03-30T18:04:36.887Z"
   },
   {
    "duration": 194,
    "start_time": "2023-03-30T18:04:37.104Z"
   },
   {
    "duration": 33,
    "start_time": "2023-03-30T18:04:37.300Z"
   },
   {
    "duration": 63,
    "start_time": "2023-03-30T18:04:37.334Z"
   },
   {
    "duration": 75,
    "start_time": "2023-03-30T18:04:37.398Z"
   },
   {
    "duration": 40,
    "start_time": "2023-03-30T18:04:37.475Z"
   },
   {
    "duration": 92,
    "start_time": "2023-03-30T18:04:37.517Z"
   },
   {
    "duration": 554,
    "start_time": "2023-03-30T18:04:37.611Z"
   },
   {
    "duration": 109,
    "start_time": "2023-03-30T18:04:38.167Z"
   },
   {
    "duration": 16,
    "start_time": "2023-03-30T18:04:38.283Z"
   },
   {
    "duration": 36,
    "start_time": "2023-03-30T18:04:38.301Z"
   },
   {
    "duration": 37,
    "start_time": "2023-03-30T18:04:38.339Z"
   },
   {
    "duration": 35,
    "start_time": "2023-03-30T18:04:38.377Z"
   },
   {
    "duration": 35,
    "start_time": "2023-03-30T18:04:38.413Z"
   },
   {
    "duration": 66,
    "start_time": "2023-03-30T18:04:38.450Z"
   },
   {
    "duration": 78,
    "start_time": "2023-03-30T18:04:38.519Z"
   },
   {
    "duration": 48,
    "start_time": "2023-03-30T18:04:38.599Z"
   },
   {
    "duration": 73,
    "start_time": "2023-03-30T18:04:38.648Z"
   },
   {
    "duration": 26,
    "start_time": "2023-03-30T18:04:38.724Z"
   },
   {
    "duration": 24,
    "start_time": "2023-03-30T18:04:38.751Z"
   },
   {
    "duration": 38,
    "start_time": "2023-03-30T18:04:38.788Z"
   },
   {
    "duration": 18,
    "start_time": "2023-03-30T18:04:38.828Z"
   },
   {
    "duration": 28,
    "start_time": "2023-03-30T18:04:38.847Z"
   },
   {
    "duration": 40,
    "start_time": "2023-03-30T18:04:38.877Z"
   },
   {
    "duration": 55,
    "start_time": "2023-03-30T18:04:38.919Z"
   },
   {
    "duration": 51,
    "start_time": "2023-03-30T18:04:38.975Z"
   },
   {
    "duration": 36,
    "start_time": "2023-03-30T18:04:39.030Z"
   },
   {
    "duration": 4,
    "start_time": "2023-03-30T18:08:32.316Z"
   },
   {
    "duration": 219,
    "start_time": "2023-03-30T18:08:32.323Z"
   },
   {
    "duration": 7,
    "start_time": "2023-03-30T18:08:32.544Z"
   },
   {
    "duration": 45,
    "start_time": "2023-03-30T18:08:32.553Z"
   },
   {
    "duration": 51,
    "start_time": "2023-03-30T18:08:32.601Z"
   },
   {
    "duration": 63,
    "start_time": "2023-03-30T18:08:32.654Z"
   },
   {
    "duration": 157,
    "start_time": "2023-03-30T18:08:32.719Z"
   },
   {
    "duration": 24,
    "start_time": "2023-03-30T18:08:32.878Z"
   },
   {
    "duration": 93,
    "start_time": "2023-03-30T18:08:32.908Z"
   },
   {
    "duration": 163,
    "start_time": "2023-03-30T18:08:33.003Z"
   },
   {
    "duration": 52,
    "start_time": "2023-03-30T18:08:33.169Z"
   },
   {
    "duration": 18,
    "start_time": "2023-03-30T18:08:33.223Z"
   },
   {
    "duration": 61,
    "start_time": "2023-03-30T18:08:33.244Z"
   },
   {
    "duration": 10,
    "start_time": "2023-03-30T18:08:33.306Z"
   },
   {
    "duration": 257,
    "start_time": "2023-03-30T18:08:33.318Z"
   },
   {
    "duration": 218,
    "start_time": "2023-03-30T18:08:33.584Z"
   },
   {
    "duration": 36,
    "start_time": "2023-03-30T18:08:33.804Z"
   },
   {
    "duration": 17,
    "start_time": "2023-03-30T18:08:33.842Z"
   },
   {
    "duration": 56,
    "start_time": "2023-03-30T18:08:33.861Z"
   },
   {
    "duration": 26,
    "start_time": "2023-03-30T18:08:33.919Z"
   },
   {
    "duration": 94,
    "start_time": "2023-03-30T18:08:33.947Z"
   },
   {
    "duration": 703,
    "start_time": "2023-03-30T18:08:34.043Z"
   },
   {
    "duration": 135,
    "start_time": "2023-03-30T18:08:34.748Z"
   },
   {
    "duration": 6,
    "start_time": "2023-03-30T18:08:34.887Z"
   },
   {
    "duration": 27,
    "start_time": "2023-03-30T18:08:34.895Z"
   },
   {
    "duration": 10,
    "start_time": "2023-03-30T18:08:34.925Z"
   },
   {
    "duration": 9,
    "start_time": "2023-03-30T18:08:34.937Z"
   },
   {
    "duration": 31,
    "start_time": "2023-03-30T18:08:34.947Z"
   },
   {
    "duration": 42,
    "start_time": "2023-03-30T18:08:34.981Z"
   },
   {
    "duration": 76,
    "start_time": "2023-03-30T18:08:35.025Z"
   },
   {
    "duration": 49,
    "start_time": "2023-03-30T18:08:35.104Z"
   },
   {
    "duration": 81,
    "start_time": "2023-03-30T18:08:35.156Z"
   },
   {
    "duration": 22,
    "start_time": "2023-03-30T18:08:35.240Z"
   },
   {
    "duration": 34,
    "start_time": "2023-03-30T18:08:35.264Z"
   },
   {
    "duration": 24,
    "start_time": "2023-03-30T18:08:35.300Z"
   },
   {
    "duration": 14,
    "start_time": "2023-03-30T18:08:35.326Z"
   },
   {
    "duration": 12,
    "start_time": "2023-03-30T18:08:35.341Z"
   },
   {
    "duration": 40,
    "start_time": "2023-03-30T18:08:35.354Z"
   },
   {
    "duration": 25,
    "start_time": "2023-03-30T18:08:35.396Z"
   },
   {
    "duration": 16,
    "start_time": "2023-03-30T18:08:35.422Z"
   },
   {
    "duration": 18,
    "start_time": "2023-03-30T18:08:35.440Z"
   },
   {
    "duration": 56,
    "start_time": "2023-03-30T18:08:57.000Z"
   },
   {
    "duration": 21,
    "start_time": "2023-03-30T18:10:52.618Z"
   },
   {
    "duration": 11,
    "start_time": "2023-03-30T18:10:54.072Z"
   },
   {
    "duration": 11,
    "start_time": "2023-03-30T18:10:57.128Z"
   },
   {
    "duration": 12,
    "start_time": "2023-03-30T18:11:05.076Z"
   },
   {
    "duration": 10,
    "start_time": "2023-03-30T18:11:12.883Z"
   },
   {
    "duration": 57,
    "start_time": "2023-03-30T18:12:10.401Z"
   },
   {
    "duration": 51,
    "start_time": "2023-03-30T18:12:51.023Z"
   },
   {
    "duration": 48,
    "start_time": "2023-03-30T18:14:13.530Z"
   },
   {
    "duration": 65,
    "start_time": "2023-03-30T18:14:58.540Z"
   },
   {
    "duration": 4,
    "start_time": "2023-03-30T18:15:13.751Z"
   },
   {
    "duration": 184,
    "start_time": "2023-03-30T18:15:13.757Z"
   },
   {
    "duration": 8,
    "start_time": "2023-03-30T18:15:13.943Z"
   },
   {
    "duration": 8,
    "start_time": "2023-03-30T18:15:13.953Z"
   },
   {
    "duration": 42,
    "start_time": "2023-03-30T18:15:13.963Z"
   },
   {
    "duration": 25,
    "start_time": "2023-03-30T18:15:14.007Z"
   },
   {
    "duration": 174,
    "start_time": "2023-03-30T18:15:14.033Z"
   },
   {
    "duration": 23,
    "start_time": "2023-03-30T18:15:14.209Z"
   },
   {
    "duration": 81,
    "start_time": "2023-03-30T18:15:14.235Z"
   },
   {
    "duration": 152,
    "start_time": "2023-03-30T18:15:14.319Z"
   },
   {
    "duration": 38,
    "start_time": "2023-03-30T18:15:14.472Z"
   },
   {
    "duration": 24,
    "start_time": "2023-03-30T18:15:14.511Z"
   },
   {
    "duration": 34,
    "start_time": "2023-03-30T18:15:14.536Z"
   },
   {
    "duration": 4,
    "start_time": "2023-03-30T18:15:14.571Z"
   },
   {
    "duration": 225,
    "start_time": "2023-03-30T18:15:14.577Z"
   },
   {
    "duration": 242,
    "start_time": "2023-03-30T18:15:14.803Z"
   },
   {
    "duration": 62,
    "start_time": "2023-03-30T18:15:15.047Z"
   },
   {
    "duration": 16,
    "start_time": "2023-03-30T18:15:15.110Z"
   },
   {
    "duration": 40,
    "start_time": "2023-03-30T18:15:15.128Z"
   },
   {
    "duration": 31,
    "start_time": "2023-03-30T18:15:15.170Z"
   },
   {
    "duration": 73,
    "start_time": "2023-03-30T18:15:15.202Z"
   },
   {
    "duration": 549,
    "start_time": "2023-03-30T18:15:15.276Z"
   },
   {
    "duration": 111,
    "start_time": "2023-03-30T18:15:15.826Z"
   },
   {
    "duration": 4,
    "start_time": "2023-03-30T18:15:15.940Z"
   },
   {
    "duration": 11,
    "start_time": "2023-03-30T18:15:15.946Z"
   },
   {
    "duration": 18,
    "start_time": "2023-03-30T18:15:15.959Z"
   },
   {
    "duration": 8,
    "start_time": "2023-03-30T18:15:15.980Z"
   },
   {
    "duration": 38,
    "start_time": "2023-03-30T18:15:15.990Z"
   },
   {
    "duration": 53,
    "start_time": "2023-03-30T18:15:16.030Z"
   },
   {
    "duration": 65,
    "start_time": "2023-03-30T18:15:16.085Z"
   },
   {
    "duration": 70,
    "start_time": "2023-03-30T18:15:16.152Z"
   },
   {
    "duration": 73,
    "start_time": "2023-03-30T18:15:16.224Z"
   },
   {
    "duration": 22,
    "start_time": "2023-03-30T18:15:16.298Z"
   },
   {
    "duration": 16,
    "start_time": "2023-03-30T18:15:16.323Z"
   },
   {
    "duration": 28,
    "start_time": "2023-03-30T18:15:16.340Z"
   },
   {
    "duration": 25,
    "start_time": "2023-03-30T18:15:16.370Z"
   },
   {
    "duration": 12,
    "start_time": "2023-03-30T18:15:16.397Z"
   },
   {
    "duration": 21,
    "start_time": "2023-03-30T18:15:16.410Z"
   },
   {
    "duration": 46,
    "start_time": "2023-03-30T18:15:16.433Z"
   },
   {
    "duration": 18,
    "start_time": "2023-03-30T18:15:16.480Z"
   },
   {
    "duration": 25,
    "start_time": "2023-03-30T18:15:16.499Z"
   },
   {
    "duration": 3,
    "start_time": "2023-03-30T18:19:11.300Z"
   },
   {
    "duration": 183,
    "start_time": "2023-03-30T18:19:11.306Z"
   },
   {
    "duration": 9,
    "start_time": "2023-03-30T18:19:11.491Z"
   },
   {
    "duration": 59,
    "start_time": "2023-03-30T18:19:11.503Z"
   },
   {
    "duration": 73,
    "start_time": "2023-03-30T18:19:11.564Z"
   },
   {
    "duration": 41,
    "start_time": "2023-03-30T18:19:11.639Z"
   },
   {
    "duration": 158,
    "start_time": "2023-03-30T18:19:11.682Z"
   },
   {
    "duration": 23,
    "start_time": "2023-03-30T18:19:11.842Z"
   },
   {
    "duration": 113,
    "start_time": "2023-03-30T18:19:11.868Z"
   },
   {
    "duration": 169,
    "start_time": "2023-03-30T18:19:11.983Z"
   },
   {
    "duration": 45,
    "start_time": "2023-03-30T18:19:12.154Z"
   },
   {
    "duration": 39,
    "start_time": "2023-03-30T18:19:12.201Z"
   },
   {
    "duration": 113,
    "start_time": "2023-03-30T18:19:12.242Z"
   },
   {
    "duration": 64,
    "start_time": "2023-03-30T18:19:12.357Z"
   },
   {
    "duration": 281,
    "start_time": "2023-03-30T18:19:12.422Z"
   },
   {
    "duration": 233,
    "start_time": "2023-03-30T18:19:12.705Z"
   },
   {
    "duration": 66,
    "start_time": "2023-03-30T18:19:12.940Z"
   },
   {
    "duration": 19,
    "start_time": "2023-03-30T18:19:13.009Z"
   },
   {
    "duration": 106,
    "start_time": "2023-03-30T18:19:13.030Z"
   },
   {
    "duration": 52,
    "start_time": "2023-03-30T18:19:13.138Z"
   },
   {
    "duration": 137,
    "start_time": "2023-03-30T18:19:13.191Z"
   },
   {
    "duration": 1157,
    "start_time": "2023-03-30T18:19:13.330Z"
   },
   {
    "duration": 204,
    "start_time": "2023-03-30T18:19:14.489Z"
   },
   {
    "duration": 4,
    "start_time": "2023-03-30T18:19:14.696Z"
   },
   {
    "duration": 15,
    "start_time": "2023-03-30T18:19:14.701Z"
   },
   {
    "duration": 23,
    "start_time": "2023-03-30T18:19:14.717Z"
   },
   {
    "duration": 3,
    "start_time": "2023-03-30T18:19:14.784Z"
   },
   {
    "duration": 31,
    "start_time": "2023-03-30T18:19:14.788Z"
   },
   {
    "duration": 85,
    "start_time": "2023-03-30T18:19:14.820Z"
   },
   {
    "duration": 179,
    "start_time": "2023-03-30T18:19:14.907Z"
   },
   {
    "duration": 103,
    "start_time": "2023-03-30T18:19:15.088Z"
   },
   {
    "duration": 90,
    "start_time": "2023-03-30T18:19:15.194Z"
   },
   {
    "duration": 25,
    "start_time": "2023-03-30T18:19:15.286Z"
   },
   {
    "duration": 21,
    "start_time": "2023-03-30T18:19:15.312Z"
   },
   {
    "duration": 57,
    "start_time": "2023-03-30T18:19:15.334Z"
   },
   {
    "duration": 73,
    "start_time": "2023-03-30T18:19:15.393Z"
   },
   {
    "duration": 22,
    "start_time": "2023-03-30T18:19:15.468Z"
   },
   {
    "duration": 17,
    "start_time": "2023-03-30T18:19:15.492Z"
   },
   {
    "duration": 33,
    "start_time": "2023-03-30T18:19:15.511Z"
   },
   {
    "duration": 47,
    "start_time": "2023-03-30T18:19:15.546Z"
   },
   {
    "duration": 38,
    "start_time": "2023-03-30T18:19:15.595Z"
   },
   {
    "duration": 1069,
    "start_time": "2023-03-30T19:11:07.964Z"
   },
   {
    "duration": 220,
    "start_time": "2023-03-30T19:11:09.035Z"
   },
   {
    "duration": 11,
    "start_time": "2023-03-30T19:11:09.257Z"
   },
   {
    "duration": 6,
    "start_time": "2023-03-30T19:11:09.270Z"
   },
   {
    "duration": 28,
    "start_time": "2023-03-30T19:11:09.277Z"
   },
   {
    "duration": 25,
    "start_time": "2023-03-30T19:11:09.306Z"
   },
   {
    "duration": 129,
    "start_time": "2023-03-30T19:11:09.333Z"
   },
   {
    "duration": 21,
    "start_time": "2023-03-30T19:11:09.464Z"
   },
   {
    "duration": 92,
    "start_time": "2023-03-30T19:11:09.487Z"
   },
   {
    "duration": 170,
    "start_time": "2023-03-30T19:11:09.581Z"
   },
   {
    "duration": 33,
    "start_time": "2023-03-30T19:11:09.753Z"
   },
   {
    "duration": 22,
    "start_time": "2023-03-30T19:11:09.788Z"
   },
   {
    "duration": 21,
    "start_time": "2023-03-30T19:11:09.812Z"
   },
   {
    "duration": 5,
    "start_time": "2023-03-30T19:11:09.835Z"
   },
   {
    "duration": 304,
    "start_time": "2023-03-30T19:11:09.841Z"
   },
   {
    "duration": 205,
    "start_time": "2023-03-30T19:11:10.147Z"
   },
   {
    "duration": 43,
    "start_time": "2023-03-30T19:11:10.354Z"
   },
   {
    "duration": 31,
    "start_time": "2023-03-30T19:11:10.399Z"
   },
   {
    "duration": 40,
    "start_time": "2023-03-30T19:11:10.432Z"
   },
   {
    "duration": 23,
    "start_time": "2023-03-30T19:11:10.474Z"
   },
   {
    "duration": 77,
    "start_time": "2023-03-30T19:11:10.498Z"
   },
   {
    "duration": 555,
    "start_time": "2023-03-30T19:11:10.577Z"
   },
   {
    "duration": 114,
    "start_time": "2023-03-30T19:11:11.134Z"
   },
   {
    "duration": 3,
    "start_time": "2023-03-30T19:11:11.250Z"
   },
   {
    "duration": 9,
    "start_time": "2023-03-30T19:11:11.255Z"
   },
   {
    "duration": 13,
    "start_time": "2023-03-30T19:11:11.266Z"
   },
   {
    "duration": 26,
    "start_time": "2023-03-30T19:11:11.280Z"
   },
   {
    "duration": 26,
    "start_time": "2023-03-30T19:11:11.311Z"
   },
   {
    "duration": 34,
    "start_time": "2023-03-30T19:11:11.339Z"
   },
   {
    "duration": 72,
    "start_time": "2023-03-30T19:11:11.375Z"
   },
   {
    "duration": 120,
    "start_time": "2023-03-30T19:11:11.449Z"
   },
   {
    "duration": 0,
    "start_time": "2023-03-30T19:11:11.571Z"
   },
   {
    "duration": 0,
    "start_time": "2023-03-30T19:11:11.572Z"
   },
   {
    "duration": 0,
    "start_time": "2023-03-30T19:11:11.573Z"
   },
   {
    "duration": 0,
    "start_time": "2023-03-30T19:11:11.574Z"
   },
   {
    "duration": 0,
    "start_time": "2023-03-30T19:11:11.576Z"
   },
   {
    "duration": 0,
    "start_time": "2023-03-30T19:11:11.577Z"
   },
   {
    "duration": 0,
    "start_time": "2023-03-30T19:11:11.578Z"
   },
   {
    "duration": 0,
    "start_time": "2023-03-30T19:11:11.579Z"
   },
   {
    "duration": 0,
    "start_time": "2023-03-30T19:11:11.580Z"
   },
   {
    "duration": 0,
    "start_time": "2023-03-30T19:11:11.581Z"
   },
   {
    "duration": 0,
    "start_time": "2023-03-30T19:11:11.582Z"
   },
   {
    "duration": 42,
    "start_time": "2023-03-30T19:52:43.129Z"
   },
   {
    "duration": 46,
    "start_time": "2023-03-30T19:52:44.069Z"
   },
   {
    "duration": 75,
    "start_time": "2023-03-30T19:52:44.545Z"
   },
   {
    "duration": 29,
    "start_time": "2023-03-30T19:52:46.092Z"
   },
   {
    "duration": 52,
    "start_time": "2023-03-30T19:52:46.930Z"
   },
   {
    "duration": 300,
    "start_time": "2023-03-30T19:52:48.091Z"
   },
   {
    "duration": 34,
    "start_time": "2023-03-30T19:52:48.393Z"
   },
   {
    "duration": 1219,
    "start_time": "2023-03-30T19:53:23.822Z"
   },
   {
    "duration": 188,
    "start_time": "2023-03-30T19:53:25.043Z"
   },
   {
    "duration": 10,
    "start_time": "2023-03-30T19:53:25.233Z"
   },
   {
    "duration": 3,
    "start_time": "2023-03-30T19:53:25.245Z"
   },
   {
    "duration": 36,
    "start_time": "2023-03-30T19:53:25.250Z"
   },
   {
    "duration": 14,
    "start_time": "2023-03-30T19:53:25.288Z"
   },
   {
    "duration": 144,
    "start_time": "2023-03-30T19:53:25.318Z"
   },
   {
    "duration": 20,
    "start_time": "2023-03-30T19:53:25.464Z"
   },
   {
    "duration": 102,
    "start_time": "2023-03-30T19:53:25.486Z"
   },
   {
    "duration": 172,
    "start_time": "2023-03-30T19:53:25.590Z"
   },
   {
    "duration": 34,
    "start_time": "2023-03-30T19:53:25.763Z"
   },
   {
    "duration": 23,
    "start_time": "2023-03-30T19:53:25.799Z"
   },
   {
    "duration": 29,
    "start_time": "2023-03-30T19:53:25.824Z"
   },
   {
    "duration": 10,
    "start_time": "2023-03-30T19:53:25.855Z"
   },
   {
    "duration": 314,
    "start_time": "2023-03-30T19:53:25.867Z"
   },
   {
    "duration": 225,
    "start_time": "2023-03-30T19:53:26.183Z"
   },
   {
    "duration": 52,
    "start_time": "2023-03-30T19:53:26.409Z"
   },
   {
    "duration": 19,
    "start_time": "2023-03-30T19:53:26.463Z"
   },
   {
    "duration": 59,
    "start_time": "2023-03-30T19:53:26.484Z"
   },
   {
    "duration": 25,
    "start_time": "2023-03-30T19:53:26.545Z"
   },
   {
    "duration": 93,
    "start_time": "2023-03-30T19:53:26.572Z"
   },
   {
    "duration": 617,
    "start_time": "2023-03-30T19:53:26.667Z"
   },
   {
    "duration": 106,
    "start_time": "2023-03-30T19:53:27.286Z"
   },
   {
    "duration": 4,
    "start_time": "2023-03-30T19:53:27.393Z"
   },
   {
    "duration": 3,
    "start_time": "2023-03-30T19:53:27.418Z"
   },
   {
    "duration": 16,
    "start_time": "2023-03-30T19:53:27.423Z"
   },
   {
    "duration": 11,
    "start_time": "2023-03-30T19:53:27.441Z"
   },
   {
    "duration": 23,
    "start_time": "2023-03-30T19:53:27.455Z"
   },
   {
    "duration": 42,
    "start_time": "2023-03-30T19:53:27.480Z"
   },
   {
    "duration": 67,
    "start_time": "2023-03-30T19:53:27.524Z"
   },
   {
    "duration": 58,
    "start_time": "2023-03-30T19:53:27.593Z"
   },
   {
    "duration": 47,
    "start_time": "2023-03-30T19:53:27.653Z"
   },
   {
    "duration": 71,
    "start_time": "2023-03-30T19:53:27.717Z"
   },
   {
    "duration": 44,
    "start_time": "2023-03-30T19:53:27.789Z"
   },
   {
    "duration": 50,
    "start_time": "2023-03-30T19:53:27.834Z"
   },
   {
    "duration": 298,
    "start_time": "2023-03-30T19:53:27.886Z"
   },
   {
    "duration": 10,
    "start_time": "2023-03-30T19:53:28.186Z"
   },
   {
    "duration": 12,
    "start_time": "2023-03-30T19:53:28.217Z"
   },
   {
    "duration": 147,
    "start_time": "2023-03-30T19:53:28.230Z"
   },
   {
    "duration": 27,
    "start_time": "2023-03-30T19:53:28.379Z"
   },
   {
    "duration": 17,
    "start_time": "2023-03-30T19:53:28.418Z"
   },
   {
    "duration": 51,
    "start_time": "2023-03-30T19:53:28.437Z"
   },
   {
    "duration": 1347,
    "start_time": "2023-03-30T20:11:24.104Z"
   },
   {
    "duration": 975,
    "start_time": "2023-03-30T20:11:25.453Z"
   },
   {
    "duration": 10,
    "start_time": "2023-03-30T20:11:26.430Z"
   },
   {
    "duration": 4,
    "start_time": "2023-03-30T20:11:26.442Z"
   },
   {
    "duration": 26,
    "start_time": "2023-03-30T20:11:26.447Z"
   },
   {
    "duration": 15,
    "start_time": "2023-03-30T20:11:26.475Z"
   },
   {
    "duration": 131,
    "start_time": "2023-03-30T20:11:26.492Z"
   },
   {
    "duration": 20,
    "start_time": "2023-03-30T20:11:26.625Z"
   },
   {
    "duration": 90,
    "start_time": "2023-03-30T20:11:26.646Z"
   },
   {
    "duration": 166,
    "start_time": "2023-03-30T20:11:26.738Z"
   },
   {
    "duration": 33,
    "start_time": "2023-03-30T20:11:26.906Z"
   },
   {
    "duration": 24,
    "start_time": "2023-03-30T20:11:26.941Z"
   },
   {
    "duration": 17,
    "start_time": "2023-03-30T20:11:26.967Z"
   },
   {
    "duration": 4,
    "start_time": "2023-03-30T20:11:26.986Z"
   },
   {
    "duration": 330,
    "start_time": "2023-03-30T20:11:26.992Z"
   },
   {
    "duration": 226,
    "start_time": "2023-03-30T20:11:27.324Z"
   },
   {
    "duration": 52,
    "start_time": "2023-03-30T20:11:27.551Z"
   },
   {
    "duration": 19,
    "start_time": "2023-03-30T20:11:27.605Z"
   },
   {
    "duration": 49,
    "start_time": "2023-03-30T20:11:27.626Z"
   },
   {
    "duration": 23,
    "start_time": "2023-03-30T20:11:27.677Z"
   },
   {
    "duration": 84,
    "start_time": "2023-03-30T20:11:27.702Z"
   },
   {
    "duration": 876,
    "start_time": "2023-03-30T20:11:27.787Z"
   },
   {
    "duration": 206,
    "start_time": "2023-03-30T20:11:28.665Z"
   },
   {
    "duration": 3,
    "start_time": "2023-03-30T20:11:28.873Z"
   },
   {
    "duration": 5,
    "start_time": "2023-03-30T20:11:28.877Z"
   },
   {
    "duration": 6,
    "start_time": "2023-03-30T20:11:28.884Z"
   },
   {
    "duration": 6,
    "start_time": "2023-03-30T20:11:28.891Z"
   },
   {
    "duration": 68,
    "start_time": "2023-03-30T20:11:28.900Z"
   },
   {
    "duration": 31,
    "start_time": "2023-03-30T20:11:28.969Z"
   },
   {
    "duration": 170,
    "start_time": "2023-03-30T20:11:29.001Z"
   },
   {
    "duration": 95,
    "start_time": "2023-03-30T20:11:29.172Z"
   },
   {
    "duration": 103,
    "start_time": "2023-03-30T20:11:29.268Z"
   },
   {
    "duration": 123,
    "start_time": "2023-03-30T20:11:29.372Z"
   },
   {
    "duration": 83,
    "start_time": "2023-03-30T20:11:29.497Z"
   },
   {
    "duration": 98,
    "start_time": "2023-03-30T20:11:29.581Z"
   },
   {
    "duration": 316,
    "start_time": "2023-03-30T20:11:29.681Z"
   },
   {
    "duration": 13,
    "start_time": "2023-03-30T20:11:29.999Z"
   },
   {
    "duration": 55,
    "start_time": "2023-03-30T20:11:30.015Z"
   },
   {
    "duration": 151,
    "start_time": "2023-03-30T20:11:30.072Z"
   },
   {
    "duration": 60,
    "start_time": "2023-03-30T20:11:30.224Z"
   },
   {
    "duration": 48,
    "start_time": "2023-03-30T20:11:30.286Z"
   },
   {
    "duration": 56,
    "start_time": "2023-03-30T20:11:30.335Z"
   },
   {
    "duration": 56,
    "start_time": "2023-03-30T20:14:21.093Z"
   },
   {
    "duration": 48,
    "start_time": "2023-03-30T20:15:14.547Z"
   },
   {
    "duration": 73,
    "start_time": "2023-03-30T20:15:34.077Z"
   },
   {
    "duration": 3,
    "start_time": "2023-03-30T20:15:50.346Z"
   },
   {
    "duration": 148,
    "start_time": "2023-03-30T20:15:50.351Z"
   },
   {
    "duration": 7,
    "start_time": "2023-03-30T20:15:50.501Z"
   },
   {
    "duration": 4,
    "start_time": "2023-03-30T20:15:50.510Z"
   },
   {
    "duration": 21,
    "start_time": "2023-03-30T20:15:50.516Z"
   },
   {
    "duration": 29,
    "start_time": "2023-03-30T20:15:50.539Z"
   },
   {
    "duration": 128,
    "start_time": "2023-03-30T20:15:50.570Z"
   },
   {
    "duration": 21,
    "start_time": "2023-03-30T20:15:50.700Z"
   },
   {
    "duration": 83,
    "start_time": "2023-03-30T20:15:50.723Z"
   },
   {
    "duration": 143,
    "start_time": "2023-03-30T20:15:50.807Z"
   },
   {
    "duration": 37,
    "start_time": "2023-03-30T20:15:50.952Z"
   },
   {
    "duration": 7,
    "start_time": "2023-03-30T20:15:50.990Z"
   },
   {
    "duration": 31,
    "start_time": "2023-03-30T20:15:50.999Z"
   },
   {
    "duration": 4,
    "start_time": "2023-03-30T20:15:51.034Z"
   },
   {
    "duration": 233,
    "start_time": "2023-03-30T20:15:51.040Z"
   },
   {
    "duration": 210,
    "start_time": "2023-03-30T20:15:51.274Z"
   },
   {
    "duration": 37,
    "start_time": "2023-03-30T20:15:51.486Z"
   },
   {
    "duration": 31,
    "start_time": "2023-03-30T20:15:51.525Z"
   },
   {
    "duration": 38,
    "start_time": "2023-03-30T20:15:51.561Z"
   },
   {
    "duration": 23,
    "start_time": "2023-03-30T20:15:51.601Z"
   },
   {
    "duration": 79,
    "start_time": "2023-03-30T20:15:51.625Z"
   },
   {
    "duration": 545,
    "start_time": "2023-03-30T20:15:51.705Z"
   },
   {
    "duration": 100,
    "start_time": "2023-03-30T20:15:52.252Z"
   },
   {
    "duration": 3,
    "start_time": "2023-03-30T20:15:52.361Z"
   },
   {
    "duration": 5,
    "start_time": "2023-03-30T20:15:52.365Z"
   },
   {
    "duration": 8,
    "start_time": "2023-03-30T20:15:52.372Z"
   },
   {
    "duration": 6,
    "start_time": "2023-03-30T20:15:52.382Z"
   },
   {
    "duration": 20,
    "start_time": "2023-03-30T20:15:52.390Z"
   },
   {
    "duration": 50,
    "start_time": "2023-03-30T20:15:52.412Z"
   },
   {
    "duration": 55,
    "start_time": "2023-03-30T20:15:52.464Z"
   },
   {
    "duration": 53,
    "start_time": "2023-03-30T20:15:52.521Z"
   },
   {
    "duration": 48,
    "start_time": "2023-03-30T20:15:52.576Z"
   },
   {
    "duration": 78,
    "start_time": "2023-03-30T20:15:52.626Z"
   },
   {
    "duration": 23,
    "start_time": "2023-03-30T20:15:52.706Z"
   },
   {
    "duration": 33,
    "start_time": "2023-03-30T20:15:52.730Z"
   },
   {
    "duration": 14,
    "start_time": "2023-03-30T20:15:52.765Z"
   },
   {
    "duration": 11,
    "start_time": "2023-03-30T20:15:52.780Z"
   },
   {
    "duration": 11,
    "start_time": "2023-03-30T20:15:52.792Z"
   },
   {
    "duration": 12,
    "start_time": "2023-03-30T20:15:52.805Z"
   },
   {
    "duration": 47,
    "start_time": "2023-03-30T20:15:52.819Z"
   },
   {
    "duration": 12,
    "start_time": "2023-03-30T20:15:52.869Z"
   },
   {
    "duration": 14,
    "start_time": "2023-03-30T20:15:52.882Z"
   },
   {
    "duration": 10,
    "start_time": "2023-03-30T20:17:57.677Z"
   },
   {
    "duration": 63,
    "start_time": "2023-03-30T20:30:42.847Z"
   },
   {
    "duration": 12,
    "start_time": "2023-03-30T20:31:38.148Z"
   },
   {
    "duration": 4,
    "start_time": "2023-03-30T20:32:26.261Z"
   },
   {
    "duration": 159,
    "start_time": "2023-03-30T20:32:26.268Z"
   },
   {
    "duration": 7,
    "start_time": "2023-03-30T20:32:26.429Z"
   },
   {
    "duration": 5,
    "start_time": "2023-03-30T20:32:26.438Z"
   },
   {
    "duration": 35,
    "start_time": "2023-03-30T20:32:26.444Z"
   },
   {
    "duration": 17,
    "start_time": "2023-03-30T20:32:26.480Z"
   },
   {
    "duration": 145,
    "start_time": "2023-03-30T20:32:26.498Z"
   },
   {
    "duration": 27,
    "start_time": "2023-03-30T20:32:26.645Z"
   },
   {
    "duration": 89,
    "start_time": "2023-03-30T20:32:26.674Z"
   },
   {
    "duration": 160,
    "start_time": "2023-03-30T20:32:26.764Z"
   },
   {
    "duration": 41,
    "start_time": "2023-03-30T20:32:26.926Z"
   },
   {
    "duration": 8,
    "start_time": "2023-03-30T20:32:26.968Z"
   },
   {
    "duration": 18,
    "start_time": "2023-03-30T20:32:26.977Z"
   },
   {
    "duration": 4,
    "start_time": "2023-03-30T20:32:26.996Z"
   },
   {
    "duration": 255,
    "start_time": "2023-03-30T20:32:27.002Z"
   },
   {
    "duration": 236,
    "start_time": "2023-03-30T20:32:27.258Z"
   },
   {
    "duration": 41,
    "start_time": "2023-03-30T20:32:27.495Z"
   },
   {
    "duration": 35,
    "start_time": "2023-03-30T20:32:27.538Z"
   },
   {
    "duration": 37,
    "start_time": "2023-03-30T20:32:27.575Z"
   },
   {
    "duration": 30,
    "start_time": "2023-03-30T20:32:27.614Z"
   },
   {
    "duration": 60,
    "start_time": "2023-03-30T20:32:27.662Z"
   },
   {
    "duration": 655,
    "start_time": "2023-03-30T20:32:27.724Z"
   },
   {
    "duration": 309,
    "start_time": "2023-03-30T20:32:28.380Z"
   },
   {
    "duration": 5,
    "start_time": "2023-03-30T20:32:28.693Z"
   },
   {
    "duration": 5,
    "start_time": "2023-03-30T20:32:28.699Z"
   },
   {
    "duration": 4,
    "start_time": "2023-03-30T20:32:28.762Z"
   },
   {
    "duration": 3,
    "start_time": "2023-03-30T20:32:28.768Z"
   },
   {
    "duration": 18,
    "start_time": "2023-03-30T20:32:28.773Z"
   },
   {
    "duration": 80,
    "start_time": "2023-03-30T20:32:28.792Z"
   },
   {
    "duration": 115,
    "start_time": "2023-03-30T20:32:28.874Z"
   },
   {
    "duration": 100,
    "start_time": "2023-03-30T20:32:28.990Z"
   },
   {
    "duration": 93,
    "start_time": "2023-03-30T20:32:29.091Z"
   },
   {
    "duration": 113,
    "start_time": "2023-03-30T20:32:29.186Z"
   },
   {
    "duration": 81,
    "start_time": "2023-03-30T20:32:29.301Z"
   },
   {
    "duration": 15,
    "start_time": "2023-03-30T20:32:29.384Z"
   },
   {
    "duration": 70,
    "start_time": "2023-03-30T20:32:29.401Z"
   },
   {
    "duration": 15,
    "start_time": "2023-03-30T20:32:29.472Z"
   },
   {
    "duration": 13,
    "start_time": "2023-03-30T20:32:29.489Z"
   },
   {
    "duration": 67,
    "start_time": "2023-03-30T20:32:29.503Z"
   },
   {
    "duration": 14,
    "start_time": "2023-03-30T20:32:29.572Z"
   },
   {
    "duration": 15,
    "start_time": "2023-03-30T20:32:29.588Z"
   },
   {
    "duration": 69,
    "start_time": "2023-03-30T20:32:29.605Z"
   },
   {
    "duration": 1213,
    "start_time": "2023-03-30T21:39:51.717Z"
   },
   {
    "duration": 164,
    "start_time": "2023-03-30T21:39:52.932Z"
   },
   {
    "duration": 11,
    "start_time": "2023-03-30T21:39:53.098Z"
   },
   {
    "duration": 15,
    "start_time": "2023-03-30T21:39:53.117Z"
   },
   {
    "duration": 33,
    "start_time": "2023-03-30T21:39:53.134Z"
   },
   {
    "duration": 20,
    "start_time": "2023-03-30T21:39:53.168Z"
   },
   {
    "duration": 144,
    "start_time": "2023-03-30T21:39:53.189Z"
   },
   {
    "duration": 19,
    "start_time": "2023-03-30T21:39:53.335Z"
   },
   {
    "duration": 98,
    "start_time": "2023-03-30T21:39:53.356Z"
   },
   {
    "duration": 173,
    "start_time": "2023-03-30T21:39:53.457Z"
   },
   {
    "duration": 35,
    "start_time": "2023-03-30T21:39:53.632Z"
   },
   {
    "duration": 10,
    "start_time": "2023-03-30T21:39:53.668Z"
   },
   {
    "duration": 39,
    "start_time": "2023-03-30T21:39:53.679Z"
   },
   {
    "duration": 5,
    "start_time": "2023-03-30T21:39:53.720Z"
   },
   {
    "duration": 292,
    "start_time": "2023-03-30T21:39:53.727Z"
   },
   {
    "duration": 209,
    "start_time": "2023-03-30T21:39:54.020Z"
   },
   {
    "duration": 46,
    "start_time": "2023-03-30T21:39:54.231Z"
   },
   {
    "duration": 16,
    "start_time": "2023-03-30T21:39:54.279Z"
   },
   {
    "duration": 62,
    "start_time": "2023-03-30T21:39:54.297Z"
   },
   {
    "duration": 25,
    "start_time": "2023-03-30T21:39:54.361Z"
   },
   {
    "duration": 91,
    "start_time": "2023-03-30T21:39:54.387Z"
   },
   {
    "duration": 588,
    "start_time": "2023-03-30T21:39:54.480Z"
   },
   {
    "duration": 107,
    "start_time": "2023-03-30T21:39:55.070Z"
   },
   {
    "duration": 4,
    "start_time": "2023-03-30T21:39:55.179Z"
   },
   {
    "duration": 34,
    "start_time": "2023-03-30T21:39:55.185Z"
   },
   {
    "duration": 21,
    "start_time": "2023-03-30T21:39:55.221Z"
   },
   {
    "duration": 23,
    "start_time": "2023-03-30T21:39:55.243Z"
   },
   {
    "duration": 32,
    "start_time": "2023-03-30T21:39:55.270Z"
   },
   {
    "duration": 36,
    "start_time": "2023-03-30T21:39:55.303Z"
   },
   {
    "duration": 77,
    "start_time": "2023-03-30T21:39:55.341Z"
   },
   {
    "duration": 41,
    "start_time": "2023-03-30T21:39:55.420Z"
   },
   {
    "duration": 68,
    "start_time": "2023-03-30T21:39:55.463Z"
   },
   {
    "duration": 85,
    "start_time": "2023-03-30T21:39:55.533Z"
   },
   {
    "duration": 30,
    "start_time": "2023-03-30T21:39:55.620Z"
   },
   {
    "duration": 65,
    "start_time": "2023-03-30T21:39:55.652Z"
   },
   {
    "duration": 250,
    "start_time": "2023-03-30T21:39:55.719Z"
   },
   {
    "duration": 11,
    "start_time": "2023-03-30T21:39:55.971Z"
   },
   {
    "duration": 41,
    "start_time": "2023-03-30T21:39:55.984Z"
   },
   {
    "duration": 142,
    "start_time": "2023-03-30T21:39:56.027Z"
   },
   {
    "duration": 25,
    "start_time": "2023-03-30T21:39:56.171Z"
   },
   {
    "duration": 37,
    "start_time": "2023-03-30T21:39:56.198Z"
   },
   {
    "duration": 28,
    "start_time": "2023-03-30T21:39:56.237Z"
   },
   {
    "duration": 1227,
    "start_time": "2023-03-31T03:38:58.680Z"
   },
   {
    "duration": 709,
    "start_time": "2023-03-31T03:38:59.909Z"
   },
   {
    "duration": 11,
    "start_time": "2023-03-31T03:39:00.620Z"
   },
   {
    "duration": 8,
    "start_time": "2023-03-31T03:39:00.632Z"
   },
   {
    "duration": 39,
    "start_time": "2023-03-31T03:39:00.641Z"
   },
   {
    "duration": 29,
    "start_time": "2023-03-31T03:39:00.681Z"
   },
   {
    "duration": 128,
    "start_time": "2023-03-31T03:39:00.712Z"
   },
   {
    "duration": 17,
    "start_time": "2023-03-31T03:39:00.842Z"
   },
   {
    "duration": 100,
    "start_time": "2023-03-31T03:39:00.861Z"
   },
   {
    "duration": 152,
    "start_time": "2023-03-31T03:39:00.963Z"
   },
   {
    "duration": 34,
    "start_time": "2023-03-31T03:39:01.116Z"
   },
   {
    "duration": 6,
    "start_time": "2023-03-31T03:39:01.152Z"
   },
   {
    "duration": 36,
    "start_time": "2023-03-31T03:39:01.160Z"
   },
   {
    "duration": 12,
    "start_time": "2023-03-31T03:39:01.198Z"
   },
   {
    "duration": 293,
    "start_time": "2023-03-31T03:39:01.211Z"
   },
   {
    "duration": 186,
    "start_time": "2023-03-31T03:39:01.505Z"
   },
   {
    "duration": 48,
    "start_time": "2023-03-31T03:39:01.692Z"
   },
   {
    "duration": 14,
    "start_time": "2023-03-31T03:39:01.742Z"
   },
   {
    "duration": 66,
    "start_time": "2023-03-31T03:39:01.757Z"
   },
   {
    "duration": 37,
    "start_time": "2023-03-31T03:39:01.824Z"
   },
   {
    "duration": 102,
    "start_time": "2023-03-31T03:39:01.862Z"
   },
   {
    "duration": 710,
    "start_time": "2023-03-31T03:39:01.965Z"
   },
   {
    "duration": 198,
    "start_time": "2023-03-31T03:39:02.676Z"
   },
   {
    "duration": 3,
    "start_time": "2023-03-31T03:39:02.875Z"
   },
   {
    "duration": 5,
    "start_time": "2023-03-31T03:39:02.879Z"
   },
   {
    "duration": 54,
    "start_time": "2023-03-31T03:39:02.886Z"
   },
   {
    "duration": 2,
    "start_time": "2023-03-31T03:39:02.942Z"
   },
   {
    "duration": 18,
    "start_time": "2023-03-31T03:39:02.947Z"
   },
   {
    "duration": 80,
    "start_time": "2023-03-31T03:39:02.966Z"
   },
   {
    "duration": 117,
    "start_time": "2023-03-31T03:39:03.047Z"
   },
   {
    "duration": 88,
    "start_time": "2023-03-31T03:39:03.166Z"
   },
   {
    "duration": 94,
    "start_time": "2023-03-31T03:39:03.256Z"
   },
   {
    "duration": 113,
    "start_time": "2023-03-31T03:39:03.351Z"
   },
   {
    "duration": 80,
    "start_time": "2023-03-31T03:39:03.465Z"
   },
   {
    "duration": 94,
    "start_time": "2023-03-31T03:39:03.547Z"
   },
   {
    "duration": 247,
    "start_time": "2023-03-31T03:39:03.643Z"
   },
   {
    "duration": 57,
    "start_time": "2023-03-31T03:39:03.892Z"
   },
   {
    "duration": 14,
    "start_time": "2023-03-31T03:39:03.951Z"
   },
   {
    "duration": 178,
    "start_time": "2023-03-31T03:39:03.966Z"
   },
   {
    "duration": 10,
    "start_time": "2023-03-31T03:39:04.146Z"
   },
   {
    "duration": 11,
    "start_time": "2023-03-31T03:39:04.158Z"
   },
   {
    "duration": 10,
    "start_time": "2023-03-31T03:39:04.171Z"
   }
  ],
  "kernelspec": {
   "display_name": "Python 3 (ipykernel)",
   "language": "python",
   "name": "python3"
  },
  "language_info": {
   "codemirror_mode": {
    "name": "ipython",
    "version": 3
   },
   "file_extension": ".py",
   "mimetype": "text/x-python",
   "name": "python",
   "nbconvert_exporter": "python",
   "pygments_lexer": "ipython3",
   "version": "3.10.9"
  },
  "toc": {
   "base_numbering": 1,
   "nav_menu": {},
   "number_sections": true,
   "sideBar": true,
   "skip_h1_title": true,
   "title_cell": "Table of Contents",
   "title_sidebar": "Contents",
   "toc_cell": false,
   "toc_position": {
    "height": "calc(100% - 180px)",
    "left": "10px",
    "top": "150px",
    "width": "320.4595642089844px"
   },
   "toc_section_display": true,
   "toc_window_display": true
  }
 },
 "nbformat": 4,
 "nbformat_minor": 2
}
