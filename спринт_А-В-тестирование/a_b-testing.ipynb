{
 "cells": [
  {
   "cell_type": "markdown",
   "metadata": {},
   "source": [
    "# Анализ результатов А/В-тестирования"
   ]
  },
  {
   "cell_type": "markdown",
   "metadata": {},
   "source": [
    "_**Крупный интернет-магазин. Вместе с отделом маркетинга мы подготовили список гипотез для увеличения выручки. Приоритизируем гипотезы, запустим A/B-тест и проанализируем результаты.**_\n",
    "\n",
    "_**Даны 9 гипотез по увеличению выручки интернет-магазина с указанными параметрами Reach, Impact, Confidence, Effort.\n",
    "   Мы получили результаты A/B-теста, которые описаны в файлах /datasets/orders.csv и /datasets/visitors.csv.**_"
   ]
  },
  {
   "cell_type": "markdown",
   "metadata": {},
   "source": [
    "       Краткий план действий:\n",
    "1) Постройте график кумулятивной выручки по группам. Сделайте выводы и предположения.\n",
    "    \n",
    "2) Постройте график кумулятивного среднего чека по группам. Сделайте выводы и предположения.\n",
    "    \n",
    "3) Постройте график относительного изменения кумулятивного среднего чека группы B к группе A. Сделайте выводы и предположения.\n",
    "    \n",
    "4) Постройте график кумулятивного среднего количества заказов на посетителя по группам. Сделайте выводы и предположения.\n",
    "    \n",
    "5) Постройте график относительного изменения кумулятивного среднего количества заказов на посетителя группы B к группе A. Сделайте выводы и предположения.\n",
    "    \n",
    "6) Постройте точечный график количества заказов по пользователям. Сделайте выводы и предположения.\n",
    "    \n",
    "7) Посчитайте 95-й и 99-й перцентили количества заказов на пользователя. Выберите границу для определения аномальных пользователей.\n",
    "    \n",
    "8) Постройте точечный график стоимостей заказов. Сделайте выводы и предположения.\n",
    "    \n",
    "9) Посчитайте 95-й и 99-й перцентили стоимости заказов. Выберите границу для определения аномальных заказов.\n",
    "    \n",
    "10) Посчитайте статистическую значимость различий в среднем количестве заказов на посетителя между группами по «сырым» данным. Сделайте выводы и предположения.\n",
    "    \n",
    "11) Посчитайте статистическую значимость различий в среднем чеке заказа между группами по «сырым» данным. Сделайте выводы и предположения.\n",
    "    \n",
    "12) Посчитайте статистическую значимость различий в среднем количестве заказов на посетителя между группами по «очищенным» данным. Сделайте выводы и предположения.\n",
    "    \n",
    "13) Посчитайте статистическую значимость различий в среднем чеке заказа между группами по «очищенным» данным. Сделайте выводы и предположения.\n",
    "    \n",
    "14) Примите решение по результатам теста и объясните его. Варианты решений: 1. Остановить тест, зафиксировать победу одной из групп. 2. Остановить тест, зафиксировать отсутствие различий между группами. 3. Продолжить тест."
   ]
  },
  {
   "cell_type": "markdown",
   "metadata": {},
   "source": [
    "## 1 часть: приоритизация гипотез."
   ]
  },
  {
   "cell_type": "code",
   "execution_count": 1,
   "metadata": {},
   "outputs": [],
   "source": [
    "import pandas as pd\n",
    "import numpy as np\n",
    "import seaborn as sns\n",
    "import scipy.stats as stats\n",
    "from matplotlib import pyplot as plt\n",
    "plt.rcParams['figure.figsize'] = (13, 6)\n",
    "import datetime as dt\n",
    "import os\n",
    "from pathlib import Path\n",
    "pd.set_option('display.max_colwidth', 400)"
   ]
  },
  {
   "cell_type": "code",
   "execution_count": 2,
   "metadata": {},
   "outputs": [],
   "source": [
    "ROOT_DIR = Path(os.path.abspath(\"__file__\")).parent.parent"
   ]
  },
  {
   "cell_type": "code",
   "execution_count": 3,
   "metadata": {},
   "outputs": [],
   "source": [
    "hypothesis = pd.read_csv(ROOT_DIR / 'datasets/hypothesis.csv')\n",
    "orders = pd.read_csv(ROOT_DIR / 'datasets/orders.csv')\n",
    "visitors = pd.read_csv(ROOT_DIR / 'datasets/visitors.csv')"
   ]
  },
  {
   "cell_type": "code",
   "execution_count": 4,
   "metadata": {},
   "outputs": [
    {
     "data": {
      "text/html": [
       "<div>\n",
       "<style scoped>\n",
       "    .dataframe tbody tr th:only-of-type {\n",
       "        vertical-align: middle;\n",
       "    }\n",
       "\n",
       "    .dataframe tbody tr th {\n",
       "        vertical-align: top;\n",
       "    }\n",
       "\n",
       "    .dataframe thead th {\n",
       "        text-align: right;\n",
       "    }\n",
       "</style>\n",
       "<table border=\"1\" class=\"dataframe\">\n",
       "  <thead>\n",
       "    <tr style=\"text-align: right;\">\n",
       "      <th></th>\n",
       "      <th>Hypothesis</th>\n",
       "      <th>Reach</th>\n",
       "      <th>Impact</th>\n",
       "      <th>Confidence</th>\n",
       "      <th>Efforts</th>\n",
       "    </tr>\n",
       "  </thead>\n",
       "  <tbody>\n",
       "    <tr>\n",
       "      <th>0</th>\n",
       "      <td>Добавить два новых канала привлечения трафика, что позволит привлекать на 30% больше пользователей</td>\n",
       "      <td>3</td>\n",
       "      <td>10</td>\n",
       "      <td>8</td>\n",
       "      <td>6</td>\n",
       "    </tr>\n",
       "    <tr>\n",
       "      <th>1</th>\n",
       "      <td>Запустить собственную службу доставки, что сократит срок доставки заказов</td>\n",
       "      <td>2</td>\n",
       "      <td>5</td>\n",
       "      <td>4</td>\n",
       "      <td>10</td>\n",
       "    </tr>\n",
       "    <tr>\n",
       "      <th>2</th>\n",
       "      <td>Добавить блоки рекомендаций товаров на сайт интернет магазина, чтобы повысить конверсию и средний чек заказа</td>\n",
       "      <td>8</td>\n",
       "      <td>3</td>\n",
       "      <td>7</td>\n",
       "      <td>3</td>\n",
       "    </tr>\n",
       "    <tr>\n",
       "      <th>3</th>\n",
       "      <td>Изменить структура категорий, что увеличит конверсию, т.к. пользователи быстрее найдут нужный товар</td>\n",
       "      <td>8</td>\n",
       "      <td>3</td>\n",
       "      <td>3</td>\n",
       "      <td>8</td>\n",
       "    </tr>\n",
       "    <tr>\n",
       "      <th>4</th>\n",
       "      <td>Изменить цвет фона главной страницы, чтобы увеличить вовлеченность пользователей</td>\n",
       "      <td>3</td>\n",
       "      <td>1</td>\n",
       "      <td>1</td>\n",
       "      <td>1</td>\n",
       "    </tr>\n",
       "    <tr>\n",
       "      <th>5</th>\n",
       "      <td>Добавить страницу отзывов клиентов о магазине, что позволит увеличить количество заказов</td>\n",
       "      <td>3</td>\n",
       "      <td>2</td>\n",
       "      <td>2</td>\n",
       "      <td>3</td>\n",
       "    </tr>\n",
       "    <tr>\n",
       "      <th>6</th>\n",
       "      <td>Показать на главной странице баннеры с актуальными акциями и распродажами, чтобы увеличить конверсию</td>\n",
       "      <td>5</td>\n",
       "      <td>3</td>\n",
       "      <td>8</td>\n",
       "      <td>3</td>\n",
       "    </tr>\n",
       "    <tr>\n",
       "      <th>7</th>\n",
       "      <td>Добавить форму подписки на все основные страницы, чтобы собрать базу клиентов для email-рассылок</td>\n",
       "      <td>10</td>\n",
       "      <td>7</td>\n",
       "      <td>8</td>\n",
       "      <td>5</td>\n",
       "    </tr>\n",
       "    <tr>\n",
       "      <th>8</th>\n",
       "      <td>Запустить акцию, дающую скидку на товар в день рождения</td>\n",
       "      <td>1</td>\n",
       "      <td>9</td>\n",
       "      <td>9</td>\n",
       "      <td>5</td>\n",
       "    </tr>\n",
       "  </tbody>\n",
       "</table>\n",
       "</div>"
      ],
      "text/plain": [
       "                                                                                                     Hypothesis  \\\n",
       "0            Добавить два новых канала привлечения трафика, что позволит привлекать на 30% больше пользователей   \n",
       "1                                     Запустить собственную службу доставки, что сократит срок доставки заказов   \n",
       "2  Добавить блоки рекомендаций товаров на сайт интернет магазина, чтобы повысить конверсию и средний чек заказа   \n",
       "3           Изменить структура категорий, что увеличит конверсию, т.к. пользователи быстрее найдут нужный товар   \n",
       "4                              Изменить цвет фона главной страницы, чтобы увеличить вовлеченность пользователей   \n",
       "5                      Добавить страницу отзывов клиентов о магазине, что позволит увеличить количество заказов   \n",
       "6          Показать на главной странице баннеры с актуальными акциями и распродажами, чтобы увеличить конверсию   \n",
       "7              Добавить форму подписки на все основные страницы, чтобы собрать базу клиентов для email-рассылок   \n",
       "8                                                       Запустить акцию, дающую скидку на товар в день рождения   \n",
       "\n",
       "   Reach  Impact  Confidence  Efforts  \n",
       "0      3      10           8        6  \n",
       "1      2       5           4       10  \n",
       "2      8       3           7        3  \n",
       "3      8       3           3        8  \n",
       "4      3       1           1        1  \n",
       "5      3       2           2        3  \n",
       "6      5       3           8        3  \n",
       "7     10       7           8        5  \n",
       "8      1       9           9        5  "
      ]
     },
     "execution_count": 4,
     "metadata": {},
     "output_type": "execute_result"
    }
   ],
   "source": [
    "hypothesis"
   ]
  },
  {
   "cell_type": "markdown",
   "metadata": {},
   "source": [
    "**В файле _/datasets/hypothesis.csv_ 9 гипотез по увеличению выручки интернет-магазина с указанными параметрами Reach, Impact, Confidence, Effort**"
   ]
  },
  {
   "cell_type": "markdown",
   "metadata": {},
   "source": [
    "### Предобработка данных"
   ]
  },
  {
   "cell_type": "markdown",
   "metadata": {},
   "source": [
    "#### _hypothesis_"
   ]
  },
  {
   "cell_type": "code",
   "execution_count": 5,
   "metadata": {},
   "outputs": [
    {
     "data": {
      "text/html": [
       "<div>\n",
       "<style scoped>\n",
       "    .dataframe tbody tr th:only-of-type {\n",
       "        vertical-align: middle;\n",
       "    }\n",
       "\n",
       "    .dataframe tbody tr th {\n",
       "        vertical-align: top;\n",
       "    }\n",
       "\n",
       "    .dataframe thead th {\n",
       "        text-align: right;\n",
       "    }\n",
       "</style>\n",
       "<table border=\"1\" class=\"dataframe\">\n",
       "  <thead>\n",
       "    <tr style=\"text-align: right;\">\n",
       "      <th></th>\n",
       "      <th>Hypothesis</th>\n",
       "      <th>Reach</th>\n",
       "      <th>Impact</th>\n",
       "      <th>Confidence</th>\n",
       "      <th>Efforts</th>\n",
       "    </tr>\n",
       "  </thead>\n",
       "  <tbody>\n",
       "    <tr>\n",
       "      <th>0</th>\n",
       "      <td>Добавить два новых канала привлечения трафика, что позволит привлекать на 30% больше пользователей</td>\n",
       "      <td>3</td>\n",
       "      <td>10</td>\n",
       "      <td>8</td>\n",
       "      <td>6</td>\n",
       "    </tr>\n",
       "    <tr>\n",
       "      <th>1</th>\n",
       "      <td>Запустить собственную службу доставки, что сократит срок доставки заказов</td>\n",
       "      <td>2</td>\n",
       "      <td>5</td>\n",
       "      <td>4</td>\n",
       "      <td>10</td>\n",
       "    </tr>\n",
       "    <tr>\n",
       "      <th>2</th>\n",
       "      <td>Добавить блоки рекомендаций товаров на сайт интернет магазина, чтобы повысить конверсию и средний чек заказа</td>\n",
       "      <td>8</td>\n",
       "      <td>3</td>\n",
       "      <td>7</td>\n",
       "      <td>3</td>\n",
       "    </tr>\n",
       "    <tr>\n",
       "      <th>3</th>\n",
       "      <td>Изменить структура категорий, что увеличит конверсию, т.к. пользователи быстрее найдут нужный товар</td>\n",
       "      <td>8</td>\n",
       "      <td>3</td>\n",
       "      <td>3</td>\n",
       "      <td>8</td>\n",
       "    </tr>\n",
       "    <tr>\n",
       "      <th>4</th>\n",
       "      <td>Изменить цвет фона главной страницы, чтобы увеличить вовлеченность пользователей</td>\n",
       "      <td>3</td>\n",
       "      <td>1</td>\n",
       "      <td>1</td>\n",
       "      <td>1</td>\n",
       "    </tr>\n",
       "    <tr>\n",
       "      <th>5</th>\n",
       "      <td>Добавить страницу отзывов клиентов о магазине, что позволит увеличить количество заказов</td>\n",
       "      <td>3</td>\n",
       "      <td>2</td>\n",
       "      <td>2</td>\n",
       "      <td>3</td>\n",
       "    </tr>\n",
       "    <tr>\n",
       "      <th>6</th>\n",
       "      <td>Показать на главной странице баннеры с актуальными акциями и распродажами, чтобы увеличить конверсию</td>\n",
       "      <td>5</td>\n",
       "      <td>3</td>\n",
       "      <td>8</td>\n",
       "      <td>3</td>\n",
       "    </tr>\n",
       "    <tr>\n",
       "      <th>7</th>\n",
       "      <td>Добавить форму подписки на все основные страницы, чтобы собрать базу клиентов для email-рассылок</td>\n",
       "      <td>10</td>\n",
       "      <td>7</td>\n",
       "      <td>8</td>\n",
       "      <td>5</td>\n",
       "    </tr>\n",
       "    <tr>\n",
       "      <th>8</th>\n",
       "      <td>Запустить акцию, дающую скидку на товар в день рождения</td>\n",
       "      <td>1</td>\n",
       "      <td>9</td>\n",
       "      <td>9</td>\n",
       "      <td>5</td>\n",
       "    </tr>\n",
       "  </tbody>\n",
       "</table>\n",
       "</div>"
      ],
      "text/plain": [
       "                                                                                                     Hypothesis  \\\n",
       "0            Добавить два новых канала привлечения трафика, что позволит привлекать на 30% больше пользователей   \n",
       "1                                     Запустить собственную службу доставки, что сократит срок доставки заказов   \n",
       "2  Добавить блоки рекомендаций товаров на сайт интернет магазина, чтобы повысить конверсию и средний чек заказа   \n",
       "3           Изменить структура категорий, что увеличит конверсию, т.к. пользователи быстрее найдут нужный товар   \n",
       "4                              Изменить цвет фона главной страницы, чтобы увеличить вовлеченность пользователей   \n",
       "5                      Добавить страницу отзывов клиентов о магазине, что позволит увеличить количество заказов   \n",
       "6          Показать на главной странице баннеры с актуальными акциями и распродажами, чтобы увеличить конверсию   \n",
       "7              Добавить форму подписки на все основные страницы, чтобы собрать базу клиентов для email-рассылок   \n",
       "8                                                       Запустить акцию, дающую скидку на товар в день рождения   \n",
       "\n",
       "   Reach  Impact  Confidence  Efforts  \n",
       "0      3      10           8        6  \n",
       "1      2       5           4       10  \n",
       "2      8       3           7        3  \n",
       "3      8       3           3        8  \n",
       "4      3       1           1        1  \n",
       "5      3       2           2        3  \n",
       "6      5       3           8        3  \n",
       "7     10       7           8        5  \n",
       "8      1       9           9        5  "
      ]
     },
     "execution_count": 5,
     "metadata": {},
     "output_type": "execute_result"
    }
   ],
   "source": [
    "hypothesis.head(10)"
   ]
  },
  {
   "cell_type": "markdown",
   "metadata": {},
   "source": [
    "Проверка типов:"
   ]
  },
  {
   "cell_type": "code",
   "execution_count": 6,
   "metadata": {},
   "outputs": [
    {
     "name": "stdout",
     "output_type": "stream",
     "text": [
      "<class 'pandas.core.frame.DataFrame'>\n",
      "RangeIndex: 9 entries, 0 to 8\n",
      "Data columns (total 5 columns):\n",
      " #   Column      Non-Null Count  Dtype \n",
      "---  ------      --------------  ----- \n",
      " 0   Hypothesis  9 non-null      object\n",
      " 1   Reach       9 non-null      int64 \n",
      " 2   Impact      9 non-null      int64 \n",
      " 3   Confidence  9 non-null      int64 \n",
      " 4   Efforts     9 non-null      int64 \n",
      "dtypes: int64(4), object(1)\n",
      "memory usage: 488.0+ bytes\n"
     ]
    }
   ],
   "source": [
    "hypothesis.info()"
   ]
  },
  {
   "cell_type": "markdown",
   "metadata": {},
   "source": [
    "Проверка на дубликаты:"
   ]
  },
  {
   "cell_type": "code",
   "execution_count": 7,
   "metadata": {},
   "outputs": [
    {
     "data": {
      "text/plain": [
       "0"
      ]
     },
     "execution_count": 7,
     "metadata": {},
     "output_type": "execute_result"
    }
   ],
   "source": [
    "hypothesis.duplicated().sum()"
   ]
  },
  {
   "cell_type": "markdown",
   "metadata": {},
   "source": [
    "#### _orders_"
   ]
  },
  {
   "cell_type": "code",
   "execution_count": 8,
   "metadata": {},
   "outputs": [
    {
     "data": {
      "text/html": [
       "<div>\n",
       "<style scoped>\n",
       "    .dataframe tbody tr th:only-of-type {\n",
       "        vertical-align: middle;\n",
       "    }\n",
       "\n",
       "    .dataframe tbody tr th {\n",
       "        vertical-align: top;\n",
       "    }\n",
       "\n",
       "    .dataframe thead th {\n",
       "        text-align: right;\n",
       "    }\n",
       "</style>\n",
       "<table border=\"1\" class=\"dataframe\">\n",
       "  <thead>\n",
       "    <tr style=\"text-align: right;\">\n",
       "      <th></th>\n",
       "      <th>transactionId</th>\n",
       "      <th>visitorId</th>\n",
       "      <th>date</th>\n",
       "      <th>revenue</th>\n",
       "      <th>group</th>\n",
       "    </tr>\n",
       "  </thead>\n",
       "  <tbody>\n",
       "    <tr>\n",
       "      <th>0</th>\n",
       "      <td>3667963787</td>\n",
       "      <td>3312258926</td>\n",
       "      <td>2019-08-15</td>\n",
       "      <td>1650</td>\n",
       "      <td>B</td>\n",
       "    </tr>\n",
       "    <tr>\n",
       "      <th>1</th>\n",
       "      <td>2804400009</td>\n",
       "      <td>3642806036</td>\n",
       "      <td>2019-08-15</td>\n",
       "      <td>730</td>\n",
       "      <td>B</td>\n",
       "    </tr>\n",
       "    <tr>\n",
       "      <th>2</th>\n",
       "      <td>2961555356</td>\n",
       "      <td>4069496402</td>\n",
       "      <td>2019-08-15</td>\n",
       "      <td>400</td>\n",
       "      <td>A</td>\n",
       "    </tr>\n",
       "    <tr>\n",
       "      <th>3</th>\n",
       "      <td>3797467345</td>\n",
       "      <td>1196621759</td>\n",
       "      <td>2019-08-15</td>\n",
       "      <td>9759</td>\n",
       "      <td>B</td>\n",
       "    </tr>\n",
       "    <tr>\n",
       "      <th>4</th>\n",
       "      <td>2282983706</td>\n",
       "      <td>2322279887</td>\n",
       "      <td>2019-08-15</td>\n",
       "      <td>2308</td>\n",
       "      <td>B</td>\n",
       "    </tr>\n",
       "    <tr>\n",
       "      <th>5</th>\n",
       "      <td>182168103</td>\n",
       "      <td>935554773</td>\n",
       "      <td>2019-08-15</td>\n",
       "      <td>2210</td>\n",
       "      <td>B</td>\n",
       "    </tr>\n",
       "    <tr>\n",
       "      <th>6</th>\n",
       "      <td>398296753</td>\n",
       "      <td>2900797465</td>\n",
       "      <td>2019-08-15</td>\n",
       "      <td>1860</td>\n",
       "      <td>B</td>\n",
       "    </tr>\n",
       "    <tr>\n",
       "      <th>7</th>\n",
       "      <td>2626614568</td>\n",
       "      <td>78758296</td>\n",
       "      <td>2019-08-15</td>\n",
       "      <td>1044</td>\n",
       "      <td>A</td>\n",
       "    </tr>\n",
       "    <tr>\n",
       "      <th>8</th>\n",
       "      <td>1576988021</td>\n",
       "      <td>295230930</td>\n",
       "      <td>2019-08-15</td>\n",
       "      <td>13710</td>\n",
       "      <td>A</td>\n",
       "    </tr>\n",
       "    <tr>\n",
       "      <th>9</th>\n",
       "      <td>1506739906</td>\n",
       "      <td>1882260405</td>\n",
       "      <td>2019-08-15</td>\n",
       "      <td>1855</td>\n",
       "      <td>B</td>\n",
       "    </tr>\n",
       "  </tbody>\n",
       "</table>\n",
       "</div>"
      ],
      "text/plain": [
       "   transactionId   visitorId        date  revenue group\n",
       "0     3667963787  3312258926  2019-08-15     1650     B\n",
       "1     2804400009  3642806036  2019-08-15      730     B\n",
       "2     2961555356  4069496402  2019-08-15      400     A\n",
       "3     3797467345  1196621759  2019-08-15     9759     B\n",
       "4     2282983706  2322279887  2019-08-15     2308     B\n",
       "5      182168103   935554773  2019-08-15     2210     B\n",
       "6      398296753  2900797465  2019-08-15     1860     B\n",
       "7     2626614568    78758296  2019-08-15     1044     A\n",
       "8     1576988021   295230930  2019-08-15    13710     A\n",
       "9     1506739906  1882260405  2019-08-15     1855     B"
      ]
     },
     "execution_count": 8,
     "metadata": {},
     "output_type": "execute_result"
    }
   ],
   "source": [
    "orders.head(10)"
   ]
  },
  {
   "cell_type": "markdown",
   "metadata": {},
   "source": [
    "Проверка типов:"
   ]
  },
  {
   "cell_type": "code",
   "execution_count": 9,
   "metadata": {},
   "outputs": [
    {
     "name": "stdout",
     "output_type": "stream",
     "text": [
      "<class 'pandas.core.frame.DataFrame'>\n",
      "RangeIndex: 1197 entries, 0 to 1196\n",
      "Data columns (total 5 columns):\n",
      " #   Column         Non-Null Count  Dtype \n",
      "---  ------         --------------  ----- \n",
      " 0   transactionId  1197 non-null   int64 \n",
      " 1   visitorId      1197 non-null   int64 \n",
      " 2   date           1197 non-null   object\n",
      " 3   revenue        1197 non-null   int64 \n",
      " 4   group          1197 non-null   object\n",
      "dtypes: int64(3), object(2)\n",
      "memory usage: 46.9+ KB\n"
     ]
    }
   ],
   "source": [
    "orders.info()"
   ]
  },
  {
   "cell_type": "markdown",
   "metadata": {},
   "source": [
    "**В поле _date_ сменим тип с object на datetime:**"
   ]
  },
  {
   "cell_type": "code",
   "execution_count": 10,
   "metadata": {},
   "outputs": [],
   "source": [
    "orders['date'] = orders['date'].map(lambda x: dt.datetime.strptime(x, '%Y-%m-%d'))"
   ]
  },
  {
   "cell_type": "markdown",
   "metadata": {},
   "source": [
    "**Проверка на дубликаты:**"
   ]
  },
  {
   "cell_type": "code",
   "execution_count": 11,
   "metadata": {},
   "outputs": [
    {
     "data": {
      "text/plain": [
       "0"
      ]
     },
     "execution_count": 11,
     "metadata": {},
     "output_type": "execute_result"
    }
   ],
   "source": [
    "orders.duplicated().sum()"
   ]
  },
  {
   "cell_type": "markdown",
   "metadata": {},
   "source": [
    "#### _visitors_"
   ]
  },
  {
   "cell_type": "code",
   "execution_count": 12,
   "metadata": {},
   "outputs": [
    {
     "data": {
      "text/html": [
       "<div>\n",
       "<style scoped>\n",
       "    .dataframe tbody tr th:only-of-type {\n",
       "        vertical-align: middle;\n",
       "    }\n",
       "\n",
       "    .dataframe tbody tr th {\n",
       "        vertical-align: top;\n",
       "    }\n",
       "\n",
       "    .dataframe thead th {\n",
       "        text-align: right;\n",
       "    }\n",
       "</style>\n",
       "<table border=\"1\" class=\"dataframe\">\n",
       "  <thead>\n",
       "    <tr style=\"text-align: right;\">\n",
       "      <th></th>\n",
       "      <th>date</th>\n",
       "      <th>group</th>\n",
       "      <th>visitors</th>\n",
       "    </tr>\n",
       "  </thead>\n",
       "  <tbody>\n",
       "    <tr>\n",
       "      <th>0</th>\n",
       "      <td>2019-08-01</td>\n",
       "      <td>A</td>\n",
       "      <td>719</td>\n",
       "    </tr>\n",
       "    <tr>\n",
       "      <th>1</th>\n",
       "      <td>2019-08-02</td>\n",
       "      <td>A</td>\n",
       "      <td>619</td>\n",
       "    </tr>\n",
       "    <tr>\n",
       "      <th>2</th>\n",
       "      <td>2019-08-03</td>\n",
       "      <td>A</td>\n",
       "      <td>507</td>\n",
       "    </tr>\n",
       "    <tr>\n",
       "      <th>3</th>\n",
       "      <td>2019-08-04</td>\n",
       "      <td>A</td>\n",
       "      <td>717</td>\n",
       "    </tr>\n",
       "    <tr>\n",
       "      <th>4</th>\n",
       "      <td>2019-08-05</td>\n",
       "      <td>A</td>\n",
       "      <td>756</td>\n",
       "    </tr>\n",
       "    <tr>\n",
       "      <th>5</th>\n",
       "      <td>2019-08-06</td>\n",
       "      <td>A</td>\n",
       "      <td>667</td>\n",
       "    </tr>\n",
       "    <tr>\n",
       "      <th>6</th>\n",
       "      <td>2019-08-07</td>\n",
       "      <td>A</td>\n",
       "      <td>644</td>\n",
       "    </tr>\n",
       "    <tr>\n",
       "      <th>7</th>\n",
       "      <td>2019-08-08</td>\n",
       "      <td>A</td>\n",
       "      <td>610</td>\n",
       "    </tr>\n",
       "    <tr>\n",
       "      <th>8</th>\n",
       "      <td>2019-08-09</td>\n",
       "      <td>A</td>\n",
       "      <td>617</td>\n",
       "    </tr>\n",
       "    <tr>\n",
       "      <th>9</th>\n",
       "      <td>2019-08-10</td>\n",
       "      <td>A</td>\n",
       "      <td>406</td>\n",
       "    </tr>\n",
       "  </tbody>\n",
       "</table>\n",
       "</div>"
      ],
      "text/plain": [
       "         date group  visitors\n",
       "0  2019-08-01     A       719\n",
       "1  2019-08-02     A       619\n",
       "2  2019-08-03     A       507\n",
       "3  2019-08-04     A       717\n",
       "4  2019-08-05     A       756\n",
       "5  2019-08-06     A       667\n",
       "6  2019-08-07     A       644\n",
       "7  2019-08-08     A       610\n",
       "8  2019-08-09     A       617\n",
       "9  2019-08-10     A       406"
      ]
     },
     "execution_count": 12,
     "metadata": {},
     "output_type": "execute_result"
    }
   ],
   "source": [
    "visitors.head(10)"
   ]
  },
  {
   "cell_type": "markdown",
   "metadata": {},
   "source": [
    "Проверка типов:"
   ]
  },
  {
   "cell_type": "code",
   "execution_count": 13,
   "metadata": {},
   "outputs": [
    {
     "name": "stdout",
     "output_type": "stream",
     "text": [
      "<class 'pandas.core.frame.DataFrame'>\n",
      "RangeIndex: 62 entries, 0 to 61\n",
      "Data columns (total 3 columns):\n",
      " #   Column    Non-Null Count  Dtype \n",
      "---  ------    --------------  ----- \n",
      " 0   date      62 non-null     object\n",
      " 1   group     62 non-null     object\n",
      " 2   visitors  62 non-null     int64 \n",
      "dtypes: int64(1), object(2)\n",
      "memory usage: 1.6+ KB\n"
     ]
    }
   ],
   "source": [
    "visitors.info()"
   ]
  },
  {
   "cell_type": "markdown",
   "metadata": {},
   "source": [
    "**В поле _date_ сменим тип с object на datetime:**"
   ]
  },
  {
   "cell_type": "code",
   "execution_count": 14,
   "metadata": {},
   "outputs": [],
   "source": [
    "visitors['date'] = visitors['date'].map(lambda x: dt.datetime.strptime(x, '%Y-%m-%d'))"
   ]
  },
  {
   "cell_type": "markdown",
   "metadata": {},
   "source": [
    "**Проверка на дубликаты:**"
   ]
  },
  {
   "cell_type": "code",
   "execution_count": 15,
   "metadata": {},
   "outputs": [
    {
     "data": {
      "text/plain": [
       "0"
      ]
     },
     "execution_count": 15,
     "metadata": {},
     "output_type": "execute_result"
    }
   ],
   "source": [
    "visitors.duplicated().sum()"
   ]
  },
  {
   "cell_type": "markdown",
   "metadata": {},
   "source": [
    "**Проверка на принадлежность пользователя только к одной из групп:**"
   ]
  },
  {
   "cell_type": "code",
   "execution_count": 16,
   "metadata": {},
   "outputs": [
    {
     "data": {
      "text/html": [
       "<div>\n",
       "<style scoped>\n",
       "    .dataframe tbody tr th:only-of-type {\n",
       "        vertical-align: middle;\n",
       "    }\n",
       "\n",
       "    .dataframe tbody tr th {\n",
       "        vertical-align: top;\n",
       "    }\n",
       "\n",
       "    .dataframe thead th {\n",
       "        text-align: right;\n",
       "    }\n",
       "</style>\n",
       "<table border=\"1\" class=\"dataframe\">\n",
       "  <thead>\n",
       "    <tr style=\"text-align: right;\">\n",
       "      <th></th>\n",
       "      <th>transactionId_x</th>\n",
       "      <th>visitorId</th>\n",
       "      <th>date_x</th>\n",
       "      <th>revenue_x</th>\n",
       "      <th>group_x</th>\n",
       "      <th>transactionId_y</th>\n",
       "      <th>date_y</th>\n",
       "      <th>revenue_y</th>\n",
       "      <th>group_y</th>\n",
       "    </tr>\n",
       "  </thead>\n",
       "  <tbody>\n",
       "    <tr>\n",
       "      <th>0</th>\n",
       "      <td>2961555356</td>\n",
       "      <td>4069496402</td>\n",
       "      <td>2019-08-15</td>\n",
       "      <td>400</td>\n",
       "      <td>A</td>\n",
       "      <td>1473132782</td>\n",
       "      <td>2019-08-12</td>\n",
       "      <td>640</td>\n",
       "      <td>B</td>\n",
       "    </tr>\n",
       "    <tr>\n",
       "      <th>1</th>\n",
       "      <td>2223239646</td>\n",
       "      <td>199603092</td>\n",
       "      <td>2019-08-15</td>\n",
       "      <td>3488</td>\n",
       "      <td>A</td>\n",
       "      <td>437656952</td>\n",
       "      <td>2019-08-02</td>\n",
       "      <td>3488</td>\n",
       "      <td>B</td>\n",
       "    </tr>\n",
       "    <tr>\n",
       "      <th>2</th>\n",
       "      <td>62794304</td>\n",
       "      <td>199603092</td>\n",
       "      <td>2019-08-22</td>\n",
       "      <td>6976</td>\n",
       "      <td>A</td>\n",
       "      <td>437656952</td>\n",
       "      <td>2019-08-02</td>\n",
       "      <td>3488</td>\n",
       "      <td>B</td>\n",
       "    </tr>\n",
       "    <tr>\n",
       "      <th>3</th>\n",
       "      <td>2971973105</td>\n",
       "      <td>199603092</td>\n",
       "      <td>2019-08-27</td>\n",
       "      <td>2790</td>\n",
       "      <td>A</td>\n",
       "      <td>437656952</td>\n",
       "      <td>2019-08-02</td>\n",
       "      <td>3488</td>\n",
       "      <td>B</td>\n",
       "    </tr>\n",
       "    <tr>\n",
       "      <th>4</th>\n",
       "      <td>1941707234</td>\n",
       "      <td>199603092</td>\n",
       "      <td>2019-08-12</td>\n",
       "      <td>6438</td>\n",
       "      <td>A</td>\n",
       "      <td>437656952</td>\n",
       "      <td>2019-08-02</td>\n",
       "      <td>3488</td>\n",
       "      <td>B</td>\n",
       "    </tr>\n",
       "    <tr>\n",
       "      <th>...</th>\n",
       "      <td>...</td>\n",
       "      <td>...</td>\n",
       "      <td>...</td>\n",
       "      <td>...</td>\n",
       "      <td>...</td>\n",
       "      <td>...</td>\n",
       "      <td>...</td>\n",
       "      <td>...</td>\n",
       "      <td>...</td>\n",
       "    </tr>\n",
       "    <tr>\n",
       "      <th>178</th>\n",
       "      <td>3757656646</td>\n",
       "      <td>4186807279</td>\n",
       "      <td>2019-08-14</td>\n",
       "      <td>4990</td>\n",
       "      <td>A</td>\n",
       "      <td>1759418862</td>\n",
       "      <td>2019-08-21</td>\n",
       "      <td>18560</td>\n",
       "      <td>B</td>\n",
       "    </tr>\n",
       "    <tr>\n",
       "      <th>179</th>\n",
       "      <td>3757656646</td>\n",
       "      <td>4186807279</td>\n",
       "      <td>2019-08-14</td>\n",
       "      <td>4990</td>\n",
       "      <td>A</td>\n",
       "      <td>380064637</td>\n",
       "      <td>2019-08-27</td>\n",
       "      <td>13740</td>\n",
       "      <td>B</td>\n",
       "    </tr>\n",
       "    <tr>\n",
       "      <th>180</th>\n",
       "      <td>3612788481</td>\n",
       "      <td>2712142231</td>\n",
       "      <td>2019-08-14</td>\n",
       "      <td>2490</td>\n",
       "      <td>A</td>\n",
       "      <td>1251767592</td>\n",
       "      <td>2019-08-16</td>\n",
       "      <td>790</td>\n",
       "      <td>B</td>\n",
       "    </tr>\n",
       "    <tr>\n",
       "      <th>181</th>\n",
       "      <td>4052155355</td>\n",
       "      <td>2949041841</td>\n",
       "      <td>2019-08-14</td>\n",
       "      <td>190</td>\n",
       "      <td>A</td>\n",
       "      <td>1329499668</td>\n",
       "      <td>2019-08-14</td>\n",
       "      <td>10380</td>\n",
       "      <td>B</td>\n",
       "    </tr>\n",
       "    <tr>\n",
       "      <th>182</th>\n",
       "      <td>1458356232</td>\n",
       "      <td>963407295</td>\n",
       "      <td>2019-08-14</td>\n",
       "      <td>4940</td>\n",
       "      <td>A</td>\n",
       "      <td>2904772834</td>\n",
       "      <td>2019-08-15</td>\n",
       "      <td>300</td>\n",
       "      <td>B</td>\n",
       "    </tr>\n",
       "  </tbody>\n",
       "</table>\n",
       "<p>183 rows × 9 columns</p>\n",
       "</div>"
      ],
      "text/plain": [
       "     transactionId_x   visitorId     date_x  revenue_x group_x  \\\n",
       "0         2961555356  4069496402 2019-08-15        400       A   \n",
       "1         2223239646   199603092 2019-08-15       3488       A   \n",
       "2           62794304   199603092 2019-08-22       6976       A   \n",
       "3         2971973105   199603092 2019-08-27       2790       A   \n",
       "4         1941707234   199603092 2019-08-12       6438       A   \n",
       "..               ...         ...        ...        ...     ...   \n",
       "178       3757656646  4186807279 2019-08-14       4990       A   \n",
       "179       3757656646  4186807279 2019-08-14       4990       A   \n",
       "180       3612788481  2712142231 2019-08-14       2490       A   \n",
       "181       4052155355  2949041841 2019-08-14        190       A   \n",
       "182       1458356232   963407295 2019-08-14       4940       A   \n",
       "\n",
       "     transactionId_y     date_y  revenue_y group_y  \n",
       "0         1473132782 2019-08-12        640       B  \n",
       "1          437656952 2019-08-02       3488       B  \n",
       "2          437656952 2019-08-02       3488       B  \n",
       "3          437656952 2019-08-02       3488       B  \n",
       "4          437656952 2019-08-02       3488       B  \n",
       "..               ...        ...        ...     ...  \n",
       "178       1759418862 2019-08-21      18560       B  \n",
       "179        380064637 2019-08-27      13740       B  \n",
       "180       1251767592 2019-08-16        790       B  \n",
       "181       1329499668 2019-08-14      10380       B  \n",
       "182       2904772834 2019-08-15        300       B  \n",
       "\n",
       "[183 rows x 9 columns]"
      ]
     },
     "execution_count": 16,
     "metadata": {},
     "output_type": "execute_result"
    }
   ],
   "source": [
    "visitor_A = orders[orders['group']=='A'] \n",
    "visitor_B = orders[orders['group']=='B']\n",
    "v = visitor_A.merge(visitor_B, left_on='visitorId', right_on='visitorId', how=\"inner\", indicator=False) \n",
    "\n",
    "v"
   ]
  },
  {
   "cell_type": "markdown",
   "metadata": {},
   "source": [
    "**Мы будем исключать 183 пользователя из таблиц для последующего корректного анализа**"
   ]
  },
  {
   "cell_type": "code",
   "execution_count": 17,
   "metadata": {},
   "outputs": [
    {
     "data": {
      "text/html": [
       "<div>\n",
       "<style scoped>\n",
       "    .dataframe tbody tr th:only-of-type {\n",
       "        vertical-align: middle;\n",
       "    }\n",
       "\n",
       "    .dataframe tbody tr th {\n",
       "        vertical-align: top;\n",
       "    }\n",
       "\n",
       "    .dataframe thead th {\n",
       "        text-align: right;\n",
       "    }\n",
       "</style>\n",
       "<table border=\"1\" class=\"dataframe\">\n",
       "  <thead>\n",
       "    <tr style=\"text-align: right;\">\n",
       "      <th></th>\n",
       "      <th>index</th>\n",
       "      <th>transactionId</th>\n",
       "      <th>visitorId</th>\n",
       "      <th>date</th>\n",
       "      <th>revenue</th>\n",
       "      <th>group</th>\n",
       "    </tr>\n",
       "  </thead>\n",
       "  <tbody>\n",
       "    <tr>\n",
       "      <th>0</th>\n",
       "      <td>0</td>\n",
       "      <td>3667963787</td>\n",
       "      <td>3312258926</td>\n",
       "      <td>2019-08-15</td>\n",
       "      <td>1650</td>\n",
       "      <td>B</td>\n",
       "    </tr>\n",
       "    <tr>\n",
       "      <th>1</th>\n",
       "      <td>1</td>\n",
       "      <td>2804400009</td>\n",
       "      <td>3642806036</td>\n",
       "      <td>2019-08-15</td>\n",
       "      <td>730</td>\n",
       "      <td>B</td>\n",
       "    </tr>\n",
       "    <tr>\n",
       "      <th>2</th>\n",
       "      <td>3</td>\n",
       "      <td>3797467345</td>\n",
       "      <td>1196621759</td>\n",
       "      <td>2019-08-15</td>\n",
       "      <td>9759</td>\n",
       "      <td>B</td>\n",
       "    </tr>\n",
       "    <tr>\n",
       "      <th>3</th>\n",
       "      <td>4</td>\n",
       "      <td>2282983706</td>\n",
       "      <td>2322279887</td>\n",
       "      <td>2019-08-15</td>\n",
       "      <td>2308</td>\n",
       "      <td>B</td>\n",
       "    </tr>\n",
       "    <tr>\n",
       "      <th>4</th>\n",
       "      <td>5</td>\n",
       "      <td>182168103</td>\n",
       "      <td>935554773</td>\n",
       "      <td>2019-08-15</td>\n",
       "      <td>2210</td>\n",
       "      <td>B</td>\n",
       "    </tr>\n",
       "    <tr>\n",
       "      <th>...</th>\n",
       "      <td>...</td>\n",
       "      <td>...</td>\n",
       "      <td>...</td>\n",
       "      <td>...</td>\n",
       "      <td>...</td>\n",
       "      <td>...</td>\n",
       "    </tr>\n",
       "    <tr>\n",
       "      <th>1011</th>\n",
       "      <td>1191</td>\n",
       "      <td>3592955527</td>\n",
       "      <td>608641596</td>\n",
       "      <td>2019-08-14</td>\n",
       "      <td>16490</td>\n",
       "      <td>B</td>\n",
       "    </tr>\n",
       "    <tr>\n",
       "      <th>1012</th>\n",
       "      <td>1192</td>\n",
       "      <td>2662137336</td>\n",
       "      <td>3733762160</td>\n",
       "      <td>2019-08-14</td>\n",
       "      <td>6490</td>\n",
       "      <td>B</td>\n",
       "    </tr>\n",
       "    <tr>\n",
       "      <th>1013</th>\n",
       "      <td>1193</td>\n",
       "      <td>2203539145</td>\n",
       "      <td>370388673</td>\n",
       "      <td>2019-08-14</td>\n",
       "      <td>3190</td>\n",
       "      <td>A</td>\n",
       "    </tr>\n",
       "    <tr>\n",
       "      <th>1014</th>\n",
       "      <td>1194</td>\n",
       "      <td>1807773912</td>\n",
       "      <td>573423106</td>\n",
       "      <td>2019-08-14</td>\n",
       "      <td>10550</td>\n",
       "      <td>A</td>\n",
       "    </tr>\n",
       "    <tr>\n",
       "      <th>1015</th>\n",
       "      <td>1196</td>\n",
       "      <td>3936777065</td>\n",
       "      <td>2108080724</td>\n",
       "      <td>2019-08-15</td>\n",
       "      <td>202740</td>\n",
       "      <td>B</td>\n",
       "    </tr>\n",
       "  </tbody>\n",
       "</table>\n",
       "<p>1016 rows × 6 columns</p>\n",
       "</div>"
      ],
      "text/plain": [
       "      index  transactionId   visitorId       date  revenue group\n",
       "0         0     3667963787  3312258926 2019-08-15     1650     B\n",
       "1         1     2804400009  3642806036 2019-08-15      730     B\n",
       "2         3     3797467345  1196621759 2019-08-15     9759     B\n",
       "3         4     2282983706  2322279887 2019-08-15     2308     B\n",
       "4         5      182168103   935554773 2019-08-15     2210     B\n",
       "...     ...            ...         ...        ...      ...   ...\n",
       "1011   1191     3592955527   608641596 2019-08-14    16490     B\n",
       "1012   1192     2662137336  3733762160 2019-08-14     6490     B\n",
       "1013   1193     2203539145   370388673 2019-08-14     3190     A\n",
       "1014   1194     1807773912   573423106 2019-08-14    10550     A\n",
       "1015   1196     3936777065  2108080724 2019-08-15   202740     B\n",
       "\n",
       "[1016 rows x 6 columns]"
      ]
     },
     "execution_count": 17,
     "metadata": {},
     "output_type": "execute_result"
    }
   ],
   "source": [
    "orders = orders[orders['visitorId'].isin(v['visitorId'].to_list()) == False]\n",
    "orders.reset_index(inplace=True)\n",
    "orders"
   ]
  },
  {
   "cell_type": "markdown",
   "metadata": {},
   "source": [
    "_**Данные получены и подготовлены к анализу**_"
   ]
  },
  {
   "cell_type": "markdown",
   "metadata": {},
   "source": [
    "### Приоритизация гипотез"
   ]
  },
  {
   "cell_type": "markdown",
   "metadata": {},
   "source": [
    "\n",
    "      Задачи:\n",
    "\n",
    "    1) Применить фреймворк ICE для приоритизации гипотез и отсортировать их по убыванию приоритета.\n",
    "\n",
    "    2) Применить фреймворк RICE для приоритизации гипотез и отсортировать их по убыванию приоритета.\n",
    "\n",
    "    3) Указать, как изменилась приоритизация гипотез при применении RICE вместо ICE и объяснить, почему так произошло."
   ]
  },
  {
   "cell_type": "code",
   "execution_count": 18,
   "metadata": {},
   "outputs": [],
   "source": [
    "hypothesis['ICE'] = ((hypothesis['Impact'] * hypothesis['Confidence']) / hypothesis['Efforts']).round(1)\n",
    "hypothesis['RICE'] = (hypothesis['Reach']  *hypothesis['Impact'] * hypothesis['Confidence']) / hypothesis['Efforts']"
   ]
  },
  {
   "cell_type": "code",
   "execution_count": 19,
   "metadata": {},
   "outputs": [
    {
     "data": {
      "text/html": [
       "<div>\n",
       "<style scoped>\n",
       "    .dataframe tbody tr th:only-of-type {\n",
       "        vertical-align: middle;\n",
       "    }\n",
       "\n",
       "    .dataframe tbody tr th {\n",
       "        vertical-align: top;\n",
       "    }\n",
       "\n",
       "    .dataframe thead th {\n",
       "        text-align: right;\n",
       "    }\n",
       "</style>\n",
       "<table border=\"1\" class=\"dataframe\">\n",
       "  <thead>\n",
       "    <tr style=\"text-align: right;\">\n",
       "      <th></th>\n",
       "      <th>ICE</th>\n",
       "      <th>Hypothesis</th>\n",
       "    </tr>\n",
       "  </thead>\n",
       "  <tbody>\n",
       "    <tr>\n",
       "      <th>8</th>\n",
       "      <td>16.2</td>\n",
       "      <td>Запустить акцию, дающую скидку на товар в день рождения</td>\n",
       "    </tr>\n",
       "    <tr>\n",
       "      <th>0</th>\n",
       "      <td>13.3</td>\n",
       "      <td>Добавить два новых канала привлечения трафика, что позволит привлекать на 30% больше пользователей</td>\n",
       "    </tr>\n",
       "    <tr>\n",
       "      <th>7</th>\n",
       "      <td>11.2</td>\n",
       "      <td>Добавить форму подписки на все основные страницы, чтобы собрать базу клиентов для email-рассылок</td>\n",
       "    </tr>\n",
       "    <tr>\n",
       "      <th>6</th>\n",
       "      <td>8.0</td>\n",
       "      <td>Показать на главной странице баннеры с актуальными акциями и распродажами, чтобы увеличить конверсию</td>\n",
       "    </tr>\n",
       "    <tr>\n",
       "      <th>2</th>\n",
       "      <td>7.0</td>\n",
       "      <td>Добавить блоки рекомендаций товаров на сайт интернет магазина, чтобы повысить конверсию и средний чек заказа</td>\n",
       "    </tr>\n",
       "    <tr>\n",
       "      <th>1</th>\n",
       "      <td>2.0</td>\n",
       "      <td>Запустить собственную службу доставки, что сократит срок доставки заказов</td>\n",
       "    </tr>\n",
       "    <tr>\n",
       "      <th>5</th>\n",
       "      <td>1.3</td>\n",
       "      <td>Добавить страницу отзывов клиентов о магазине, что позволит увеличить количество заказов</td>\n",
       "    </tr>\n",
       "    <tr>\n",
       "      <th>3</th>\n",
       "      <td>1.1</td>\n",
       "      <td>Изменить структура категорий, что увеличит конверсию, т.к. пользователи быстрее найдут нужный товар</td>\n",
       "    </tr>\n",
       "    <tr>\n",
       "      <th>4</th>\n",
       "      <td>1.0</td>\n",
       "      <td>Изменить цвет фона главной страницы, чтобы увеличить вовлеченность пользователей</td>\n",
       "    </tr>\n",
       "  </tbody>\n",
       "</table>\n",
       "</div>"
      ],
      "text/plain": [
       "    ICE  \\\n",
       "8  16.2   \n",
       "0  13.3   \n",
       "7  11.2   \n",
       "6   8.0   \n",
       "2   7.0   \n",
       "1   2.0   \n",
       "5   1.3   \n",
       "3   1.1   \n",
       "4   1.0   \n",
       "\n",
       "                                                                                                     Hypothesis  \n",
       "8                                                       Запустить акцию, дающую скидку на товар в день рождения  \n",
       "0            Добавить два новых канала привлечения трафика, что позволит привлекать на 30% больше пользователей  \n",
       "7              Добавить форму подписки на все основные страницы, чтобы собрать базу клиентов для email-рассылок  \n",
       "6          Показать на главной странице баннеры с актуальными акциями и распродажами, чтобы увеличить конверсию  \n",
       "2  Добавить блоки рекомендаций товаров на сайт интернет магазина, чтобы повысить конверсию и средний чек заказа  \n",
       "1                                     Запустить собственную службу доставки, что сократит срок доставки заказов  \n",
       "5                      Добавить страницу отзывов клиентов о магазине, что позволит увеличить количество заказов  \n",
       "3           Изменить структура категорий, что увеличит конверсию, т.к. пользователи быстрее найдут нужный товар  \n",
       "4                              Изменить цвет фона главной страницы, чтобы увеличить вовлеченность пользователей  "
      ]
     },
     "execution_count": 19,
     "metadata": {},
     "output_type": "execute_result"
    }
   ],
   "source": [
    "hypothesis[['ICE', 'Hypothesis']].sort_values(by='ICE', ascending=False)"
   ]
  },
  {
   "cell_type": "code",
   "execution_count": 20,
   "metadata": {},
   "outputs": [
    {
     "data": {
      "text/html": [
       "<div>\n",
       "<style scoped>\n",
       "    .dataframe tbody tr th:only-of-type {\n",
       "        vertical-align: middle;\n",
       "    }\n",
       "\n",
       "    .dataframe tbody tr th {\n",
       "        vertical-align: top;\n",
       "    }\n",
       "\n",
       "    .dataframe thead th {\n",
       "        text-align: right;\n",
       "    }\n",
       "</style>\n",
       "<table border=\"1\" class=\"dataframe\">\n",
       "  <thead>\n",
       "    <tr style=\"text-align: right;\">\n",
       "      <th></th>\n",
       "      <th>RICE</th>\n",
       "      <th>Hypothesis</th>\n",
       "      <th>Reach</th>\n",
       "    </tr>\n",
       "  </thead>\n",
       "  <tbody>\n",
       "    <tr>\n",
       "      <th>7</th>\n",
       "      <td>112.0</td>\n",
       "      <td>Добавить форму подписки на все основные страницы, чтобы собрать базу клиентов для email-рассылок</td>\n",
       "      <td>10</td>\n",
       "    </tr>\n",
       "    <tr>\n",
       "      <th>2</th>\n",
       "      <td>56.0</td>\n",
       "      <td>Добавить блоки рекомендаций товаров на сайт интернет магазина, чтобы повысить конверсию и средний чек заказа</td>\n",
       "      <td>8</td>\n",
       "    </tr>\n",
       "    <tr>\n",
       "      <th>0</th>\n",
       "      <td>40.0</td>\n",
       "      <td>Добавить два новых канала привлечения трафика, что позволит привлекать на 30% больше пользователей</td>\n",
       "      <td>3</td>\n",
       "    </tr>\n",
       "    <tr>\n",
       "      <th>6</th>\n",
       "      <td>40.0</td>\n",
       "      <td>Показать на главной странице баннеры с актуальными акциями и распродажами, чтобы увеличить конверсию</td>\n",
       "      <td>5</td>\n",
       "    </tr>\n",
       "    <tr>\n",
       "      <th>8</th>\n",
       "      <td>16.2</td>\n",
       "      <td>Запустить акцию, дающую скидку на товар в день рождения</td>\n",
       "      <td>1</td>\n",
       "    </tr>\n",
       "    <tr>\n",
       "      <th>3</th>\n",
       "      <td>9.0</td>\n",
       "      <td>Изменить структура категорий, что увеличит конверсию, т.к. пользователи быстрее найдут нужный товар</td>\n",
       "      <td>8</td>\n",
       "    </tr>\n",
       "    <tr>\n",
       "      <th>1</th>\n",
       "      <td>4.0</td>\n",
       "      <td>Запустить собственную службу доставки, что сократит срок доставки заказов</td>\n",
       "      <td>2</td>\n",
       "    </tr>\n",
       "    <tr>\n",
       "      <th>5</th>\n",
       "      <td>4.0</td>\n",
       "      <td>Добавить страницу отзывов клиентов о магазине, что позволит увеличить количество заказов</td>\n",
       "      <td>3</td>\n",
       "    </tr>\n",
       "    <tr>\n",
       "      <th>4</th>\n",
       "      <td>3.0</td>\n",
       "      <td>Изменить цвет фона главной страницы, чтобы увеличить вовлеченность пользователей</td>\n",
       "      <td>3</td>\n",
       "    </tr>\n",
       "  </tbody>\n",
       "</table>\n",
       "</div>"
      ],
      "text/plain": [
       "    RICE  \\\n",
       "7  112.0   \n",
       "2   56.0   \n",
       "0   40.0   \n",
       "6   40.0   \n",
       "8   16.2   \n",
       "3    9.0   \n",
       "1    4.0   \n",
       "5    4.0   \n",
       "4    3.0   \n",
       "\n",
       "                                                                                                     Hypothesis  \\\n",
       "7              Добавить форму подписки на все основные страницы, чтобы собрать базу клиентов для email-рассылок   \n",
       "2  Добавить блоки рекомендаций товаров на сайт интернет магазина, чтобы повысить конверсию и средний чек заказа   \n",
       "0            Добавить два новых канала привлечения трафика, что позволит привлекать на 30% больше пользователей   \n",
       "6          Показать на главной странице баннеры с актуальными акциями и распродажами, чтобы увеличить конверсию   \n",
       "8                                                       Запустить акцию, дающую скидку на товар в день рождения   \n",
       "3           Изменить структура категорий, что увеличит конверсию, т.к. пользователи быстрее найдут нужный товар   \n",
       "1                                     Запустить собственную службу доставки, что сократит срок доставки заказов   \n",
       "5                      Добавить страницу отзывов клиентов о магазине, что позволит увеличить количество заказов   \n",
       "4                              Изменить цвет фона главной страницы, чтобы увеличить вовлеченность пользователей   \n",
       "\n",
       "   Reach  \n",
       "7     10  \n",
       "2      8  \n",
       "0      3  \n",
       "6      5  \n",
       "8      1  \n",
       "3      8  \n",
       "1      2  \n",
       "5      3  \n",
       "4      3  "
      ]
     },
     "execution_count": 20,
     "metadata": {},
     "output_type": "execute_result"
    }
   ],
   "source": [
    "hypothesis[['RICE', 'Hypothesis', 'Reach']].sort_values(by='RICE', ascending=False)"
   ]
  },
  {
   "cell_type": "markdown",
   "metadata": {},
   "source": [
    "#### Можем наблюдать изменение в приоритетах по важности гипотез между ICE и RICE, так как во втором случае учтен показатель Reach - \"скольких пользователей затронет изменение, которое вносится\". _Предлагаю к рассмотрению гипотезу под номером 7_"
   ]
  },
  {
   "cell_type": "markdown",
   "metadata": {},
   "source": [
    "## 2 часть: анализ A/B-теста"
   ]
  },
  {
   "cell_type": "markdown",
   "metadata": {},
   "source": [
    "### строим график кумулятивной выручки по группам и делаем выводы/предположения."
   ]
  },
  {
   "cell_type": "markdown",
   "metadata": {},
   "source": [
    "Средняя выручка за день в каждой группе:"
   ]
  },
  {
   "cell_type": "code",
   "execution_count": 21,
   "metadata": {},
   "outputs": [
    {
     "data": {
      "text/plain": [
       "group\n",
       "A     92365.0\n",
       "B    107340.0\n",
       "Name: revenue, dtype: float64"
      ]
     },
     "execution_count": 21,
     "metadata": {},
     "output_type": "execute_result"
    }
   ],
   "source": [
    "orders.groupby(['date','group'])['revenue'].sum().groupby('group').median()"
   ]
  },
  {
   "cell_type": "markdown",
   "metadata": {},
   "source": [
    "Для последующего объединения мы должны сравнить данные в таблицах visitors и orders:"
   ]
  },
  {
   "cell_type": "code",
   "execution_count": 22,
   "metadata": {},
   "outputs": [
    {
     "data": {
      "text/html": [
       "<div>\n",
       "<style scoped>\n",
       "    .dataframe tbody tr th:only-of-type {\n",
       "        vertical-align: middle;\n",
       "    }\n",
       "\n",
       "    .dataframe tbody tr th {\n",
       "        vertical-align: top;\n",
       "    }\n",
       "\n",
       "    .dataframe thead th {\n",
       "        text-align: right;\n",
       "    }\n",
       "</style>\n",
       "<table border=\"1\" class=\"dataframe\">\n",
       "  <thead>\n",
       "    <tr style=\"text-align: right;\">\n",
       "      <th></th>\n",
       "      <th>date</th>\n",
       "      <th>group</th>\n",
       "    </tr>\n",
       "  </thead>\n",
       "  <tbody>\n",
       "    <tr>\n",
       "      <th>0</th>\n",
       "      <td>2019-08-01</td>\n",
       "      <td>A</td>\n",
       "    </tr>\n",
       "    <tr>\n",
       "      <th>1</th>\n",
       "      <td>2019-08-01</td>\n",
       "      <td>B</td>\n",
       "    </tr>\n",
       "    <tr>\n",
       "      <th>2</th>\n",
       "      <td>2019-08-02</td>\n",
       "      <td>A</td>\n",
       "    </tr>\n",
       "    <tr>\n",
       "      <th>3</th>\n",
       "      <td>2019-08-02</td>\n",
       "      <td>B</td>\n",
       "    </tr>\n",
       "    <tr>\n",
       "      <th>4</th>\n",
       "      <td>2019-08-03</td>\n",
       "      <td>A</td>\n",
       "    </tr>\n",
       "    <tr>\n",
       "      <th>...</th>\n",
       "      <td>...</td>\n",
       "      <td>...</td>\n",
       "    </tr>\n",
       "    <tr>\n",
       "      <th>57</th>\n",
       "      <td>2019-08-29</td>\n",
       "      <td>B</td>\n",
       "    </tr>\n",
       "    <tr>\n",
       "      <th>58</th>\n",
       "      <td>2019-08-30</td>\n",
       "      <td>A</td>\n",
       "    </tr>\n",
       "    <tr>\n",
       "      <th>59</th>\n",
       "      <td>2019-08-30</td>\n",
       "      <td>B</td>\n",
       "    </tr>\n",
       "    <tr>\n",
       "      <th>60</th>\n",
       "      <td>2019-08-31</td>\n",
       "      <td>A</td>\n",
       "    </tr>\n",
       "    <tr>\n",
       "      <th>61</th>\n",
       "      <td>2019-08-31</td>\n",
       "      <td>B</td>\n",
       "    </tr>\n",
       "  </tbody>\n",
       "</table>\n",
       "<p>62 rows × 2 columns</p>\n",
       "</div>"
      ],
      "text/plain": [
       "         date group\n",
       "0  2019-08-01     A\n",
       "1  2019-08-01     B\n",
       "2  2019-08-02     A\n",
       "3  2019-08-02     B\n",
       "4  2019-08-03     A\n",
       "..        ...   ...\n",
       "57 2019-08-29     B\n",
       "58 2019-08-30     A\n",
       "59 2019-08-30     B\n",
       "60 2019-08-31     A\n",
       "61 2019-08-31     B\n",
       "\n",
       "[62 rows x 2 columns]"
      ]
     },
     "execution_count": 22,
     "metadata": {},
     "output_type": "execute_result"
    }
   ],
   "source": [
    "orders[['date','group']].drop_duplicates().sort_values(by=['date','group']).reset_index(drop=True)"
   ]
  },
  {
   "cell_type": "code",
   "execution_count": 23,
   "metadata": {},
   "outputs": [
    {
     "data": {
      "text/html": [
       "<div>\n",
       "<style scoped>\n",
       "    .dataframe tbody tr th:only-of-type {\n",
       "        vertical-align: middle;\n",
       "    }\n",
       "\n",
       "    .dataframe tbody tr th {\n",
       "        vertical-align: top;\n",
       "    }\n",
       "\n",
       "    .dataframe thead th {\n",
       "        text-align: right;\n",
       "    }\n",
       "</style>\n",
       "<table border=\"1\" class=\"dataframe\">\n",
       "  <thead>\n",
       "    <tr style=\"text-align: right;\">\n",
       "      <th></th>\n",
       "      <th>date</th>\n",
       "      <th>group</th>\n",
       "    </tr>\n",
       "  </thead>\n",
       "  <tbody>\n",
       "    <tr>\n",
       "      <th>0</th>\n",
       "      <td>True</td>\n",
       "      <td>True</td>\n",
       "    </tr>\n",
       "    <tr>\n",
       "      <th>1</th>\n",
       "      <td>True</td>\n",
       "      <td>True</td>\n",
       "    </tr>\n",
       "    <tr>\n",
       "      <th>2</th>\n",
       "      <td>True</td>\n",
       "      <td>True</td>\n",
       "    </tr>\n",
       "    <tr>\n",
       "      <th>3</th>\n",
       "      <td>True</td>\n",
       "      <td>True</td>\n",
       "    </tr>\n",
       "    <tr>\n",
       "      <th>4</th>\n",
       "      <td>True</td>\n",
       "      <td>True</td>\n",
       "    </tr>\n",
       "    <tr>\n",
       "      <th>...</th>\n",
       "      <td>...</td>\n",
       "      <td>...</td>\n",
       "    </tr>\n",
       "    <tr>\n",
       "      <th>57</th>\n",
       "      <td>True</td>\n",
       "      <td>True</td>\n",
       "    </tr>\n",
       "    <tr>\n",
       "      <th>58</th>\n",
       "      <td>True</td>\n",
       "      <td>True</td>\n",
       "    </tr>\n",
       "    <tr>\n",
       "      <th>59</th>\n",
       "      <td>True</td>\n",
       "      <td>True</td>\n",
       "    </tr>\n",
       "    <tr>\n",
       "      <th>60</th>\n",
       "      <td>True</td>\n",
       "      <td>True</td>\n",
       "    </tr>\n",
       "    <tr>\n",
       "      <th>61</th>\n",
       "      <td>True</td>\n",
       "      <td>True</td>\n",
       "    </tr>\n",
       "  </tbody>\n",
       "</table>\n",
       "<p>62 rows × 2 columns</p>\n",
       "</div>"
      ],
      "text/plain": [
       "    date  group\n",
       "0   True   True\n",
       "1   True   True\n",
       "2   True   True\n",
       "3   True   True\n",
       "4   True   True\n",
       "..   ...    ...\n",
       "57  True   True\n",
       "58  True   True\n",
       "59  True   True\n",
       "60  True   True\n",
       "61  True   True\n",
       "\n",
       "[62 rows x 2 columns]"
      ]
     },
     "execution_count": 23,
     "metadata": {},
     "output_type": "execute_result"
    }
   ],
   "source": [
    "collate = orders[['date','group']].drop_duplicates().sort_values(by=['date','group']).reset_index(drop=True) == \\\n",
    "                        visitors[['date','group']].drop_duplicates().sort_values(by=['date','group']).reset_index(drop=True)\n",
    "collate"
   ]
  },
  {
   "cell_type": "markdown",
   "metadata": {},
   "source": [
    "Создаём **cumulativeData** - таблицу кумулятивных данных по двум таблицам:"
   ]
  },
  {
   "cell_type": "code",
   "execution_count": 24,
   "metadata": {},
   "outputs": [
    {
     "data": {
      "text/html": [
       "<div>\n",
       "<style scoped>\n",
       "    .dataframe tbody tr th:only-of-type {\n",
       "        vertical-align: middle;\n",
       "    }\n",
       "\n",
       "    .dataframe tbody tr th {\n",
       "        vertical-align: top;\n",
       "    }\n",
       "\n",
       "    .dataframe thead th {\n",
       "        text-align: right;\n",
       "    }\n",
       "</style>\n",
       "<table border=\"1\" class=\"dataframe\">\n",
       "  <thead>\n",
       "    <tr style=\"text-align: right;\">\n",
       "      <th></th>\n",
       "      <th>date</th>\n",
       "      <th>group</th>\n",
       "      <th>orders</th>\n",
       "      <th>buyers</th>\n",
       "      <th>revenue</th>\n",
       "      <th>visitors</th>\n",
       "    </tr>\n",
       "  </thead>\n",
       "  <tbody>\n",
       "    <tr>\n",
       "      <th>0</th>\n",
       "      <td>2019-08-01</td>\n",
       "      <td>A</td>\n",
       "      <td>23</td>\n",
       "      <td>19</td>\n",
       "      <td>142779</td>\n",
       "      <td>719</td>\n",
       "    </tr>\n",
       "    <tr>\n",
       "      <th>1</th>\n",
       "      <td>2019-08-01</td>\n",
       "      <td>B</td>\n",
       "      <td>17</td>\n",
       "      <td>17</td>\n",
       "      <td>59758</td>\n",
       "      <td>713</td>\n",
       "    </tr>\n",
       "    <tr>\n",
       "      <th>2</th>\n",
       "      <td>2019-08-02</td>\n",
       "      <td>A</td>\n",
       "      <td>42</td>\n",
       "      <td>36</td>\n",
       "      <td>234381</td>\n",
       "      <td>1338</td>\n",
       "    </tr>\n",
       "    <tr>\n",
       "      <th>3</th>\n",
       "      <td>2019-08-02</td>\n",
       "      <td>B</td>\n",
       "      <td>40</td>\n",
       "      <td>39</td>\n",
       "      <td>221801</td>\n",
       "      <td>1294</td>\n",
       "    </tr>\n",
       "    <tr>\n",
       "      <th>4</th>\n",
       "      <td>2019-08-03</td>\n",
       "      <td>A</td>\n",
       "      <td>66</td>\n",
       "      <td>60</td>\n",
       "      <td>346854</td>\n",
       "      <td>1845</td>\n",
       "    </tr>\n",
       "  </tbody>\n",
       "</table>\n",
       "</div>"
      ],
      "text/plain": [
       "        date group  orders  buyers  revenue  visitors\n",
       "0 2019-08-01     A      23      19   142779       719\n",
       "1 2019-08-01     B      17      17    59758       713\n",
       "2 2019-08-02     A      42      36   234381      1338\n",
       "3 2019-08-02     B      40      39   221801      1294\n",
       "4 2019-08-03     A      66      60   346854      1845"
      ]
     },
     "execution_count": 24,
     "metadata": {},
     "output_type": "execute_result"
    }
   ],
   "source": [
    "datesGroups = orders[['date','group']].drop_duplicates()\n",
    "\n",
    "ordersAggregated = datesGroups.apply(lambda x: orders[np.logical_and(orders['date'] <= x['date'], orders['group'] == x['group'])]. \\\n",
    "                                     agg({'date' : 'max', \n",
    "                                          'group' : 'max', \n",
    "                                          'transactionId' : pd.Series.nunique, \n",
    "                                          'visitorId' : pd.Series.nunique, \n",
    "                                          'revenue' : 'sum'}), axis=1).sort_values(by=['date','group'])\n",
    "\n",
    "visitorsAggregated = datesGroups.apply(lambda x: visitors[np.logical_and(visitors['date'] <= x['date'], visitors['group'] == x['group'])]. \\\n",
    "                                       agg({'date' : 'max', \n",
    "                                            'group' : 'max', \n",
    "                                            'visitors' : 'sum'}), axis=1).sort_values(by=['date','group'])\n",
    "\n",
    "cumulativeData = ordersAggregated.merge(visitorsAggregated, left_on=['date', 'group'], right_on=['date', 'group'])\n",
    "cumulativeData.columns = ['date', 'group', 'orders', 'buyers', 'revenue', 'visitors']\n",
    "\n",
    "cumulativeData.head()"
   ]
  },
  {
   "cell_type": "code",
   "execution_count": 25,
   "metadata": {},
   "outputs": [
    {
     "data": {
      "image/png": "[encoded data removed]",
      "text/plain": [
       "<Figure size 1500x500 with 1 Axes>"
      ]
     },
     "metadata": {},
     "output_type": "display_data"
    }
   ],
   "source": [
    "cumulativeRevenueA = cumulativeData[cumulativeData['group']=='A'][['date','revenue', 'orders']]\n",
    "cumulativeRevenueB = cumulativeData[cumulativeData['group']=='B'][['date','revenue', 'orders']]\n",
    "plt.figure(figsize=(15,5))\n",
    "plt.plot(cumulativeRevenueA['date'], cumulativeRevenueA['revenue'], label='кумулятивная выручка группы А')\n",
    "plt.plot(cumulativeRevenueB['date'], cumulativeRevenueB['revenue'], label='кумулятивная выручка группы В')\n",
    "plt.ylabel('Выручка (млн)')\n",
    "plt.title('График кумулятивной выручки по группам')\n",
    "plt.grid()\n",
    "plt.legend()\n",
    "plt.show()"
   ]
  },
  {
   "cell_type": "markdown",
   "metadata": {},
   "source": [
    "**Кумулятивная выручка группы B до 18 августа была чуть выше кумулятивной выручки группы A, а далее только подтвердила свою преуспевающую позицию.**"
   ]
  },
  {
   "cell_type": "markdown",
   "metadata": {},
   "source": [
    "### строим график кумулятивного среднего чека  по группам и делаем выводы/предположения."
   ]
  },
  {
   "cell_type": "code",
   "execution_count": 26,
   "metadata": {},
   "outputs": [
    {
     "data": {
      "image/png": "[encoded data removed]",
      "text/plain": [
       "<Figure size 1500x500 with 1 Axes>"
      ]
     },
     "metadata": {},
     "output_type": "display_data"
    }
   ],
   "source": [
    "plt.figure(figsize=(15,5))\n",
    "plt.plot(cumulativeRevenueA['date'], cumulativeRevenueA['revenue']/cumulativeRevenueA['orders'], label='средний кумулятивный чек группы А')\n",
    "plt.plot(cumulativeRevenueB['date'], cumulativeRevenueB['revenue']/cumulativeRevenueB['orders'], label='средний кумулятивный чек группы В')\n",
    "plt.title('График кумулятивного среднего чека по группам')\n",
    "plt.ylabel('Средний кумулятивный чек')\n",
    "plt.grid()\n",
    "plt.legend()\n",
    "plt.show()"
   ]
  },
  {
   "cell_type": "markdown",
   "metadata": {},
   "source": [
    "**Наблюдается повторение графика кумулятивной выручки: с 18 августа средний кумулятивный чек группы В значительно выше среднего кумулятивного чека группы А.**"
   ]
  },
  {
   "cell_type": "markdown",
   "metadata": {},
   "source": [
    "### строим график относительного изменения кумулятивного среднего чека группы В к группе А и делаем выводы/предположения."
   ]
  },
  {
   "cell_type": "code",
   "execution_count": 27,
   "metadata": {},
   "outputs": [
    {
     "data": {
      "image/png": "[encoded data removed]",
      "text/plain": [
       "<Figure size 1500x500 with 1 Axes>"
      ]
     },
     "metadata": {},
     "output_type": "display_data"
    }
   ],
   "source": [
    "data = cumulativeRevenueA.merge(cumulativeRevenueB, left_on='date', right_on='date', how='left', suffixes=['A', 'B'])\n",
    "plt.figure(figsize=(15,5))\n",
    "plt.plot(data['date'], (data['revenueB']/data['ordersB']) / (data['revenueA']/data['ordersA'])-1)\n",
    "plt.title('относительное изменение кумулятивного среднего чека группы В к группе А')\n",
    "plt.ylabel('Отношение кумулятивного среднего чека группы В к группе А')\n",
    "plt.axhline(y=0, color='black', linestyle='--')\n",
    "plt.grid()\n",
    "plt.show()"
   ]
  },
  {
   "cell_type": "markdown",
   "metadata": {},
   "source": [
    "**Вновь убеждаемся, что со второго августа кумулятивный средний чек группы В выше кумулятивного среднего чека группы  А. В примерный период с 12.08 по 15.08 показатель был ниже относительно среднего чека группы  А, но далее значительно вырос.**"
   ]
  },
  {
   "cell_type": "markdown",
   "metadata": {},
   "source": [
    "### строим график кумулятивного среднего количества заказов на посетителя по группам и делаем выводы/предположения."
   ]
  },
  {
   "cell_type": "code",
   "execution_count": 28,
   "metadata": {},
   "outputs": [
    {
     "data": {
      "image/png": "[encoded data removed]",
      "text/plain": [
       "<Figure size 1500x500 with 1 Axes>"
      ]
     },
     "metadata": {},
     "output_type": "display_data"
    }
   ],
   "source": [
    "cumulativeData['conversion'] = cumulativeData['orders']/cumulativeData['visitors']\n",
    "cumulativeDataA = cumulativeData[cumulativeData['group']=='A']\n",
    "cumulativeDataB = cumulativeData[cumulativeData['group']=='B']\n",
    "plt.figure(figsize=(15,5))\n",
    "plt.plot(cumulativeDataA['date'], cumulativeDataA['conversion'], label='A')\n",
    "plt.plot(cumulativeDataB['date'], cumulativeDataB['conversion'], label='B')\n",
    "plt.title('График кумулятивного среднего количества заказов на посетителя по группам')\n",
    "plt.ylabel('Отношение среднего количества заказов на посетителя по группам')\n",
    "plt.legend()\n",
    "plt.grid()\n",
    "plt.show()"
   ]
  },
  {
   "cell_type": "markdown",
   "metadata": {},
   "source": [
    "**В начале видим, что показатель количества заказов к количеству посетителей был лучше у группы А. Достигнув своего пика 02.08 этот показатель группы А резко упал, а у группы В стремительно рос с 04.08. В целом, конверсия у группы В стабильно лучше по показателям сравниваемых с показателями группы А.**"
   ]
  },
  {
   "cell_type": "markdown",
   "metadata": {},
   "source": [
    "### строим график относительного изменения кумулятивного среднего количества заказов на посетителя группы В к группе А и делаем выводы/предположения."
   ]
  },
  {
   "cell_type": "code",
   "execution_count": 29,
   "metadata": {},
   "outputs": [
    {
     "data": {
      "image/png": "[encoded data removed]",
      "text/plain": [
       "<Figure size 1500x500 with 1 Axes>"
      ]
     },
     "metadata": {},
     "output_type": "display_data"
    }
   ],
   "source": [
    "CumulativeConversions = cumulativeDataA[['date','conversion']].merge(cumulativeDataB[['date','conversion']], left_on='date', right_on='date', how='left', suffixes=['A', 'B'])\n",
    "plt.figure(figsize=(15,5))\n",
    "plt.plot(CumulativeConversions['date'], CumulativeConversions['conversionB']/CumulativeConversions['conversionA']-1)\n",
    "plt.title('Относительное изменение кумулятивного среднего количества заказов на посетителя группы В к группе А')\n",
    "plt.ylabel('Отношение кумулятивного среднего количества заказов на посетителя группы В к группе А')\n",
    "plt.axhline(y=0, color='black', linestyle='--')\n",
    "plt.grid()\n",
    "plt.show()"
   ]
  },
  {
   "cell_type": "markdown",
   "metadata": {},
   "source": [
    "**До 5.08  конверсия группы В была несколько ниже конверсия группы А, кроме данных от 02.08 - здесь мы видим всплеск показателей. Уже с 5 августа группа В лидировала до конца периода и \"устаканилась\" 21.08.**"
   ]
  },
  {
   "cell_type": "markdown",
   "metadata": {},
   "source": [
    "### строим точечный график количества заказов по пользователям и делаем выводы/предположения."
   ]
  },
  {
   "cell_type": "code",
   "execution_count": 30,
   "metadata": {},
   "outputs": [
    {
     "data": {
      "text/html": [
       "<div>\n",
       "<style scoped>\n",
       "    .dataframe tbody tr th:only-of-type {\n",
       "        vertical-align: middle;\n",
       "    }\n",
       "\n",
       "    .dataframe tbody tr th {\n",
       "        vertical-align: top;\n",
       "    }\n",
       "\n",
       "    .dataframe thead th {\n",
       "        text-align: right;\n",
       "    }\n",
       "</style>\n",
       "<table border=\"1\" class=\"dataframe\">\n",
       "  <thead>\n",
       "    <tr style=\"text-align: right;\">\n",
       "      <th></th>\n",
       "      <th>user_id</th>\n",
       "      <th>orders</th>\n",
       "    </tr>\n",
       "  </thead>\n",
       "  <tbody>\n",
       "    <tr>\n",
       "      <th>908</th>\n",
       "      <td>3967698036</td>\n",
       "      <td>3</td>\n",
       "    </tr>\n",
       "    <tr>\n",
       "      <th>55</th>\n",
       "      <td>249864742</td>\n",
       "      <td>3</td>\n",
       "    </tr>\n",
       "    <tr>\n",
       "      <th>478</th>\n",
       "      <td>2108163459</td>\n",
       "      <td>3</td>\n",
       "    </tr>\n",
       "    <tr>\n",
       "      <th>687</th>\n",
       "      <td>2988190573</td>\n",
       "      <td>3</td>\n",
       "    </tr>\n",
       "    <tr>\n",
       "      <th>890</th>\n",
       "      <td>3908431265</td>\n",
       "      <td>3</td>\n",
       "    </tr>\n",
       "    <tr>\n",
       "      <th>138</th>\n",
       "      <td>611059232</td>\n",
       "      <td>3</td>\n",
       "    </tr>\n",
       "    <tr>\n",
       "      <th>632</th>\n",
       "      <td>2742574263</td>\n",
       "      <td>3</td>\n",
       "    </tr>\n",
       "    <tr>\n",
       "      <th>157</th>\n",
       "      <td>678354126</td>\n",
       "      <td>2</td>\n",
       "    </tr>\n",
       "    <tr>\n",
       "      <th>323</th>\n",
       "      <td>1404560065</td>\n",
       "      <td>2</td>\n",
       "    </tr>\n",
       "    <tr>\n",
       "      <th>452</th>\n",
       "      <td>1985475298</td>\n",
       "      <td>2</td>\n",
       "    </tr>\n",
       "  </tbody>\n",
       "</table>\n",
       "</div>"
      ],
      "text/plain": [
       "        user_id  orders\n",
       "908  3967698036       3\n",
       "55    249864742       3\n",
       "478  2108163459       3\n",
       "687  2988190573       3\n",
       "890  3908431265       3\n",
       "138   611059232       3\n",
       "632  2742574263       3\n",
       "157   678354126       2\n",
       "323  1404560065       2\n",
       "452  1985475298       2"
      ]
     },
     "metadata": {},
     "output_type": "display_data"
    },
    {
     "data": {
      "image/png": "[encoded data removed]",
      "text/plain": [
       "<Figure size 1500x500 with 1 Axes>"
      ]
     },
     "metadata": {},
     "output_type": "display_data"
    }
   ],
   "source": [
    "ordersByUsers = orders.drop(['group', 'revenue', 'date'], axis=1).groupby('visitorId', as_index=False).agg({'transactionId' : pd.Series.nunique})\n",
    "ordersByUsers.columns = ['user_id','orders']\n",
    "display(ordersByUsers.sort_values(by='orders',ascending=False).head(10))\n",
    "x_values = pd.Series(range(0, len(ordersByUsers)))\n",
    "plt.figure(figsize=(15,5))\n",
    "plt.scatter(x_values, ordersByUsers['orders']);\n",
    "plt.title('Точечный график количества заказов по пользователям')\n",
    "plt.ylabel('Количество заказов')\n",
    "plt.grid()\n",
    "plt.show()"
   ]
  },
  {
   "cell_type": "markdown",
   "metadata": {},
   "source": [
    "**Конечно, больше всего пользователей, сделавших 1 заказ. Тех, кто совершил 2 - достаточно. Совершивших 3 заказа - значительно меньше. Далее будем высчитывать перцентели.**"
   ]
  },
  {
   "cell_type": "markdown",
   "metadata": {},
   "source": [
    "### считаем 95-й и 99-й перцентили количества заказов на пользователя и выбераем границу для определения аномальных пользователей."
   ]
  },
  {
   "cell_type": "code",
   "execution_count": 31,
   "metadata": {},
   "outputs": [
    {
     "data": {
      "text/plain": [
       "array([1., 2.])"
      ]
     },
     "execution_count": 31,
     "metadata": {},
     "output_type": "execute_result"
    }
   ],
   "source": [
    "np.percentile(ordersByUsers['orders'], [95, 99])"
   ]
  },
  {
   "cell_type": "markdown",
   "metadata": {},
   "source": [
    "**Покрепляем выше увиденный вывод на точечном графике о том, что большинство пользователей делают 1-2 заказа. Всё, что выше, будем считать аномалией.**"
   ]
  },
  {
   "cell_type": "markdown",
   "metadata": {},
   "source": [
    "### строим точечный график стоимостей заказов и делаем выводы/предположения."
   ]
  },
  {
   "cell_type": "code",
   "execution_count": 32,
   "metadata": {},
   "outputs": [
    {
     "data": {
      "image/png": "[encoded data removed]",
      "text/plain": [
       "<Figure size 1500x500 with 1 Axes>"
      ]
     },
     "metadata": {},
     "output_type": "display_data"
    }
   ],
   "source": [
    "x_values = pd.Series(range(0,len(orders['revenue'])))\n",
    "plt.figure(figsize=(15,5))\n",
    "plt.title('Точечный график стоимостей заказов')\n",
    "plt.xlabel('Количество заказов')\n",
    "plt.ylabel('Суммы заказов (млн)')\n",
    "plt.scatter(x_values, orders['revenue'], alpha=0.5)\n",
    "plt.grid()\n",
    "plt.show()"
   ]
  },
  {
   "cell_type": "code",
   "execution_count": 33,
   "metadata": {},
   "outputs": [
    {
     "data": {
      "text/html": [
       "<div>\n",
       "<style scoped>\n",
       "    .dataframe tbody tr th:only-of-type {\n",
       "        vertical-align: middle;\n",
       "    }\n",
       "\n",
       "    .dataframe tbody tr th {\n",
       "        vertical-align: top;\n",
       "    }\n",
       "\n",
       "    .dataframe thead th {\n",
       "        text-align: right;\n",
       "    }\n",
       "</style>\n",
       "<table border=\"1\" class=\"dataframe\">\n",
       "  <thead>\n",
       "    <tr style=\"text-align: right;\">\n",
       "      <th></th>\n",
       "      <th>index</th>\n",
       "      <th>transactionId</th>\n",
       "      <th>visitorId</th>\n",
       "      <th>date</th>\n",
       "      <th>revenue</th>\n",
       "      <th>group</th>\n",
       "    </tr>\n",
       "  </thead>\n",
       "  <tbody>\n",
       "    <tr>\n",
       "      <th>365</th>\n",
       "      <td>425</td>\n",
       "      <td>590470918</td>\n",
       "      <td>1920142716</td>\n",
       "      <td>2019-08-19</td>\n",
       "      <td>1294500</td>\n",
       "      <td>B</td>\n",
       "    </tr>\n",
       "    <tr>\n",
       "      <th>1015</th>\n",
       "      <td>1196</td>\n",
       "      <td>3936777065</td>\n",
       "      <td>2108080724</td>\n",
       "      <td>2019-08-15</td>\n",
       "      <td>202740</td>\n",
       "      <td>B</td>\n",
       "    </tr>\n",
       "  </tbody>\n",
       "</table>\n",
       "</div>"
      ],
      "text/plain": [
       "      index  transactionId   visitorId       date  revenue group\n",
       "365     425      590470918  1920142716 2019-08-19  1294500     B\n",
       "1015   1196     3936777065  2108080724 2019-08-15   202740     B"
      ]
     },
     "execution_count": 33,
     "metadata": {},
     "output_type": "execute_result"
    }
   ],
   "source": [
    "orders.query('revenue > 190000')"
   ]
  },
  {
   "cell_type": "markdown",
   "metadata": {},
   "source": [
    "**Не станем учитывать найденные выбросы:**"
   ]
  },
  {
   "cell_type": "code",
   "execution_count": 34,
   "metadata": {},
   "outputs": [
    {
     "data": {
      "image/png": "[encoded data removed]",
      "text/plain": [
       "<Figure size 1500x500 with 1 Axes>"
      ]
     },
     "metadata": {},
     "output_type": "display_data"
    }
   ],
   "source": [
    "abnorma_orders = orders[orders['revenue']<190000]['revenue']\n",
    "x_values = pd.Series(range(0,len(abnorma_orders)))\n",
    "plt.figure(figsize=(15,5))\n",
    "plt.title('Точечный график стоимостей заказов')\n",
    "plt.xlabel('Количество заказов')\n",
    "plt.ylabel('Суммы заказов')\n",
    "plt.scatter(x_values, abnorma_orders, alpha=0.5)\n",
    "plt.grid()\n",
    "plt.show()"
   ]
  },
  {
   "cell_type": "markdown",
   "metadata": {},
   "source": [
    "Видим, что чаще стоимость заказа составляет до 60'000, считаем перцентели:"
   ]
  },
  {
   "cell_type": "markdown",
   "metadata": {},
   "source": [
    "### считаем 95-й и 99-й перцентили стоимости заказов и выбераем границу для определения аномальных пользователей."
   ]
  },
  {
   "cell_type": "code",
   "execution_count": 35,
   "metadata": {},
   "outputs": [
    {
     "data": {
      "text/plain": [
       "array([26785., 53904.])"
      ]
     },
     "execution_count": 35,
     "metadata": {},
     "output_type": "execute_result"
    }
   ],
   "source": [
    "np.percentile(orders['revenue'], [95, 99])"
   ]
  },
  {
   "cell_type": "markdown",
   "metadata": {},
   "source": [
    "**Большинство заказов стоили до 26'785, границей для аномалий установим показатель в _53'904._**"
   ]
  },
  {
   "cell_type": "markdown",
   "metadata": {},
   "source": [
    "### считаем статистическую значимость различий в среднем количестве заказов на посетителя между группами по «сырым» данным и делаем выводы/предположения."
   ]
  },
  {
   "cell_type": "markdown",
   "metadata": {},
   "source": [
    "_**Если Н0 - статистически значимых различий в средних чеках между группами А и В нет, то Н1 - статистически значимые различия есть.**_"
   ]
  },
  {
   "cell_type": "code",
   "execution_count": 36,
   "metadata": {},
   "outputs": [
    {
     "name": "stdout",
     "output_type": "stream",
     "text": [
      "alpha = 0.05\n",
      "p-value = 0.011\n",
      "Относительный показатель В и А = 0.160\n"
     ]
    }
   ],
   "source": [
    "visitorsADaily = visitors[visitors['group']=='A'][['date', 'visitors']]\n",
    "visitorsADaily.columns = ['date', 'visitorsPerDateA']\n",
    "\n",
    "visitorsACummulative = visitorsADaily.apply(lambda x: visitorsADaily[visitorsADaily['date'] <= x['date']].agg({'date' : 'max', 'visitorsPerDateA' : 'sum'}), axis=1)\n",
    "visitorsACummulative.columns = ['date', 'visitorsCummulativeA']\n",
    "\n",
    "visitorsBDaily = visitors[visitors['group']=='B'][['date', 'visitors']]\n",
    "visitorsBDaily.columns = ['date', 'visitorsPerDateB']\n",
    "\n",
    "visitorsBCummulative = visitorsBDaily.apply(lambda x: visitorsBDaily[visitorsBDaily['date'] <= x['date']].agg({'date' : 'max', 'visitorsPerDateB' : 'sum'}), axis=1)\n",
    "visitorsBCummulative.columns = ['date', 'visitorsCummulativeB']\n",
    "\n",
    "ordersADaily = orders[orders['group']=='A'][['date', 'transactionId', 'visitorId', 'revenue']].groupby('date', as_index=False).agg({'transactionId' : pd.Series.nunique, 'revenue' : 'sum'})\n",
    "ordersADaily.columns = ['date', 'ordersPerDateA', 'revenuePerDateA']\n",
    "\n",
    "ordersACummulative = ordersADaily.apply(lambda x: ordersADaily[ordersADaily['date'] <= x['date']].agg({'date' : 'max', 'ordersPerDateA' : 'sum', 'revenuePerDateA' : 'sum'}), axis=1).sort_values(by=['date'])\n",
    "ordersACummulative.columns = ['date', 'ordersCummulativeA', 'revenueCummulativeA']\n",
    "\n",
    "ordersBDaily = orders[orders['group']=='B'][['date', 'transactionId', 'visitorId', 'revenue']].groupby('date', as_index=False).agg({'transactionId' : pd.Series.nunique, 'revenue' : 'sum'})\n",
    "ordersBDaily.columns = ['date', 'ordersPerDateB', 'revenuePerDateB']\n",
    "\n",
    "ordersBCummulative = ordersBDaily.apply(lambda x: ordersBDaily[ordersBDaily['date'] <= x['date']].agg({'date' : 'max',  'ordersPerDateB' : 'sum', 'revenuePerDateB' : 'sum'}), axis=1).sort_values(by=['date'])\n",
    "ordersBCummulative.columns = ['date', 'ordersCummulativeB', 'revenueCummulativeB']\n",
    "\n",
    "data_merge = ordersADaily.merge(ordersBDaily, left_on='date', right_on='date', how='left').merge(ordersACummulative, left_on='date', right_on='date', how='left').merge(ordersBCummulative, left_on='date', right_on='date', how='left').merge(visitorsADaily, left_on='date', right_on='date', how='left').merge(visitorsBDaily, left_on='date', right_on='date', how='left').merge(visitorsACummulative, left_on='date', right_on='date', how='left').merge(visitorsBCummulative, left_on='date', right_on='date', how='left')\n",
    "\n",
    "ordersByUsersA = orders[orders['group']=='A'].groupby('visitorId', as_index=False).agg({'transactionId' : pd.Series.nunique})\n",
    "ordersByUsersA.columns = ['userId', 'orders']\n",
    "\n",
    "ordersByUsersB = orders[orders['group']=='B'].groupby('visitorId', as_index=False).agg({'transactionId' : pd.Series.nunique})\n",
    "ordersByUsersB.columns = ['userId', 'orders']\n",
    "\n",
    "sampleA = pd.concat([ordersByUsersA['orders'], pd.Series(0, index=np.arange(data_merge['visitorsPerDateA'].sum() - len(ordersByUsersA['orders'])), name='orders')],axis=0)\n",
    "\n",
    "sampleB = pd.concat([ordersByUsersB['orders'],pd.Series(0, index=np.arange(data_merge['visitorsPerDateB'].sum() - len(ordersByUsersB['orders'])), name='orders')],axis=0)\n",
    "\n",
    "print(\"alpha =\",0.05)\n",
    "print(\"p-value = {0:.3f}\".format(stats.mannwhitneyu(sampleA, sampleB, alternative = 'two-sided')[1]))\n",
    "print(\"Относительный показатель В и А = {0:.3f}\".format(sampleB.mean()/sampleA.mean()-1)) "
   ]
  },
  {
   "cell_type": "markdown",
   "metadata": {},
   "source": [
    "_**p-value = 0.011, что меньше 0.05, то есть нулевую гипотезу о том, что статистически значимых различий в конверсии между группами нет, можно отвергать. А значит по «сырым» данным различия в конверсих групп A и B есть - преобладание группы В составляет 16%.**_"
   ]
  },
  {
   "cell_type": "markdown",
   "metadata": {},
   "source": [
    "### считаем статистическую значимость различий в среднем чеке заказа между группами по «сырым» данным и делаем выводы/предположения."
   ]
  },
  {
   "cell_type": "markdown",
   "metadata": {},
   "source": [
    "_**Если Н0 - статистически значимых различий в средних чеках между группами нет, то Н1 - статистически значимые различия есть.**_"
   ]
  },
  {
   "cell_type": "code",
   "execution_count": 41,
   "metadata": {},
   "outputs": [
    {
     "data": {
      "text/plain": [
       "'alpha = 0.05'"
      ]
     },
     "metadata": {},
     "output_type": "display_data"
    },
    {
     "data": {
      "text/plain": [
       "'p-value = 0.829'"
      ]
     },
     "metadata": {},
     "output_type": "display_data"
    },
    {
     "data": {
      "text/plain": [
       "'Относительный показатель В и А = 0.287'"
      ]
     },
     "metadata": {},
     "output_type": "display_data"
    }
   ],
   "source": [
    "display(\"alpha = 0.05\")\n",
    "display(\"p-value = {0:.3f}\".format(stats.mannwhitneyu(orders[orders['group']=='A']['revenue'], orders[orders['group']=='B']['revenue'], alternative = 'two-sided')[1]))\n",
    "display(\"Относительный показатель В и А = {0:.3f}\".format(orders[orders['group']=='B']['revenue'].mean()/orders[orders['group']=='A']['revenue'].mean()-1)) "
   ]
  },
  {
   "cell_type": "markdown",
   "metadata": {},
   "source": [
    "_**p-value приближен к 83%, что на порядок выше 0.05, то есть причин отвергать нулевую гипотезу нет.**_\n",
    "\n",
    "**Наблюдаемое различие в 28.7% среднего чека группы В значительно выше среднего чека группы А не является статистически значимым, так как теcт показал, что нет стат. значимой разницы между группами - каково бы различие чека не было, оно не будет являться стат. значимым.**"
   ]
  },
  {
   "cell_type": "markdown",
   "metadata": {},
   "source": [
    "### считаем статистическую значимость различий в среднем количестве заказов на посетителя между группами по «очищенным» данным и делаем выводы/предположения."
   ]
  },
  {
   "cell_type": "code",
   "execution_count": 42,
   "metadata": {},
   "outputs": [
    {
     "data": {
      "text/plain": [
       "937    148427295\n",
       "33     249864742\n",
       "58     611059232\n",
       "811    887908475\n",
       "632    888512513\n",
       "dtype: int64"
      ]
     },
     "metadata": {},
     "output_type": "display_data"
    },
    {
     "name": "stdout",
     "output_type": "stream",
     "text": [
      "Количество аномальных пользователей =  16\n"
     ]
    }
   ],
   "source": [
    "usersWithManyOrders = pd.concat([ordersByUsersA[ordersByUsersA['orders'] > 2]['userId'], ordersByUsersB[ordersByUsersB['orders'] > 2]['userId']], axis = 0)\n",
    "usersWithExpensiveOrders = orders[orders['revenue'] > 53904]['visitorId']\n",
    "abnormalUsers = pd.concat([usersWithManyOrders, usersWithExpensiveOrders], axis = 0).drop_duplicates().sort_values()\n",
    "display(abnormalUsers.head(5))\n",
    "print('Количество аномальных пользователей = ',len(abnormalUsers)) "
   ]
  },
  {
   "cell_type": "code",
   "execution_count": 43,
   "metadata": {},
   "outputs": [
    {
     "name": "stdout",
     "output_type": "stream",
     "text": [
      "alpha = 0.05\n",
      "p-value = 0.007\n",
      "Относительный показатель В к А = 0.189\n"
     ]
    }
   ],
   "source": [
    "sampleAFiltered = pd.concat([ordersByUsersA[np.logical_not(ordersByUsersA['userId'].isin(abnormalUsers))]['orders'], pd.Series(0, index=np.arange(data_merge['visitorsPerDateA'].sum() - len(ordersByUsersA['orders'])), name='orders')],axis=0)\n",
    "sampleBFiltered = pd.concat([ordersByUsersB[np.logical_not(ordersByUsersB['userId'].isin(abnormalUsers))]['orders'], pd.Series(0, index=np.arange(data_merge['visitorsPerDateB'].sum() - len(ordersByUsersB['orders'])), name='orders')],axis=0) \n",
    "\n",
    "print('alpha =',0.05)\n",
    "print('p-value = {0:.3f}'.format(stats.mannwhitneyu(sampleAFiltered, sampleBFiltered, alternative = 'two-sided')[1]))\n",
    "print('Относительный показатель В к А = {0:.3f}'.format(sampleBFiltered.mean()/sampleAFiltered.mean()-1)) "
   ]
  },
  {
   "cell_type": "markdown",
   "metadata": {},
   "source": [
    "**p-value = 0.007, меньше 0.05, значит, отвергаем нулевую гипотезу (статистически значимых различий в конверсии между группами нет) и по «очищенным» данным различия в конверсии групп A и B есть -  преобладание группы В составляет 18,9%.**"
   ]
  },
  {
   "cell_type": "markdown",
   "metadata": {},
   "source": [
    "### считаем статистическую значимость различий в среднем чеке заказа между группами по «очищенным» данным и делаем выводы/предположения."
   ]
  },
  {
   "cell_type": "code",
   "execution_count": 44,
   "metadata": {},
   "outputs": [
    {
     "name": "stdout",
     "output_type": "stream",
     "text": [
      "p-value = 0.788\n",
      "Относительный показатель В к А = -0.032\n"
     ]
    }
   ],
   "source": [
    "print('p-value = {0:.3f}'.format(stats.mannwhitneyu(\n",
    "    orders[np.logical_and(orders['group']=='A', np.logical_not(orders['visitorId'].isin(abnormalUsers)))]['revenue'],\n",
    "    orders[np.logical_and(orders['group']=='B', np.logical_not(orders['visitorId'].isin(abnormalUsers)))]['revenue'], alternative = 'two-sided')[1]))\n",
    "\n",
    "print('Относительный показатель В к А = {0:.3f}'.format(\n",
    "    orders[np.logical_and(orders['group']=='B', np.logical_not(orders['visitorId'].isin(abnormalUsers)))]['revenue'].mean()/\n",
    "    orders[np.logical_and(orders['group']=='A', np.logical_not(orders['visitorId'].isin(abnormalUsers)))]['revenue'].mean() - 1))"
   ]
  },
  {
   "cell_type": "markdown",
   "metadata": {},
   "source": [
    "**p-value = 0.8, значительно больше 0.05, значит, нулевую гипотезу (в среднем чеке различия есть) отвергать нельзя.**\n",
    "\n",
    "**По очищенным данным средний чек группы В на 2% ниже среднего чека группы A - это различие не стат. значимо.**\n"
   ]
  },
  {
   "cell_type": "markdown",
   "metadata": {},
   "source": [
    "## Принимаем решение по результатам теста."
   ]
  },
  {
   "cell_type": "markdown",
   "metadata": {},
   "source": [
    "_**Результаты тестирования:**_\n",
    "\n",
    "И \"сырые“, и \"очищенные“ данные говорят о наличии различий в конверсиях групп А и В. Относительное преобладание группы В над группой А равно 18,9% по \"очищенным\" и 16% по \"сырым\" данным.\n",
    "\n",
    "И по \"сырым“, и по \"очищенным\" данным различия в средних чеках групп A и B не наблюдаются, несмотря на то, что средний чек группы B оказался на 2% ниже среднего чека группы A по \"очищенным\" данным, в то же время по \"сырым\" данным, он был больше на 26%. Это связано с двумя заказами, которые мы приняли далее за аномалии: revenue на 202’740 и на 1’294’500 в orders.\n",
    "\n",
    "После игнорирования аномальных данных, чеки стали схожи.\n",
    "\n",
    "_**В итоге можно принять решение об остановке тестирования: группа В значительно лучше по конверсии группы A , хотя по среднему чеку группы схожи.**_"
   ]
  }
 ],
 "metadata": {
  "ExecuteTimeLog": [
   {
    "duration": 380,
    "start_time": "2023-03-22T13:23:46.241Z"
   },
   {
    "duration": 81,
    "start_time": "2023-03-22T13:23:46.623Z"
   },
   {
    "duration": 885,
    "start_time": "2023-03-22T13:27:40.596Z"
   },
   {
    "duration": 41,
    "start_time": "2023-03-22T13:27:41.515Z"
   },
   {
    "duration": 14,
    "start_time": "2023-03-22T13:28:00.952Z"
   },
   {
    "duration": 3,
    "start_time": "2023-03-22T13:29:24.698Z"
   },
   {
    "duration": 291,
    "start_time": "2023-03-22T13:29:25.119Z"
   },
   {
    "duration": 2,
    "start_time": "2023-03-22T13:34:47.214Z"
   },
   {
    "duration": 75,
    "start_time": "2023-03-22T13:34:47.588Z"
   },
   {
    "duration": 9,
    "start_time": "2023-03-22T13:48:32.536Z"
   },
   {
    "duration": 10,
    "start_time": "2023-03-22T13:49:55.085Z"
   },
   {
    "duration": 64,
    "start_time": "2023-03-22T17:05:09.936Z"
   },
   {
    "duration": 1661,
    "start_time": "2023-03-22T17:05:14.454Z"
   },
   {
    "duration": 265,
    "start_time": "2023-03-22T17:05:16.117Z"
   },
   {
    "duration": 14,
    "start_time": "2023-03-22T17:05:16.384Z"
   },
   {
    "duration": 39,
    "start_time": "2023-03-22T17:05:16.402Z"
   },
   {
    "duration": 30,
    "start_time": "2023-03-22T17:05:16.444Z"
   },
   {
    "duration": 8,
    "start_time": "2023-03-22T17:05:29.691Z"
   },
   {
    "duration": 10,
    "start_time": "2023-03-22T17:07:14.859Z"
   },
   {
    "duration": 14,
    "start_time": "2023-03-22T17:08:14.820Z"
   },
   {
    "duration": 11,
    "start_time": "2023-03-22T17:08:29.944Z"
   },
   {
    "duration": 8,
    "start_time": "2023-03-22T17:08:35.760Z"
   },
   {
    "duration": 10,
    "start_time": "2023-03-22T17:08:41.996Z"
   },
   {
    "duration": 25,
    "start_time": "2023-03-22T17:08:49.032Z"
   },
   {
    "duration": 10,
    "start_time": "2023-03-22T17:10:52.176Z"
   },
   {
    "duration": 17,
    "start_time": "2023-03-22T17:11:23.041Z"
   },
   {
    "duration": 13,
    "start_time": "2023-03-22T17:13:18.273Z"
   },
   {
    "duration": 3,
    "start_time": "2023-03-22T17:15:01.857Z"
   },
   {
    "duration": 109,
    "start_time": "2023-03-22T17:15:01.862Z"
   },
   {
    "duration": 8,
    "start_time": "2023-03-22T17:15:01.973Z"
   },
   {
    "duration": 53,
    "start_time": "2023-03-22T17:15:01.983Z"
   },
   {
    "duration": 14,
    "start_time": "2023-03-22T17:15:02.039Z"
   },
   {
    "duration": 33,
    "start_time": "2023-03-22T17:15:02.055Z"
   },
   {
    "duration": 64,
    "start_time": "2023-03-22T17:15:02.090Z"
   },
   {
    "duration": 35,
    "start_time": "2023-03-22T17:15:02.158Z"
   },
   {
    "duration": 58,
    "start_time": "2023-03-22T17:15:02.195Z"
   },
   {
    "duration": 8,
    "start_time": "2023-03-22T17:19:01.276Z"
   },
   {
    "duration": 11,
    "start_time": "2023-03-22T17:19:06.763Z"
   },
   {
    "duration": 4,
    "start_time": "2023-03-22T17:20:11.576Z"
   },
   {
    "duration": 107,
    "start_time": "2023-03-22T17:20:11.583Z"
   },
   {
    "duration": 12,
    "start_time": "2023-03-22T17:20:11.693Z"
   },
   {
    "duration": 42,
    "start_time": "2023-03-22T17:20:11.708Z"
   },
   {
    "duration": 19,
    "start_time": "2023-03-22T17:20:11.753Z"
   },
   {
    "duration": 29,
    "start_time": "2023-03-22T17:20:11.778Z"
   },
   {
    "duration": 43,
    "start_time": "2023-03-22T17:20:11.810Z"
   },
   {
    "duration": 20,
    "start_time": "2023-03-22T17:20:11.855Z"
   },
   {
    "duration": 12,
    "start_time": "2023-03-22T17:20:11.877Z"
   },
   {
    "duration": 51,
    "start_time": "2023-03-22T17:20:11.891Z"
   },
   {
    "duration": 13,
    "start_time": "2023-03-22T17:20:11.944Z"
   },
   {
    "duration": 24,
    "start_time": "2023-03-22T17:20:11.959Z"
   },
   {
    "duration": 47,
    "start_time": "2023-03-22T17:20:11.985Z"
   },
   {
    "duration": 8,
    "start_time": "2023-03-22T17:27:21.703Z"
   },
   {
    "duration": 23,
    "start_time": "2023-03-22T17:27:24.990Z"
   },
   {
    "duration": 12,
    "start_time": "2023-03-22T17:28:47.353Z"
   },
   {
    "duration": 37,
    "start_time": "2023-03-22T17:50:15.092Z"
   },
   {
    "duration": 17,
    "start_time": "2023-03-22T17:59:14.822Z"
   },
   {
    "duration": 24,
    "start_time": "2023-03-22T18:00:12.751Z"
   },
   {
    "duration": 31,
    "start_time": "2023-03-22T18:02:05.868Z"
   },
   {
    "duration": 507,
    "start_time": "2023-03-22T18:04:37.749Z"
   },
   {
    "duration": 483,
    "start_time": "2023-03-22T18:07:51.392Z"
   },
   {
    "duration": 344,
    "start_time": "2023-03-22T18:08:07.677Z"
   },
   {
    "duration": 347,
    "start_time": "2023-03-22T18:08:31.772Z"
   },
   {
    "duration": 347,
    "start_time": "2023-03-22T18:09:01.122Z"
   },
   {
    "duration": 347,
    "start_time": "2023-03-22T18:40:28.714Z"
   },
   {
    "duration": 14,
    "start_time": "2023-03-22T18:42:21.028Z"
   },
   {
    "duration": 111,
    "start_time": "2023-03-22T18:42:21.045Z"
   },
   {
    "duration": 9,
    "start_time": "2023-03-22T18:42:21.158Z"
   },
   {
    "duration": 27,
    "start_time": "2023-03-22T18:42:21.168Z"
   },
   {
    "duration": 54,
    "start_time": "2023-03-22T18:42:21.205Z"
   },
   {
    "duration": 82,
    "start_time": "2023-03-22T18:42:21.261Z"
   },
   {
    "duration": 32,
    "start_time": "2023-03-22T18:42:21.345Z"
   },
   {
    "duration": 41,
    "start_time": "2023-03-22T18:42:21.379Z"
   },
   {
    "duration": 27,
    "start_time": "2023-03-22T18:42:21.421Z"
   },
   {
    "duration": 21,
    "start_time": "2023-03-22T18:42:21.450Z"
   },
   {
    "duration": 18,
    "start_time": "2023-03-22T18:42:21.473Z"
   },
   {
    "duration": 55,
    "start_time": "2023-03-22T18:42:21.493Z"
   },
   {
    "duration": 13,
    "start_time": "2023-03-22T18:42:21.550Z"
   },
   {
    "duration": 7,
    "start_time": "2023-03-22T18:42:21.567Z"
   },
   {
    "duration": 36,
    "start_time": "2023-03-22T18:42:21.575Z"
   },
   {
    "duration": 55,
    "start_time": "2023-03-22T18:42:21.612Z"
   },
   {
    "duration": 22,
    "start_time": "2023-03-22T18:42:21.668Z"
   },
   {
    "duration": 55,
    "start_time": "2023-03-22T18:42:21.692Z"
   },
   {
    "duration": 35,
    "start_time": "2023-03-22T18:42:21.750Z"
   },
   {
    "duration": 393,
    "start_time": "2023-03-22T18:42:21.787Z"
   },
   {
    "duration": 293,
    "start_time": "2023-03-22T18:42:22.182Z"
   },
   {
    "duration": 387,
    "start_time": "2023-03-22T18:42:22.478Z"
   },
   {
    "duration": 324,
    "start_time": "2023-03-22T18:42:53.654Z"
   },
   {
    "duration": 19,
    "start_time": "2023-03-22T18:54:05.174Z"
   },
   {
    "duration": 3,
    "start_time": "2023-03-22T18:54:21.076Z"
   },
   {
    "duration": 110,
    "start_time": "2023-03-22T18:54:21.081Z"
   },
   {
    "duration": 15,
    "start_time": "2023-03-22T18:54:21.193Z"
   },
   {
    "duration": 42,
    "start_time": "2023-03-22T18:54:21.210Z"
   },
   {
    "duration": 14,
    "start_time": "2023-03-22T18:54:21.253Z"
   },
   {
    "duration": 12,
    "start_time": "2023-03-22T18:54:21.269Z"
   },
   {
    "duration": 32,
    "start_time": "2023-03-22T18:54:21.282Z"
   },
   {
    "duration": 40,
    "start_time": "2023-03-22T18:54:21.316Z"
   },
   {
    "duration": 10,
    "start_time": "2023-03-22T18:54:21.358Z"
   },
   {
    "duration": 9,
    "start_time": "2023-03-22T18:54:21.369Z"
   },
   {
    "duration": 14,
    "start_time": "2023-03-22T18:54:21.380Z"
   },
   {
    "duration": 45,
    "start_time": "2023-03-22T18:54:21.396Z"
   },
   {
    "duration": 12,
    "start_time": "2023-03-22T18:54:21.443Z"
   },
   {
    "duration": 9,
    "start_time": "2023-03-22T18:54:21.457Z"
   },
   {
    "duration": 16,
    "start_time": "2023-03-22T18:54:21.468Z"
   },
   {
    "duration": 14,
    "start_time": "2023-03-22T18:54:21.487Z"
   },
   {
    "duration": 15,
    "start_time": "2023-03-22T18:54:21.502Z"
   },
   {
    "duration": 47,
    "start_time": "2023-03-22T18:54:21.518Z"
   },
   {
    "duration": 24,
    "start_time": "2023-03-22T18:54:21.567Z"
   },
   {
    "duration": 376,
    "start_time": "2023-03-22T18:54:21.592Z"
   },
   {
    "duration": 262,
    "start_time": "2023-03-22T18:54:21.970Z"
   },
   {
    "duration": 258,
    "start_time": "2023-03-22T18:54:22.236Z"
   },
   {
    "duration": 36,
    "start_time": "2023-03-22T18:54:22.496Z"
   },
   {
    "duration": 18,
    "start_time": "2023-03-22T18:55:20.737Z"
   },
   {
    "duration": 396,
    "start_time": "2023-03-22T18:55:32.436Z"
   },
   {
    "duration": 360,
    "start_time": "2023-03-22T18:55:58.599Z"
   },
   {
    "duration": 3,
    "start_time": "2023-03-22T19:00:32.976Z"
   },
   {
    "duration": 103,
    "start_time": "2023-03-22T19:00:32.982Z"
   },
   {
    "duration": 8,
    "start_time": "2023-03-22T19:00:33.087Z"
   },
   {
    "duration": 70,
    "start_time": "2023-03-22T19:00:33.102Z"
   },
   {
    "duration": 18,
    "start_time": "2023-03-22T19:00:33.173Z"
   },
   {
    "duration": 56,
    "start_time": "2023-03-22T19:00:33.193Z"
   },
   {
    "duration": 34,
    "start_time": "2023-03-22T19:00:33.251Z"
   },
   {
    "duration": 59,
    "start_time": "2023-03-22T19:00:33.287Z"
   },
   {
    "duration": 34,
    "start_time": "2023-03-22T19:00:33.351Z"
   },
   {
    "duration": 28,
    "start_time": "2023-03-22T19:00:33.386Z"
   },
   {
    "duration": 61,
    "start_time": "2023-03-22T19:00:33.420Z"
   },
   {
    "duration": 21,
    "start_time": "2023-03-22T19:00:33.483Z"
   },
   {
    "duration": 60,
    "start_time": "2023-03-22T19:00:33.506Z"
   },
   {
    "duration": 26,
    "start_time": "2023-03-22T19:00:33.569Z"
   },
   {
    "duration": 57,
    "start_time": "2023-03-22T19:00:33.600Z"
   },
   {
    "duration": 17,
    "start_time": "2023-03-22T19:00:33.659Z"
   },
   {
    "duration": 27,
    "start_time": "2023-03-22T19:00:33.677Z"
   },
   {
    "duration": 86,
    "start_time": "2023-03-22T19:00:33.706Z"
   },
   {
    "duration": 71,
    "start_time": "2023-03-22T19:00:33.794Z"
   },
   {
    "duration": 357,
    "start_time": "2023-03-22T19:00:33.867Z"
   },
   {
    "duration": 246,
    "start_time": "2023-03-22T19:00:34.226Z"
   },
   {
    "duration": 276,
    "start_time": "2023-03-22T19:00:34.474Z"
   },
   {
    "duration": 347,
    "start_time": "2023-03-22T19:00:34.752Z"
   },
   {
    "duration": 1479,
    "start_time": "2023-03-23T13:30:53.678Z"
   },
   {
    "duration": 244,
    "start_time": "2023-03-23T13:30:55.159Z"
   },
   {
    "duration": 16,
    "start_time": "2023-03-23T13:30:55.405Z"
   },
   {
    "duration": 14,
    "start_time": "2023-03-23T13:30:55.422Z"
   },
   {
    "duration": 5,
    "start_time": "2023-03-23T13:30:55.440Z"
   },
   {
    "duration": 23,
    "start_time": "2023-03-23T13:30:55.447Z"
   },
   {
    "duration": 12,
    "start_time": "2023-03-23T13:30:55.472Z"
   },
   {
    "duration": 22,
    "start_time": "2023-03-23T13:30:55.491Z"
   },
   {
    "duration": 7,
    "start_time": "2023-03-23T13:30:55.515Z"
   },
   {
    "duration": 8,
    "start_time": "2023-03-23T13:30:55.524Z"
   },
   {
    "duration": 10,
    "start_time": "2023-03-23T13:30:55.534Z"
   },
   {
    "duration": 8,
    "start_time": "2023-03-23T13:30:55.546Z"
   },
   {
    "duration": 6,
    "start_time": "2023-03-23T13:30:55.556Z"
   },
   {
    "duration": 9,
    "start_time": "2023-03-23T13:30:55.588Z"
   },
   {
    "duration": 20,
    "start_time": "2023-03-23T13:30:55.599Z"
   },
   {
    "duration": 12,
    "start_time": "2023-03-23T13:30:55.621Z"
   },
   {
    "duration": 20,
    "start_time": "2023-03-23T13:30:55.635Z"
   },
   {
    "duration": 14,
    "start_time": "2023-03-23T13:30:55.657Z"
   },
   {
    "duration": 19,
    "start_time": "2023-03-23T13:30:55.688Z"
   },
   {
    "duration": 333,
    "start_time": "2023-03-23T13:30:55.708Z"
   },
   {
    "duration": 309,
    "start_time": "2023-03-23T13:30:56.043Z"
   },
   {
    "duration": 230,
    "start_time": "2023-03-23T13:30:56.354Z"
   },
   {
    "duration": 374,
    "start_time": "2023-03-23T13:30:56.589Z"
   },
   {
    "duration": 843,
    "start_time": "2023-03-23T14:01:41.232Z"
   },
   {
    "duration": 3,
    "start_time": "2023-03-23T15:05:46.853Z"
   },
   {
    "duration": 90,
    "start_time": "2023-03-23T15:05:46.858Z"
   },
   {
    "duration": 8,
    "start_time": "2023-03-23T15:05:46.950Z"
   },
   {
    "duration": 13,
    "start_time": "2023-03-23T15:05:46.959Z"
   },
   {
    "duration": 14,
    "start_time": "2023-03-23T15:05:46.974Z"
   },
   {
    "duration": 12,
    "start_time": "2023-03-23T15:05:46.990Z"
   },
   {
    "duration": 15,
    "start_time": "2023-03-23T15:05:47.004Z"
   },
   {
    "duration": 13,
    "start_time": "2023-03-23T15:05:47.021Z"
   },
   {
    "duration": 8,
    "start_time": "2023-03-23T15:05:47.036Z"
   },
   {
    "duration": 8,
    "start_time": "2023-03-23T15:05:47.046Z"
   },
   {
    "duration": 43,
    "start_time": "2023-03-23T15:05:47.055Z"
   },
   {
    "duration": 7,
    "start_time": "2023-03-23T15:05:47.100Z"
   },
   {
    "duration": 10,
    "start_time": "2023-03-23T15:05:47.109Z"
   },
   {
    "duration": 8,
    "start_time": "2023-03-23T15:05:47.122Z"
   },
   {
    "duration": 25,
    "start_time": "2023-03-23T15:05:47.132Z"
   },
   {
    "duration": 42,
    "start_time": "2023-03-23T15:05:47.159Z"
   },
   {
    "duration": 11,
    "start_time": "2023-03-23T15:05:47.204Z"
   },
   {
    "duration": 14,
    "start_time": "2023-03-23T15:05:47.217Z"
   },
   {
    "duration": 25,
    "start_time": "2023-03-23T15:05:47.233Z"
   },
   {
    "duration": 332,
    "start_time": "2023-03-23T15:05:47.260Z"
   },
   {
    "duration": 228,
    "start_time": "2023-03-23T15:05:47.594Z"
   },
   {
    "duration": 229,
    "start_time": "2023-03-23T15:05:47.824Z"
   },
   {
    "duration": 339,
    "start_time": "2023-03-23T15:05:48.054Z"
   },
   {
    "duration": 9,
    "start_time": "2023-03-23T15:05:48.395Z"
   },
   {
    "duration": 796,
    "start_time": "2023-03-23T15:05:48.405Z"
   },
   {
    "duration": 10,
    "start_time": "2023-03-23T15:11:00.007Z"
   },
   {
    "duration": 37,
    "start_time": "2023-03-23T15:13:50.140Z"
   },
   {
    "duration": 21,
    "start_time": "2023-03-23T15:14:31.739Z"
   },
   {
    "duration": 23,
    "start_time": "2023-03-23T15:15:04.624Z"
   },
   {
    "duration": 1310,
    "start_time": "2023-03-23T18:18:01.964Z"
   },
   {
    "duration": 223,
    "start_time": "2023-03-23T18:18:03.276Z"
   },
   {
    "duration": 11,
    "start_time": "2023-03-23T18:18:03.500Z"
   },
   {
    "duration": 13,
    "start_time": "2023-03-23T18:18:03.514Z"
   },
   {
    "duration": 11,
    "start_time": "2023-03-23T18:18:03.529Z"
   },
   {
    "duration": 14,
    "start_time": "2023-03-23T18:18:03.541Z"
   },
   {
    "duration": 8,
    "start_time": "2023-03-23T18:18:03.556Z"
   },
   {
    "duration": 12,
    "start_time": "2023-03-23T18:18:03.566Z"
   },
   {
    "duration": 27,
    "start_time": "2023-03-23T18:18:03.579Z"
   },
   {
    "duration": 7,
    "start_time": "2023-03-23T18:18:03.608Z"
   },
   {
    "duration": 9,
    "start_time": "2023-03-23T18:18:03.617Z"
   },
   {
    "duration": 10,
    "start_time": "2023-03-23T18:18:03.627Z"
   },
   {
    "duration": 10,
    "start_time": "2023-03-23T18:18:03.638Z"
   },
   {
    "duration": 18,
    "start_time": "2023-03-23T18:18:03.649Z"
   },
   {
    "duration": 21,
    "start_time": "2023-03-23T18:18:03.669Z"
   },
   {
    "duration": 33,
    "start_time": "2023-03-23T18:18:03.691Z"
   },
   {
    "duration": 11,
    "start_time": "2023-03-23T18:18:03.726Z"
   },
   {
    "duration": 13,
    "start_time": "2023-03-23T18:18:03.739Z"
   },
   {
    "duration": 13,
    "start_time": "2023-03-23T18:18:03.753Z"
   },
   {
    "duration": 276,
    "start_time": "2023-03-23T18:18:03.767Z"
   },
   {
    "duration": 269,
    "start_time": "2023-03-23T18:18:04.044Z"
   },
   {
    "duration": 185,
    "start_time": "2023-03-23T18:18:04.314Z"
   },
   {
    "duration": 337,
    "start_time": "2023-03-23T18:18:04.501Z"
   },
   {
    "duration": 7,
    "start_time": "2023-03-23T18:18:04.839Z"
   },
   {
    "duration": 128,
    "start_time": "2023-03-23T18:18:04.847Z"
   },
   {
    "duration": 18,
    "start_time": "2023-03-23T18:18:30.513Z"
   },
   {
    "duration": 672,
    "start_time": "2023-03-23T18:21:27.622Z"
   },
   {
    "duration": 194,
    "start_time": "2023-03-23T18:26:05.966Z"
   },
   {
    "duration": 362,
    "start_time": "2023-03-23T18:43:03.777Z"
   },
   {
    "duration": 342,
    "start_time": "2023-03-23T18:44:03.194Z"
   },
   {
    "duration": 324,
    "start_time": "2023-03-23T18:44:10.679Z"
   },
   {
    "duration": 1508,
    "start_time": "2023-03-24T05:23:30.389Z"
   },
   {
    "duration": 239,
    "start_time": "2023-03-24T05:23:31.899Z"
   },
   {
    "duration": 12,
    "start_time": "2023-03-24T05:23:32.140Z"
   },
   {
    "duration": 42,
    "start_time": "2023-03-24T05:23:32.156Z"
   },
   {
    "duration": 28,
    "start_time": "2023-03-24T05:23:32.201Z"
   },
   {
    "duration": 29,
    "start_time": "2023-03-24T05:23:32.231Z"
   },
   {
    "duration": 35,
    "start_time": "2023-03-24T05:23:32.264Z"
   },
   {
    "duration": 31,
    "start_time": "2023-03-24T05:23:32.300Z"
   },
   {
    "duration": 8,
    "start_time": "2023-03-24T05:23:32.332Z"
   },
   {
    "duration": 40,
    "start_time": "2023-03-24T05:23:32.343Z"
   },
   {
    "duration": 42,
    "start_time": "2023-03-24T05:23:32.386Z"
   },
   {
    "duration": 23,
    "start_time": "2023-03-24T05:23:32.431Z"
   },
   {
    "duration": 11,
    "start_time": "2023-03-24T05:23:32.456Z"
   },
   {
    "duration": 21,
    "start_time": "2023-03-24T05:23:32.469Z"
   },
   {
    "duration": 26,
    "start_time": "2023-03-24T05:23:32.492Z"
   },
   {
    "duration": 40,
    "start_time": "2023-03-24T05:23:32.520Z"
   },
   {
    "duration": 27,
    "start_time": "2023-03-24T05:23:32.562Z"
   },
   {
    "duration": 19,
    "start_time": "2023-03-24T05:23:32.591Z"
   },
   {
    "duration": 20,
    "start_time": "2023-03-24T05:23:32.612Z"
   },
   {
    "duration": 362,
    "start_time": "2023-03-24T05:23:32.634Z"
   },
   {
    "duration": 327,
    "start_time": "2023-03-24T05:23:32.998Z"
   },
   {
    "duration": 263,
    "start_time": "2023-03-24T05:23:33.327Z"
   },
   {
    "duration": 434,
    "start_time": "2023-03-24T05:23:33.592Z"
   },
   {
    "duration": 309,
    "start_time": "2023-03-24T05:23:34.028Z"
   },
   {
    "duration": 394,
    "start_time": "2023-03-24T05:23:34.340Z"
   },
   {
    "duration": 40,
    "start_time": "2023-03-24T05:23:34.735Z"
   },
   {
    "duration": 298,
    "start_time": "2023-03-24T05:23:52.302Z"
   },
   {
    "duration": 5,
    "start_time": "2023-03-24T05:58:01.039Z"
   },
   {
    "duration": 94,
    "start_time": "2023-03-24T05:58:01.047Z"
   },
   {
    "duration": 9,
    "start_time": "2023-03-24T05:58:01.142Z"
   },
   {
    "duration": 29,
    "start_time": "2023-03-24T05:58:01.154Z"
   },
   {
    "duration": 26,
    "start_time": "2023-03-24T05:58:01.185Z"
   },
   {
    "duration": 37,
    "start_time": "2023-03-24T05:58:01.214Z"
   },
   {
    "duration": 38,
    "start_time": "2023-03-24T05:58:01.252Z"
   },
   {
    "duration": 53,
    "start_time": "2023-03-24T05:58:01.292Z"
   },
   {
    "duration": 46,
    "start_time": "2023-03-24T05:58:01.348Z"
   },
   {
    "duration": 47,
    "start_time": "2023-03-24T05:58:01.396Z"
   },
   {
    "duration": 30,
    "start_time": "2023-03-24T05:58:01.445Z"
   },
   {
    "duration": 11,
    "start_time": "2023-03-24T05:58:01.479Z"
   },
   {
    "duration": 86,
    "start_time": "2023-03-24T05:58:01.492Z"
   },
   {
    "duration": 46,
    "start_time": "2023-03-24T05:58:01.580Z"
   },
   {
    "duration": 56,
    "start_time": "2023-03-24T05:58:01.628Z"
   },
   {
    "duration": 71,
    "start_time": "2023-03-24T05:58:01.688Z"
   },
   {
    "duration": 32,
    "start_time": "2023-03-24T05:58:01.761Z"
   },
   {
    "duration": 21,
    "start_time": "2023-03-24T05:58:01.795Z"
   },
   {
    "duration": 34,
    "start_time": "2023-03-24T05:58:01.818Z"
   },
   {
    "duration": 357,
    "start_time": "2023-03-24T05:58:01.854Z"
   },
   {
    "duration": 236,
    "start_time": "2023-03-24T05:58:02.213Z"
   },
   {
    "duration": 358,
    "start_time": "2023-03-24T05:58:02.451Z"
   },
   {
    "duration": 313,
    "start_time": "2023-03-24T05:58:02.811Z"
   },
   {
    "duration": 248,
    "start_time": "2023-03-24T05:58:03.126Z"
   },
   {
    "duration": 337,
    "start_time": "2023-03-24T05:58:03.380Z"
   },
   {
    "duration": 223,
    "start_time": "2023-03-24T05:58:03.719Z"
   },
   {
    "duration": 3,
    "start_time": "2023-03-24T06:16:56.790Z"
   },
   {
    "duration": 87,
    "start_time": "2023-03-24T06:16:56.795Z"
   },
   {
    "duration": 9,
    "start_time": "2023-03-24T06:16:56.884Z"
   },
   {
    "duration": 12,
    "start_time": "2023-03-24T06:16:56.896Z"
   },
   {
    "duration": 10,
    "start_time": "2023-03-24T06:16:56.910Z"
   },
   {
    "duration": 10,
    "start_time": "2023-03-24T06:16:56.922Z"
   },
   {
    "duration": 29,
    "start_time": "2023-03-24T06:16:56.934Z"
   },
   {
    "duration": 13,
    "start_time": "2023-03-24T06:16:56.966Z"
   },
   {
    "duration": 9,
    "start_time": "2023-03-24T06:16:56.981Z"
   },
   {
    "duration": 8,
    "start_time": "2023-03-24T06:16:56.992Z"
   },
   {
    "duration": 11,
    "start_time": "2023-03-24T06:16:57.002Z"
   },
   {
    "duration": 4,
    "start_time": "2023-03-24T06:16:57.015Z"
   },
   {
    "duration": 7,
    "start_time": "2023-03-24T06:16:57.061Z"
   },
   {
    "duration": 7,
    "start_time": "2023-03-24T06:16:57.070Z"
   },
   {
    "duration": 13,
    "start_time": "2023-03-24T06:16:57.079Z"
   },
   {
    "duration": 14,
    "start_time": "2023-03-24T06:16:57.094Z"
   },
   {
    "duration": 52,
    "start_time": "2023-03-24T06:16:57.110Z"
   },
   {
    "duration": 20,
    "start_time": "2023-03-24T06:16:57.164Z"
   },
   {
    "duration": 21,
    "start_time": "2023-03-24T06:16:57.186Z"
   },
   {
    "duration": 363,
    "start_time": "2023-03-24T06:16:57.209Z"
   },
   {
    "duration": 230,
    "start_time": "2023-03-24T06:16:57.573Z"
   },
   {
    "duration": 237,
    "start_time": "2023-03-24T06:16:57.805Z"
   },
   {
    "duration": 355,
    "start_time": "2023-03-24T06:16:58.044Z"
   },
   {
    "duration": 266,
    "start_time": "2023-03-24T06:16:58.401Z"
   },
   {
    "duration": 324,
    "start_time": "2023-03-24T06:16:58.669Z"
   },
   {
    "duration": 382,
    "start_time": "2023-03-24T06:16:58.995Z"
   },
   {
    "duration": 405,
    "start_time": "2023-03-24T06:17:10.974Z"
   },
   {
    "duration": 5,
    "start_time": "2023-03-24T06:38:54.217Z"
   },
   {
    "duration": 171,
    "start_time": "2023-03-24T06:43:54.084Z"
   },
   {
    "duration": 13,
    "start_time": "2023-03-24T06:45:14.022Z"
   },
   {
    "duration": 153,
    "start_time": "2023-03-24T06:50:14.765Z"
   },
   {
    "duration": 6,
    "start_time": "2023-03-24T06:54:02.000Z"
   },
   {
    "duration": 195,
    "start_time": "2023-03-24T07:04:46.371Z"
   },
   {
    "duration": 18,
    "start_time": "2023-03-24T07:07:54.757Z"
   },
   {
    "duration": 366,
    "start_time": "2023-03-24T07:08:26.017Z"
   },
   {
    "duration": 433,
    "start_time": "2023-03-24T07:09:03.810Z"
   },
   {
    "duration": 6,
    "start_time": "2023-03-24T07:22:54.181Z"
   },
   {
    "duration": 58,
    "start_time": "2023-03-24T07:24:25.174Z"
   },
   {
    "duration": 57,
    "start_time": "2023-03-24T07:24:49.758Z"
   },
   {
    "duration": 70,
    "start_time": "2023-03-24T07:25:03.183Z"
   },
   {
    "duration": 16,
    "start_time": "2023-03-24T07:26:05.833Z"
   },
   {
    "duration": 14,
    "start_time": "2023-03-24T07:26:26.595Z"
   },
   {
    "duration": 12,
    "start_time": "2023-03-24T07:52:08.779Z"
   },
   {
    "duration": 52,
    "start_time": "2023-03-24T07:52:22.816Z"
   },
   {
    "duration": 14,
    "start_time": "2023-03-24T07:52:35.501Z"
   },
   {
    "duration": 14,
    "start_time": "2023-03-24T07:52:45.913Z"
   },
   {
    "duration": 10,
    "start_time": "2023-03-24T07:54:10.883Z"
   },
   {
    "duration": 1071,
    "start_time": "2023-03-24T07:56:55.685Z"
   },
   {
    "duration": 8,
    "start_time": "2023-03-24T07:58:20.590Z"
   },
   {
    "duration": 29,
    "start_time": "2023-03-24T08:00:03.126Z"
   },
   {
    "duration": 45,
    "start_time": "2023-03-24T08:00:20.489Z"
   },
   {
    "duration": 1419,
    "start_time": "2023-03-24T10:32:49.530Z"
   },
   {
    "duration": 299,
    "start_time": "2023-03-24T10:32:50.951Z"
   },
   {
    "duration": 17,
    "start_time": "2023-03-24T10:32:51.252Z"
   },
   {
    "duration": 15,
    "start_time": "2023-03-24T10:32:51.271Z"
   },
   {
    "duration": 6,
    "start_time": "2023-03-24T10:32:51.289Z"
   },
   {
    "duration": 18,
    "start_time": "2023-03-24T10:32:51.297Z"
   },
   {
    "duration": 34,
    "start_time": "2023-03-24T10:32:51.317Z"
   },
   {
    "duration": 29,
    "start_time": "2023-03-24T10:32:51.353Z"
   },
   {
    "duration": 9,
    "start_time": "2023-03-24T10:32:51.384Z"
   },
   {
    "duration": 20,
    "start_time": "2023-03-24T10:32:51.395Z"
   },
   {
    "duration": 19,
    "start_time": "2023-03-24T10:32:51.417Z"
   },
   {
    "duration": 5,
    "start_time": "2023-03-24T10:32:51.438Z"
   },
   {
    "duration": 17,
    "start_time": "2023-03-24T10:32:51.445Z"
   },
   {
    "duration": 11,
    "start_time": "2023-03-24T10:32:51.465Z"
   },
   {
    "duration": 16,
    "start_time": "2023-03-24T10:32:51.481Z"
   },
   {
    "duration": 17,
    "start_time": "2023-03-24T10:32:51.499Z"
   },
   {
    "duration": 26,
    "start_time": "2023-03-24T10:32:51.517Z"
   },
   {
    "duration": 24,
    "start_time": "2023-03-24T10:32:51.545Z"
   },
   {
    "duration": 30,
    "start_time": "2023-03-24T10:32:51.571Z"
   },
   {
    "duration": 334,
    "start_time": "2023-03-24T10:32:51.604Z"
   },
   {
    "duration": 346,
    "start_time": "2023-03-24T10:32:51.940Z"
   },
   {
    "duration": 229,
    "start_time": "2023-03-24T10:32:52.288Z"
   },
   {
    "duration": 408,
    "start_time": "2023-03-24T10:32:52.519Z"
   },
   {
    "duration": 259,
    "start_time": "2023-03-24T10:32:52.929Z"
   },
   {
    "duration": 365,
    "start_time": "2023-03-24T10:32:53.194Z"
   },
   {
    "duration": 341,
    "start_time": "2023-03-24T10:32:53.567Z"
   },
   {
    "duration": 5,
    "start_time": "2023-03-24T10:32:53.910Z"
   },
   {
    "duration": 255,
    "start_time": "2023-03-24T10:32:53.918Z"
   },
   {
    "duration": 19,
    "start_time": "2023-03-24T10:32:54.175Z"
   },
   {
    "duration": 217,
    "start_time": "2023-03-24T10:32:54.196Z"
   },
   {
    "duration": 5,
    "start_time": "2023-03-24T10:32:54.415Z"
   },
   {
    "duration": 1061,
    "start_time": "2023-03-24T10:32:54.422Z"
   },
   {
    "duration": 73,
    "start_time": "2023-03-24T10:32:55.493Z"
   },
   {
    "duration": 12,
    "start_time": "2023-03-24T10:32:55.568Z"
   },
   {
    "duration": 95,
    "start_time": "2023-03-24T10:32:55.583Z"
   },
   {
    "duration": 15,
    "start_time": "2023-03-24T10:37:31.142Z"
   },
   {
    "duration": 18,
    "start_time": "2023-03-24T10:37:44.353Z"
   },
   {
    "duration": 3,
    "start_time": "2023-03-24T11:02:25.219Z"
   },
   {
    "duration": 99,
    "start_time": "2023-03-24T11:02:25.224Z"
   },
   {
    "duration": 9,
    "start_time": "2023-03-24T11:02:25.324Z"
   },
   {
    "duration": 24,
    "start_time": "2023-03-24T11:02:25.334Z"
   },
   {
    "duration": 18,
    "start_time": "2023-03-24T11:02:25.360Z"
   },
   {
    "duration": 10,
    "start_time": "2023-03-24T11:02:25.380Z"
   },
   {
    "duration": 13,
    "start_time": "2023-03-24T11:02:25.392Z"
   },
   {
    "duration": 17,
    "start_time": "2023-03-24T11:02:25.408Z"
   },
   {
    "duration": 10,
    "start_time": "2023-03-24T11:02:25.427Z"
   },
   {
    "duration": 28,
    "start_time": "2023-03-24T11:02:25.439Z"
   },
   {
    "duration": 14,
    "start_time": "2023-03-24T11:02:25.470Z"
   },
   {
    "duration": 6,
    "start_time": "2023-03-24T11:02:25.485Z"
   },
   {
    "duration": 9,
    "start_time": "2023-03-24T11:02:25.493Z"
   },
   {
    "duration": 13,
    "start_time": "2023-03-24T11:02:25.504Z"
   },
   {
    "duration": 33,
    "start_time": "2023-03-24T11:02:25.518Z"
   },
   {
    "duration": 24,
    "start_time": "2023-03-24T11:02:25.553Z"
   },
   {
    "duration": 14,
    "start_time": "2023-03-24T11:02:25.579Z"
   },
   {
    "duration": 16,
    "start_time": "2023-03-24T11:02:25.595Z"
   },
   {
    "duration": 62,
    "start_time": "2023-03-24T11:02:25.613Z"
   },
   {
    "duration": 334,
    "start_time": "2023-03-24T11:02:25.677Z"
   },
   {
    "duration": 229,
    "start_time": "2023-03-24T11:02:26.013Z"
   },
   {
    "duration": 239,
    "start_time": "2023-03-24T11:02:26.244Z"
   },
   {
    "duration": 316,
    "start_time": "2023-03-24T11:02:26.485Z"
   },
   {
    "duration": 232,
    "start_time": "2023-03-24T11:02:26.803Z"
   },
   {
    "duration": 388,
    "start_time": "2023-03-24T11:02:27.037Z"
   },
   {
    "duration": 304,
    "start_time": "2023-03-24T11:02:27.427Z"
   },
   {
    "duration": 5,
    "start_time": "2023-03-24T11:02:27.732Z"
   },
   {
    "duration": 171,
    "start_time": "2023-03-24T11:02:27.739Z"
   },
   {
    "duration": 11,
    "start_time": "2023-03-24T11:02:27.914Z"
   },
   {
    "duration": 184,
    "start_time": "2023-03-24T11:02:27.927Z"
   },
   {
    "duration": 5,
    "start_time": "2023-03-24T11:02:28.113Z"
   },
   {
    "duration": 378,
    "start_time": "2023-03-24T11:02:28.120Z"
   },
   {
    "duration": 14,
    "start_time": "2023-03-24T11:02:28.499Z"
   },
   {
    "duration": 11,
    "start_time": "2023-03-24T11:02:28.515Z"
   },
   {
    "duration": 66,
    "start_time": "2023-03-24T11:02:28.527Z"
   },
   {
    "duration": 18,
    "start_time": "2023-03-24T11:02:28.595Z"
   },
   {
    "duration": 1074,
    "start_time": "2023-03-24T11:22:48.848Z"
   },
   {
    "duration": 73,
    "start_time": "2023-03-24T11:22:49.924Z"
   },
   {
    "duration": 10,
    "start_time": "2023-03-24T11:22:49.999Z"
   },
   {
    "duration": 28,
    "start_time": "2023-03-24T11:22:50.011Z"
   },
   {
    "duration": 12,
    "start_time": "2023-03-24T11:22:50.041Z"
   },
   {
    "duration": 12,
    "start_time": "2023-03-24T11:22:50.055Z"
   },
   {
    "duration": 14,
    "start_time": "2023-03-24T11:22:50.069Z"
   },
   {
    "duration": 19,
    "start_time": "2023-03-24T11:22:50.084Z"
   },
   {
    "duration": 13,
    "start_time": "2023-03-24T11:22:50.104Z"
   },
   {
    "duration": 9,
    "start_time": "2023-03-24T11:22:50.118Z"
   },
   {
    "duration": 18,
    "start_time": "2023-03-24T11:22:50.128Z"
   },
   {
    "duration": 4,
    "start_time": "2023-03-24T11:22:50.147Z"
   },
   {
    "duration": 6,
    "start_time": "2023-03-24T11:22:50.152Z"
   },
   {
    "duration": 7,
    "start_time": "2023-03-24T11:22:50.161Z"
   },
   {
    "duration": 9,
    "start_time": "2023-03-24T11:22:50.169Z"
   },
   {
    "duration": 9,
    "start_time": "2023-03-24T11:22:50.179Z"
   },
   {
    "duration": 16,
    "start_time": "2023-03-24T11:22:50.189Z"
   },
   {
    "duration": 35,
    "start_time": "2023-03-24T11:22:50.206Z"
   },
   {
    "duration": 16,
    "start_time": "2023-03-24T11:22:50.242Z"
   },
   {
    "duration": 293,
    "start_time": "2023-03-24T11:22:50.259Z"
   },
   {
    "duration": 273,
    "start_time": "2023-03-24T11:22:50.554Z"
   },
   {
    "duration": 198,
    "start_time": "2023-03-24T11:22:50.828Z"
   },
   {
    "duration": 321,
    "start_time": "2023-03-24T11:22:51.028Z"
   },
   {
    "duration": 196,
    "start_time": "2023-03-24T11:22:51.350Z"
   },
   {
    "duration": 303,
    "start_time": "2023-03-24T11:22:51.547Z"
   },
   {
    "duration": 280,
    "start_time": "2023-03-24T11:22:51.852Z"
   },
   {
    "duration": 4,
    "start_time": "2023-03-24T11:22:52.139Z"
   },
   {
    "duration": 141,
    "start_time": "2023-03-24T11:22:52.145Z"
   },
   {
    "duration": 9,
    "start_time": "2023-03-24T11:22:52.287Z"
   },
   {
    "duration": 157,
    "start_time": "2023-03-24T11:22:52.297Z"
   },
   {
    "duration": 4,
    "start_time": "2023-03-24T11:22:52.455Z"
   },
   {
    "duration": 402,
    "start_time": "2023-03-24T11:22:52.461Z"
   },
   {
    "duration": 11,
    "start_time": "2023-03-24T11:22:52.865Z"
   },
   {
    "duration": 9,
    "start_time": "2023-03-24T11:22:52.877Z"
   },
   {
    "duration": 24,
    "start_time": "2023-03-24T11:22:52.887Z"
   },
   {
    "duration": 36,
    "start_time": "2023-03-24T11:22:52.912Z"
   },
   {
    "duration": 3,
    "start_time": "2023-03-24T12:03:52.994Z"
   },
   {
    "duration": 94,
    "start_time": "2023-03-24T12:03:53.000Z"
   },
   {
    "duration": 8,
    "start_time": "2023-03-24T12:03:53.096Z"
   },
   {
    "duration": 11,
    "start_time": "2023-03-24T12:03:53.106Z"
   },
   {
    "duration": 6,
    "start_time": "2023-03-24T12:03:53.120Z"
   },
   {
    "duration": 11,
    "start_time": "2023-03-24T12:03:53.128Z"
   },
   {
    "duration": 16,
    "start_time": "2023-03-24T12:03:53.141Z"
   },
   {
    "duration": 12,
    "start_time": "2023-03-24T12:03:53.162Z"
   },
   {
    "duration": 7,
    "start_time": "2023-03-24T12:03:53.176Z"
   },
   {
    "duration": 11,
    "start_time": "2023-03-24T12:03:53.185Z"
   },
   {
    "duration": 14,
    "start_time": "2023-03-24T12:03:53.198Z"
   },
   {
    "duration": 6,
    "start_time": "2023-03-24T12:03:53.214Z"
   },
   {
    "duration": 8,
    "start_time": "2023-03-24T12:03:53.222Z"
   },
   {
    "duration": 36,
    "start_time": "2023-03-24T12:03:53.231Z"
   },
   {
    "duration": 14,
    "start_time": "2023-03-24T12:03:53.268Z"
   },
   {
    "duration": 10,
    "start_time": "2023-03-24T12:03:53.284Z"
   },
   {
    "duration": 12,
    "start_time": "2023-03-24T12:03:53.296Z"
   },
   {
    "duration": 13,
    "start_time": "2023-03-24T12:03:53.309Z"
   },
   {
    "duration": 45,
    "start_time": "2023-03-24T12:03:53.323Z"
   },
   {
    "duration": 309,
    "start_time": "2023-03-24T12:03:53.369Z"
   },
   {
    "duration": 217,
    "start_time": "2023-03-24T12:03:53.679Z"
   },
   {
    "duration": 366,
    "start_time": "2023-03-24T12:03:53.898Z"
   },
   {
    "duration": 318,
    "start_time": "2023-03-24T12:03:54.266Z"
   },
   {
    "duration": 226,
    "start_time": "2023-03-24T12:03:54.586Z"
   },
   {
    "duration": 327,
    "start_time": "2023-03-24T12:03:54.814Z"
   },
   {
    "duration": 623,
    "start_time": "2023-03-24T12:03:55.142Z"
   },
   {
    "duration": 5,
    "start_time": "2023-03-24T12:03:55.767Z"
   },
   {
    "duration": 314,
    "start_time": "2023-03-24T12:03:55.773Z"
   },
   {
    "duration": 10,
    "start_time": "2023-03-24T12:03:56.090Z"
   },
   {
    "duration": 366,
    "start_time": "2023-03-24T12:03:56.102Z"
   },
   {
    "duration": 5,
    "start_time": "2023-03-24T12:03:56.469Z"
   },
   {
    "duration": 796,
    "start_time": "2023-03-24T12:03:56.476Z"
   },
   {
    "duration": 19,
    "start_time": "2023-03-24T12:03:57.274Z"
   },
   {
    "duration": 13,
    "start_time": "2023-03-24T12:03:57.295Z"
   },
   {
    "duration": 77,
    "start_time": "2023-03-24T12:03:57.310Z"
   },
   {
    "duration": 16,
    "start_time": "2023-03-24T12:03:57.389Z"
   },
   {
    "duration": 14,
    "start_time": "2023-03-24T12:07:39.527Z"
   },
   {
    "duration": 14,
    "start_time": "2023-03-24T12:14:16.131Z"
   },
   {
    "duration": 10,
    "start_time": "2023-03-24T12:17:46.733Z"
   },
   {
    "duration": 11,
    "start_time": "2023-03-24T12:18:43.805Z"
   },
   {
    "duration": 5,
    "start_time": "2023-03-24T13:29:26.358Z"
   },
   {
    "duration": 81,
    "start_time": "2023-03-24T13:29:26.368Z"
   },
   {
    "duration": 13,
    "start_time": "2023-03-24T13:29:26.451Z"
   },
   {
    "duration": 13,
    "start_time": "2023-03-24T13:29:26.467Z"
   },
   {
    "duration": 14,
    "start_time": "2023-03-24T13:29:26.481Z"
   },
   {
    "duration": 8,
    "start_time": "2023-03-24T13:29:26.497Z"
   },
   {
    "duration": 18,
    "start_time": "2023-03-24T13:29:26.507Z"
   },
   {
    "duration": 29,
    "start_time": "2023-03-24T13:29:26.527Z"
   },
   {
    "duration": 20,
    "start_time": "2023-03-24T13:29:26.568Z"
   },
   {
    "duration": 8,
    "start_time": "2023-03-24T13:29:26.590Z"
   },
   {
    "duration": 9,
    "start_time": "2023-03-24T13:29:26.601Z"
   },
   {
    "duration": 16,
    "start_time": "2023-03-24T13:29:26.612Z"
   },
   {
    "duration": 34,
    "start_time": "2023-03-24T13:29:26.630Z"
   },
   {
    "duration": 11,
    "start_time": "2023-03-24T13:29:26.666Z"
   },
   {
    "duration": 127,
    "start_time": "2023-03-24T13:29:26.678Z"
   },
   {
    "duration": 0,
    "start_time": "2023-03-24T13:29:26.807Z"
   },
   {
    "duration": 0,
    "start_time": "2023-03-24T13:29:26.808Z"
   },
   {
    "duration": 0,
    "start_time": "2023-03-24T13:29:26.809Z"
   },
   {
    "duration": 0,
    "start_time": "2023-03-24T13:29:26.810Z"
   },
   {
    "duration": 0,
    "start_time": "2023-03-24T13:29:26.811Z"
   },
   {
    "duration": 0,
    "start_time": "2023-03-24T13:29:26.812Z"
   },
   {
    "duration": 0,
    "start_time": "2023-03-24T13:29:26.813Z"
   },
   {
    "duration": 0,
    "start_time": "2023-03-24T13:29:26.814Z"
   },
   {
    "duration": 0,
    "start_time": "2023-03-24T13:29:26.815Z"
   },
   {
    "duration": 1,
    "start_time": "2023-03-24T13:29:26.816Z"
   },
   {
    "duration": 0,
    "start_time": "2023-03-24T13:29:26.817Z"
   },
   {
    "duration": 0,
    "start_time": "2023-03-24T13:29:26.818Z"
   },
   {
    "duration": 0,
    "start_time": "2023-03-24T13:29:26.819Z"
   },
   {
    "duration": 0,
    "start_time": "2023-03-24T13:29:26.821Z"
   },
   {
    "duration": 0,
    "start_time": "2023-03-24T13:29:26.822Z"
   },
   {
    "duration": 0,
    "start_time": "2023-03-24T13:29:26.823Z"
   },
   {
    "duration": 0,
    "start_time": "2023-03-24T13:29:26.824Z"
   },
   {
    "duration": 0,
    "start_time": "2023-03-24T13:29:26.825Z"
   },
   {
    "duration": 0,
    "start_time": "2023-03-24T13:29:26.871Z"
   },
   {
    "duration": 0,
    "start_time": "2023-03-24T13:29:26.873Z"
   },
   {
    "duration": 0,
    "start_time": "2023-03-24T13:29:26.874Z"
   },
   {
    "duration": 0,
    "start_time": "2023-03-24T13:29:26.875Z"
   },
   {
    "duration": 0,
    "start_time": "2023-03-24T13:29:26.877Z"
   },
   {
    "duration": 5,
    "start_time": "2023-03-24T13:30:32.054Z"
   },
   {
    "duration": 15,
    "start_time": "2023-03-24T13:32:19.836Z"
   },
   {
    "duration": 79,
    "start_time": "2023-03-24T13:44:09.879Z"
   },
   {
    "duration": 55,
    "start_time": "2023-03-24T13:44:18.853Z"
   },
   {
    "duration": 72,
    "start_time": "2023-03-24T13:44:37.206Z"
   },
   {
    "duration": 4,
    "start_time": "2023-03-24T13:44:46.930Z"
   },
   {
    "duration": 53,
    "start_time": "2023-03-24T13:44:47.682Z"
   },
   {
    "duration": 26,
    "start_time": "2023-03-24T13:45:08.650Z"
   },
   {
    "duration": 5,
    "start_time": "2023-03-24T13:46:22.498Z"
   },
   {
    "duration": 5,
    "start_time": "2023-03-24T13:46:23.480Z"
   },
   {
    "duration": 15,
    "start_time": "2023-03-24T13:46:31.122Z"
   },
   {
    "duration": 32,
    "start_time": "2023-03-24T13:47:32.792Z"
   },
   {
    "duration": 16,
    "start_time": "2023-03-24T13:48:06.710Z"
   },
   {
    "duration": 4,
    "start_time": "2023-03-24T13:48:37.042Z"
   },
   {
    "duration": 16,
    "start_time": "2023-03-24T13:48:42.743Z"
   },
   {
    "duration": 6,
    "start_time": "2023-03-24T13:49:43.111Z"
   },
   {
    "duration": 18,
    "start_time": "2023-03-24T13:49:44.197Z"
   },
   {
    "duration": 14,
    "start_time": "2023-03-24T13:49:58.488Z"
   },
   {
    "duration": 3,
    "start_time": "2023-03-24T13:52:21.084Z"
   },
   {
    "duration": 83,
    "start_time": "2023-03-24T13:52:21.089Z"
   },
   {
    "duration": 9,
    "start_time": "2023-03-24T13:52:21.174Z"
   },
   {
    "duration": 13,
    "start_time": "2023-03-24T13:52:21.185Z"
   },
   {
    "duration": 21,
    "start_time": "2023-03-24T13:52:21.200Z"
   },
   {
    "duration": 10,
    "start_time": "2023-03-24T13:52:21.223Z"
   },
   {
    "duration": 13,
    "start_time": "2023-03-24T13:52:21.234Z"
   },
   {
    "duration": 22,
    "start_time": "2023-03-24T13:52:21.248Z"
   },
   {
    "duration": 14,
    "start_time": "2023-03-24T13:52:21.273Z"
   },
   {
    "duration": 11,
    "start_time": "2023-03-24T13:52:21.290Z"
   },
   {
    "duration": 10,
    "start_time": "2023-03-24T13:52:21.305Z"
   },
   {
    "duration": 18,
    "start_time": "2023-03-24T13:52:21.317Z"
   },
   {
    "duration": 27,
    "start_time": "2023-03-24T13:52:21.337Z"
   },
   {
    "duration": 15,
    "start_time": "2023-03-24T13:52:21.366Z"
   },
   {
    "duration": 4,
    "start_time": "2023-03-24T13:52:21.383Z"
   },
   {
    "duration": 42,
    "start_time": "2023-03-24T13:52:21.388Z"
   },
   {
    "duration": 0,
    "start_time": "2023-03-24T13:52:21.433Z"
   },
   {
    "duration": 0,
    "start_time": "2023-03-24T13:52:21.435Z"
   },
   {
    "duration": 0,
    "start_time": "2023-03-24T13:52:21.436Z"
   },
   {
    "duration": 0,
    "start_time": "2023-03-24T13:52:21.441Z"
   },
   {
    "duration": 0,
    "start_time": "2023-03-24T13:52:21.441Z"
   },
   {
    "duration": 0,
    "start_time": "2023-03-24T13:52:21.442Z"
   },
   {
    "duration": 0,
    "start_time": "2023-03-24T13:52:21.443Z"
   },
   {
    "duration": 0,
    "start_time": "2023-03-24T13:52:21.461Z"
   },
   {
    "duration": 0,
    "start_time": "2023-03-24T13:52:21.463Z"
   },
   {
    "duration": 0,
    "start_time": "2023-03-24T13:52:21.465Z"
   },
   {
    "duration": 0,
    "start_time": "2023-03-24T13:52:21.466Z"
   },
   {
    "duration": 0,
    "start_time": "2023-03-24T13:52:21.468Z"
   },
   {
    "duration": 0,
    "start_time": "2023-03-24T13:52:21.469Z"
   },
   {
    "duration": 0,
    "start_time": "2023-03-24T13:52:21.470Z"
   },
   {
    "duration": 0,
    "start_time": "2023-03-24T13:52:21.471Z"
   },
   {
    "duration": 0,
    "start_time": "2023-03-24T13:52:21.472Z"
   },
   {
    "duration": 0,
    "start_time": "2023-03-24T13:52:21.474Z"
   },
   {
    "duration": 0,
    "start_time": "2023-03-24T13:52:21.475Z"
   },
   {
    "duration": 0,
    "start_time": "2023-03-24T13:52:21.476Z"
   },
   {
    "duration": 0,
    "start_time": "2023-03-24T13:52:21.477Z"
   },
   {
    "duration": 0,
    "start_time": "2023-03-24T13:52:21.478Z"
   },
   {
    "duration": 0,
    "start_time": "2023-03-24T13:52:21.479Z"
   },
   {
    "duration": 0,
    "start_time": "2023-03-24T13:52:21.480Z"
   },
   {
    "duration": 7,
    "start_time": "2023-03-24T13:53:11.189Z"
   },
   {
    "duration": 8,
    "start_time": "2023-03-24T13:53:25.688Z"
   },
   {
    "duration": 31,
    "start_time": "2023-03-24T13:53:42.885Z"
   },
   {
    "duration": 28,
    "start_time": "2023-03-24T13:54:53.784Z"
   },
   {
    "duration": 9,
    "start_time": "2023-03-24T13:55:13.399Z"
   },
   {
    "duration": 30,
    "start_time": "2023-03-24T13:55:20.587Z"
   },
   {
    "duration": 9,
    "start_time": "2023-03-24T13:55:53.442Z"
   },
   {
    "duration": 12,
    "start_time": "2023-03-24T13:58:40.752Z"
   },
   {
    "duration": 12,
    "start_time": "2023-03-24T13:59:02.577Z"
   },
   {
    "duration": 11,
    "start_time": "2023-03-24T13:59:09.612Z"
   },
   {
    "duration": 40,
    "start_time": "2023-03-24T14:00:24.377Z"
   },
   {
    "duration": 22,
    "start_time": "2023-03-24T14:02:04.713Z"
   },
   {
    "duration": 10,
    "start_time": "2023-03-26T08:20:20.875Z"
   },
   {
    "duration": 48,
    "start_time": "2023-03-26T08:20:35.465Z"
   },
   {
    "duration": 1340,
    "start_time": "2023-03-26T08:20:44.012Z"
   },
   {
    "duration": 228,
    "start_time": "2023-03-26T08:20:45.354Z"
   },
   {
    "duration": 13,
    "start_time": "2023-03-26T08:20:45.584Z"
   },
   {
    "duration": 8,
    "start_time": "2023-03-26T08:20:45.598Z"
   },
   {
    "duration": 11,
    "start_time": "2023-03-26T08:20:45.609Z"
   },
   {
    "duration": 6,
    "start_time": "2023-03-26T08:20:45.622Z"
   },
   {
    "duration": 10,
    "start_time": "2023-03-26T08:20:45.630Z"
   },
   {
    "duration": 11,
    "start_time": "2023-03-26T08:20:45.642Z"
   },
   {
    "duration": 14,
    "start_time": "2023-03-26T08:20:45.655Z"
   },
   {
    "duration": 38,
    "start_time": "2023-03-26T08:20:45.670Z"
   },
   {
    "duration": 8,
    "start_time": "2023-03-26T08:20:45.710Z"
   },
   {
    "duration": 19,
    "start_time": "2023-03-26T08:20:45.720Z"
   },
   {
    "duration": 4,
    "start_time": "2023-03-26T08:20:45.741Z"
   },
   {
    "duration": 7,
    "start_time": "2023-03-26T08:20:45.748Z"
   },
   {
    "duration": 48,
    "start_time": "2023-03-26T08:20:45.757Z"
   },
   {
    "duration": 15,
    "start_time": "2023-03-26T08:20:45.807Z"
   },
   {
    "duration": 7,
    "start_time": "2023-03-26T08:20:45.823Z"
   },
   {
    "duration": 11,
    "start_time": "2023-03-26T08:20:45.832Z"
   },
   {
    "duration": 11,
    "start_time": "2023-03-26T08:20:45.845Z"
   },
   {
    "duration": 49,
    "start_time": "2023-03-26T08:20:45.858Z"
   },
   {
    "duration": 16,
    "start_time": "2023-03-26T08:20:45.909Z"
   },
   {
    "duration": 18,
    "start_time": "2023-03-26T08:20:45.927Z"
   },
   {
    "duration": 352,
    "start_time": "2023-03-26T08:20:45.947Z"
   },
   {
    "duration": 312,
    "start_time": "2023-03-26T08:20:46.303Z"
   },
   {
    "duration": 237,
    "start_time": "2023-03-26T08:20:46.617Z"
   },
   {
    "duration": 409,
    "start_time": "2023-03-26T08:20:46.857Z"
   },
   {
    "duration": 236,
    "start_time": "2023-03-26T08:20:47.268Z"
   },
   {
    "duration": 339,
    "start_time": "2023-03-26T08:20:47.506Z"
   },
   {
    "duration": 303,
    "start_time": "2023-03-26T08:20:47.846Z"
   },
   {
    "duration": 6,
    "start_time": "2023-03-26T08:20:48.151Z"
   },
   {
    "duration": 174,
    "start_time": "2023-03-26T08:20:48.158Z"
   },
   {
    "duration": 11,
    "start_time": "2023-03-26T08:20:48.334Z"
   },
   {
    "duration": 183,
    "start_time": "2023-03-26T08:20:48.346Z"
   },
   {
    "duration": 5,
    "start_time": "2023-03-26T08:20:48.531Z"
   },
   {
    "duration": 510,
    "start_time": "2023-03-26T08:20:48.537Z"
   },
   {
    "duration": 15,
    "start_time": "2023-03-26T08:20:49.049Z"
   },
   {
    "duration": 12,
    "start_time": "2023-03-26T08:20:49.066Z"
   },
   {
    "duration": 62,
    "start_time": "2023-03-26T08:20:49.080Z"
   },
   {
    "duration": 15,
    "start_time": "2023-03-26T08:20:49.143Z"
   },
   {
    "duration": 4,
    "start_time": "2023-03-26T08:21:48.478Z"
   },
   {
    "duration": 13,
    "start_time": "2023-03-26T08:21:56.173Z"
   },
   {
    "duration": 19,
    "start_time": "2023-03-26T08:22:32.496Z"
   },
   {
    "duration": 14,
    "start_time": "2023-03-26T08:23:27.912Z"
   },
   {
    "duration": 21,
    "start_time": "2023-03-26T08:24:18.213Z"
   },
   {
    "duration": 4,
    "start_time": "2023-03-26T08:24:51.219Z"
   },
   {
    "duration": 76,
    "start_time": "2023-03-26T08:24:51.225Z"
   },
   {
    "duration": 8,
    "start_time": "2023-03-26T08:24:51.302Z"
   },
   {
    "duration": 14,
    "start_time": "2023-03-26T08:24:51.312Z"
   },
   {
    "duration": 13,
    "start_time": "2023-03-26T08:24:51.329Z"
   },
   {
    "duration": 8,
    "start_time": "2023-03-26T08:24:51.344Z"
   },
   {
    "duration": 18,
    "start_time": "2023-03-26T08:24:51.353Z"
   },
   {
    "duration": 11,
    "start_time": "2023-03-26T08:24:51.373Z"
   },
   {
    "duration": 24,
    "start_time": "2023-03-26T08:24:51.386Z"
   },
   {
    "duration": 17,
    "start_time": "2023-03-26T08:24:51.411Z"
   },
   {
    "duration": 29,
    "start_time": "2023-03-26T08:24:51.429Z"
   },
   {
    "duration": 13,
    "start_time": "2023-03-26T08:24:51.460Z"
   },
   {
    "duration": 10,
    "start_time": "2023-03-26T08:24:51.475Z"
   },
   {
    "duration": 8,
    "start_time": "2023-03-26T08:24:51.488Z"
   },
   {
    "duration": 41,
    "start_time": "2023-03-26T08:24:51.497Z"
   },
   {
    "duration": 16,
    "start_time": "2023-03-26T08:24:51.540Z"
   },
   {
    "duration": 5,
    "start_time": "2023-03-26T08:24:51.558Z"
   },
   {
    "duration": 17,
    "start_time": "2023-03-26T08:24:51.564Z"
   },
   {
    "duration": 11,
    "start_time": "2023-03-26T08:24:51.583Z"
   },
   {
    "duration": 14,
    "start_time": "2023-03-26T08:24:51.596Z"
   },
   {
    "duration": 14,
    "start_time": "2023-03-26T08:24:51.612Z"
   },
   {
    "duration": 21,
    "start_time": "2023-03-26T08:24:51.627Z"
   },
   {
    "duration": 394,
    "start_time": "2023-03-26T08:24:51.649Z"
   },
   {
    "duration": 218,
    "start_time": "2023-03-26T08:24:52.045Z"
   },
   {
    "duration": 225,
    "start_time": "2023-03-26T08:24:52.265Z"
   },
   {
    "duration": 329,
    "start_time": "2023-03-26T08:24:52.493Z"
   },
   {
    "duration": 218,
    "start_time": "2023-03-26T08:24:52.824Z"
   },
   {
    "duration": 290,
    "start_time": "2023-03-26T08:24:53.044Z"
   },
   {
    "duration": 299,
    "start_time": "2023-03-26T08:24:53.336Z"
   },
   {
    "duration": 5,
    "start_time": "2023-03-26T08:24:53.637Z"
   },
   {
    "duration": 172,
    "start_time": "2023-03-26T08:24:53.644Z"
   },
   {
    "duration": 11,
    "start_time": "2023-03-26T08:24:53.818Z"
   },
   {
    "duration": 175,
    "start_time": "2023-03-26T08:24:53.831Z"
   },
   {
    "duration": 6,
    "start_time": "2023-03-26T08:24:54.007Z"
   },
   {
    "duration": 377,
    "start_time": "2023-03-26T08:24:54.014Z"
   },
   {
    "duration": 27,
    "start_time": "2023-03-26T08:24:54.392Z"
   },
   {
    "duration": 10,
    "start_time": "2023-03-26T08:24:54.420Z"
   },
   {
    "duration": 30,
    "start_time": "2023-03-26T08:24:54.432Z"
   },
   {
    "duration": 13,
    "start_time": "2023-03-26T08:24:54.464Z"
   },
   {
    "duration": 220,
    "start_time": "2023-03-26T08:26:54.649Z"
   },
   {
    "duration": 256,
    "start_time": "2023-03-26T08:30:14.014Z"
   },
   {
    "duration": 329,
    "start_time": "2023-03-26T08:32:51.496Z"
   },
   {
    "duration": 227,
    "start_time": "2023-03-26T08:32:56.587Z"
   },
   {
    "duration": 350,
    "start_time": "2023-03-26T08:33:51.025Z"
   },
   {
    "duration": 257,
    "start_time": "2023-03-26T08:35:10.902Z"
   },
   {
    "duration": 342,
    "start_time": "2023-03-26T08:36:11.471Z"
   },
   {
    "duration": 165,
    "start_time": "2023-03-26T08:37:57.675Z"
   },
   {
    "duration": 161,
    "start_time": "2023-03-26T08:38:08.148Z"
   },
   {
    "duration": 171,
    "start_time": "2023-03-26T08:38:45.997Z"
   },
   {
    "duration": 9,
    "start_time": "2023-03-26T08:44:46.554Z"
   },
   {
    "duration": 3,
    "start_time": "2023-03-26T08:48:12.437Z"
   },
   {
    "duration": 82,
    "start_time": "2023-03-26T08:48:12.442Z"
   },
   {
    "duration": 9,
    "start_time": "2023-03-26T08:48:12.526Z"
   },
   {
    "duration": 25,
    "start_time": "2023-03-26T08:48:12.536Z"
   },
   {
    "duration": 27,
    "start_time": "2023-03-26T08:48:12.564Z"
   },
   {
    "duration": 17,
    "start_time": "2023-03-26T08:48:12.593Z"
   },
   {
    "duration": 11,
    "start_time": "2023-03-26T08:48:12.611Z"
   },
   {
    "duration": 15,
    "start_time": "2023-03-26T08:48:12.623Z"
   },
   {
    "duration": 14,
    "start_time": "2023-03-26T08:48:12.640Z"
   },
   {
    "duration": 20,
    "start_time": "2023-03-26T08:48:12.656Z"
   },
   {
    "duration": 14,
    "start_time": "2023-03-26T08:48:12.679Z"
   },
   {
    "duration": 14,
    "start_time": "2023-03-26T08:48:12.695Z"
   },
   {
    "duration": 4,
    "start_time": "2023-03-26T08:48:12.711Z"
   },
   {
    "duration": 23,
    "start_time": "2023-03-26T08:48:12.717Z"
   },
   {
    "duration": 28,
    "start_time": "2023-03-26T08:48:12.741Z"
   },
   {
    "duration": 17,
    "start_time": "2023-03-26T08:48:12.770Z"
   },
   {
    "duration": 19,
    "start_time": "2023-03-26T08:48:12.788Z"
   },
   {
    "duration": 13,
    "start_time": "2023-03-26T08:48:12.809Z"
   },
   {
    "duration": 13,
    "start_time": "2023-03-26T08:48:12.823Z"
   },
   {
    "duration": 11,
    "start_time": "2023-03-26T08:48:12.837Z"
   },
   {
    "duration": 14,
    "start_time": "2023-03-26T08:48:12.850Z"
   },
   {
    "duration": 49,
    "start_time": "2023-03-26T08:48:12.866Z"
   },
   {
    "duration": 322,
    "start_time": "2023-03-26T08:48:12.917Z"
   },
   {
    "duration": 235,
    "start_time": "2023-03-26T08:48:13.241Z"
   },
   {
    "duration": 235,
    "start_time": "2023-03-26T08:48:13.478Z"
   },
   {
    "duration": 413,
    "start_time": "2023-03-26T08:48:13.715Z"
   },
   {
    "duration": 247,
    "start_time": "2023-03-26T08:48:14.130Z"
   },
   {
    "duration": 393,
    "start_time": "2023-03-26T08:48:14.379Z"
   },
   {
    "duration": 331,
    "start_time": "2023-03-26T08:48:14.777Z"
   },
   {
    "duration": 6,
    "start_time": "2023-03-26T08:48:15.110Z"
   },
   {
    "duration": 186,
    "start_time": "2023-03-26T08:48:15.117Z"
   },
   {
    "duration": 11,
    "start_time": "2023-03-26T08:48:15.305Z"
   },
   {
    "duration": 186,
    "start_time": "2023-03-26T08:48:15.317Z"
   },
   {
    "duration": 5,
    "start_time": "2023-03-26T08:48:15.505Z"
   },
   {
    "duration": 372,
    "start_time": "2023-03-26T08:48:15.512Z"
   },
   {
    "duration": 23,
    "start_time": "2023-03-26T08:48:15.885Z"
   },
   {
    "duration": 12,
    "start_time": "2023-03-26T08:48:15.909Z"
   },
   {
    "duration": 44,
    "start_time": "2023-03-26T08:48:15.923Z"
   },
   {
    "duration": 15,
    "start_time": "2023-03-26T08:48:15.969Z"
   },
   {
    "duration": 1589,
    "start_time": "2023-03-26T14:30:33.925Z"
   },
   {
    "duration": 131,
    "start_time": "2023-03-26T14:30:35.517Z"
   },
   {
    "duration": 15,
    "start_time": "2023-03-26T14:30:35.651Z"
   },
   {
    "duration": 14,
    "start_time": "2023-03-26T14:30:35.668Z"
   },
   {
    "duration": 74,
    "start_time": "2023-03-26T14:30:35.685Z"
   },
   {
    "duration": 11,
    "start_time": "2023-03-26T14:30:35.761Z"
   },
   {
    "duration": 63,
    "start_time": "2023-03-26T14:30:35.774Z"
   },
   {
    "duration": 53,
    "start_time": "2023-03-26T14:30:35.839Z"
   },
   {
    "duration": 63,
    "start_time": "2023-03-26T14:30:35.900Z"
   },
   {
    "duration": 62,
    "start_time": "2023-03-26T14:30:35.965Z"
   },
   {
    "duration": 39,
    "start_time": "2023-03-26T14:30:36.029Z"
   },
   {
    "duration": 84,
    "start_time": "2023-03-26T14:30:36.070Z"
   },
   {
    "duration": 33,
    "start_time": "2023-03-26T14:30:36.157Z"
   },
   {
    "duration": 74,
    "start_time": "2023-03-26T14:30:36.199Z"
   },
   {
    "duration": 46,
    "start_time": "2023-03-26T14:30:36.275Z"
   },
   {
    "duration": 59,
    "start_time": "2023-03-26T14:30:36.325Z"
   },
   {
    "duration": 22,
    "start_time": "2023-03-26T14:30:36.386Z"
   },
   {
    "duration": 73,
    "start_time": "2023-03-26T14:30:36.413Z"
   },
   {
    "duration": 91,
    "start_time": "2023-03-26T14:30:36.488Z"
   },
   {
    "duration": 83,
    "start_time": "2023-03-26T14:30:36.581Z"
   },
   {
    "duration": 33,
    "start_time": "2023-03-26T14:30:36.668Z"
   },
   {
    "duration": 92,
    "start_time": "2023-03-26T14:30:36.708Z"
   },
   {
    "duration": 479,
    "start_time": "2023-03-26T14:30:36.809Z"
   },
   {
    "duration": 440,
    "start_time": "2023-03-26T14:30:37.294Z"
   },
   {
    "duration": 319,
    "start_time": "2023-03-26T14:30:37.736Z"
   },
   {
    "duration": 386,
    "start_time": "2023-03-26T14:30:38.057Z"
   },
   {
    "duration": 323,
    "start_time": "2023-03-26T14:30:38.450Z"
   },
   {
    "duration": 422,
    "start_time": "2023-03-26T14:30:38.776Z"
   },
   {
    "duration": 389,
    "start_time": "2023-03-26T14:30:39.200Z"
   },
   {
    "duration": 21,
    "start_time": "2023-03-26T14:30:39.593Z"
   },
   {
    "duration": 249,
    "start_time": "2023-03-26T14:30:39.624Z"
   },
   {
    "duration": 21,
    "start_time": "2023-03-26T14:30:39.875Z"
   },
   {
    "duration": 291,
    "start_time": "2023-03-26T14:30:39.899Z"
   },
   {
    "duration": 8,
    "start_time": "2023-03-26T14:30:40.192Z"
   },
   {
    "duration": 701,
    "start_time": "2023-03-26T14:30:40.202Z"
   },
   {
    "duration": 26,
    "start_time": "2023-03-26T14:30:40.915Z"
   },
   {
    "duration": 41,
    "start_time": "2023-03-26T14:30:40.943Z"
   },
   {
    "duration": 157,
    "start_time": "2023-03-26T14:30:40.986Z"
   },
   {
    "duration": 47,
    "start_time": "2023-03-26T14:30:41.158Z"
   },
   {
    "duration": 1365,
    "start_time": "2023-03-27T10:27:10.640Z"
   },
   {
    "duration": 225,
    "start_time": "2023-03-27T10:27:12.007Z"
   },
   {
    "duration": 15,
    "start_time": "2023-03-27T10:27:12.234Z"
   },
   {
    "duration": 14,
    "start_time": "2023-03-27T10:27:12.252Z"
   },
   {
    "duration": 17,
    "start_time": "2023-03-27T10:27:12.268Z"
   },
   {
    "duration": 8,
    "start_time": "2023-03-27T10:27:12.287Z"
   },
   {
    "duration": 13,
    "start_time": "2023-03-27T10:27:12.297Z"
   },
   {
    "duration": 11,
    "start_time": "2023-03-27T10:27:12.312Z"
   },
   {
    "duration": 14,
    "start_time": "2023-03-27T10:27:12.361Z"
   },
   {
    "duration": 9,
    "start_time": "2023-03-27T10:27:12.378Z"
   },
   {
    "duration": 27,
    "start_time": "2023-03-27T10:27:12.389Z"
   },
   {
    "duration": 14,
    "start_time": "2023-03-27T10:27:12.417Z"
   },
   {
    "duration": 11,
    "start_time": "2023-03-27T10:27:12.433Z"
   },
   {
    "duration": 8,
    "start_time": "2023-03-27T10:27:12.462Z"
   },
   {
    "duration": 31,
    "start_time": "2023-03-27T10:27:12.471Z"
   },
   {
    "duration": 17,
    "start_time": "2023-03-27T10:27:12.504Z"
   },
   {
    "duration": 6,
    "start_time": "2023-03-27T10:27:12.523Z"
   },
   {
    "duration": 39,
    "start_time": "2023-03-27T10:27:12.530Z"
   },
   {
    "duration": 11,
    "start_time": "2023-03-27T10:27:12.570Z"
   },
   {
    "duration": 12,
    "start_time": "2023-03-27T10:27:12.582Z"
   },
   {
    "duration": 14,
    "start_time": "2023-03-27T10:27:12.595Z"
   },
   {
    "duration": 56,
    "start_time": "2023-03-27T10:27:12.611Z"
   },
   {
    "duration": 330,
    "start_time": "2023-03-27T10:27:12.669Z"
   },
   {
    "duration": 301,
    "start_time": "2023-03-27T10:27:13.001Z"
   },
   {
    "duration": 235,
    "start_time": "2023-03-27T10:27:13.304Z"
   },
   {
    "duration": 403,
    "start_time": "2023-03-27T10:27:13.541Z"
   },
   {
    "duration": 291,
    "start_time": "2023-03-27T10:27:13.946Z"
   },
   {
    "duration": 376,
    "start_time": "2023-03-27T10:27:14.240Z"
   },
   {
    "duration": 352,
    "start_time": "2023-03-27T10:27:14.618Z"
   },
   {
    "duration": 6,
    "start_time": "2023-03-27T10:27:14.972Z"
   },
   {
    "duration": 184,
    "start_time": "2023-03-27T10:27:14.979Z"
   },
   {
    "duration": 12,
    "start_time": "2023-03-27T10:27:15.165Z"
   },
   {
    "duration": 189,
    "start_time": "2023-03-27T10:27:15.179Z"
   },
   {
    "duration": 6,
    "start_time": "2023-03-27T10:27:15.370Z"
   },
   {
    "duration": 448,
    "start_time": "2023-03-27T10:27:15.378Z"
   },
   {
    "duration": 13,
    "start_time": "2023-03-27T10:27:15.828Z"
   },
   {
    "duration": 25,
    "start_time": "2023-03-27T10:27:15.842Z"
   },
   {
    "duration": 34,
    "start_time": "2023-03-27T10:27:15.869Z"
   },
   {
    "duration": 13,
    "start_time": "2023-03-27T10:27:15.906Z"
   }
  ],
  "kernelspec": {
   "display_name": "Python 3 (ipykernel)",
   "language": "python",
   "name": "python3"
  },
  "language_info": {
   "codemirror_mode": {
    "name": "ipython",
    "version": 3
   },
   "file_extension": ".py",
   "mimetype": "text/x-python",
   "name": "python",
   "nbconvert_exporter": "python",
   "pygments_lexer": "ipython3",
   "version": "3.10.4"
  },
  "toc": {
   "base_numbering": 1,
   "nav_menu": {},
   "number_sections": true,
   "sideBar": true,
   "skip_h1_title": true,
   "title_cell": "Table of Contents",
   "title_sidebar": "Contents",
   "toc_cell": false,
   "toc_position": {
    "height": "calc(100% - 180px)",
    "left": "10px",
    "top": "150px",
    "width": "355.4750061035156px"
   },
   "toc_section_display": true,
   "toc_window_display": true
  }
 },
 "nbformat": 4,
 "nbformat_minor": 2
}
