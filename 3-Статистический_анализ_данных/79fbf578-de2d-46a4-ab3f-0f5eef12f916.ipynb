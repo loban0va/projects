{
 "cells": [
  {
   "cell_type": "markdown",
   "metadata": {
    "deletable": false,
    "editable": false
   },
   "source": [
    "### Откройте файл с данными и изучите общую информацию"
   ]
  },
  {
   "cell_type": "markdown",
   "metadata": {},
   "source": [
    "Компании «Мегалайн» — федеральный оператор сотовой связи. Клиентам предлагают два тарифных плана: «Смарт» и «Ультра». Чтобы скорректировать рекламный бюджет, коммерческий департамент хочет понять, какой тариф приносит больше денег.\n",
    "\n",
    "Предстоит сделать предварительный анализ тарифов на небольшой выборке клиентов. В распоряжении данные 500 пользователей «Мегалайна»: кто они, откуда, каким тарифом пользуются, сколько звонков и сообщений каждый отправил за 2018-й год.\n",
    "\n",
    "Нужно проанализировать поведение клиентов и сделать вывод — какой тариф лучше."
   ]
  },
  {
   "cell_type": "code",
   "execution_count": 150,
   "metadata": {
    "deletable": false,
    "scrolled": true
   },
   "outputs": [],
   "source": [
    "import pandas as pd\n",
    "import numpy as np\n",
    "from scipy import stats as st\n",
    "import matplotlib.pyplot as plt"
   ]
  },
  {
   "cell_type": "code",
   "execution_count": 151,
   "metadata": {},
   "outputs": [],
   "source": [
    "import os\n",
    "from pathlib import Path\n",
    "\n",
    "ROOT_DIR = Path(os.path.abspath(\"__file__\")).parent.parent"
   ]
  },
  {
   "cell_type": "markdown",
   "metadata": {},
   "source": [
    "_Импортирт библиотеки для работы с путями и определяем корневую дирректорию._"
   ]
  },
  {
   "cell_type": "markdown",
   "metadata": {
    "deletable": false,
    "editable": false,
    "tags": [
     "start_task"
    ]
   },
   "source": [
    "**Задание 1.** Откройте файл `/datasets/calls.csv`, сохраните датафрейм в переменную `calls`."
   ]
  },
  {
   "cell_type": "code",
   "execution_count": 152,
   "metadata": {
    "deletable": false
   },
   "outputs": [],
   "source": [
    "calls = pd.read_csv(ROOT_DIR / 'datasets/calls.csv')"
   ]
  },
  {
   "cell_type": "markdown",
   "metadata": {
    "deletable": false,
    "editable": false,
    "tags": [
     "start_task"
    ]
   },
   "source": [
    "**Задание 2.** Выведите первые 5 строк датафрейма `calls`."
   ]
  },
  {
   "cell_type": "code",
   "execution_count": 153,
   "metadata": {
    "deletable": false
   },
   "outputs": [
    {
     "data": {
      "text/html": [
       "<div>\n",
       "<style scoped>\n",
       "    .dataframe tbody tr th:only-of-type {\n",
       "        vertical-align: middle;\n",
       "    }\n",
       "\n",
       "    .dataframe tbody tr th {\n",
       "        vertical-align: top;\n",
       "    }\n",
       "\n",
       "    .dataframe thead th {\n",
       "        text-align: right;\n",
       "    }\n",
       "</style>\n",
       "<table border=\"1\" class=\"dataframe\">\n",
       "  <thead>\n",
       "    <tr style=\"text-align: right;\">\n",
       "      <th></th>\n",
       "      <th>id</th>\n",
       "      <th>call_date</th>\n",
       "      <th>duration</th>\n",
       "      <th>user_id</th>\n",
       "    </tr>\n",
       "  </thead>\n",
       "  <tbody>\n",
       "    <tr>\n",
       "      <th>0</th>\n",
       "      <td>1000_0</td>\n",
       "      <td>2018-07-25</td>\n",
       "      <td>0.00</td>\n",
       "      <td>1000</td>\n",
       "    </tr>\n",
       "    <tr>\n",
       "      <th>1</th>\n",
       "      <td>1000_1</td>\n",
       "      <td>2018-08-17</td>\n",
       "      <td>0.00</td>\n",
       "      <td>1000</td>\n",
       "    </tr>\n",
       "    <tr>\n",
       "      <th>2</th>\n",
       "      <td>1000_2</td>\n",
       "      <td>2018-06-11</td>\n",
       "      <td>2.85</td>\n",
       "      <td>1000</td>\n",
       "    </tr>\n",
       "    <tr>\n",
       "      <th>3</th>\n",
       "      <td>1000_3</td>\n",
       "      <td>2018-09-21</td>\n",
       "      <td>13.80</td>\n",
       "      <td>1000</td>\n",
       "    </tr>\n",
       "    <tr>\n",
       "      <th>4</th>\n",
       "      <td>1000_4</td>\n",
       "      <td>2018-12-15</td>\n",
       "      <td>5.18</td>\n",
       "      <td>1000</td>\n",
       "    </tr>\n",
       "  </tbody>\n",
       "</table>\n",
       "</div>"
      ],
      "text/plain": [
       "       id   call_date  duration  user_id\n",
       "0  1000_0  2018-07-25      0.00     1000\n",
       "1  1000_1  2018-08-17      0.00     1000\n",
       "2  1000_2  2018-06-11      2.85     1000\n",
       "3  1000_3  2018-09-21     13.80     1000\n",
       "4  1000_4  2018-12-15      5.18     1000"
      ]
     },
     "execution_count": 153,
     "metadata": {},
     "output_type": "execute_result"
    }
   ],
   "source": [
    "calls.head()"
   ]
  },
  {
   "cell_type": "markdown",
   "metadata": {
    "deletable": false,
    "editable": false,
    "tags": [
     "start_task"
    ]
   },
   "source": [
    "**Задание 3.** Выведите основную информацию для датафрейма `calls` с помощью метода `info()`."
   ]
  },
  {
   "cell_type": "code",
   "execution_count": 154,
   "metadata": {
    "deletable": false
   },
   "outputs": [
    {
     "name": "stdout",
     "output_type": "stream",
     "text": [
      "<class 'pandas.core.frame.DataFrame'>\n",
      "RangeIndex: 202607 entries, 0 to 202606\n",
      "Data columns (total 4 columns):\n",
      " #   Column     Non-Null Count   Dtype  \n",
      "---  ------     --------------   -----  \n",
      " 0   id         202607 non-null  object \n",
      " 1   call_date  202607 non-null  object \n",
      " 2   duration   202607 non-null  float64\n",
      " 3   user_id    202607 non-null  int64  \n",
      "dtypes: float64(1), int64(1), object(2)\n",
      "memory usage: 6.2+ MB\n"
     ]
    }
   ],
   "source": [
    "calls.info()"
   ]
  },
  {
   "cell_type": "markdown",
   "metadata": {
    "deletable": false,
    "editable": false,
    "tags": [
     "start_task"
    ]
   },
   "source": [
    "**Задание 4.** С помощью метода `hist()` выведите гистограмму для столбца с продолжительностью звонков. Подумайте о том, как распределены данные."
   ]
  },
  {
   "cell_type": "code",
   "execution_count": 155,
   "metadata": {
    "deletable": false
   },
   "outputs": [
    {
     "data": {
      "image/png": "[encoded data removed]",
      "text/plain": [
       "<Figure size 600x300 with 1 Axes>"
      ]
     },
     "metadata": {},
     "output_type": "display_data"
    }
   ],
   "source": [
    "calls['duration'].hist(figsize=(6, 3))\n",
    "plt.title(\"Продолжительность звонков\")\n",
    "plt.show()"
   ]
  },
  {
   "cell_type": "markdown",
   "metadata": {},
   "source": [
    "Большинство звонок длится менее пяти минут"
   ]
  },
  {
   "cell_type": "markdown",
   "metadata": {
    "deletable": false,
    "editable": false,
    "tags": [
     "start_task"
    ]
   },
   "source": [
    "**Задание 5.** Откройте файл `/datasets/internet.csv`, сохраните датафрейм в переменную `sessions`."
   ]
  },
  {
   "cell_type": "code",
   "execution_count": 156,
   "metadata": {
    "deletable": false
   },
   "outputs": [],
   "source": [
    "sessions = pd.read_csv(ROOT_DIR / 'datasets/internet.csv')"
   ]
  },
  {
   "cell_type": "markdown",
   "metadata": {
    "deletable": false,
    "editable": false,
    "tags": [
     "start_task"
    ]
   },
   "source": [
    "**Задание 6.** Выведите первые 5 строк датафрейма `sessions`."
   ]
  },
  {
   "cell_type": "code",
   "execution_count": 157,
   "metadata": {
    "deletable": false
   },
   "outputs": [
    {
     "data": {
      "text/html": [
       "<div>\n",
       "<style scoped>\n",
       "    .dataframe tbody tr th:only-of-type {\n",
       "        vertical-align: middle;\n",
       "    }\n",
       "\n",
       "    .dataframe tbody tr th {\n",
       "        vertical-align: top;\n",
       "    }\n",
       "\n",
       "    .dataframe thead th {\n",
       "        text-align: right;\n",
       "    }\n",
       "</style>\n",
       "<table border=\"1\" class=\"dataframe\">\n",
       "  <thead>\n",
       "    <tr style=\"text-align: right;\">\n",
       "      <th></th>\n",
       "      <th>Unnamed: 0</th>\n",
       "      <th>id</th>\n",
       "      <th>mb_used</th>\n",
       "      <th>session_date</th>\n",
       "      <th>user_id</th>\n",
       "    </tr>\n",
       "  </thead>\n",
       "  <tbody>\n",
       "    <tr>\n",
       "      <th>0</th>\n",
       "      <td>0</td>\n",
       "      <td>1000_0</td>\n",
       "      <td>112.95</td>\n",
       "      <td>2018-11-25</td>\n",
       "      <td>1000</td>\n",
       "    </tr>\n",
       "    <tr>\n",
       "      <th>1</th>\n",
       "      <td>1</td>\n",
       "      <td>1000_1</td>\n",
       "      <td>1052.81</td>\n",
       "      <td>2018-09-07</td>\n",
       "      <td>1000</td>\n",
       "    </tr>\n",
       "    <tr>\n",
       "      <th>2</th>\n",
       "      <td>2</td>\n",
       "      <td>1000_2</td>\n",
       "      <td>1197.26</td>\n",
       "      <td>2018-06-25</td>\n",
       "      <td>1000</td>\n",
       "    </tr>\n",
       "    <tr>\n",
       "      <th>3</th>\n",
       "      <td>3</td>\n",
       "      <td>1000_3</td>\n",
       "      <td>550.27</td>\n",
       "      <td>2018-08-22</td>\n",
       "      <td>1000</td>\n",
       "    </tr>\n",
       "    <tr>\n",
       "      <th>4</th>\n",
       "      <td>4</td>\n",
       "      <td>1000_4</td>\n",
       "      <td>302.56</td>\n",
       "      <td>2018-09-24</td>\n",
       "      <td>1000</td>\n",
       "    </tr>\n",
       "  </tbody>\n",
       "</table>\n",
       "</div>"
      ],
      "text/plain": [
       "   Unnamed: 0      id  mb_used session_date  user_id\n",
       "0           0  1000_0   112.95   2018-11-25     1000\n",
       "1           1  1000_1  1052.81   2018-09-07     1000\n",
       "2           2  1000_2  1197.26   2018-06-25     1000\n",
       "3           3  1000_3   550.27   2018-08-22     1000\n",
       "4           4  1000_4   302.56   2018-09-24     1000"
      ]
     },
     "execution_count": 157,
     "metadata": {},
     "output_type": "execute_result"
    }
   ],
   "source": [
    "sessions.head()"
   ]
  },
  {
   "cell_type": "markdown",
   "metadata": {
    "deletable": false,
    "editable": false,
    "tags": [
     "start_task"
    ]
   },
   "source": [
    "**Задание 7.** Выведите основную информацию для датафрейма sessions с помощью метода `info()`. "
   ]
  },
  {
   "cell_type": "code",
   "execution_count": 158,
   "metadata": {
    "deletable": false
   },
   "outputs": [
    {
     "name": "stdout",
     "output_type": "stream",
     "text": [
      "<class 'pandas.core.frame.DataFrame'>\n",
      "RangeIndex: 149396 entries, 0 to 149395\n",
      "Data columns (total 5 columns):\n",
      " #   Column        Non-Null Count   Dtype  \n",
      "---  ------        --------------   -----  \n",
      " 0   Unnamed: 0    149396 non-null  int64  \n",
      " 1   id            149396 non-null  object \n",
      " 2   mb_used       149396 non-null  float64\n",
      " 3   session_date  149396 non-null  object \n",
      " 4   user_id       149396 non-null  int64  \n",
      "dtypes: float64(1), int64(2), object(2)\n",
      "memory usage: 5.7+ MB\n"
     ]
    }
   ],
   "source": [
    "sessions.info()"
   ]
  },
  {
   "cell_type": "markdown",
   "metadata": {
    "deletable": false,
    "editable": false,
    "tags": [
     "start_task"
    ]
   },
   "source": [
    "**Задание 8.** С помощью метода `hist()` выведите гистограмму для столбца с количеством потраченных мегабайт."
   ]
  },
  {
   "cell_type": "code",
   "execution_count": 159,
   "metadata": {
    "deletable": false
   },
   "outputs": [
    {
     "data": {
      "image/png": "[encoded data removed]",
      "text/plain": [
       "<Figure size 600x300 with 1 Axes>"
      ]
     },
     "metadata": {},
     "output_type": "display_data"
    }
   ],
   "source": [
    "sessions['mb_used'].hist(figsize=(6, 3))\n",
    "plt.title(\"Использование трафика в мегабайтах\")\n",
    "plt.show()"
   ]
  },
  {
   "cell_type": "markdown",
   "metadata": {},
   "source": [
    "Бо́льшей части нашей выборки за взятый период потребовалось до 500 Мб "
   ]
  },
  {
   "cell_type": "markdown",
   "metadata": {
    "deletable": false,
    "editable": false,
    "tags": [
     "start_task"
    ]
   },
   "source": [
    "**Задание 9.** Откройте файл `/datasets/messages.csv`, сохраните датафрейм в переменную `messages`."
   ]
  },
  {
   "cell_type": "code",
   "execution_count": 160,
   "metadata": {
    "deletable": false
   },
   "outputs": [],
   "source": [
    "messages = pd.read_csv(ROOT_DIR / 'datasets/messages.csv')"
   ]
  },
  {
   "cell_type": "markdown",
   "metadata": {
    "deletable": false,
    "editable": false,
    "tags": [
     "start_task"
    ]
   },
   "source": [
    "**Задание 10.** Выведите первые 5 строк датафрейма `messages`."
   ]
  },
  {
   "cell_type": "code",
   "execution_count": 161,
   "metadata": {
    "deletable": false
   },
   "outputs": [
    {
     "data": {
      "text/html": [
       "<div>\n",
       "<style scoped>\n",
       "    .dataframe tbody tr th:only-of-type {\n",
       "        vertical-align: middle;\n",
       "    }\n",
       "\n",
       "    .dataframe tbody tr th {\n",
       "        vertical-align: top;\n",
       "    }\n",
       "\n",
       "    .dataframe thead th {\n",
       "        text-align: right;\n",
       "    }\n",
       "</style>\n",
       "<table border=\"1\" class=\"dataframe\">\n",
       "  <thead>\n",
       "    <tr style=\"text-align: right;\">\n",
       "      <th></th>\n",
       "      <th>id</th>\n",
       "      <th>message_date</th>\n",
       "      <th>user_id</th>\n",
       "    </tr>\n",
       "  </thead>\n",
       "  <tbody>\n",
       "    <tr>\n",
       "      <th>0</th>\n",
       "      <td>1000_0</td>\n",
       "      <td>2018-06-27</td>\n",
       "      <td>1000</td>\n",
       "    </tr>\n",
       "    <tr>\n",
       "      <th>1</th>\n",
       "      <td>1000_1</td>\n",
       "      <td>2018-10-08</td>\n",
       "      <td>1000</td>\n",
       "    </tr>\n",
       "    <tr>\n",
       "      <th>2</th>\n",
       "      <td>1000_2</td>\n",
       "      <td>2018-08-04</td>\n",
       "      <td>1000</td>\n",
       "    </tr>\n",
       "    <tr>\n",
       "      <th>3</th>\n",
       "      <td>1000_3</td>\n",
       "      <td>2018-06-16</td>\n",
       "      <td>1000</td>\n",
       "    </tr>\n",
       "    <tr>\n",
       "      <th>4</th>\n",
       "      <td>1000_4</td>\n",
       "      <td>2018-12-05</td>\n",
       "      <td>1000</td>\n",
       "    </tr>\n",
       "  </tbody>\n",
       "</table>\n",
       "</div>"
      ],
      "text/plain": [
       "       id message_date  user_id\n",
       "0  1000_0   2018-06-27     1000\n",
       "1  1000_1   2018-10-08     1000\n",
       "2  1000_2   2018-08-04     1000\n",
       "3  1000_3   2018-06-16     1000\n",
       "4  1000_4   2018-12-05     1000"
      ]
     },
     "execution_count": 161,
     "metadata": {},
     "output_type": "execute_result"
    }
   ],
   "source": [
    "messages.head()"
   ]
  },
  {
   "cell_type": "markdown",
   "metadata": {
    "deletable": false,
    "editable": false,
    "tags": [
     "start_task"
    ]
   },
   "source": [
    "**Задание 11.** Выведите основную информацию для датафрейма `messages` с помощью метода `info()`. "
   ]
  },
  {
   "cell_type": "code",
   "execution_count": 162,
   "metadata": {
    "deletable": false
   },
   "outputs": [
    {
     "name": "stdout",
     "output_type": "stream",
     "text": [
      "<class 'pandas.core.frame.DataFrame'>\n",
      "RangeIndex: 123036 entries, 0 to 123035\n",
      "Data columns (total 3 columns):\n",
      " #   Column        Non-Null Count   Dtype \n",
      "---  ------        --------------   ----- \n",
      " 0   id            123036 non-null  object\n",
      " 1   message_date  123036 non-null  object\n",
      " 2   user_id       123036 non-null  int64 \n",
      "dtypes: int64(1), object(2)\n",
      "memory usage: 2.8+ MB\n"
     ]
    }
   ],
   "source": [
    "messages.info()"
   ]
  },
  {
   "cell_type": "markdown",
   "metadata": {
    "deletable": false,
    "editable": false,
    "tags": [
     "start_task"
    ]
   },
   "source": [
    "**Задание 12.** Откройте файл `/datasets/tariffs.csv`, сохраните датафрейм в переменную `tariffs`."
   ]
  },
  {
   "cell_type": "code",
   "execution_count": 163,
   "metadata": {
    "deletable": false
   },
   "outputs": [],
   "source": [
    "tariffs = pd.read_csv(ROOT_DIR / 'datasets/tariffs.csv')"
   ]
  },
  {
   "cell_type": "markdown",
   "metadata": {
    "deletable": false,
    "editable": false,
    "tags": [
     "start_task"
    ]
   },
   "source": [
    "**Задание 13.** Выведите весь датафрейм `tariffs`."
   ]
  },
  {
   "cell_type": "code",
   "execution_count": 164,
   "metadata": {
    "deletable": false
   },
   "outputs": [
    {
     "data": {
      "text/html": [
       "<div>\n",
       "<style scoped>\n",
       "    .dataframe tbody tr th:only-of-type {\n",
       "        vertical-align: middle;\n",
       "    }\n",
       "\n",
       "    .dataframe tbody tr th {\n",
       "        vertical-align: top;\n",
       "    }\n",
       "\n",
       "    .dataframe thead th {\n",
       "        text-align: right;\n",
       "    }\n",
       "</style>\n",
       "<table border=\"1\" class=\"dataframe\">\n",
       "  <thead>\n",
       "    <tr style=\"text-align: right;\">\n",
       "      <th></th>\n",
       "      <th>messages_included</th>\n",
       "      <th>mb_per_month_included</th>\n",
       "      <th>minutes_included</th>\n",
       "      <th>rub_monthly_fee</th>\n",
       "      <th>rub_per_gb</th>\n",
       "      <th>rub_per_message</th>\n",
       "      <th>rub_per_minute</th>\n",
       "      <th>tariff_name</th>\n",
       "    </tr>\n",
       "  </thead>\n",
       "  <tbody>\n",
       "    <tr>\n",
       "      <th>0</th>\n",
       "      <td>50</td>\n",
       "      <td>15360</td>\n",
       "      <td>500</td>\n",
       "      <td>550</td>\n",
       "      <td>200</td>\n",
       "      <td>3</td>\n",
       "      <td>3</td>\n",
       "      <td>smart</td>\n",
       "    </tr>\n",
       "    <tr>\n",
       "      <th>1</th>\n",
       "      <td>1000</td>\n",
       "      <td>30720</td>\n",
       "      <td>3000</td>\n",
       "      <td>1950</td>\n",
       "      <td>150</td>\n",
       "      <td>1</td>\n",
       "      <td>1</td>\n",
       "      <td>ultra</td>\n",
       "    </tr>\n",
       "  </tbody>\n",
       "</table>\n",
       "</div>"
      ],
      "text/plain": [
       "   messages_included  mb_per_month_included  minutes_included  \\\n",
       "0                 50                  15360               500   \n",
       "1               1000                  30720              3000   \n",
       "\n",
       "   rub_monthly_fee  rub_per_gb  rub_per_message  rub_per_minute tariff_name  \n",
       "0              550         200                3               3       smart  \n",
       "1             1950         150                1               1       ultra  "
      ]
     },
     "execution_count": 164,
     "metadata": {},
     "output_type": "execute_result"
    }
   ],
   "source": [
    "tariffs"
   ]
  },
  {
   "cell_type": "markdown",
   "metadata": {
    "deletable": false,
    "editable": false,
    "tags": [
     "start_task"
    ]
   },
   "source": [
    "**Задание 14.** Выведите основную информацию для датафрейма `tariffs` с помощью метода `info()`."
   ]
  },
  {
   "cell_type": "code",
   "execution_count": 165,
   "metadata": {
    "deletable": false
   },
   "outputs": [
    {
     "name": "stdout",
     "output_type": "stream",
     "text": [
      "<class 'pandas.core.frame.DataFrame'>\n",
      "RangeIndex: 2 entries, 0 to 1\n",
      "Data columns (total 8 columns):\n",
      " #   Column                 Non-Null Count  Dtype \n",
      "---  ------                 --------------  ----- \n",
      " 0   messages_included      2 non-null      int64 \n",
      " 1   mb_per_month_included  2 non-null      int64 \n",
      " 2   minutes_included       2 non-null      int64 \n",
      " 3   rub_monthly_fee        2 non-null      int64 \n",
      " 4   rub_per_gb             2 non-null      int64 \n",
      " 5   rub_per_message        2 non-null      int64 \n",
      " 6   rub_per_minute         2 non-null      int64 \n",
      " 7   tariff_name            2 non-null      object\n",
      "dtypes: int64(7), object(1)\n",
      "memory usage: 256.0+ bytes\n"
     ]
    }
   ],
   "source": [
    "tariffs.info()"
   ]
  },
  {
   "cell_type": "markdown",
   "metadata": {
    "deletable": false,
    "editable": false,
    "tags": [
     "start_task"
    ]
   },
   "source": [
    "**Задание 15.** Откройте файл `/datasets/users.csv`, сохраните датафрейм в переменную `users`."
   ]
  },
  {
   "cell_type": "code",
   "execution_count": 166,
   "metadata": {
    "deletable": false
   },
   "outputs": [],
   "source": [
    "users = pd.read_csv(ROOT_DIR / 'datasets/users.csv')"
   ]
  },
  {
   "cell_type": "markdown",
   "metadata": {
    "deletable": false,
    "editable": false,
    "tags": [
     "start_task"
    ]
   },
   "source": [
    "**Задание 16.** Выведите первые 5 строк датафрейма `users`."
   ]
  },
  {
   "cell_type": "code",
   "execution_count": 167,
   "metadata": {
    "deletable": false
   },
   "outputs": [
    {
     "data": {
      "text/html": [
       "<div>\n",
       "<style scoped>\n",
       "    .dataframe tbody tr th:only-of-type {\n",
       "        vertical-align: middle;\n",
       "    }\n",
       "\n",
       "    .dataframe tbody tr th {\n",
       "        vertical-align: top;\n",
       "    }\n",
       "\n",
       "    .dataframe thead th {\n",
       "        text-align: right;\n",
       "    }\n",
       "</style>\n",
       "<table border=\"1\" class=\"dataframe\">\n",
       "  <thead>\n",
       "    <tr style=\"text-align: right;\">\n",
       "      <th></th>\n",
       "      <th>user_id</th>\n",
       "      <th>age</th>\n",
       "      <th>churn_date</th>\n",
       "      <th>city</th>\n",
       "      <th>first_name</th>\n",
       "      <th>last_name</th>\n",
       "      <th>reg_date</th>\n",
       "      <th>tariff</th>\n",
       "    </tr>\n",
       "  </thead>\n",
       "  <tbody>\n",
       "    <tr>\n",
       "      <th>0</th>\n",
       "      <td>1000</td>\n",
       "      <td>52</td>\n",
       "      <td>NaN</td>\n",
       "      <td>Краснодар</td>\n",
       "      <td>Рафаил</td>\n",
       "      <td>Верещагин</td>\n",
       "      <td>2018-05-25</td>\n",
       "      <td>ultra</td>\n",
       "    </tr>\n",
       "    <tr>\n",
       "      <th>1</th>\n",
       "      <td>1001</td>\n",
       "      <td>41</td>\n",
       "      <td>NaN</td>\n",
       "      <td>Москва</td>\n",
       "      <td>Иван</td>\n",
       "      <td>Ежов</td>\n",
       "      <td>2018-11-01</td>\n",
       "      <td>smart</td>\n",
       "    </tr>\n",
       "    <tr>\n",
       "      <th>2</th>\n",
       "      <td>1002</td>\n",
       "      <td>59</td>\n",
       "      <td>NaN</td>\n",
       "      <td>Стерлитамак</td>\n",
       "      <td>Евгений</td>\n",
       "      <td>Абрамович</td>\n",
       "      <td>2018-06-17</td>\n",
       "      <td>smart</td>\n",
       "    </tr>\n",
       "    <tr>\n",
       "      <th>3</th>\n",
       "      <td>1003</td>\n",
       "      <td>23</td>\n",
       "      <td>NaN</td>\n",
       "      <td>Москва</td>\n",
       "      <td>Белла</td>\n",
       "      <td>Белякова</td>\n",
       "      <td>2018-08-17</td>\n",
       "      <td>ultra</td>\n",
       "    </tr>\n",
       "    <tr>\n",
       "      <th>4</th>\n",
       "      <td>1004</td>\n",
       "      <td>68</td>\n",
       "      <td>NaN</td>\n",
       "      <td>Новокузнецк</td>\n",
       "      <td>Татьяна</td>\n",
       "      <td>Авдеенко</td>\n",
       "      <td>2018-05-14</td>\n",
       "      <td>ultra</td>\n",
       "    </tr>\n",
       "  </tbody>\n",
       "</table>\n",
       "</div>"
      ],
      "text/plain": [
       "   user_id  age churn_date         city first_name  last_name    reg_date  \\\n",
       "0     1000   52        NaN    Краснодар     Рафаил  Верещагин  2018-05-25   \n",
       "1     1001   41        NaN       Москва       Иван       Ежов  2018-11-01   \n",
       "2     1002   59        NaN  Стерлитамак    Евгений  Абрамович  2018-06-17   \n",
       "3     1003   23        NaN       Москва      Белла   Белякова  2018-08-17   \n",
       "4     1004   68        NaN  Новокузнецк    Татьяна   Авдеенко  2018-05-14   \n",
       "\n",
       "  tariff  \n",
       "0  ultra  \n",
       "1  smart  \n",
       "2  smart  \n",
       "3  ultra  \n",
       "4  ultra  "
      ]
     },
     "execution_count": 167,
     "metadata": {},
     "output_type": "execute_result"
    }
   ],
   "source": [
    "users.head()"
   ]
  },
  {
   "cell_type": "markdown",
   "metadata": {
    "deletable": false,
    "editable": false,
    "tags": [
     "start_task"
    ]
   },
   "source": [
    "**Задание 17.** Выведите основную информацию для датафрейма `users` с помощью метода `info()`."
   ]
  },
  {
   "cell_type": "code",
   "execution_count": 168,
   "metadata": {
    "deletable": false
   },
   "outputs": [
    {
     "name": "stdout",
     "output_type": "stream",
     "text": [
      "<class 'pandas.core.frame.DataFrame'>\n",
      "RangeIndex: 500 entries, 0 to 499\n",
      "Data columns (total 8 columns):\n",
      " #   Column      Non-Null Count  Dtype \n",
      "---  ------      --------------  ----- \n",
      " 0   user_id     500 non-null    int64 \n",
      " 1   age         500 non-null    int64 \n",
      " 2   churn_date  38 non-null     object\n",
      " 3   city        500 non-null    object\n",
      " 4   first_name  500 non-null    object\n",
      " 5   last_name   500 non-null    object\n",
      " 6   reg_date    500 non-null    object\n",
      " 7   tariff      500 non-null    object\n",
      "dtypes: int64(2), object(6)\n",
      "memory usage: 31.4+ KB\n"
     ]
    }
   ],
   "source": [
    "users.info()"
   ]
  },
  {
   "cell_type": "markdown",
   "metadata": {
    "deletable": false,
    "editable": false
   },
   "source": [
    "### Подготовьте данные"
   ]
  },
  {
   "cell_type": "markdown",
   "metadata": {
    "deletable": false,
    "editable": false,
    "tags": [
     "start_task"
    ]
   },
   "source": [
    "**Задание 18.**  Приведите столбцы\n",
    "\n",
    "- `reg_date` из таблицы `users`\n",
    "- `churn_date` из таблицы `users`\n",
    "- `call_date` из таблицы `calls`\n",
    "- `message_date` из таблицы `messages`\n",
    "- `session_date` из таблицы `sessions`\n",
    "\n",
    "к новому типу с помощью метода `to_datetime()`."
   ]
  },
  {
   "cell_type": "code",
   "execution_count": 169,
   "metadata": {
    "deletable": false
   },
   "outputs": [],
   "source": [
    "users['reg_date'] = pd.to_datetime(users['reg_date'], format='%Y-%m-%d')\n",
    "users['churn_date'] = pd.to_datetime(users['churn_date'], format='%Y-%m-%d')\n",
    "calls['call_date'] = pd.to_datetime(calls['call_date'], format='%Y-%m-%d')\n",
    "messages['message_date'] = pd.to_datetime(messages['message_date'], format='%Y-%m-%d')\n",
    "sessions['session_date'] = pd.to_datetime(sessions['session_date'], format='%Y-%m-%d')"
   ]
  },
  {
   "cell_type": "markdown",
   "metadata": {
    "deletable": false,
    "editable": false,
    "tags": [
     "start_task"
    ]
   },
   "source": [
    "**Задание 19.** В данных вы найдёте звонки с нулевой продолжительностью. Это не ошибка: нулями обозначены пропущенные звонки, поэтому их не нужно удалять.\n",
    "\n",
    "Однако в столбце `duration` датафрейма `calls` значения дробные. Округлите значения столбца `duration` вверх с помощью метода `numpy.ceil()` и приведите столбец `duration` к типу `int`."
   ]
  },
  {
   "cell_type": "code",
   "execution_count": 170,
   "metadata": {
    "deletable": false
   },
   "outputs": [],
   "source": [
    "calls['duration'] = np.ceil(calls['duration']).astype('int')"
   ]
  },
  {
   "cell_type": "markdown",
   "metadata": {
    "deletable": false,
    "editable": false,
    "tags": [
     "start_task"
    ]
   },
   "source": [
    "**Задание 20.** Удалите столбец `Unnamed: 0` из датафрейма `sessions`. Столбец с таким названием возникает, когда данные сохраняют с указанием индекса (`df.to_csv(..., index=column)`). Он сейчас не понадобится."
   ]
  },
  {
   "cell_type": "code",
   "execution_count": 171,
   "metadata": {
    "deletable": false
   },
   "outputs": [],
   "source": [
    "sessions = sessions.drop(columns='Unnamed: 0')"
   ]
  },
  {
   "cell_type": "markdown",
   "metadata": {
    "deletable": false,
    "editable": false,
    "tags": [
     "start_task"
    ]
   },
   "source": [
    "**Задание 21.** Создайте столбец `month` в датафрейме `calls` с номером месяца из столбца `call_date`."
   ]
  },
  {
   "cell_type": "code",
   "execution_count": 172,
   "metadata": {
    "deletable": false
   },
   "outputs": [],
   "source": [
    "calls['month'] = pd.to_datetime(calls['call_date']).dt.month"
   ]
  },
  {
   "cell_type": "markdown",
   "metadata": {
    "deletable": false,
    "editable": false,
    "tags": [
     "start_task"
    ]
   },
   "source": [
    "**Задание 22.** Создайте столбец `month` в датафрейме `messages` с номером месяца из столбца `message_date`."
   ]
  },
  {
   "cell_type": "code",
   "execution_count": 173,
   "metadata": {
    "deletable": false
   },
   "outputs": [],
   "source": [
    "messages['month'] = pd.to_datetime(messages['message_date']).dt.month"
   ]
  },
  {
   "cell_type": "markdown",
   "metadata": {
    "deletable": false,
    "editable": false,
    "tags": [
     "start_task"
    ]
   },
   "source": [
    "**Задание 23.** Создайте столбец `month` в датафрейме `sessions` с номером месяца из столбца `session_date`."
   ]
  },
  {
   "cell_type": "code",
   "execution_count": 174,
   "metadata": {
    "deletable": false
   },
   "outputs": [],
   "source": [
    "sessions['month'] = pd.to_datetime(sessions['session_date']).dt.month"
   ]
  },
  {
   "cell_type": "markdown",
   "metadata": {
    "deletable": false,
    "editable": false,
    "tags": [
     "start_task"
    ]
   },
   "source": [
    "**Задание 24.** Посчитайте количество сделанных звонков разговора для каждого пользователя по месяцам."
   ]
  },
  {
   "cell_type": "code",
   "execution_count": 175,
   "metadata": {
    "deletable": false
   },
   "outputs": [],
   "source": [
    "calls_per_month = calls.groupby(['user_id','month']).agg(calls=('duration', 'count'))"
   ]
  },
  {
   "cell_type": "code",
   "execution_count": 176,
   "metadata": {
    "deletable": false
   },
   "outputs": [
    {
     "data": {
      "text/html": [
       "<div>\n",
       "<style scoped>\n",
       "    .dataframe tbody tr th:only-of-type {\n",
       "        vertical-align: middle;\n",
       "    }\n",
       "\n",
       "    .dataframe tbody tr th {\n",
       "        vertical-align: top;\n",
       "    }\n",
       "\n",
       "    .dataframe thead th {\n",
       "        text-align: right;\n",
       "    }\n",
       "</style>\n",
       "<table border=\"1\" class=\"dataframe\">\n",
       "  <thead>\n",
       "    <tr style=\"text-align: right;\">\n",
       "      <th></th>\n",
       "      <th></th>\n",
       "      <th>calls</th>\n",
       "    </tr>\n",
       "    <tr>\n",
       "      <th>user_id</th>\n",
       "      <th>month</th>\n",
       "      <th></th>\n",
       "    </tr>\n",
       "  </thead>\n",
       "  <tbody>\n",
       "    <tr>\n",
       "      <th rowspan=\"8\" valign=\"top\">1000</th>\n",
       "      <th>5</th>\n",
       "      <td>22</td>\n",
       "    </tr>\n",
       "    <tr>\n",
       "      <th>6</th>\n",
       "      <td>43</td>\n",
       "    </tr>\n",
       "    <tr>\n",
       "      <th>7</th>\n",
       "      <td>47</td>\n",
       "    </tr>\n",
       "    <tr>\n",
       "      <th>8</th>\n",
       "      <td>52</td>\n",
       "    </tr>\n",
       "    <tr>\n",
       "      <th>9</th>\n",
       "      <td>58</td>\n",
       "    </tr>\n",
       "    <tr>\n",
       "      <th>10</th>\n",
       "      <td>57</td>\n",
       "    </tr>\n",
       "    <tr>\n",
       "      <th>11</th>\n",
       "      <td>43</td>\n",
       "    </tr>\n",
       "    <tr>\n",
       "      <th>12</th>\n",
       "      <td>46</td>\n",
       "    </tr>\n",
       "    <tr>\n",
       "      <th rowspan=\"2\" valign=\"top\">1001</th>\n",
       "      <th>11</th>\n",
       "      <td>59</td>\n",
       "    </tr>\n",
       "    <tr>\n",
       "      <th>12</th>\n",
       "      <td>63</td>\n",
       "    </tr>\n",
       "    <tr>\n",
       "      <th rowspan=\"7\" valign=\"top\">1002</th>\n",
       "      <th>6</th>\n",
       "      <td>15</td>\n",
       "    </tr>\n",
       "    <tr>\n",
       "      <th>7</th>\n",
       "      <td>26</td>\n",
       "    </tr>\n",
       "    <tr>\n",
       "      <th>8</th>\n",
       "      <td>42</td>\n",
       "    </tr>\n",
       "    <tr>\n",
       "      <th>9</th>\n",
       "      <td>36</td>\n",
       "    </tr>\n",
       "    <tr>\n",
       "      <th>10</th>\n",
       "      <td>33</td>\n",
       "    </tr>\n",
       "    <tr>\n",
       "      <th>11</th>\n",
       "      <td>32</td>\n",
       "    </tr>\n",
       "    <tr>\n",
       "      <th>12</th>\n",
       "      <td>33</td>\n",
       "    </tr>\n",
       "    <tr>\n",
       "      <th rowspan=\"5\" valign=\"top\">1003</th>\n",
       "      <th>8</th>\n",
       "      <td>55</td>\n",
       "    </tr>\n",
       "    <tr>\n",
       "      <th>9</th>\n",
       "      <td>134</td>\n",
       "    </tr>\n",
       "    <tr>\n",
       "      <th>10</th>\n",
       "      <td>108</td>\n",
       "    </tr>\n",
       "    <tr>\n",
       "      <th>11</th>\n",
       "      <td>115</td>\n",
       "    </tr>\n",
       "    <tr>\n",
       "      <th>12</th>\n",
       "      <td>108</td>\n",
       "    </tr>\n",
       "    <tr>\n",
       "      <th rowspan=\"8\" valign=\"top\">1004</th>\n",
       "      <th>5</th>\n",
       "      <td>9</td>\n",
       "    </tr>\n",
       "    <tr>\n",
       "      <th>6</th>\n",
       "      <td>31</td>\n",
       "    </tr>\n",
       "    <tr>\n",
       "      <th>7</th>\n",
       "      <td>22</td>\n",
       "    </tr>\n",
       "    <tr>\n",
       "      <th>8</th>\n",
       "      <td>19</td>\n",
       "    </tr>\n",
       "    <tr>\n",
       "      <th>9</th>\n",
       "      <td>26</td>\n",
       "    </tr>\n",
       "    <tr>\n",
       "      <th>10</th>\n",
       "      <td>29</td>\n",
       "    </tr>\n",
       "    <tr>\n",
       "      <th>11</th>\n",
       "      <td>19</td>\n",
       "    </tr>\n",
       "    <tr>\n",
       "      <th>12</th>\n",
       "      <td>21</td>\n",
       "    </tr>\n",
       "  </tbody>\n",
       "</table>\n",
       "</div>"
      ],
      "text/plain": [
       "               calls\n",
       "user_id month       \n",
       "1000    5         22\n",
       "        6         43\n",
       "        7         47\n",
       "        8         52\n",
       "        9         58\n",
       "        10        57\n",
       "        11        43\n",
       "        12        46\n",
       "1001    11        59\n",
       "        12        63\n",
       "1002    6         15\n",
       "        7         26\n",
       "        8         42\n",
       "        9         36\n",
       "        10        33\n",
       "        11        32\n",
       "        12        33\n",
       "1003    8         55\n",
       "        9        134\n",
       "        10       108\n",
       "        11       115\n",
       "        12       108\n",
       "1004    5          9\n",
       "        6         31\n",
       "        7         22\n",
       "        8         19\n",
       "        9         26\n",
       "        10        29\n",
       "        11        19\n",
       "        12        21"
      ]
     },
     "execution_count": 176,
     "metadata": {},
     "output_type": "execute_result"
    }
   ],
   "source": [
    "calls_per_month.head(30)"
   ]
  },
  {
   "cell_type": "markdown",
   "metadata": {
    "deletable": false,
    "editable": false,
    "tags": [
     "start_task"
    ]
   },
   "source": [
    "**Задание 25.** Посчитайте количество израсходованных минут разговора для каждого пользователя по месяцам и сохраните в переменную `minutes_per_month`. Вам понадобится\n",
    "\n",
    "- сгруппировать датафрейм с информацией о звонках по двум столбцам — с идентификаторами пользователей и номерами месяцев;\n",
    "- после группировки выбрать столбец `duration`\n",
    "- затем применить метод для подсчёта суммы.\n",
    "\n",
    "Выведите первые 30 строчек `minutes_per_month`."
   ]
  },
  {
   "cell_type": "code",
   "execution_count": 177,
   "metadata": {
    "deletable": false
   },
   "outputs": [],
   "source": [
    "minutes_per_month = calls.groupby(['user_id', 'month']).agg(minutes=('duration', 'sum'))"
   ]
  },
  {
   "cell_type": "code",
   "execution_count": 178,
   "metadata": {
    "deletable": false
   },
   "outputs": [
    {
     "data": {
      "text/html": [
       "<div>\n",
       "<style scoped>\n",
       "    .dataframe tbody tr th:only-of-type {\n",
       "        vertical-align: middle;\n",
       "    }\n",
       "\n",
       "    .dataframe tbody tr th {\n",
       "        vertical-align: top;\n",
       "    }\n",
       "\n",
       "    .dataframe thead th {\n",
       "        text-align: right;\n",
       "    }\n",
       "</style>\n",
       "<table border=\"1\" class=\"dataframe\">\n",
       "  <thead>\n",
       "    <tr style=\"text-align: right;\">\n",
       "      <th></th>\n",
       "      <th></th>\n",
       "      <th>minutes</th>\n",
       "    </tr>\n",
       "    <tr>\n",
       "      <th>user_id</th>\n",
       "      <th>month</th>\n",
       "      <th></th>\n",
       "    </tr>\n",
       "  </thead>\n",
       "  <tbody>\n",
       "    <tr>\n",
       "      <th rowspan=\"8\" valign=\"top\">1000</th>\n",
       "      <th>5</th>\n",
       "      <td>159</td>\n",
       "    </tr>\n",
       "    <tr>\n",
       "      <th>6</th>\n",
       "      <td>172</td>\n",
       "    </tr>\n",
       "    <tr>\n",
       "      <th>7</th>\n",
       "      <td>340</td>\n",
       "    </tr>\n",
       "    <tr>\n",
       "      <th>8</th>\n",
       "      <td>408</td>\n",
       "    </tr>\n",
       "    <tr>\n",
       "      <th>9</th>\n",
       "      <td>466</td>\n",
       "    </tr>\n",
       "    <tr>\n",
       "      <th>10</th>\n",
       "      <td>350</td>\n",
       "    </tr>\n",
       "    <tr>\n",
       "      <th>11</th>\n",
       "      <td>338</td>\n",
       "    </tr>\n",
       "    <tr>\n",
       "      <th>12</th>\n",
       "      <td>333</td>\n",
       "    </tr>\n",
       "    <tr>\n",
       "      <th rowspan=\"2\" valign=\"top\">1001</th>\n",
       "      <th>11</th>\n",
       "      <td>430</td>\n",
       "    </tr>\n",
       "    <tr>\n",
       "      <th>12</th>\n",
       "      <td>414</td>\n",
       "    </tr>\n",
       "    <tr>\n",
       "      <th rowspan=\"7\" valign=\"top\">1002</th>\n",
       "      <th>6</th>\n",
       "      <td>117</td>\n",
       "    </tr>\n",
       "    <tr>\n",
       "      <th>7</th>\n",
       "      <td>214</td>\n",
       "    </tr>\n",
       "    <tr>\n",
       "      <th>8</th>\n",
       "      <td>289</td>\n",
       "    </tr>\n",
       "    <tr>\n",
       "      <th>9</th>\n",
       "      <td>206</td>\n",
       "    </tr>\n",
       "    <tr>\n",
       "      <th>10</th>\n",
       "      <td>212</td>\n",
       "    </tr>\n",
       "    <tr>\n",
       "      <th>11</th>\n",
       "      <td>243</td>\n",
       "    </tr>\n",
       "    <tr>\n",
       "      <th>12</th>\n",
       "      <td>236</td>\n",
       "    </tr>\n",
       "    <tr>\n",
       "      <th rowspan=\"5\" valign=\"top\">1003</th>\n",
       "      <th>8</th>\n",
       "      <td>380</td>\n",
       "    </tr>\n",
       "    <tr>\n",
       "      <th>9</th>\n",
       "      <td>961</td>\n",
       "    </tr>\n",
       "    <tr>\n",
       "      <th>10</th>\n",
       "      <td>855</td>\n",
       "    </tr>\n",
       "    <tr>\n",
       "      <th>11</th>\n",
       "      <td>824</td>\n",
       "    </tr>\n",
       "    <tr>\n",
       "      <th>12</th>\n",
       "      <td>802</td>\n",
       "    </tr>\n",
       "    <tr>\n",
       "      <th rowspan=\"8\" valign=\"top\">1004</th>\n",
       "      <th>5</th>\n",
       "      <td>35</td>\n",
       "    </tr>\n",
       "    <tr>\n",
       "      <th>6</th>\n",
       "      <td>171</td>\n",
       "    </tr>\n",
       "    <tr>\n",
       "      <th>7</th>\n",
       "      <td>135</td>\n",
       "    </tr>\n",
       "    <tr>\n",
       "      <th>8</th>\n",
       "      <td>137</td>\n",
       "    </tr>\n",
       "    <tr>\n",
       "      <th>9</th>\n",
       "      <td>117</td>\n",
       "    </tr>\n",
       "    <tr>\n",
       "      <th>10</th>\n",
       "      <td>145</td>\n",
       "    </tr>\n",
       "    <tr>\n",
       "      <th>11</th>\n",
       "      <td>117</td>\n",
       "    </tr>\n",
       "    <tr>\n",
       "      <th>12</th>\n",
       "      <td>130</td>\n",
       "    </tr>\n",
       "  </tbody>\n",
       "</table>\n",
       "</div>"
      ],
      "text/plain": [
       "               minutes\n",
       "user_id month         \n",
       "1000    5          159\n",
       "        6          172\n",
       "        7          340\n",
       "        8          408\n",
       "        9          466\n",
       "        10         350\n",
       "        11         338\n",
       "        12         333\n",
       "1001    11         430\n",
       "        12         414\n",
       "1002    6          117\n",
       "        7          214\n",
       "        8          289\n",
       "        9          206\n",
       "        10         212\n",
       "        11         243\n",
       "        12         236\n",
       "1003    8          380\n",
       "        9          961\n",
       "        10         855\n",
       "        11         824\n",
       "        12         802\n",
       "1004    5           35\n",
       "        6          171\n",
       "        7          135\n",
       "        8          137\n",
       "        9          117\n",
       "        10         145\n",
       "        11         117\n",
       "        12         130"
      ]
     },
     "execution_count": 178,
     "metadata": {},
     "output_type": "execute_result"
    }
   ],
   "source": [
    "minutes_per_month.head(30)"
   ]
  },
  {
   "cell_type": "markdown",
   "metadata": {
    "deletable": false,
    "editable": false,
    "tags": [
     "start_task"
    ]
   },
   "source": [
    "**Задание 26.** Посчитайте количество отправленных сообщений по месяцам для каждого пользователя и сохраните в переменную `messages_per_month`. Вам понадобится\n",
    "\n",
    "- сгруппировать датафрейм с информацией о сообщениях по двум столбцам — с идентификаторами пользователей и номерами месяцев;\n",
    "- после группировки выбрать столбец `message_date`;\n",
    "- затем применить метод для подсчёта количества.\n",
    "\n",
    "Выведите первые 30 строчек `messages_per_month`."
   ]
  },
  {
   "cell_type": "code",
   "execution_count": 179,
   "metadata": {
    "deletable": false
   },
   "outputs": [],
   "source": [
    "messages_per_month = messages.groupby(['user_id', 'month']).agg(messages=('message_date', 'count'))"
   ]
  },
  {
   "cell_type": "code",
   "execution_count": 180,
   "metadata": {
    "deletable": false
   },
   "outputs": [
    {
     "data": {
      "text/html": [
       "<div>\n",
       "<style scoped>\n",
       "    .dataframe tbody tr th:only-of-type {\n",
       "        vertical-align: middle;\n",
       "    }\n",
       "\n",
       "    .dataframe tbody tr th {\n",
       "        vertical-align: top;\n",
       "    }\n",
       "\n",
       "    .dataframe thead th {\n",
       "        text-align: right;\n",
       "    }\n",
       "</style>\n",
       "<table border=\"1\" class=\"dataframe\">\n",
       "  <thead>\n",
       "    <tr style=\"text-align: right;\">\n",
       "      <th></th>\n",
       "      <th></th>\n",
       "      <th>messages</th>\n",
       "    </tr>\n",
       "    <tr>\n",
       "      <th>user_id</th>\n",
       "      <th>month</th>\n",
       "      <th></th>\n",
       "    </tr>\n",
       "  </thead>\n",
       "  <tbody>\n",
       "    <tr>\n",
       "      <th rowspan=\"8\" valign=\"top\">1000</th>\n",
       "      <th>5</th>\n",
       "      <td>22</td>\n",
       "    </tr>\n",
       "    <tr>\n",
       "      <th>6</th>\n",
       "      <td>60</td>\n",
       "    </tr>\n",
       "    <tr>\n",
       "      <th>7</th>\n",
       "      <td>75</td>\n",
       "    </tr>\n",
       "    <tr>\n",
       "      <th>8</th>\n",
       "      <td>81</td>\n",
       "    </tr>\n",
       "    <tr>\n",
       "      <th>9</th>\n",
       "      <td>57</td>\n",
       "    </tr>\n",
       "    <tr>\n",
       "      <th>10</th>\n",
       "      <td>73</td>\n",
       "    </tr>\n",
       "    <tr>\n",
       "      <th>11</th>\n",
       "      <td>58</td>\n",
       "    </tr>\n",
       "    <tr>\n",
       "      <th>12</th>\n",
       "      <td>70</td>\n",
       "    </tr>\n",
       "    <tr>\n",
       "      <th rowspan=\"7\" valign=\"top\">1002</th>\n",
       "      <th>6</th>\n",
       "      <td>4</td>\n",
       "    </tr>\n",
       "    <tr>\n",
       "      <th>7</th>\n",
       "      <td>11</td>\n",
       "    </tr>\n",
       "    <tr>\n",
       "      <th>8</th>\n",
       "      <td>13</td>\n",
       "    </tr>\n",
       "    <tr>\n",
       "      <th>9</th>\n",
       "      <td>4</td>\n",
       "    </tr>\n",
       "    <tr>\n",
       "      <th>10</th>\n",
       "      <td>10</td>\n",
       "    </tr>\n",
       "    <tr>\n",
       "      <th>11</th>\n",
       "      <td>16</td>\n",
       "    </tr>\n",
       "    <tr>\n",
       "      <th>12</th>\n",
       "      <td>12</td>\n",
       "    </tr>\n",
       "    <tr>\n",
       "      <th rowspan=\"5\" valign=\"top\">1003</th>\n",
       "      <th>8</th>\n",
       "      <td>37</td>\n",
       "    </tr>\n",
       "    <tr>\n",
       "      <th>9</th>\n",
       "      <td>91</td>\n",
       "    </tr>\n",
       "    <tr>\n",
       "      <th>10</th>\n",
       "      <td>83</td>\n",
       "    </tr>\n",
       "    <tr>\n",
       "      <th>11</th>\n",
       "      <td>94</td>\n",
       "    </tr>\n",
       "    <tr>\n",
       "      <th>12</th>\n",
       "      <td>75</td>\n",
       "    </tr>\n",
       "    <tr>\n",
       "      <th rowspan=\"8\" valign=\"top\">1004</th>\n",
       "      <th>5</th>\n",
       "      <td>95</td>\n",
       "    </tr>\n",
       "    <tr>\n",
       "      <th>6</th>\n",
       "      <td>134</td>\n",
       "    </tr>\n",
       "    <tr>\n",
       "      <th>7</th>\n",
       "      <td>181</td>\n",
       "    </tr>\n",
       "    <tr>\n",
       "      <th>8</th>\n",
       "      <td>151</td>\n",
       "    </tr>\n",
       "    <tr>\n",
       "      <th>9</th>\n",
       "      <td>146</td>\n",
       "    </tr>\n",
       "    <tr>\n",
       "      <th>10</th>\n",
       "      <td>165</td>\n",
       "    </tr>\n",
       "    <tr>\n",
       "      <th>11</th>\n",
       "      <td>158</td>\n",
       "    </tr>\n",
       "    <tr>\n",
       "      <th>12</th>\n",
       "      <td>162</td>\n",
       "    </tr>\n",
       "    <tr>\n",
       "      <th rowspan=\"2\" valign=\"top\">1005</th>\n",
       "      <th>1</th>\n",
       "      <td>7</td>\n",
       "    </tr>\n",
       "    <tr>\n",
       "      <th>2</th>\n",
       "      <td>38</td>\n",
       "    </tr>\n",
       "  </tbody>\n",
       "</table>\n",
       "</div>"
      ],
      "text/plain": [
       "               messages\n",
       "user_id month          \n",
       "1000    5            22\n",
       "        6            60\n",
       "        7            75\n",
       "        8            81\n",
       "        9            57\n",
       "        10           73\n",
       "        11           58\n",
       "        12           70\n",
       "1002    6             4\n",
       "        7            11\n",
       "        8            13\n",
       "        9             4\n",
       "        10           10\n",
       "        11           16\n",
       "        12           12\n",
       "1003    8            37\n",
       "        9            91\n",
       "        10           83\n",
       "        11           94\n",
       "        12           75\n",
       "1004    5            95\n",
       "        6           134\n",
       "        7           181\n",
       "        8           151\n",
       "        9           146\n",
       "        10          165\n",
       "        11          158\n",
       "        12          162\n",
       "1005    1             7\n",
       "        2            38"
      ]
     },
     "execution_count": 180,
     "metadata": {},
     "output_type": "execute_result"
    }
   ],
   "source": [
    "messages_per_month.head(30)"
   ]
  },
  {
   "cell_type": "markdown",
   "metadata": {
    "deletable": false,
    "editable": false,
    "tags": [
     "start_task"
    ]
   },
   "source": [
    "**Задание 27.** Посчитайте количество потраченных мегабайт по месяцам для каждого пользователя и сохраните в переменную `sessions_per_month`. Вам понадобится\n",
    "\n",
    "- сгруппировать датафрейм с информацией о сообщениях по двум столбцам — с идентификаторами пользователей и номерами месяцев;\n",
    "- затем применить метод для подсчёта суммы: `.agg({'mb_used': 'sum'})`"
   ]
  },
  {
   "cell_type": "code",
   "execution_count": 181,
   "metadata": {
    "deletable": false
   },
   "outputs": [],
   "source": [
    "sessions_per_month = sessions.groupby(['user_id', 'month']).agg({'mb_used': 'sum'})"
   ]
  },
  {
   "cell_type": "code",
   "execution_count": 182,
   "metadata": {
    "deletable": false
   },
   "outputs": [
    {
     "data": {
      "text/html": [
       "<div>\n",
       "<style scoped>\n",
       "    .dataframe tbody tr th:only-of-type {\n",
       "        vertical-align: middle;\n",
       "    }\n",
       "\n",
       "    .dataframe tbody tr th {\n",
       "        vertical-align: top;\n",
       "    }\n",
       "\n",
       "    .dataframe thead th {\n",
       "        text-align: right;\n",
       "    }\n",
       "</style>\n",
       "<table border=\"1\" class=\"dataframe\">\n",
       "  <thead>\n",
       "    <tr style=\"text-align: right;\">\n",
       "      <th></th>\n",
       "      <th></th>\n",
       "      <th>mb_used</th>\n",
       "    </tr>\n",
       "    <tr>\n",
       "      <th>user_id</th>\n",
       "      <th>month</th>\n",
       "      <th></th>\n",
       "    </tr>\n",
       "  </thead>\n",
       "  <tbody>\n",
       "    <tr>\n",
       "      <th rowspan=\"8\" valign=\"top\">1000</th>\n",
       "      <th>5</th>\n",
       "      <td>2253.49</td>\n",
       "    </tr>\n",
       "    <tr>\n",
       "      <th>6</th>\n",
       "      <td>23233.77</td>\n",
       "    </tr>\n",
       "    <tr>\n",
       "      <th>7</th>\n",
       "      <td>14003.64</td>\n",
       "    </tr>\n",
       "    <tr>\n",
       "      <th>8</th>\n",
       "      <td>14055.93</td>\n",
       "    </tr>\n",
       "    <tr>\n",
       "      <th>9</th>\n",
       "      <td>14568.91</td>\n",
       "    </tr>\n",
       "    <tr>\n",
       "      <th>10</th>\n",
       "      <td>14702.49</td>\n",
       "    </tr>\n",
       "    <tr>\n",
       "      <th>11</th>\n",
       "      <td>14756.47</td>\n",
       "    </tr>\n",
       "    <tr>\n",
       "      <th>12</th>\n",
       "      <td>9817.61</td>\n",
       "    </tr>\n",
       "    <tr>\n",
       "      <th rowspan=\"2\" valign=\"top\">1001</th>\n",
       "      <th>11</th>\n",
       "      <td>18429.34</td>\n",
       "    </tr>\n",
       "    <tr>\n",
       "      <th>12</th>\n",
       "      <td>14036.66</td>\n",
       "    </tr>\n",
       "    <tr>\n",
       "      <th rowspan=\"7\" valign=\"top\">1002</th>\n",
       "      <th>6</th>\n",
       "      <td>10856.82</td>\n",
       "    </tr>\n",
       "    <tr>\n",
       "      <th>7</th>\n",
       "      <td>17580.10</td>\n",
       "    </tr>\n",
       "    <tr>\n",
       "      <th>8</th>\n",
       "      <td>20319.26</td>\n",
       "    </tr>\n",
       "    <tr>\n",
       "      <th>9</th>\n",
       "      <td>16691.08</td>\n",
       "    </tr>\n",
       "    <tr>\n",
       "      <th>10</th>\n",
       "      <td>13888.25</td>\n",
       "    </tr>\n",
       "    <tr>\n",
       "      <th>11</th>\n",
       "      <td>18587.28</td>\n",
       "    </tr>\n",
       "    <tr>\n",
       "      <th>12</th>\n",
       "      <td>18113.73</td>\n",
       "    </tr>\n",
       "    <tr>\n",
       "      <th rowspan=\"5\" valign=\"top\">1003</th>\n",
       "      <th>8</th>\n",
       "      <td>8565.21</td>\n",
       "    </tr>\n",
       "    <tr>\n",
       "      <th>9</th>\n",
       "      <td>12468.87</td>\n",
       "    </tr>\n",
       "    <tr>\n",
       "      <th>10</th>\n",
       "      <td>14768.14</td>\n",
       "    </tr>\n",
       "    <tr>\n",
       "      <th>11</th>\n",
       "      <td>11356.89</td>\n",
       "    </tr>\n",
       "    <tr>\n",
       "      <th>12</th>\n",
       "      <td>10121.53</td>\n",
       "    </tr>\n",
       "    <tr>\n",
       "      <th rowspan=\"8\" valign=\"top\">1004</th>\n",
       "      <th>5</th>\n",
       "      <td>13403.98</td>\n",
       "    </tr>\n",
       "    <tr>\n",
       "      <th>6</th>\n",
       "      <td>17600.02</td>\n",
       "    </tr>\n",
       "    <tr>\n",
       "      <th>7</th>\n",
       "      <td>22229.58</td>\n",
       "    </tr>\n",
       "    <tr>\n",
       "      <th>8</th>\n",
       "      <td>28584.37</td>\n",
       "    </tr>\n",
       "    <tr>\n",
       "      <th>9</th>\n",
       "      <td>15109.03</td>\n",
       "    </tr>\n",
       "    <tr>\n",
       "      <th>10</th>\n",
       "      <td>18475.44</td>\n",
       "    </tr>\n",
       "    <tr>\n",
       "      <th>11</th>\n",
       "      <td>15616.02</td>\n",
       "    </tr>\n",
       "    <tr>\n",
       "      <th>12</th>\n",
       "      <td>18021.04</td>\n",
       "    </tr>\n",
       "  </tbody>\n",
       "</table>\n",
       "</div>"
      ],
      "text/plain": [
       "                mb_used\n",
       "user_id month          \n",
       "1000    5       2253.49\n",
       "        6      23233.77\n",
       "        7      14003.64\n",
       "        8      14055.93\n",
       "        9      14568.91\n",
       "        10     14702.49\n",
       "        11     14756.47\n",
       "        12      9817.61\n",
       "1001    11     18429.34\n",
       "        12     14036.66\n",
       "1002    6      10856.82\n",
       "        7      17580.10\n",
       "        8      20319.26\n",
       "        9      16691.08\n",
       "        10     13888.25\n",
       "        11     18587.28\n",
       "        12     18113.73\n",
       "1003    8       8565.21\n",
       "        9      12468.87\n",
       "        10     14768.14\n",
       "        11     11356.89\n",
       "        12     10121.53\n",
       "1004    5      13403.98\n",
       "        6      17600.02\n",
       "        7      22229.58\n",
       "        8      28584.37\n",
       "        9      15109.03\n",
       "        10     18475.44\n",
       "        11     15616.02\n",
       "        12     18021.04"
      ]
     },
     "execution_count": 182,
     "metadata": {},
     "output_type": "execute_result"
    }
   ],
   "source": [
    "sessions_per_month.head(30)"
   ]
  },
  {
   "cell_type": "markdown",
   "metadata": {
    "deletable": false,
    "editable": false
   },
   "source": [
    "### Анализ данных и подсчёт выручки"
   ]
  },
  {
   "cell_type": "markdown",
   "metadata": {
    "deletable": false,
    "editable": false
   },
   "source": [
    "Объединяем все посчитанные выше значения в один датафрейм `user_behavior`.\n",
    "Для каждой пары \"пользователь - месяц\" будут доступны информация о тарифе, количестве звонков, сообщений и потраченных мегабайтах."
   ]
  },
  {
   "cell_type": "code",
   "execution_count": 183,
   "metadata": {
    "deletable": false
   },
   "outputs": [
    {
     "data": {
      "text/plain": [
       "7.6"
      ]
     },
     "execution_count": 183,
     "metadata": {},
     "output_type": "execute_result"
    }
   ],
   "source": [
    "users['churn_date'].count() / users['churn_date'].shape[0] * 100"
   ]
  },
  {
   "cell_type": "markdown",
   "metadata": {
    "deletable": false,
    "editable": false
   },
   "source": [
    "Расторгли договор 7.6% клиентов из датасета"
   ]
  },
  {
   "cell_type": "code",
   "execution_count": 184,
   "metadata": {
    "deletable": false
   },
   "outputs": [
    {
     "data": {
      "text/html": [
       "<div>\n",
       "<style scoped>\n",
       "    .dataframe tbody tr th:only-of-type {\n",
       "        vertical-align: middle;\n",
       "    }\n",
       "\n",
       "    .dataframe tbody tr th {\n",
       "        vertical-align: top;\n",
       "    }\n",
       "\n",
       "    .dataframe thead th {\n",
       "        text-align: right;\n",
       "    }\n",
       "</style>\n",
       "<table border=\"1\" class=\"dataframe\">\n",
       "  <thead>\n",
       "    <tr style=\"text-align: right;\">\n",
       "      <th></th>\n",
       "      <th>user_id</th>\n",
       "      <th>month</th>\n",
       "      <th>calls</th>\n",
       "      <th>messages</th>\n",
       "      <th>mb_used</th>\n",
       "      <th>minutes</th>\n",
       "      <th>age</th>\n",
       "      <th>churn_date</th>\n",
       "      <th>city</th>\n",
       "      <th>first_name</th>\n",
       "      <th>last_name</th>\n",
       "      <th>reg_date</th>\n",
       "      <th>tariff</th>\n",
       "    </tr>\n",
       "  </thead>\n",
       "  <tbody>\n",
       "    <tr>\n",
       "      <th>0</th>\n",
       "      <td>1000</td>\n",
       "      <td>5</td>\n",
       "      <td>22.0</td>\n",
       "      <td>22.0</td>\n",
       "      <td>2253.49</td>\n",
       "      <td>159.0</td>\n",
       "      <td>52</td>\n",
       "      <td>NaT</td>\n",
       "      <td>Краснодар</td>\n",
       "      <td>Рафаил</td>\n",
       "      <td>Верещагин</td>\n",
       "      <td>2018-05-25</td>\n",
       "      <td>ultra</td>\n",
       "    </tr>\n",
       "    <tr>\n",
       "      <th>1</th>\n",
       "      <td>1000</td>\n",
       "      <td>6</td>\n",
       "      <td>43.0</td>\n",
       "      <td>60.0</td>\n",
       "      <td>23233.77</td>\n",
       "      <td>172.0</td>\n",
       "      <td>52</td>\n",
       "      <td>NaT</td>\n",
       "      <td>Краснодар</td>\n",
       "      <td>Рафаил</td>\n",
       "      <td>Верещагин</td>\n",
       "      <td>2018-05-25</td>\n",
       "      <td>ultra</td>\n",
       "    </tr>\n",
       "    <tr>\n",
       "      <th>2</th>\n",
       "      <td>1000</td>\n",
       "      <td>7</td>\n",
       "      <td>47.0</td>\n",
       "      <td>75.0</td>\n",
       "      <td>14003.64</td>\n",
       "      <td>340.0</td>\n",
       "      <td>52</td>\n",
       "      <td>NaT</td>\n",
       "      <td>Краснодар</td>\n",
       "      <td>Рафаил</td>\n",
       "      <td>Верещагин</td>\n",
       "      <td>2018-05-25</td>\n",
       "      <td>ultra</td>\n",
       "    </tr>\n",
       "    <tr>\n",
       "      <th>3</th>\n",
       "      <td>1000</td>\n",
       "      <td>8</td>\n",
       "      <td>52.0</td>\n",
       "      <td>81.0</td>\n",
       "      <td>14055.93</td>\n",
       "      <td>408.0</td>\n",
       "      <td>52</td>\n",
       "      <td>NaT</td>\n",
       "      <td>Краснодар</td>\n",
       "      <td>Рафаил</td>\n",
       "      <td>Верещагин</td>\n",
       "      <td>2018-05-25</td>\n",
       "      <td>ultra</td>\n",
       "    </tr>\n",
       "    <tr>\n",
       "      <th>4</th>\n",
       "      <td>1000</td>\n",
       "      <td>9</td>\n",
       "      <td>58.0</td>\n",
       "      <td>57.0</td>\n",
       "      <td>14568.91</td>\n",
       "      <td>466.0</td>\n",
       "      <td>52</td>\n",
       "      <td>NaT</td>\n",
       "      <td>Краснодар</td>\n",
       "      <td>Рафаил</td>\n",
       "      <td>Верещагин</td>\n",
       "      <td>2018-05-25</td>\n",
       "      <td>ultra</td>\n",
       "    </tr>\n",
       "  </tbody>\n",
       "</table>\n",
       "</div>"
      ],
      "text/plain": [
       "   user_id  month  calls  messages   mb_used  minutes  age churn_date  \\\n",
       "0     1000      5   22.0      22.0   2253.49    159.0   52        NaT   \n",
       "1     1000      6   43.0      60.0  23233.77    172.0   52        NaT   \n",
       "2     1000      7   47.0      75.0  14003.64    340.0   52        NaT   \n",
       "3     1000      8   52.0      81.0  14055.93    408.0   52        NaT   \n",
       "4     1000      9   58.0      57.0  14568.91    466.0   52        NaT   \n",
       "\n",
       "        city first_name  last_name   reg_date tariff  \n",
       "0  Краснодар     Рафаил  Верещагин 2018-05-25  ultra  \n",
       "1  Краснодар     Рафаил  Верещагин 2018-05-25  ultra  \n",
       "2  Краснодар     Рафаил  Верещагин 2018-05-25  ultra  \n",
       "3  Краснодар     Рафаил  Верещагин 2018-05-25  ultra  \n",
       "4  Краснодар     Рафаил  Верещагин 2018-05-25  ultra  "
      ]
     },
     "execution_count": 184,
     "metadata": {},
     "output_type": "execute_result"
    }
   ],
   "source": [
    "user_behavior = calls_per_month\\\n",
    "    .merge(messages_per_month, left_index=True, right_index=True, how='outer')\\\n",
    "    .merge(sessions_per_month, left_index=True, right_index=True, how='outer')\\\n",
    "    .merge(minutes_per_month, left_index=True, right_index=True, how='outer')\\\n",
    "    .reset_index()\\\n",
    "    .merge(users, how='left', left_on='user_id', right_on='user_id')\\\n",
    "\n",
    "user_behavior.head()"
   ]
  },
  {
   "cell_type": "markdown",
   "metadata": {
    "deletable": false,
    "editable": false
   },
   "source": [
    "Проверим пропуски в таблице `user_behavior` после объединения:"
   ]
  },
  {
   "cell_type": "code",
   "execution_count": 185,
   "metadata": {
    "deletable": false
   },
   "outputs": [
    {
     "data": {
      "text/plain": [
       "user_id          0\n",
       "month            0\n",
       "calls           40\n",
       "messages       497\n",
       "mb_used         11\n",
       "minutes         40\n",
       "age              0\n",
       "churn_date    3027\n",
       "city             0\n",
       "first_name       0\n",
       "last_name        0\n",
       "reg_date         0\n",
       "tariff           0\n",
       "dtype: int64"
      ]
     },
     "execution_count": 185,
     "metadata": {},
     "output_type": "execute_result"
    }
   ],
   "source": [
    "user_behavior.isna().sum()"
   ]
  },
  {
   "cell_type": "markdown",
   "metadata": {
    "deletable": false,
    "editable": false
   },
   "source": [
    "Заполним образовавшиеся пропуски в данных:"
   ]
  },
  {
   "cell_type": "code",
   "execution_count": 186,
   "metadata": {
    "deletable": false
   },
   "outputs": [],
   "source": [
    "user_behavior['calls'] = user_behavior['calls'].fillna(0)\n",
    "user_behavior['minutes'] = user_behavior['minutes'].fillna(0)\n",
    "user_behavior['messages'] = user_behavior['messages'].fillna(0)\n",
    "user_behavior['mb_used'] = user_behavior['mb_used'].fillna(0)"
   ]
  },
  {
   "cell_type": "markdown",
   "metadata": {
    "deletable": false,
    "editable": false
   },
   "source": [
    "Присоединяем информацию о тарифах"
   ]
  },
  {
   "cell_type": "code",
   "execution_count": 187,
   "metadata": {
    "deletable": false
   },
   "outputs": [],
   "source": [
    "# переименование столбца tariff_name на более простое tariff\n",
    "\n",
    "tariffs = tariffs.rename(\n",
    "    columns={\n",
    "        'tariff_name': 'tariff'\n",
    "    }\n",
    ")"
   ]
  },
  {
   "cell_type": "code",
   "execution_count": 188,
   "metadata": {
    "deletable": false
   },
   "outputs": [],
   "source": [
    "user_behavior = user_behavior.merge(tariffs, on='tariff')"
   ]
  },
  {
   "cell_type": "markdown",
   "metadata": {
    "deletable": false,
    "editable": false
   },
   "source": [
    "Считаем количество минут разговора, сообщений и мегабайт, превышающих включенные в тариф\n"
   ]
  },
  {
   "cell_type": "code",
   "execution_count": 189,
   "metadata": {
    "deletable": false
   },
   "outputs": [],
   "source": [
    "user_behavior['paid_minutes'] = user_behavior['minutes'] - user_behavior['minutes_included']\n",
    "user_behavior['paid_messages'] = user_behavior['messages'] - user_behavior['messages_included']\n",
    "user_behavior['paid_mb'] = user_behavior['mb_used'] - user_behavior['mb_per_month_included']\n",
    "\n",
    "for col in ['paid_messages', 'paid_minutes', 'paid_mb']:\n",
    "    user_behavior.loc[user_behavior[col] < 0, col] = 0"
   ]
  },
  {
   "cell_type": "markdown",
   "metadata": {
    "deletable": false,
    "editable": false
   },
   "source": [
    "Переводим превышающие тариф мегабайты в гигабайты и сохраняем в столбец `paid_gb`"
   ]
  },
  {
   "cell_type": "code",
   "execution_count": 190,
   "metadata": {
    "deletable": false
   },
   "outputs": [],
   "source": [
    "user_behavior['paid_gb'] = np.ceil(user_behavior['paid_mb'] / 1024).astype(int)"
   ]
  },
  {
   "cell_type": "markdown",
   "metadata": {
    "deletable": false,
    "editable": false
   },
   "source": [
    "Считаем выручку за минуты разговора, сообщения и интернет"
   ]
  },
  {
   "cell_type": "code",
   "execution_count": 191,
   "metadata": {
    "deletable": false
   },
   "outputs": [],
   "source": [
    "user_behavior['cost_minutes'] = user_behavior['paid_minutes'] * user_behavior['rub_per_minute']\n",
    "user_behavior['cost_messages'] = user_behavior['paid_messages'] * user_behavior['rub_per_message']\n",
    "user_behavior['cost_gb'] = user_behavior['paid_gb'] * user_behavior['rub_per_gb']"
   ]
  },
  {
   "cell_type": "markdown",
   "metadata": {
    "deletable": false,
    "editable": false
   },
   "source": [
    "Считаем помесячную выручку с каждого пользователя, она будет храниться в столбец `total_cost`"
   ]
  },
  {
   "cell_type": "code",
   "execution_count": 192,
   "metadata": {
    "deletable": false
   },
   "outputs": [],
   "source": [
    "user_behavior['total_cost'] = \\\n",
    "      user_behavior['rub_monthly_fee']\\\n",
    "    + user_behavior['cost_minutes']\\\n",
    "    + user_behavior['cost_messages']\\\n",
    "    + user_behavior['cost_gb']"
   ]
  },
  {
   "cell_type": "markdown",
   "metadata": {
    "deletable": false,
    "editable": false
   },
   "source": [
    "Датафрейм `stats_df` для каждой пары \"месяц-тариф\" будет хранить основные характеристики"
   ]
  },
  {
   "cell_type": "code",
   "execution_count": 193,
   "metadata": {
    "deletable": false
   },
   "outputs": [
    {
     "data": {
      "text/html": [
       "<div>\n",
       "<style scoped>\n",
       "    .dataframe tbody tr th:only-of-type {\n",
       "        vertical-align: middle;\n",
       "    }\n",
       "\n",
       "    .dataframe tbody tr th {\n",
       "        vertical-align: top;\n",
       "    }\n",
       "\n",
       "    .dataframe thead th {\n",
       "        text-align: right;\n",
       "    }\n",
       "</style>\n",
       "<table border=\"1\" class=\"dataframe\">\n",
       "  <thead>\n",
       "    <tr style=\"text-align: right;\">\n",
       "      <th></th>\n",
       "      <th>month</th>\n",
       "      <th>tariff</th>\n",
       "      <th>calls_mean</th>\n",
       "      <th>sessions_mean</th>\n",
       "      <th>messages_mean</th>\n",
       "      <th>minutes_mean</th>\n",
       "      <th>calls_std</th>\n",
       "      <th>sessions_std</th>\n",
       "      <th>messages_std</th>\n",
       "      <th>minutes_std</th>\n",
       "      <th>calls_median</th>\n",
       "      <th>sessions_median</th>\n",
       "      <th>messages_median</th>\n",
       "      <th>minutes_median</th>\n",
       "    </tr>\n",
       "  </thead>\n",
       "  <tbody>\n",
       "    <tr>\n",
       "      <th>0</th>\n",
       "      <td>1</td>\n",
       "      <td>smart</td>\n",
       "      <td>27.68</td>\n",
       "      <td>8513.72</td>\n",
       "      <td>18.24</td>\n",
       "      <td>203.85</td>\n",
       "      <td>20.81</td>\n",
       "      <td>6444.68</td>\n",
       "      <td>16.20</td>\n",
       "      <td>154.23</td>\n",
       "      <td>20.5</td>\n",
       "      <td>7096.18</td>\n",
       "      <td>15.0</td>\n",
       "      <td>162.5</td>\n",
       "    </tr>\n",
       "    <tr>\n",
       "      <th>1</th>\n",
       "      <td>1</td>\n",
       "      <td>ultra</td>\n",
       "      <td>59.44</td>\n",
       "      <td>13140.68</td>\n",
       "      <td>33.78</td>\n",
       "      <td>428.11</td>\n",
       "      <td>41.64</td>\n",
       "      <td>6865.35</td>\n",
       "      <td>30.67</td>\n",
       "      <td>269.76</td>\n",
       "      <td>51.0</td>\n",
       "      <td>14791.37</td>\n",
       "      <td>32.0</td>\n",
       "      <td>382.0</td>\n",
       "    </tr>\n",
       "    <tr>\n",
       "      <th>2</th>\n",
       "      <td>2</td>\n",
       "      <td>smart</td>\n",
       "      <td>40.19</td>\n",
       "      <td>11597.05</td>\n",
       "      <td>24.09</td>\n",
       "      <td>298.69</td>\n",
       "      <td>25.39</td>\n",
       "      <td>6247.35</td>\n",
       "      <td>21.75</td>\n",
       "      <td>190.82</td>\n",
       "      <td>38.5</td>\n",
       "      <td>12553.71</td>\n",
       "      <td>20.0</td>\n",
       "      <td>258.0</td>\n",
       "    </tr>\n",
       "    <tr>\n",
       "      <th>3</th>\n",
       "      <td>2</td>\n",
       "      <td>ultra</td>\n",
       "      <td>41.54</td>\n",
       "      <td>11775.94</td>\n",
       "      <td>21.96</td>\n",
       "      <td>297.12</td>\n",
       "      <td>40.97</td>\n",
       "      <td>10644.64</td>\n",
       "      <td>26.77</td>\n",
       "      <td>296.51</td>\n",
       "      <td>25.0</td>\n",
       "      <td>7327.12</td>\n",
       "      <td>5.5</td>\n",
       "      <td>168.0</td>\n",
       "    </tr>\n",
       "    <tr>\n",
       "      <th>4</th>\n",
       "      <td>3</td>\n",
       "      <td>smart</td>\n",
       "      <td>54.32</td>\n",
       "      <td>15104.16</td>\n",
       "      <td>31.86</td>\n",
       "      <td>390.05</td>\n",
       "      <td>25.54</td>\n",
       "      <td>5828.24</td>\n",
       "      <td>26.80</td>\n",
       "      <td>191.89</td>\n",
       "      <td>59.0</td>\n",
       "      <td>15670.25</td>\n",
       "      <td>23.0</td>\n",
       "      <td>409.0</td>\n",
       "    </tr>\n",
       "    <tr>\n",
       "      <th>5</th>\n",
       "      <td>3</td>\n",
       "      <td>ultra</td>\n",
       "      <td>67.68</td>\n",
       "      <td>17535.55</td>\n",
       "      <td>32.30</td>\n",
       "      <td>489.65</td>\n",
       "      <td>44.84</td>\n",
       "      <td>10951.79</td>\n",
       "      <td>41.62</td>\n",
       "      <td>333.74</td>\n",
       "      <td>57.0</td>\n",
       "      <td>17495.18</td>\n",
       "      <td>20.0</td>\n",
       "      <td>403.0</td>\n",
       "    </tr>\n",
       "    <tr>\n",
       "      <th>6</th>\n",
       "      <td>4</td>\n",
       "      <td>smart</td>\n",
       "      <td>51.31</td>\n",
       "      <td>13462.18</td>\n",
       "      <td>30.74</td>\n",
       "      <td>367.13</td>\n",
       "      <td>25.70</td>\n",
       "      <td>5698.25</td>\n",
       "      <td>24.54</td>\n",
       "      <td>186.49</td>\n",
       "      <td>52.0</td>\n",
       "      <td>14087.65</td>\n",
       "      <td>28.0</td>\n",
       "      <td>368.5</td>\n",
       "    </tr>\n",
       "    <tr>\n",
       "      <th>7</th>\n",
       "      <td>4</td>\n",
       "      <td>ultra</td>\n",
       "      <td>64.09</td>\n",
       "      <td>16828.13</td>\n",
       "      <td>31.56</td>\n",
       "      <td>458.02</td>\n",
       "      <td>36.27</td>\n",
       "      <td>9718.65</td>\n",
       "      <td>37.51</td>\n",
       "      <td>267.68</td>\n",
       "      <td>61.0</td>\n",
       "      <td>16645.78</td>\n",
       "      <td>17.0</td>\n",
       "      <td>453.0</td>\n",
       "    </tr>\n",
       "    <tr>\n",
       "      <th>8</th>\n",
       "      <td>5</td>\n",
       "      <td>smart</td>\n",
       "      <td>55.24</td>\n",
       "      <td>15805.18</td>\n",
       "      <td>33.77</td>\n",
       "      <td>387.36</td>\n",
       "      <td>25.38</td>\n",
       "      <td>5978.23</td>\n",
       "      <td>27.04</td>\n",
       "      <td>186.60</td>\n",
       "      <td>59.0</td>\n",
       "      <td>16323.94</td>\n",
       "      <td>30.0</td>\n",
       "      <td>433.0</td>\n",
       "    </tr>\n",
       "    <tr>\n",
       "      <th>9</th>\n",
       "      <td>5</td>\n",
       "      <td>ultra</td>\n",
       "      <td>72.51</td>\n",
       "      <td>19363.15</td>\n",
       "      <td>37.85</td>\n",
       "      <td>510.33</td>\n",
       "      <td>41.08</td>\n",
       "      <td>10046.11</td>\n",
       "      <td>40.31</td>\n",
       "      <td>289.60</td>\n",
       "      <td>75.0</td>\n",
       "      <td>18696.43</td>\n",
       "      <td>25.0</td>\n",
       "      <td>519.0</td>\n",
       "    </tr>\n",
       "  </tbody>\n",
       "</table>\n",
       "</div>"
      ],
      "text/plain": [
       "   month tariff  calls_mean  sessions_mean  messages_mean  minutes_mean  \\\n",
       "0      1  smart       27.68        8513.72          18.24        203.85   \n",
       "1      1  ultra       59.44       13140.68          33.78        428.11   \n",
       "2      2  smart       40.19       11597.05          24.09        298.69   \n",
       "3      2  ultra       41.54       11775.94          21.96        297.12   \n",
       "4      3  smart       54.32       15104.16          31.86        390.05   \n",
       "5      3  ultra       67.68       17535.55          32.30        489.65   \n",
       "6      4  smart       51.31       13462.18          30.74        367.13   \n",
       "7      4  ultra       64.09       16828.13          31.56        458.02   \n",
       "8      5  smart       55.24       15805.18          33.77        387.36   \n",
       "9      5  ultra       72.51       19363.15          37.85        510.33   \n",
       "\n",
       "   calls_std  sessions_std  messages_std  minutes_std  calls_median  \\\n",
       "0      20.81       6444.68         16.20       154.23          20.5   \n",
       "1      41.64       6865.35         30.67       269.76          51.0   \n",
       "2      25.39       6247.35         21.75       190.82          38.5   \n",
       "3      40.97      10644.64         26.77       296.51          25.0   \n",
       "4      25.54       5828.24         26.80       191.89          59.0   \n",
       "5      44.84      10951.79         41.62       333.74          57.0   \n",
       "6      25.70       5698.25         24.54       186.49          52.0   \n",
       "7      36.27       9718.65         37.51       267.68          61.0   \n",
       "8      25.38       5978.23         27.04       186.60          59.0   \n",
       "9      41.08      10046.11         40.31       289.60          75.0   \n",
       "\n",
       "   sessions_median  messages_median  minutes_median  \n",
       "0          7096.18             15.0           162.5  \n",
       "1         14791.37             32.0           382.0  \n",
       "2         12553.71             20.0           258.0  \n",
       "3          7327.12              5.5           168.0  \n",
       "4         15670.25             23.0           409.0  \n",
       "5         17495.18             20.0           403.0  \n",
       "6         14087.65             28.0           368.5  \n",
       "7         16645.78             17.0           453.0  \n",
       "8         16323.94             30.0           433.0  \n",
       "9         18696.43             25.0           519.0  "
      ]
     },
     "execution_count": 193,
     "metadata": {},
     "output_type": "execute_result"
    }
   ],
   "source": [
    "# сохранение статистических метрик для каждой пары месяц-тариф\n",
    "# в одной таблице stats_df (среднее значение, стандартное отклонение, медиана)\n",
    "\n",
    "stats_df = user_behavior.pivot_table(\n",
    "            index=['month', 'tariff'],\\\n",
    "            values=['calls', 'minutes', 'messages', 'mb_used'],\\\n",
    "            aggfunc=['mean', 'std', 'median']\\\n",
    ").round(2).reset_index()\n",
    "\n",
    "stats_df.columns=['month', 'tariff', 'calls_mean', 'sessions_mean', 'messages_mean', 'minutes_mean',\n",
    "                                     'calls_std',  'sessions_std', 'messages_std', 'minutes_std', \n",
    "                                     'calls_median', 'sessions_median', 'messages_median',  'minutes_median']\n",
    "\n",
    "stats_df.head(10)"
   ]
  },
  {
   "cell_type": "markdown",
   "metadata": {
    "deletable": false,
    "editable": false
   },
   "source": [
    "Распределение среднего количества звонков по видам тарифов и месяцам"
   ]
  },
  {
   "cell_type": "code",
   "execution_count": 194,
   "metadata": {
    "deletable": false
   },
   "outputs": [
    {
     "data": {
      "image/png": "[encoded data removed]",
      "text/plain": [
       "<Figure size 640x480 with 1 Axes>"
      ]
     },
     "metadata": {},
     "output_type": "display_data"
    }
   ],
   "source": [
    "import seaborn as sns\n",
    "\n",
    "ax = sns.barplot(x='month',\n",
    "            y='calls_mean',\n",
    "            hue=\"tariff\",\n",
    "            data=stats_df,\n",
    "            palette=['lightblue', 'blue'])\n",
    "\n",
    "ax.set_title('Распределение количества звонков по видам тарифов и месяцам')\n",
    "ax.set(xlabel='Номер месяца', ylabel='Среднее количество звонков');"
   ]
  },
  {
   "cell_type": "code",
   "execution_count": 195,
   "metadata": {
    "deletable": false
   },
   "outputs": [
    {
     "data": {
      "image/png": "[encoded data removed]",
      "text/plain": [
       "<Figure size 640x480 with 1 Axes>"
      ]
     },
     "metadata": {},
     "output_type": "display_data"
    }
   ],
   "source": [
    "import matplotlib.pyplot as plt\n",
    "\n",
    "user_behavior.groupby('tariff')['calls'].plot(kind='hist', bins=35, alpha=0.5)\n",
    "plt.legend(['Smart', 'Ultra'])\n",
    "plt.xlabel('Количество звонков')\n",
    "plt.ylabel('Количество клиентов')\n",
    "plt.show()"
   ]
  },
  {
   "cell_type": "markdown",
   "metadata": {
    "deletable": false,
    "editable": false
   },
   "source": [
    "Распределение средней продолжительности звонков по видам тарифов и месяцам"
   ]
  },
  {
   "cell_type": "code",
   "execution_count": 196,
   "metadata": {
    "deletable": false
   },
   "outputs": [
    {
     "data": {
      "image/png": "[encoded data removed]",
      "text/plain": [
       "<Figure size 640x480 with 1 Axes>"
      ]
     },
     "metadata": {},
     "output_type": "display_data"
    }
   ],
   "source": [
    "ax = sns.barplot(x='month',\n",
    "            y='minutes_mean',\n",
    "            hue=\"tariff\",\n",
    "            data=stats_df,\n",
    "            palette=['lightblue', 'blue'])\n",
    "\n",
    "ax.set_title('Распределение продолжительности звонков по видам тарифов и месяцам')\n",
    "ax.set(xlabel='Номер месяца', ylabel='Средняя продолжительность звонков');"
   ]
  },
  {
   "cell_type": "code",
   "execution_count": 197,
   "metadata": {
    "deletable": false
   },
   "outputs": [
    {
     "data": {
      "image/png": "[encoded data removed]",
      "text/plain": [
       "<Figure size 640x480 with 1 Axes>"
      ]
     },
     "metadata": {},
     "output_type": "display_data"
    }
   ],
   "source": [
    "user_behavior[user_behavior['tariff'] =='smart']['minutes'].hist(bins=35, alpha=0.5, color='green')\n",
    "user_behavior[user_behavior['tariff'] =='ultra']['minutes'].hist(bins=35, alpha=0.5, color='blue');"
   ]
  },
  {
   "cell_type": "markdown",
   "metadata": {
    "deletable": false,
    "editable": false
   },
   "source": [
    "Средняя длительность разговоров у абонентов тарифа Ultra больше, чем у абонентов тарифа Smart. В течение года пользователи обоих тарифов увеличивают среднюю продолжительность своих разговоров. Рост средней длительности разговоров у абонентов тарифа Smart равномерный в течение года. Пользователи тарифа Ultra не проявляют подобной линейной стабильности. Стоит отметить, что феврале у абонентов обоих тарифных планов наблюдались самые низкие показатели."
   ]
  },
  {
   "cell_type": "markdown",
   "metadata": {
    "deletable": false,
    "editable": false
   },
   "source": [
    "Распределение среднего количества сообщений по видам тарифов и месяцам"
   ]
  },
  {
   "cell_type": "code",
   "execution_count": 198,
   "metadata": {
    "deletable": false
   },
   "outputs": [
    {
     "data": {
      "image/png": "[encoded data removed]",
      "text/plain": [
       "<Figure size 640x480 with 1 Axes>"
      ]
     },
     "metadata": {},
     "output_type": "display_data"
    }
   ],
   "source": [
    "ax = sns.barplot(x='month',\n",
    "            y='messages_mean',\n",
    "            hue=\"tariff\",\n",
    "            data=stats_df,\n",
    "            palette=['lightblue', 'blue']\n",
    ")\n",
    "\n",
    "ax.set_title('Распределение количества сообщений по видам тарифов и месяцам')\n",
    "ax.set(xlabel='Номер месяца', ylabel='Среднее количество сообщений');"
   ]
  },
  {
   "cell_type": "code",
   "execution_count": 199,
   "metadata": {
    "deletable": false
   },
   "outputs": [
    {
     "data": {
      "image/png": "[encoded data removed]",
      "text/plain": [
       "<Figure size 640x480 with 1 Axes>"
      ]
     },
     "metadata": {},
     "output_type": "display_data"
    }
   ],
   "source": [
    "user_behavior[user_behavior['tariff'] =='smart']['messages'].hist(bins=35, alpha=0.5, color='green')\n",
    "user_behavior[user_behavior['tariff'] =='ultra']['messages'].hist(bins=35, alpha=0.5, color='blue');"
   ]
  },
  {
   "cell_type": "markdown",
   "metadata": {},
   "source": [
    "В среднем количество сообщений пользователи тарифа Ultra отправляют больше - почти на 20 сообщений больше, чем пользователи тарифа Smart. Количество сообщений в течение года на обоих тарифак растет. Динамика по отправке сообщений схожа с тенденциями по длительности разговоров: в феврале отмечено наименьшее количество сообщений за год и пользователи тарифа Ultra также проявляют нелинейную положительную динамику."
   ]
  },
  {
   "cell_type": "code",
   "execution_count": 200,
   "metadata": {
    "deletable": false
   },
   "outputs": [
    {
     "data": {
      "image/png": "[encoded data removed]",
      "text/plain": [
       "<Figure size 640x480 with 1 Axes>"
      ]
     },
     "metadata": {},
     "output_type": "display_data"
    }
   ],
   "source": [
    "ax = sns.barplot(x='month',\n",
    "            y='sessions_mean',\n",
    "            hue=\"tariff\",\n",
    "            data=stats_df,\n",
    "            palette=['lightblue', 'blue']\n",
    ")\n",
    "\n",
    "ax.set_title('Распределение количества потраченного трафика (Мб) по видам тарифов и месяцам')\n",
    "ax.set(xlabel='Номер месяца', ylabel='Среднее количество мегабайт');"
   ]
  },
  {
   "cell_type": "markdown",
   "metadata": {
    "deletable": false,
    "editable": false
   },
   "source": [
    "Сравнение потраченных мегабайт среди пользователей тарифов Smart и Ultra"
   ]
  },
  {
   "cell_type": "code",
   "execution_count": 201,
   "metadata": {
    "deletable": false
   },
   "outputs": [
    {
     "data": {
      "image/png": "[encoded data removed]",
      "text/plain": [
       "<Figure size 640x480 with 1 Axes>"
      ]
     },
     "metadata": {},
     "output_type": "display_data"
    }
   ],
   "source": [
    "user_behavior[user_behavior['tariff'] =='smart']['mb_used'].hist(bins=35, alpha=0.5, color='green')\n",
    "user_behavior[user_behavior['tariff'] =='ultra']['mb_used'].hist(bins=35, alpha=0.5, color='blue');"
   ]
  },
  {
   "cell_type": "markdown",
   "metadata": {
    "deletable": false,
    "editable": false
   },
   "source": [
    "Меньше всего пользователи использовали интернет в январе, феврале и апреле. Чаще всего абоненты тарифа Smart тратят 15-17 Гб, а абоненты тарифного плана Ultra - 19-21 ГБ."
   ]
  },
  {
   "cell_type": "markdown",
   "metadata": {
    "deletable": false,
    "editable": false
   },
   "source": [
    "### Проверка гипотез"
   ]
  },
  {
   "cell_type": "markdown",
   "metadata": {
    "deletable": false,
    "editable": false,
    "tags": [
     "start_task"
    ]
   },
   "source": [
    "**Задание 28.** Проверка гипотезы: средняя выручка пользователей тарифов «Ультра» и «Смарт» различаются;\n",
    "\n",
    "```\n",
    "H_0: Выручка (total_cost) пользователей \"Ультра\" = выручка (total_cost) пользователей \"Смарт\"`\n",
    "H_a: Выручка (total_cost) пользователей \"Ультра\" ≠ выручка (total_cost) пользователей \"Смарт\"`\n",
    "alpha = 0.05\n",
    "```"
   ]
  },
  {
   "cell_type": "code",
   "execution_count": null,
   "metadata": {
    "deletable": false
   },
   "outputs": [],
   "source": []
  },
  {
   "cell_type": "code",
   "execution_count": 202,
   "metadata": {
    "deletable": false
   },
   "outputs": [
    {
     "name": "stdout",
     "output_type": "stream",
     "text": [
      "4.2606313931076085e-250\n",
      "Отвергаем нулевую гипотезу\n"
     ]
    }
   ],
   "source": [
    "results = st.ttest_ind(user_behavior[user_behavior['tariff'] =='smart']['total_cost'],\n",
    "                       user_behavior[user_behavior['tariff'] =='ultra']['total_cost'],\n",
    "                       equal_var=False)\n",
    "\n",
    "alpha = .05\n",
    "\n",
    "print(results.pvalue)\n",
    "\n",
    "if results.pvalue < alpha:\n",
    "    print('Отвергаем нулевую гипотезу')\n",
    "else:\n",
    "    print('Не получилось отвергнуть нулевую гипотезу')"
   ]
  },
  {
   "cell_type": "markdown",
   "metadata": {},
   "source": [
    "***Выручки двух тарифов не равны***"
   ]
  },
  {
   "cell_type": "markdown",
   "metadata": {
    "deletable": false,
    "editable": false,
    "tags": [
     "start_task"
    ]
   },
   "source": [
    "**Задание 29.** Проверка гипотезы: пользователи из Москвы приносят больше выручки, чем пользователи из других городов;\n",
    "\n",
    "```\n",
    "H_0: Выручка (total_cost) пользователей из Москвы = выручка (total_cost) пользователей не из Москвы`\n",
    "H_1: Выручка (total_cost) пользователей из Москвы ≠ выручка (total_cost) пользователей не из Москвы`\n",
    "alpha = 0.05\n",
    "```"
   ]
  },
  {
   "cell_type": "code",
   "execution_count": 203,
   "metadata": {
    "deletable": false
   },
   "outputs": [
    {
     "name": "stdout",
     "output_type": "stream",
     "text": [
      "0.5257376663729298\n",
      "Не получилось отвергнуть нулевую гипотезу\n"
     ]
    }
   ],
   "source": [
    "results = st.ttest_ind(user_behavior[user_behavior['city'] == 'Москва']['total_cost'],\n",
    "                       user_behavior[user_behavior['city'] != 'Москва']['total_cost'],\n",
    "                       equal_var=False\n",
    "    )\n",
    "\n",
    "alpha = .05\n",
    "\n",
    "print(results.pvalue)\n",
    "\n",
    "if results.pvalue < alpha:\n",
    "    print('Отвергаем нулевую гипотезу')\n",
    "else:\n",
    "    print('Не получилось отвергнуть нулевую гипотезу')"
   ]
  },
  {
   "cell_type": "markdown",
   "metadata": {},
   "source": [
    "Выручки от пользователей из Москвы и от пользователей из регионов схожи."
   ]
  },
  {
   "cell_type": "markdown",
   "metadata": {},
   "source": [
    "### Вывод:\n",
    "\n",
    "***Пользователи тарифа Ultra совершают большее количество вызовов в месяц, тратят больше минут, смс и интернет-трафик.***"
   ]
  }
 ],
 "metadata": {
  "ExecuteTimeLog": [
   {
    "duration": 395,
    "start_time": "2023-01-07T18:51:27.063Z"
   },
   {
    "duration": 499,
    "start_time": "2023-01-07T18:51:29.277Z"
   },
   {
    "duration": 15,
    "start_time": "2023-01-07T18:51:50.438Z"
   },
   {
    "duration": 23,
    "start_time": "2023-01-07T18:52:15.184Z"
   },
   {
    "duration": 528,
    "start_time": "2023-01-07T18:53:14.452Z"
   },
   {
    "duration": 406,
    "start_time": "2023-01-07T18:54:05.005Z"
   },
   {
    "duration": 9,
    "start_time": "2023-01-07T18:54:18.434Z"
   },
   {
    "duration": 23,
    "start_time": "2023-01-07T18:54:40.036Z"
   },
   {
    "duration": 143,
    "start_time": "2023-01-07T18:55:40.350Z"
   },
   {
    "duration": 64,
    "start_time": "2023-01-07T18:56:16.015Z"
   },
   {
    "duration": 152,
    "start_time": "2023-01-07T18:56:24.985Z"
   },
   {
    "duration": 9,
    "start_time": "2023-01-07T18:56:33.067Z"
   },
   {
    "duration": 17,
    "start_time": "2023-01-07T18:56:50.405Z"
   },
   {
    "duration": 8,
    "start_time": "2023-01-07T18:57:30.134Z"
   },
   {
    "duration": 65,
    "start_time": "2023-01-07T18:57:35.811Z"
   },
   {
    "duration": 7,
    "start_time": "2023-01-07T18:57:44.585Z"
   },
   {
    "duration": 10,
    "start_time": "2023-01-07T18:57:59.505Z"
   },
   {
    "duration": 80,
    "start_time": "2023-01-07T18:58:31.233Z"
   },
   {
    "duration": 10,
    "start_time": "2023-01-07T18:58:42.386Z"
   },
   {
    "duration": 10,
    "start_time": "2023-01-07T18:59:12.392Z"
   },
   {
    "duration": 11,
    "start_time": "2023-01-07T19:01:53.698Z"
   },
   {
    "duration": 11,
    "start_time": "2023-01-07T19:04:17.398Z"
   },
   {
    "duration": 13,
    "start_time": "2023-01-07T19:04:26.223Z"
   },
   {
    "duration": 9,
    "start_time": "2023-01-07T19:04:34.285Z"
   },
   {
    "duration": 69,
    "start_time": "2023-01-07T19:05:09.483Z"
   },
   {
    "duration": 46,
    "start_time": "2023-01-07T19:09:17.552Z"
   },
   {
    "duration": 63,
    "start_time": "2023-01-07T19:09:25.634Z"
   },
   {
    "duration": 72,
    "start_time": "2023-01-07T19:14:33.174Z"
   },
   {
    "duration": 108,
    "start_time": "2023-01-07T19:14:52.017Z"
   },
   {
    "duration": 401,
    "start_time": "2023-01-08T18:59:51.410Z"
   },
   {
    "duration": 3,
    "start_time": "2023-01-08T19:00:01.765Z"
   },
   {
    "duration": 251,
    "start_time": "2023-01-08T19:00:01.769Z"
   },
   {
    "duration": 16,
    "start_time": "2023-01-08T19:00:02.022Z"
   },
   {
    "duration": 44,
    "start_time": "2023-01-08T19:00:02.040Z"
   },
   {
    "duration": 554,
    "start_time": "2023-01-08T19:00:02.087Z"
   },
   {
    "duration": 306,
    "start_time": "2023-01-08T19:00:02.643Z"
   },
   {
    "duration": 10,
    "start_time": "2023-01-08T19:00:02.950Z"
   },
   {
    "duration": 25,
    "start_time": "2023-01-08T19:00:02.961Z"
   },
   {
    "duration": 141,
    "start_time": "2023-01-08T19:00:02.988Z"
   },
   {
    "duration": 322,
    "start_time": "2023-01-08T19:00:03.131Z"
   },
   {
    "duration": 7,
    "start_time": "2023-01-08T19:00:03.456Z"
   },
   {
    "duration": 21,
    "start_time": "2023-01-08T19:00:03.464Z"
   },
   {
    "duration": 68,
    "start_time": "2023-01-08T19:00:03.487Z"
   },
   {
    "duration": 7,
    "start_time": "2023-01-08T19:00:03.557Z"
   },
   {
    "duration": 19,
    "start_time": "2023-01-08T19:00:03.566Z"
   },
   {
    "duration": 62,
    "start_time": "2023-01-08T19:00:03.587Z"
   },
   {
    "duration": 9,
    "start_time": "2023-01-08T19:00:03.651Z"
   },
   {
    "duration": 12,
    "start_time": "2023-01-08T19:00:03.662Z"
   },
   {
    "duration": 78,
    "start_time": "2023-01-08T19:00:03.676Z"
   },
   {
    "duration": 2,
    "start_time": "2023-01-08T19:00:03.756Z"
   },
   {
    "duration": 9,
    "start_time": "2023-01-08T19:00:03.760Z"
   },
   {
    "duration": 6,
    "start_time": "2023-01-08T19:00:03.771Z"
   },
   {
    "duration": 7,
    "start_time": "2023-01-08T19:00:03.778Z"
   },
   {
    "duration": 7,
    "start_time": "2023-01-08T19:00:03.786Z"
   },
   {
    "duration": 5,
    "start_time": "2023-01-08T19:00:03.794Z"
   },
   {
    "duration": 5,
    "start_time": "2023-01-08T19:00:03.801Z"
   },
   {
    "duration": 5,
    "start_time": "2023-01-08T19:00:03.807Z"
   },
   {
    "duration": 6,
    "start_time": "2023-01-08T19:00:03.815Z"
   },
   {
    "duration": 9,
    "start_time": "2023-01-08T19:00:03.824Z"
   },
   {
    "duration": 69,
    "start_time": "2023-01-08T19:00:03.835Z"
   },
   {
    "duration": 0,
    "start_time": "2023-01-08T19:00:03.906Z"
   },
   {
    "duration": 0,
    "start_time": "2023-01-08T19:00:03.915Z"
   },
   {
    "duration": 0,
    "start_time": "2023-01-08T19:00:03.916Z"
   },
   {
    "duration": 0,
    "start_time": "2023-01-08T19:00:03.917Z"
   },
   {
    "duration": 0,
    "start_time": "2023-01-08T19:00:03.918Z"
   },
   {
    "duration": 0,
    "start_time": "2023-01-08T19:00:03.919Z"
   },
   {
    "duration": 0,
    "start_time": "2023-01-08T19:00:03.920Z"
   },
   {
    "duration": 0,
    "start_time": "2023-01-08T19:00:03.921Z"
   },
   {
    "duration": 0,
    "start_time": "2023-01-08T19:00:03.922Z"
   },
   {
    "duration": 0,
    "start_time": "2023-01-08T19:00:03.923Z"
   },
   {
    "duration": 0,
    "start_time": "2023-01-08T19:00:03.924Z"
   },
   {
    "duration": 0,
    "start_time": "2023-01-08T19:00:03.925Z"
   },
   {
    "duration": 0,
    "start_time": "2023-01-08T19:00:03.926Z"
   },
   {
    "duration": 0,
    "start_time": "2023-01-08T19:00:03.927Z"
   },
   {
    "duration": 0,
    "start_time": "2023-01-08T19:00:03.927Z"
   },
   {
    "duration": 0,
    "start_time": "2023-01-08T19:00:03.928Z"
   },
   {
    "duration": 0,
    "start_time": "2023-01-08T19:00:03.929Z"
   },
   {
    "duration": 0,
    "start_time": "2023-01-08T19:00:03.931Z"
   },
   {
    "duration": 0,
    "start_time": "2023-01-08T19:00:03.932Z"
   },
   {
    "duration": 0,
    "start_time": "2023-01-08T19:00:03.933Z"
   },
   {
    "duration": 55,
    "start_time": "2023-01-08T19:05:32.989Z"
   },
   {
    "duration": 7,
    "start_time": "2023-01-08T19:05:40.960Z"
   },
   {
    "duration": 9,
    "start_time": "2023-01-08T19:05:58.107Z"
   },
   {
    "duration": 6,
    "start_time": "2023-01-08T19:07:53.784Z"
   },
   {
    "duration": 6,
    "start_time": "2023-01-08T19:08:34.377Z"
   },
   {
    "duration": 11,
    "start_time": "2023-01-08T19:10:14.037Z"
   },
   {
    "duration": 10,
    "start_time": "2023-01-08T19:10:27.478Z"
   },
   {
    "duration": 8,
    "start_time": "2023-01-08T19:10:33.200Z"
   },
   {
    "duration": 8,
    "start_time": "2023-01-08T19:13:54.764Z"
   },
   {
    "duration": 9,
    "start_time": "2023-01-08T19:15:11.824Z"
   },
   {
    "duration": 9,
    "start_time": "2023-01-08T19:15:36.664Z"
   },
   {
    "duration": 7,
    "start_time": "2023-01-08T19:15:43.735Z"
   },
   {
    "duration": 8,
    "start_time": "2023-01-08T19:16:24.638Z"
   },
   {
    "duration": 8,
    "start_time": "2023-01-08T19:16:42.433Z"
   },
   {
    "duration": 10,
    "start_time": "2023-01-08T19:18:33.110Z"
   },
   {
    "duration": 170,
    "start_time": "2023-01-08T19:18:50.893Z"
   },
   {
    "duration": 10,
    "start_time": "2023-01-08T19:23:35.553Z"
   },
   {
    "duration": 174,
    "start_time": "2023-01-08T19:24:38.807Z"
   },
   {
    "duration": 9,
    "start_time": "2023-01-08T19:25:24.008Z"
   },
   {
    "duration": 9,
    "start_time": "2023-01-08T19:26:14.374Z"
   },
   {
    "duration": 9,
    "start_time": "2023-01-08T19:26:24.453Z"
   },
   {
    "duration": 7,
    "start_time": "2023-01-08T19:26:41.837Z"
   },
   {
    "duration": 8,
    "start_time": "2023-01-08T19:27:02.842Z"
   },
   {
    "duration": 2,
    "start_time": "2023-01-08T19:27:39.641Z"
   },
   {
    "duration": 160,
    "start_time": "2023-01-08T19:27:39.645Z"
   },
   {
    "duration": 7,
    "start_time": "2023-01-08T19:27:39.807Z"
   },
   {
    "duration": 26,
    "start_time": "2023-01-08T19:27:39.815Z"
   },
   {
    "duration": 140,
    "start_time": "2023-01-08T19:27:39.843Z"
   },
   {
    "duration": 118,
    "start_time": "2023-01-08T19:27:39.984Z"
   },
   {
    "duration": 12,
    "start_time": "2023-01-08T19:27:40.104Z"
   },
   {
    "duration": 21,
    "start_time": "2023-01-08T19:27:40.118Z"
   },
   {
    "duration": 141,
    "start_time": "2023-01-08T19:27:40.140Z"
   },
   {
    "duration": 81,
    "start_time": "2023-01-08T19:27:40.282Z"
   },
   {
    "duration": 7,
    "start_time": "2023-01-08T19:27:40.365Z"
   },
   {
    "duration": 20,
    "start_time": "2023-01-08T19:27:40.373Z"
   },
   {
    "duration": 15,
    "start_time": "2023-01-08T19:27:40.394Z"
   },
   {
    "duration": 7,
    "start_time": "2023-01-08T19:27:40.411Z"
   },
   {
    "duration": 10,
    "start_time": "2023-01-08T19:27:40.420Z"
   },
   {
    "duration": 83,
    "start_time": "2023-01-08T19:27:40.431Z"
   },
   {
    "duration": 8,
    "start_time": "2023-01-08T19:27:40.516Z"
   },
   {
    "duration": 11,
    "start_time": "2023-01-08T19:27:40.525Z"
   },
   {
    "duration": 84,
    "start_time": "2023-01-08T19:27:40.538Z"
   },
   {
    "duration": 8,
    "start_time": "2023-01-08T19:27:40.623Z"
   },
   {
    "duration": 0,
    "start_time": "2023-01-08T19:27:40.632Z"
   },
   {
    "duration": 0,
    "start_time": "2023-01-08T19:27:40.634Z"
   },
   {
    "duration": 0,
    "start_time": "2023-01-08T19:27:40.635Z"
   },
   {
    "duration": 0,
    "start_time": "2023-01-08T19:27:40.636Z"
   },
   {
    "duration": 0,
    "start_time": "2023-01-08T19:27:40.637Z"
   },
   {
    "duration": 0,
    "start_time": "2023-01-08T19:27:40.639Z"
   },
   {
    "duration": 0,
    "start_time": "2023-01-08T19:27:40.640Z"
   },
   {
    "duration": 0,
    "start_time": "2023-01-08T19:27:40.641Z"
   },
   {
    "duration": 0,
    "start_time": "2023-01-08T19:27:40.642Z"
   },
   {
    "duration": 0,
    "start_time": "2023-01-08T19:27:40.643Z"
   },
   {
    "duration": 0,
    "start_time": "2023-01-08T19:27:40.644Z"
   },
   {
    "duration": 0,
    "start_time": "2023-01-08T19:27:40.645Z"
   },
   {
    "duration": 0,
    "start_time": "2023-01-08T19:27:40.646Z"
   },
   {
    "duration": 0,
    "start_time": "2023-01-08T19:27:40.647Z"
   },
   {
    "duration": 0,
    "start_time": "2023-01-08T19:27:40.648Z"
   },
   {
    "duration": 0,
    "start_time": "2023-01-08T19:27:40.649Z"
   },
   {
    "duration": 0,
    "start_time": "2023-01-08T19:27:40.650Z"
   },
   {
    "duration": 0,
    "start_time": "2023-01-08T19:27:40.651Z"
   },
   {
    "duration": 0,
    "start_time": "2023-01-08T19:27:40.653Z"
   },
   {
    "duration": 0,
    "start_time": "2023-01-08T19:27:40.654Z"
   },
   {
    "duration": 1,
    "start_time": "2023-01-08T19:27:40.654Z"
   },
   {
    "duration": 0,
    "start_time": "2023-01-08T19:27:40.655Z"
   },
   {
    "duration": 0,
    "start_time": "2023-01-08T19:27:40.657Z"
   },
   {
    "duration": 0,
    "start_time": "2023-01-08T19:27:40.657Z"
   },
   {
    "duration": 0,
    "start_time": "2023-01-08T19:27:40.658Z"
   },
   {
    "duration": 0,
    "start_time": "2023-01-08T19:27:40.660Z"
   },
   {
    "duration": 0,
    "start_time": "2023-01-08T19:27:40.660Z"
   },
   {
    "duration": 0,
    "start_time": "2023-01-08T19:27:40.661Z"
   },
   {
    "duration": 0,
    "start_time": "2023-01-08T19:27:40.716Z"
   },
   {
    "duration": 0,
    "start_time": "2023-01-08T19:27:40.717Z"
   },
   {
    "duration": 7,
    "start_time": "2023-01-08T19:27:58.337Z"
   },
   {
    "duration": 5,
    "start_time": "2023-01-08T19:28:03.358Z"
   },
   {
    "duration": 10,
    "start_time": "2023-01-08T19:31:19.002Z"
   },
   {
    "duration": 8,
    "start_time": "2023-01-08T19:32:41.531Z"
   },
   {
    "duration": 8,
    "start_time": "2023-01-08T19:33:44.334Z"
   },
   {
    "duration": 8,
    "start_time": "2023-01-08T19:33:51.347Z"
   },
   {
    "duration": 733,
    "start_time": "2023-01-08T19:34:29.071Z"
   },
   {
    "duration": 664,
    "start_time": "2023-01-08T19:34:39.789Z"
   },
   {
    "duration": 36,
    "start_time": "2023-01-08T19:35:38.378Z"
   },
   {
    "duration": 22,
    "start_time": "2023-01-08T19:38:00.667Z"
   },
   {
    "duration": 4,
    "start_time": "2023-01-08T19:38:56.284Z"
   },
   {
    "duration": 187,
    "start_time": "2023-01-08T19:38:56.291Z"
   },
   {
    "duration": 8,
    "start_time": "2023-01-08T19:38:56.480Z"
   },
   {
    "duration": 33,
    "start_time": "2023-01-08T19:38:56.489Z"
   },
   {
    "duration": 157,
    "start_time": "2023-01-08T19:38:56.524Z"
   },
   {
    "duration": 127,
    "start_time": "2023-01-08T19:38:56.683Z"
   },
   {
    "duration": 7,
    "start_time": "2023-01-08T19:38:56.812Z"
   },
   {
    "duration": 22,
    "start_time": "2023-01-08T19:38:56.821Z"
   },
   {
    "duration": 148,
    "start_time": "2023-01-08T19:38:56.845Z"
   },
   {
    "duration": 84,
    "start_time": "2023-01-08T19:38:56.995Z"
   },
   {
    "duration": 7,
    "start_time": "2023-01-08T19:38:57.080Z"
   },
   {
    "duration": 18,
    "start_time": "2023-01-08T19:38:57.089Z"
   },
   {
    "duration": 15,
    "start_time": "2023-01-08T19:38:57.115Z"
   },
   {
    "duration": 7,
    "start_time": "2023-01-08T19:38:57.131Z"
   },
   {
    "duration": 8,
    "start_time": "2023-01-08T19:38:57.141Z"
   },
   {
    "duration": 29,
    "start_time": "2023-01-08T19:38:57.150Z"
   },
   {
    "duration": 9,
    "start_time": "2023-01-08T19:38:57.180Z"
   },
   {
    "duration": 11,
    "start_time": "2023-01-08T19:38:57.190Z"
   },
   {
    "duration": 73,
    "start_time": "2023-01-08T19:38:57.202Z"
   },
   {
    "duration": 6,
    "start_time": "2023-01-08T19:38:57.276Z"
   },
   {
    "duration": 10,
    "start_time": "2023-01-08T19:38:57.283Z"
   },
   {
    "duration": 45,
    "start_time": "2023-01-08T19:38:57.294Z"
   },
   {
    "duration": 22,
    "start_time": "2023-01-08T19:38:57.341Z"
   },
   {
    "duration": 2,
    "start_time": "2023-01-08T19:38:57.364Z"
   },
   {
    "duration": 5,
    "start_time": "2023-01-08T19:38:57.367Z"
   },
   {
    "duration": 4,
    "start_time": "2023-01-08T19:38:57.374Z"
   },
   {
    "duration": 5,
    "start_time": "2023-01-08T19:38:57.379Z"
   },
   {
    "duration": 4,
    "start_time": "2023-01-08T19:38:57.385Z"
   },
   {
    "duration": 4,
    "start_time": "2023-01-08T19:38:57.391Z"
   },
   {
    "duration": 4,
    "start_time": "2023-01-08T19:38:57.396Z"
   },
   {
    "duration": 5,
    "start_time": "2023-01-08T19:38:57.416Z"
   },
   {
    "duration": 8,
    "start_time": "2023-01-08T19:38:57.422Z"
   },
   {
    "duration": 11,
    "start_time": "2023-01-08T19:38:57.432Z"
   },
   {
    "duration": 0,
    "start_time": "2023-01-08T19:38:57.445Z"
   },
   {
    "duration": 0,
    "start_time": "2023-01-08T19:38:57.446Z"
   },
   {
    "duration": 0,
    "start_time": "2023-01-08T19:38:57.447Z"
   },
   {
    "duration": 0,
    "start_time": "2023-01-08T19:38:57.448Z"
   },
   {
    "duration": 0,
    "start_time": "2023-01-08T19:38:57.449Z"
   },
   {
    "duration": 1,
    "start_time": "2023-01-08T19:38:57.449Z"
   },
   {
    "duration": 0,
    "start_time": "2023-01-08T19:38:57.450Z"
   },
   {
    "duration": 0,
    "start_time": "2023-01-08T19:38:57.451Z"
   },
   {
    "duration": 0,
    "start_time": "2023-01-08T19:38:57.452Z"
   },
   {
    "duration": 0,
    "start_time": "2023-01-08T19:38:57.453Z"
   },
   {
    "duration": 0,
    "start_time": "2023-01-08T19:38:57.454Z"
   },
   {
    "duration": 0,
    "start_time": "2023-01-08T19:38:57.455Z"
   },
   {
    "duration": 0,
    "start_time": "2023-01-08T19:38:57.456Z"
   },
   {
    "duration": 0,
    "start_time": "2023-01-08T19:38:57.457Z"
   },
   {
    "duration": 0,
    "start_time": "2023-01-08T19:38:57.458Z"
   },
   {
    "duration": 0,
    "start_time": "2023-01-08T19:38:57.459Z"
   },
   {
    "duration": 0,
    "start_time": "2023-01-08T19:38:57.460Z"
   },
   {
    "duration": 0,
    "start_time": "2023-01-08T19:38:57.461Z"
   },
   {
    "duration": 0,
    "start_time": "2023-01-08T19:38:57.462Z"
   },
   {
    "duration": 0,
    "start_time": "2023-01-08T19:38:57.463Z"
   },
   {
    "duration": 25,
    "start_time": "2023-01-08T19:39:59.451Z"
   },
   {
    "duration": 251,
    "start_time": "2023-01-08T19:43:59.098Z"
   },
   {
    "duration": 174,
    "start_time": "2023-01-08T19:44:37.046Z"
   },
   {
    "duration": 7,
    "start_time": "2023-01-08T19:46:16.576Z"
   },
   {
    "duration": 240,
    "start_time": "2023-01-08T19:46:24.450Z"
   },
   {
    "duration": 201,
    "start_time": "2023-01-08T19:46:41.016Z"
   },
   {
    "duration": 204,
    "start_time": "2023-01-08T19:48:12.878Z"
   },
   {
    "duration": 16,
    "start_time": "2023-01-08T19:50:39.039Z"
   },
   {
    "duration": 214,
    "start_time": "2023-01-08T19:51:01.171Z"
   },
   {
    "duration": 19,
    "start_time": "2023-01-08T19:52:54.544Z"
   },
   {
    "duration": 10,
    "start_time": "2023-01-08T19:53:45.219Z"
   },
   {
    "duration": 15,
    "start_time": "2023-01-08T19:54:03.987Z"
   },
   {
    "duration": 11,
    "start_time": "2023-01-08T19:54:05.037Z"
   },
   {
    "duration": 19,
    "start_time": "2023-01-08T19:57:25.354Z"
   },
   {
    "duration": 7,
    "start_time": "2023-01-08T19:57:26.022Z"
   },
   {
    "duration": 7,
    "start_time": "2023-01-08T19:57:36.465Z"
   },
   {
    "duration": 421,
    "start_time": "2023-01-08T20:17:36.194Z"
   },
   {
    "duration": 243,
    "start_time": "2023-01-08T20:17:36.616Z"
   },
   {
    "duration": 15,
    "start_time": "2023-01-08T20:17:36.861Z"
   },
   {
    "duration": 22,
    "start_time": "2023-01-08T20:17:36.879Z"
   },
   {
    "duration": 574,
    "start_time": "2023-01-08T20:17:36.905Z"
   },
   {
    "duration": 321,
    "start_time": "2023-01-08T20:17:37.480Z"
   },
   {
    "duration": 9,
    "start_time": "2023-01-08T20:17:37.803Z"
   },
   {
    "duration": 24,
    "start_time": "2023-01-08T20:17:37.814Z"
   },
   {
    "duration": 150,
    "start_time": "2023-01-08T20:17:37.840Z"
   },
   {
    "duration": 305,
    "start_time": "2023-01-08T20:17:37.993Z"
   },
   {
    "duration": 10,
    "start_time": "2023-01-08T20:17:38.299Z"
   },
   {
    "duration": 20,
    "start_time": "2023-01-08T20:17:38.310Z"
   },
   {
    "duration": 57,
    "start_time": "2023-01-08T20:17:38.333Z"
   },
   {
    "duration": 10,
    "start_time": "2023-01-08T20:17:38.391Z"
   },
   {
    "duration": 12,
    "start_time": "2023-01-08T20:17:38.403Z"
   },
   {
    "duration": 61,
    "start_time": "2023-01-08T20:17:38.417Z"
   },
   {
    "duration": 10,
    "start_time": "2023-01-08T20:17:38.480Z"
   },
   {
    "duration": 18,
    "start_time": "2023-01-08T20:17:38.491Z"
   },
   {
    "duration": 87,
    "start_time": "2023-01-08T20:17:38.511Z"
   },
   {
    "duration": 7,
    "start_time": "2023-01-08T20:17:38.600Z"
   },
   {
    "duration": 15,
    "start_time": "2023-01-08T20:17:38.609Z"
   },
   {
    "duration": 45,
    "start_time": "2023-01-08T20:17:38.625Z"
   },
   {
    "duration": 80,
    "start_time": "2023-01-08T20:17:38.672Z"
   },
   {
    "duration": 27,
    "start_time": "2023-01-08T20:17:38.753Z"
   },
   {
    "duration": 27,
    "start_time": "2023-01-08T20:17:38.796Z"
   },
   {
    "duration": 7,
    "start_time": "2023-01-08T20:17:38.825Z"
   },
   {
    "duration": 27,
    "start_time": "2023-01-08T20:17:38.834Z"
   },
   {
    "duration": 33,
    "start_time": "2023-01-08T20:17:38.865Z"
   },
   {
    "duration": 24,
    "start_time": "2023-01-08T20:17:38.899Z"
   },
   {
    "duration": 8,
    "start_time": "2023-01-08T20:17:38.925Z"
   },
   {
    "duration": 5,
    "start_time": "2023-01-08T20:17:38.935Z"
   },
   {
    "duration": 5,
    "start_time": "2023-01-08T20:17:38.941Z"
   },
   {
    "duration": 22,
    "start_time": "2023-01-08T20:17:38.947Z"
   },
   {
    "duration": 73,
    "start_time": "2023-01-08T20:17:38.970Z"
   },
   {
    "duration": 0,
    "start_time": "2023-01-08T20:17:39.045Z"
   },
   {
    "duration": 0,
    "start_time": "2023-01-08T20:17:39.046Z"
   },
   {
    "duration": 0,
    "start_time": "2023-01-08T20:17:39.047Z"
   },
   {
    "duration": 0,
    "start_time": "2023-01-08T20:17:39.048Z"
   },
   {
    "duration": 0,
    "start_time": "2023-01-08T20:17:39.049Z"
   },
   {
    "duration": 0,
    "start_time": "2023-01-08T20:17:39.050Z"
   },
   {
    "duration": 0,
    "start_time": "2023-01-08T20:17:39.051Z"
   },
   {
    "duration": 0,
    "start_time": "2023-01-08T20:17:39.052Z"
   },
   {
    "duration": 0,
    "start_time": "2023-01-08T20:17:39.054Z"
   },
   {
    "duration": 0,
    "start_time": "2023-01-08T20:17:39.054Z"
   },
   {
    "duration": 0,
    "start_time": "2023-01-08T20:17:39.055Z"
   },
   {
    "duration": 0,
    "start_time": "2023-01-08T20:17:39.056Z"
   },
   {
    "duration": 0,
    "start_time": "2023-01-08T20:17:39.057Z"
   },
   {
    "duration": 0,
    "start_time": "2023-01-08T20:17:39.058Z"
   },
   {
    "duration": 0,
    "start_time": "2023-01-08T20:17:39.059Z"
   },
   {
    "duration": 0,
    "start_time": "2023-01-08T20:17:39.060Z"
   },
   {
    "duration": 0,
    "start_time": "2023-01-08T20:17:39.061Z"
   },
   {
    "duration": 0,
    "start_time": "2023-01-08T20:17:39.062Z"
   },
   {
    "duration": 0,
    "start_time": "2023-01-08T20:17:39.097Z"
   },
   {
    "duration": 0,
    "start_time": "2023-01-08T20:17:39.098Z"
   },
   {
    "duration": 17,
    "start_time": "2023-01-08T20:19:19.797Z"
   },
   {
    "duration": 8,
    "start_time": "2023-01-08T20:19:20.392Z"
   },
   {
    "duration": 16,
    "start_time": "2023-01-08T20:20:11.880Z"
   },
   {
    "duration": 13,
    "start_time": "2023-01-08T20:20:12.166Z"
   },
   {
    "duration": 384,
    "start_time": "2023-01-08T20:20:57.923Z"
   },
   {
    "duration": 35,
    "start_time": "2023-01-08T20:23:11.809Z"
   },
   {
    "duration": 3,
    "start_time": "2023-01-08T20:23:15.863Z"
   },
   {
    "duration": 227,
    "start_time": "2023-01-08T20:23:15.869Z"
   },
   {
    "duration": 10,
    "start_time": "2023-01-08T20:23:16.098Z"
   },
   {
    "duration": 28,
    "start_time": "2023-01-08T20:23:16.110Z"
   },
   {
    "duration": 187,
    "start_time": "2023-01-08T20:23:16.140Z"
   },
   {
    "duration": 126,
    "start_time": "2023-01-08T20:23:16.330Z"
   },
   {
    "duration": 10,
    "start_time": "2023-01-08T20:23:16.458Z"
   },
   {
    "duration": 28,
    "start_time": "2023-01-08T20:23:16.469Z"
   },
   {
    "duration": 166,
    "start_time": "2023-01-08T20:23:16.500Z"
   },
   {
    "duration": 85,
    "start_time": "2023-01-08T20:23:16.668Z"
   },
   {
    "duration": 7,
    "start_time": "2023-01-08T20:23:16.755Z"
   },
   {
    "duration": 23,
    "start_time": "2023-01-08T20:23:16.764Z"
   },
   {
    "duration": 15,
    "start_time": "2023-01-08T20:23:16.797Z"
   },
   {
    "duration": 9,
    "start_time": "2023-01-08T20:23:16.814Z"
   },
   {
    "duration": 22,
    "start_time": "2023-01-08T20:23:16.824Z"
   },
   {
    "duration": 33,
    "start_time": "2023-01-08T20:23:16.848Z"
   },
   {
    "duration": 11,
    "start_time": "2023-01-08T20:23:16.882Z"
   },
   {
    "duration": 23,
    "start_time": "2023-01-08T20:23:16.895Z"
   },
   {
    "duration": 78,
    "start_time": "2023-01-08T20:23:16.920Z"
   },
   {
    "duration": 6,
    "start_time": "2023-01-08T20:23:16.999Z"
   },
   {
    "duration": 9,
    "start_time": "2023-01-08T20:23:17.007Z"
   },
   {
    "duration": 120,
    "start_time": "2023-01-08T20:23:17.018Z"
   },
   {
    "duration": 26,
    "start_time": "2023-01-08T20:23:17.140Z"
   },
   {
    "duration": 39,
    "start_time": "2023-01-08T20:23:17.170Z"
   },
   {
    "duration": 29,
    "start_time": "2023-01-08T20:23:17.211Z"
   },
   {
    "duration": 8,
    "start_time": "2023-01-08T20:23:17.242Z"
   },
   {
    "duration": 51,
    "start_time": "2023-01-08T20:23:17.251Z"
   },
   {
    "duration": 10,
    "start_time": "2023-01-08T20:23:17.305Z"
   },
   {
    "duration": 28,
    "start_time": "2023-01-08T20:23:17.317Z"
   },
   {
    "duration": 9,
    "start_time": "2023-01-08T20:23:17.347Z"
   },
   {
    "duration": 46,
    "start_time": "2023-01-08T20:23:17.358Z"
   },
   {
    "duration": 10,
    "start_time": "2023-01-08T20:23:17.406Z"
   },
   {
    "duration": 11,
    "start_time": "2023-01-08T20:23:17.418Z"
   },
   {
    "duration": 67,
    "start_time": "2023-01-08T20:23:17.431Z"
   },
   {
    "duration": 10,
    "start_time": "2023-01-08T20:23:17.500Z"
   },
   {
    "duration": 15,
    "start_time": "2023-01-08T20:23:17.512Z"
   },
   {
    "duration": 12,
    "start_time": "2023-01-08T20:23:17.530Z"
   },
   {
    "duration": 16,
    "start_time": "2023-01-08T20:23:17.544Z"
   },
   {
    "duration": 22,
    "start_time": "2023-01-08T20:23:17.562Z"
   },
   {
    "duration": 11,
    "start_time": "2023-01-08T20:23:17.586Z"
   },
   {
    "duration": 15,
    "start_time": "2023-01-08T20:23:17.598Z"
   },
   {
    "duration": 11,
    "start_time": "2023-01-08T20:23:17.614Z"
   },
   {
    "duration": 56,
    "start_time": "2023-01-08T20:23:17.627Z"
   },
   {
    "duration": 390,
    "start_time": "2023-01-08T20:23:17.684Z"
   },
   {
    "duration": 287,
    "start_time": "2023-01-08T20:23:18.076Z"
   },
   {
    "duration": 346,
    "start_time": "2023-01-08T20:23:18.366Z"
   },
   {
    "duration": 324,
    "start_time": "2023-01-08T20:23:18.714Z"
   },
   {
    "duration": 302,
    "start_time": "2023-01-08T20:23:19.040Z"
   },
   {
    "duration": 225,
    "start_time": "2023-01-08T20:23:19.343Z"
   },
   {
    "duration": 329,
    "start_time": "2023-01-08T20:23:19.570Z"
   },
   {
    "duration": 223,
    "start_time": "2023-01-08T20:23:19.901Z"
   },
   {
    "duration": 42,
    "start_time": "2023-01-08T20:23:20.125Z"
   },
   {
    "duration": 38,
    "start_time": "2023-01-08T20:23:20.168Z"
   },
   {
    "duration": 0,
    "start_time": "2023-01-08T20:23:20.207Z"
   },
   {
    "duration": 6,
    "start_time": "2023-01-08T20:24:59.910Z"
   },
   {
    "duration": 10,
    "start_time": "2023-01-08T20:27:31.485Z"
   },
   {
    "duration": 40,
    "start_time": "2023-01-08T20:28:09.678Z"
   },
   {
    "duration": 3,
    "start_time": "2023-01-08T20:45:26.442Z"
   },
   {
    "duration": 168,
    "start_time": "2023-01-08T20:45:26.446Z"
   },
   {
    "duration": 8,
    "start_time": "2023-01-08T20:45:26.616Z"
   },
   {
    "duration": 29,
    "start_time": "2023-01-08T20:45:26.625Z"
   },
   {
    "duration": 157,
    "start_time": "2023-01-08T20:45:26.656Z"
   },
   {
    "duration": 114,
    "start_time": "2023-01-08T20:45:26.815Z"
   },
   {
    "duration": 9,
    "start_time": "2023-01-08T20:45:26.930Z"
   },
   {
    "duration": 20,
    "start_time": "2023-01-08T20:45:26.941Z"
   },
   {
    "duration": 250,
    "start_time": "2023-01-08T20:45:26.963Z"
   },
   {
    "duration": 79,
    "start_time": "2023-01-08T20:45:27.214Z"
   },
   {
    "duration": 7,
    "start_time": "2023-01-08T20:45:27.295Z"
   },
   {
    "duration": 21,
    "start_time": "2023-01-08T20:45:27.304Z"
   },
   {
    "duration": 15,
    "start_time": "2023-01-08T20:45:27.326Z"
   },
   {
    "duration": 9,
    "start_time": "2023-01-08T20:45:27.343Z"
   },
   {
    "duration": 33,
    "start_time": "2023-01-08T20:45:27.353Z"
   },
   {
    "duration": 38,
    "start_time": "2023-01-08T20:45:27.388Z"
   },
   {
    "duration": 10,
    "start_time": "2023-01-08T20:45:27.428Z"
   },
   {
    "duration": 11,
    "start_time": "2023-01-08T20:45:27.440Z"
   },
   {
    "duration": 63,
    "start_time": "2023-01-08T20:45:27.453Z"
   },
   {
    "duration": 4,
    "start_time": "2023-01-08T20:45:27.518Z"
   },
   {
    "duration": 13,
    "start_time": "2023-01-08T20:45:27.523Z"
   },
   {
    "duration": 37,
    "start_time": "2023-01-08T20:45:27.538Z"
   },
   {
    "duration": 31,
    "start_time": "2023-01-08T20:45:27.577Z"
   },
   {
    "duration": 25,
    "start_time": "2023-01-08T20:45:27.610Z"
   },
   {
    "duration": 24,
    "start_time": "2023-01-08T20:45:27.636Z"
   },
   {
    "duration": 8,
    "start_time": "2023-01-08T20:45:27.661Z"
   },
   {
    "duration": 48,
    "start_time": "2023-01-08T20:45:27.671Z"
   },
   {
    "duration": 8,
    "start_time": "2023-01-08T20:45:27.721Z"
   },
   {
    "duration": 22,
    "start_time": "2023-01-08T20:45:27.733Z"
   },
   {
    "duration": 8,
    "start_time": "2023-01-08T20:45:27.757Z"
   },
   {
    "duration": 39,
    "start_time": "2023-01-08T20:45:27.767Z"
   },
   {
    "duration": 11,
    "start_time": "2023-01-08T20:45:27.808Z"
   },
   {
    "duration": 10,
    "start_time": "2023-01-08T20:45:27.821Z"
   },
   {
    "duration": 37,
    "start_time": "2023-01-08T20:45:27.833Z"
   },
   {
    "duration": 26,
    "start_time": "2023-01-08T20:45:27.871Z"
   },
   {
    "duration": 11,
    "start_time": "2023-01-08T20:45:27.899Z"
   },
   {
    "duration": 10,
    "start_time": "2023-01-08T20:45:27.914Z"
   },
   {
    "duration": 17,
    "start_time": "2023-01-08T20:45:27.925Z"
   },
   {
    "duration": 9,
    "start_time": "2023-01-08T20:45:27.944Z"
   },
   {
    "duration": 5,
    "start_time": "2023-01-08T20:45:27.955Z"
   },
   {
    "duration": 10,
    "start_time": "2023-01-08T20:45:27.961Z"
   },
   {
    "duration": 15,
    "start_time": "2023-01-08T20:45:27.973Z"
   },
   {
    "duration": 49,
    "start_time": "2023-01-08T20:45:27.990Z"
   },
   {
    "duration": 305,
    "start_time": "2023-01-08T20:45:28.041Z"
   },
   {
    "duration": 245,
    "start_time": "2023-01-08T20:45:28.348Z"
   },
   {
    "duration": 327,
    "start_time": "2023-01-08T20:45:28.595Z"
   },
   {
    "duration": 318,
    "start_time": "2023-01-08T20:45:28.924Z"
   },
   {
    "duration": 261,
    "start_time": "2023-01-08T20:45:29.244Z"
   },
   {
    "duration": 201,
    "start_time": "2023-01-08T20:45:29.506Z"
   },
   {
    "duration": 304,
    "start_time": "2023-01-08T20:45:29.709Z"
   },
   {
    "duration": 219,
    "start_time": "2023-01-08T20:45:30.015Z"
   },
   {
    "duration": 35,
    "start_time": "2023-01-08T20:45:30.236Z"
   },
   {
    "duration": 0,
    "start_time": "2023-01-08T20:45:30.274Z"
   },
   {
    "duration": 15,
    "start_time": "2023-01-08T20:46:16.138Z"
   },
   {
    "duration": 6,
    "start_time": "2023-01-08T20:47:14.685Z"
   },
   {
    "duration": 6,
    "start_time": "2023-01-08T20:48:15.282Z"
   },
   {
    "duration": 6,
    "start_time": "2023-01-08T20:51:51.248Z"
   },
   {
    "duration": 6,
    "start_time": "2023-01-08T20:54:15.309Z"
   },
   {
    "duration": 6,
    "start_time": "2023-01-08T20:54:48.660Z"
   },
   {
    "duration": 5,
    "start_time": "2023-01-08T20:55:32.236Z"
   },
   {
    "duration": 6,
    "start_time": "2023-01-08T20:56:08.788Z"
   },
   {
    "duration": 10,
    "start_time": "2023-01-08T20:57:28.338Z"
   },
   {
    "duration": 11,
    "start_time": "2023-01-08T20:57:42.643Z"
   },
   {
    "duration": 6,
    "start_time": "2023-01-08T20:59:07.404Z"
   },
   {
    "duration": 972,
    "start_time": "2023-01-08T21:16:17.365Z"
   },
   {
    "duration": 226,
    "start_time": "2023-01-08T21:16:18.339Z"
   },
   {
    "duration": 15,
    "start_time": "2023-01-08T21:16:18.567Z"
   },
   {
    "duration": 25,
    "start_time": "2023-01-08T21:16:18.584Z"
   },
   {
    "duration": 562,
    "start_time": "2023-01-08T21:16:18.611Z"
   },
   {
    "duration": 301,
    "start_time": "2023-01-08T21:16:19.175Z"
   },
   {
    "duration": 10,
    "start_time": "2023-01-08T21:16:19.478Z"
   },
   {
    "duration": 29,
    "start_time": "2023-01-08T21:16:19.490Z"
   },
   {
    "duration": 148,
    "start_time": "2023-01-08T21:16:19.521Z"
   },
   {
    "duration": 340,
    "start_time": "2023-01-08T21:16:19.672Z"
   },
   {
    "duration": 8,
    "start_time": "2023-01-08T21:16:20.014Z"
   },
   {
    "duration": 21,
    "start_time": "2023-01-08T21:16:20.023Z"
   },
   {
    "duration": 67,
    "start_time": "2023-01-08T21:16:20.046Z"
   },
   {
    "duration": 8,
    "start_time": "2023-01-08T21:16:20.116Z"
   },
   {
    "duration": 14,
    "start_time": "2023-01-08T21:16:20.125Z"
   },
   {
    "duration": 63,
    "start_time": "2023-01-08T21:16:20.140Z"
   },
   {
    "duration": 10,
    "start_time": "2023-01-08T21:16:20.204Z"
   },
   {
    "duration": 13,
    "start_time": "2023-01-08T21:16:20.216Z"
   },
   {
    "duration": 76,
    "start_time": "2023-01-08T21:16:20.230Z"
   },
   {
    "duration": 11,
    "start_time": "2023-01-08T21:16:20.307Z"
   },
   {
    "duration": 10,
    "start_time": "2023-01-08T21:16:20.319Z"
   },
   {
    "duration": 44,
    "start_time": "2023-01-08T21:16:20.331Z"
   },
   {
    "duration": 23,
    "start_time": "2023-01-08T21:16:20.377Z"
   },
   {
    "duration": 42,
    "start_time": "2023-01-08T21:16:20.402Z"
   },
   {
    "duration": 26,
    "start_time": "2023-01-08T21:16:20.446Z"
   },
   {
    "duration": 7,
    "start_time": "2023-01-08T21:16:20.473Z"
   },
   {
    "duration": 42,
    "start_time": "2023-01-08T21:16:20.482Z"
   },
   {
    "duration": 7,
    "start_time": "2023-01-08T21:16:20.526Z"
   },
   {
    "duration": 19,
    "start_time": "2023-01-08T21:16:20.535Z"
   },
   {
    "duration": 7,
    "start_time": "2023-01-08T21:16:20.555Z"
   },
   {
    "duration": 27,
    "start_time": "2023-01-08T21:16:20.564Z"
   },
   {
    "duration": 30,
    "start_time": "2023-01-08T21:16:20.593Z"
   },
   {
    "duration": 7,
    "start_time": "2023-01-08T21:16:20.624Z"
   },
   {
    "duration": 36,
    "start_time": "2023-01-08T21:16:20.632Z"
   },
   {
    "duration": 6,
    "start_time": "2023-01-08T21:16:20.670Z"
   },
   {
    "duration": 7,
    "start_time": "2023-01-08T21:16:20.678Z"
   },
   {
    "duration": 11,
    "start_time": "2023-01-08T21:16:20.686Z"
   },
   {
    "duration": 19,
    "start_time": "2023-01-08T21:16:20.699Z"
   },
   {
    "duration": 11,
    "start_time": "2023-01-08T21:16:20.720Z"
   },
   {
    "duration": 10,
    "start_time": "2023-01-08T21:16:20.732Z"
   },
   {
    "duration": 7,
    "start_time": "2023-01-08T21:16:20.745Z"
   },
   {
    "duration": 7,
    "start_time": "2023-01-08T21:16:20.754Z"
   },
   {
    "duration": 55,
    "start_time": "2023-01-08T21:16:20.763Z"
   },
   {
    "duration": 386,
    "start_time": "2023-01-08T21:16:20.820Z"
   },
   {
    "duration": 248,
    "start_time": "2023-01-08T21:16:21.207Z"
   },
   {
    "duration": 320,
    "start_time": "2023-01-08T21:16:21.457Z"
   },
   {
    "duration": 209,
    "start_time": "2023-01-08T21:16:21.780Z"
   },
   {
    "duration": 296,
    "start_time": "2023-01-08T21:16:21.992Z"
   },
   {
    "duration": 287,
    "start_time": "2023-01-08T21:16:22.290Z"
   },
   {
    "duration": 296,
    "start_time": "2023-01-08T21:16:22.578Z"
   },
   {
    "duration": 212,
    "start_time": "2023-01-08T21:16:22.875Z"
   },
   {
    "duration": 7,
    "start_time": "2023-01-08T21:16:23.089Z"
   },
   {
    "duration": 8,
    "start_time": "2023-01-08T21:16:23.097Z"
   },
   {
    "duration": 125,
    "start_time": "2023-01-08T21:16:52.534Z"
   },
   {
    "duration": 6,
    "start_time": "2023-01-08T21:17:01.316Z"
   },
   {
    "duration": 6,
    "start_time": "2023-01-08T21:24:18.974Z"
   },
   {
    "duration": 796,
    "start_time": "2023-01-09T08:02:51.954Z"
   },
   {
    "duration": 871,
    "start_time": "2023-01-09T08:02:52.752Z"
   },
   {
    "duration": 17,
    "start_time": "2023-01-09T08:02:53.625Z"
   },
   {
    "duration": 24,
    "start_time": "2023-01-09T08:02:53.643Z"
   },
   {
    "duration": 580,
    "start_time": "2023-01-09T08:02:53.671Z"
   },
   {
    "duration": 689,
    "start_time": "2023-01-09T08:02:54.252Z"
   },
   {
    "duration": 11,
    "start_time": "2023-01-09T08:02:54.942Z"
   },
   {
    "duration": 24,
    "start_time": "2023-01-09T08:02:54.955Z"
   },
   {
    "duration": 142,
    "start_time": "2023-01-09T08:02:54.981Z"
   },
   {
    "duration": 327,
    "start_time": "2023-01-09T08:02:55.125Z"
   },
   {
    "duration": 7,
    "start_time": "2023-01-09T08:02:55.454Z"
   },
   {
    "duration": 18,
    "start_time": "2023-01-09T08:02:55.463Z"
   },
   {
    "duration": 77,
    "start_time": "2023-01-09T08:02:55.483Z"
   },
   {
    "duration": 7,
    "start_time": "2023-01-09T08:02:55.564Z"
   },
   {
    "duration": 12,
    "start_time": "2023-01-09T08:02:55.573Z"
   },
   {
    "duration": 71,
    "start_time": "2023-01-09T08:02:55.587Z"
   },
   {
    "duration": 10,
    "start_time": "2023-01-09T08:02:55.659Z"
   },
   {
    "duration": 13,
    "start_time": "2023-01-09T08:02:55.671Z"
   },
   {
    "duration": 74,
    "start_time": "2023-01-09T08:02:55.686Z"
   },
   {
    "duration": 6,
    "start_time": "2023-01-09T08:02:55.761Z"
   },
   {
    "duration": 11,
    "start_time": "2023-01-09T08:02:55.768Z"
   },
   {
    "duration": 46,
    "start_time": "2023-01-09T08:02:55.781Z"
   },
   {
    "duration": 26,
    "start_time": "2023-01-09T08:02:55.829Z"
   },
   {
    "duration": 32,
    "start_time": "2023-01-09T08:02:55.858Z"
   },
   {
    "duration": 41,
    "start_time": "2023-01-09T08:02:55.892Z"
   },
   {
    "duration": 10,
    "start_time": "2023-01-09T08:02:55.935Z"
   },
   {
    "duration": 27,
    "start_time": "2023-01-09T08:02:55.948Z"
   },
   {
    "duration": 8,
    "start_time": "2023-01-09T08:02:55.977Z"
   },
   {
    "duration": 45,
    "start_time": "2023-01-09T08:02:55.987Z"
   },
   {
    "duration": 8,
    "start_time": "2023-01-09T08:02:56.034Z"
   },
   {
    "duration": 20,
    "start_time": "2023-01-09T08:02:56.044Z"
   },
   {
    "duration": 13,
    "start_time": "2023-01-09T08:02:56.066Z"
   },
   {
    "duration": 5,
    "start_time": "2023-01-09T08:02:56.081Z"
   },
   {
    "duration": 60,
    "start_time": "2023-01-09T08:02:56.088Z"
   },
   {
    "duration": 8,
    "start_time": "2023-01-09T08:02:56.150Z"
   },
   {
    "duration": 5,
    "start_time": "2023-01-09T08:02:56.160Z"
   },
   {
    "duration": 5,
    "start_time": "2023-01-09T08:02:56.167Z"
   },
   {
    "duration": 13,
    "start_time": "2023-01-09T08:02:56.173Z"
   },
   {
    "duration": 9,
    "start_time": "2023-01-09T08:02:56.187Z"
   },
   {
    "duration": 28,
    "start_time": "2023-01-09T08:02:56.197Z"
   },
   {
    "duration": 7,
    "start_time": "2023-01-09T08:02:56.228Z"
   },
   {
    "duration": 5,
    "start_time": "2023-01-09T08:02:56.236Z"
   },
   {
    "duration": 48,
    "start_time": "2023-01-09T08:02:56.243Z"
   },
   {
    "duration": 404,
    "start_time": "2023-01-09T08:02:56.292Z"
   },
   {
    "duration": 249,
    "start_time": "2023-01-09T08:02:56.697Z"
   },
   {
    "duration": 307,
    "start_time": "2023-01-09T08:02:56.947Z"
   },
   {
    "duration": 207,
    "start_time": "2023-01-09T08:02:57.256Z"
   },
   {
    "duration": 251,
    "start_time": "2023-01-09T08:02:57.465Z"
   },
   {
    "duration": 295,
    "start_time": "2023-01-09T08:02:57.717Z"
   },
   {
    "duration": 297,
    "start_time": "2023-01-09T08:02:58.014Z"
   },
   {
    "duration": 209,
    "start_time": "2023-01-09T08:02:58.313Z"
   },
   {
    "duration": 6,
    "start_time": "2023-01-09T08:02:58.523Z"
   },
   {
    "duration": 8,
    "start_time": "2023-01-09T08:02:58.530Z"
   },
   {
    "duration": 95,
    "start_time": "2023-01-09T08:03:19.233Z"
   },
   {
    "duration": 7,
    "start_time": "2023-01-09T08:03:27.717Z"
   },
   {
    "duration": 10,
    "start_time": "2023-01-09T08:04:09.041Z"
   },
   {
    "duration": 6,
    "start_time": "2023-01-09T08:04:53.575Z"
   },
   {
    "duration": 11,
    "start_time": "2023-01-09T08:08:21.025Z"
   },
   {
    "duration": 8,
    "start_time": "2023-01-09T08:08:42.436Z"
   },
   {
    "duration": 20,
    "start_time": "2023-01-09T08:12:41.526Z"
   },
   {
    "duration": 33,
    "start_time": "2023-01-09T08:13:13.506Z"
   },
   {
    "duration": 6,
    "start_time": "2023-01-09T08:13:48.950Z"
   },
   {
    "duration": 10,
    "start_time": "2023-01-09T08:15:34.975Z"
   },
   {
    "duration": 898,
    "start_time": "2023-01-09T08:16:01.962Z"
   },
   {
    "duration": 6,
    "start_time": "2023-01-09T08:16:38.522Z"
   },
   {
    "duration": 608,
    "start_time": "2023-01-09T08:18:47.519Z"
   },
   {
    "duration": 611,
    "start_time": "2023-01-09T08:19:19.042Z"
   },
   {
    "duration": 582,
    "start_time": "2023-01-09T08:19:35.519Z"
   },
   {
    "duration": 77,
    "start_time": "2023-01-09T08:20:17.552Z"
   },
   {
    "duration": 89,
    "start_time": "2023-01-09T08:20:32.267Z"
   },
   {
    "duration": 71,
    "start_time": "2023-01-09T08:20:50.937Z"
   },
   {
    "duration": 1158,
    "start_time": "2023-01-09T08:21:01.515Z"
   },
   {
    "duration": 14,
    "start_time": "2023-01-09T08:21:30.028Z"
   },
   {
    "duration": 6,
    "start_time": "2023-01-09T08:33:59.004Z"
   },
   {
    "duration": 90,
    "start_time": "2023-01-09T08:35:49.258Z"
   },
   {
    "duration": 4,
    "start_time": "2023-01-09T08:36:00.624Z"
   },
   {
    "duration": 1136,
    "start_time": "2023-01-09T08:36:38.473Z"
   },
   {
    "duration": 1128,
    "start_time": "2023-01-09T08:37:29.134Z"
   },
   {
    "duration": 1160,
    "start_time": "2023-01-09T08:37:40.076Z"
   },
   {
    "duration": 1116,
    "start_time": "2023-01-09T08:37:47.921Z"
   },
   {
    "duration": 9,
    "start_time": "2023-01-09T08:38:19.717Z"
   },
   {
    "duration": 8,
    "start_time": "2023-01-09T08:41:15.518Z"
   }
  ],
  "kernelspec": {
   "display_name": "Python 3 (ipykernel)",
   "language": "python",
   "name": "python3"
  },
  "language_info": {
   "codemirror_mode": {
    "name": "ipython",
    "version": 3
   },
   "file_extension": ".py",
   "mimetype": "text/x-python",
   "name": "python",
   "nbconvert_exporter": "python",
   "pygments_lexer": "ipython3",
   "version": "3.10.9"
  },
  "toc": {
   "base_numbering": 1,
   "nav_menu": {},
   "number_sections": true,
   "sideBar": true,
   "skip_h1_title": true,
   "title_cell": "Table of Contents",
   "title_sidebar": "Contents",
   "toc_cell": false,
   "toc_position": {
    "height": "calc(100% - 180px)",
    "left": "10px",
    "top": "150px",
    "width": "165px"
   },
   "toc_section_display": true,
   "toc_window_display": true
  }
 },
 "nbformat": 4,
 "nbformat_minor": 2
}
