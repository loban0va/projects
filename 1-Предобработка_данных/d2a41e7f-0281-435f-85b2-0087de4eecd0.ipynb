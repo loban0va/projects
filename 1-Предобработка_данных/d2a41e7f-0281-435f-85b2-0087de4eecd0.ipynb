{
 "cells": [
  {
   "cell_type": "markdown",
   "id": "f9df8709",
   "metadata": {
    "deletable": false,
    "editable": false,
    "id": "c81daeeb"
   },
   "source": [
    "# Исследование надежности заемщиков\n"
   ]
  },
  {
   "cell_type": "markdown",
   "id": "137d3e7a",
   "metadata": {},
   "source": [
    "**Заказчик — кредитный отдел банка. Нужно разобраться, влияет ли семейное положение и количество детей клиента на факт погашения кредита в срок. Входные данные от банка — статистика о платёжеспособности клиентов.**\n",
    "\n",
    "**Результаты исследования будут учтены при построении модели кредитного скоринга — специальной системы, которая оценивает способность потенциального заёмщика вернуть кредит банку.**"
   ]
  },
  {
   "cell_type": "markdown",
   "id": "010e47a1",
   "metadata": {
    "deletable": false,
    "editable": false,
    "id": "744d7639"
   },
   "source": [
    "## Откройте таблицу и изучите общую информацию о данных"
   ]
  },
  {
   "cell_type": "markdown",
   "id": "ad71b358",
   "metadata": {
    "deletable": false,
    "editable": false,
    "id": "e7a14c31"
   },
   "source": [
    "**Задание 1. Импортируйте библиотеку pandas. Считайте данные из csv-файла в датафрейм и сохраните в переменную `data`. Путь к файлу:**\n",
    "\n",
    "`/datasets/data.csv`"
   ]
  },
  {
   "cell_type": "code",
   "execution_count": 91,
   "id": "fd285809",
   "metadata": {},
   "outputs": [],
   "source": [
    "import pandas as pd\n",
    "import os\n",
    "from pathlib import Path"
   ]
  },
  {
   "cell_type": "code",
   "execution_count": 92,
   "id": "05b43318",
   "metadata": {},
   "outputs": [],
   "source": [
    "ROOT_DIR = Path(os.path.abspath(\"__file__\")).parent.parent"
   ]
  },
  {
   "cell_type": "code",
   "execution_count": 93,
   "id": "43dde1a7",
   "metadata": {
    "deletable": false,
    "id": "7bcf75c9"
   },
   "outputs": [],
   "source": [
    "try:\n",
    "    data = pd.read_csv(ROOT_DIR / 'datasets/data.csv')\n",
    "except:\n",
    "    data = pd.read_csv('https://code.s3.yandex.net/datasets/data.csv')"
   ]
  },
  {
   "cell_type": "markdown",
   "id": "2568de7e",
   "metadata": {
    "deletable": false,
    "editable": false,
    "id": "b8038fe3"
   },
   "source": [
    "**Задание 2. Выведите первые 20 строчек датафрейма `data` на экран.**"
   ]
  },
  {
   "cell_type": "code",
   "execution_count": 94,
   "id": "0a541723",
   "metadata": {
    "deletable": false,
    "id": "2a7cab99",
    "outputId": "1a8f3ef2-d323-4ec2-ddf7-89670b5944c4",
    "scrolled": true
   },
   "outputs": [
    {
     "data": {
      "text/html": [
       "<div>\n",
       "<style scoped>\n",
       "    .dataframe tbody tr th:only-of-type {\n",
       "        vertical-align: middle;\n",
       "    }\n",
       "\n",
       "    .dataframe tbody tr th {\n",
       "        vertical-align: top;\n",
       "    }\n",
       "\n",
       "    .dataframe thead th {\n",
       "        text-align: right;\n",
       "    }\n",
       "</style>\n",
       "<table border=\"1\" class=\"dataframe\">\n",
       "  <thead>\n",
       "    <tr style=\"text-align: right;\">\n",
       "      <th></th>\n",
       "      <th>children</th>\n",
       "      <th>days_employed</th>\n",
       "      <th>dob_years</th>\n",
       "      <th>education</th>\n",
       "      <th>education_id</th>\n",
       "      <th>family_status</th>\n",
       "      <th>family_status_id</th>\n",
       "      <th>gender</th>\n",
       "      <th>income_type</th>\n",
       "      <th>debt</th>\n",
       "      <th>total_income</th>\n",
       "      <th>purpose</th>\n",
       "    </tr>\n",
       "  </thead>\n",
       "  <tbody>\n",
       "    <tr>\n",
       "      <th>0</th>\n",
       "      <td>1</td>\n",
       "      <td>-8437.673028</td>\n",
       "      <td>42</td>\n",
       "      <td>высшее</td>\n",
       "      <td>0</td>\n",
       "      <td>женат / замужем</td>\n",
       "      <td>0</td>\n",
       "      <td>F</td>\n",
       "      <td>сотрудник</td>\n",
       "      <td>0</td>\n",
       "      <td>253875.639453</td>\n",
       "      <td>покупка жилья</td>\n",
       "    </tr>\n",
       "    <tr>\n",
       "      <th>1</th>\n",
       "      <td>1</td>\n",
       "      <td>-4024.803754</td>\n",
       "      <td>36</td>\n",
       "      <td>среднее</td>\n",
       "      <td>1</td>\n",
       "      <td>женат / замужем</td>\n",
       "      <td>0</td>\n",
       "      <td>F</td>\n",
       "      <td>сотрудник</td>\n",
       "      <td>0</td>\n",
       "      <td>112080.014102</td>\n",
       "      <td>приобретение автомобиля</td>\n",
       "    </tr>\n",
       "    <tr>\n",
       "      <th>2</th>\n",
       "      <td>0</td>\n",
       "      <td>-5623.422610</td>\n",
       "      <td>33</td>\n",
       "      <td>Среднее</td>\n",
       "      <td>1</td>\n",
       "      <td>женат / замужем</td>\n",
       "      <td>0</td>\n",
       "      <td>M</td>\n",
       "      <td>сотрудник</td>\n",
       "      <td>0</td>\n",
       "      <td>145885.952297</td>\n",
       "      <td>покупка жилья</td>\n",
       "    </tr>\n",
       "    <tr>\n",
       "      <th>3</th>\n",
       "      <td>3</td>\n",
       "      <td>-4124.747207</td>\n",
       "      <td>32</td>\n",
       "      <td>среднее</td>\n",
       "      <td>1</td>\n",
       "      <td>женат / замужем</td>\n",
       "      <td>0</td>\n",
       "      <td>M</td>\n",
       "      <td>сотрудник</td>\n",
       "      <td>0</td>\n",
       "      <td>267628.550329</td>\n",
       "      <td>дополнительное образование</td>\n",
       "    </tr>\n",
       "    <tr>\n",
       "      <th>4</th>\n",
       "      <td>0</td>\n",
       "      <td>340266.072047</td>\n",
       "      <td>53</td>\n",
       "      <td>среднее</td>\n",
       "      <td>1</td>\n",
       "      <td>гражданский брак</td>\n",
       "      <td>1</td>\n",
       "      <td>F</td>\n",
       "      <td>пенсионер</td>\n",
       "      <td>0</td>\n",
       "      <td>158616.077870</td>\n",
       "      <td>сыграть свадьбу</td>\n",
       "    </tr>\n",
       "    <tr>\n",
       "      <th>5</th>\n",
       "      <td>0</td>\n",
       "      <td>-926.185831</td>\n",
       "      <td>27</td>\n",
       "      <td>высшее</td>\n",
       "      <td>0</td>\n",
       "      <td>гражданский брак</td>\n",
       "      <td>1</td>\n",
       "      <td>M</td>\n",
       "      <td>компаньон</td>\n",
       "      <td>0</td>\n",
       "      <td>255763.565419</td>\n",
       "      <td>покупка жилья</td>\n",
       "    </tr>\n",
       "    <tr>\n",
       "      <th>6</th>\n",
       "      <td>0</td>\n",
       "      <td>-2879.202052</td>\n",
       "      <td>43</td>\n",
       "      <td>высшее</td>\n",
       "      <td>0</td>\n",
       "      <td>женат / замужем</td>\n",
       "      <td>0</td>\n",
       "      <td>F</td>\n",
       "      <td>компаньон</td>\n",
       "      <td>0</td>\n",
       "      <td>240525.971920</td>\n",
       "      <td>операции с жильем</td>\n",
       "    </tr>\n",
       "    <tr>\n",
       "      <th>7</th>\n",
       "      <td>0</td>\n",
       "      <td>-152.779569</td>\n",
       "      <td>50</td>\n",
       "      <td>СРЕДНЕЕ</td>\n",
       "      <td>1</td>\n",
       "      <td>женат / замужем</td>\n",
       "      <td>0</td>\n",
       "      <td>M</td>\n",
       "      <td>сотрудник</td>\n",
       "      <td>0</td>\n",
       "      <td>135823.934197</td>\n",
       "      <td>образование</td>\n",
       "    </tr>\n",
       "    <tr>\n",
       "      <th>8</th>\n",
       "      <td>2</td>\n",
       "      <td>-6929.865299</td>\n",
       "      <td>35</td>\n",
       "      <td>ВЫСШЕЕ</td>\n",
       "      <td>0</td>\n",
       "      <td>гражданский брак</td>\n",
       "      <td>1</td>\n",
       "      <td>F</td>\n",
       "      <td>сотрудник</td>\n",
       "      <td>0</td>\n",
       "      <td>95856.832424</td>\n",
       "      <td>на проведение свадьбы</td>\n",
       "    </tr>\n",
       "    <tr>\n",
       "      <th>9</th>\n",
       "      <td>0</td>\n",
       "      <td>-2188.756445</td>\n",
       "      <td>41</td>\n",
       "      <td>среднее</td>\n",
       "      <td>1</td>\n",
       "      <td>женат / замужем</td>\n",
       "      <td>0</td>\n",
       "      <td>M</td>\n",
       "      <td>сотрудник</td>\n",
       "      <td>0</td>\n",
       "      <td>144425.938277</td>\n",
       "      <td>покупка жилья для семьи</td>\n",
       "    </tr>\n",
       "    <tr>\n",
       "      <th>10</th>\n",
       "      <td>2</td>\n",
       "      <td>-4171.483647</td>\n",
       "      <td>36</td>\n",
       "      <td>высшее</td>\n",
       "      <td>0</td>\n",
       "      <td>женат / замужем</td>\n",
       "      <td>0</td>\n",
       "      <td>M</td>\n",
       "      <td>компаньон</td>\n",
       "      <td>0</td>\n",
       "      <td>113943.491460</td>\n",
       "      <td>покупка недвижимости</td>\n",
       "    </tr>\n",
       "    <tr>\n",
       "      <th>11</th>\n",
       "      <td>0</td>\n",
       "      <td>-792.701887</td>\n",
       "      <td>40</td>\n",
       "      <td>среднее</td>\n",
       "      <td>1</td>\n",
       "      <td>женат / замужем</td>\n",
       "      <td>0</td>\n",
       "      <td>F</td>\n",
       "      <td>сотрудник</td>\n",
       "      <td>0</td>\n",
       "      <td>77069.234271</td>\n",
       "      <td>покупка коммерческой недвижимости</td>\n",
       "    </tr>\n",
       "    <tr>\n",
       "      <th>12</th>\n",
       "      <td>0</td>\n",
       "      <td>NaN</td>\n",
       "      <td>65</td>\n",
       "      <td>среднее</td>\n",
       "      <td>1</td>\n",
       "      <td>гражданский брак</td>\n",
       "      <td>1</td>\n",
       "      <td>M</td>\n",
       "      <td>пенсионер</td>\n",
       "      <td>0</td>\n",
       "      <td>NaN</td>\n",
       "      <td>сыграть свадьбу</td>\n",
       "    </tr>\n",
       "    <tr>\n",
       "      <th>13</th>\n",
       "      <td>0</td>\n",
       "      <td>-1846.641941</td>\n",
       "      <td>54</td>\n",
       "      <td>неоконченное высшее</td>\n",
       "      <td>2</td>\n",
       "      <td>женат / замужем</td>\n",
       "      <td>0</td>\n",
       "      <td>F</td>\n",
       "      <td>сотрудник</td>\n",
       "      <td>0</td>\n",
       "      <td>130458.228857</td>\n",
       "      <td>приобретение автомобиля</td>\n",
       "    </tr>\n",
       "    <tr>\n",
       "      <th>14</th>\n",
       "      <td>0</td>\n",
       "      <td>-1844.956182</td>\n",
       "      <td>56</td>\n",
       "      <td>высшее</td>\n",
       "      <td>0</td>\n",
       "      <td>гражданский брак</td>\n",
       "      <td>1</td>\n",
       "      <td>F</td>\n",
       "      <td>компаньон</td>\n",
       "      <td>1</td>\n",
       "      <td>165127.911772</td>\n",
       "      <td>покупка жилой недвижимости</td>\n",
       "    </tr>\n",
       "    <tr>\n",
       "      <th>15</th>\n",
       "      <td>1</td>\n",
       "      <td>-972.364419</td>\n",
       "      <td>26</td>\n",
       "      <td>среднее</td>\n",
       "      <td>1</td>\n",
       "      <td>женат / замужем</td>\n",
       "      <td>0</td>\n",
       "      <td>F</td>\n",
       "      <td>сотрудник</td>\n",
       "      <td>0</td>\n",
       "      <td>116820.904450</td>\n",
       "      <td>строительство собственной недвижимости</td>\n",
       "    </tr>\n",
       "    <tr>\n",
       "      <th>16</th>\n",
       "      <td>0</td>\n",
       "      <td>-1719.934226</td>\n",
       "      <td>35</td>\n",
       "      <td>среднее</td>\n",
       "      <td>1</td>\n",
       "      <td>женат / замужем</td>\n",
       "      <td>0</td>\n",
       "      <td>F</td>\n",
       "      <td>сотрудник</td>\n",
       "      <td>0</td>\n",
       "      <td>289202.704229</td>\n",
       "      <td>недвижимость</td>\n",
       "    </tr>\n",
       "    <tr>\n",
       "      <th>17</th>\n",
       "      <td>0</td>\n",
       "      <td>-2369.999720</td>\n",
       "      <td>33</td>\n",
       "      <td>высшее</td>\n",
       "      <td>0</td>\n",
       "      <td>гражданский брак</td>\n",
       "      <td>1</td>\n",
       "      <td>M</td>\n",
       "      <td>сотрудник</td>\n",
       "      <td>0</td>\n",
       "      <td>90410.586745</td>\n",
       "      <td>строительство недвижимости</td>\n",
       "    </tr>\n",
       "    <tr>\n",
       "      <th>18</th>\n",
       "      <td>0</td>\n",
       "      <td>400281.136913</td>\n",
       "      <td>53</td>\n",
       "      <td>среднее</td>\n",
       "      <td>1</td>\n",
       "      <td>вдовец / вдова</td>\n",
       "      <td>2</td>\n",
       "      <td>F</td>\n",
       "      <td>пенсионер</td>\n",
       "      <td>0</td>\n",
       "      <td>56823.777243</td>\n",
       "      <td>на покупку подержанного автомобиля</td>\n",
       "    </tr>\n",
       "    <tr>\n",
       "      <th>19</th>\n",
       "      <td>0</td>\n",
       "      <td>-10038.818549</td>\n",
       "      <td>48</td>\n",
       "      <td>СРЕДНЕЕ</td>\n",
       "      <td>1</td>\n",
       "      <td>в разводе</td>\n",
       "      <td>3</td>\n",
       "      <td>F</td>\n",
       "      <td>сотрудник</td>\n",
       "      <td>0</td>\n",
       "      <td>242831.107982</td>\n",
       "      <td>на покупку своего автомобиля</td>\n",
       "    </tr>\n",
       "  </tbody>\n",
       "</table>\n",
       "</div>"
      ],
      "text/plain": [
       "    children  days_employed  dob_years            education  education_id  \\\n",
       "0          1   -8437.673028         42               высшее             0   \n",
       "1          1   -4024.803754         36              среднее             1   \n",
       "2          0   -5623.422610         33              Среднее             1   \n",
       "3          3   -4124.747207         32              среднее             1   \n",
       "4          0  340266.072047         53              среднее             1   \n",
       "5          0    -926.185831         27               высшее             0   \n",
       "6          0   -2879.202052         43               высшее             0   \n",
       "7          0    -152.779569         50              СРЕДНЕЕ             1   \n",
       "8          2   -6929.865299         35               ВЫСШЕЕ             0   \n",
       "9          0   -2188.756445         41              среднее             1   \n",
       "10         2   -4171.483647         36               высшее             0   \n",
       "11         0    -792.701887         40              среднее             1   \n",
       "12         0            NaN         65              среднее             1   \n",
       "13         0   -1846.641941         54  неоконченное высшее             2   \n",
       "14         0   -1844.956182         56               высшее             0   \n",
       "15         1    -972.364419         26              среднее             1   \n",
       "16         0   -1719.934226         35              среднее             1   \n",
       "17         0   -2369.999720         33               высшее             0   \n",
       "18         0  400281.136913         53              среднее             1   \n",
       "19         0  -10038.818549         48              СРЕДНЕЕ             1   \n",
       "\n",
       "       family_status  family_status_id gender income_type  debt  \\\n",
       "0    женат / замужем                 0      F   сотрудник     0   \n",
       "1    женат / замужем                 0      F   сотрудник     0   \n",
       "2    женат / замужем                 0      M   сотрудник     0   \n",
       "3    женат / замужем                 0      M   сотрудник     0   \n",
       "4   гражданский брак                 1      F   пенсионер     0   \n",
       "5   гражданский брак                 1      M   компаньон     0   \n",
       "6    женат / замужем                 0      F   компаньон     0   \n",
       "7    женат / замужем                 0      M   сотрудник     0   \n",
       "8   гражданский брак                 1      F   сотрудник     0   \n",
       "9    женат / замужем                 0      M   сотрудник     0   \n",
       "10   женат / замужем                 0      M   компаньон     0   \n",
       "11   женат / замужем                 0      F   сотрудник     0   \n",
       "12  гражданский брак                 1      M   пенсионер     0   \n",
       "13   женат / замужем                 0      F   сотрудник     0   \n",
       "14  гражданский брак                 1      F   компаньон     1   \n",
       "15   женат / замужем                 0      F   сотрудник     0   \n",
       "16   женат / замужем                 0      F   сотрудник     0   \n",
       "17  гражданский брак                 1      M   сотрудник     0   \n",
       "18    вдовец / вдова                 2      F   пенсионер     0   \n",
       "19         в разводе                 3      F   сотрудник     0   \n",
       "\n",
       "     total_income                                 purpose  \n",
       "0   253875.639453                           покупка жилья  \n",
       "1   112080.014102                 приобретение автомобиля  \n",
       "2   145885.952297                           покупка жилья  \n",
       "3   267628.550329              дополнительное образование  \n",
       "4   158616.077870                         сыграть свадьбу  \n",
       "5   255763.565419                           покупка жилья  \n",
       "6   240525.971920                       операции с жильем  \n",
       "7   135823.934197                             образование  \n",
       "8    95856.832424                   на проведение свадьбы  \n",
       "9   144425.938277                 покупка жилья для семьи  \n",
       "10  113943.491460                    покупка недвижимости  \n",
       "11   77069.234271       покупка коммерческой недвижимости  \n",
       "12            NaN                         сыграть свадьбу  \n",
       "13  130458.228857                 приобретение автомобиля  \n",
       "14  165127.911772              покупка жилой недвижимости  \n",
       "15  116820.904450  строительство собственной недвижимости  \n",
       "16  289202.704229                            недвижимость  \n",
       "17   90410.586745              строительство недвижимости  \n",
       "18   56823.777243      на покупку подержанного автомобиля  \n",
       "19  242831.107982            на покупку своего автомобиля  "
      ]
     },
     "execution_count": 94,
     "metadata": {},
     "output_type": "execute_result"
    }
   ],
   "source": [
    "data.head(20)"
   ]
  },
  {
   "cell_type": "markdown",
   "id": "46dda252",
   "metadata": {
    "deletable": false,
    "editable": false,
    "id": "1c12e233"
   },
   "source": [
    "**Задание 3. Выведите основную информацию о датафрейме с помощью метода `info()`.**"
   ]
  },
  {
   "cell_type": "code",
   "execution_count": 95,
   "id": "f8b1cf15",
   "metadata": {
    "deletable": false,
    "id": "2b757bca",
    "outputId": "15376089-8dad-46c9-b520-c05248d43158"
   },
   "outputs": [
    {
     "name": "stdout",
     "output_type": "stream",
     "text": [
      "<class 'pandas.core.frame.DataFrame'>\n",
      "RangeIndex: 21525 entries, 0 to 21524\n",
      "Data columns (total 12 columns):\n",
      " #   Column            Non-Null Count  Dtype  \n",
      "---  ------            --------------  -----  \n",
      " 0   children          21525 non-null  int64  \n",
      " 1   days_employed     19351 non-null  float64\n",
      " 2   dob_years         21525 non-null  int64  \n",
      " 3   education         21525 non-null  object \n",
      " 4   education_id      21525 non-null  int64  \n",
      " 5   family_status     21525 non-null  object \n",
      " 6   family_status_id  21525 non-null  int64  \n",
      " 7   gender            21525 non-null  object \n",
      " 8   income_type       21525 non-null  object \n",
      " 9   debt              21525 non-null  int64  \n",
      " 10  total_income      19351 non-null  float64\n",
      " 11  purpose           21525 non-null  object \n",
      "dtypes: float64(2), int64(5), object(5)\n",
      "memory usage: 2.0+ MB\n"
     ]
    }
   ],
   "source": [
    "data.info()"
   ]
  },
  {
   "cell_type": "markdown",
   "id": "c123c0a7",
   "metadata": {},
   "source": [
    "***На первый взгляд колонки заполнены корректро, следует лишь изменить тип данных в total_income - \"Доходы\". Переходим к поиску пропусков.***"
   ]
  },
  {
   "cell_type": "markdown",
   "id": "579693cd",
   "metadata": {
    "deletable": false,
    "editable": false,
    "id": "333ec665"
   },
   "source": [
    "## Предобработка данных"
   ]
  },
  {
   "cell_type": "markdown",
   "id": "89f7fa84",
   "metadata": {
    "deletable": false,
    "editable": false,
    "id": "02d92d53"
   },
   "source": [
    "### Удаление пропусков"
   ]
  },
  {
   "cell_type": "markdown",
   "id": "50983fdf",
   "metadata": {
    "deletable": false,
    "editable": false,
    "id": "cd84967c"
   },
   "source": [
    "**Задание 4. Выведите количество пропущенных значений для каждого столбца. Используйте комбинацию двух методов.**"
   ]
  },
  {
   "cell_type": "code",
   "execution_count": 96,
   "id": "0464695d",
   "metadata": {
    "deletable": false,
    "id": "7f9b2309",
    "outputId": "81f4d817-781c-465c-ed15-91ce4446810d"
   },
   "outputs": [
    {
     "data": {
      "text/plain": [
       "children               0\n",
       "days_employed       2174\n",
       "dob_years              0\n",
       "education              0\n",
       "education_id           0\n",
       "family_status          0\n",
       "family_status_id       0\n",
       "gender                 0\n",
       "income_type            0\n",
       "debt                   0\n",
       "total_income        2174\n",
       "purpose                0\n",
       "dtype: int64"
      ]
     },
     "execution_count": 96,
     "metadata": {},
     "output_type": "execute_result"
    }
   ],
   "source": [
    "data.isna().sum()"
   ]
  },
  {
   "cell_type": "markdown",
   "id": "ffcb5908",
   "metadata": {
    "deletable": false,
    "editable": false,
    "id": "db86e27b"
   },
   "source": [
    "**Задание 5. В двух столбцах есть пропущенные значения. Один из них — `days_employed`. Пропуски в этом столбце вы обработаете на следующем этапе. Другой столбец с пропущенными значениями — `total_income` — хранит данные о доходах. На сумму дохода сильнее всего влияет тип занятости, поэтому заполнить пропуски в этом столбце нужно медианным значением по каждому типу из столбца `income_type`. Например, у человека с типом занятости `сотрудник` пропуск в столбце `total_income` должен быть заполнен медианным доходом среди всех записей с тем же типом.**"
   ]
  },
  {
   "cell_type": "code",
   "execution_count": 97,
   "id": "ab248482",
   "metadata": {
    "deletable": false,
    "id": "42006a93"
   },
   "outputs": [],
   "source": [
    "for t in data['income_type'].unique():\n",
    "    data.loc[(data['income_type'] == t) & (data['total_income'].isna()), 'total_income'] = \\\n",
    "    data.loc[(data['income_type'] == t), 'total_income'].median()"
   ]
  },
  {
   "cell_type": "markdown",
   "id": "1f16ae2c",
   "metadata": {
    "deletable": false,
    "editable": false,
    "id": "89da5ece"
   },
   "source": [
    "### Обработка аномальных значений"
   ]
  },
  {
   "cell_type": "markdown",
   "id": "2a55e919",
   "metadata": {
    "deletable": false,
    "editable": false,
    "id": "57964554"
   },
   "source": [
    "**Задание 6. В данных могут встречаться артефакты (аномалии) — значения, которые не отражают действительность и появились по какой-то ошибке. таким артефактом будет отрицательное количество дней трудового стажа в столбце `days_employed`. Для реальных данных это нормально. Обработайте значения в этом столбце: замените все отрицательные значения положительными с помощью метода `abs()`.**"
   ]
  },
  {
   "cell_type": "code",
   "execution_count": 98,
   "id": "8b99e244",
   "metadata": {
    "deletable": false,
    "id": "f6f055bf"
   },
   "outputs": [],
   "source": [
    "data['days_employed'] = data['days_employed'].abs()"
   ]
  },
  {
   "cell_type": "markdown",
   "id": "d8e04acc",
   "metadata": {
    "deletable": false,
    "editable": false,
    "id": "6107dd2f"
   },
   "source": [
    "**Задание 7. Для каждого типа занятости выведите медианное значение трудового стажа `days_employed` в днях.**"
   ]
  },
  {
   "cell_type": "code",
   "execution_count": 99,
   "id": "c1d191e8",
   "metadata": {
    "deletable": false,
    "id": "85a5faf6",
    "outputId": "801ef80e-522b-4668-f34e-565af7432bcf"
   },
   "outputs": [
    {
     "data": {
      "text/plain": [
       "income_type\n",
       "безработный        366413.652744\n",
       "в декрете            3296.759962\n",
       "госслужащий          2689.368353\n",
       "компаньон            1547.382223\n",
       "пенсионер          365213.306266\n",
       "предприниматель       520.848083\n",
       "сотрудник            1574.202821\n",
       "студент               578.751554\n",
       "Name: days_employed, dtype: float64"
      ]
     },
     "execution_count": 99,
     "metadata": {},
     "output_type": "execute_result"
    }
   ],
   "source": [
    "data.groupby('income_type')['days_employed'].agg('median')"
   ]
  },
  {
   "cell_type": "markdown",
   "id": "db016e56",
   "metadata": {
    "deletable": false,
    "editable": false,
    "id": "38d1a030"
   },
   "source": [
    "У двух типов (безработные и пенсионеры) получатся аномально большие значения. Исправить такие значения сложно, поэтому оставьте их как есть. Тем более этот столбец не понадобится вам для исследования."
   ]
  },
  {
   "cell_type": "markdown",
   "id": "2148d113",
   "metadata": {
    "deletable": false,
    "editable": false,
    "id": "d8a9f147"
   },
   "source": [
    "**Задание 8. Выведите перечень уникальных значений столбца `children`.**"
   ]
  },
  {
   "cell_type": "code",
   "execution_count": 100,
   "id": "c7da2f4d",
   "metadata": {
    "deletable": false,
    "id": "ef5056eb",
    "outputId": "6975b15c-7f95-4697-d16d-a0c79b657b03"
   },
   "outputs": [
    {
     "data": {
      "text/plain": [
       "array([ 1,  0,  3,  2, -1,  4, 20,  5])"
      ]
     },
     "execution_count": 100,
     "metadata": {},
     "output_type": "execute_result"
    }
   ],
   "source": [
    "data['children'].unique()"
   ]
  },
  {
   "cell_type": "markdown",
   "id": "4a2fc962",
   "metadata": {
    "deletable": false,
    "editable": false,
    "id": "40b9ebf2"
   },
   "source": [
    "**Задание 9. В столбце `children` есть два аномальных значения. Удалите строки, в которых встречаются такие аномальные значения из датафрейма `data`.**"
   ]
  },
  {
   "cell_type": "code",
   "execution_count": 101,
   "id": "78ad37d4",
   "metadata": {
    "deletable": false,
    "id": "3ff9801d"
   },
   "outputs": [],
   "source": [
    "data = data[(data['children'] != -1) & (data['children'] != 20)]"
   ]
  },
  {
   "cell_type": "markdown",
   "id": "91905ebf",
   "metadata": {
    "deletable": false,
    "editable": false,
    "id": "bbc4d0ce"
   },
   "source": [
    "**Задание 10. Ещё раз выведите перечень уникальных значений столбца `children`, чтобы убедиться, что артефакты удалены.**"
   ]
  },
  {
   "cell_type": "code",
   "execution_count": 102,
   "id": "ad3b7f84",
   "metadata": {
    "deletable": false,
    "id": "ad4fa8b7",
    "outputId": "b2097101-d49d-44d9-901b-32a65c9463d1"
   },
   "outputs": [
    {
     "data": {
      "text/plain": [
       "array([1, 0, 3, 2, 4, 5])"
      ]
     },
     "execution_count": 102,
     "metadata": {},
     "output_type": "execute_result"
    }
   ],
   "source": [
    "data['children'].unique()"
   ]
  },
  {
   "cell_type": "markdown",
   "id": "e23240e3",
   "metadata": {
    "deletable": false,
    "editable": false,
    "id": "75440b63"
   },
   "source": [
    "### Удаление пропусков (продолжение)"
   ]
  },
  {
   "cell_type": "markdown",
   "id": "b0b7d219",
   "metadata": {
    "deletable": false,
    "editable": false,
    "id": "f4ea573f"
   },
   "source": [
    "**Задание 11. Заполните пропуски в столбце `days_employed` медианными значениями по каждого типа занятости `income_type`.**"
   ]
  },
  {
   "cell_type": "code",
   "execution_count": 103,
   "id": "7f65ba7f",
   "metadata": {
    "deletable": false,
    "id": "af6b1a7e"
   },
   "outputs": [],
   "source": [
    "for t in data['income_type'].unique():\n",
    "    data.loc[(data['income_type'] == t) & (data['days_employed'].isna()), 'days_employed'] = \\\n",
    "    data.loc[(data['income_type'] == t), 'days_employed'].median()"
   ]
  },
  {
   "cell_type": "markdown",
   "id": "a6b75952",
   "metadata": {
    "deletable": false,
    "editable": false,
    "id": "2753f40d"
   },
   "source": [
    "**Задание 12. Убедитесь, что все пропуски заполнены. Проверьте себя и ещё раз выведите количество пропущенных значений для каждого столбца с помощью двух методов.**"
   ]
  },
  {
   "cell_type": "code",
   "execution_count": 104,
   "id": "17462596",
   "metadata": {
    "deletable": false,
    "id": "55f78bc2",
    "outputId": "8da1e4e1-358e-4e87-98c9-f261bce0a7b2"
   },
   "outputs": [
    {
     "data": {
      "text/plain": [
       "children            0\n",
       "days_employed       0\n",
       "dob_years           0\n",
       "education           0\n",
       "education_id        0\n",
       "family_status       0\n",
       "family_status_id    0\n",
       "gender              0\n",
       "income_type         0\n",
       "debt                0\n",
       "total_income        0\n",
       "purpose             0\n",
       "dtype: int64"
      ]
     },
     "execution_count": 104,
     "metadata": {},
     "output_type": "execute_result"
    }
   ],
   "source": [
    "data.isna().sum()"
   ]
  },
  {
   "cell_type": "markdown",
   "id": "18494f55",
   "metadata": {
    "deletable": false,
    "editable": false,
    "id": "ddc81e43"
   },
   "source": [
    "### Изменение типов данных"
   ]
  },
  {
   "cell_type": "markdown",
   "id": "45aeb021",
   "metadata": {
    "deletable": false,
    "editable": false,
    "id": "42d19d24"
   },
   "source": [
    "**Задание 13. Замените вещественный тип данных в столбце `total_income` на целочисленный с помощью метода `astype()`.**"
   ]
  },
  {
   "cell_type": "code",
   "execution_count": 105,
   "id": "2e9fb2ff",
   "metadata": {
    "deletable": false,
    "id": "920b65ad"
   },
   "outputs": [],
   "source": [
    "data['total_income'] = data['total_income'].astype(int)"
   ]
  },
  {
   "cell_type": "markdown",
   "id": "c07ac037",
   "metadata": {
    "deletable": false,
    "editable": false,
    "id": "80c420ba"
   },
   "source": [
    "### Обработка дубликатов"
   ]
  },
  {
   "cell_type": "markdown",
   "id": "4a114946",
   "metadata": {
    "deletable": false,
    "editable": false
   },
   "source": [
    "**Задание 14. Обработайте неявные дубликаты в столбце `education`. В этом столбце есть одни и те же значения, но записанные по-разному: с использованием заглавных и строчных букв. Приведите их к нижнему регистру. Проверьте остальные столбцы.**"
   ]
  },
  {
   "cell_type": "code",
   "execution_count": 106,
   "id": "aaac8f3e",
   "metadata": {
    "deletable": false
   },
   "outputs": [],
   "source": [
    "data['education'] = data['education'].str.lower()"
   ]
  },
  {
   "cell_type": "markdown",
   "id": "342d826a",
   "metadata": {
    "deletable": false,
    "editable": false,
    "id": "dc587695"
   },
   "source": [
    "**Задание 15. Выведите на экран количество строк-дубликатов в данных. Если такие строки присутствуют, удалите их.**"
   ]
  },
  {
   "cell_type": "code",
   "execution_count": 107,
   "id": "08117cfe",
   "metadata": {
    "deletable": false,
    "id": "3ee445e4",
    "outputId": "9684deba-1934-42d1-99e1-cda61740f822"
   },
   "outputs": [
    {
     "data": {
      "text/plain": [
       "71"
      ]
     },
     "execution_count": 107,
     "metadata": {},
     "output_type": "execute_result"
    }
   ],
   "source": [
    "data.duplicated().sum()"
   ]
  },
  {
   "cell_type": "code",
   "execution_count": 108,
   "id": "5a741768",
   "metadata": {
    "deletable": false,
    "id": "8575fe05"
   },
   "outputs": [],
   "source": [
    "data = data.drop_duplicates()"
   ]
  },
  {
   "cell_type": "markdown",
   "id": "84a737e2",
   "metadata": {
    "deletable": false,
    "editable": false,
    "id": "9904cf55"
   },
   "source": [
    "### Категоризация данных"
   ]
  },
  {
   "cell_type": "markdown",
   "id": "d2e7374c",
   "metadata": {
    "deletable": false,
    "editable": false,
    "id": "72fcc8a2"
   },
   "source": [
    "**Задание 16. На основании диапазонов, указанных ниже, создайте в датафрейме `data` столбец `total_income_category` с категориями:**\n",
    "\n",
    "- 0–30000 — `'E'`;\n",
    "- 30001–50000 — `'D'`;\n",
    "- 50001–200000 — `'C'`;\n",
    "- 200001–1000000 — `'B'`;\n",
    "- 1000001 и выше — `'A'`.\n",
    "\n",
    "\n",
    "**Например, кредитополучателю с доходом 25000 нужно назначить категорию `'E'`, а клиенту, получающему 235000, — `'B'`. Используйте собственную функцию с именем `categorize_income()` и метод `apply()`.**"
   ]
  },
  {
   "cell_type": "code",
   "execution_count": 109,
   "id": "29ce3c3d",
   "metadata": {
    "deletable": false,
    "id": "e1771346"
   },
   "outputs": [],
   "source": [
    "def categorize_income(income):\n",
    "    try:\n",
    "        if 0 <= income <= 30000:\n",
    "            return 'E'\n",
    "        elif 30001 <= income <= 50000:\n",
    "            return 'D'\n",
    "        elif 50001 <= income <= 200000:\n",
    "            return 'C'\n",
    "        elif 200001 <= income <= 1000000:\n",
    "            return 'B'\n",
    "        elif income >= 1000001:\n",
    "            return 'A'\n",
    "    except:\n",
    "        pass"
   ]
  },
  {
   "cell_type": "code",
   "execution_count": 110,
   "id": "50b66c98",
   "metadata": {
    "deletable": false,
    "id": "d5f3586d"
   },
   "outputs": [],
   "source": [
    "data['total_income_category'] = data['total_income'].apply(categorize_income)"
   ]
  },
  {
   "cell_type": "markdown",
   "id": "7817d561",
   "metadata": {
    "deletable": false,
    "editable": false,
    "id": "dde49b5c"
   },
   "source": [
    "**Задание 17. Выведите на экран перечень уникальных целей взятия кредита из столбца `purpose`.**"
   ]
  },
  {
   "cell_type": "code",
   "execution_count": 111,
   "id": "c5700f82",
   "metadata": {
    "deletable": false,
    "id": "f67ce9b3",
    "outputId": "673c12d9-7d7e-4ae0-9812-c622c89dd244"
   },
   "outputs": [
    {
     "data": {
      "text/plain": [
       "array(['покупка жилья', 'приобретение автомобиля',\n",
       "       'дополнительное образование', 'сыграть свадьбу',\n",
       "       'операции с жильем', 'образование', 'на проведение свадьбы',\n",
       "       'покупка жилья для семьи', 'покупка недвижимости',\n",
       "       'покупка коммерческой недвижимости', 'покупка жилой недвижимости',\n",
       "       'строительство собственной недвижимости', 'недвижимость',\n",
       "       'строительство недвижимости', 'на покупку подержанного автомобиля',\n",
       "       'на покупку своего автомобиля',\n",
       "       'операции с коммерческой недвижимостью',\n",
       "       'строительство жилой недвижимости', 'жилье',\n",
       "       'операции со своей недвижимостью', 'автомобили',\n",
       "       'заняться образованием', 'сделка с подержанным автомобилем',\n",
       "       'получение образования', 'автомобиль', 'свадьба',\n",
       "       'получение дополнительного образования', 'покупка своего жилья',\n",
       "       'операции с недвижимостью', 'получение высшего образования',\n",
       "       'свой автомобиль', 'сделка с автомобилем',\n",
       "       'профильное образование', 'высшее образование',\n",
       "       'покупка жилья для сдачи', 'на покупку автомобиля', 'ремонт жилью',\n",
       "       'заняться высшим образованием'], dtype=object)"
      ]
     },
     "execution_count": 111,
     "metadata": {},
     "output_type": "execute_result"
    }
   ],
   "source": [
    "data['purpose'].unique()"
   ]
  },
  {
   "cell_type": "markdown",
   "id": "286ee319",
   "metadata": {
    "deletable": false,
    "editable": false,
    "id": "85d0aef0"
   },
   "source": [
    "**Задание 18. Создайте функцию, которая на основании данных из столбца `purpose` сформирует новый столбец `purpose_category`, в который войдут следующие категории:**\n",
    "\n",
    "- `'операции с автомобилем'`,\n",
    "- `'операции с недвижимостью'`,\n",
    "- `'проведение свадьбы'`,\n",
    "- `'получение образования'`.\n",
    "\n",
    "**Например, если в столбце `purpose` находится подстрока `'на покупку автомобиля'`, то в столбце `purpose_category` должна появиться строка `'операции с автомобилем'`.**\n",
    "\n",
    "**Используйте собственную функцию с именем `categorize_purpose()` и метод `apply()`. Изучите данные в столбце `purpose` и определите, какие подстроки помогут вам правильно определить категорию.**"
   ]
  },
  {
   "cell_type": "code",
   "execution_count": 112,
   "id": "c05e7289",
   "metadata": {
    "deletable": false,
    "id": "e149fab4"
   },
   "outputs": [],
   "source": [
    "def categorize_purpose(row):\n",
    "    try:\n",
    "        if 'автом' in row:\n",
    "            return 'операции с автомобилем'\n",
    "        elif 'жил' in row or 'недвиж' in row:\n",
    "            return 'операции с недвижимостью'\n",
    "        elif 'свад' in row:\n",
    "            return 'проведение свадьбы'\n",
    "        elif 'образов' in row:\n",
    "            return 'получение образования'\n",
    "    except:\n",
    "        return 'нет категории'"
   ]
  },
  {
   "cell_type": "code",
   "execution_count": 113,
   "id": "e3c5aa70",
   "metadata": {
    "deletable": false,
    "id": "bf36e69b"
   },
   "outputs": [],
   "source": [
    "data['purpose_category'] = data['purpose'].apply(categorize_purpose)"
   ]
  },
  {
   "cell_type": "markdown",
   "id": "115b83cb",
   "metadata": {
    "deletable": false,
    "editable": false,
    "id": "09b242bf"
   },
   "source": [
    "### Шаг 3. Исследуйте данные и ответьте на вопросы"
   ]
  },
  {
   "cell_type": "markdown",
   "id": "4856b61f",
   "metadata": {
    "deletable": false,
    "editable": false,
    "id": "c5d66278"
   },
   "source": [
    "#### 3.1 Есть ли зависимость между количеством детей и возвратом кредита в срок?"
   ]
  },
  {
   "cell_type": "code",
   "execution_count": 114,
   "id": "a31862be",
   "metadata": {
    "deletable": false,
    "id": "2cacfc4a"
   },
   "outputs": [
    {
     "data": {
      "text/html": [
       "<div>\n",
       "<style scoped>\n",
       "    .dataframe tbody tr th:only-of-type {\n",
       "        vertical-align: middle;\n",
       "    }\n",
       "\n",
       "    .dataframe tbody tr th {\n",
       "        vertical-align: top;\n",
       "    }\n",
       "\n",
       "    .dataframe thead tr th {\n",
       "        text-align: left;\n",
       "    }\n",
       "\n",
       "    .dataframe thead tr:last-of-type th {\n",
       "        text-align: right;\n",
       "    }\n",
       "</style>\n",
       "<table border=\"1\" class=\"dataframe\">\n",
       "  <thead>\n",
       "    <tr>\n",
       "      <th></th>\n",
       "      <th>mean</th>\n",
       "      <th>count</th>\n",
       "    </tr>\n",
       "    <tr>\n",
       "      <th></th>\n",
       "      <th>debt</th>\n",
       "      <th>debt</th>\n",
       "    </tr>\n",
       "    <tr>\n",
       "      <th>children</th>\n",
       "      <th></th>\n",
       "      <th></th>\n",
       "    </tr>\n",
       "  </thead>\n",
       "  <tbody>\n",
       "    <tr>\n",
       "      <th>0</th>\n",
       "      <td>0.075438</td>\n",
       "      <td>14091</td>\n",
       "    </tr>\n",
       "    <tr>\n",
       "      <th>1</th>\n",
       "      <td>0.092346</td>\n",
       "      <td>4808</td>\n",
       "    </tr>\n",
       "    <tr>\n",
       "      <th>2</th>\n",
       "      <td>0.094542</td>\n",
       "      <td>2052</td>\n",
       "    </tr>\n",
       "    <tr>\n",
       "      <th>3</th>\n",
       "      <td>0.081818</td>\n",
       "      <td>330</td>\n",
       "    </tr>\n",
       "    <tr>\n",
       "      <th>4</th>\n",
       "      <td>0.097561</td>\n",
       "      <td>41</td>\n",
       "    </tr>\n",
       "    <tr>\n",
       "      <th>5</th>\n",
       "      <td>0.000000</td>\n",
       "      <td>9</td>\n",
       "    </tr>\n",
       "  </tbody>\n",
       "</table>\n",
       "</div>"
      ],
      "text/plain": [
       "              mean  count\n",
       "              debt   debt\n",
       "children                 \n",
       "0         0.075438  14091\n",
       "1         0.092346   4808\n",
       "2         0.094542   2052\n",
       "3         0.081818    330\n",
       "4         0.097561     41\n",
       "5         0.000000      9"
      ]
     },
     "execution_count": 114,
     "metadata": {},
     "output_type": "execute_result"
    }
   ],
   "source": [
    "data.pivot_table(index='children', values='debt', aggfunc=['mean', 'count'])"
   ]
  },
  {
   "cell_type": "markdown",
   "id": "a2d73a69",
   "metadata": {
    "deletable": false,
    "id": "3a6b99ec"
   },
   "source": [
    "**Вывод:** По статистике данного банка заёмщики, имеющие пятерых детей вносят платежи в срок, но данные учитывать не будем, так как для вывода не хватает количества таких заёмщиков - их 9. Заёмщики, имеющие от одного до четырёх детей находятся примерно на одном уровне - практически 10% из них совершали просрочки. А вот бездетные заёмщики банка выдали самый низкий показатель среди неплательщиков - 7,5%."
   ]
  },
  {
   "cell_type": "markdown",
   "id": "12d23b64",
   "metadata": {
    "deletable": false,
    "editable": false,
    "id": "97be82ca"
   },
   "source": [
    "#### 3.2 Есть ли зависимость между семейным положением и возвратом кредита в срок?"
   ]
  },
  {
   "cell_type": "code",
   "execution_count": 115,
   "id": "4d6bd647",
   "metadata": {
    "deletable": false,
    "id": "dc3f7ee8"
   },
   "outputs": [
    {
     "data": {
      "text/html": [
       "<div>\n",
       "<style scoped>\n",
       "    .dataframe tbody tr th:only-of-type {\n",
       "        vertical-align: middle;\n",
       "    }\n",
       "\n",
       "    .dataframe tbody tr th {\n",
       "        vertical-align: top;\n",
       "    }\n",
       "\n",
       "    .dataframe thead tr th {\n",
       "        text-align: left;\n",
       "    }\n",
       "\n",
       "    .dataframe thead tr:last-of-type th {\n",
       "        text-align: right;\n",
       "    }\n",
       "</style>\n",
       "<table border=\"1\" class=\"dataframe\">\n",
       "  <thead>\n",
       "    <tr>\n",
       "      <th></th>\n",
       "      <th>mean</th>\n",
       "      <th>count</th>\n",
       "    </tr>\n",
       "    <tr>\n",
       "      <th></th>\n",
       "      <th>debt</th>\n",
       "      <th>debt</th>\n",
       "    </tr>\n",
       "    <tr>\n",
       "      <th>family_status</th>\n",
       "      <th></th>\n",
       "      <th></th>\n",
       "    </tr>\n",
       "  </thead>\n",
       "  <tbody>\n",
       "    <tr>\n",
       "      <th>Не женат / не замужем</th>\n",
       "      <td>0.097639</td>\n",
       "      <td>2796</td>\n",
       "    </tr>\n",
       "    <tr>\n",
       "      <th>в разводе</th>\n",
       "      <td>0.070648</td>\n",
       "      <td>1189</td>\n",
       "    </tr>\n",
       "    <tr>\n",
       "      <th>вдовец / вдова</th>\n",
       "      <td>0.066246</td>\n",
       "      <td>951</td>\n",
       "    </tr>\n",
       "    <tr>\n",
       "      <th>гражданский брак</th>\n",
       "      <td>0.093130</td>\n",
       "      <td>4134</td>\n",
       "    </tr>\n",
       "    <tr>\n",
       "      <th>женат / замужем</th>\n",
       "      <td>0.075606</td>\n",
       "      <td>12261</td>\n",
       "    </tr>\n",
       "  </tbody>\n",
       "</table>\n",
       "</div>"
      ],
      "text/plain": [
       "                           mean  count\n",
       "                           debt   debt\n",
       "family_status                         \n",
       "Не женат / не замужем  0.097639   2796\n",
       "в разводе              0.070648   1189\n",
       "вдовец / вдова         0.066246    951\n",
       "гражданский брак       0.093130   4134\n",
       "женат / замужем        0.075606  12261"
      ]
     },
     "execution_count": 115,
     "metadata": {},
     "output_type": "execute_result"
    }
   ],
   "source": [
    "data.pivot_table(index='family_status', values='debt', aggfunc=['mean', 'count'])"
   ]
  },
  {
   "cell_type": "markdown",
   "id": "d66efc89",
   "metadata": {
    "deletable": false,
    "id": "1cef7837"
   },
   "source": [
    "**Вывод:** Из сводной таблицы видим, что более 9% неуплат приходится на заёмщиков, которые не состояли в браке либо проживают совместно неофициально. Заёмщики же состоящие в браке, вдовцы и разведённые показали схожий результат - 6,6 - 7,6% просрочек по платежам. ***Заёмщики состоящие или состоявшие в браке более надежны.***"
   ]
  },
  {
   "cell_type": "markdown",
   "id": "37689bdf",
   "metadata": {
    "deletable": false,
    "editable": false,
    "id": "1e8b2fca"
   },
   "source": [
    "#### 3.3 Есть ли зависимость между уровнем дохода и возвратом кредита в срок?"
   ]
  },
  {
   "cell_type": "code",
   "execution_count": 116,
   "id": "d8f767b4",
   "metadata": {
    "deletable": false,
    "id": "cd7e3720"
   },
   "outputs": [
    {
     "data": {
      "text/html": [
       "<div>\n",
       "<style scoped>\n",
       "    .dataframe tbody tr th:only-of-type {\n",
       "        vertical-align: middle;\n",
       "    }\n",
       "\n",
       "    .dataframe tbody tr th {\n",
       "        vertical-align: top;\n",
       "    }\n",
       "\n",
       "    .dataframe thead tr th {\n",
       "        text-align: left;\n",
       "    }\n",
       "\n",
       "    .dataframe thead tr:last-of-type th {\n",
       "        text-align: right;\n",
       "    }\n",
       "</style>\n",
       "<table border=\"1\" class=\"dataframe\">\n",
       "  <thead>\n",
       "    <tr>\n",
       "      <th></th>\n",
       "      <th>mean</th>\n",
       "      <th>count</th>\n",
       "    </tr>\n",
       "    <tr>\n",
       "      <th></th>\n",
       "      <th>debt</th>\n",
       "      <th>debt</th>\n",
       "    </tr>\n",
       "    <tr>\n",
       "      <th>total_income_category</th>\n",
       "      <th></th>\n",
       "      <th></th>\n",
       "    </tr>\n",
       "  </thead>\n",
       "  <tbody>\n",
       "    <tr>\n",
       "      <th>A</th>\n",
       "      <td>0.080000</td>\n",
       "      <td>25</td>\n",
       "    </tr>\n",
       "    <tr>\n",
       "      <th>B</th>\n",
       "      <td>0.070602</td>\n",
       "      <td>5014</td>\n",
       "    </tr>\n",
       "    <tr>\n",
       "      <th>C</th>\n",
       "      <td>0.084982</td>\n",
       "      <td>15921</td>\n",
       "    </tr>\n",
       "    <tr>\n",
       "      <th>D</th>\n",
       "      <td>0.060172</td>\n",
       "      <td>349</td>\n",
       "    </tr>\n",
       "    <tr>\n",
       "      <th>E</th>\n",
       "      <td>0.090909</td>\n",
       "      <td>22</td>\n",
       "    </tr>\n",
       "  </tbody>\n",
       "</table>\n",
       "</div>"
      ],
      "text/plain": [
       "                           mean  count\n",
       "                           debt   debt\n",
       "total_income_category                 \n",
       "A                      0.080000     25\n",
       "B                      0.070602   5014\n",
       "C                      0.084982  15921\n",
       "D                      0.060172    349\n",
       "E                      0.090909     22"
      ]
     },
     "execution_count": 116,
     "metadata": {},
     "output_type": "execute_result"
    }
   ],
   "source": [
    "data.pivot_table(index='total_income_category', values='debt', aggfunc=['mean', 'count'])"
   ]
  },
  {
   "cell_type": "markdown",
   "id": "4aa22791",
   "metadata": {
    "deletable": false,
    "id": "e8593def"
   },
   "source": [
    "**Вывод:** Если сравнить только две самые большие категории C (50 - 200) и B (200 - 1 млн), выходит что заёмщики с более высоким доходом являются более надежными.\n",
    "\n",
    "Напрашивается рекомендация банку - изменить градацию по доходам для получения более сбалансированных выборок."
   ]
  },
  {
   "cell_type": "markdown",
   "id": "9cdf6c9d",
   "metadata": {
    "deletable": false,
    "editable": false,
    "id": "99ecbd1f"
   },
   "source": [
    "#### 3.4 Как разные цели кредита влияют на его возврат в срок?"
   ]
  },
  {
   "cell_type": "code",
   "execution_count": 117,
   "id": "2b188c73",
   "metadata": {
    "deletable": false,
    "id": "2b687290"
   },
   "outputs": [
    {
     "data": {
      "text/html": [
       "<div>\n",
       "<style scoped>\n",
       "    .dataframe tbody tr th:only-of-type {\n",
       "        vertical-align: middle;\n",
       "    }\n",
       "\n",
       "    .dataframe tbody tr th {\n",
       "        vertical-align: top;\n",
       "    }\n",
       "\n",
       "    .dataframe thead tr th {\n",
       "        text-align: left;\n",
       "    }\n",
       "\n",
       "    .dataframe thead tr:last-of-type th {\n",
       "        text-align: right;\n",
       "    }\n",
       "</style>\n",
       "<table border=\"1\" class=\"dataframe\">\n",
       "  <thead>\n",
       "    <tr>\n",
       "      <th></th>\n",
       "      <th>mean</th>\n",
       "      <th>count</th>\n",
       "    </tr>\n",
       "    <tr>\n",
       "      <th></th>\n",
       "      <th>debt</th>\n",
       "      <th>debt</th>\n",
       "    </tr>\n",
       "    <tr>\n",
       "      <th>purpose_category</th>\n",
       "      <th></th>\n",
       "      <th></th>\n",
       "    </tr>\n",
       "  </thead>\n",
       "  <tbody>\n",
       "    <tr>\n",
       "      <th>операции с автомобилем</th>\n",
       "      <td>0.093480</td>\n",
       "      <td>4279</td>\n",
       "    </tr>\n",
       "    <tr>\n",
       "      <th>операции с недвижимостью</th>\n",
       "      <td>0.072551</td>\n",
       "      <td>10751</td>\n",
       "    </tr>\n",
       "    <tr>\n",
       "      <th>получение образования</th>\n",
       "      <td>0.092528</td>\n",
       "      <td>3988</td>\n",
       "    </tr>\n",
       "    <tr>\n",
       "      <th>проведение свадьбы</th>\n",
       "      <td>0.079118</td>\n",
       "      <td>2313</td>\n",
       "    </tr>\n",
       "  </tbody>\n",
       "</table>\n",
       "</div>"
      ],
      "text/plain": [
       "                              mean  count\n",
       "                              debt   debt\n",
       "purpose_category                         \n",
       "операции с автомобилем    0.093480   4279\n",
       "операции с недвижимостью  0.072551  10751\n",
       "получение образования     0.092528   3988\n",
       "проведение свадьбы        0.079118   2313"
      ]
     },
     "execution_count": 117,
     "metadata": {},
     "output_type": "execute_result"
    }
   ],
   "source": [
    "data.pivot_table(index='purpose_category', values='debt', aggfunc=['mean', 'count'])"
   ]
  },
  {
   "cell_type": "markdown",
   "id": "ee515c1b",
   "metadata": {
    "deletable": false,
    "id": "b4bb2ce6"
   },
   "source": [
    "**Вывод:** наиболее проблемными выглядят автокредиты, а надежными - кредиты на недвижимость."
   ]
  },
  {
   "cell_type": "markdown",
   "id": "f2f3d155",
   "metadata": {
    "deletable": false,
    "editable": false,
    "id": "09c3ac4c"
   },
   "source": [
    "#### 3.5 Приведите возможные причины появления пропусков в исходных данных."
   ]
  },
  {
   "cell_type": "markdown",
   "id": "bd072cca",
   "metadata": {
    "deletable": false,
    "id": "9da2ceda"
   },
   "source": [
    "Либо человеческий фактор (кто-то что-то не ввел, умышленно или нет), либо технический, например некорректная выгрузка из БД"
   ]
  },
  {
   "cell_type": "markdown",
   "id": "5465db3a",
   "metadata": {
    "deletable": false,
    "editable": false,
    "id": "7b0487d6"
   },
   "source": [
    "#### 3.6 Объясните, почему заполнить пропуски медианным значением — лучшее решение для количественных переменных."
   ]
  },
  {
   "cell_type": "markdown",
   "id": "52d81126",
   "metadata": {
    "deletable": false,
    "id": "7ecf2b8e"
   },
   "source": [
    "*Ответ:* С помощью медианы мы видим центральное значение из всех данных, в отличии от среднего, которое может быть необъективным из-за выбросов.\n",
    "***Медиана менее чувствительна к выбросам***"
   ]
  },
  {
   "cell_type": "markdown",
   "id": "82f37fe4",
   "metadata": {
    "deletable": false,
    "editable": false,
    "id": "6db5255a"
   },
   "source": [
    "### Шаг 4: общий вывод."
   ]
  },
  {
   "cell_type": "markdown",
   "id": "8342e32f",
   "metadata": {},
   "source": [
    "<div style=\"border:solid blue 3px; padding: 20px\">\n",
    "    <div class=\"alert-info\">\n",
    "        <p>Мы исследовали зависимости определенных факторов на своевременную уплату долга.</p>\n",
    "    <p><b>Зависимость от количества детей:</b> бездетные заёмщики банка показывают самый низкий показатель среди неплательщиков - 7,5%. Заёмщики, имеющие 1-4 детей находятся примерно на одном уровне - практически 10% из них совершали просрочки.</p>\n",
    "    <p><b>Зависимость от семейного положения:</b> из сводной таблицы видим, что более 9% неуплат приходится на заёмщиков, которые не состояли в браке либо проживают совместно неофициально. Заёмщики же состоящие в браке, вдовцы и разведённые показали схожий результат - 6,6 - 7,6% просрочек по платежам.</p>\n",
    "    <p><b>Зависимость от уровня дохода:</b> Для граждан с минимальным доходом - до 30'000 рублей и максимальным - более 1 млн рублей мы не можем сделать вывод из-за слишком небольшого количества кредитов у потребителей с такими доходами в данном банке. Самый низкий процент просрочек у заёмщиков с доходом от 30'000 до 50'000 рублей - у них 6%. За ними следуют заёмщики с доходом от 200'000 до 1 млн рублей - не вовремя оплатили около 7%. И с показателем просрочек в 8,5% в данном банке заёмщики с доходом 50'000-200'000 рублей, но таких потребителей в разы больше. Это указывает нам на то, что выборка зависимости между уровнем дохода и возвратом кредита в срок в данном случае некорректна.</p>\n",
    "    <p><b>Зависимость от цели кредита:</b> выяснили, что неуплата долга напрямую не зависит от цели кредитования - показатели находятся примерно на одном уровне: чаще не выплачивали долг вовремя заёмщики, взявшие средства на образование и операции с автомобилем - 9,2 - 9,3%; от 7,2% до 7,9% заёмщиков не вернули в срок средства, взятые на операции с недвижимостью и на проведение свадьбы.</p>\n",
    "    <p> __По любому из взятых нами факторов мы видим показатели ниже 10% в отношении просроченных платежей, что говорит нам о корректности исследования и отсутствии каких-либо выбросов в показателях.__ </p>\n",
    "    </div>\n",
    "</div>"
   ]
  }
 ],
 "metadata": {
  "ExecuteTimeLog": [
   {
    "duration": 47,
    "start_time": "2022-12-06T20:07:16.694Z"
   },
   {
    "duration": 507,
    "start_time": "2022-12-06T20:07:52.125Z"
   },
   {
    "duration": 19,
    "start_time": "2022-12-06T20:07:52.634Z"
   },
   {
    "duration": 13,
    "start_time": "2022-12-06T20:07:52.654Z"
   },
   {
    "duration": 7,
    "start_time": "2022-12-06T20:07:52.669Z"
   },
   {
    "duration": 34,
    "start_time": "2022-12-06T20:07:52.678Z"
   },
   {
    "duration": 4,
    "start_time": "2022-12-06T20:07:52.725Z"
   },
   {
    "duration": 12,
    "start_time": "2022-12-06T20:07:52.731Z"
   },
   {
    "duration": 5,
    "start_time": "2022-12-06T20:07:52.744Z"
   },
   {
    "duration": 8,
    "start_time": "2022-12-06T20:07:52.750Z"
   },
   {
    "duration": 5,
    "start_time": "2022-12-06T20:07:52.760Z"
   },
   {
    "duration": 31,
    "start_time": "2022-12-06T20:07:52.766Z"
   },
   {
    "duration": 28,
    "start_time": "2022-12-06T20:07:52.799Z"
   },
   {
    "duration": 4,
    "start_time": "2022-12-06T20:07:52.828Z"
   },
   {
    "duration": 16,
    "start_time": "2022-12-06T20:07:52.833Z"
   },
   {
    "duration": 21,
    "start_time": "2022-12-06T20:07:52.850Z"
   },
   {
    "duration": 15,
    "start_time": "2022-12-06T20:07:52.872Z"
   },
   {
    "duration": 3,
    "start_time": "2022-12-06T20:07:52.889Z"
   },
   {
    "duration": 13,
    "start_time": "2022-12-06T20:07:52.894Z"
   },
   {
    "duration": 24,
    "start_time": "2022-12-06T20:07:52.909Z"
   },
   {
    "duration": 3,
    "start_time": "2022-12-06T20:07:52.935Z"
   },
   {
    "duration": 16,
    "start_time": "2022-12-06T20:07:52.939Z"
   },
   {
    "duration": 20,
    "start_time": "2022-12-06T20:07:52.956Z"
   },
   {
    "duration": 3,
    "start_time": "2022-12-06T20:07:52.977Z"
   },
   {
    "duration": 5,
    "start_time": "2022-12-06T20:07:52.981Z"
   },
   {
    "duration": 12,
    "start_time": "2022-12-06T20:07:52.988Z"
   },
   {
    "duration": 30,
    "start_time": "2022-12-06T20:19:52.700Z"
   },
   {
    "duration": 6,
    "start_time": "2022-12-06T20:20:20.280Z"
   },
   {
    "duration": 22,
    "start_time": "2022-12-06T20:20:28.177Z"
   },
   {
    "duration": 323,
    "start_time": "2022-12-06T20:26:41.281Z"
   },
   {
    "duration": 63,
    "start_time": "2022-12-06T20:29:22.593Z"
   },
   {
    "duration": 14,
    "start_time": "2022-12-06T20:29:22.657Z"
   },
   {
    "duration": 18,
    "start_time": "2022-12-06T20:29:22.672Z"
   },
   {
    "duration": 10,
    "start_time": "2022-12-06T20:29:22.691Z"
   },
   {
    "duration": 43,
    "start_time": "2022-12-06T20:29:22.702Z"
   },
   {
    "duration": 3,
    "start_time": "2022-12-06T20:29:22.747Z"
   },
   {
    "duration": 14,
    "start_time": "2022-12-06T20:29:22.752Z"
   },
   {
    "duration": 5,
    "start_time": "2022-12-06T20:29:22.768Z"
   },
   {
    "duration": 6,
    "start_time": "2022-12-06T20:29:22.774Z"
   },
   {
    "duration": 5,
    "start_time": "2022-12-06T20:29:22.782Z"
   },
   {
    "duration": 42,
    "start_time": "2022-12-06T20:29:22.789Z"
   },
   {
    "duration": 8,
    "start_time": "2022-12-06T20:29:22.833Z"
   },
   {
    "duration": 4,
    "start_time": "2022-12-06T20:29:22.842Z"
   },
   {
    "duration": 11,
    "start_time": "2022-12-06T20:29:22.847Z"
   },
   {
    "duration": 20,
    "start_time": "2022-12-06T20:29:22.859Z"
   },
   {
    "duration": 15,
    "start_time": "2022-12-06T20:29:22.881Z"
   },
   {
    "duration": 29,
    "start_time": "2022-12-06T20:29:22.898Z"
   },
   {
    "duration": 19,
    "start_time": "2022-12-06T20:29:22.929Z"
   },
   {
    "duration": 14,
    "start_time": "2022-12-06T20:29:22.950Z"
   },
   {
    "duration": 3,
    "start_time": "2022-12-06T20:29:22.966Z"
   },
   {
    "duration": 9,
    "start_time": "2022-12-06T20:29:22.972Z"
   },
   {
    "duration": 28352,
    "start_time": "2022-12-06T20:29:22.982Z"
   },
   {
    "duration": 2,
    "start_time": "2022-12-06T20:29:51.336Z"
   },
   {
    "duration": 19,
    "start_time": "2022-12-06T20:29:51.340Z"
   },
   {
    "duration": 9,
    "start_time": "2022-12-06T20:29:51.361Z"
   },
   {
    "duration": 28576,
    "start_time": "2022-12-06T20:33:06.186Z"
   },
   {
    "duration": 28334,
    "start_time": "2022-12-06T20:34:00.321Z"
   },
   {
    "duration": 27899,
    "start_time": "2022-12-06T20:34:42.737Z"
   },
   {
    "duration": 849,
    "start_time": "2022-12-06T20:35:57.741Z"
   },
   {
    "duration": 826,
    "start_time": "2022-12-06T20:38:07.595Z"
   },
   {
    "duration": 62,
    "start_time": "2022-12-06T20:39:26.236Z"
   },
   {
    "duration": 15,
    "start_time": "2022-12-06T20:39:26.300Z"
   },
   {
    "duration": 14,
    "start_time": "2022-12-06T20:39:26.317Z"
   },
   {
    "duration": 10,
    "start_time": "2022-12-06T20:39:26.334Z"
   },
   {
    "duration": 29,
    "start_time": "2022-12-06T20:39:26.346Z"
   },
   {
    "duration": 3,
    "start_time": "2022-12-06T20:39:26.377Z"
   },
   {
    "duration": 9,
    "start_time": "2022-12-06T20:39:26.382Z"
   },
   {
    "duration": 4,
    "start_time": "2022-12-06T20:39:26.393Z"
   },
   {
    "duration": 32,
    "start_time": "2022-12-06T20:39:26.399Z"
   },
   {
    "duration": 9,
    "start_time": "2022-12-06T20:39:26.433Z"
   },
   {
    "duration": 32,
    "start_time": "2022-12-06T20:39:26.443Z"
   },
   {
    "duration": 10,
    "start_time": "2022-12-06T20:39:26.476Z"
   },
   {
    "duration": 4,
    "start_time": "2022-12-06T20:39:26.487Z"
   },
   {
    "duration": 35,
    "start_time": "2022-12-06T20:39:26.492Z"
   },
   {
    "duration": 19,
    "start_time": "2022-12-06T20:39:26.528Z"
   },
   {
    "duration": 17,
    "start_time": "2022-12-06T20:39:26.549Z"
   },
   {
    "duration": 4,
    "start_time": "2022-12-06T20:39:26.567Z"
   },
   {
    "duration": 14,
    "start_time": "2022-12-06T20:39:26.573Z"
   },
   {
    "duration": 6,
    "start_time": "2022-12-06T20:39:26.588Z"
   },
   {
    "duration": 31,
    "start_time": "2022-12-06T20:39:26.596Z"
   },
   {
    "duration": 34,
    "start_time": "2022-12-06T20:39:26.629Z"
   },
   {
    "duration": 2,
    "start_time": "2022-12-06T20:39:55.379Z"
   },
   {
    "duration": 5,
    "start_time": "2022-12-06T20:39:55.382Z"
   },
   {
    "duration": 7,
    "start_time": "2022-12-06T20:39:55.389Z"
   },
   {
    "duration": 25922,
    "start_time": "2022-12-06T20:39:55.398Z"
   },
   {
    "duration": 25903,
    "start_time": "2022-12-06T20:43:27.564Z"
   },
   {
    "duration": 25971,
    "start_time": "2022-12-06T20:47:09.482Z"
   },
   {
    "duration": 25612,
    "start_time": "2022-12-06T20:50:46.638Z"
   },
   {
    "duration": 179,
    "start_time": "2022-12-06T20:57:20.410Z"
   },
   {
    "duration": 73,
    "start_time": "2022-12-06T20:58:07.184Z"
   },
   {
    "duration": 88,
    "start_time": "2022-12-06T20:58:46.719Z"
   },
   {
    "duration": 26055,
    "start_time": "2022-12-06T20:59:17.230Z"
   },
   {
    "duration": 26022,
    "start_time": "2022-12-06T21:01:02.119Z"
   },
   {
    "duration": 25948,
    "start_time": "2022-12-06T21:02:00.305Z"
   },
   {
    "duration": 27,
    "start_time": "2022-12-06T21:13:52.640Z"
   },
   {
    "duration": 19,
    "start_time": "2022-12-06T21:16:34.484Z"
   },
   {
    "duration": 67,
    "start_time": "2022-12-06T21:17:32.789Z"
   },
   {
    "duration": 14,
    "start_time": "2022-12-06T21:17:32.858Z"
   },
   {
    "duration": 16,
    "start_time": "2022-12-06T21:17:32.873Z"
   },
   {
    "duration": 10,
    "start_time": "2022-12-06T21:17:32.892Z"
   },
   {
    "duration": 49,
    "start_time": "2022-12-06T21:17:32.904Z"
   },
   {
    "duration": 4,
    "start_time": "2022-12-06T21:17:32.954Z"
   },
   {
    "duration": 11,
    "start_time": "2022-12-06T21:17:32.960Z"
   },
   {
    "duration": 5,
    "start_time": "2022-12-06T21:17:32.973Z"
   },
   {
    "duration": 7,
    "start_time": "2022-12-06T21:17:32.980Z"
   },
   {
    "duration": 6,
    "start_time": "2022-12-06T21:17:32.990Z"
   },
   {
    "duration": 32,
    "start_time": "2022-12-06T21:17:33.025Z"
   },
   {
    "duration": 10,
    "start_time": "2022-12-06T21:17:33.059Z"
   },
   {
    "duration": 15,
    "start_time": "2022-12-06T21:17:33.070Z"
   },
   {
    "duration": 13,
    "start_time": "2022-12-06T21:17:33.087Z"
   },
   {
    "duration": 30,
    "start_time": "2022-12-06T21:17:33.101Z"
   },
   {
    "duration": 17,
    "start_time": "2022-12-06T21:17:33.132Z"
   },
   {
    "duration": 3,
    "start_time": "2022-12-06T21:17:33.150Z"
   },
   {
    "duration": 12,
    "start_time": "2022-12-06T21:17:33.154Z"
   },
   {
    "duration": 5,
    "start_time": "2022-12-06T21:17:33.168Z"
   },
   {
    "duration": 3,
    "start_time": "2022-12-06T21:17:33.175Z"
   },
   {
    "duration": 12,
    "start_time": "2022-12-06T21:17:33.180Z"
   },
   {
    "duration": 29410,
    "start_time": "2022-12-06T21:17:33.194Z"
   },
   {
    "duration": 25,
    "start_time": "2022-12-06T21:18:02.606Z"
   },
   {
    "duration": 3,
    "start_time": "2022-12-06T21:18:02.633Z"
   },
   {
    "duration": 11,
    "start_time": "2022-12-06T21:18:02.637Z"
   },
   {
    "duration": 29,
    "start_time": "2022-12-06T21:18:39.218Z"
   },
   {
    "duration": 40,
    "start_time": "2022-12-06T21:25:49.515Z"
   },
   {
    "duration": 25,
    "start_time": "2022-12-06T21:26:21.975Z"
   },
   {
    "duration": 27,
    "start_time": "2022-12-06T21:36:05.366Z"
   },
   {
    "duration": 75,
    "start_time": "2022-12-06T22:01:01.749Z"
   },
   {
    "duration": 19,
    "start_time": "2022-12-06T22:01:01.826Z"
   },
   {
    "duration": 32,
    "start_time": "2022-12-06T22:01:01.847Z"
   },
   {
    "duration": 10,
    "start_time": "2022-12-06T22:01:01.881Z"
   },
   {
    "duration": 44,
    "start_time": "2022-12-06T22:01:01.893Z"
   },
   {
    "duration": 4,
    "start_time": "2022-12-06T22:01:01.938Z"
   },
   {
    "duration": 40,
    "start_time": "2022-12-06T22:01:01.944Z"
   },
   {
    "duration": 16,
    "start_time": "2022-12-06T22:01:01.986Z"
   },
   {
    "duration": 13,
    "start_time": "2022-12-06T22:01:02.003Z"
   },
   {
    "duration": 23,
    "start_time": "2022-12-06T22:01:02.018Z"
   },
   {
    "duration": 63,
    "start_time": "2022-12-06T22:01:02.043Z"
   },
   {
    "duration": 10,
    "start_time": "2022-12-06T22:01:02.108Z"
   },
   {
    "duration": 17,
    "start_time": "2022-12-06T22:01:02.120Z"
   },
   {
    "duration": 22,
    "start_time": "2022-12-06T22:01:02.140Z"
   },
   {
    "duration": 25,
    "start_time": "2022-12-06T22:01:02.164Z"
   },
   {
    "duration": 19,
    "start_time": "2022-12-06T22:01:02.190Z"
   },
   {
    "duration": 4,
    "start_time": "2022-12-06T22:01:02.211Z"
   },
   {
    "duration": 17,
    "start_time": "2022-12-06T22:01:02.217Z"
   },
   {
    "duration": 8,
    "start_time": "2022-12-06T22:01:02.236Z"
   },
   {
    "duration": 5,
    "start_time": "2022-12-06T22:01:02.245Z"
   },
   {
    "duration": 23,
    "start_time": "2022-12-06T22:01:02.252Z"
   },
   {
    "duration": 730,
    "start_time": "2022-12-07T07:18:15.361Z"
   },
   {
    "duration": 32,
    "start_time": "2022-12-07T07:18:16.093Z"
   },
   {
    "duration": 20,
    "start_time": "2022-12-07T07:18:16.127Z"
   },
   {
    "duration": 10,
    "start_time": "2022-12-07T07:18:16.149Z"
   },
   {
    "duration": 45,
    "start_time": "2022-12-07T07:18:16.161Z"
   },
   {
    "duration": 3,
    "start_time": "2022-12-07T07:18:16.208Z"
   },
   {
    "duration": 22,
    "start_time": "2022-12-07T07:18:16.213Z"
   },
   {
    "duration": 5,
    "start_time": "2022-12-07T07:18:16.237Z"
   },
   {
    "duration": 14,
    "start_time": "2022-12-07T07:18:16.244Z"
   },
   {
    "duration": 4,
    "start_time": "2022-12-07T07:18:16.261Z"
   },
   {
    "duration": 59,
    "start_time": "2022-12-07T07:18:16.267Z"
   },
   {
    "duration": 12,
    "start_time": "2022-12-07T07:18:16.328Z"
   },
   {
    "duration": 10,
    "start_time": "2022-12-07T07:18:16.342Z"
   },
   {
    "duration": 18,
    "start_time": "2022-12-07T07:18:16.354Z"
   },
   {
    "duration": 39,
    "start_time": "2022-12-07T07:18:16.375Z"
   },
   {
    "duration": 25,
    "start_time": "2022-12-07T07:18:16.416Z"
   },
   {
    "duration": 11,
    "start_time": "2022-12-07T07:18:16.443Z"
   },
   {
    "duration": 24,
    "start_time": "2022-12-07T07:18:16.456Z"
   },
   {
    "duration": 9,
    "start_time": "2022-12-07T07:18:16.483Z"
   },
   {
    "duration": 5,
    "start_time": "2022-12-07T07:18:16.493Z"
   },
   {
    "duration": 30,
    "start_time": "2022-12-07T07:18:16.515Z"
   },
   {
    "duration": 32311,
    "start_time": "2022-12-07T07:18:16.548Z"
   },
   {
    "duration": 27,
    "start_time": "2022-12-07T07:18:48.862Z"
   },
   {
    "duration": 41,
    "start_time": "2022-12-07T07:18:48.891Z"
   },
   {
    "duration": 25,
    "start_time": "2022-12-07T07:18:48.934Z"
   },
   {
    "duration": 45,
    "start_time": "2022-12-07T07:22:20.187Z"
   },
   {
    "duration": 49,
    "start_time": "2022-12-07T07:23:55.563Z"
   },
   {
    "duration": 52,
    "start_time": "2022-12-07T11:44:00.409Z"
   },
   {
    "duration": 722,
    "start_time": "2022-12-07T11:44:04.810Z"
   },
   {
    "duration": 23,
    "start_time": "2022-12-07T11:44:05.535Z"
   },
   {
    "duration": 17,
    "start_time": "2022-12-07T11:44:05.560Z"
   },
   {
    "duration": 10,
    "start_time": "2022-12-07T11:44:05.579Z"
   },
   {
    "duration": 41,
    "start_time": "2022-12-07T11:44:05.590Z"
   },
   {
    "duration": 3,
    "start_time": "2022-12-07T11:44:05.633Z"
   },
   {
    "duration": 22,
    "start_time": "2022-12-07T11:44:05.638Z"
   },
   {
    "duration": 6,
    "start_time": "2022-12-07T11:44:05.662Z"
   },
   {
    "duration": 12,
    "start_time": "2022-12-07T11:44:05.677Z"
   },
   {
    "duration": 6,
    "start_time": "2022-12-07T11:44:05.692Z"
   },
   {
    "duration": 39,
    "start_time": "2022-12-07T11:44:05.699Z"
   },
   {
    "duration": 9,
    "start_time": "2022-12-07T11:44:05.740Z"
   },
   {
    "duration": 7,
    "start_time": "2022-12-07T11:44:05.751Z"
   },
   {
    "duration": 26,
    "start_time": "2022-12-07T11:44:05.760Z"
   },
   {
    "duration": 31,
    "start_time": "2022-12-07T11:44:05.788Z"
   },
   {
    "duration": 20,
    "start_time": "2022-12-07T11:44:05.820Z"
   },
   {
    "duration": 4,
    "start_time": "2022-12-07T11:44:05.842Z"
   },
   {
    "duration": 44,
    "start_time": "2022-12-07T11:44:05.848Z"
   },
   {
    "duration": 9,
    "start_time": "2022-12-07T11:44:05.893Z"
   },
   {
    "duration": 5,
    "start_time": "2022-12-07T11:44:05.905Z"
   },
   {
    "duration": 13,
    "start_time": "2022-12-07T11:44:05.913Z"
   },
   {
    "duration": 70,
    "start_time": "2022-12-07T11:44:05.928Z"
   },
   {
    "duration": 26,
    "start_time": "2022-12-07T11:44:06.000Z"
   },
   {
    "duration": 23,
    "start_time": "2022-12-07T11:44:06.028Z"
   },
   {
    "duration": 47,
    "start_time": "2022-12-07T11:44:06.053Z"
   },
   {
    "duration": 31,
    "start_time": "2022-12-07T11:44:36.211Z"
   },
   {
    "duration": 42,
    "start_time": "2022-12-07T12:59:34.549Z"
   },
   {
    "duration": 12,
    "start_time": "2022-12-07T13:00:54.484Z"
   },
   {
    "duration": 23,
    "start_time": "2022-12-07T13:01:40.912Z"
   },
   {
    "duration": 37,
    "start_time": "2022-12-07T13:02:10.674Z"
   },
   {
    "duration": 15,
    "start_time": "2022-12-07T13:02:58.834Z"
   },
   {
    "duration": 50,
    "start_time": "2022-12-07T13:03:58.072Z"
   },
   {
    "duration": 8,
    "start_time": "2022-12-07T13:04:42.952Z"
   },
   {
    "duration": 58,
    "start_time": "2022-12-07T13:05:50.064Z"
   },
   {
    "duration": 14,
    "start_time": "2022-12-07T13:06:13.926Z"
   },
   {
    "duration": 15,
    "start_time": "2022-12-07T13:06:28.206Z"
   },
   {
    "duration": 19,
    "start_time": "2022-12-07T13:06:40.519Z"
   },
   {
    "duration": 861,
    "start_time": "2022-12-07T13:11:00.364Z"
   },
   {
    "duration": 18,
    "start_time": "2022-12-07T13:11:53.937Z"
   },
   {
    "duration": 9,
    "start_time": "2022-12-07T13:13:13.567Z"
   },
   {
    "duration": 14,
    "start_time": "2022-12-07T13:13:50.015Z"
   },
   {
    "duration": 22,
    "start_time": "2022-12-07T13:15:13.695Z"
   },
   {
    "duration": 20,
    "start_time": "2022-12-07T13:15:31.560Z"
   },
   {
    "duration": 22,
    "start_time": "2022-12-07T13:16:01.632Z"
   },
   {
    "duration": 53,
    "start_time": "2022-12-07T13:27:14.432Z"
   },
   {
    "duration": 34,
    "start_time": "2022-12-07T13:27:31.813Z"
   },
   {
    "duration": 23,
    "start_time": "2022-12-07T13:28:35.281Z"
   },
   {
    "duration": 25,
    "start_time": "2022-12-07T14:05:33.000Z"
   },
   {
    "duration": 24,
    "start_time": "2022-12-07T14:07:29.360Z"
   },
   {
    "duration": 23,
    "start_time": "2022-12-07T14:07:50.377Z"
   },
   {
    "duration": 24,
    "start_time": "2022-12-07T14:08:05.620Z"
   },
   {
    "duration": 27,
    "start_time": "2022-12-07T14:08:13.551Z"
   },
   {
    "duration": 29,
    "start_time": "2022-12-07T14:08:21.765Z"
   },
   {
    "duration": 457,
    "start_time": "2022-12-07T20:21:43.376Z"
   },
   {
    "duration": 23,
    "start_time": "2022-12-07T20:21:43.835Z"
   },
   {
    "duration": 26,
    "start_time": "2022-12-07T20:21:43.859Z"
   },
   {
    "duration": 20,
    "start_time": "2022-12-07T20:21:43.886Z"
   },
   {
    "duration": 47,
    "start_time": "2022-12-07T20:21:43.908Z"
   },
   {
    "duration": 4,
    "start_time": "2022-12-07T20:21:43.957Z"
   },
   {
    "duration": 24,
    "start_time": "2022-12-07T20:21:43.962Z"
   },
   {
    "duration": 13,
    "start_time": "2022-12-07T20:21:43.988Z"
   },
   {
    "duration": 39,
    "start_time": "2022-12-07T20:21:44.002Z"
   },
   {
    "duration": 24,
    "start_time": "2022-12-07T20:21:44.043Z"
   },
   {
    "duration": 59,
    "start_time": "2022-12-07T20:21:44.069Z"
   },
   {
    "duration": 10,
    "start_time": "2022-12-07T20:21:44.129Z"
   },
   {
    "duration": 18,
    "start_time": "2022-12-07T20:21:44.141Z"
   },
   {
    "duration": 19,
    "start_time": "2022-12-07T20:21:44.161Z"
   },
   {
    "duration": 31,
    "start_time": "2022-12-07T20:21:44.182Z"
   },
   {
    "duration": 24,
    "start_time": "2022-12-07T20:21:44.214Z"
   },
   {
    "duration": 4,
    "start_time": "2022-12-07T20:21:44.240Z"
   },
   {
    "duration": 28,
    "start_time": "2022-12-07T20:21:44.245Z"
   },
   {
    "duration": 7,
    "start_time": "2022-12-07T20:21:44.275Z"
   },
   {
    "duration": 17,
    "start_time": "2022-12-07T20:21:44.283Z"
   },
   {
    "duration": 24,
    "start_time": "2022-12-07T20:21:44.301Z"
   },
   {
    "duration": 45,
    "start_time": "2022-12-07T20:21:44.327Z"
   },
   {
    "duration": 22,
    "start_time": "2022-12-07T20:21:44.374Z"
   },
   {
    "duration": 20,
    "start_time": "2022-12-07T20:21:44.398Z"
   },
   {
    "duration": 26,
    "start_time": "2022-12-07T20:21:44.420Z"
   }
  ],
  "colab": {
   "name": "dpp_template_part2.ipynb",
   "provenance": []
  },
  "kernelspec": {
   "display_name": "Python 3 (ipykernel)",
   "language": "python",
   "name": "python3"
  },
  "language_info": {
   "codemirror_mode": {
    "name": "ipython",
    "version": 3
   },
   "file_extension": ".py",
   "mimetype": "text/x-python",
   "name": "python",
   "nbconvert_exporter": "python",
   "pygments_lexer": "ipython3",
   "version": "3.10.4"
  },
  "toc": {
   "base_numbering": 1,
   "nav_menu": {},
   "number_sections": true,
   "sideBar": true,
   "skip_h1_title": true,
   "title_cell": "Table of Contents",
   "title_sidebar": "Contents",
   "toc_cell": false,
   "toc_position": {},
   "toc_section_display": true,
   "toc_window_display": true
  }
 },
 "nbformat": 4,
 "nbformat_minor": 5
}
